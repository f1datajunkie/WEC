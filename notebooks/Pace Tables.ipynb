{
 "cells": [
  {
   "cell_type": "markdown",
   "metadata": {},
   "source": [
    "# Pace Tables\n",
    "\n",
    "The race history chart provides a useful way of reviewing the evolution of a race, but sometimes it can be hard to read off how much faster or slower one car is than another at any particular point in a race.\n",
    "\n",
    "*Pace tables* and *pace charts* are an attempt to try to highlight pace differences for drivers on each lap of the race."
   ]
  },
  {
   "cell_type": "markdown",
   "metadata": {},
   "source": [
    "## Pace Tables\n",
    "\n",
    "*Pace tables* use driver relative rebased laptime deltas to show the pace difference for a named driver relative to other drivers.\n",
    "\n",
    "Pace may be given as a speed delta (in terms of s / km difference) or as a laptime delta.\n",
    "\n",
    "The s / km pace is given as:\n",
    "\n",
    "`laptime_delta / circuit length`"
   ]
  },
  {
   "cell_type": "code",
   "execution_count": 1,
   "metadata": {},
   "outputs": [],
   "source": [
    "%matplotlib inline\n",
    "\n",
    "import pandas as pd"
   ]
  },
  {
   "cell_type": "code",
   "execution_count": 2,
   "metadata": {},
   "outputs": [],
   "source": [
    "url = 'http://fiawec.alkamelsystems.com/Results/08_2018-2019/07_SPA%20FRANCORCHAMPS/267_FIA%20WEC/201905041330_Race/Hour%206/23_Analysis_Race_Hour%206.CSV'\n"
   ]
  },
  {
   "cell_type": "code",
   "execution_count": 113,
   "metadata": {},
   "outputs": [
    {
     "data": {
      "text/html": [
       "<div>\n",
       "<style scoped>\n",
       "    .dataframe tbody tr th:only-of-type {\n",
       "        vertical-align: middle;\n",
       "    }\n",
       "\n",
       "    .dataframe tbody tr th {\n",
       "        vertical-align: top;\n",
       "    }\n",
       "\n",
       "    .dataframe thead th {\n",
       "        text-align: right;\n",
       "    }\n",
       "</style>\n",
       "<table border=\"1\" class=\"dataframe\">\n",
       "  <thead>\n",
       "    <tr style=\"text-align: right;\">\n",
       "      <th></th>\n",
       "      <th>NUMBER</th>\n",
       "      <th>DRIVER_NUMBER</th>\n",
       "      <th>LAP_NUMBER</th>\n",
       "      <th>LAP_TIME</th>\n",
       "      <th>LAP_IMPROVEMENT</th>\n",
       "      <th>CROSSING_FINISH_LINE_IN_PIT</th>\n",
       "      <th>S1</th>\n",
       "      <th>S1_IMPROVEMENT</th>\n",
       "      <th>S2</th>\n",
       "      <th>S2_IMPROVEMENT</th>\n",
       "      <th>...</th>\n",
       "      <th>CLASS</th>\n",
       "      <th>GROUP</th>\n",
       "      <th>TEAM</th>\n",
       "      <th>MANUFACTURER</th>\n",
       "      <th>LAP_TIME_S</th>\n",
       "      <th>ELAPSED_S</th>\n",
       "      <th>PIT_TIME_S</th>\n",
       "      <th>POS</th>\n",
       "      <th>leader</th>\n",
       "      <th>LEAD_LAP_NUMBER</th>\n",
       "    </tr>\n",
       "  </thead>\n",
       "  <tbody>\n",
       "    <tr>\n",
       "      <th>2381</th>\n",
       "      <td>7</td>\n",
       "      <td>1</td>\n",
       "      <td>1</td>\n",
       "      <td>2:00.155</td>\n",
       "      <td>0</td>\n",
       "      <td>NaN</td>\n",
       "      <td>33.767</td>\n",
       "      <td>0</td>\n",
       "      <td>56.631</td>\n",
       "      <td>0</td>\n",
       "      <td>...</td>\n",
       "      <td>LMP1</td>\n",
       "      <td>H</td>\n",
       "      <td>Toyota Gazoo Racing</td>\n",
       "      <td>Toyota</td>\n",
       "      <td>120.155</td>\n",
       "      <td>120.155</td>\n",
       "      <td>NaN</td>\n",
       "      <td>1.0</td>\n",
       "      <td>True</td>\n",
       "      <td>1</td>\n",
       "    </tr>\n",
       "    <tr>\n",
       "      <th>2876</th>\n",
       "      <td>8</td>\n",
       "      <td>1</td>\n",
       "      <td>1</td>\n",
       "      <td>2:01.977</td>\n",
       "      <td>0</td>\n",
       "      <td>NaN</td>\n",
       "      <td>34.280</td>\n",
       "      <td>0</td>\n",
       "      <td>57.610</td>\n",
       "      <td>0</td>\n",
       "      <td>...</td>\n",
       "      <td>LMP1</td>\n",
       "      <td>H</td>\n",
       "      <td>Toyota Gazoo Racing</td>\n",
       "      <td>Toyota</td>\n",
       "      <td>121.977</td>\n",
       "      <td>121.977</td>\n",
       "      <td>NaN</td>\n",
       "      <td>2.0</td>\n",
       "      <td>False</td>\n",
       "      <td>1</td>\n",
       "    </tr>\n",
       "    <tr>\n",
       "      <th>262</th>\n",
       "      <td>17</td>\n",
       "      <td>1</td>\n",
       "      <td>1</td>\n",
       "      <td>2:03.259</td>\n",
       "      <td>0</td>\n",
       "      <td>NaN</td>\n",
       "      <td>35.742</td>\n",
       "      <td>0</td>\n",
       "      <td>56.454</td>\n",
       "      <td>0</td>\n",
       "      <td>...</td>\n",
       "      <td>LMP1</td>\n",
       "      <td>NaN</td>\n",
       "      <td>SMP Racing</td>\n",
       "      <td>BR Engineering</td>\n",
       "      <td>123.259</td>\n",
       "      <td>123.259</td>\n",
       "      <td>NaN</td>\n",
       "      <td>3.0</td>\n",
       "      <td>False</td>\n",
       "      <td>1</td>\n",
       "    </tr>\n",
       "    <tr>\n",
       "      <th>777</th>\n",
       "      <td>3</td>\n",
       "      <td>2</td>\n",
       "      <td>1</td>\n",
       "      <td>2:03.739</td>\n",
       "      <td>0</td>\n",
       "      <td>NaN</td>\n",
       "      <td>36.035</td>\n",
       "      <td>0</td>\n",
       "      <td>56.644</td>\n",
       "      <td>0</td>\n",
       "      <td>...</td>\n",
       "      <td>LMP1</td>\n",
       "      <td>NaN</td>\n",
       "      <td>Rebellion Racing</td>\n",
       "      <td>Rebellion</td>\n",
       "      <td>123.739</td>\n",
       "      <td>123.739</td>\n",
       "      <td>NaN</td>\n",
       "      <td>4.0</td>\n",
       "      <td>False</td>\n",
       "      <td>1</td>\n",
       "    </tr>\n",
       "    <tr>\n",
       "      <th>130</th>\n",
       "      <td>11</td>\n",
       "      <td>3</td>\n",
       "      <td>1</td>\n",
       "      <td>2:05.631</td>\n",
       "      <td>0</td>\n",
       "      <td>NaN</td>\n",
       "      <td>37.247</td>\n",
       "      <td>0</td>\n",
       "      <td>57.103</td>\n",
       "      <td>0</td>\n",
       "      <td>...</td>\n",
       "      <td>LMP1</td>\n",
       "      <td>NaN</td>\n",
       "      <td>SMP Racing</td>\n",
       "      <td>BR Engineering</td>\n",
       "      <td>125.631</td>\n",
       "      <td>125.631</td>\n",
       "      <td>NaN</td>\n",
       "      <td>5.0</td>\n",
       "      <td>False</td>\n",
       "      <td>1</td>\n",
       "    </tr>\n",
       "  </tbody>\n",
       "</table>\n",
       "<p>5 rows × 31 columns</p>\n",
       "</div>"
      ],
      "text/plain": [
       "     NUMBER DRIVER_NUMBER  LAP_NUMBER  LAP_TIME  LAP_IMPROVEMENT  \\\n",
       "2381      7             1           1  2:00.155                0   \n",
       "2876      8             1           1  2:01.977                0   \n",
       "262      17             1           1  2:03.259                0   \n",
       "777       3             2           1  2:03.739                0   \n",
       "130      11             3           1  2:05.631                0   \n",
       "\n",
       "     CROSSING_FINISH_LINE_IN_PIT      S1  S1_IMPROVEMENT      S2  \\\n",
       "2381                         NaN  33.767               0  56.631   \n",
       "2876                         NaN  34.280               0  57.610   \n",
       "262                          NaN  35.742               0  56.454   \n",
       "777                          NaN  36.035               0  56.644   \n",
       "130                          NaN  37.247               0  57.103   \n",
       "\n",
       "      S2_IMPROVEMENT  ... CLASS  GROUP                 TEAM    MANUFACTURER  \\\n",
       "2381               0  ...  LMP1      H  Toyota Gazoo Racing          Toyota   \n",
       "2876               0  ...  LMP1      H  Toyota Gazoo Racing          Toyota   \n",
       "262                0  ...  LMP1    NaN           SMP Racing  BR Engineering   \n",
       "777                0  ...  LMP1    NaN     Rebellion Racing       Rebellion   \n",
       "130                0  ...  LMP1    NaN           SMP Racing  BR Engineering   \n",
       "\n",
       "     LAP_TIME_S ELAPSED_S PIT_TIME_S  POS  leader LEAD_LAP_NUMBER  \n",
       "2381    120.155   120.155        NaN  1.0    True               1  \n",
       "2876    121.977   121.977        NaN  2.0   False               1  \n",
       "262     123.259   123.259        NaN  3.0   False               1  \n",
       "777     123.739   123.739        NaN  4.0   False               1  \n",
       "130     125.631   125.631        NaN  5.0   False               1  \n",
       "\n",
       "[5 rows x 31 columns]"
      ]
     },
     "execution_count": 113,
     "metadata": {},
     "output_type": "execute_result"
    }
   ],
   "source": [
    "laptimes = pd.read_csv(url, sep=';').dropna(how='all', axis=1)\n",
    "laptimes.columns = [c.strip() for c in laptimes.columns]\n",
    "\n",
    "#Tidy the data a little... car and driver number are not numbers\n",
    "laptimes[['NUMBER','DRIVER_NUMBER']] = laptimes[['NUMBER','DRIVER_NUMBER']].astype(str)\n",
    "\n",
    "# Enrichment\n",
    "# Add the parent dir to the import path\n",
    "import sys\n",
    "sys.path.append(\"../py\")\n",
    "\n",
    "# Import contents of the utils.py package in the parent directory\n",
    "from utils import *\n",
    "\n",
    "# Get laptimes in seconds\n",
    "laptimes['LAP_TIME_S'] = laptimes['LAP_TIME'].apply(getTime)\n",
    "\n",
    "# Find accumulated time in seconds\n",
    "laptimes['ELAPSED_S']=laptimes['ELAPSED'].apply(getTime)\n",
    "laptimes['PIT_TIME_S']=laptimes['PIT_TIME'].apply(getTime)\n",
    "\n",
    "# Find position based on accumulated laptime\n",
    "laptimes = laptimes.sort_values('ELAPSED_S')\n",
    "laptimes['POS'] = laptimes.groupby('LAP_NUMBER')['ELAPSED_S'].rank()\n",
    "\n",
    "# Find leader naively\n",
    "laptimes['leader'] = laptimes['POS']==1\n",
    "\n",
    "# Find lead lap number\n",
    "laptimes['LEAD_LAP_NUMBER'] = laptimes['leader'].cumsum()\n",
    "\n",
    "laptimes.head()"
   ]
  },
  {
   "cell_type": "markdown",
   "metadata": {},
   "source": [
    "Lap time deltas can be calculated for each lap as follows, rebasing the deltas relative to the laptimes for a particular car as given by the `rebase` car number:"
   ]
  },
  {
   "cell_type": "code",
   "execution_count": 383,
   "metadata": {},
   "outputs": [
    {
     "data": {
      "text/html": [
       "<div>\n",
       "<style scoped>\n",
       "    .dataframe tbody tr th:only-of-type {\n",
       "        vertical-align: middle;\n",
       "    }\n",
       "\n",
       "    .dataframe tbody tr th {\n",
       "        vertical-align: top;\n",
       "    }\n",
       "\n",
       "    .dataframe thead th {\n",
       "        text-align: right;\n",
       "    }\n",
       "</style>\n",
       "<table border=\"1\" class=\"dataframe\">\n",
       "  <thead>\n",
       "    <tr style=\"text-align: right;\">\n",
       "      <th>LAP_NUMBER</th>\n",
       "      <th>1</th>\n",
       "      <th>2</th>\n",
       "      <th>3</th>\n",
       "      <th>4</th>\n",
       "      <th>5</th>\n",
       "      <th>6</th>\n",
       "      <th>7</th>\n",
       "      <th>8</th>\n",
       "      <th>9</th>\n",
       "      <th>10</th>\n",
       "      <th>...</th>\n",
       "      <th>124</th>\n",
       "      <th>125</th>\n",
       "      <th>126</th>\n",
       "      <th>127</th>\n",
       "      <th>128</th>\n",
       "      <th>129</th>\n",
       "      <th>130</th>\n",
       "      <th>131</th>\n",
       "      <th>132</th>\n",
       "      <th>133</th>\n",
       "    </tr>\n",
       "    <tr>\n",
       "      <th>NUMBER</th>\n",
       "      <th></th>\n",
       "      <th></th>\n",
       "      <th></th>\n",
       "      <th></th>\n",
       "      <th></th>\n",
       "      <th></th>\n",
       "      <th></th>\n",
       "      <th></th>\n",
       "      <th></th>\n",
       "      <th></th>\n",
       "      <th></th>\n",
       "      <th></th>\n",
       "      <th></th>\n",
       "      <th></th>\n",
       "      <th></th>\n",
       "      <th></th>\n",
       "      <th></th>\n",
       "      <th></th>\n",
       "      <th></th>\n",
       "      <th></th>\n",
       "      <th></th>\n",
       "    </tr>\n",
       "  </thead>\n",
       "  <tbody>\n",
       "    <tr>\n",
       "      <th>1</th>\n",
       "      <td>4.372</td>\n",
       "      <td>2.361</td>\n",
       "      <td>3.374</td>\n",
       "      <td>-7.484</td>\n",
       "      <td>5.685</td>\n",
       "      <td>3.643</td>\n",
       "      <td>4.113</td>\n",
       "      <td>3.952</td>\n",
       "      <td>3.698</td>\n",
       "      <td>11.731</td>\n",
       "      <td>...</td>\n",
       "      <td>42.057</td>\n",
       "      <td>146.686</td>\n",
       "      <td>129.539</td>\n",
       "      <td>84.862</td>\n",
       "      <td>-80.073</td>\n",
       "      <td>-115.998</td>\n",
       "      <td>-46.946</td>\n",
       "      <td>NaN</td>\n",
       "      <td>NaN</td>\n",
       "      <td>NaN</td>\n",
       "    </tr>\n",
       "    <tr>\n",
       "      <th>11</th>\n",
       "      <td>3.654</td>\n",
       "      <td>2.387</td>\n",
       "      <td>-5.218</td>\n",
       "      <td>-34.390</td>\n",
       "      <td>40.722</td>\n",
       "      <td>2.706</td>\n",
       "      <td>2.247</td>\n",
       "      <td>0.580</td>\n",
       "      <td>0.779</td>\n",
       "      <td>-6.233</td>\n",
       "      <td>...</td>\n",
       "      <td>14.039</td>\n",
       "      <td>32.952</td>\n",
       "      <td>6.204</td>\n",
       "      <td>31.620</td>\n",
       "      <td>-37.441</td>\n",
       "      <td>-59.601</td>\n",
       "      <td>-47.800</td>\n",
       "      <td>-9.067</td>\n",
       "      <td>-6.163</td>\n",
       "      <td>NaN</td>\n",
       "    </tr>\n",
       "    <tr>\n",
       "      <th>17</th>\n",
       "      <td>1.282</td>\n",
       "      <td>2.157</td>\n",
       "      <td>-4.018</td>\n",
       "      <td>-34.666</td>\n",
       "      <td>47.856</td>\n",
       "      <td>4.289</td>\n",
       "      <td>3.719</td>\n",
       "      <td>1.460</td>\n",
       "      <td>3.561</td>\n",
       "      <td>10.756</td>\n",
       "      <td>...</td>\n",
       "      <td>13.925</td>\n",
       "      <td>61.330</td>\n",
       "      <td>18.359</td>\n",
       "      <td>97.281</td>\n",
       "      <td>-30.620</td>\n",
       "      <td>-107.970</td>\n",
       "      <td>-59.274</td>\n",
       "      <td>-7.974</td>\n",
       "      <td>NaN</td>\n",
       "      <td>NaN</td>\n",
       "    </tr>\n",
       "    <tr>\n",
       "      <th>26</th>\n",
       "      <td>8.227</td>\n",
       "      <td>6.972</td>\n",
       "      <td>5.583</td>\n",
       "      <td>-10.291</td>\n",
       "      <td>4.812</td>\n",
       "      <td>5.457</td>\n",
       "      <td>5.744</td>\n",
       "      <td>1.153</td>\n",
       "      <td>5.188</td>\n",
       "      <td>6.336</td>\n",
       "      <td>...</td>\n",
       "      <td>66.999</td>\n",
       "      <td>133.632</td>\n",
       "      <td>71.101</td>\n",
       "      <td>37.932</td>\n",
       "      <td>-90.136</td>\n",
       "      <td>-118.294</td>\n",
       "      <td>NaN</td>\n",
       "      <td>NaN</td>\n",
       "      <td>NaN</td>\n",
       "      <td>NaN</td>\n",
       "    </tr>\n",
       "    <tr>\n",
       "      <th>28</th>\n",
       "      <td>10.864</td>\n",
       "      <td>9.560</td>\n",
       "      <td>9.018</td>\n",
       "      <td>-13.359</td>\n",
       "      <td>3.764</td>\n",
       "      <td>6.165</td>\n",
       "      <td>5.963</td>\n",
       "      <td>0.701</td>\n",
       "      <td>2.509</td>\n",
       "      <td>7.228</td>\n",
       "      <td>...</td>\n",
       "      <td>62.199</td>\n",
       "      <td>39.627</td>\n",
       "      <td>-5.653</td>\n",
       "      <td>13.932</td>\n",
       "      <td>-97.131</td>\n",
       "      <td>NaN</td>\n",
       "      <td>NaN</td>\n",
       "      <td>NaN</td>\n",
       "      <td>NaN</td>\n",
       "      <td>NaN</td>\n",
       "    </tr>\n",
       "  </tbody>\n",
       "</table>\n",
       "<p>5 rows × 133 columns</p>\n",
       "</div>"
      ],
      "text/plain": [
       "LAP_NUMBER     1      2      3       4       5      6      7      8      9    \\\n",
       "NUMBER                                                                         \n",
       "1            4.372  2.361  3.374  -7.484   5.685  3.643  4.113  3.952  3.698   \n",
       "11           3.654  2.387 -5.218 -34.390  40.722  2.706  2.247  0.580  0.779   \n",
       "17           1.282  2.157 -4.018 -34.666  47.856  4.289  3.719  1.460  3.561   \n",
       "26           8.227  6.972  5.583 -10.291   4.812  5.457  5.744  1.153  5.188   \n",
       "28          10.864  9.560  9.018 -13.359   3.764  6.165  5.963  0.701  2.509   \n",
       "\n",
       "LAP_NUMBER     10   ...     124      125      126     127     128      129  \\\n",
       "NUMBER              ...                                                      \n",
       "1           11.731  ...  42.057  146.686  129.539  84.862 -80.073 -115.998   \n",
       "11          -6.233  ...  14.039   32.952    6.204  31.620 -37.441  -59.601   \n",
       "17          10.756  ...  13.925   61.330   18.359  97.281 -30.620 -107.970   \n",
       "26           6.336  ...  66.999  133.632   71.101  37.932 -90.136 -118.294   \n",
       "28           7.228  ...  62.199   39.627   -5.653  13.932 -97.131      NaN   \n",
       "\n",
       "LAP_NUMBER     130    131    132  133  \n",
       "NUMBER                                 \n",
       "1          -46.946    NaN    NaN  NaN  \n",
       "11         -47.800 -9.067 -6.163  NaN  \n",
       "17         -59.274 -7.974    NaN  NaN  \n",
       "26             NaN    NaN    NaN  NaN  \n",
       "28             NaN    NaN    NaN  NaN  \n",
       "\n",
       "[5 rows x 133 columns]"
      ]
     },
     "execution_count": 383,
     "metadata": {},
     "output_type": "execute_result"
    }
   ],
   "source": [
    "laptimes_wide = laptimes.pivot(index='NUMBER',\n",
    "                                columns='LAP_NUMBER',\n",
    "                                values='LAP_TIME_S')\n",
    "\n",
    "rebase = \"8\" # Find lap time deltas to the corresponding lap time for this car\n",
    "\n",
    "pace = (laptimes_wide - laptimes_wide.loc[rebase])\n",
    "pace.head()"
   ]
  },
  {
   "cell_type": "markdown",
   "metadata": {},
   "source": [
    "We can style the table to show how much time the rebased car made or lost on each lap compared to other cars."
   ]
  },
  {
   "cell_type": "code",
   "execution_count": 385,
   "metadata": {},
   "outputs": [
    {
     "data": {
      "text/html": [
       "<style  type=\"text/css\" >\n",
       "    #T_a9c2c82a_bb9a_11e9_8cf9_6a0003966080row0_col0 {\n",
       "            width:  10em;\n",
       "             height:  80%;\n",
       "            background:  linear-gradient(90deg, transparent 50.0%, #5fba7d 50.0%, #5fba7d 56.0%, transparent 56.0%);\n",
       "        }    #T_a9c2c82a_bb9a_11e9_8cf9_6a0003966080row0_col1 {\n",
       "            width:  10em;\n",
       "             height:  80%;\n",
       "            background:  linear-gradient(90deg, transparent 50.0%, #5fba7d 50.0%, #5fba7d 54.5%, transparent 54.5%);\n",
       "        }    #T_a9c2c82a_bb9a_11e9_8cf9_6a0003966080row1_col0 {\n",
       "            width:  10em;\n",
       "             height:  80%;\n",
       "            background:  linear-gradient(90deg, transparent 50.0%, #5fba7d 50.0%, #5fba7d 57.3%, transparent 57.3%);\n",
       "        }    #T_a9c2c82a_bb9a_11e9_8cf9_6a0003966080row1_col1 {\n",
       "            width:  10em;\n",
       "             height:  80%;\n",
       "            background:  linear-gradient(90deg, transparent 50.0%, #5fba7d 50.0%, #5fba7d 52.9%, transparent 52.9%);\n",
       "        }    #T_a9c2c82a_bb9a_11e9_8cf9_6a0003966080row2_col0 {\n",
       "            width:  10em;\n",
       "             height:  80%;\n",
       "            background:  linear-gradient(90deg, transparent 50.0%, #5fba7d 50.0%, #5fba7d 53.0%, transparent 53.0%);\n",
       "        }    #T_a9c2c82a_bb9a_11e9_8cf9_6a0003966080row2_col1 {\n",
       "            width:  10em;\n",
       "             height:  80%;\n",
       "            background:  linear-gradient(90deg, transparent 43.6%, #d65f5f 43.6%, #d65f5f 50.0%, transparent 50.0%);\n",
       "        }    #T_a9c2c82a_bb9a_11e9_8cf9_6a0003966080row3_col0 {\n",
       "            width:  10em;\n",
       "             height:  80%;\n",
       "            background:  linear-gradient(90deg,#d65f5f 50.0%, transparent 50.0%);\n",
       "        }    #T_a9c2c82a_bb9a_11e9_8cf9_6a0003966080row3_col1 {\n",
       "            width:  10em;\n",
       "             height:  80%;\n",
       "            background:  linear-gradient(90deg, transparent 7.8%, #d65f5f 7.8%, #d65f5f 50.0%, transparent 50.0%);\n",
       "        }    #T_a9c2c82a_bb9a_11e9_8cf9_6a0003966080row4_col0 {\n",
       "            width:  10em;\n",
       "             height:  80%;\n",
       "            background:  linear-gradient(90deg, transparent 48.5%, #d65f5f 48.5%, #d65f5f 50.0%, transparent 50.0%);\n",
       "        }    #T_a9c2c82a_bb9a_11e9_8cf9_6a0003966080row4_col1 {\n",
       "            width:  10em;\n",
       "             height:  80%;\n",
       "            background:  linear-gradient(90deg, transparent 50.0%, #5fba7d 50.0%, #5fba7d 100.0%, transparent 100.0%);\n",
       "        }    #T_a9c2c82a_bb9a_11e9_8cf9_6a0003966080row5_col0 {\n",
       "            width:  10em;\n",
       "             height:  80%;\n",
       "            background:  linear-gradient(90deg, transparent 50.0%, #5fba7d 50.0%, #5fba7d 58.6%, transparent 58.6%);\n",
       "        }    #T_a9c2c82a_bb9a_11e9_8cf9_6a0003966080row5_col1 {\n",
       "            width:  10em;\n",
       "             height:  80%;\n",
       "            background:  linear-gradient(90deg, transparent 50.0%, #5fba7d 50.0%, #5fba7d 53.3%, transparent 53.3%);\n",
       "        }    #T_a9c2c82a_bb9a_11e9_8cf9_6a0003966080row6_col0 {\n",
       "            width:  10em;\n",
       "             height:  80%;\n",
       "            background:  linear-gradient(90deg, transparent 50.0%, #5fba7d 50.0%, #5fba7d 65.9%, transparent 65.9%);\n",
       "        }    #T_a9c2c82a_bb9a_11e9_8cf9_6a0003966080row6_col1 {\n",
       "            width:  10em;\n",
       "             height:  80%;\n",
       "            background:  linear-gradient(90deg, transparent 50.0%, #5fba7d 50.0%, #5fba7d 52.8%, transparent 52.8%);\n",
       "        }    #T_a9c2c82a_bb9a_11e9_8cf9_6a0003966080row7_col0 {\n",
       "            width:  10em;\n",
       "             height:  80%;\n",
       "            background:  linear-gradient(90deg, transparent 50.0%, #5fba7d 50.0%, #5fba7d 52.1%, transparent 52.1%);\n",
       "        }    #T_a9c2c82a_bb9a_11e9_8cf9_6a0003966080row7_col1 {\n",
       "            width:  10em;\n",
       "             height:  80%;\n",
       "            background:  linear-gradient(90deg, transparent 50.0%, #5fba7d 50.0%, #5fba7d 50.7%, transparent 50.7%);\n",
       "        }    #T_a9c2c82a_bb9a_11e9_8cf9_6a0003966080row8_col0 {\n",
       "            width:  10em;\n",
       "             height:  80%;\n",
       "            background:  linear-gradient(90deg, transparent 50.0%, #5fba7d 50.0%, #5fba7d 52.8%, transparent 52.8%);\n",
       "        }    #T_a9c2c82a_bb9a_11e9_8cf9_6a0003966080row8_col1 {\n",
       "            width:  10em;\n",
       "             height:  80%;\n",
       "            background:  linear-gradient(90deg, transparent 50.0%, #5fba7d 50.0%, #5fba7d 51.0%, transparent 51.0%);\n",
       "        }    #T_a9c2c82a_bb9a_11e9_8cf9_6a0003966080row9_col0 {\n",
       "            width:  10em;\n",
       "             height:  80%;\n",
       "            background:  linear-gradient(90deg, transparent 50.0%, #5fba7d 50.0%, #5fba7d 54.2%, transparent 54.2%);\n",
       "        }    #T_a9c2c82a_bb9a_11e9_8cf9_6a0003966080row9_col1 {\n",
       "            width:  10em;\n",
       "             height:  80%;\n",
       "            background:  linear-gradient(90deg, transparent 42.3%, #d65f5f 42.3%, #d65f5f 50.0%, transparent 50.0%);\n",
       "        }    #T_a9c2c82a_bb9a_11e9_8cf9_6a0003966080row10_col0 {\n",
       "            width:  10em;\n",
       "             height:  80%;\n",
       "            background:  linear-gradient(90deg, transparent 47.3%, #d65f5f 47.3%, #d65f5f 50.0%, transparent 50.0%);\n",
       "        }    #T_a9c2c82a_bb9a_11e9_8cf9_6a0003966080row10_col1 {\n",
       "            width:  10em;\n",
       "             height:  80%;\n",
       "            background:  linear-gradient(90deg, transparent 46.0%, #d65f5f 46.0%, #d65f5f 50.0%, transparent 50.0%);\n",
       "        }    #T_a9c2c82a_bb9a_11e9_8cf9_6a0003966080row11_col0 {\n",
       "            width:  10em;\n",
       "             height:  80%;\n",
       "            background:  linear-gradient(90deg, transparent 50.0%, #5fba7d 50.0%, #5fba7d 52.3%, transparent 52.3%);\n",
       "        }    #T_a9c2c82a_bb9a_11e9_8cf9_6a0003966080row11_col1 {\n",
       "            width:  10em;\n",
       "             height:  80%;\n",
       "            background:  linear-gradient(90deg, transparent 46.7%, #d65f5f 46.7%, #d65f5f 50.0%, transparent 50.0%);\n",
       "        }    #T_a9c2c82a_bb9a_11e9_8cf9_6a0003966080row12_col0 {\n",
       "            width:  10em;\n",
       "             height:  80%;\n",
       "            background:  linear-gradient(90deg, transparent 50.0%, #5fba7d 50.0%, #5fba7d 50.4%, transparent 50.4%);\n",
       "        }    #T_a9c2c82a_bb9a_11e9_8cf9_6a0003966080row12_col1 {\n",
       "            width:  10em;\n",
       "             height:  80%;\n",
       "            background:  linear-gradient(90deg, transparent 50.0%, #5fba7d 50.0%, #5fba7d 51.6%, transparent 51.6%);\n",
       "        }    #T_a9c2c82a_bb9a_11e9_8cf9_6a0003966080row13_col0 {\n",
       "            width:  10em;\n",
       "             height:  80%;\n",
       "            background:  linear-gradient(90deg, transparent 50.0%, #5fba7d 50.0%, #5fba7d 50.8%, transparent 50.8%);\n",
       "        }    #T_a9c2c82a_bb9a_11e9_8cf9_6a0003966080row13_col1 {\n",
       "            width:  10em;\n",
       "             height:  80%;\n",
       "            background:  linear-gradient(90deg, transparent 49.4%, #d65f5f 49.4%, #d65f5f 50.0%, transparent 50.0%);\n",
       "        }    #T_a9c2c82a_bb9a_11e9_8cf9_6a0003966080row14_col0 {\n",
       "            width:  10em;\n",
       "             height:  80%;\n",
       "            background:  linear-gradient(90deg, transparent 49.2%, #d65f5f 49.2%, #d65f5f 50.0%, transparent 50.0%);\n",
       "        }    #T_a9c2c82a_bb9a_11e9_8cf9_6a0003966080row14_col1 {\n",
       "            width:  10em;\n",
       "             height:  80%;\n",
       "            background:  linear-gradient(90deg, transparent 50.0%, #5fba7d 50.0%, #5fba7d 50.0%, transparent 50.0%);\n",
       "        }    #T_a9c2c82a_bb9a_11e9_8cf9_6a0003966080row15_col0 {\n",
       "            width:  10em;\n",
       "             height:  80%;\n",
       "            background:  linear-gradient(90deg, transparent 50.0%, #5fba7d 50.0%, #5fba7d 50.0%, transparent 50.0%);\n",
       "        }    #T_a9c2c82a_bb9a_11e9_8cf9_6a0003966080row15_col1 {\n",
       "            width:  10em;\n",
       "             height:  80%;\n",
       "            background:  linear-gradient(90deg, transparent 49.4%, #d65f5f 49.4%, #d65f5f 50.0%, transparent 50.0%);\n",
       "        }    #T_a9c2c82a_bb9a_11e9_8cf9_6a0003966080row16_col0 {\n",
       "            width:  10em;\n",
       "             height:  80%;\n",
       "            background:  linear-gradient(90deg, transparent 50.0%, #5fba7d 50.0%, #5fba7d 50.8%, transparent 50.8%);\n",
       "        }    #T_a9c2c82a_bb9a_11e9_8cf9_6a0003966080row16_col1 {\n",
       "            width:  10em;\n",
       "             height:  80%;\n",
       "            background:  linear-gradient(90deg, transparent 49.1%, #d65f5f 49.1%, #d65f5f 50.0%, transparent 50.0%);\n",
       "        }    #T_a9c2c82a_bb9a_11e9_8cf9_6a0003966080row17_col0 {\n",
       "            width:  10em;\n",
       "             height:  80%;\n",
       "            background:  linear-gradient(90deg, transparent 50.0%, #5fba7d 50.0%, #5fba7d 66.0%, transparent 66.0%);\n",
       "        }    #T_a9c2c82a_bb9a_11e9_8cf9_6a0003966080row17_col1 {\n",
       "            width:  10em;\n",
       "             height:  80%;\n",
       "            background:  linear-gradient(90deg, transparent 50.0%, #5fba7d 50.0%, #5fba7d 55.6%, transparent 55.6%);\n",
       "        }    #T_a9c2c82a_bb9a_11e9_8cf9_6a0003966080row18_col0 {\n",
       "            width:  10em;\n",
       "             height:  80%;\n",
       "            background:  linear-gradient(90deg, transparent 50.0%, #5fba7d 50.0%, #5fba7d 67.9%, transparent 67.9%);\n",
       "        }    #T_a9c2c82a_bb9a_11e9_8cf9_6a0003966080row18_col1 {\n",
       "            width:  10em;\n",
       "             height:  80%;\n",
       "            background:  linear-gradient(90deg, transparent 50.0%, #5fba7d 50.0%, #5fba7d 55.7%, transparent 55.7%);\n",
       "        }    #T_a9c2c82a_bb9a_11e9_8cf9_6a0003966080row19_col0 {\n",
       "            width:  10em;\n",
       "             height:  80%;\n",
       "            background:  linear-gradient(90deg, transparent 50.0%, #5fba7d 50.0%, #5fba7d 72.5%, transparent 72.5%);\n",
       "        }    #T_a9c2c82a_bb9a_11e9_8cf9_6a0003966080row19_col1 {\n",
       "            width:  10em;\n",
       "             height:  80%;\n",
       "            background:  linear-gradient(90deg, transparent 50.0%, #5fba7d 50.0%, #5fba7d 55.1%, transparent 55.1%);\n",
       "        }</style><table id=\"T_a9c2c82a_bb9a_11e9_8cf9_6a0003966080\" ><thead>    <tr>        <th class=\"index_name level0\" >NUMBER</th>        <th class=\"col_heading level0 col0\" >3</th>        <th class=\"col_heading level0 col1\" >11</th>    </tr>    <tr>        <th class=\"index_name level0\" >LAP_NUMBER</th>        <th class=\"blank\" ></th>        <th class=\"blank\" ></th>    </tr></thead><tbody>\n",
       "                <tr>\n",
       "                        <th id=\"T_a9c2c82a_bb9a_11e9_8cf9_6a0003966080level0_row0\" class=\"row_heading level0 row0\" >1</th>\n",
       "                        <td id=\"T_a9c2c82a_bb9a_11e9_8cf9_6a0003966080row0_col0\" class=\"data row0 col0\" >1.762</td>\n",
       "                        <td id=\"T_a9c2c82a_bb9a_11e9_8cf9_6a0003966080row0_col1\" class=\"data row0 col1\" >3.654</td>\n",
       "            </tr>\n",
       "            <tr>\n",
       "                        <th id=\"T_a9c2c82a_bb9a_11e9_8cf9_6a0003966080level0_row1\" class=\"row_heading level0 row1\" >2</th>\n",
       "                        <td id=\"T_a9c2c82a_bb9a_11e9_8cf9_6a0003966080row1_col0\" class=\"data row1 col0\" >2.137</td>\n",
       "                        <td id=\"T_a9c2c82a_bb9a_11e9_8cf9_6a0003966080row1_col1\" class=\"data row1 col1\" >2.387</td>\n",
       "            </tr>\n",
       "            <tr>\n",
       "                        <th id=\"T_a9c2c82a_bb9a_11e9_8cf9_6a0003966080level0_row2\" class=\"row_heading level0 row2\" >3</th>\n",
       "                        <td id=\"T_a9c2c82a_bb9a_11e9_8cf9_6a0003966080row2_col0\" class=\"data row2 col0\" >0.872</td>\n",
       "                        <td id=\"T_a9c2c82a_bb9a_11e9_8cf9_6a0003966080row2_col1\" class=\"data row2 col1\" >-5.218</td>\n",
       "            </tr>\n",
       "            <tr>\n",
       "                        <th id=\"T_a9c2c82a_bb9a_11e9_8cf9_6a0003966080level0_row3\" class=\"row_heading level0 row3\" >4</th>\n",
       "                        <td id=\"T_a9c2c82a_bb9a_11e9_8cf9_6a0003966080row3_col0\" class=\"data row3 col0\" >-14.597</td>\n",
       "                        <td id=\"T_a9c2c82a_bb9a_11e9_8cf9_6a0003966080row3_col1\" class=\"data row3 col1\" >-34.39</td>\n",
       "            </tr>\n",
       "            <tr>\n",
       "                        <th id=\"T_a9c2c82a_bb9a_11e9_8cf9_6a0003966080level0_row4\" class=\"row_heading level0 row4\" >5</th>\n",
       "                        <td id=\"T_a9c2c82a_bb9a_11e9_8cf9_6a0003966080row4_col0\" class=\"data row4 col0\" >-0.441</td>\n",
       "                        <td id=\"T_a9c2c82a_bb9a_11e9_8cf9_6a0003966080row4_col1\" class=\"data row4 col1\" >40.722</td>\n",
       "            </tr>\n",
       "            <tr>\n",
       "                        <th id=\"T_a9c2c82a_bb9a_11e9_8cf9_6a0003966080level0_row5\" class=\"row_heading level0 row5\" >6</th>\n",
       "                        <td id=\"T_a9c2c82a_bb9a_11e9_8cf9_6a0003966080row5_col0\" class=\"data row5 col0\" >2.517</td>\n",
       "                        <td id=\"T_a9c2c82a_bb9a_11e9_8cf9_6a0003966080row5_col1\" class=\"data row5 col1\" >2.706</td>\n",
       "            </tr>\n",
       "            <tr>\n",
       "                        <th id=\"T_a9c2c82a_bb9a_11e9_8cf9_6a0003966080level0_row6\" class=\"row_heading level0 row6\" >7</th>\n",
       "                        <td id=\"T_a9c2c82a_bb9a_11e9_8cf9_6a0003966080row6_col0\" class=\"data row6 col0\" >4.647</td>\n",
       "                        <td id=\"T_a9c2c82a_bb9a_11e9_8cf9_6a0003966080row6_col1\" class=\"data row6 col1\" >2.247</td>\n",
       "            </tr>\n",
       "            <tr>\n",
       "                        <th id=\"T_a9c2c82a_bb9a_11e9_8cf9_6a0003966080level0_row7\" class=\"row_heading level0 row7\" >8</th>\n",
       "                        <td id=\"T_a9c2c82a_bb9a_11e9_8cf9_6a0003966080row7_col0\" class=\"data row7 col0\" >0.62</td>\n",
       "                        <td id=\"T_a9c2c82a_bb9a_11e9_8cf9_6a0003966080row7_col1\" class=\"data row7 col1\" >0.58</td>\n",
       "            </tr>\n",
       "            <tr>\n",
       "                        <th id=\"T_a9c2c82a_bb9a_11e9_8cf9_6a0003966080level0_row8\" class=\"row_heading level0 row8\" >9</th>\n",
       "                        <td id=\"T_a9c2c82a_bb9a_11e9_8cf9_6a0003966080row8_col0\" class=\"data row8 col0\" >0.811</td>\n",
       "                        <td id=\"T_a9c2c82a_bb9a_11e9_8cf9_6a0003966080row8_col1\" class=\"data row8 col1\" >0.779</td>\n",
       "            </tr>\n",
       "            <tr>\n",
       "                        <th id=\"T_a9c2c82a_bb9a_11e9_8cf9_6a0003966080level0_row9\" class=\"row_heading level0 row9\" >10</th>\n",
       "                        <td id=\"T_a9c2c82a_bb9a_11e9_8cf9_6a0003966080row9_col0\" class=\"data row9 col0\" >1.224</td>\n",
       "                        <td id=\"T_a9c2c82a_bb9a_11e9_8cf9_6a0003966080row9_col1\" class=\"data row9 col1\" >-6.233</td>\n",
       "            </tr>\n",
       "            <tr>\n",
       "                        <th id=\"T_a9c2c82a_bb9a_11e9_8cf9_6a0003966080level0_row10\" class=\"row_heading level0 row10\" >11</th>\n",
       "                        <td id=\"T_a9c2c82a_bb9a_11e9_8cf9_6a0003966080row10_col0\" class=\"data row10 col0\" >-0.789</td>\n",
       "                        <td id=\"T_a9c2c82a_bb9a_11e9_8cf9_6a0003966080row10_col1\" class=\"data row10 col1\" >-3.245</td>\n",
       "            </tr>\n",
       "            <tr>\n",
       "                        <th id=\"T_a9c2c82a_bb9a_11e9_8cf9_6a0003966080level0_row11\" class=\"row_heading level0 row11\" >12</th>\n",
       "                        <td id=\"T_a9c2c82a_bb9a_11e9_8cf9_6a0003966080row11_col0\" class=\"data row11 col0\" >0.679</td>\n",
       "                        <td id=\"T_a9c2c82a_bb9a_11e9_8cf9_6a0003966080row11_col1\" class=\"data row11 col1\" >-2.713</td>\n",
       "            </tr>\n",
       "            <tr>\n",
       "                        <th id=\"T_a9c2c82a_bb9a_11e9_8cf9_6a0003966080level0_row12\" class=\"row_heading level0 row12\" >13</th>\n",
       "                        <td id=\"T_a9c2c82a_bb9a_11e9_8cf9_6a0003966080row12_col0\" class=\"data row12 col0\" >0.129</td>\n",
       "                        <td id=\"T_a9c2c82a_bb9a_11e9_8cf9_6a0003966080row12_col1\" class=\"data row12 col1\" >1.321</td>\n",
       "            </tr>\n",
       "            <tr>\n",
       "                        <th id=\"T_a9c2c82a_bb9a_11e9_8cf9_6a0003966080level0_row13\" class=\"row_heading level0 row13\" >14</th>\n",
       "                        <td id=\"T_a9c2c82a_bb9a_11e9_8cf9_6a0003966080row13_col0\" class=\"data row13 col0\" >0.23</td>\n",
       "                        <td id=\"T_a9c2c82a_bb9a_11e9_8cf9_6a0003966080row13_col1\" class=\"data row13 col1\" >-0.494</td>\n",
       "            </tr>\n",
       "            <tr>\n",
       "                        <th id=\"T_a9c2c82a_bb9a_11e9_8cf9_6a0003966080level0_row14\" class=\"row_heading level0 row14\" >15</th>\n",
       "                        <td id=\"T_a9c2c82a_bb9a_11e9_8cf9_6a0003966080row14_col0\" class=\"data row14 col0\" >-0.248</td>\n",
       "                        <td id=\"T_a9c2c82a_bb9a_11e9_8cf9_6a0003966080row14_col1\" class=\"data row14 col1\" >0.022</td>\n",
       "            </tr>\n",
       "            <tr>\n",
       "                        <th id=\"T_a9c2c82a_bb9a_11e9_8cf9_6a0003966080level0_row15\" class=\"row_heading level0 row15\" >16</th>\n",
       "                        <td id=\"T_a9c2c82a_bb9a_11e9_8cf9_6a0003966080row15_col0\" class=\"data row15 col0\" >0.002</td>\n",
       "                        <td id=\"T_a9c2c82a_bb9a_11e9_8cf9_6a0003966080row15_col1\" class=\"data row15 col1\" >-0.453</td>\n",
       "            </tr>\n",
       "            <tr>\n",
       "                        <th id=\"T_a9c2c82a_bb9a_11e9_8cf9_6a0003966080level0_row16\" class=\"row_heading level0 row16\" >17</th>\n",
       "                        <td id=\"T_a9c2c82a_bb9a_11e9_8cf9_6a0003966080row16_col0\" class=\"data row16 col0\" >0.231</td>\n",
       "                        <td id=\"T_a9c2c82a_bb9a_11e9_8cf9_6a0003966080row16_col1\" class=\"data row16 col1\" >-0.768</td>\n",
       "            </tr>\n",
       "            <tr>\n",
       "                        <th id=\"T_a9c2c82a_bb9a_11e9_8cf9_6a0003966080level0_row17\" class=\"row_heading level0 row17\" >18</th>\n",
       "                        <td id=\"T_a9c2c82a_bb9a_11e9_8cf9_6a0003966080row17_col0\" class=\"data row17 col0\" >4.666</td>\n",
       "                        <td id=\"T_a9c2c82a_bb9a_11e9_8cf9_6a0003966080row17_col1\" class=\"data row17 col1\" >4.541</td>\n",
       "            </tr>\n",
       "            <tr>\n",
       "                        <th id=\"T_a9c2c82a_bb9a_11e9_8cf9_6a0003966080level0_row18\" class=\"row_heading level0 row18\" >19</th>\n",
       "                        <td id=\"T_a9c2c82a_bb9a_11e9_8cf9_6a0003966080row18_col0\" class=\"data row18 col0\" >5.215</td>\n",
       "                        <td id=\"T_a9c2c82a_bb9a_11e9_8cf9_6a0003966080row18_col1\" class=\"data row18 col1\" >4.672</td>\n",
       "            </tr>\n",
       "            <tr>\n",
       "                        <th id=\"T_a9c2c82a_bb9a_11e9_8cf9_6a0003966080level0_row19\" class=\"row_heading level0 row19\" >20</th>\n",
       "                        <td id=\"T_a9c2c82a_bb9a_11e9_8cf9_6a0003966080row19_col0\" class=\"data row19 col0\" >6.582</td>\n",
       "                        <td id=\"T_a9c2c82a_bb9a_11e9_8cf9_6a0003966080row19_col1\" class=\"data row19 col1\" >4.175</td>\n",
       "            </tr>\n",
       "    </tbody></table>"
      ],
      "text/plain": [
       "<pandas.io.formats.style.Styler at 0x11a36c7f0>"
      ]
     },
     "execution_count": 385,
     "metadata": {},
     "output_type": "execute_result"
    }
   ],
   "source": [
    "#In a live notebook, this produces a styled bar chart within each cell\n",
    "pace.T[['3','11']].head(20).style.bar(align='zero', color=['#d65f5f', '#5fba7d'])"
   ]
  },
  {
   "cell_type": "markdown",
   "metadata": {},
   "source": [
    "An alternative but equivalent way of manipulating the data is to select on the basis of index value, and then transpose the dataframe."
   ]
  },
  {
   "cell_type": "code",
   "execution_count": 386,
   "metadata": {},
   "outputs": [
    {
     "data": {
      "text/html": [
       "<div>\n",
       "<style scoped>\n",
       "    .dataframe tbody tr th:only-of-type {\n",
       "        vertical-align: middle;\n",
       "    }\n",
       "\n",
       "    .dataframe tbody tr th {\n",
       "        vertical-align: top;\n",
       "    }\n",
       "\n",
       "    .dataframe thead th {\n",
       "        text-align: right;\n",
       "    }\n",
       "</style>\n",
       "<table border=\"1\" class=\"dataframe\">\n",
       "  <thead>\n",
       "    <tr style=\"text-align: right;\">\n",
       "      <th>NUMBER</th>\n",
       "      <th>8</th>\n",
       "      <th>3</th>\n",
       "      <th>11</th>\n",
       "    </tr>\n",
       "    <tr>\n",
       "      <th>LAP_NUMBER</th>\n",
       "      <th></th>\n",
       "      <th></th>\n",
       "      <th></th>\n",
       "    </tr>\n",
       "  </thead>\n",
       "  <tbody>\n",
       "    <tr>\n",
       "      <th>1</th>\n",
       "      <td>0.0</td>\n",
       "      <td>1.762</td>\n",
       "      <td>3.654</td>\n",
       "    </tr>\n",
       "    <tr>\n",
       "      <th>2</th>\n",
       "      <td>0.0</td>\n",
       "      <td>2.137</td>\n",
       "      <td>2.387</td>\n",
       "    </tr>\n",
       "    <tr>\n",
       "      <th>3</th>\n",
       "      <td>0.0</td>\n",
       "      <td>0.872</td>\n",
       "      <td>-5.218</td>\n",
       "    </tr>\n",
       "    <tr>\n",
       "      <th>4</th>\n",
       "      <td>0.0</td>\n",
       "      <td>-14.597</td>\n",
       "      <td>-34.390</td>\n",
       "    </tr>\n",
       "    <tr>\n",
       "      <th>5</th>\n",
       "      <td>0.0</td>\n",
       "      <td>-0.441</td>\n",
       "      <td>40.722</td>\n",
       "    </tr>\n",
       "  </tbody>\n",
       "</table>\n",
       "</div>"
      ],
      "text/plain": [
       "NUMBER        8       3      11\n",
       "LAP_NUMBER                     \n",
       "1           0.0   1.762   3.654\n",
       "2           0.0   2.137   2.387\n",
       "3           0.0   0.872  -5.218\n",
       "4           0.0 -14.597 -34.390\n",
       "5           0.0  -0.441  40.722"
      ]
     },
     "execution_count": 386,
     "metadata": {},
     "output_type": "execute_result"
    }
   ],
   "source": [
    "pace.loc[['8','3','11']].T.head()"
   ]
  },
  {
   "cell_type": "markdown",
   "metadata": {},
   "source": [
    "Data in this wide format, indexed by lapnumber and with columns containing rebased delta times on each lap for each car, can be plotted from directly:"
   ]
  },
  {
   "cell_type": "code",
   "execution_count": 118,
   "metadata": {},
   "outputs": [
    {
     "data": {
      "image/png": "[encoded data removed]",
      "text/plain": [
       "<Figure size 432x288 with 1 Axes>"
      ]
     },
     "metadata": {
      "needs_background": "light"
     },
     "output_type": "display_data"
    }
   ],
   "source": [
    "pace.loc[['8','3','11']].T.plot();"
   ]
  },
  {
   "cell_type": "markdown",
   "metadata": {},
   "source": [
    "We can also generate the accumulated delta times for each car:"
   ]
  },
  {
   "cell_type": "code",
   "execution_count": 212,
   "metadata": {},
   "outputs": [
    {
     "data": {
      "text/html": [
       "<div>\n",
       "<style scoped>\n",
       "    .dataframe tbody tr th:only-of-type {\n",
       "        vertical-align: middle;\n",
       "    }\n",
       "\n",
       "    .dataframe tbody tr th {\n",
       "        vertical-align: top;\n",
       "    }\n",
       "\n",
       "    .dataframe thead th {\n",
       "        text-align: right;\n",
       "    }\n",
       "</style>\n",
       "<table border=\"1\" class=\"dataframe\">\n",
       "  <thead>\n",
       "    <tr style=\"text-align: right;\">\n",
       "      <th>NUMBER</th>\n",
       "      <th>8</th>\n",
       "      <th>3</th>\n",
       "      <th>11</th>\n",
       "    </tr>\n",
       "    <tr>\n",
       "      <th>LAP_NUMBER</th>\n",
       "      <th></th>\n",
       "      <th></th>\n",
       "      <th></th>\n",
       "    </tr>\n",
       "  </thead>\n",
       "  <tbody>\n",
       "    <tr>\n",
       "      <th>1</th>\n",
       "      <td>0.0</td>\n",
       "      <td>1.762</td>\n",
       "      <td>3.654</td>\n",
       "    </tr>\n",
       "    <tr>\n",
       "      <th>2</th>\n",
       "      <td>0.0</td>\n",
       "      <td>3.899</td>\n",
       "      <td>6.041</td>\n",
       "    </tr>\n",
       "    <tr>\n",
       "      <th>3</th>\n",
       "      <td>0.0</td>\n",
       "      <td>4.771</td>\n",
       "      <td>0.823</td>\n",
       "    </tr>\n",
       "    <tr>\n",
       "      <th>4</th>\n",
       "      <td>0.0</td>\n",
       "      <td>-9.826</td>\n",
       "      <td>-33.567</td>\n",
       "    </tr>\n",
       "    <tr>\n",
       "      <th>5</th>\n",
       "      <td>0.0</td>\n",
       "      <td>-10.267</td>\n",
       "      <td>7.155</td>\n",
       "    </tr>\n",
       "  </tbody>\n",
       "</table>\n",
       "</div>"
      ],
      "text/plain": [
       "NUMBER        8       3      11\n",
       "LAP_NUMBER                     \n",
       "1           0.0   1.762   3.654\n",
       "2           0.0   3.899   6.041\n",
       "3           0.0   4.771   0.823\n",
       "4           0.0  -9.826 -33.567\n",
       "5           0.0 -10.267   7.155"
      ]
     },
     "execution_count": 212,
     "metadata": {},
     "output_type": "execute_result"
    }
   ],
   "source": [
    "pace.loc[['8','3','11']].T.cumsum().head()"
   ]
  },
  {
   "cell_type": "markdown",
   "metadata": {},
   "source": [
    "And then plot those:"
   ]
  },
  {
   "cell_type": "code",
   "execution_count": 119,
   "metadata": {},
   "outputs": [
    {
     "data": {
      "image/png": "[encoded data removed]",
      "text/plain": [
       "<Figure size 432x288 with 1 Axes>"
      ]
     },
     "metadata": {
      "needs_background": "light"
     },
     "output_type": "display_data"
    }
   ],
   "source": [
    "ax = pace.loc[['8','3','11']].T.cumsum().plot();\n",
    "\n",
    "#Need to overplot each with pit events\n",
    "inpitlaps = laptimes[(laptimes['NUMBER']==rebase) & ~(laptimes['PIT_TIME'].isnull())]\n",
    "inpitlaps.loc[:,'y']=0\n",
    "inpitlaps.plot.scatter(x='LAP_NUMBER',y='y', ax=ax);"
   ]
  },
  {
   "cell_type": "markdown",
   "metadata": {},
   "source": [
    "### Plotting Using plotly Charts\n",
    "\n",
    "We can also plot charts using the *plotly* charting library.\n",
    "\n",
    "This provides us with a slightly different grammar for creating charts, albeit equally, if not more expressive, than the basic *pandas* plotting tools.\n",
    "\n",
    "To create a simple time series chart, we need to put the data into a long format:"
   ]
  },
  {
   "cell_type": "code",
   "execution_count": 209,
   "metadata": {},
   "outputs": [
    {
     "data": {
      "text/html": [
       "<div>\n",
       "<style scoped>\n",
       "    .dataframe tbody tr th:only-of-type {\n",
       "        vertical-align: middle;\n",
       "    }\n",
       "\n",
       "    .dataframe tbody tr th {\n",
       "        vertical-align: top;\n",
       "    }\n",
       "\n",
       "    .dataframe thead th {\n",
       "        text-align: right;\n",
       "    }\n",
       "</style>\n",
       "<table border=\"1\" class=\"dataframe\">\n",
       "  <thead>\n",
       "    <tr style=\"text-align: right;\">\n",
       "      <th></th>\n",
       "      <th>LAP_NUMBER</th>\n",
       "      <th>NUMBER</th>\n",
       "      <th>ACCUMULATED_DELTA</th>\n",
       "    </tr>\n",
       "  </thead>\n",
       "  <tbody>\n",
       "    <tr>\n",
       "      <th>0</th>\n",
       "      <td>1</td>\n",
       "      <td>8</td>\n",
       "      <td>0.0</td>\n",
       "    </tr>\n",
       "    <tr>\n",
       "      <th>1</th>\n",
       "      <td>2</td>\n",
       "      <td>8</td>\n",
       "      <td>0.0</td>\n",
       "    </tr>\n",
       "    <tr>\n",
       "      <th>2</th>\n",
       "      <td>3</td>\n",
       "      <td>8</td>\n",
       "      <td>0.0</td>\n",
       "    </tr>\n",
       "    <tr>\n",
       "      <th>3</th>\n",
       "      <td>4</td>\n",
       "      <td>8</td>\n",
       "      <td>0.0</td>\n",
       "    </tr>\n",
       "    <tr>\n",
       "      <th>4</th>\n",
       "      <td>5</td>\n",
       "      <td>8</td>\n",
       "      <td>0.0</td>\n",
       "    </tr>\n",
       "  </tbody>\n",
       "</table>\n",
       "</div>"
      ],
      "text/plain": [
       "   LAP_NUMBER NUMBER  ACCUMULATED_DELTA\n",
       "0           1      8                0.0\n",
       "1           2      8                0.0\n",
       "2           3      8                0.0\n",
       "3           4      8                0.0\n",
       "4           5      8                0.0"
      ]
     },
     "execution_count": 209,
     "metadata": {},
     "output_type": "execute_result"
    }
   ],
   "source": [
    "long_pace = pace.loc[['8','3','11']].T.cumsum().reset_index().melt(id_vars='LAP_NUMBER',\n",
    "                                                                   value_name='ACCUMULATED_DELTA')\n",
    "long_pace.head()"
   ]
  },
  {
   "cell_type": "markdown",
   "metadata": {},
   "source": [
    "We can then plot directly from this dataframe:"
   ]
  },
  {
   "cell_type": "code",
   "execution_count": 210,
   "metadata": {},
   "outputs": [
    {
     "data": {
      "application/vnd.plotly.v1+json": {
       "config": {
        "plotlyServerURL": "https://plot.ly"
       },
       "data": [
        {
         "hoverlabel": {
          "namelength": 0
         },
         "hovertemplate": "NUMBER=8<br>LAP_NUMBER=%{x}<br>ACCUMULATED_DELTA=%{y}",
         "legendgroup": "NUMBER=8",
         "line": {
          "color": "#636efa",
          "dash": "solid"
         },
         "mode": "lines",
         "name": "NUMBER=8",
         "showlegend": true,
         "type": "scatter",
         "x": [
          1,
          2,
          3,
          4,
          5,
          6,
          7,
          8,
          9,
          10,
          11,
          12,
          13,
          14,
          15,
          16,
          17,
          18,
          19,
          20,
          21,
          22,
          23,
          24,
          25,
          26,
          27,
          28,
          29,
          30,
          31,
          32,
          33,
          34,
          35,
          36,
          37,
          38,
          39,
          40,
          41,
          42,
          43,
          44,
          45,
          46,
          47,
          48,
          49,
          50,
          51,
          52,
          53,
          54,
          55,
          56,
          57,
          58,
          59,
          60,
          61,
          62,
          63,
          64,
          65,
          66,
          67,
          68,
          69,
          70,
          71,
          72,
          73,
          74,
          75,
          76,
          77,
          78,
          79,
          80,
          81,
          82,
          83,
          84,
          85,
          86,
          87,
          88,
          89,
          90,
          91,
          92,
          93,
          94,
          95,
          96,
          97,
          98,
          99,
          100,
          101,
          102,
          103,
          104,
          105,
          106,
          107,
          108,
          109,
          110,
          111,
          112,
          113,
          114,
          115,
          116,
          117,
          118,
          119,
          120,
          121,
          122,
          123,
          124,
          125,
          126,
          127,
          128,
          129,
          130,
          131,
          132,
          133
         ],
         "xaxis": "x",
         "y": [
          0,
          0,
          0,
          0,
          0,
          0,
          0,
          0,
          0,
          0,
          0,
          0,
          0,
          0,
          0,
          0,
          0,
          0,
          0,
          0,
          0,
          0,
          0,
          0,
          0,
          0,
          0,
          0,
          0,
          0,
          0,
          0,
          0,
          0,
          0,
          0,
          0,
          0,
          0,
          0,
          0,
          0,
          0,
          0,
          0,
          0,
          0,
          0,
          0,
          0,
          0,
          0,
          0,
          0,
          0,
          0,
          0,
          0,
          0,
          0,
          0,
          0,
          0,
          0,
          0,
          0,
          0,
          0,
          0,
          0,
          0,
          0,
          0,
          0,
          0,
          0,
          0,
          0,
          0,
          0,
          0,
          0,
          0,
          0,
          0,
          0,
          0,
          0,
          0,
          0,
          0,
          0,
          0,
          0,
          0,
          0,
          0,
          0,
          0,
          0,
          0,
          0,
          0,
          0,
          0,
          0,
          0,
          0,
          0,
          0,
          0,
          0,
          0,
          0,
          0,
          0,
          0,
          0,
          0,
          0,
          0,
          0,
          0,
          0,
          0,
          0,
          0,
          0,
          0,
          0,
          0,
          0,
          0
         ],
         "yaxis": "y"
        },
        {
         "hoverlabel": {
          "namelength": 0
         },
         "hovertemplate": "NUMBER=3<br>LAP_NUMBER=%{x}<br>ACCUMULATED_DELTA=%{y}",
         "legendgroup": "NUMBER=3",
         "line": {
          "color": "#EF553B",
          "dash": "solid"
         },
         "mode": "lines",
         "name": "NUMBER=3",
         "showlegend": true,
         "type": "scatter",
         "x": [
          1,
          2,
          3,
          4,
          5,
          6,
          7,
          8,
          9,
          10,
          11,
          12,
          13,
          14,
          15,
          16,
          17,
          18,
          19,
          20,
          21,
          22,
          23,
          24,
          25,
          26,
          27,
          28,
          29,
          30,
          31,
          32,
          33,
          34,
          35,
          36,
          37,
          38,
          39,
          40,
          41,
          42,
          43,
          44,
          45,
          46,
          47,
          48,
          49,
          50,
          51,
          52,
          53,
          54,
          55,
          56,
          57,
          58,
          59,
          60,
          61,
          62,
          63,
          64,
          65,
          66,
          67,
          68,
          69,
          70,
          71,
          72,
          73,
          74,
          75,
          76,
          77,
          78,
          79,
          80,
          81,
          82,
          83,
          84,
          85,
          86,
          87,
          88,
          89,
          90,
          91,
          92,
          93,
          94,
          95,
          96,
          97,
          98,
          99,
          100,
          101,
          102,
          103,
          104,
          105,
          106,
          107,
          108,
          109,
          110,
          111,
          112,
          113,
          114,
          115,
          116,
          117,
          118,
          119,
          120,
          121,
          122,
          123,
          124,
          125,
          126,
          127,
          128,
          129,
          130,
          131,
          132,
          133
         ],
         "xaxis": "x",
         "y": [
          1.7620000000000005,
          3.899000000000001,
          4.771000000000015,
          -9.825999999999993,
          -10.266999999999996,
          -7.75,
          -3.1030000000000086,
          -2.483000000000004,
          -1.671999999999997,
          -0.4480000000000075,
          -1.2370000000000232,
          -0.5579999999999927,
          -0.42900000000000205,
          -0.19900000000001228,
          -0.44700000000000273,
          -0.4449999999999932,
          -0.21399999999999864,
          4.452000000000027,
          9.66700000000003,
          16.249000000000052,
          21.18100000000007,
          25.119000000000085,
          29.1220000000001,
          7.594000000000136,
          1.0150000000001569,
          -42.01999999999984,
          -21.421999999999855,
          44.87500000000014,
          23.261000000000138,
          -21.93099999999987,
          -16.681999999999874,
          -11.702999999999875,
          -3.513999999999882,
          0.45300000000011664,
          9.260000000000133,
          14.165000000000134,
          23.740000000000137,
          61.959000000000145,
          58.79900000000015,
          57.75500000000015,
          60.78200000000015,
          63.07000000000015,
          66.33400000000015,
          66.50300000000016,
          180.94000000000014,
          81.63200000000015,
          82.87600000000015,
          83.44000000000014,
          86.67000000000014,
          87.73400000000014,
          121.30200000000015,
          213.28900000000016,
          93.22700000000016,
          96.00300000000017,
          98.42400000000016,
          98.60600000000017,
          98.03600000000017,
          102.61400000000017,
          102.93600000000018,
          101.13200000000018,
          101.51900000000018,
          103.79800000000017,
          109.31700000000016,
          112.04800000000016,
          112.29100000000017,
          112.92200000000017,
          112.63000000000017,
          111.25800000000017,
          113.65800000000017,
          115.35900000000017,
          117.43500000000017,
          123.08700000000016,
          122.43200000000016,
          129.32600000000014,
          125.90500000000014,
          125.11400000000015,
          126.77700000000014,
          127.49400000000014,
          128.59100000000012,
          130.83100000000013,
          132.62100000000012,
          143.8210000000001,
          201.5950000000001,
          196.93700000000013,
          198.18100000000013,
          200.45800000000014,
          202.69000000000014,
          203.88600000000014,
          202.03400000000013,
          206.76400000000015,
          210.98100000000014,
          213.41600000000014,
          218.22100000000012,
          220.5110000000001,
          225.2420000000001,
          227.07100000000008,
          233.14400000000006,
          234.12200000000007,
          236.00100000000006,
          236.37100000000007,
          234.76100000000005,
          252.37800000000007,
          306.8310000000001,
          259.3020000000001,
          301.5470000000001,
          336.9320000000001,
          335.5580000000001,
          259.69000000000005,
          247.14100000000005,
          231.75700000000006,
          222.66500000000005,
          228.36300000000006,
          171.93800000000007,
          179.92500000000007,
          191.70500000000007,
          199.82500000000007,
          205.81300000000007,
          210.47800000000007,
          213.98900000000006,
          219.10800000000006,
          225.00400000000008,
          230.56400000000008,
          236.29800000000006,
          246.28200000000007,
          308.2920000000001,
          315.50700000000006,
          339.4530000000001,
          346.16300000000007,
          283.5330000000001,
          237.80900000000005,
          229.23500000000004,
          229.46400000000006,
          null
         ],
         "yaxis": "y"
        },
        {
         "hoverlabel": {
          "namelength": 0
         },
         "hovertemplate": "NUMBER=11<br>LAP_NUMBER=%{x}<br>ACCUMULATED_DELTA=%{y}",
         "legendgroup": "NUMBER=11",
         "line": {
          "color": "#00cc96",
          "dash": "solid"
         },
         "mode": "lines",
         "name": "NUMBER=11",
         "showlegend": true,
         "type": "scatter",
         "x": [
          1,
          2,
          3,
          4,
          5,
          6,
          7,
          8,
          9,
          10,
          11,
          12,
          13,
          14,
          15,
          16,
          17,
          18,
          19,
          20,
          21,
          22,
          23,
          24,
          25,
          26,
          27,
          28,
          29,
          30,
          31,
          32,
          33,
          34,
          35,
          36,
          37,
          38,
          39,
          40,
          41,
          42,
          43,
          44,
          45,
          46,
          47,
          48,
          49,
          50,
          51,
          52,
          53,
          54,
          55,
          56,
          57,
          58,
          59,
          60,
          61,
          62,
          63,
          64,
          65,
          66,
          67,
          68,
          69,
          70,
          71,
          72,
          73,
          74,
          75,
          76,
          77,
          78,
          79,
          80,
          81,
          82,
          83,
          84,
          85,
          86,
          87,
          88,
          89,
          90,
          91,
          92,
          93,
          94,
          95,
          96,
          97,
          98,
          99,
          100,
          101,
          102,
          103,
          104,
          105,
          106,
          107,
          108,
          109,
          110,
          111,
          112,
          113,
          114,
          115,
          116,
          117,
          118,
          119,
          120,
          121,
          122,
          123,
          124,
          125,
          126,
          127,
          128,
          129,
          130,
          131,
          132,
          133
         ],
         "xaxis": "x",
         "y": [
          3.6539999999999964,
          6.040999999999997,
          0.8230000000000075,
          -33.56700000000001,
          7.155000000000001,
          9.86099999999999,
          12.107999999999976,
          12.687999999999988,
          13.466999999999985,
          7.2339999999999804,
          3.988999999999976,
          1.275999999999982,
          2.59699999999998,
          2.10299999999998,
          2.125,
          1.671999999999997,
          0.9039999999999964,
          5.445000000000022,
          10.117000000000047,
          14.292000000000058,
          17.25100000000006,
          19.190000000000055,
          28.45500000000007,
          6.543000000000092,
          -1.7379999999998859,
          -45.806999999999874,
          -24.871999999999872,
          27.36300000000014,
          -1.826999999999856,
          -53.14599999999987,
          -53.65099999999987,
          -50.28499999999987,
          -42.32899999999988,
          -34.49799999999988,
          -19.154999999999887,
          19.4880000000001,
          19.326000000000107,
          19.94900000000011,
          16.69000000000011,
          24.743000000000123,
          27.225000000000122,
          32.08700000000013,
          32.25600000000013,
          34.70200000000014,
          84.53000000000014,
          44.85900000000015,
          49.073000000000164,
          50.365000000000165,
          51.49700000000017,
          54.35400000000017,
          62.976000000000184,
          155.59100000000018,
          54.05500000000018,
          56.02800000000019,
          59.32300000000019,
          60.35000000000019,
          60.0180000000002,
          62.75800000000021,
          62.515000000000214,
          66.63500000000022,
          72.88700000000021,
          75.01400000000021,
          75.60400000000021,
          81.24000000000021,
          140.17600000000022,
          144.0680000000002,
          146.8260000000002,
          147.9400000000002,
          152.9830000000002,
          155.2530000000002,
          152.4310000000002,
          101.6200000000002,
          108.3120000000002,
          111.03400000000019,
          110.7270000000002,
          113.30000000000021,
          123.41300000000022,
          140.66100000000023,
          142.80000000000024,
          143.45500000000024,
          144.29300000000023,
          157.51700000000022,
          226.58200000000022,
          172.76900000000023,
          166.90100000000024,
          165.07400000000024,
          165.91700000000023,
          166.07800000000023,
          163.66700000000023,
          167.22200000000024,
          170.8360000000002,
          169.9530000000002,
          177.5880000000002,
          182.27600000000018,
          189.88600000000017,
          193.84700000000015,
          197.95600000000013,
          200.49300000000014,
          204.77600000000012,
          214.3370000000001,
          268.44500000000005,
          279.6020000000001,
          280.9260000000001,
          231.7210000000001,
          266.2100000000001,
          324.6240000000001,
          330.5060000000001,
          256.18600000000004,
          243.78600000000003,
          228.11500000000004,
          219.28200000000004,
          226.77100000000004,
          175.90600000000006,
          182.61600000000007,
          192.6080000000001,
          202.0850000000001,
          209.7710000000001,
          215.0880000000001,
          221.7080000000001,
          225.32400000000013,
          227.91600000000014,
          242.39800000000014,
          311.27700000000016,
          325.31600000000014,
          358.26800000000014,
          364.4720000000001,
          396.0920000000001,
          358.65100000000007,
          299.05000000000007,
          251.25000000000006,
          242.18300000000005,
          236.02000000000004,
          null
         ],
         "yaxis": "y"
        }
       ],
       "layout": {
        "height": 600,
        "legend": {
         "tracegroupgap": 0
        },
        "margin": {
         "t": 60
        },
        "template": {
         "data": {
          "bar": [
           {
            "error_x": {
             "color": "#2a3f5f"
            },
            "error_y": {
             "color": "#2a3f5f"
            },
            "marker": {
             "line": {
              "color": "#E5ECF6",
              "width": 0.5
             }
            },
            "type": "bar"
           }
          ],
          "barpolar": [
           {
            "marker": {
             "line": {
              "color": "#E5ECF6",
              "width": 0.5
             }
            },
            "type": "barpolar"
           }
          ],
          "carpet": [
           {
            "aaxis": {
             "endlinecolor": "#2a3f5f",
             "gridcolor": "white",
             "linecolor": "white",
             "minorgridcolor": "white",
             "startlinecolor": "#2a3f5f"
            },
            "baxis": {
             "endlinecolor": "#2a3f5f",
             "gridcolor": "white",
             "linecolor": "white",
             "minorgridcolor": "white",
             "startlinecolor": "#2a3f5f"
            },
            "type": "carpet"
           }
          ],
          "choropleth": [
           {
            "colorbar": {
             "outlinewidth": 0,
             "ticks": ""
            },
            "type": "choropleth"
           }
          ],
          "contour": [
           {
            "colorbar": {
             "outlinewidth": 0,
             "ticks": ""
            },
            "colorscale": [
             [
              0,
              "#0d0887"
             ],
             [
              0.1111111111111111,
              "#46039f"
             ],
             [
              0.2222222222222222,
              "#7201a8"
             ],
             [
              0.3333333333333333,
              "#9c179e"
             ],
             [
              0.4444444444444444,
              "#bd3786"
             ],
             [
              0.5555555555555556,
              "#d8576b"
             ],
             [
              0.6666666666666666,
              "#ed7953"
             ],
             [
              0.7777777777777778,
              "#fb9f3a"
             ],
             [
              0.8888888888888888,
              "#fdca26"
             ],
             [
              1,
              "#f0f921"
             ]
            ],
            "type": "contour"
           }
          ],
          "contourcarpet": [
           {
            "colorbar": {
             "outlinewidth": 0,
             "ticks": ""
            },
            "type": "contourcarpet"
           }
          ],
          "heatmap": [
           {
            "colorbar": {
             "outlinewidth": 0,
             "ticks": ""
            },
            "colorscale": [
             [
              0,
              "#0d0887"
             ],
             [
              0.1111111111111111,
              "#46039f"
             ],
             [
              0.2222222222222222,
              "#7201a8"
             ],
             [
              0.3333333333333333,
              "#9c179e"
             ],
             [
              0.4444444444444444,
              "#bd3786"
             ],
             [
              0.5555555555555556,
              "#d8576b"
             ],
             [
              0.6666666666666666,
              "#ed7953"
             ],
             [
              0.7777777777777778,
              "#fb9f3a"
             ],
             [
              0.8888888888888888,
              "#fdca26"
             ],
             [
              1,
              "#f0f921"
             ]
            ],
            "type": "heatmap"
           }
          ],
          "heatmapgl": [
           {
            "colorbar": {
             "outlinewidth": 0,
             "ticks": ""
            },
            "colorscale": [
             [
              0,
              "#0d0887"
             ],
             [
              0.1111111111111111,
              "#46039f"
             ],
             [
              0.2222222222222222,
              "#7201a8"
             ],
             [
              0.3333333333333333,
              "#9c179e"
             ],
             [
              0.4444444444444444,
              "#bd3786"
             ],
             [
              0.5555555555555556,
              "#d8576b"
             ],
             [
              0.6666666666666666,
              "#ed7953"
             ],
             [
              0.7777777777777778,
              "#fb9f3a"
             ],
             [
              0.8888888888888888,
              "#fdca26"
             ],
             [
              1,
              "#f0f921"
             ]
            ],
            "type": "heatmapgl"
           }
          ],
          "histogram": [
           {
            "marker": {
             "colorbar": {
              "outlinewidth": 0,
              "ticks": ""
             }
            },
            "type": "histogram"
           }
          ],
          "histogram2d": [
           {
            "colorbar": {
             "outlinewidth": 0,
             "ticks": ""
            },
            "colorscale": [
             [
              0,
              "#0d0887"
             ],
             [
              0.1111111111111111,
              "#46039f"
             ],
             [
              0.2222222222222222,
              "#7201a8"
             ],
             [
              0.3333333333333333,
              "#9c179e"
             ],
             [
              0.4444444444444444,
              "#bd3786"
             ],
             [
              0.5555555555555556,
              "#d8576b"
             ],
             [
              0.6666666666666666,
              "#ed7953"
             ],
             [
              0.7777777777777778,
              "#fb9f3a"
             ],
             [
              0.8888888888888888,
              "#fdca26"
             ],
             [
              1,
              "#f0f921"
             ]
            ],
            "type": "histogram2d"
           }
          ],
          "histogram2dcontour": [
           {
            "colorbar": {
             "outlinewidth": 0,
             "ticks": ""
            },
            "colorscale": [
             [
              0,
              "#0d0887"
             ],
             [
              0.1111111111111111,
              "#46039f"
             ],
             [
              0.2222222222222222,
              "#7201a8"
             ],
             [
              0.3333333333333333,
              "#9c179e"
             ],
             [
              0.4444444444444444,
              "#bd3786"
             ],
             [
              0.5555555555555556,
              "#d8576b"
             ],
             [
              0.6666666666666666,
              "#ed7953"
             ],
             [
              0.7777777777777778,
              "#fb9f3a"
             ],
             [
              0.8888888888888888,
              "#fdca26"
             ],
             [
              1,
              "#f0f921"
             ]
            ],
            "type": "histogram2dcontour"
           }
          ],
          "mesh3d": [
           {
            "colorbar": {
             "outlinewidth": 0,
             "ticks": ""
            },
            "type": "mesh3d"
           }
          ],
          "parcoords": [
           {
            "line": {
             "colorbar": {
              "outlinewidth": 0,
              "ticks": ""
             }
            },
            "type": "parcoords"
           }
          ],
          "scatter": [
           {
            "marker": {
             "colorbar": {
              "outlinewidth": 0,
              "ticks": ""
             }
            },
            "type": "scatter"
           }
          ],
          "scatter3d": [
           {
            "line": {
             "colorbar": {
              "outlinewidth": 0,
              "ticks": ""
             }
            },
            "marker": {
             "colorbar": {
              "outlinewidth": 0,
              "ticks": ""
             }
            },
            "type": "scatter3d"
           }
          ],
          "scattercarpet": [
           {
            "marker": {
             "colorbar": {
              "outlinewidth": 0,
              "ticks": ""
             }
            },
            "type": "scattercarpet"
           }
          ],
          "scattergeo": [
           {
            "marker": {
             "colorbar": {
              "outlinewidth": 0,
              "ticks": ""
             }
            },
            "type": "scattergeo"
           }
          ],
          "scattergl": [
           {
            "marker": {
             "colorbar": {
              "outlinewidth": 0,
              "ticks": ""
             }
            },
            "type": "scattergl"
           }
          ],
          "scattermapbox": [
           {
            "marker": {
             "colorbar": {
              "outlinewidth": 0,
              "ticks": ""
             }
            },
            "type": "scattermapbox"
           }
          ],
          "scatterpolar": [
           {
            "marker": {
             "colorbar": {
              "outlinewidth": 0,
              "ticks": ""
             }
            },
            "type": "scatterpolar"
           }
          ],
          "scatterpolargl": [
           {
            "marker": {
             "colorbar": {
              "outlinewidth": 0,
              "ticks": ""
             }
            },
            "type": "scatterpolargl"
           }
          ],
          "scatterternary": [
           {
            "marker": {
             "colorbar": {
              "outlinewidth": 0,
              "ticks": ""
             }
            },
            "type": "scatterternary"
           }
          ],
          "surface": [
           {
            "colorbar": {
             "outlinewidth": 0,
             "ticks": ""
            },
            "colorscale": [
             [
              0,
              "#0d0887"
             ],
             [
              0.1111111111111111,
              "#46039f"
             ],
             [
              0.2222222222222222,
              "#7201a8"
             ],
             [
              0.3333333333333333,
              "#9c179e"
             ],
             [
              0.4444444444444444,
              "#bd3786"
             ],
             [
              0.5555555555555556,
              "#d8576b"
             ],
             [
              0.6666666666666666,
              "#ed7953"
             ],
             [
              0.7777777777777778,
              "#fb9f3a"
             ],
             [
              0.8888888888888888,
              "#fdca26"
             ],
             [
              1,
              "#f0f921"
             ]
            ],
            "type": "surface"
           }
          ],
          "table": [
           {
            "cells": {
             "fill": {
              "color": "#EBF0F8"
             },
             "line": {
              "color": "white"
             }
            },
            "header": {
             "fill": {
              "color": "#C8D4E3"
             },
             "line": {
              "color": "white"
             }
            },
            "type": "table"
           }
          ]
         },
         "layout": {
          "annotationdefaults": {
           "arrowcolor": "#2a3f5f",
           "arrowhead": 0,
           "arrowwidth": 1
          },
          "colorscale": {
           "diverging": [
            [
             0,
             "#8e0152"
            ],
            [
             0.1,
             "#c51b7d"
            ],
            [
             0.2,
             "#de77ae"
            ],
            [
             0.3,
             "#f1b6da"
            ],
            [
             0.4,
             "#fde0ef"
            ],
            [
             0.5,
             "#f7f7f7"
            ],
            [
             0.6,
             "#e6f5d0"
            ],
            [
             0.7,
             "#b8e186"
            ],
            [
             0.8,
             "#7fbc41"
            ],
            [
             0.9,
             "#4d9221"
            ],
            [
             1,
             "#276419"
            ]
           ],
           "sequential": [
            [
             0,
             "#0d0887"
            ],
            [
             0.1111111111111111,
             "#46039f"
            ],
            [
             0.2222222222222222,
             "#7201a8"
            ],
            [
             0.3333333333333333,
             "#9c179e"
            ],
            [
             0.4444444444444444,
             "#bd3786"
            ],
            [
             0.5555555555555556,
             "#d8576b"
            ],
            [
             0.6666666666666666,
             "#ed7953"
            ],
            [
             0.7777777777777778,
             "#fb9f3a"
            ],
            [
             0.8888888888888888,
             "#fdca26"
            ],
            [
             1,
             "#f0f921"
            ]
           ],
           "sequentialminus": [
            [
             0,
             "#0d0887"
            ],
            [
             0.1111111111111111,
             "#46039f"
            ],
            [
             0.2222222222222222,
             "#7201a8"
            ],
            [
             0.3333333333333333,
             "#9c179e"
            ],
            [
             0.4444444444444444,
             "#bd3786"
            ],
            [
             0.5555555555555556,
             "#d8576b"
            ],
            [
             0.6666666666666666,
             "#ed7953"
            ],
            [
             0.7777777777777778,
             "#fb9f3a"
            ],
            [
             0.8888888888888888,
             "#fdca26"
            ],
            [
             1,
             "#f0f921"
            ]
           ]
          },
          "colorway": [
           "#636efa",
           "#EF553B",
           "#00cc96",
           "#ab63fa",
           "#FFA15A",
           "#19d3f3",
           "#FF6692",
           "#B6E880",
           "#FF97FF",
           "#FECB52"
          ],
          "font": {
           "color": "#2a3f5f"
          },
          "geo": {
           "bgcolor": "white",
           "lakecolor": "white",
           "landcolor": "#E5ECF6",
           "showlakes": true,
           "showland": true,
           "subunitcolor": "white"
          },
          "hoverlabel": {
           "align": "left"
          },
          "hovermode": "closest",
          "mapbox": {
           "style": "light"
          },
          "paper_bgcolor": "white",
          "plot_bgcolor": "#E5ECF6",
          "polar": {
           "angularaxis": {
            "gridcolor": "white",
            "linecolor": "white",
            "ticks": ""
           },
           "bgcolor": "#E5ECF6",
           "radialaxis": {
            "gridcolor": "white",
            "linecolor": "white",
            "ticks": ""
           }
          },
          "scene": {
           "xaxis": {
            "backgroundcolor": "#E5ECF6",
            "gridcolor": "white",
            "gridwidth": 2,
            "linecolor": "white",
            "showbackground": true,
            "ticks": "",
            "zerolinecolor": "white"
           },
           "yaxis": {
            "backgroundcolor": "#E5ECF6",
            "gridcolor": "white",
            "gridwidth": 2,
            "linecolor": "white",
            "showbackground": true,
            "ticks": "",
            "zerolinecolor": "white"
           },
           "zaxis": {
            "backgroundcolor": "#E5ECF6",
            "gridcolor": "white",
            "gridwidth": 2,
            "linecolor": "white",
            "showbackground": true,
            "ticks": "",
            "zerolinecolor": "white"
           }
          },
          "shapedefaults": {
           "line": {
            "color": "#2a3f5f"
           }
          },
          "ternary": {
           "aaxis": {
            "gridcolor": "white",
            "linecolor": "white",
            "ticks": ""
           },
           "baxis": {
            "gridcolor": "white",
            "linecolor": "white",
            "ticks": ""
           },
           "bgcolor": "#E5ECF6",
           "caxis": {
            "gridcolor": "white",
            "linecolor": "white",
            "ticks": ""
           }
          },
          "title": {
           "x": 0.05
          },
          "xaxis": {
           "automargin": true,
           "gridcolor": "white",
           "linecolor": "white",
           "ticks": "",
           "zerolinecolor": "white",
           "zerolinewidth": 2
          },
          "yaxis": {
           "automargin": true,
           "gridcolor": "white",
           "linecolor": "white",
           "ticks": "",
           "zerolinecolor": "white",
           "zerolinewidth": 2
          }
         }
        },
        "xaxis": {
         "anchor": "y",
         "domain": [
          0,
          0.98
         ],
         "title": {
          "text": "LAP_NUMBER"
         }
        },
        "yaxis": {
         "anchor": "x",
         "domain": [
          0,
          1
         ],
         "title": {
          "text": "ACCUMULATED_DELTA"
         }
        }
       }
      },
      "text/html": [
       "<div>\n",
       "        \n",
       "        \n",
       "            <div id=\"e622766a-0b08-4054-b922-3f64b0a3158f\" class=\"plotly-graph-div\" style=\"height:600px; width:100%;\"></div>\n",
       "            <script type=\"text/javascript\">\n",
       "                require([\"plotly\"], function(Plotly) {\n",
       "                    window.PLOTLYENV=window.PLOTLYENV || {};\n",
       "                    \n",
       "                if (document.getElementById(\"e622766a-0b08-4054-b922-3f64b0a3158f\")) {\n",
       "                    Plotly.newPlot(\n",
       "                        'e622766a-0b08-4054-b922-3f64b0a3158f',\n",
       "                        [{\"hoverlabel\": {\"namelength\": 0}, \"hovertemplate\": \"NUMBER=8<br>LAP_NUMBER=%{x}<br>ACCUMULATED_DELTA=%{y}\", \"legendgroup\": \"NUMBER=8\", \"line\": {\"color\": \"#636efa\", \"dash\": \"solid\"}, \"mode\": \"lines\", \"name\": \"NUMBER=8\", \"showlegend\": true, \"type\": \"scatter\", \"x\": [1, 2, 3, 4, 5, 6, 7, 8, 9, 10, 11, 12, 13, 14, 15, 16, 17, 18, 19, 20, 21, 22, 23, 24, 25, 26, 27, 28, 29, 30, 31, 32, 33, 34, 35, 36, 37, 38, 39, 40, 41, 42, 43, 44, 45, 46, 47, 48, 49, 50, 51, 52, 53, 54, 55, 56, 57, 58, 59, 60, 61, 62, 63, 64, 65, 66, 67, 68, 69, 70, 71, 72, 73, 74, 75, 76, 77, 78, 79, 80, 81, 82, 83, 84, 85, 86, 87, 88, 89, 90, 91, 92, 93, 94, 95, 96, 97, 98, 99, 100, 101, 102, 103, 104, 105, 106, 107, 108, 109, 110, 111, 112, 113, 114, 115, 116, 117, 118, 119, 120, 121, 122, 123, 124, 125, 126, 127, 128, 129, 130, 131, 132, 133], \"xaxis\": \"x\", \"y\": [0.0, 0.0, 0.0, 0.0, 0.0, 0.0, 0.0, 0.0, 0.0, 0.0, 0.0, 0.0, 0.0, 0.0, 0.0, 0.0, 0.0, 0.0, 0.0, 0.0, 0.0, 0.0, 0.0, 0.0, 0.0, 0.0, 0.0, 0.0, 0.0, 0.0, 0.0, 0.0, 0.0, 0.0, 0.0, 0.0, 0.0, 0.0, 0.0, 0.0, 0.0, 0.0, 0.0, 0.0, 0.0, 0.0, 0.0, 0.0, 0.0, 0.0, 0.0, 0.0, 0.0, 0.0, 0.0, 0.0, 0.0, 0.0, 0.0, 0.0, 0.0, 0.0, 0.0, 0.0, 0.0, 0.0, 0.0, 0.0, 0.0, 0.0, 0.0, 0.0, 0.0, 0.0, 0.0, 0.0, 0.0, 0.0, 0.0, 0.0, 0.0, 0.0, 0.0, 0.0, 0.0, 0.0, 0.0, 0.0, 0.0, 0.0, 0.0, 0.0, 0.0, 0.0, 0.0, 0.0, 0.0, 0.0, 0.0, 0.0, 0.0, 0.0, 0.0, 0.0, 0.0, 0.0, 0.0, 0.0, 0.0, 0.0, 0.0, 0.0, 0.0, 0.0, 0.0, 0.0, 0.0, 0.0, 0.0, 0.0, 0.0, 0.0, 0.0, 0.0, 0.0, 0.0, 0.0, 0.0, 0.0, 0.0, 0.0, 0.0, 0.0], \"yaxis\": \"y\"}, {\"hoverlabel\": {\"namelength\": 0}, \"hovertemplate\": \"NUMBER=3<br>LAP_NUMBER=%{x}<br>ACCUMULATED_DELTA=%{y}\", \"legendgroup\": \"NUMBER=3\", \"line\": {\"color\": \"#EF553B\", \"dash\": \"solid\"}, \"mode\": \"lines\", \"name\": \"NUMBER=3\", \"showlegend\": true, \"type\": \"scatter\", \"x\": [1, 2, 3, 4, 5, 6, 7, 8, 9, 10, 11, 12, 13, 14, 15, 16, 17, 18, 19, 20, 21, 22, 23, 24, 25, 26, 27, 28, 29, 30, 31, 32, 33, 34, 35, 36, 37, 38, 39, 40, 41, 42, 43, 44, 45, 46, 47, 48, 49, 50, 51, 52, 53, 54, 55, 56, 57, 58, 59, 60, 61, 62, 63, 64, 65, 66, 67, 68, 69, 70, 71, 72, 73, 74, 75, 76, 77, 78, 79, 80, 81, 82, 83, 84, 85, 86, 87, 88, 89, 90, 91, 92, 93, 94, 95, 96, 97, 98, 99, 100, 101, 102, 103, 104, 105, 106, 107, 108, 109, 110, 111, 112, 113, 114, 115, 116, 117, 118, 119, 120, 121, 122, 123, 124, 125, 126, 127, 128, 129, 130, 131, 132, 133], \"xaxis\": \"x\", \"y\": [1.7620000000000005, 3.899000000000001, 4.771000000000015, -9.825999999999993, -10.266999999999996, -7.75, -3.1030000000000086, -2.483000000000004, -1.671999999999997, -0.4480000000000075, -1.2370000000000232, -0.5579999999999927, -0.42900000000000205, -0.19900000000001228, -0.44700000000000273, -0.4449999999999932, -0.21399999999999864, 4.452000000000027, 9.66700000000003, 16.249000000000052, 21.18100000000007, 25.119000000000085, 29.1220000000001, 7.594000000000136, 1.0150000000001569, -42.01999999999984, -21.421999999999855, 44.87500000000014, 23.261000000000138, -21.93099999999987, -16.681999999999874, -11.702999999999875, -3.513999999999882, 0.45300000000011664, 9.260000000000133, 14.165000000000134, 23.740000000000137, 61.959000000000145, 58.79900000000015, 57.75500000000015, 60.78200000000015, 63.07000000000015, 66.33400000000015, 66.50300000000016, 180.94000000000014, 81.63200000000015, 82.87600000000015, 83.44000000000014, 86.67000000000014, 87.73400000000014, 121.30200000000015, 213.28900000000016, 93.22700000000016, 96.00300000000017, 98.42400000000016, 98.60600000000017, 98.03600000000017, 102.61400000000017, 102.93600000000018, 101.13200000000018, 101.51900000000018, 103.79800000000017, 109.31700000000016, 112.04800000000016, 112.29100000000017, 112.92200000000017, 112.63000000000017, 111.25800000000017, 113.65800000000017, 115.35900000000017, 117.43500000000017, 123.08700000000016, 122.43200000000016, 129.32600000000014, 125.90500000000014, 125.11400000000015, 126.77700000000014, 127.49400000000014, 128.59100000000012, 130.83100000000013, 132.62100000000012, 143.8210000000001, 201.5950000000001, 196.93700000000013, 198.18100000000013, 200.45800000000014, 202.69000000000014, 203.88600000000014, 202.03400000000013, 206.76400000000015, 210.98100000000014, 213.41600000000014, 218.22100000000012, 220.5110000000001, 225.2420000000001, 227.07100000000008, 233.14400000000006, 234.12200000000007, 236.00100000000006, 236.37100000000007, 234.76100000000005, 252.37800000000007, 306.8310000000001, 259.3020000000001, 301.5470000000001, 336.9320000000001, 335.5580000000001, 259.69000000000005, 247.14100000000005, 231.75700000000006, 222.66500000000005, 228.36300000000006, 171.93800000000007, 179.92500000000007, 191.70500000000007, 199.82500000000007, 205.81300000000007, 210.47800000000007, 213.98900000000006, 219.10800000000006, 225.00400000000008, 230.56400000000008, 236.29800000000006, 246.28200000000007, 308.2920000000001, 315.50700000000006, 339.4530000000001, 346.16300000000007, 283.5330000000001, 237.80900000000005, 229.23500000000004, 229.46400000000006, null], \"yaxis\": \"y\"}, {\"hoverlabel\": {\"namelength\": 0}, \"hovertemplate\": \"NUMBER=11<br>LAP_NUMBER=%{x}<br>ACCUMULATED_DELTA=%{y}\", \"legendgroup\": \"NUMBER=11\", \"line\": {\"color\": \"#00cc96\", \"dash\": \"solid\"}, \"mode\": \"lines\", \"name\": \"NUMBER=11\", \"showlegend\": true, \"type\": \"scatter\", \"x\": [1, 2, 3, 4, 5, 6, 7, 8, 9, 10, 11, 12, 13, 14, 15, 16, 17, 18, 19, 20, 21, 22, 23, 24, 25, 26, 27, 28, 29, 30, 31, 32, 33, 34, 35, 36, 37, 38, 39, 40, 41, 42, 43, 44, 45, 46, 47, 48, 49, 50, 51, 52, 53, 54, 55, 56, 57, 58, 59, 60, 61, 62, 63, 64, 65, 66, 67, 68, 69, 70, 71, 72, 73, 74, 75, 76, 77, 78, 79, 80, 81, 82, 83, 84, 85, 86, 87, 88, 89, 90, 91, 92, 93, 94, 95, 96, 97, 98, 99, 100, 101, 102, 103, 104, 105, 106, 107, 108, 109, 110, 111, 112, 113, 114, 115, 116, 117, 118, 119, 120, 121, 122, 123, 124, 125, 126, 127, 128, 129, 130, 131, 132, 133], \"xaxis\": \"x\", \"y\": [3.6539999999999964, 6.040999999999997, 0.8230000000000075, -33.56700000000001, 7.155000000000001, 9.86099999999999, 12.107999999999976, 12.687999999999988, 13.466999999999985, 7.2339999999999804, 3.988999999999976, 1.275999999999982, 2.59699999999998, 2.10299999999998, 2.125, 1.671999999999997, 0.9039999999999964, 5.445000000000022, 10.117000000000047, 14.292000000000058, 17.25100000000006, 19.190000000000055, 28.45500000000007, 6.543000000000092, -1.7379999999998859, -45.806999999999874, -24.871999999999872, 27.36300000000014, -1.826999999999856, -53.14599999999987, -53.65099999999987, -50.28499999999987, -42.32899999999988, -34.49799999999988, -19.154999999999887, 19.4880000000001, 19.326000000000107, 19.94900000000011, 16.69000000000011, 24.743000000000123, 27.225000000000122, 32.08700000000013, 32.25600000000013, 34.70200000000014, 84.53000000000014, 44.85900000000015, 49.073000000000164, 50.365000000000165, 51.49700000000017, 54.35400000000017, 62.976000000000184, 155.59100000000018, 54.05500000000018, 56.02800000000019, 59.32300000000019, 60.35000000000019, 60.0180000000002, 62.75800000000021, 62.515000000000214, 66.63500000000022, 72.88700000000021, 75.01400000000021, 75.60400000000021, 81.24000000000021, 140.17600000000022, 144.0680000000002, 146.8260000000002, 147.9400000000002, 152.9830000000002, 155.2530000000002, 152.4310000000002, 101.6200000000002, 108.3120000000002, 111.03400000000019, 110.7270000000002, 113.30000000000021, 123.41300000000022, 140.66100000000023, 142.80000000000024, 143.45500000000024, 144.29300000000023, 157.51700000000022, 226.58200000000022, 172.76900000000023, 166.90100000000024, 165.07400000000024, 165.91700000000023, 166.07800000000023, 163.66700000000023, 167.22200000000024, 170.8360000000002, 169.9530000000002, 177.5880000000002, 182.27600000000018, 189.88600000000017, 193.84700000000015, 197.95600000000013, 200.49300000000014, 204.77600000000012, 214.3370000000001, 268.44500000000005, 279.6020000000001, 280.9260000000001, 231.7210000000001, 266.2100000000001, 324.6240000000001, 330.5060000000001, 256.18600000000004, 243.78600000000003, 228.11500000000004, 219.28200000000004, 226.77100000000004, 175.90600000000006, 182.61600000000007, 192.6080000000001, 202.0850000000001, 209.7710000000001, 215.0880000000001, 221.7080000000001, 225.32400000000013, 227.91600000000014, 242.39800000000014, 311.27700000000016, 325.31600000000014, 358.26800000000014, 364.4720000000001, 396.0920000000001, 358.65100000000007, 299.05000000000007, 251.25000000000006, 242.18300000000005, 236.02000000000004, null], \"yaxis\": \"y\"}],\n",
       "                        {\"height\": 600, \"legend\": {\"tracegroupgap\": 0}, \"margin\": {\"t\": 60}, \"template\": {\"data\": {\"bar\": [{\"error_x\": {\"color\": \"#2a3f5f\"}, \"error_y\": {\"color\": \"#2a3f5f\"}, \"marker\": {\"line\": {\"color\": \"#E5ECF6\", \"width\": 0.5}}, \"type\": \"bar\"}], \"barpolar\": [{\"marker\": {\"line\": {\"color\": \"#E5ECF6\", \"width\": 0.5}}, \"type\": \"barpolar\"}], \"carpet\": [{\"aaxis\": {\"endlinecolor\": \"#2a3f5f\", \"gridcolor\": \"white\", \"linecolor\": \"white\", \"minorgridcolor\": \"white\", \"startlinecolor\": \"#2a3f5f\"}, \"baxis\": {\"endlinecolor\": \"#2a3f5f\", \"gridcolor\": \"white\", \"linecolor\": \"white\", \"minorgridcolor\": \"white\", \"startlinecolor\": \"#2a3f5f\"}, \"type\": \"carpet\"}], \"choropleth\": [{\"colorbar\": {\"outlinewidth\": 0, \"ticks\": \"\"}, \"type\": \"choropleth\"}], \"contour\": [{\"colorbar\": {\"outlinewidth\": 0, \"ticks\": \"\"}, \"colorscale\": [[0.0, \"#0d0887\"], [0.1111111111111111, \"#46039f\"], [0.2222222222222222, \"#7201a8\"], [0.3333333333333333, \"#9c179e\"], [0.4444444444444444, \"#bd3786\"], [0.5555555555555556, \"#d8576b\"], [0.6666666666666666, \"#ed7953\"], [0.7777777777777778, \"#fb9f3a\"], [0.8888888888888888, \"#fdca26\"], [1.0, \"#f0f921\"]], \"type\": \"contour\"}], \"contourcarpet\": [{\"colorbar\": {\"outlinewidth\": 0, \"ticks\": \"\"}, \"type\": \"contourcarpet\"}], \"heatmap\": [{\"colorbar\": {\"outlinewidth\": 0, \"ticks\": \"\"}, \"colorscale\": [[0.0, \"#0d0887\"], [0.1111111111111111, \"#46039f\"], [0.2222222222222222, \"#7201a8\"], [0.3333333333333333, \"#9c179e\"], [0.4444444444444444, \"#bd3786\"], [0.5555555555555556, \"#d8576b\"], [0.6666666666666666, \"#ed7953\"], [0.7777777777777778, \"#fb9f3a\"], [0.8888888888888888, \"#fdca26\"], [1.0, \"#f0f921\"]], \"type\": \"heatmap\"}], \"heatmapgl\": [{\"colorbar\": {\"outlinewidth\": 0, \"ticks\": \"\"}, \"colorscale\": [[0.0, \"#0d0887\"], [0.1111111111111111, \"#46039f\"], [0.2222222222222222, \"#7201a8\"], [0.3333333333333333, \"#9c179e\"], [0.4444444444444444, \"#bd3786\"], [0.5555555555555556, \"#d8576b\"], [0.6666666666666666, \"#ed7953\"], [0.7777777777777778, \"#fb9f3a\"], [0.8888888888888888, \"#fdca26\"], [1.0, \"#f0f921\"]], \"type\": \"heatmapgl\"}], \"histogram\": [{\"marker\": {\"colorbar\": {\"outlinewidth\": 0, \"ticks\": \"\"}}, \"type\": \"histogram\"}], \"histogram2d\": [{\"colorbar\": {\"outlinewidth\": 0, \"ticks\": \"\"}, \"colorscale\": [[0.0, \"#0d0887\"], [0.1111111111111111, \"#46039f\"], [0.2222222222222222, \"#7201a8\"], [0.3333333333333333, \"#9c179e\"], [0.4444444444444444, \"#bd3786\"], [0.5555555555555556, \"#d8576b\"], [0.6666666666666666, \"#ed7953\"], [0.7777777777777778, \"#fb9f3a\"], [0.8888888888888888, \"#fdca26\"], [1.0, \"#f0f921\"]], \"type\": \"histogram2d\"}], \"histogram2dcontour\": [{\"colorbar\": {\"outlinewidth\": 0, \"ticks\": \"\"}, \"colorscale\": [[0.0, \"#0d0887\"], [0.1111111111111111, \"#46039f\"], [0.2222222222222222, \"#7201a8\"], [0.3333333333333333, \"#9c179e\"], [0.4444444444444444, \"#bd3786\"], [0.5555555555555556, \"#d8576b\"], [0.6666666666666666, \"#ed7953\"], [0.7777777777777778, \"#fb9f3a\"], [0.8888888888888888, \"#fdca26\"], [1.0, \"#f0f921\"]], \"type\": \"histogram2dcontour\"}], \"mesh3d\": [{\"colorbar\": {\"outlinewidth\": 0, \"ticks\": \"\"}, \"type\": \"mesh3d\"}], \"parcoords\": [{\"line\": {\"colorbar\": {\"outlinewidth\": 0, \"ticks\": \"\"}}, \"type\": \"parcoords\"}], \"scatter\": [{\"marker\": {\"colorbar\": {\"outlinewidth\": 0, \"ticks\": \"\"}}, \"type\": \"scatter\"}], \"scatter3d\": [{\"line\": {\"colorbar\": {\"outlinewidth\": 0, \"ticks\": \"\"}}, \"marker\": {\"colorbar\": {\"outlinewidth\": 0, \"ticks\": \"\"}}, \"type\": \"scatter3d\"}], \"scattercarpet\": [{\"marker\": {\"colorbar\": {\"outlinewidth\": 0, \"ticks\": \"\"}}, \"type\": \"scattercarpet\"}], \"scattergeo\": [{\"marker\": {\"colorbar\": {\"outlinewidth\": 0, \"ticks\": \"\"}}, \"type\": \"scattergeo\"}], \"scattergl\": [{\"marker\": {\"colorbar\": {\"outlinewidth\": 0, \"ticks\": \"\"}}, \"type\": \"scattergl\"}], \"scattermapbox\": [{\"marker\": {\"colorbar\": {\"outlinewidth\": 0, \"ticks\": \"\"}}, \"type\": \"scattermapbox\"}], \"scatterpolar\": [{\"marker\": {\"colorbar\": {\"outlinewidth\": 0, \"ticks\": \"\"}}, \"type\": \"scatterpolar\"}], \"scatterpolargl\": [{\"marker\": {\"colorbar\": {\"outlinewidth\": 0, \"ticks\": \"\"}}, \"type\": \"scatterpolargl\"}], \"scatterternary\": [{\"marker\": {\"colorbar\": {\"outlinewidth\": 0, \"ticks\": \"\"}}, \"type\": \"scatterternary\"}], \"surface\": [{\"colorbar\": {\"outlinewidth\": 0, \"ticks\": \"\"}, \"colorscale\": [[0.0, \"#0d0887\"], [0.1111111111111111, \"#46039f\"], [0.2222222222222222, \"#7201a8\"], [0.3333333333333333, \"#9c179e\"], [0.4444444444444444, \"#bd3786\"], [0.5555555555555556, \"#d8576b\"], [0.6666666666666666, \"#ed7953\"], [0.7777777777777778, \"#fb9f3a\"], [0.8888888888888888, \"#fdca26\"], [1.0, \"#f0f921\"]], \"type\": \"surface\"}], \"table\": [{\"cells\": {\"fill\": {\"color\": \"#EBF0F8\"}, \"line\": {\"color\": \"white\"}}, \"header\": {\"fill\": {\"color\": \"#C8D4E3\"}, \"line\": {\"color\": \"white\"}}, \"type\": \"table\"}]}, \"layout\": {\"annotationdefaults\": {\"arrowcolor\": \"#2a3f5f\", \"arrowhead\": 0, \"arrowwidth\": 1}, \"colorscale\": {\"diverging\": [[0, \"#8e0152\"], [0.1, \"#c51b7d\"], [0.2, \"#de77ae\"], [0.3, \"#f1b6da\"], [0.4, \"#fde0ef\"], [0.5, \"#f7f7f7\"], [0.6, \"#e6f5d0\"], [0.7, \"#b8e186\"], [0.8, \"#7fbc41\"], [0.9, \"#4d9221\"], [1, \"#276419\"]], \"sequential\": [[0.0, \"#0d0887\"], [0.1111111111111111, \"#46039f\"], [0.2222222222222222, \"#7201a8\"], [0.3333333333333333, \"#9c179e\"], [0.4444444444444444, \"#bd3786\"], [0.5555555555555556, \"#d8576b\"], [0.6666666666666666, \"#ed7953\"], [0.7777777777777778, \"#fb9f3a\"], [0.8888888888888888, \"#fdca26\"], [1.0, \"#f0f921\"]], \"sequentialminus\": [[0.0, \"#0d0887\"], [0.1111111111111111, \"#46039f\"], [0.2222222222222222, \"#7201a8\"], [0.3333333333333333, \"#9c179e\"], [0.4444444444444444, \"#bd3786\"], [0.5555555555555556, \"#d8576b\"], [0.6666666666666666, \"#ed7953\"], [0.7777777777777778, \"#fb9f3a\"], [0.8888888888888888, \"#fdca26\"], [1.0, \"#f0f921\"]]}, \"colorway\": [\"#636efa\", \"#EF553B\", \"#00cc96\", \"#ab63fa\", \"#FFA15A\", \"#19d3f3\", \"#FF6692\", \"#B6E880\", \"#FF97FF\", \"#FECB52\"], \"font\": {\"color\": \"#2a3f5f\"}, \"geo\": {\"bgcolor\": \"white\", \"lakecolor\": \"white\", \"landcolor\": \"#E5ECF6\", \"showlakes\": true, \"showland\": true, \"subunitcolor\": \"white\"}, \"hoverlabel\": {\"align\": \"left\"}, \"hovermode\": \"closest\", \"mapbox\": {\"style\": \"light\"}, \"paper_bgcolor\": \"white\", \"plot_bgcolor\": \"#E5ECF6\", \"polar\": {\"angularaxis\": {\"gridcolor\": \"white\", \"linecolor\": \"white\", \"ticks\": \"\"}, \"bgcolor\": \"#E5ECF6\", \"radialaxis\": {\"gridcolor\": \"white\", \"linecolor\": \"white\", \"ticks\": \"\"}}, \"scene\": {\"xaxis\": {\"backgroundcolor\": \"#E5ECF6\", \"gridcolor\": \"white\", \"gridwidth\": 2, \"linecolor\": \"white\", \"showbackground\": true, \"ticks\": \"\", \"zerolinecolor\": \"white\"}, \"yaxis\": {\"backgroundcolor\": \"#E5ECF6\", \"gridcolor\": \"white\", \"gridwidth\": 2, \"linecolor\": \"white\", \"showbackground\": true, \"ticks\": \"\", \"zerolinecolor\": \"white\"}, \"zaxis\": {\"backgroundcolor\": \"#E5ECF6\", \"gridcolor\": \"white\", \"gridwidth\": 2, \"linecolor\": \"white\", \"showbackground\": true, \"ticks\": \"\", \"zerolinecolor\": \"white\"}}, \"shapedefaults\": {\"line\": {\"color\": \"#2a3f5f\"}}, \"ternary\": {\"aaxis\": {\"gridcolor\": \"white\", \"linecolor\": \"white\", \"ticks\": \"\"}, \"baxis\": {\"gridcolor\": \"white\", \"linecolor\": \"white\", \"ticks\": \"\"}, \"bgcolor\": \"#E5ECF6\", \"caxis\": {\"gridcolor\": \"white\", \"linecolor\": \"white\", \"ticks\": \"\"}}, \"title\": {\"x\": 0.05}, \"xaxis\": {\"automargin\": true, \"gridcolor\": \"white\", \"linecolor\": \"white\", \"ticks\": \"\", \"zerolinecolor\": \"white\", \"zerolinewidth\": 2}, \"yaxis\": {\"automargin\": true, \"gridcolor\": \"white\", \"linecolor\": \"white\", \"ticks\": \"\", \"zerolinecolor\": \"white\", \"zerolinewidth\": 2}}}, \"xaxis\": {\"anchor\": \"y\", \"domain\": [0.0, 0.98], \"title\": {\"text\": \"LAP_NUMBER\"}}, \"yaxis\": {\"anchor\": \"x\", \"domain\": [0.0, 1.0], \"title\": {\"text\": \"ACCUMULATED_DELTA\"}}},\n",
       "                        {\"responsive\": true}\n",
       "                    ).then(function(){\n",
       "                            \n",
       "var gd = document.getElementById('e622766a-0b08-4054-b922-3f64b0a3158f');\n",
       "var x = new MutationObserver(function (mutations, observer) {{\n",
       "        var display = window.getComputedStyle(gd).display;\n",
       "        if (!display || display === 'none') {{\n",
       "            console.log([gd, 'removed!']);\n",
       "            Plotly.purge(gd);\n",
       "            observer.disconnect();\n",
       "        }}\n",
       "}});\n",
       "\n",
       "// Listen for the removal of the full notebook cells\n",
       "var notebookContainer = gd.closest('#notebook-container');\n",
       "if (notebookContainer) {{\n",
       "    x.observe(notebookContainer, {childList: true});\n",
       "}}\n",
       "\n",
       "// Listen for the clearing of the current output cell\n",
       "var outputEl = gd.closest('.output');\n",
       "if (outputEl) {{\n",
       "    x.observe(outputEl, {childList: true});\n",
       "}}\n",
       "\n",
       "                        })\n",
       "                };\n",
       "                });\n",
       "            </script>\n",
       "        </div>"
      ]
     },
     "metadata": {},
     "output_type": "display_data"
    }
   ],
   "source": [
    "import plotly.express as px\n",
    "\n",
    "fig = px.line(long_pace, x=\"LAP_NUMBER\", y=\"ACCUMULATED_DELTA\", color='NUMBER')\n",
    "fig.show()"
   ]
  },
  {
   "cell_type": "markdown",
   "metadata": {},
   "source": [
    "We can overplot the chart through the addition of extra traces:"
   ]
  },
  {
   "cell_type": "code",
   "execution_count": 215,
   "metadata": {},
   "outputs": [
    {
     "data": {
      "application/vnd.plotly.v1+json": {
       "config": {
        "plotlyServerURL": "https://plot.ly"
       },
       "data": [
        {
         "hoverlabel": {
          "namelength": 0
         },
         "hovertemplate": "NUMBER=8<br>LAP_NUMBER=%{x}<br>ACCUMULATED_DELTA=%{y}",
         "legendgroup": "NUMBER=8",
         "line": {
          "color": "#636efa",
          "dash": "solid"
         },
         "mode": "lines",
         "name": "NUMBER=8",
         "showlegend": true,
         "type": "scatter",
         "x": [
          1,
          2,
          3,
          4,
          5,
          6,
          7,
          8,
          9,
          10,
          11,
          12,
          13,
          14,
          15,
          16,
          17,
          18,
          19,
          20,
          21,
          22,
          23,
          24,
          25,
          26,
          27,
          28,
          29,
          30,
          31,
          32,
          33,
          34,
          35,
          36,
          37,
          38,
          39,
          40,
          41,
          42,
          43,
          44,
          45,
          46,
          47,
          48,
          49,
          50,
          51,
          52,
          53,
          54,
          55,
          56,
          57,
          58,
          59,
          60,
          61,
          62,
          63,
          64,
          65,
          66,
          67,
          68,
          69,
          70,
          71,
          72,
          73,
          74,
          75,
          76,
          77,
          78,
          79,
          80,
          81,
          82,
          83,
          84,
          85,
          86,
          87,
          88,
          89,
          90,
          91,
          92,
          93,
          94,
          95,
          96,
          97,
          98,
          99,
          100,
          101,
          102,
          103,
          104,
          105,
          106,
          107,
          108,
          109,
          110,
          111,
          112,
          113,
          114,
          115,
          116,
          117,
          118,
          119,
          120,
          121,
          122,
          123,
          124,
          125,
          126,
          127,
          128,
          129,
          130,
          131,
          132,
          133
         ],
         "xaxis": "x",
         "y": [
          0,
          0,
          0,
          0,
          0,
          0,
          0,
          0,
          0,
          0,
          0,
          0,
          0,
          0,
          0,
          0,
          0,
          0,
          0,
          0,
          0,
          0,
          0,
          0,
          0,
          0,
          0,
          0,
          0,
          0,
          0,
          0,
          0,
          0,
          0,
          0,
          0,
          0,
          0,
          0,
          0,
          0,
          0,
          0,
          0,
          0,
          0,
          0,
          0,
          0,
          0,
          0,
          0,
          0,
          0,
          0,
          0,
          0,
          0,
          0,
          0,
          0,
          0,
          0,
          0,
          0,
          0,
          0,
          0,
          0,
          0,
          0,
          0,
          0,
          0,
          0,
          0,
          0,
          0,
          0,
          0,
          0,
          0,
          0,
          0,
          0,
          0,
          0,
          0,
          0,
          0,
          0,
          0,
          0,
          0,
          0,
          0,
          0,
          0,
          0,
          0,
          0,
          0,
          0,
          0,
          0,
          0,
          0,
          0,
          0,
          0,
          0,
          0,
          0,
          0,
          0,
          0,
          0,
          0,
          0,
          0,
          0,
          0,
          0,
          0,
          0,
          0,
          0,
          0,
          0,
          0,
          0,
          0
         ],
         "yaxis": "y"
        },
        {
         "hoverlabel": {
          "namelength": 0
         },
         "hovertemplate": "NUMBER=3<br>LAP_NUMBER=%{x}<br>ACCUMULATED_DELTA=%{y}",
         "legendgroup": "NUMBER=3",
         "line": {
          "color": "#EF553B",
          "dash": "solid"
         },
         "mode": "lines",
         "name": "NUMBER=3",
         "showlegend": true,
         "type": "scatter",
         "x": [
          1,
          2,
          3,
          4,
          5,
          6,
          7,
          8,
          9,
          10,
          11,
          12,
          13,
          14,
          15,
          16,
          17,
          18,
          19,
          20,
          21,
          22,
          23,
          24,
          25,
          26,
          27,
          28,
          29,
          30,
          31,
          32,
          33,
          34,
          35,
          36,
          37,
          38,
          39,
          40,
          41,
          42,
          43,
          44,
          45,
          46,
          47,
          48,
          49,
          50,
          51,
          52,
          53,
          54,
          55,
          56,
          57,
          58,
          59,
          60,
          61,
          62,
          63,
          64,
          65,
          66,
          67,
          68,
          69,
          70,
          71,
          72,
          73,
          74,
          75,
          76,
          77,
          78,
          79,
          80,
          81,
          82,
          83,
          84,
          85,
          86,
          87,
          88,
          89,
          90,
          91,
          92,
          93,
          94,
          95,
          96,
          97,
          98,
          99,
          100,
          101,
          102,
          103,
          104,
          105,
          106,
          107,
          108,
          109,
          110,
          111,
          112,
          113,
          114,
          115,
          116,
          117,
          118,
          119,
          120,
          121,
          122,
          123,
          124,
          125,
          126,
          127,
          128,
          129,
          130,
          131,
          132,
          133
         ],
         "xaxis": "x",
         "y": [
          1.7620000000000005,
          3.899000000000001,
          4.771000000000015,
          -9.825999999999993,
          -10.266999999999996,
          -7.75,
          -3.1030000000000086,
          -2.483000000000004,
          -1.671999999999997,
          -0.4480000000000075,
          -1.2370000000000232,
          -0.5579999999999927,
          -0.42900000000000205,
          -0.19900000000001228,
          -0.44700000000000273,
          -0.4449999999999932,
          -0.21399999999999864,
          4.452000000000027,
          9.66700000000003,
          16.249000000000052,
          21.18100000000007,
          25.119000000000085,
          29.1220000000001,
          7.594000000000136,
          1.0150000000001569,
          -42.01999999999984,
          -21.421999999999855,
          44.87500000000014,
          23.261000000000138,
          -21.93099999999987,
          -16.681999999999874,
          -11.702999999999875,
          -3.513999999999882,
          0.45300000000011664,
          9.260000000000133,
          14.165000000000134,
          23.740000000000137,
          61.959000000000145,
          58.79900000000015,
          57.75500000000015,
          60.78200000000015,
          63.07000000000015,
          66.33400000000015,
          66.50300000000016,
          180.94000000000014,
          81.63200000000015,
          82.87600000000015,
          83.44000000000014,
          86.67000000000014,
          87.73400000000014,
          121.30200000000015,
          213.28900000000016,
          93.22700000000016,
          96.00300000000017,
          98.42400000000016,
          98.60600000000017,
          98.03600000000017,
          102.61400000000017,
          102.93600000000018,
          101.13200000000018,
          101.51900000000018,
          103.79800000000017,
          109.31700000000016,
          112.04800000000016,
          112.29100000000017,
          112.92200000000017,
          112.63000000000017,
          111.25800000000017,
          113.65800000000017,
          115.35900000000017,
          117.43500000000017,
          123.08700000000016,
          122.43200000000016,
          129.32600000000014,
          125.90500000000014,
          125.11400000000015,
          126.77700000000014,
          127.49400000000014,
          128.59100000000012,
          130.83100000000013,
          132.62100000000012,
          143.8210000000001,
          201.5950000000001,
          196.93700000000013,
          198.18100000000013,
          200.45800000000014,
          202.69000000000014,
          203.88600000000014,
          202.03400000000013,
          206.76400000000015,
          210.98100000000014,
          213.41600000000014,
          218.22100000000012,
          220.5110000000001,
          225.2420000000001,
          227.07100000000008,
          233.14400000000006,
          234.12200000000007,
          236.00100000000006,
          236.37100000000007,
          234.76100000000005,
          252.37800000000007,
          306.8310000000001,
          259.3020000000001,
          301.5470000000001,
          336.9320000000001,
          335.5580000000001,
          259.69000000000005,
          247.14100000000005,
          231.75700000000006,
          222.66500000000005,
          228.36300000000006,
          171.93800000000007,
          179.92500000000007,
          191.70500000000007,
          199.82500000000007,
          205.81300000000007,
          210.47800000000007,
          213.98900000000006,
          219.10800000000006,
          225.00400000000008,
          230.56400000000008,
          236.29800000000006,
          246.28200000000007,
          308.2920000000001,
          315.50700000000006,
          339.4530000000001,
          346.16300000000007,
          283.5330000000001,
          237.80900000000005,
          229.23500000000004,
          229.46400000000006,
          null
         ],
         "yaxis": "y"
        },
        {
         "hoverlabel": {
          "namelength": 0
         },
         "hovertemplate": "NUMBER=11<br>LAP_NUMBER=%{x}<br>ACCUMULATED_DELTA=%{y}",
         "legendgroup": "NUMBER=11",
         "line": {
          "color": "#00cc96",
          "dash": "solid"
         },
         "mode": "lines",
         "name": "NUMBER=11",
         "showlegend": true,
         "type": "scatter",
         "x": [
          1,
          2,
          3,
          4,
          5,
          6,
          7,
          8,
          9,
          10,
          11,
          12,
          13,
          14,
          15,
          16,
          17,
          18,
          19,
          20,
          21,
          22,
          23,
          24,
          25,
          26,
          27,
          28,
          29,
          30,
          31,
          32,
          33,
          34,
          35,
          36,
          37,
          38,
          39,
          40,
          41,
          42,
          43,
          44,
          45,
          46,
          47,
          48,
          49,
          50,
          51,
          52,
          53,
          54,
          55,
          56,
          57,
          58,
          59,
          60,
          61,
          62,
          63,
          64,
          65,
          66,
          67,
          68,
          69,
          70,
          71,
          72,
          73,
          74,
          75,
          76,
          77,
          78,
          79,
          80,
          81,
          82,
          83,
          84,
          85,
          86,
          87,
          88,
          89,
          90,
          91,
          92,
          93,
          94,
          95,
          96,
          97,
          98,
          99,
          100,
          101,
          102,
          103,
          104,
          105,
          106,
          107,
          108,
          109,
          110,
          111,
          112,
          113,
          114,
          115,
          116,
          117,
          118,
          119,
          120,
          121,
          122,
          123,
          124,
          125,
          126,
          127,
          128,
          129,
          130,
          131,
          132,
          133
         ],
         "xaxis": "x",
         "y": [
          3.6539999999999964,
          6.040999999999997,
          0.8230000000000075,
          -33.56700000000001,
          7.155000000000001,
          9.86099999999999,
          12.107999999999976,
          12.687999999999988,
          13.466999999999985,
          7.2339999999999804,
          3.988999999999976,
          1.275999999999982,
          2.59699999999998,
          2.10299999999998,
          2.125,
          1.671999999999997,
          0.9039999999999964,
          5.445000000000022,
          10.117000000000047,
          14.292000000000058,
          17.25100000000006,
          19.190000000000055,
          28.45500000000007,
          6.543000000000092,
          -1.7379999999998859,
          -45.806999999999874,
          -24.871999999999872,
          27.36300000000014,
          -1.826999999999856,
          -53.14599999999987,
          -53.65099999999987,
          -50.28499999999987,
          -42.32899999999988,
          -34.49799999999988,
          -19.154999999999887,
          19.4880000000001,
          19.326000000000107,
          19.94900000000011,
          16.69000000000011,
          24.743000000000123,
          27.225000000000122,
          32.08700000000013,
          32.25600000000013,
          34.70200000000014,
          84.53000000000014,
          44.85900000000015,
          49.073000000000164,
          50.365000000000165,
          51.49700000000017,
          54.35400000000017,
          62.976000000000184,
          155.59100000000018,
          54.05500000000018,
          56.02800000000019,
          59.32300000000019,
          60.35000000000019,
          60.0180000000002,
          62.75800000000021,
          62.515000000000214,
          66.63500000000022,
          72.88700000000021,
          75.01400000000021,
          75.60400000000021,
          81.24000000000021,
          140.17600000000022,
          144.0680000000002,
          146.8260000000002,
          147.9400000000002,
          152.9830000000002,
          155.2530000000002,
          152.4310000000002,
          101.6200000000002,
          108.3120000000002,
          111.03400000000019,
          110.7270000000002,
          113.30000000000021,
          123.41300000000022,
          140.66100000000023,
          142.80000000000024,
          143.45500000000024,
          144.29300000000023,
          157.51700000000022,
          226.58200000000022,
          172.76900000000023,
          166.90100000000024,
          165.07400000000024,
          165.91700000000023,
          166.07800000000023,
          163.66700000000023,
          167.22200000000024,
          170.8360000000002,
          169.9530000000002,
          177.5880000000002,
          182.27600000000018,
          189.88600000000017,
          193.84700000000015,
          197.95600000000013,
          200.49300000000014,
          204.77600000000012,
          214.3370000000001,
          268.44500000000005,
          279.6020000000001,
          280.9260000000001,
          231.7210000000001,
          266.2100000000001,
          324.6240000000001,
          330.5060000000001,
          256.18600000000004,
          243.78600000000003,
          228.11500000000004,
          219.28200000000004,
          226.77100000000004,
          175.90600000000006,
          182.61600000000007,
          192.6080000000001,
          202.0850000000001,
          209.7710000000001,
          215.0880000000001,
          221.7080000000001,
          225.32400000000013,
          227.91600000000014,
          242.39800000000014,
          311.27700000000016,
          325.31600000000014,
          358.26800000000014,
          364.4720000000001,
          396.0920000000001,
          358.65100000000007,
          299.05000000000007,
          251.25000000000006,
          242.18300000000005,
          236.02000000000004,
          null
         ],
         "yaxis": "y"
        },
        {
         "mode": "markers",
         "name": "Pit stops",
         "type": "scatter",
         "x": [
          4,
          26,
          30,
          46,
          53,
          72,
          84,
          104,
          126
         ],
         "y": [
          0,
          0,
          0,
          0,
          0,
          0,
          0,
          0,
          0
         ]
        }
       ],
       "layout": {
        "height": 600,
        "legend": {
         "tracegroupgap": 0
        },
        "margin": {
         "t": 60
        },
        "template": {
         "data": {
          "bar": [
           {
            "error_x": {
             "color": "#2a3f5f"
            },
            "error_y": {
             "color": "#2a3f5f"
            },
            "marker": {
             "line": {
              "color": "#E5ECF6",
              "width": 0.5
             }
            },
            "type": "bar"
           }
          ],
          "barpolar": [
           {
            "marker": {
             "line": {
              "color": "#E5ECF6",
              "width": 0.5
             }
            },
            "type": "barpolar"
           }
          ],
          "carpet": [
           {
            "aaxis": {
             "endlinecolor": "#2a3f5f",
             "gridcolor": "white",
             "linecolor": "white",
             "minorgridcolor": "white",
             "startlinecolor": "#2a3f5f"
            },
            "baxis": {
             "endlinecolor": "#2a3f5f",
             "gridcolor": "white",
             "linecolor": "white",
             "minorgridcolor": "white",
             "startlinecolor": "#2a3f5f"
            },
            "type": "carpet"
           }
          ],
          "choropleth": [
           {
            "colorbar": {
             "outlinewidth": 0,
             "ticks": ""
            },
            "type": "choropleth"
           }
          ],
          "contour": [
           {
            "colorbar": {
             "outlinewidth": 0,
             "ticks": ""
            },
            "colorscale": [
             [
              0,
              "#0d0887"
             ],
             [
              0.1111111111111111,
              "#46039f"
             ],
             [
              0.2222222222222222,
              "#7201a8"
             ],
             [
              0.3333333333333333,
              "#9c179e"
             ],
             [
              0.4444444444444444,
              "#bd3786"
             ],
             [
              0.5555555555555556,
              "#d8576b"
             ],
             [
              0.6666666666666666,
              "#ed7953"
             ],
             [
              0.7777777777777778,
              "#fb9f3a"
             ],
             [
              0.8888888888888888,
              "#fdca26"
             ],
             [
              1,
              "#f0f921"
             ]
            ],
            "type": "contour"
           }
          ],
          "contourcarpet": [
           {
            "colorbar": {
             "outlinewidth": 0,
             "ticks": ""
            },
            "type": "contourcarpet"
           }
          ],
          "heatmap": [
           {
            "colorbar": {
             "outlinewidth": 0,
             "ticks": ""
            },
            "colorscale": [
             [
              0,
              "#0d0887"
             ],
             [
              0.1111111111111111,
              "#46039f"
             ],
             [
              0.2222222222222222,
              "#7201a8"
             ],
             [
              0.3333333333333333,
              "#9c179e"
             ],
             [
              0.4444444444444444,
              "#bd3786"
             ],
             [
              0.5555555555555556,
              "#d8576b"
             ],
             [
              0.6666666666666666,
              "#ed7953"
             ],
             [
              0.7777777777777778,
              "#fb9f3a"
             ],
             [
              0.8888888888888888,
              "#fdca26"
             ],
             [
              1,
              "#f0f921"
             ]
            ],
            "type": "heatmap"
           }
          ],
          "heatmapgl": [
           {
            "colorbar": {
             "outlinewidth": 0,
             "ticks": ""
            },
            "colorscale": [
             [
              0,
              "#0d0887"
             ],
             [
              0.1111111111111111,
              "#46039f"
             ],
             [
              0.2222222222222222,
              "#7201a8"
             ],
             [
              0.3333333333333333,
              "#9c179e"
             ],
             [
              0.4444444444444444,
              "#bd3786"
             ],
             [
              0.5555555555555556,
              "#d8576b"
             ],
             [
              0.6666666666666666,
              "#ed7953"
             ],
             [
              0.7777777777777778,
              "#fb9f3a"
             ],
             [
              0.8888888888888888,
              "#fdca26"
             ],
             [
              1,
              "#f0f921"
             ]
            ],
            "type": "heatmapgl"
           }
          ],
          "histogram": [
           {
            "marker": {
             "colorbar": {
              "outlinewidth": 0,
              "ticks": ""
             }
            },
            "type": "histogram"
           }
          ],
          "histogram2d": [
           {
            "colorbar": {
             "outlinewidth": 0,
             "ticks": ""
            },
            "colorscale": [
             [
              0,
              "#0d0887"
             ],
             [
              0.1111111111111111,
              "#46039f"
             ],
             [
              0.2222222222222222,
              "#7201a8"
             ],
             [
              0.3333333333333333,
              "#9c179e"
             ],
             [
              0.4444444444444444,
              "#bd3786"
             ],
             [
              0.5555555555555556,
              "#d8576b"
             ],
             [
              0.6666666666666666,
              "#ed7953"
             ],
             [
              0.7777777777777778,
              "#fb9f3a"
             ],
             [
              0.8888888888888888,
              "#fdca26"
             ],
             [
              1,
              "#f0f921"
             ]
            ],
            "type": "histogram2d"
           }
          ],
          "histogram2dcontour": [
           {
            "colorbar": {
             "outlinewidth": 0,
             "ticks": ""
            },
            "colorscale": [
             [
              0,
              "#0d0887"
             ],
             [
              0.1111111111111111,
              "#46039f"
             ],
             [
              0.2222222222222222,
              "#7201a8"
             ],
             [
              0.3333333333333333,
              "#9c179e"
             ],
             [
              0.4444444444444444,
              "#bd3786"
             ],
             [
              0.5555555555555556,
              "#d8576b"
             ],
             [
              0.6666666666666666,
              "#ed7953"
             ],
             [
              0.7777777777777778,
              "#fb9f3a"
             ],
             [
              0.8888888888888888,
              "#fdca26"
             ],
             [
              1,
              "#f0f921"
             ]
            ],
            "type": "histogram2dcontour"
           }
          ],
          "mesh3d": [
           {
            "colorbar": {
             "outlinewidth": 0,
             "ticks": ""
            },
            "type": "mesh3d"
           }
          ],
          "parcoords": [
           {
            "line": {
             "colorbar": {
              "outlinewidth": 0,
              "ticks": ""
             }
            },
            "type": "parcoords"
           }
          ],
          "scatter": [
           {
            "marker": {
             "colorbar": {
              "outlinewidth": 0,
              "ticks": ""
             }
            },
            "type": "scatter"
           }
          ],
          "scatter3d": [
           {
            "line": {
             "colorbar": {
              "outlinewidth": 0,
              "ticks": ""
             }
            },
            "marker": {
             "colorbar": {
              "outlinewidth": 0,
              "ticks": ""
             }
            },
            "type": "scatter3d"
           }
          ],
          "scattercarpet": [
           {
            "marker": {
             "colorbar": {
              "outlinewidth": 0,
              "ticks": ""
             }
            },
            "type": "scattercarpet"
           }
          ],
          "scattergeo": [
           {
            "marker": {
             "colorbar": {
              "outlinewidth": 0,
              "ticks": ""
             }
            },
            "type": "scattergeo"
           }
          ],
          "scattergl": [
           {
            "marker": {
             "colorbar": {
              "outlinewidth": 0,
              "ticks": ""
             }
            },
            "type": "scattergl"
           }
          ],
          "scattermapbox": [
           {
            "marker": {
             "colorbar": {
              "outlinewidth": 0,
              "ticks": ""
             }
            },
            "type": "scattermapbox"
           }
          ],
          "scatterpolar": [
           {
            "marker": {
             "colorbar": {
              "outlinewidth": 0,
              "ticks": ""
             }
            },
            "type": "scatterpolar"
           }
          ],
          "scatterpolargl": [
           {
            "marker": {
             "colorbar": {
              "outlinewidth": 0,
              "ticks": ""
             }
            },
            "type": "scatterpolargl"
           }
          ],
          "scatterternary": [
           {
            "marker": {
             "colorbar": {
              "outlinewidth": 0,
              "ticks": ""
             }
            },
            "type": "scatterternary"
           }
          ],
          "surface": [
           {
            "colorbar": {
             "outlinewidth": 0,
             "ticks": ""
            },
            "colorscale": [
             [
              0,
              "#0d0887"
             ],
             [
              0.1111111111111111,
              "#46039f"
             ],
             [
              0.2222222222222222,
              "#7201a8"
             ],
             [
              0.3333333333333333,
              "#9c179e"
             ],
             [
              0.4444444444444444,
              "#bd3786"
             ],
             [
              0.5555555555555556,
              "#d8576b"
             ],
             [
              0.6666666666666666,
              "#ed7953"
             ],
             [
              0.7777777777777778,
              "#fb9f3a"
             ],
             [
              0.8888888888888888,
              "#fdca26"
             ],
             [
              1,
              "#f0f921"
             ]
            ],
            "type": "surface"
           }
          ],
          "table": [
           {
            "cells": {
             "fill": {
              "color": "#EBF0F8"
             },
             "line": {
              "color": "white"
             }
            },
            "header": {
             "fill": {
              "color": "#C8D4E3"
             },
             "line": {
              "color": "white"
             }
            },
            "type": "table"
           }
          ]
         },
         "layout": {
          "annotationdefaults": {
           "arrowcolor": "#2a3f5f",
           "arrowhead": 0,
           "arrowwidth": 1
          },
          "colorscale": {
           "diverging": [
            [
             0,
             "#8e0152"
            ],
            [
             0.1,
             "#c51b7d"
            ],
            [
             0.2,
             "#de77ae"
            ],
            [
             0.3,
             "#f1b6da"
            ],
            [
             0.4,
             "#fde0ef"
            ],
            [
             0.5,
             "#f7f7f7"
            ],
            [
             0.6,
             "#e6f5d0"
            ],
            [
             0.7,
             "#b8e186"
            ],
            [
             0.8,
             "#7fbc41"
            ],
            [
             0.9,
             "#4d9221"
            ],
            [
             1,
             "#276419"
            ]
           ],
           "sequential": [
            [
             0,
             "#0d0887"
            ],
            [
             0.1111111111111111,
             "#46039f"
            ],
            [
             0.2222222222222222,
             "#7201a8"
            ],
            [
             0.3333333333333333,
             "#9c179e"
            ],
            [
             0.4444444444444444,
             "#bd3786"
            ],
            [
             0.5555555555555556,
             "#d8576b"
            ],
            [
             0.6666666666666666,
             "#ed7953"
            ],
            [
             0.7777777777777778,
             "#fb9f3a"
            ],
            [
             0.8888888888888888,
             "#fdca26"
            ],
            [
             1,
             "#f0f921"
            ]
           ],
           "sequentialminus": [
            [
             0,
             "#0d0887"
            ],
            [
             0.1111111111111111,
             "#46039f"
            ],
            [
             0.2222222222222222,
             "#7201a8"
            ],
            [
             0.3333333333333333,
             "#9c179e"
            ],
            [
             0.4444444444444444,
             "#bd3786"
            ],
            [
             0.5555555555555556,
             "#d8576b"
            ],
            [
             0.6666666666666666,
             "#ed7953"
            ],
            [
             0.7777777777777778,
             "#fb9f3a"
            ],
            [
             0.8888888888888888,
             "#fdca26"
            ],
            [
             1,
             "#f0f921"
            ]
           ]
          },
          "colorway": [
           "#636efa",
           "#EF553B",
           "#00cc96",
           "#ab63fa",
           "#FFA15A",
           "#19d3f3",
           "#FF6692",
           "#B6E880",
           "#FF97FF",
           "#FECB52"
          ],
          "font": {
           "color": "#2a3f5f"
          },
          "geo": {
           "bgcolor": "white",
           "lakecolor": "white",
           "landcolor": "#E5ECF6",
           "showlakes": true,
           "showland": true,
           "subunitcolor": "white"
          },
          "hoverlabel": {
           "align": "left"
          },
          "hovermode": "closest",
          "mapbox": {
           "style": "light"
          },
          "paper_bgcolor": "white",
          "plot_bgcolor": "#E5ECF6",
          "polar": {
           "angularaxis": {
            "gridcolor": "white",
            "linecolor": "white",
            "ticks": ""
           },
           "bgcolor": "#E5ECF6",
           "radialaxis": {
            "gridcolor": "white",
            "linecolor": "white",
            "ticks": ""
           }
          },
          "scene": {
           "xaxis": {
            "backgroundcolor": "#E5ECF6",
            "gridcolor": "white",
            "gridwidth": 2,
            "linecolor": "white",
            "showbackground": true,
            "ticks": "",
            "zerolinecolor": "white"
           },
           "yaxis": {
            "backgroundcolor": "#E5ECF6",
            "gridcolor": "white",
            "gridwidth": 2,
            "linecolor": "white",
            "showbackground": true,
            "ticks": "",
            "zerolinecolor": "white"
           },
           "zaxis": {
            "backgroundcolor": "#E5ECF6",
            "gridcolor": "white",
            "gridwidth": 2,
            "linecolor": "white",
            "showbackground": true,
            "ticks": "",
            "zerolinecolor": "white"
           }
          },
          "shapedefaults": {
           "line": {
            "color": "#2a3f5f"
           }
          },
          "ternary": {
           "aaxis": {
            "gridcolor": "white",
            "linecolor": "white",
            "ticks": ""
           },
           "baxis": {
            "gridcolor": "white",
            "linecolor": "white",
            "ticks": ""
           },
           "bgcolor": "#E5ECF6",
           "caxis": {
            "gridcolor": "white",
            "linecolor": "white",
            "ticks": ""
           }
          },
          "title": {
           "x": 0.05
          },
          "xaxis": {
           "automargin": true,
           "gridcolor": "white",
           "linecolor": "white",
           "ticks": "",
           "zerolinecolor": "white",
           "zerolinewidth": 2
          },
          "yaxis": {
           "automargin": true,
           "gridcolor": "white",
           "linecolor": "white",
           "ticks": "",
           "zerolinecolor": "white",
           "zerolinewidth": 2
          }
         }
        },
        "xaxis": {
         "anchor": "y",
         "domain": [
          0,
          0.98
         ],
         "title": {
          "text": "LAP_NUMBER"
         }
        },
        "yaxis": {
         "anchor": "x",
         "domain": [
          0,
          1
         ],
         "title": {
          "text": "ACCUMULATED_DELTA"
         }
        }
       }
      },
      "text/html": [
       "<div>\n",
       "        \n",
       "        \n",
       "            <div id=\"06f87f9c-ae58-406e-9554-0aa43199fb5e\" class=\"plotly-graph-div\" style=\"height:600px; width:100%;\"></div>\n",
       "            <script type=\"text/javascript\">\n",
       "                require([\"plotly\"], function(Plotly) {\n",
       "                    window.PLOTLYENV=window.PLOTLYENV || {};\n",
       "                    \n",
       "                if (document.getElementById(\"06f87f9c-ae58-406e-9554-0aa43199fb5e\")) {\n",
       "                    Plotly.newPlot(\n",
       "                        '06f87f9c-ae58-406e-9554-0aa43199fb5e',\n",
       "                        [{\"hoverlabel\": {\"namelength\": 0}, \"hovertemplate\": \"NUMBER=8<br>LAP_NUMBER=%{x}<br>ACCUMULATED_DELTA=%{y}\", \"legendgroup\": \"NUMBER=8\", \"line\": {\"color\": \"#636efa\", \"dash\": \"solid\"}, \"mode\": \"lines\", \"name\": \"NUMBER=8\", \"showlegend\": true, \"type\": \"scatter\", \"x\": [1, 2, 3, 4, 5, 6, 7, 8, 9, 10, 11, 12, 13, 14, 15, 16, 17, 18, 19, 20, 21, 22, 23, 24, 25, 26, 27, 28, 29, 30, 31, 32, 33, 34, 35, 36, 37, 38, 39, 40, 41, 42, 43, 44, 45, 46, 47, 48, 49, 50, 51, 52, 53, 54, 55, 56, 57, 58, 59, 60, 61, 62, 63, 64, 65, 66, 67, 68, 69, 70, 71, 72, 73, 74, 75, 76, 77, 78, 79, 80, 81, 82, 83, 84, 85, 86, 87, 88, 89, 90, 91, 92, 93, 94, 95, 96, 97, 98, 99, 100, 101, 102, 103, 104, 105, 106, 107, 108, 109, 110, 111, 112, 113, 114, 115, 116, 117, 118, 119, 120, 121, 122, 123, 124, 125, 126, 127, 128, 129, 130, 131, 132, 133], \"xaxis\": \"x\", \"y\": [0.0, 0.0, 0.0, 0.0, 0.0, 0.0, 0.0, 0.0, 0.0, 0.0, 0.0, 0.0, 0.0, 0.0, 0.0, 0.0, 0.0, 0.0, 0.0, 0.0, 0.0, 0.0, 0.0, 0.0, 0.0, 0.0, 0.0, 0.0, 0.0, 0.0, 0.0, 0.0, 0.0, 0.0, 0.0, 0.0, 0.0, 0.0, 0.0, 0.0, 0.0, 0.0, 0.0, 0.0, 0.0, 0.0, 0.0, 0.0, 0.0, 0.0, 0.0, 0.0, 0.0, 0.0, 0.0, 0.0, 0.0, 0.0, 0.0, 0.0, 0.0, 0.0, 0.0, 0.0, 0.0, 0.0, 0.0, 0.0, 0.0, 0.0, 0.0, 0.0, 0.0, 0.0, 0.0, 0.0, 0.0, 0.0, 0.0, 0.0, 0.0, 0.0, 0.0, 0.0, 0.0, 0.0, 0.0, 0.0, 0.0, 0.0, 0.0, 0.0, 0.0, 0.0, 0.0, 0.0, 0.0, 0.0, 0.0, 0.0, 0.0, 0.0, 0.0, 0.0, 0.0, 0.0, 0.0, 0.0, 0.0, 0.0, 0.0, 0.0, 0.0, 0.0, 0.0, 0.0, 0.0, 0.0, 0.0, 0.0, 0.0, 0.0, 0.0, 0.0, 0.0, 0.0, 0.0, 0.0, 0.0, 0.0, 0.0, 0.0, 0.0], \"yaxis\": \"y\"}, {\"hoverlabel\": {\"namelength\": 0}, \"hovertemplate\": \"NUMBER=3<br>LAP_NUMBER=%{x}<br>ACCUMULATED_DELTA=%{y}\", \"legendgroup\": \"NUMBER=3\", \"line\": {\"color\": \"#EF553B\", \"dash\": \"solid\"}, \"mode\": \"lines\", \"name\": \"NUMBER=3\", \"showlegend\": true, \"type\": \"scatter\", \"x\": [1, 2, 3, 4, 5, 6, 7, 8, 9, 10, 11, 12, 13, 14, 15, 16, 17, 18, 19, 20, 21, 22, 23, 24, 25, 26, 27, 28, 29, 30, 31, 32, 33, 34, 35, 36, 37, 38, 39, 40, 41, 42, 43, 44, 45, 46, 47, 48, 49, 50, 51, 52, 53, 54, 55, 56, 57, 58, 59, 60, 61, 62, 63, 64, 65, 66, 67, 68, 69, 70, 71, 72, 73, 74, 75, 76, 77, 78, 79, 80, 81, 82, 83, 84, 85, 86, 87, 88, 89, 90, 91, 92, 93, 94, 95, 96, 97, 98, 99, 100, 101, 102, 103, 104, 105, 106, 107, 108, 109, 110, 111, 112, 113, 114, 115, 116, 117, 118, 119, 120, 121, 122, 123, 124, 125, 126, 127, 128, 129, 130, 131, 132, 133], \"xaxis\": \"x\", \"y\": [1.7620000000000005, 3.899000000000001, 4.771000000000015, -9.825999999999993, -10.266999999999996, -7.75, -3.1030000000000086, -2.483000000000004, -1.671999999999997, -0.4480000000000075, -1.2370000000000232, -0.5579999999999927, -0.42900000000000205, -0.19900000000001228, -0.44700000000000273, -0.4449999999999932, -0.21399999999999864, 4.452000000000027, 9.66700000000003, 16.249000000000052, 21.18100000000007, 25.119000000000085, 29.1220000000001, 7.594000000000136, 1.0150000000001569, -42.01999999999984, -21.421999999999855, 44.87500000000014, 23.261000000000138, -21.93099999999987, -16.681999999999874, -11.702999999999875, -3.513999999999882, 0.45300000000011664, 9.260000000000133, 14.165000000000134, 23.740000000000137, 61.959000000000145, 58.79900000000015, 57.75500000000015, 60.78200000000015, 63.07000000000015, 66.33400000000015, 66.50300000000016, 180.94000000000014, 81.63200000000015, 82.87600000000015, 83.44000000000014, 86.67000000000014, 87.73400000000014, 121.30200000000015, 213.28900000000016, 93.22700000000016, 96.00300000000017, 98.42400000000016, 98.60600000000017, 98.03600000000017, 102.61400000000017, 102.93600000000018, 101.13200000000018, 101.51900000000018, 103.79800000000017, 109.31700000000016, 112.04800000000016, 112.29100000000017, 112.92200000000017, 112.63000000000017, 111.25800000000017, 113.65800000000017, 115.35900000000017, 117.43500000000017, 123.08700000000016, 122.43200000000016, 129.32600000000014, 125.90500000000014, 125.11400000000015, 126.77700000000014, 127.49400000000014, 128.59100000000012, 130.83100000000013, 132.62100000000012, 143.8210000000001, 201.5950000000001, 196.93700000000013, 198.18100000000013, 200.45800000000014, 202.69000000000014, 203.88600000000014, 202.03400000000013, 206.76400000000015, 210.98100000000014, 213.41600000000014, 218.22100000000012, 220.5110000000001, 225.2420000000001, 227.07100000000008, 233.14400000000006, 234.12200000000007, 236.00100000000006, 236.37100000000007, 234.76100000000005, 252.37800000000007, 306.8310000000001, 259.3020000000001, 301.5470000000001, 336.9320000000001, 335.5580000000001, 259.69000000000005, 247.14100000000005, 231.75700000000006, 222.66500000000005, 228.36300000000006, 171.93800000000007, 179.92500000000007, 191.70500000000007, 199.82500000000007, 205.81300000000007, 210.47800000000007, 213.98900000000006, 219.10800000000006, 225.00400000000008, 230.56400000000008, 236.29800000000006, 246.28200000000007, 308.2920000000001, 315.50700000000006, 339.4530000000001, 346.16300000000007, 283.5330000000001, 237.80900000000005, 229.23500000000004, 229.46400000000006, null], \"yaxis\": \"y\"}, {\"hoverlabel\": {\"namelength\": 0}, \"hovertemplate\": \"NUMBER=11<br>LAP_NUMBER=%{x}<br>ACCUMULATED_DELTA=%{y}\", \"legendgroup\": \"NUMBER=11\", \"line\": {\"color\": \"#00cc96\", \"dash\": \"solid\"}, \"mode\": \"lines\", \"name\": \"NUMBER=11\", \"showlegend\": true, \"type\": \"scatter\", \"x\": [1, 2, 3, 4, 5, 6, 7, 8, 9, 10, 11, 12, 13, 14, 15, 16, 17, 18, 19, 20, 21, 22, 23, 24, 25, 26, 27, 28, 29, 30, 31, 32, 33, 34, 35, 36, 37, 38, 39, 40, 41, 42, 43, 44, 45, 46, 47, 48, 49, 50, 51, 52, 53, 54, 55, 56, 57, 58, 59, 60, 61, 62, 63, 64, 65, 66, 67, 68, 69, 70, 71, 72, 73, 74, 75, 76, 77, 78, 79, 80, 81, 82, 83, 84, 85, 86, 87, 88, 89, 90, 91, 92, 93, 94, 95, 96, 97, 98, 99, 100, 101, 102, 103, 104, 105, 106, 107, 108, 109, 110, 111, 112, 113, 114, 115, 116, 117, 118, 119, 120, 121, 122, 123, 124, 125, 126, 127, 128, 129, 130, 131, 132, 133], \"xaxis\": \"x\", \"y\": [3.6539999999999964, 6.040999999999997, 0.8230000000000075, -33.56700000000001, 7.155000000000001, 9.86099999999999, 12.107999999999976, 12.687999999999988, 13.466999999999985, 7.2339999999999804, 3.988999999999976, 1.275999999999982, 2.59699999999998, 2.10299999999998, 2.125, 1.671999999999997, 0.9039999999999964, 5.445000000000022, 10.117000000000047, 14.292000000000058, 17.25100000000006, 19.190000000000055, 28.45500000000007, 6.543000000000092, -1.7379999999998859, -45.806999999999874, -24.871999999999872, 27.36300000000014, -1.826999999999856, -53.14599999999987, -53.65099999999987, -50.28499999999987, -42.32899999999988, -34.49799999999988, -19.154999999999887, 19.4880000000001, 19.326000000000107, 19.94900000000011, 16.69000000000011, 24.743000000000123, 27.225000000000122, 32.08700000000013, 32.25600000000013, 34.70200000000014, 84.53000000000014, 44.85900000000015, 49.073000000000164, 50.365000000000165, 51.49700000000017, 54.35400000000017, 62.976000000000184, 155.59100000000018, 54.05500000000018, 56.02800000000019, 59.32300000000019, 60.35000000000019, 60.0180000000002, 62.75800000000021, 62.515000000000214, 66.63500000000022, 72.88700000000021, 75.01400000000021, 75.60400000000021, 81.24000000000021, 140.17600000000022, 144.0680000000002, 146.8260000000002, 147.9400000000002, 152.9830000000002, 155.2530000000002, 152.4310000000002, 101.6200000000002, 108.3120000000002, 111.03400000000019, 110.7270000000002, 113.30000000000021, 123.41300000000022, 140.66100000000023, 142.80000000000024, 143.45500000000024, 144.29300000000023, 157.51700000000022, 226.58200000000022, 172.76900000000023, 166.90100000000024, 165.07400000000024, 165.91700000000023, 166.07800000000023, 163.66700000000023, 167.22200000000024, 170.8360000000002, 169.9530000000002, 177.5880000000002, 182.27600000000018, 189.88600000000017, 193.84700000000015, 197.95600000000013, 200.49300000000014, 204.77600000000012, 214.3370000000001, 268.44500000000005, 279.6020000000001, 280.9260000000001, 231.7210000000001, 266.2100000000001, 324.6240000000001, 330.5060000000001, 256.18600000000004, 243.78600000000003, 228.11500000000004, 219.28200000000004, 226.77100000000004, 175.90600000000006, 182.61600000000007, 192.6080000000001, 202.0850000000001, 209.7710000000001, 215.0880000000001, 221.7080000000001, 225.32400000000013, 227.91600000000014, 242.39800000000014, 311.27700000000016, 325.31600000000014, 358.26800000000014, 364.4720000000001, 396.0920000000001, 358.65100000000007, 299.05000000000007, 251.25000000000006, 242.18300000000005, 236.02000000000004, null], \"yaxis\": \"y\"}, {\"mode\": \"markers\", \"name\": \"Pit stops\", \"type\": \"scatter\", \"x\": [4, 26, 30, 46, 53, 72, 84, 104, 126], \"y\": [0, 0, 0, 0, 0, 0, 0, 0, 0]}],\n",
       "                        {\"height\": 600, \"legend\": {\"tracegroupgap\": 0}, \"margin\": {\"t\": 60}, \"template\": {\"data\": {\"bar\": [{\"error_x\": {\"color\": \"#2a3f5f\"}, \"error_y\": {\"color\": \"#2a3f5f\"}, \"marker\": {\"line\": {\"color\": \"#E5ECF6\", \"width\": 0.5}}, \"type\": \"bar\"}], \"barpolar\": [{\"marker\": {\"line\": {\"color\": \"#E5ECF6\", \"width\": 0.5}}, \"type\": \"barpolar\"}], \"carpet\": [{\"aaxis\": {\"endlinecolor\": \"#2a3f5f\", \"gridcolor\": \"white\", \"linecolor\": \"white\", \"minorgridcolor\": \"white\", \"startlinecolor\": \"#2a3f5f\"}, \"baxis\": {\"endlinecolor\": \"#2a3f5f\", \"gridcolor\": \"white\", \"linecolor\": \"white\", \"minorgridcolor\": \"white\", \"startlinecolor\": \"#2a3f5f\"}, \"type\": \"carpet\"}], \"choropleth\": [{\"colorbar\": {\"outlinewidth\": 0, \"ticks\": \"\"}, \"type\": \"choropleth\"}], \"contour\": [{\"colorbar\": {\"outlinewidth\": 0, \"ticks\": \"\"}, \"colorscale\": [[0.0, \"#0d0887\"], [0.1111111111111111, \"#46039f\"], [0.2222222222222222, \"#7201a8\"], [0.3333333333333333, \"#9c179e\"], [0.4444444444444444, \"#bd3786\"], [0.5555555555555556, \"#d8576b\"], [0.6666666666666666, \"#ed7953\"], [0.7777777777777778, \"#fb9f3a\"], [0.8888888888888888, \"#fdca26\"], [1.0, \"#f0f921\"]], \"type\": \"contour\"}], \"contourcarpet\": [{\"colorbar\": {\"outlinewidth\": 0, \"ticks\": \"\"}, \"type\": \"contourcarpet\"}], \"heatmap\": [{\"colorbar\": {\"outlinewidth\": 0, \"ticks\": \"\"}, \"colorscale\": [[0.0, \"#0d0887\"], [0.1111111111111111, \"#46039f\"], [0.2222222222222222, \"#7201a8\"], [0.3333333333333333, \"#9c179e\"], [0.4444444444444444, \"#bd3786\"], [0.5555555555555556, \"#d8576b\"], [0.6666666666666666, \"#ed7953\"], [0.7777777777777778, \"#fb9f3a\"], [0.8888888888888888, \"#fdca26\"], [1.0, \"#f0f921\"]], \"type\": \"heatmap\"}], \"heatmapgl\": [{\"colorbar\": {\"outlinewidth\": 0, \"ticks\": \"\"}, \"colorscale\": [[0.0, \"#0d0887\"], [0.1111111111111111, \"#46039f\"], [0.2222222222222222, \"#7201a8\"], [0.3333333333333333, \"#9c179e\"], [0.4444444444444444, \"#bd3786\"], [0.5555555555555556, \"#d8576b\"], [0.6666666666666666, \"#ed7953\"], [0.7777777777777778, \"#fb9f3a\"], [0.8888888888888888, \"#fdca26\"], [1.0, \"#f0f921\"]], \"type\": \"heatmapgl\"}], \"histogram\": [{\"marker\": {\"colorbar\": {\"outlinewidth\": 0, \"ticks\": \"\"}}, \"type\": \"histogram\"}], \"histogram2d\": [{\"colorbar\": {\"outlinewidth\": 0, \"ticks\": \"\"}, \"colorscale\": [[0.0, \"#0d0887\"], [0.1111111111111111, \"#46039f\"], [0.2222222222222222, \"#7201a8\"], [0.3333333333333333, \"#9c179e\"], [0.4444444444444444, \"#bd3786\"], [0.5555555555555556, \"#d8576b\"], [0.6666666666666666, \"#ed7953\"], [0.7777777777777778, \"#fb9f3a\"], [0.8888888888888888, \"#fdca26\"], [1.0, \"#f0f921\"]], \"type\": \"histogram2d\"}], \"histogram2dcontour\": [{\"colorbar\": {\"outlinewidth\": 0, \"ticks\": \"\"}, \"colorscale\": [[0.0, \"#0d0887\"], [0.1111111111111111, \"#46039f\"], [0.2222222222222222, \"#7201a8\"], [0.3333333333333333, \"#9c179e\"], [0.4444444444444444, \"#bd3786\"], [0.5555555555555556, \"#d8576b\"], [0.6666666666666666, \"#ed7953\"], [0.7777777777777778, \"#fb9f3a\"], [0.8888888888888888, \"#fdca26\"], [1.0, \"#f0f921\"]], \"type\": \"histogram2dcontour\"}], \"mesh3d\": [{\"colorbar\": {\"outlinewidth\": 0, \"ticks\": \"\"}, \"type\": \"mesh3d\"}], \"parcoords\": [{\"line\": {\"colorbar\": {\"outlinewidth\": 0, \"ticks\": \"\"}}, \"type\": \"parcoords\"}], \"scatter\": [{\"marker\": {\"colorbar\": {\"outlinewidth\": 0, \"ticks\": \"\"}}, \"type\": \"scatter\"}], \"scatter3d\": [{\"line\": {\"colorbar\": {\"outlinewidth\": 0, \"ticks\": \"\"}}, \"marker\": {\"colorbar\": {\"outlinewidth\": 0, \"ticks\": \"\"}}, \"type\": \"scatter3d\"}], \"scattercarpet\": [{\"marker\": {\"colorbar\": {\"outlinewidth\": 0, \"ticks\": \"\"}}, \"type\": \"scattercarpet\"}], \"scattergeo\": [{\"marker\": {\"colorbar\": {\"outlinewidth\": 0, \"ticks\": \"\"}}, \"type\": \"scattergeo\"}], \"scattergl\": [{\"marker\": {\"colorbar\": {\"outlinewidth\": 0, \"ticks\": \"\"}}, \"type\": \"scattergl\"}], \"scattermapbox\": [{\"marker\": {\"colorbar\": {\"outlinewidth\": 0, \"ticks\": \"\"}}, \"type\": \"scattermapbox\"}], \"scatterpolar\": [{\"marker\": {\"colorbar\": {\"outlinewidth\": 0, \"ticks\": \"\"}}, \"type\": \"scatterpolar\"}], \"scatterpolargl\": [{\"marker\": {\"colorbar\": {\"outlinewidth\": 0, \"ticks\": \"\"}}, \"type\": \"scatterpolargl\"}], \"scatterternary\": [{\"marker\": {\"colorbar\": {\"outlinewidth\": 0, \"ticks\": \"\"}}, \"type\": \"scatterternary\"}], \"surface\": [{\"colorbar\": {\"outlinewidth\": 0, \"ticks\": \"\"}, \"colorscale\": [[0.0, \"#0d0887\"], [0.1111111111111111, \"#46039f\"], [0.2222222222222222, \"#7201a8\"], [0.3333333333333333, \"#9c179e\"], [0.4444444444444444, \"#bd3786\"], [0.5555555555555556, \"#d8576b\"], [0.6666666666666666, \"#ed7953\"], [0.7777777777777778, \"#fb9f3a\"], [0.8888888888888888, \"#fdca26\"], [1.0, \"#f0f921\"]], \"type\": \"surface\"}], \"table\": [{\"cells\": {\"fill\": {\"color\": \"#EBF0F8\"}, \"line\": {\"color\": \"white\"}}, \"header\": {\"fill\": {\"color\": \"#C8D4E3\"}, \"line\": {\"color\": \"white\"}}, \"type\": \"table\"}]}, \"layout\": {\"annotationdefaults\": {\"arrowcolor\": \"#2a3f5f\", \"arrowhead\": 0, \"arrowwidth\": 1}, \"colorscale\": {\"diverging\": [[0, \"#8e0152\"], [0.1, \"#c51b7d\"], [0.2, \"#de77ae\"], [0.3, \"#f1b6da\"], [0.4, \"#fde0ef\"], [0.5, \"#f7f7f7\"], [0.6, \"#e6f5d0\"], [0.7, \"#b8e186\"], [0.8, \"#7fbc41\"], [0.9, \"#4d9221\"], [1, \"#276419\"]], \"sequential\": [[0.0, \"#0d0887\"], [0.1111111111111111, \"#46039f\"], [0.2222222222222222, \"#7201a8\"], [0.3333333333333333, \"#9c179e\"], [0.4444444444444444, \"#bd3786\"], [0.5555555555555556, \"#d8576b\"], [0.6666666666666666, \"#ed7953\"], [0.7777777777777778, \"#fb9f3a\"], [0.8888888888888888, \"#fdca26\"], [1.0, \"#f0f921\"]], \"sequentialminus\": [[0.0, \"#0d0887\"], [0.1111111111111111, \"#46039f\"], [0.2222222222222222, \"#7201a8\"], [0.3333333333333333, \"#9c179e\"], [0.4444444444444444, \"#bd3786\"], [0.5555555555555556, \"#d8576b\"], [0.6666666666666666, \"#ed7953\"], [0.7777777777777778, \"#fb9f3a\"], [0.8888888888888888, \"#fdca26\"], [1.0, \"#f0f921\"]]}, \"colorway\": [\"#636efa\", \"#EF553B\", \"#00cc96\", \"#ab63fa\", \"#FFA15A\", \"#19d3f3\", \"#FF6692\", \"#B6E880\", \"#FF97FF\", \"#FECB52\"], \"font\": {\"color\": \"#2a3f5f\"}, \"geo\": {\"bgcolor\": \"white\", \"lakecolor\": \"white\", \"landcolor\": \"#E5ECF6\", \"showlakes\": true, \"showland\": true, \"subunitcolor\": \"white\"}, \"hoverlabel\": {\"align\": \"left\"}, \"hovermode\": \"closest\", \"mapbox\": {\"style\": \"light\"}, \"paper_bgcolor\": \"white\", \"plot_bgcolor\": \"#E5ECF6\", \"polar\": {\"angularaxis\": {\"gridcolor\": \"white\", \"linecolor\": \"white\", \"ticks\": \"\"}, \"bgcolor\": \"#E5ECF6\", \"radialaxis\": {\"gridcolor\": \"white\", \"linecolor\": \"white\", \"ticks\": \"\"}}, \"scene\": {\"xaxis\": {\"backgroundcolor\": \"#E5ECF6\", \"gridcolor\": \"white\", \"gridwidth\": 2, \"linecolor\": \"white\", \"showbackground\": true, \"ticks\": \"\", \"zerolinecolor\": \"white\"}, \"yaxis\": {\"backgroundcolor\": \"#E5ECF6\", \"gridcolor\": \"white\", \"gridwidth\": 2, \"linecolor\": \"white\", \"showbackground\": true, \"ticks\": \"\", \"zerolinecolor\": \"white\"}, \"zaxis\": {\"backgroundcolor\": \"#E5ECF6\", \"gridcolor\": \"white\", \"gridwidth\": 2, \"linecolor\": \"white\", \"showbackground\": true, \"ticks\": \"\", \"zerolinecolor\": \"white\"}}, \"shapedefaults\": {\"line\": {\"color\": \"#2a3f5f\"}}, \"ternary\": {\"aaxis\": {\"gridcolor\": \"white\", \"linecolor\": \"white\", \"ticks\": \"\"}, \"baxis\": {\"gridcolor\": \"white\", \"linecolor\": \"white\", \"ticks\": \"\"}, \"bgcolor\": \"#E5ECF6\", \"caxis\": {\"gridcolor\": \"white\", \"linecolor\": \"white\", \"ticks\": \"\"}}, \"title\": {\"x\": 0.05}, \"xaxis\": {\"automargin\": true, \"gridcolor\": \"white\", \"linecolor\": \"white\", \"ticks\": \"\", \"zerolinecolor\": \"white\", \"zerolinewidth\": 2}, \"yaxis\": {\"automargin\": true, \"gridcolor\": \"white\", \"linecolor\": \"white\", \"ticks\": \"\", \"zerolinecolor\": \"white\", \"zerolinewidth\": 2}}}, \"xaxis\": {\"anchor\": \"y\", \"domain\": [0.0, 0.98], \"title\": {\"text\": \"LAP_NUMBER\"}}, \"yaxis\": {\"anchor\": \"x\", \"domain\": [0.0, 1.0], \"title\": {\"text\": \"ACCUMULATED_DELTA\"}}},\n",
       "                        {\"responsive\": true}\n",
       "                    ).then(function(){\n",
       "                            \n",
       "var gd = document.getElementById('06f87f9c-ae58-406e-9554-0aa43199fb5e');\n",
       "var x = new MutationObserver(function (mutations, observer) {{\n",
       "        var display = window.getComputedStyle(gd).display;\n",
       "        if (!display || display === 'none') {{\n",
       "            console.log([gd, 'removed!']);\n",
       "            Plotly.purge(gd);\n",
       "            observer.disconnect();\n",
       "        }}\n",
       "}});\n",
       "\n",
       "// Listen for the removal of the full notebook cells\n",
       "var notebookContainer = gd.closest('#notebook-container');\n",
       "if (notebookContainer) {{\n",
       "    x.observe(notebookContainer, {childList: true});\n",
       "}}\n",
       "\n",
       "// Listen for the clearing of the current output cell\n",
       "var outputEl = gd.closest('.output');\n",
       "if (outputEl) {{\n",
       "    x.observe(outputEl, {childList: true});\n",
       "}}\n",
       "\n",
       "                        })\n",
       "                };\n",
       "                });\n",
       "            </script>\n",
       "        </div>"
      ]
     },
     "metadata": {},
     "output_type": "display_data"
    }
   ],
   "source": [
    "import plotly.graph_objects as go\n",
    "fig.add_trace(go.Scatter(x=inpitlaps['LAP_NUMBER'], y=inpitlaps['y'],\n",
    "                         mode='markers', name='Pit stops'))"
   ]
  },
  {
   "cell_type": "markdown",
   "metadata": {},
   "source": [
    "## Plotting Against Elapsed Time\n",
    "\n",
    "One of the problems with this view is if cars are several laps apart, in which case to compare pace we really need to be comparing times relative to the lead lap or elapsed time, otherwise we may be comparing laptimes recorded at very different elapsed race times and possibly different conditions."
   ]
  },
  {
   "cell_type": "code",
   "execution_count": 205,
   "metadata": {},
   "outputs": [],
   "source": [
    "laptimes_wide_elapsed = laptimes.pivot(index='NUMBER',\n",
    "                                columns='LAP_NUMBER',\n",
    "                                values='LAP_TIME_S')\n",
    "rebase = \"8\"\n",
    "pace = (laptimes_wide - laptimes_wide.loc[rebase])"
   ]
  },
  {
   "cell_type": "code",
   "execution_count": 133,
   "metadata": {},
   "outputs": [
    {
     "data": {
      "text/html": [
       "<div>\n",
       "<style scoped>\n",
       "    .dataframe tbody tr th:only-of-type {\n",
       "        vertical-align: middle;\n",
       "    }\n",
       "\n",
       "    .dataframe tbody tr th {\n",
       "        vertical-align: top;\n",
       "    }\n",
       "\n",
       "    .dataframe thead th {\n",
       "        text-align: right;\n",
       "    }\n",
       "</style>\n",
       "<table border=\"1\" class=\"dataframe\">\n",
       "  <thead>\n",
       "    <tr style=\"text-align: right;\">\n",
       "      <th></th>\n",
       "      <th>NUMBER</th>\n",
       "      <th>LAP_NUMBER</th>\n",
       "      <th>value</th>\n",
       "    </tr>\n",
       "  </thead>\n",
       "  <tbody>\n",
       "    <tr>\n",
       "      <th>0</th>\n",
       "      <td>1</td>\n",
       "      <td>1</td>\n",
       "      <td>4.372</td>\n",
       "    </tr>\n",
       "    <tr>\n",
       "      <th>1</th>\n",
       "      <td>11</td>\n",
       "      <td>1</td>\n",
       "      <td>3.654</td>\n",
       "    </tr>\n",
       "    <tr>\n",
       "      <th>2</th>\n",
       "      <td>17</td>\n",
       "      <td>1</td>\n",
       "      <td>1.282</td>\n",
       "    </tr>\n",
       "    <tr>\n",
       "      <th>3</th>\n",
       "      <td>26</td>\n",
       "      <td>1</td>\n",
       "      <td>8.227</td>\n",
       "    </tr>\n",
       "    <tr>\n",
       "      <th>4</th>\n",
       "      <td>28</td>\n",
       "      <td>1</td>\n",
       "      <td>10.864</td>\n",
       "    </tr>\n",
       "  </tbody>\n",
       "</table>\n",
       "</div>"
      ],
      "text/plain": [
       "  NUMBER LAP_NUMBER   value\n",
       "0      1          1   4.372\n",
       "1     11          1   3.654\n",
       "2     17          1   1.282\n",
       "3     26          1   8.227\n",
       "4     28          1  10.864"
      ]
     },
     "execution_count": 133,
     "metadata": {},
     "output_type": "execute_result"
    }
   ],
   "source": [
    "#merge the pace back in to laptimes, then plot against the elapsed time\n",
    "#We can get the delats by NUMBER and LAP_NUMBER\n",
    "pd.melt(pace.reset_index(), id_vars=['NUMBER']).head()"
   ]
  },
  {
   "cell_type": "code",
   "execution_count": 161,
   "metadata": {},
   "outputs": [
    {
     "data": {
      "text/html": [
       "<div>\n",
       "<style scoped>\n",
       "    .dataframe tbody tr th:only-of-type {\n",
       "        vertical-align: middle;\n",
       "    }\n",
       "\n",
       "    .dataframe tbody tr th {\n",
       "        vertical-align: top;\n",
       "    }\n",
       "\n",
       "    .dataframe thead th {\n",
       "        text-align: right;\n",
       "    }\n",
       "</style>\n",
       "<table border=\"1\" class=\"dataframe\">\n",
       "  <thead>\n",
       "    <tr style=\"text-align: right;\">\n",
       "      <th></th>\n",
       "      <th>NUMBER</th>\n",
       "      <th>LAP_NUMBER</th>\n",
       "      <th>value</th>\n",
       "      <th>ELAPSED_S</th>\n",
       "    </tr>\n",
       "  </thead>\n",
       "  <tbody>\n",
       "    <tr>\n",
       "      <th>0</th>\n",
       "      <td>1</td>\n",
       "      <td>1</td>\n",
       "      <td>4.372</td>\n",
       "      <td>126.349</td>\n",
       "    </tr>\n",
       "    <tr>\n",
       "      <th>1</th>\n",
       "      <td>11</td>\n",
       "      <td>1</td>\n",
       "      <td>3.654</td>\n",
       "      <td>125.631</td>\n",
       "    </tr>\n",
       "    <tr>\n",
       "      <th>2</th>\n",
       "      <td>17</td>\n",
       "      <td>1</td>\n",
       "      <td>1.282</td>\n",
       "      <td>123.259</td>\n",
       "    </tr>\n",
       "    <tr>\n",
       "      <th>3</th>\n",
       "      <td>26</td>\n",
       "      <td>1</td>\n",
       "      <td>8.227</td>\n",
       "      <td>130.204</td>\n",
       "    </tr>\n",
       "    <tr>\n",
       "      <th>4</th>\n",
       "      <td>28</td>\n",
       "      <td>1</td>\n",
       "      <td>10.864</td>\n",
       "      <td>132.841</td>\n",
       "    </tr>\n",
       "  </tbody>\n",
       "</table>\n",
       "</div>"
      ],
      "text/plain": [
       "  NUMBER LAP_NUMBER   value  ELAPSED_S\n",
       "0      1          1   4.372    126.349\n",
       "1     11          1   3.654    125.631\n",
       "2     17          1   1.282    123.259\n",
       "3     26          1   8.227    130.204\n",
       "4     28          1  10.864    132.841"
      ]
     },
     "execution_count": 161,
     "metadata": {},
     "output_type": "execute_result"
    }
   ],
   "source": [
    "#Merge this with the elapsed time\n",
    "tmp = pd.melt(pace.reset_index(),\n",
    "              id_vars=['NUMBER']).merge(laptimes[['NUMBER','LAP_NUMBER','ELAPSED_S']])\n",
    "tmp.head()"
   ]
  },
  {
   "cell_type": "code",
   "execution_count": 173,
   "metadata": {},
   "outputs": [
    {
     "data": {
      "text/html": [
       "<div>\n",
       "<style scoped>\n",
       "    .dataframe tbody tr th:only-of-type {\n",
       "        vertical-align: middle;\n",
       "    }\n",
       "\n",
       "    .dataframe tbody tr th {\n",
       "        vertical-align: top;\n",
       "    }\n",
       "\n",
       "    .dataframe thead th {\n",
       "        text-align: right;\n",
       "    }\n",
       "</style>\n",
       "<table border=\"1\" class=\"dataframe\">\n",
       "  <thead>\n",
       "    <tr style=\"text-align: right;\">\n",
       "      <th></th>\n",
       "      <th>NUMBER</th>\n",
       "      <th>LAP_NUMBER</th>\n",
       "      <th>value</th>\n",
       "      <th>ELAPSED_S</th>\n",
       "      <th>cumvalue</th>\n",
       "    </tr>\n",
       "  </thead>\n",
       "  <tbody>\n",
       "    <tr>\n",
       "      <th>0</th>\n",
       "      <td>1</td>\n",
       "      <td>1</td>\n",
       "      <td>4.372</td>\n",
       "      <td>126.349</td>\n",
       "      <td>4.372</td>\n",
       "    </tr>\n",
       "    <tr>\n",
       "      <th>1</th>\n",
       "      <td>11</td>\n",
       "      <td>1</td>\n",
       "      <td>3.654</td>\n",
       "      <td>125.631</td>\n",
       "      <td>3.654</td>\n",
       "    </tr>\n",
       "    <tr>\n",
       "      <th>2</th>\n",
       "      <td>17</td>\n",
       "      <td>1</td>\n",
       "      <td>1.282</td>\n",
       "      <td>123.259</td>\n",
       "      <td>1.282</td>\n",
       "    </tr>\n",
       "    <tr>\n",
       "      <th>3</th>\n",
       "      <td>26</td>\n",
       "      <td>1</td>\n",
       "      <td>8.227</td>\n",
       "      <td>130.204</td>\n",
       "      <td>8.227</td>\n",
       "    </tr>\n",
       "    <tr>\n",
       "      <th>4</th>\n",
       "      <td>28</td>\n",
       "      <td>1</td>\n",
       "      <td>10.864</td>\n",
       "      <td>132.841</td>\n",
       "      <td>10.864</td>\n",
       "    </tr>\n",
       "  </tbody>\n",
       "</table>\n",
       "</div>"
      ],
      "text/plain": [
       "  NUMBER LAP_NUMBER   value  ELAPSED_S  cumvalue\n",
       "0      1          1   4.372    126.349     4.372\n",
       "1     11          1   3.654    125.631     3.654\n",
       "2     17          1   1.282    123.259     1.282\n",
       "3     26          1   8.227    130.204     8.227\n",
       "4     28          1  10.864    132.841    10.864"
      ]
     },
     "execution_count": 173,
     "metadata": {},
     "output_type": "execute_result"
    }
   ],
   "source": [
    "tmp['cumvalue'] = tmp.groupby('NUMBER')['value'].cumsum()"
   ]
  },
  {
   "cell_type": "code",
   "execution_count": 163,
   "metadata": {},
   "outputs": [
    {
     "data": {
      "application/vnd.plotly.v1+json": {
       "config": {
        "plotlyServerURL": "https://plot.ly"
       },
       "data": [
        {
         "hoverlabel": {
          "namelength": 0
         },
         "hovertemplate": "NUMBER=11<br>ELAPSED_S=%{x}<br>value=%{y}",
         "legendgroup": "NUMBER=11",
         "line": {
          "color": "#636efa",
          "dash": "solid"
         },
         "mode": "lines",
         "name": "NUMBER=11",
         "showlegend": true,
         "type": "scatter",
         "x": [
          125.631,
          246.074,
          374.76,
          537.948,
          722.748,
          868.205,
          1014.43,
          1162.841,
          1310.928,
          1456.665,
          1696.208,
          1950.099,
          2179.908,
          2386.778,
          2580.375,
          2768.934,
          2967.498,
          3111.108,
          3252.956,
          3392.962,
          3531.235,
          3669.596,
          3833.948,
          4083.679,
          4330.824,
          4514.326,
          4700.327,
          4914.294,
          5060.019,
          5193.792,
          5321.965,
          5450.523,
          5579.557,
          5710.136,
          5846.157,
          6003.441,
          6123.983,
          6245.847,
          6365.612,
          6495.93,
          6618.52,
          6742.447,
          6861.921,
          6985.336,
          7232.793,
          7448.597,
          7572.015,
          7693.763,
          7813.605,
          7935.382,
          8063.414,
          8367.219,
          8508.962,
          8630.014,
          8752.244,
          8874.255,
          8995.062,
          9117.667,
          9240.905,
          9366.448,
          9492.14,
          9613.161,
          9733.424,
          9859.521,
          10039.379,
          10162.6,
          10285.627,
          10407.568,
          10531.319,
          10652.607,
          10775.561,
          10898.609,
          11025.73,
          11148.072,
          11270.579,
          11393.889,
          11522.969,
          11660.282,
          11782.722,
          11905.35,
          12028.108,
          12162.04,
          12363.18,
          12506.633,
          12648.185,
          12791.248,
          12934.384,
          13076.86,
          13219.717,
          13362.764,
          13504.738,
          13644.968,
          13790.95,
          13934.116,
          14076.693,
          14218.585,
          14358.607,
          14497.262,
          14635.778,
          14780.793,
          14972.927,
          15114.815,
          15257.794,
          15401.059,
          15576.846,
          15789.328,
          16091.999,
          16322.546,
          16539.698,
          16739.09,
          16939.199,
          17149.6,
          17312.59,
          17463.705,
          17614.736,
          17763.892,
          17910.761,
          18055.184,
          18201.93,
          18344.623,
          18487.112,
          18641.538,
          18848.532,
          19000.529,
          19177.776,
          19372.482,
          19579.165,
          19832.627,
          20093.863,
          20305.901,
          20506.93,
          20705.35
         ],
         "xaxis": "x",
         "y": [
          3.6539999999999964,
          2.3870000000000005,
          -5.217999999999989,
          -34.390000000000015,
          40.72200000000001,
          2.705999999999989,
          2.2469999999999857,
          0.5800000000000125,
          0.7789999999999964,
          -6.233000000000004,
          -3.2450000000000045,
          -2.712999999999994,
          1.320999999999998,
          -0.4939999999999998,
          0.02200000000001978,
          -0.45300000000000296,
          -0.7680000000000007,
          4.541000000000025,
          4.6720000000000255,
          4.175000000000011,
          2.959000000000003,
          1.938999999999993,
          9.265000000000015,
          -21.911999999999978,
          -8.280999999999977,
          -44.06899999999999,
          20.935000000000002,
          52.235000000000014,
          -29.189999999999998,
          -51.31900000000002,
          -0.5049999999999955,
          3.3659999999999997,
          7.955999999999989,
          7.831000000000003,
          15.34299999999999,
          38.64299999999999,
          -0.16199999999999193,
          0.6230000000000047,
          -3.2590000000000003,
          8.053000000000011,
          2.4819999999999993,
          4.862000000000009,
          0.16899999999999693,
          2.446000000000012,
          49.828,
          -39.67099999999999,
          4.214000000000013,
          1.2920000000000016,
          1.132000000000005,
          2.8569999999999993,
          8.622000000000014,
          92.61500000000001,
          -101.536,
          1.9730000000000132,
          3.2950000000000017,
          1.027000000000001,
          -0.33199999999999363,
          2.740000000000009,
          -0.242999999999995,
          4.1200000000000045,
          6.251999999999995,
          2.1269999999999953,
          0.5900000000000034,
          5.635999999999996,
          58.93600000000001,
          3.89200000000001,
          2.7579999999999956,
          1.1140000000000043,
          5.043000000000006,
          2.269999999999996,
          -2.8220000000000027,
          -50.81100000000001,
          6.691999999999993,
          2.721999999999994,
          -0.30699999999998795,
          2.5730000000000075,
          10.113000000000014,
          17.24799999999999,
          2.138999999999996,
          0.6550000000000011,
          0.8379999999999939,
          13.22399999999999,
          69.065,
          -53.81299999999999,
          -5.867999999999995,
          -1.8269999999999982,
          0.8429999999999893,
          0.16100000000000136,
          -2.4110000000000014,
          3.555000000000007,
          3.613999999999976,
          -0.8830000000000098,
          7.634999999999991,
          4.687999999999988,
          7.609999999999985,
          3.9609999999999843,
          4.1089999999999804,
          2.537000000000006,
          4.282999999999987,
          9.560999999999979,
          54.107999999999976,
          11.15700000000001,
          1.3240000000000123,
          -49.20500000000001,
          34.489000000000004,
          58.41399999999999,
          5.882000000000005,
          -74.32000000000002,
          -12.400000000000006,
          -15.670999999999992,
          -8.832999999999998,
          7.489000000000004,
          -50.86499999999998,
          6.710000000000008,
          9.992000000000019,
          9.477000000000004,
          7.686000000000007,
          5.317000000000007,
          6.6200000000000045,
          3.616000000000014,
          2.592000000000013,
          14.482,
          68.87899999999999,
          14.039000000000016,
          32.95200000000003,
          6.203999999999979,
          31.620000000000005,
          -37.44100000000003,
          -59.601,
          -47.80000000000001,
          -9.067000000000007,
          -6.163000000000011
         ],
         "yaxis": "y"
        },
        {
         "hoverlabel": {
          "namelength": 0
         },
         "hovertemplate": "NUMBER=3<br>ELAPSED_S=%{x}<br>value=%{y}",
         "legendgroup": "NUMBER=3",
         "line": {
          "color": "#EF553B",
          "dash": "solid"
         },
         "mode": "lines",
         "name": "NUMBER=3",
         "showlegend": true,
         "type": "scatter",
         "x": [
          123.739,
          243.932,
          378.708,
          561.689,
          705.326,
          850.594,
          999.219,
          1147.67,
          1295.789,
          1448.983,
          1690.982,
          1948.265,
          2176.882,
          2384.476,
          2577.803,
          2766.817,
          2966.38,
          3110.115,
          3252.506,
          3394.919,
          3535.165,
          3675.525,
          3834.615,
          4084.73,
          4333.577,
          4518.113,
          4703.777,
          4931.806,
          5085.107,
          5225.007,
          5358.934,
          5489.105,
          5618.372,
          5745.087,
          5874.572,
          5998.118,
          6128.397,
          6287.857,
          6407.721,
          6528.942,
          6652.077,
          6773.43,
          6895.999,
          7017.137,
          7329.203,
          7485.37,
          7605.818,
          7726.838,
          7848.778,
          7968.762,
          8121.74,
          8424.917,
          8548.134,
          8669.989,
          8791.345,
          8912.511,
          9033.08,
          9157.523,
          9281.326,
          9400.945,
          9520.772,
          9641.945,
          9767.137,
          9890.329,
          10011.494,
          10131.454,
          10251.431,
          10370.886,
          10491.994,
          10612.713,
          10740.565,
          10920.076,
          11039.85,
          11166.364,
          11285.757,
          11405.703,
          11526.333,
          11647.115,
          11768.513,
          11892.726,
          12016.436,
          12148.344,
          12338.193,
          12530.801,
          12679.465,
          12826.632,
          12971.157,
          13114.668,
          13258.084,
          13402.306,
          13544.883,
          13688.431,
          13831.583,
          13972.351,
          14112.049,
          14251.809,
          14393.795,
          14530.891,
          14667.003,
          14802.827,
          14939.243,
          15087.591,
          15283.699,
          15428.64,
          15612.183,
          15801.636,
          16097.051,
          16326.05,
          16543.053,
          16742.732,
          16942.582,
          17151.192,
          17308.622,
          17461.014,
          17613.833,
          17761.632,
          17906.803,
          18050.574,
          18194.211,
          18338.407,
          18484.2,
          18629.704,
          18773.553,
          18921.495,
          19127.8,
          19323.517,
          19522.526,
          19820.139,
          20078.346,
          20292.46,
          20493.982,
          20698.794
         ],
         "xaxis": "x",
         "y": [
          1.7620000000000005,
          2.1370000000000005,
          0.8720000000000141,
          -14.597000000000008,
          -0.4410000000000025,
          2.516999999999996,
          4.646999999999991,
          0.6200000000000045,
          0.811000000000007,
          1.2239999999999895,
          -0.7890000000000157,
          0.6790000000000305,
          0.12899999999999068,
          0.22999999999998977,
          -0.24799999999999045,
          0.0020000000000095497,
          0.23099999999999454,
          4.666000000000025,
          5.215000000000003,
          6.582000000000022,
          4.932000000000016,
          3.9380000000000166,
          4.003000000000014,
          -21.527999999999963,
          -6.578999999999979,
          -43.035,
          20.597999999999985,
          66.297,
          -21.614000000000004,
          -45.19200000000001,
          5.248999999999995,
          4.978999999999999,
          8.188999999999993,
          3.9669999999999987,
          8.807000000000016,
          4.905000000000001,
          9.575000000000003,
          38.21900000000001,
          -3.1599999999999966,
          -1.043999999999997,
          3.027000000000001,
          2.2879999999999967,
          3.263999999999996,
          0.16900000000001114,
          114.43699999999998,
          -99.30799999999999,
          1.2439999999999998,
          0.563999999999993,
          3.230000000000004,
          1.063999999999993,
          33.56800000000001,
          91.98700000000002,
          -120.062,
          2.7760000000000105,
          2.4209999999999923,
          0.18200000000000216,
          -0.5699999999999932,
          4.578000000000003,
          0.32200000000000273,
          -1.804000000000002,
          0.38700000000000045,
          2.2789999999999964,
          5.518999999999991,
          2.7309999999999945,
          0.2430000000000092,
          0.6310000000000002,
          -0.2920000000000016,
          -1.3719999999999999,
          2.4000000000000057,
          1.7009999999999934,
          2.0760000000000076,
          5.651999999999987,
          -0.6550000000000011,
          6.893999999999991,
          -3.4209999999999923,
          -0.7909999999999968,
          1.6629999999999967,
          0.7169999999999987,
          1.0969999999999942,
          2.239999999999995,
          1.789999999999992,
          11.199999999999989,
          57.774,
          -4.657999999999987,
          1.2439999999999998,
          2.2770000000000152,
          2.2319999999999993,
          1.195999999999998,
          -1.8520000000000039,
          4.730000000000018,
          4.2169999999999845,
          2.4350000000000023,
          4.804999999999978,
          2.289999999999992,
          4.7309999999999945,
          1.8289999999999793,
          6.072999999999979,
          0.9780000000000086,
          1.8789999999999907,
          0.37000000000000455,
          -1.6100000000000136,
          17.61700000000002,
          54.453,
          -47.528999999999996,
          42.245000000000005,
          35.38499999999999,
          -1.3739999999999668,
          -75.86800000000002,
          -12.549000000000007,
          -15.383999999999986,
          -9.092000000000013,
          5.6980000000000075,
          -56.42499999999998,
          7.986999999999995,
          11.780000000000001,
          8.120000000000005,
          5.9879999999999995,
          4.664999999999992,
          3.5109999999999957,
          5.119,
          5.896000000000015,
          5.560000000000002,
          5.7339999999999804,
          9.984000000000009,
          62.01000000000002,
          7.215000000000003,
          23.945999999999998,
          6.7099999999999795,
          -62.629999999999995,
          -45.72400000000002,
          -8.574000000000012,
          0.22900000000001342
         ],
         "yaxis": "y"
        },
        {
         "hoverlabel": {
          "namelength": 0
         },
         "hovertemplate": "NUMBER=8<br>ELAPSED_S=%{x}<br>value=%{y}",
         "legendgroup": "NUMBER=8",
         "line": {
          "color": "#00cc96",
          "dash": "solid"
         },
         "mode": "lines",
         "name": "NUMBER=8",
         "showlegend": true,
         "type": "scatter",
         "x": [
          121.977,
          240.033,
          373.937,
          571.515,
          715.593,
          858.344,
          1002.322,
          1150.153,
          1297.461,
          1449.431,
          1692.219,
          1948.823,
          2177.311,
          2384.675,
          2578.25,
          2767.262,
          2966.594,
          3105.663,
          3242.839,
          3378.67,
          3513.984,
          3650.406,
          3805.493,
          4077.136,
          4332.562,
          4560.133,
          4725.199,
          4886.931,
          5061.846,
          5246.938,
          5375.616,
          5500.808,
          5621.886,
          5744.634,
          5865.312,
          5983.953,
          6104.657,
          6225.898,
          6348.922,
          6471.187,
          6591.295,
          6710.36,
          6829.665,
          6950.634,
          7148.263,
          7403.738,
          7522.942,
          7643.398,
          7762.108,
          7881.028,
          8000.438,
          8211.628,
          8454.907,
          8573.986,
          8692.921,
          8813.905,
          8935.044,
          9054.909,
          9178.39,
          9299.813,
          9419.253,
          9538.147,
          9657.82,
          9778.281,
          9899.203,
          10018.532,
          10138.801,
          10259.628,
          10378.336,
          10497.354,
          10623.13,
          10796.989,
          10917.418,
          11037.038,
          11159.852,
          11280.589,
          11399.556,
          11519.621,
          11639.922,
          11761.895,
          11883.815,
          12004.523,
          12136.598,
          12333.864,
          12481.284,
          12626.174,
          12768.467,
          12910.782,
          13056.05,
          13195.542,
          13333.902,
          13475.015,
          13613.362,
          13751.84,
          13886.807,
          14024.738,
          14160.651,
          14296.769,
          14431.002,
          14566.456,
          14704.482,
          14835.213,
          14976.868,
          15169.338,
          15310.636,
          15464.704,
          15761.493,
          16066.36,
          16295.912,
          16510.975,
          16719.917,
          16922.829,
          17136.684,
          17281.089,
          17422.128,
          17561.807,
          17700.99,
          17840.096,
          17980.222,
          18119.299,
          18259.196,
          18399.14,
          18537.255,
          18675.213,
          18819.508,
          19008.01,
          19183.073,
          19473.976,
          19794.813,
          20054.651,
          20264.747,
          20469.33,
          20681.101
         ],
         "xaxis": "x",
         "y": [
          0,
          0,
          0,
          0,
          0,
          0,
          0,
          0,
          0,
          0,
          0,
          0,
          0,
          0,
          0,
          0,
          0,
          0,
          0,
          0,
          0,
          0,
          0,
          0,
          0,
          0,
          0,
          0,
          0,
          0,
          0,
          0,
          0,
          0,
          0,
          0,
          0,
          0,
          0,
          0,
          0,
          0,
          0,
          0,
          0,
          0,
          0,
          0,
          0,
          0,
          0,
          0,
          0,
          0,
          0,
          0,
          0,
          0,
          0,
          0,
          0,
          0,
          0,
          0,
          0,
          0,
          0,
          0,
          0,
          0,
          0,
          0,
          0,
          0,
          0,
          0,
          0,
          0,
          0,
          0,
          0,
          0,
          0,
          0,
          0,
          0,
          0,
          0,
          0,
          0,
          0,
          0,
          0,
          0,
          0,
          0,
          0,
          0,
          0,
          0,
          0,
          0,
          0,
          0,
          0,
          0,
          0,
          0,
          0,
          0,
          0,
          0,
          0,
          0,
          0,
          0,
          0,
          0,
          0,
          0,
          0,
          0,
          0,
          0,
          0,
          0,
          0,
          0,
          0,
          0,
          0,
          0,
          0
         ],
         "yaxis": "y"
        }
       ],
       "layout": {
        "height": 600,
        "legend": {
         "tracegroupgap": 0
        },
        "margin": {
         "t": 60
        },
        "template": {
         "data": {
          "bar": [
           {
            "error_x": {
             "color": "#2a3f5f"
            },
            "error_y": {
             "color": "#2a3f5f"
            },
            "marker": {
             "line": {
              "color": "#E5ECF6",
              "width": 0.5
             }
            },
            "type": "bar"
           }
          ],
          "barpolar": [
           {
            "marker": {
             "line": {
              "color": "#E5ECF6",
              "width": 0.5
             }
            },
            "type": "barpolar"
           }
          ],
          "carpet": [
           {
            "aaxis": {
             "endlinecolor": "#2a3f5f",
             "gridcolor": "white",
             "linecolor": "white",
             "minorgridcolor": "white",
             "startlinecolor": "#2a3f5f"
            },
            "baxis": {
             "endlinecolor": "#2a3f5f",
             "gridcolor": "white",
             "linecolor": "white",
             "minorgridcolor": "white",
             "startlinecolor": "#2a3f5f"
            },
            "type": "carpet"
           }
          ],
          "choropleth": [
           {
            "colorbar": {
             "outlinewidth": 0,
             "ticks": ""
            },
            "type": "choropleth"
           }
          ],
          "contour": [
           {
            "colorbar": {
             "outlinewidth": 0,
             "ticks": ""
            },
            "colorscale": [
             [
              0,
              "#0d0887"
             ],
             [
              0.1111111111111111,
              "#46039f"
             ],
             [
              0.2222222222222222,
              "#7201a8"
             ],
             [
              0.3333333333333333,
              "#9c179e"
             ],
             [
              0.4444444444444444,
              "#bd3786"
             ],
             [
              0.5555555555555556,
              "#d8576b"
             ],
             [
              0.6666666666666666,
              "#ed7953"
             ],
             [
              0.7777777777777778,
              "#fb9f3a"
             ],
             [
              0.8888888888888888,
              "#fdca26"
             ],
             [
              1,
              "#f0f921"
             ]
            ],
            "type": "contour"
           }
          ],
          "contourcarpet": [
           {
            "colorbar": {
             "outlinewidth": 0,
             "ticks": ""
            },
            "type": "contourcarpet"
           }
          ],
          "heatmap": [
           {
            "colorbar": {
             "outlinewidth": 0,
             "ticks": ""
            },
            "colorscale": [
             [
              0,
              "#0d0887"
             ],
             [
              0.1111111111111111,
              "#46039f"
             ],
             [
              0.2222222222222222,
              "#7201a8"
             ],
             [
              0.3333333333333333,
              "#9c179e"
             ],
             [
              0.4444444444444444,
              "#bd3786"
             ],
             [
              0.5555555555555556,
              "#d8576b"
             ],
             [
              0.6666666666666666,
              "#ed7953"
             ],
             [
              0.7777777777777778,
              "#fb9f3a"
             ],
             [
              0.8888888888888888,
              "#fdca26"
             ],
             [
              1,
              "#f0f921"
             ]
            ],
            "type": "heatmap"
           }
          ],
          "heatmapgl": [
           {
            "colorbar": {
             "outlinewidth": 0,
             "ticks": ""
            },
            "colorscale": [
             [
              0,
              "#0d0887"
             ],
             [
              0.1111111111111111,
              "#46039f"
             ],
             [
              0.2222222222222222,
              "#7201a8"
             ],
             [
              0.3333333333333333,
              "#9c179e"
             ],
             [
              0.4444444444444444,
              "#bd3786"
             ],
             [
              0.5555555555555556,
              "#d8576b"
             ],
             [
              0.6666666666666666,
              "#ed7953"
             ],
             [
              0.7777777777777778,
              "#fb9f3a"
             ],
             [
              0.8888888888888888,
              "#fdca26"
             ],
             [
              1,
              "#f0f921"
             ]
            ],
            "type": "heatmapgl"
           }
          ],
          "histogram": [
           {
            "marker": {
             "colorbar": {
              "outlinewidth": 0,
              "ticks": ""
             }
            },
            "type": "histogram"
           }
          ],
          "histogram2d": [
           {
            "colorbar": {
             "outlinewidth": 0,
             "ticks": ""
            },
            "colorscale": [
             [
              0,
              "#0d0887"
             ],
             [
              0.1111111111111111,
              "#46039f"
             ],
             [
              0.2222222222222222,
              "#7201a8"
             ],
             [
              0.3333333333333333,
              "#9c179e"
             ],
             [
              0.4444444444444444,
              "#bd3786"
             ],
             [
              0.5555555555555556,
              "#d8576b"
             ],
             [
              0.6666666666666666,
              "#ed7953"
             ],
             [
              0.7777777777777778,
              "#fb9f3a"
             ],
             [
              0.8888888888888888,
              "#fdca26"
             ],
             [
              1,
              "#f0f921"
             ]
            ],
            "type": "histogram2d"
           }
          ],
          "histogram2dcontour": [
           {
            "colorbar": {
             "outlinewidth": 0,
             "ticks": ""
            },
            "colorscale": [
             [
              0,
              "#0d0887"
             ],
             [
              0.1111111111111111,
              "#46039f"
             ],
             [
              0.2222222222222222,
              "#7201a8"
             ],
             [
              0.3333333333333333,
              "#9c179e"
             ],
             [
              0.4444444444444444,
              "#bd3786"
             ],
             [
              0.5555555555555556,
              "#d8576b"
             ],
             [
              0.6666666666666666,
              "#ed7953"
             ],
             [
              0.7777777777777778,
              "#fb9f3a"
             ],
             [
              0.8888888888888888,
              "#fdca26"
             ],
             [
              1,
              "#f0f921"
             ]
            ],
            "type": "histogram2dcontour"
           }
          ],
          "mesh3d": [
           {
            "colorbar": {
             "outlinewidth": 0,
             "ticks": ""
            },
            "type": "mesh3d"
           }
          ],
          "parcoords": [
           {
            "line": {
             "colorbar": {
              "outlinewidth": 0,
              "ticks": ""
             }
            },
            "type": "parcoords"
           }
          ],
          "scatter": [
           {
            "marker": {
             "colorbar": {
              "outlinewidth": 0,
              "ticks": ""
             }
            },
            "type": "scatter"
           }
          ],
          "scatter3d": [
           {
            "line": {
             "colorbar": {
              "outlinewidth": 0,
              "ticks": ""
             }
            },
            "marker": {
             "colorbar": {
              "outlinewidth": 0,
              "ticks": ""
             }
            },
            "type": "scatter3d"
           }
          ],
          "scattercarpet": [
           {
            "marker": {
             "colorbar": {
              "outlinewidth": 0,
              "ticks": ""
             }
            },
            "type": "scattercarpet"
           }
          ],
          "scattergeo": [
           {
            "marker": {
             "colorbar": {
              "outlinewidth": 0,
              "ticks": ""
             }
            },
            "type": "scattergeo"
           }
          ],
          "scattergl": [
           {
            "marker": {
             "colorbar": {
              "outlinewidth": 0,
              "ticks": ""
             }
            },
            "type": "scattergl"
           }
          ],
          "scattermapbox": [
           {
            "marker": {
             "colorbar": {
              "outlinewidth": 0,
              "ticks": ""
             }
            },
            "type": "scattermapbox"
           }
          ],
          "scatterpolar": [
           {
            "marker": {
             "colorbar": {
              "outlinewidth": 0,
              "ticks": ""
             }
            },
            "type": "scatterpolar"
           }
          ],
          "scatterpolargl": [
           {
            "marker": {
             "colorbar": {
              "outlinewidth": 0,
              "ticks": ""
             }
            },
            "type": "scatterpolargl"
           }
          ],
          "scatterternary": [
           {
            "marker": {
             "colorbar": {
              "outlinewidth": 0,
              "ticks": ""
             }
            },
            "type": "scatterternary"
           }
          ],
          "surface": [
           {
            "colorbar": {
             "outlinewidth": 0,
             "ticks": ""
            },
            "colorscale": [
             [
              0,
              "#0d0887"
             ],
             [
              0.1111111111111111,
              "#46039f"
             ],
             [
              0.2222222222222222,
              "#7201a8"
             ],
             [
              0.3333333333333333,
              "#9c179e"
             ],
             [
              0.4444444444444444,
              "#bd3786"
             ],
             [
              0.5555555555555556,
              "#d8576b"
             ],
             [
              0.6666666666666666,
              "#ed7953"
             ],
             [
              0.7777777777777778,
              "#fb9f3a"
             ],
             [
              0.8888888888888888,
              "#fdca26"
             ],
             [
              1,
              "#f0f921"
             ]
            ],
            "type": "surface"
           }
          ],
          "table": [
           {
            "cells": {
             "fill": {
              "color": "#EBF0F8"
             },
             "line": {
              "color": "white"
             }
            },
            "header": {
             "fill": {
              "color": "#C8D4E3"
             },
             "line": {
              "color": "white"
             }
            },
            "type": "table"
           }
          ]
         },
         "layout": {
          "annotationdefaults": {
           "arrowcolor": "#2a3f5f",
           "arrowhead": 0,
           "arrowwidth": 1
          },
          "colorscale": {
           "diverging": [
            [
             0,
             "#8e0152"
            ],
            [
             0.1,
             "#c51b7d"
            ],
            [
             0.2,
             "#de77ae"
            ],
            [
             0.3,
             "#f1b6da"
            ],
            [
             0.4,
             "#fde0ef"
            ],
            [
             0.5,
             "#f7f7f7"
            ],
            [
             0.6,
             "#e6f5d0"
            ],
            [
             0.7,
             "#b8e186"
            ],
            [
             0.8,
             "#7fbc41"
            ],
            [
             0.9,
             "#4d9221"
            ],
            [
             1,
             "#276419"
            ]
           ],
           "sequential": [
            [
             0,
             "#0d0887"
            ],
            [
             0.1111111111111111,
             "#46039f"
            ],
            [
             0.2222222222222222,
             "#7201a8"
            ],
            [
             0.3333333333333333,
             "#9c179e"
            ],
            [
             0.4444444444444444,
             "#bd3786"
            ],
            [
             0.5555555555555556,
             "#d8576b"
            ],
            [
             0.6666666666666666,
             "#ed7953"
            ],
            [
             0.7777777777777778,
             "#fb9f3a"
            ],
            [
             0.8888888888888888,
             "#fdca26"
            ],
            [
             1,
             "#f0f921"
            ]
           ],
           "sequentialminus": [
            [
             0,
             "#0d0887"
            ],
            [
             0.1111111111111111,
             "#46039f"
            ],
            [
             0.2222222222222222,
             "#7201a8"
            ],
            [
             0.3333333333333333,
             "#9c179e"
            ],
            [
             0.4444444444444444,
             "#bd3786"
            ],
            [
             0.5555555555555556,
             "#d8576b"
            ],
            [
             0.6666666666666666,
             "#ed7953"
            ],
            [
             0.7777777777777778,
             "#fb9f3a"
            ],
            [
             0.8888888888888888,
             "#fdca26"
            ],
            [
             1,
             "#f0f921"
            ]
           ]
          },
          "colorway": [
           "#636efa",
           "#EF553B",
           "#00cc96",
           "#ab63fa",
           "#FFA15A",
           "#19d3f3",
           "#FF6692",
           "#B6E880",
           "#FF97FF",
           "#FECB52"
          ],
          "font": {
           "color": "#2a3f5f"
          },
          "geo": {
           "bgcolor": "white",
           "lakecolor": "white",
           "landcolor": "#E5ECF6",
           "showlakes": true,
           "showland": true,
           "subunitcolor": "white"
          },
          "hoverlabel": {
           "align": "left"
          },
          "hovermode": "closest",
          "mapbox": {
           "style": "light"
          },
          "paper_bgcolor": "white",
          "plot_bgcolor": "#E5ECF6",
          "polar": {
           "angularaxis": {
            "gridcolor": "white",
            "linecolor": "white",
            "ticks": ""
           },
           "bgcolor": "#E5ECF6",
           "radialaxis": {
            "gridcolor": "white",
            "linecolor": "white",
            "ticks": ""
           }
          },
          "scene": {
           "xaxis": {
            "backgroundcolor": "#E5ECF6",
            "gridcolor": "white",
            "gridwidth": 2,
            "linecolor": "white",
            "showbackground": true,
            "ticks": "",
            "zerolinecolor": "white"
           },
           "yaxis": {
            "backgroundcolor": "#E5ECF6",
            "gridcolor": "white",
            "gridwidth": 2,
            "linecolor": "white",
            "showbackground": true,
            "ticks": "",
            "zerolinecolor": "white"
           },
           "zaxis": {
            "backgroundcolor": "#E5ECF6",
            "gridcolor": "white",
            "gridwidth": 2,
            "linecolor": "white",
            "showbackground": true,
            "ticks": "",
            "zerolinecolor": "white"
           }
          },
          "shapedefaults": {
           "line": {
            "color": "#2a3f5f"
           }
          },
          "ternary": {
           "aaxis": {
            "gridcolor": "white",
            "linecolor": "white",
            "ticks": ""
           },
           "baxis": {
            "gridcolor": "white",
            "linecolor": "white",
            "ticks": ""
           },
           "bgcolor": "#E5ECF6",
           "caxis": {
            "gridcolor": "white",
            "linecolor": "white",
            "ticks": ""
           }
          },
          "title": {
           "x": 0.05
          },
          "xaxis": {
           "automargin": true,
           "gridcolor": "white",
           "linecolor": "white",
           "ticks": "",
           "zerolinecolor": "white",
           "zerolinewidth": 2
          },
          "yaxis": {
           "automargin": true,
           "gridcolor": "white",
           "linecolor": "white",
           "ticks": "",
           "zerolinecolor": "white",
           "zerolinewidth": 2
          }
         }
        },
        "xaxis": {
         "anchor": "y",
         "domain": [
          0,
          0.98
         ],
         "title": {
          "text": "ELAPSED_S"
         }
        },
        "yaxis": {
         "anchor": "x",
         "domain": [
          0,
          1
         ],
         "title": {
          "text": "value"
         }
        }
       }
      },
      "text/html": [
       "<div>\n",
       "        \n",
       "        \n",
       "            <div id=\"c9a045bd-073c-4c1c-9d17-bbe56c63ef34\" class=\"plotly-graph-div\" style=\"height:600px; width:100%;\"></div>\n",
       "            <script type=\"text/javascript\">\n",
       "                require([\"plotly\"], function(Plotly) {\n",
       "                    window.PLOTLYENV=window.PLOTLYENV || {};\n",
       "                    \n",
       "                if (document.getElementById(\"c9a045bd-073c-4c1c-9d17-bbe56c63ef34\")) {\n",
       "                    Plotly.newPlot(\n",
       "                        'c9a045bd-073c-4c1c-9d17-bbe56c63ef34',\n",
       "                        [{\"hoverlabel\": {\"namelength\": 0}, \"hovertemplate\": \"NUMBER=11<br>ELAPSED_S=%{x}<br>value=%{y}\", \"legendgroup\": \"NUMBER=11\", \"line\": {\"color\": \"#636efa\", \"dash\": \"solid\"}, \"mode\": \"lines\", \"name\": \"NUMBER=11\", \"showlegend\": true, \"type\": \"scatter\", \"x\": [125.631, 246.074, 374.76, 537.948, 722.748, 868.205, 1014.43, 1162.841, 1310.928, 1456.665, 1696.208, 1950.099, 2179.908, 2386.778, 2580.375, 2768.934, 2967.498, 3111.108, 3252.956, 3392.962, 3531.235, 3669.596, 3833.948, 4083.679, 4330.824, 4514.326, 4700.327, 4914.294, 5060.019, 5193.792, 5321.965, 5450.523, 5579.557, 5710.136, 5846.157, 6003.441, 6123.983, 6245.847, 6365.612, 6495.93, 6618.52, 6742.447, 6861.921, 6985.336, 7232.793, 7448.597, 7572.015, 7693.763, 7813.605, 7935.382, 8063.414, 8367.219, 8508.962, 8630.014, 8752.244, 8874.255, 8995.062, 9117.667, 9240.905, 9366.448, 9492.14, 9613.161, 9733.424, 9859.521, 10039.379, 10162.6, 10285.627, 10407.568, 10531.319, 10652.607, 10775.561, 10898.609, 11025.73, 11148.072, 11270.579, 11393.889, 11522.969, 11660.282, 11782.722, 11905.35, 12028.108, 12162.04, 12363.18, 12506.633, 12648.185, 12791.248, 12934.384, 13076.86, 13219.717, 13362.764, 13504.738, 13644.968, 13790.95, 13934.116, 14076.693, 14218.585, 14358.607, 14497.262, 14635.778, 14780.793, 14972.927, 15114.815, 15257.794, 15401.059, 15576.846, 15789.328, 16091.999, 16322.546, 16539.698, 16739.09, 16939.199, 17149.6, 17312.59, 17463.705, 17614.736, 17763.892, 17910.761, 18055.184, 18201.93, 18344.623, 18487.112, 18641.538, 18848.532, 19000.529, 19177.776, 19372.482, 19579.165, 19832.627, 20093.863, 20305.901, 20506.93, 20705.35], \"xaxis\": \"x\", \"y\": [3.6539999999999964, 2.3870000000000005, -5.217999999999989, -34.390000000000015, 40.72200000000001, 2.705999999999989, 2.2469999999999857, 0.5800000000000125, 0.7789999999999964, -6.233000000000004, -3.2450000000000045, -2.712999999999994, 1.320999999999998, -0.4939999999999998, 0.02200000000001978, -0.45300000000000296, -0.7680000000000007, 4.541000000000025, 4.6720000000000255, 4.175000000000011, 2.959000000000003, 1.938999999999993, 9.265000000000015, -21.911999999999978, -8.280999999999977, -44.06899999999999, 20.935000000000002, 52.235000000000014, -29.189999999999998, -51.31900000000002, -0.5049999999999955, 3.3659999999999997, 7.955999999999989, 7.831000000000003, 15.34299999999999, 38.64299999999999, -0.16199999999999193, 0.6230000000000047, -3.2590000000000003, 8.053000000000011, 2.4819999999999993, 4.862000000000009, 0.16899999999999693, 2.446000000000012, 49.828, -39.67099999999999, 4.214000000000013, 1.2920000000000016, 1.132000000000005, 2.8569999999999993, 8.622000000000014, 92.61500000000001, -101.536, 1.9730000000000132, 3.2950000000000017, 1.027000000000001, -0.33199999999999363, 2.740000000000009, -0.242999999999995, 4.1200000000000045, 6.251999999999995, 2.1269999999999953, 0.5900000000000034, 5.635999999999996, 58.93600000000001, 3.89200000000001, 2.7579999999999956, 1.1140000000000043, 5.043000000000006, 2.269999999999996, -2.8220000000000027, -50.81100000000001, 6.691999999999993, 2.721999999999994, -0.30699999999998795, 2.5730000000000075, 10.113000000000014, 17.24799999999999, 2.138999999999996, 0.6550000000000011, 0.8379999999999939, 13.22399999999999, 69.065, -53.81299999999999, -5.867999999999995, -1.8269999999999982, 0.8429999999999893, 0.16100000000000136, -2.4110000000000014, 3.555000000000007, 3.613999999999976, -0.8830000000000098, 7.634999999999991, 4.687999999999988, 7.609999999999985, 3.9609999999999843, 4.1089999999999804, 2.537000000000006, 4.282999999999987, 9.560999999999979, 54.107999999999976, 11.15700000000001, 1.3240000000000123, -49.20500000000001, 34.489000000000004, 58.41399999999999, 5.882000000000005, -74.32000000000002, -12.400000000000006, -15.670999999999992, -8.832999999999998, 7.489000000000004, -50.86499999999998, 6.710000000000008, 9.992000000000019, 9.477000000000004, 7.686000000000007, 5.317000000000007, 6.6200000000000045, 3.616000000000014, 2.592000000000013, 14.482, 68.87899999999999, 14.039000000000016, 32.95200000000003, 6.203999999999979, 31.620000000000005, -37.44100000000003, -59.601, -47.80000000000001, -9.067000000000007, -6.163000000000011], \"yaxis\": \"y\"}, {\"hoverlabel\": {\"namelength\": 0}, \"hovertemplate\": \"NUMBER=3<br>ELAPSED_S=%{x}<br>value=%{y}\", \"legendgroup\": \"NUMBER=3\", \"line\": {\"color\": \"#EF553B\", \"dash\": \"solid\"}, \"mode\": \"lines\", \"name\": \"NUMBER=3\", \"showlegend\": true, \"type\": \"scatter\", \"x\": [123.739, 243.932, 378.708, 561.689, 705.326, 850.594, 999.219, 1147.67, 1295.789, 1448.983, 1690.982, 1948.265, 2176.882, 2384.476, 2577.803, 2766.817, 2966.38, 3110.115, 3252.506, 3394.919, 3535.165, 3675.525, 3834.615, 4084.73, 4333.577, 4518.113, 4703.777, 4931.806, 5085.107, 5225.007, 5358.934, 5489.105, 5618.372, 5745.087, 5874.572, 5998.118, 6128.397, 6287.857, 6407.721, 6528.942, 6652.077, 6773.43, 6895.999, 7017.137, 7329.203, 7485.37, 7605.818, 7726.838, 7848.778, 7968.762, 8121.74, 8424.917, 8548.134, 8669.989, 8791.345, 8912.511, 9033.08, 9157.523, 9281.326, 9400.945, 9520.772, 9641.945, 9767.137, 9890.329, 10011.494, 10131.454, 10251.431, 10370.886, 10491.994, 10612.713, 10740.565, 10920.076, 11039.85, 11166.364, 11285.757, 11405.703, 11526.333, 11647.115, 11768.513, 11892.726, 12016.436, 12148.344, 12338.193, 12530.801, 12679.465, 12826.632, 12971.157, 13114.668, 13258.084, 13402.306, 13544.883, 13688.431, 13831.583, 13972.351, 14112.049, 14251.809, 14393.795, 14530.891, 14667.003, 14802.827, 14939.243, 15087.591, 15283.699, 15428.64, 15612.183, 15801.636, 16097.051, 16326.05, 16543.053, 16742.732, 16942.582, 17151.192, 17308.622, 17461.014, 17613.833, 17761.632, 17906.803, 18050.574, 18194.211, 18338.407, 18484.2, 18629.704, 18773.553, 18921.495, 19127.8, 19323.517, 19522.526, 19820.139, 20078.346, 20292.46, 20493.982, 20698.794], \"xaxis\": \"x\", \"y\": [1.7620000000000005, 2.1370000000000005, 0.8720000000000141, -14.597000000000008, -0.4410000000000025, 2.516999999999996, 4.646999999999991, 0.6200000000000045, 0.811000000000007, 1.2239999999999895, -0.7890000000000157, 0.6790000000000305, 0.12899999999999068, 0.22999999999998977, -0.24799999999999045, 0.0020000000000095497, 0.23099999999999454, 4.666000000000025, 5.215000000000003, 6.582000000000022, 4.932000000000016, 3.9380000000000166, 4.003000000000014, -21.527999999999963, -6.578999999999979, -43.035, 20.597999999999985, 66.297, -21.614000000000004, -45.19200000000001, 5.248999999999995, 4.978999999999999, 8.188999999999993, 3.9669999999999987, 8.807000000000016, 4.905000000000001, 9.575000000000003, 38.21900000000001, -3.1599999999999966, -1.043999999999997, 3.027000000000001, 2.2879999999999967, 3.263999999999996, 0.16900000000001114, 114.43699999999998, -99.30799999999999, 1.2439999999999998, 0.563999999999993, 3.230000000000004, 1.063999999999993, 33.56800000000001, 91.98700000000002, -120.062, 2.7760000000000105, 2.4209999999999923, 0.18200000000000216, -0.5699999999999932, 4.578000000000003, 0.32200000000000273, -1.804000000000002, 0.38700000000000045, 2.2789999999999964, 5.518999999999991, 2.7309999999999945, 0.2430000000000092, 0.6310000000000002, -0.2920000000000016, -1.3719999999999999, 2.4000000000000057, 1.7009999999999934, 2.0760000000000076, 5.651999999999987, -0.6550000000000011, 6.893999999999991, -3.4209999999999923, -0.7909999999999968, 1.6629999999999967, 0.7169999999999987, 1.0969999999999942, 2.239999999999995, 1.789999999999992, 11.199999999999989, 57.774, -4.657999999999987, 1.2439999999999998, 2.2770000000000152, 2.2319999999999993, 1.195999999999998, -1.8520000000000039, 4.730000000000018, 4.2169999999999845, 2.4350000000000023, 4.804999999999978, 2.289999999999992, 4.7309999999999945, 1.8289999999999793, 6.072999999999979, 0.9780000000000086, 1.8789999999999907, 0.37000000000000455, -1.6100000000000136, 17.61700000000002, 54.453, -47.528999999999996, 42.245000000000005, 35.38499999999999, -1.3739999999999668, -75.86800000000002, -12.549000000000007, -15.383999999999986, -9.092000000000013, 5.6980000000000075, -56.42499999999998, 7.986999999999995, 11.780000000000001, 8.120000000000005, 5.9879999999999995, 4.664999999999992, 3.5109999999999957, 5.119, 5.896000000000015, 5.560000000000002, 5.7339999999999804, 9.984000000000009, 62.01000000000002, 7.215000000000003, 23.945999999999998, 6.7099999999999795, -62.629999999999995, -45.72400000000002, -8.574000000000012, 0.22900000000001342], \"yaxis\": \"y\"}, {\"hoverlabel\": {\"namelength\": 0}, \"hovertemplate\": \"NUMBER=8<br>ELAPSED_S=%{x}<br>value=%{y}\", \"legendgroup\": \"NUMBER=8\", \"line\": {\"color\": \"#00cc96\", \"dash\": \"solid\"}, \"mode\": \"lines\", \"name\": \"NUMBER=8\", \"showlegend\": true, \"type\": \"scatter\", \"x\": [121.977, 240.033, 373.937, 571.515, 715.593, 858.344, 1002.322, 1150.153, 1297.461, 1449.431, 1692.219, 1948.823, 2177.311, 2384.675, 2578.25, 2767.262, 2966.594, 3105.663, 3242.839, 3378.67, 3513.984, 3650.406, 3805.493, 4077.136, 4332.562, 4560.133, 4725.199, 4886.931, 5061.846, 5246.938, 5375.616, 5500.808, 5621.886, 5744.634, 5865.312, 5983.953, 6104.657, 6225.898, 6348.922, 6471.187, 6591.295, 6710.36, 6829.665, 6950.634, 7148.263, 7403.738, 7522.942, 7643.398, 7762.108, 7881.028, 8000.438, 8211.628, 8454.907, 8573.986, 8692.921, 8813.905, 8935.044, 9054.909, 9178.39, 9299.813, 9419.253, 9538.147, 9657.82, 9778.281, 9899.203, 10018.532, 10138.801, 10259.628, 10378.336, 10497.354, 10623.13, 10796.989, 10917.418, 11037.038, 11159.852, 11280.589, 11399.556, 11519.621, 11639.922, 11761.895, 11883.815, 12004.523, 12136.598, 12333.864, 12481.284, 12626.174, 12768.467, 12910.782, 13056.05, 13195.542, 13333.902, 13475.015, 13613.362, 13751.84, 13886.807, 14024.738, 14160.651, 14296.769, 14431.002, 14566.456, 14704.482, 14835.213, 14976.868, 15169.338, 15310.636, 15464.704, 15761.493, 16066.36, 16295.912, 16510.975, 16719.917, 16922.829, 17136.684, 17281.089, 17422.128, 17561.807, 17700.99, 17840.096, 17980.222, 18119.299, 18259.196, 18399.14, 18537.255, 18675.213, 18819.508, 19008.01, 19183.073, 19473.976, 19794.813, 20054.651, 20264.747, 20469.33, 20681.101], \"xaxis\": \"x\", \"y\": [0.0, 0.0, 0.0, 0.0, 0.0, 0.0, 0.0, 0.0, 0.0, 0.0, 0.0, 0.0, 0.0, 0.0, 0.0, 0.0, 0.0, 0.0, 0.0, 0.0, 0.0, 0.0, 0.0, 0.0, 0.0, 0.0, 0.0, 0.0, 0.0, 0.0, 0.0, 0.0, 0.0, 0.0, 0.0, 0.0, 0.0, 0.0, 0.0, 0.0, 0.0, 0.0, 0.0, 0.0, 0.0, 0.0, 0.0, 0.0, 0.0, 0.0, 0.0, 0.0, 0.0, 0.0, 0.0, 0.0, 0.0, 0.0, 0.0, 0.0, 0.0, 0.0, 0.0, 0.0, 0.0, 0.0, 0.0, 0.0, 0.0, 0.0, 0.0, 0.0, 0.0, 0.0, 0.0, 0.0, 0.0, 0.0, 0.0, 0.0, 0.0, 0.0, 0.0, 0.0, 0.0, 0.0, 0.0, 0.0, 0.0, 0.0, 0.0, 0.0, 0.0, 0.0, 0.0, 0.0, 0.0, 0.0, 0.0, 0.0, 0.0, 0.0, 0.0, 0.0, 0.0, 0.0, 0.0, 0.0, 0.0, 0.0, 0.0, 0.0, 0.0, 0.0, 0.0, 0.0, 0.0, 0.0, 0.0, 0.0, 0.0, 0.0, 0.0, 0.0, 0.0, 0.0, 0.0, 0.0, 0.0, 0.0, 0.0, 0.0, 0.0], \"yaxis\": \"y\"}],\n",
       "                        {\"height\": 600, \"legend\": {\"tracegroupgap\": 0}, \"margin\": {\"t\": 60}, \"template\": {\"data\": {\"bar\": [{\"error_x\": {\"color\": \"#2a3f5f\"}, \"error_y\": {\"color\": \"#2a3f5f\"}, \"marker\": {\"line\": {\"color\": \"#E5ECF6\", \"width\": 0.5}}, \"type\": \"bar\"}], \"barpolar\": [{\"marker\": {\"line\": {\"color\": \"#E5ECF6\", \"width\": 0.5}}, \"type\": \"barpolar\"}], \"carpet\": [{\"aaxis\": {\"endlinecolor\": \"#2a3f5f\", \"gridcolor\": \"white\", \"linecolor\": \"white\", \"minorgridcolor\": \"white\", \"startlinecolor\": \"#2a3f5f\"}, \"baxis\": {\"endlinecolor\": \"#2a3f5f\", \"gridcolor\": \"white\", \"linecolor\": \"white\", \"minorgridcolor\": \"white\", \"startlinecolor\": \"#2a3f5f\"}, \"type\": \"carpet\"}], \"choropleth\": [{\"colorbar\": {\"outlinewidth\": 0, \"ticks\": \"\"}, \"type\": \"choropleth\"}], \"contour\": [{\"colorbar\": {\"outlinewidth\": 0, \"ticks\": \"\"}, \"colorscale\": [[0.0, \"#0d0887\"], [0.1111111111111111, \"#46039f\"], [0.2222222222222222, \"#7201a8\"], [0.3333333333333333, \"#9c179e\"], [0.4444444444444444, \"#bd3786\"], [0.5555555555555556, \"#d8576b\"], [0.6666666666666666, \"#ed7953\"], [0.7777777777777778, \"#fb9f3a\"], [0.8888888888888888, \"#fdca26\"], [1.0, \"#f0f921\"]], \"type\": \"contour\"}], \"contourcarpet\": [{\"colorbar\": {\"outlinewidth\": 0, \"ticks\": \"\"}, \"type\": \"contourcarpet\"}], \"heatmap\": [{\"colorbar\": {\"outlinewidth\": 0, \"ticks\": \"\"}, \"colorscale\": [[0.0, \"#0d0887\"], [0.1111111111111111, \"#46039f\"], [0.2222222222222222, \"#7201a8\"], [0.3333333333333333, \"#9c179e\"], [0.4444444444444444, \"#bd3786\"], [0.5555555555555556, \"#d8576b\"], [0.6666666666666666, \"#ed7953\"], [0.7777777777777778, \"#fb9f3a\"], [0.8888888888888888, \"#fdca26\"], [1.0, \"#f0f921\"]], \"type\": \"heatmap\"}], \"heatmapgl\": [{\"colorbar\": {\"outlinewidth\": 0, \"ticks\": \"\"}, \"colorscale\": [[0.0, \"#0d0887\"], [0.1111111111111111, \"#46039f\"], [0.2222222222222222, \"#7201a8\"], [0.3333333333333333, \"#9c179e\"], [0.4444444444444444, \"#bd3786\"], [0.5555555555555556, \"#d8576b\"], [0.6666666666666666, \"#ed7953\"], [0.7777777777777778, \"#fb9f3a\"], [0.8888888888888888, \"#fdca26\"], [1.0, \"#f0f921\"]], \"type\": \"heatmapgl\"}], \"histogram\": [{\"marker\": {\"colorbar\": {\"outlinewidth\": 0, \"ticks\": \"\"}}, \"type\": \"histogram\"}], \"histogram2d\": [{\"colorbar\": {\"outlinewidth\": 0, \"ticks\": \"\"}, \"colorscale\": [[0.0, \"#0d0887\"], [0.1111111111111111, \"#46039f\"], [0.2222222222222222, \"#7201a8\"], [0.3333333333333333, \"#9c179e\"], [0.4444444444444444, \"#bd3786\"], [0.5555555555555556, \"#d8576b\"], [0.6666666666666666, \"#ed7953\"], [0.7777777777777778, \"#fb9f3a\"], [0.8888888888888888, \"#fdca26\"], [1.0, \"#f0f921\"]], \"type\": \"histogram2d\"}], \"histogram2dcontour\": [{\"colorbar\": {\"outlinewidth\": 0, \"ticks\": \"\"}, \"colorscale\": [[0.0, \"#0d0887\"], [0.1111111111111111, \"#46039f\"], [0.2222222222222222, \"#7201a8\"], [0.3333333333333333, \"#9c179e\"], [0.4444444444444444, \"#bd3786\"], [0.5555555555555556, \"#d8576b\"], [0.6666666666666666, \"#ed7953\"], [0.7777777777777778, \"#fb9f3a\"], [0.8888888888888888, \"#fdca26\"], [1.0, \"#f0f921\"]], \"type\": \"histogram2dcontour\"}], \"mesh3d\": [{\"colorbar\": {\"outlinewidth\": 0, \"ticks\": \"\"}, \"type\": \"mesh3d\"}], \"parcoords\": [{\"line\": {\"colorbar\": {\"outlinewidth\": 0, \"ticks\": \"\"}}, \"type\": \"parcoords\"}], \"scatter\": [{\"marker\": {\"colorbar\": {\"outlinewidth\": 0, \"ticks\": \"\"}}, \"type\": \"scatter\"}], \"scatter3d\": [{\"line\": {\"colorbar\": {\"outlinewidth\": 0, \"ticks\": \"\"}}, \"marker\": {\"colorbar\": {\"outlinewidth\": 0, \"ticks\": \"\"}}, \"type\": \"scatter3d\"}], \"scattercarpet\": [{\"marker\": {\"colorbar\": {\"outlinewidth\": 0, \"ticks\": \"\"}}, \"type\": \"scattercarpet\"}], \"scattergeo\": [{\"marker\": {\"colorbar\": {\"outlinewidth\": 0, \"ticks\": \"\"}}, \"type\": \"scattergeo\"}], \"scattergl\": [{\"marker\": {\"colorbar\": {\"outlinewidth\": 0, \"ticks\": \"\"}}, \"type\": \"scattergl\"}], \"scattermapbox\": [{\"marker\": {\"colorbar\": {\"outlinewidth\": 0, \"ticks\": \"\"}}, \"type\": \"scattermapbox\"}], \"scatterpolar\": [{\"marker\": {\"colorbar\": {\"outlinewidth\": 0, \"ticks\": \"\"}}, \"type\": \"scatterpolar\"}], \"scatterpolargl\": [{\"marker\": {\"colorbar\": {\"outlinewidth\": 0, \"ticks\": \"\"}}, \"type\": \"scatterpolargl\"}], \"scatterternary\": [{\"marker\": {\"colorbar\": {\"outlinewidth\": 0, \"ticks\": \"\"}}, \"type\": \"scatterternary\"}], \"surface\": [{\"colorbar\": {\"outlinewidth\": 0, \"ticks\": \"\"}, \"colorscale\": [[0.0, \"#0d0887\"], [0.1111111111111111, \"#46039f\"], [0.2222222222222222, \"#7201a8\"], [0.3333333333333333, \"#9c179e\"], [0.4444444444444444, \"#bd3786\"], [0.5555555555555556, \"#d8576b\"], [0.6666666666666666, \"#ed7953\"], [0.7777777777777778, \"#fb9f3a\"], [0.8888888888888888, \"#fdca26\"], [1.0, \"#f0f921\"]], \"type\": \"surface\"}], \"table\": [{\"cells\": {\"fill\": {\"color\": \"#EBF0F8\"}, \"line\": {\"color\": \"white\"}}, \"header\": {\"fill\": {\"color\": \"#C8D4E3\"}, \"line\": {\"color\": \"white\"}}, \"type\": \"table\"}]}, \"layout\": {\"annotationdefaults\": {\"arrowcolor\": \"#2a3f5f\", \"arrowhead\": 0, \"arrowwidth\": 1}, \"colorscale\": {\"diverging\": [[0, \"#8e0152\"], [0.1, \"#c51b7d\"], [0.2, \"#de77ae\"], [0.3, \"#f1b6da\"], [0.4, \"#fde0ef\"], [0.5, \"#f7f7f7\"], [0.6, \"#e6f5d0\"], [0.7, \"#b8e186\"], [0.8, \"#7fbc41\"], [0.9, \"#4d9221\"], [1, \"#276419\"]], \"sequential\": [[0.0, \"#0d0887\"], [0.1111111111111111, \"#46039f\"], [0.2222222222222222, \"#7201a8\"], [0.3333333333333333, \"#9c179e\"], [0.4444444444444444, \"#bd3786\"], [0.5555555555555556, \"#d8576b\"], [0.6666666666666666, \"#ed7953\"], [0.7777777777777778, \"#fb9f3a\"], [0.8888888888888888, \"#fdca26\"], [1.0, \"#f0f921\"]], \"sequentialminus\": [[0.0, \"#0d0887\"], [0.1111111111111111, \"#46039f\"], [0.2222222222222222, \"#7201a8\"], [0.3333333333333333, \"#9c179e\"], [0.4444444444444444, \"#bd3786\"], [0.5555555555555556, \"#d8576b\"], [0.6666666666666666, \"#ed7953\"], [0.7777777777777778, \"#fb9f3a\"], [0.8888888888888888, \"#fdca26\"], [1.0, \"#f0f921\"]]}, \"colorway\": [\"#636efa\", \"#EF553B\", \"#00cc96\", \"#ab63fa\", \"#FFA15A\", \"#19d3f3\", \"#FF6692\", \"#B6E880\", \"#FF97FF\", \"#FECB52\"], \"font\": {\"color\": \"#2a3f5f\"}, \"geo\": {\"bgcolor\": \"white\", \"lakecolor\": \"white\", \"landcolor\": \"#E5ECF6\", \"showlakes\": true, \"showland\": true, \"subunitcolor\": \"white\"}, \"hoverlabel\": {\"align\": \"left\"}, \"hovermode\": \"closest\", \"mapbox\": {\"style\": \"light\"}, \"paper_bgcolor\": \"white\", \"plot_bgcolor\": \"#E5ECF6\", \"polar\": {\"angularaxis\": {\"gridcolor\": \"white\", \"linecolor\": \"white\", \"ticks\": \"\"}, \"bgcolor\": \"#E5ECF6\", \"radialaxis\": {\"gridcolor\": \"white\", \"linecolor\": \"white\", \"ticks\": \"\"}}, \"scene\": {\"xaxis\": {\"backgroundcolor\": \"#E5ECF6\", \"gridcolor\": \"white\", \"gridwidth\": 2, \"linecolor\": \"white\", \"showbackground\": true, \"ticks\": \"\", \"zerolinecolor\": \"white\"}, \"yaxis\": {\"backgroundcolor\": \"#E5ECF6\", \"gridcolor\": \"white\", \"gridwidth\": 2, \"linecolor\": \"white\", \"showbackground\": true, \"ticks\": \"\", \"zerolinecolor\": \"white\"}, \"zaxis\": {\"backgroundcolor\": \"#E5ECF6\", \"gridcolor\": \"white\", \"gridwidth\": 2, \"linecolor\": \"white\", \"showbackground\": true, \"ticks\": \"\", \"zerolinecolor\": \"white\"}}, \"shapedefaults\": {\"line\": {\"color\": \"#2a3f5f\"}}, \"ternary\": {\"aaxis\": {\"gridcolor\": \"white\", \"linecolor\": \"white\", \"ticks\": \"\"}, \"baxis\": {\"gridcolor\": \"white\", \"linecolor\": \"white\", \"ticks\": \"\"}, \"bgcolor\": \"#E5ECF6\", \"caxis\": {\"gridcolor\": \"white\", \"linecolor\": \"white\", \"ticks\": \"\"}}, \"title\": {\"x\": 0.05}, \"xaxis\": {\"automargin\": true, \"gridcolor\": \"white\", \"linecolor\": \"white\", \"ticks\": \"\", \"zerolinecolor\": \"white\", \"zerolinewidth\": 2}, \"yaxis\": {\"automargin\": true, \"gridcolor\": \"white\", \"linecolor\": \"white\", \"ticks\": \"\", \"zerolinecolor\": \"white\", \"zerolinewidth\": 2}}}, \"xaxis\": {\"anchor\": \"y\", \"domain\": [0.0, 0.98], \"title\": {\"text\": \"ELAPSED_S\"}}, \"yaxis\": {\"anchor\": \"x\", \"domain\": [0.0, 1.0], \"title\": {\"text\": \"value\"}}},\n",
       "                        {\"responsive\": true}\n",
       "                    ).then(function(){\n",
       "                            \n",
       "var gd = document.getElementById('c9a045bd-073c-4c1c-9d17-bbe56c63ef34');\n",
       "var x = new MutationObserver(function (mutations, observer) {{\n",
       "        var display = window.getComputedStyle(gd).display;\n",
       "        if (!display || display === 'none') {{\n",
       "            console.log([gd, 'removed!']);\n",
       "            Plotly.purge(gd);\n",
       "            observer.disconnect();\n",
       "        }}\n",
       "}});\n",
       "\n",
       "// Listen for the removal of the full notebook cells\n",
       "var notebookContainer = gd.closest('#notebook-container');\n",
       "if (notebookContainer) {{\n",
       "    x.observe(notebookContainer, {childList: true});\n",
       "}}\n",
       "\n",
       "// Listen for the clearing of the current output cell\n",
       "var outputEl = gd.closest('.output');\n",
       "if (outputEl) {{\n",
       "    x.observe(outputEl, {childList: true});\n",
       "}}\n",
       "\n",
       "                        })\n",
       "                };\n",
       "                });\n",
       "            </script>\n",
       "        </div>"
      ]
     },
     "metadata": {},
     "output_type": "display_data"
    }
   ],
   "source": [
    "fig = px.line(tmp[tmp['NUMBER'].isin(['11','3','8'])],\n",
    "              x=\"ELAPSED_S\", y=\"value\", color='NUMBER')\n",
    "fig.show()"
   ]
  },
  {
   "cell_type": "code",
   "execution_count": 174,
   "metadata": {},
   "outputs": [
    {
     "data": {
      "application/vnd.plotly.v1+json": {
       "config": {
        "plotlyServerURL": "https://plot.ly"
       },
       "data": [
        {
         "hoverlabel": {
          "namelength": 0
         },
         "hovertemplate": "NUMBER=11<br>ELAPSED_S=%{x}<br>cumvalue=%{y}",
         "legendgroup": "NUMBER=11",
         "line": {
          "color": "#636efa",
          "dash": "solid"
         },
         "mode": "lines",
         "name": "NUMBER=11",
         "showlegend": true,
         "type": "scatter",
         "x": [
          125.631,
          246.074,
          374.76,
          537.948,
          722.748,
          868.205,
          1014.43,
          1162.841,
          1310.928,
          1456.665,
          1696.208,
          1950.099,
          2179.908,
          2386.778,
          2580.375,
          2768.934,
          2967.498,
          3111.108,
          3252.956,
          3392.962,
          3531.235,
          3669.596,
          3833.948,
          4083.679,
          4330.824,
          4514.326,
          4700.327,
          4914.294,
          5060.019,
          5193.792,
          5321.965,
          5450.523,
          5579.557,
          5710.136,
          5846.157,
          6003.441,
          6123.983,
          6245.847,
          6365.612,
          6495.93,
          6618.52,
          6742.447,
          6861.921,
          6985.336,
          7232.793,
          7448.597,
          7572.015,
          7693.763,
          7813.605,
          7935.382,
          8063.414,
          8367.219,
          8508.962,
          8630.014,
          8752.244,
          8874.255,
          8995.062,
          9117.667,
          9240.905,
          9366.448,
          9492.14,
          9613.161,
          9733.424,
          9859.521,
          10039.379,
          10162.6,
          10285.627,
          10407.568,
          10531.319,
          10652.607,
          10775.561,
          10898.609,
          11025.73,
          11148.072,
          11270.579,
          11393.889,
          11522.969,
          11660.282,
          11782.722,
          11905.35,
          12028.108,
          12162.04,
          12363.18,
          12506.633,
          12648.185,
          12791.248,
          12934.384,
          13076.86,
          13219.717,
          13362.764,
          13504.738,
          13644.968,
          13790.95,
          13934.116,
          14076.693,
          14218.585,
          14358.607,
          14497.262,
          14635.778,
          14780.793,
          14972.927,
          15114.815,
          15257.794,
          15401.059,
          15576.846,
          15789.328,
          16091.999,
          16322.546,
          16539.698,
          16739.09,
          16939.199,
          17149.6,
          17312.59,
          17463.705,
          17614.736,
          17763.892,
          17910.761,
          18055.184,
          18201.93,
          18344.623,
          18487.112,
          18641.538,
          18848.532,
          19000.529,
          19177.776,
          19372.482,
          19579.165,
          19832.627,
          20093.863,
          20305.901,
          20506.93,
          20705.35
         ],
         "xaxis": "x",
         "y": [
          3.6539999999999964,
          6.040999999999997,
          0.8230000000000075,
          -33.56700000000001,
          7.155000000000001,
          9.86099999999999,
          12.107999999999976,
          12.687999999999988,
          13.466999999999985,
          7.2339999999999804,
          3.988999999999976,
          1.275999999999982,
          2.59699999999998,
          2.10299999999998,
          2.125,
          1.671999999999997,
          0.9039999999999964,
          5.445000000000022,
          10.117000000000047,
          14.292000000000058,
          17.25100000000006,
          19.190000000000055,
          28.45500000000007,
          6.543000000000092,
          -1.7379999999998859,
          -45.806999999999874,
          -24.871999999999872,
          27.36300000000014,
          -1.826999999999856,
          -53.14599999999987,
          -53.65099999999987,
          -50.28499999999987,
          -42.32899999999988,
          -34.49799999999988,
          -19.154999999999887,
          19.4880000000001,
          19.326000000000107,
          19.94900000000011,
          16.69000000000011,
          24.743000000000123,
          27.225000000000122,
          32.08700000000013,
          32.25600000000013,
          34.70200000000014,
          84.53000000000014,
          44.85900000000015,
          49.073000000000164,
          50.365000000000165,
          51.49700000000017,
          54.35400000000017,
          62.976000000000184,
          155.59100000000018,
          54.05500000000018,
          56.02800000000019,
          59.32300000000019,
          60.35000000000019,
          60.0180000000002,
          62.75800000000021,
          62.515000000000214,
          66.63500000000022,
          72.88700000000021,
          75.01400000000021,
          75.60400000000021,
          81.24000000000021,
          140.17600000000022,
          144.0680000000002,
          146.8260000000002,
          147.9400000000002,
          152.9830000000002,
          155.2530000000002,
          152.4310000000002,
          101.6200000000002,
          108.3120000000002,
          111.03400000000019,
          110.7270000000002,
          113.30000000000021,
          123.41300000000022,
          140.66100000000023,
          142.80000000000024,
          143.45500000000024,
          144.29300000000023,
          157.51700000000022,
          226.58200000000022,
          172.76900000000023,
          166.90100000000024,
          165.07400000000024,
          165.91700000000023,
          166.07800000000023,
          163.66700000000023,
          167.22200000000024,
          170.8360000000002,
          169.9530000000002,
          177.5880000000002,
          182.27600000000018,
          189.88600000000017,
          193.84700000000015,
          197.95600000000013,
          200.49300000000014,
          204.77600000000012,
          214.3370000000001,
          268.44500000000005,
          279.6020000000001,
          280.9260000000001,
          231.7210000000001,
          266.2100000000001,
          324.6240000000001,
          330.5060000000001,
          256.18600000000004,
          243.78600000000003,
          228.11500000000004,
          219.28200000000004,
          226.77100000000004,
          175.90600000000006,
          182.61600000000007,
          192.6080000000001,
          202.0850000000001,
          209.7710000000001,
          215.0880000000001,
          221.7080000000001,
          225.32400000000013,
          227.91600000000014,
          242.39800000000014,
          311.27700000000016,
          325.31600000000014,
          358.26800000000014,
          364.4720000000001,
          396.0920000000001,
          358.65100000000007,
          299.05000000000007,
          251.25000000000006,
          242.18300000000005,
          236.02000000000004
         ],
         "yaxis": "y"
        },
        {
         "hoverlabel": {
          "namelength": 0
         },
         "hovertemplate": "NUMBER=3<br>ELAPSED_S=%{x}<br>cumvalue=%{y}",
         "legendgroup": "NUMBER=3",
         "line": {
          "color": "#EF553B",
          "dash": "solid"
         },
         "mode": "lines",
         "name": "NUMBER=3",
         "showlegend": true,
         "type": "scatter",
         "x": [
          123.739,
          243.932,
          378.708,
          561.689,
          705.326,
          850.594,
          999.219,
          1147.67,
          1295.789,
          1448.983,
          1690.982,
          1948.265,
          2176.882,
          2384.476,
          2577.803,
          2766.817,
          2966.38,
          3110.115,
          3252.506,
          3394.919,
          3535.165,
          3675.525,
          3834.615,
          4084.73,
          4333.577,
          4518.113,
          4703.777,
          4931.806,
          5085.107,
          5225.007,
          5358.934,
          5489.105,
          5618.372,
          5745.087,
          5874.572,
          5998.118,
          6128.397,
          6287.857,
          6407.721,
          6528.942,
          6652.077,
          6773.43,
          6895.999,
          7017.137,
          7329.203,
          7485.37,
          7605.818,
          7726.838,
          7848.778,
          7968.762,
          8121.74,
          8424.917,
          8548.134,
          8669.989,
          8791.345,
          8912.511,
          9033.08,
          9157.523,
          9281.326,
          9400.945,
          9520.772,
          9641.945,
          9767.137,
          9890.329,
          10011.494,
          10131.454,
          10251.431,
          10370.886,
          10491.994,
          10612.713,
          10740.565,
          10920.076,
          11039.85,
          11166.364,
          11285.757,
          11405.703,
          11526.333,
          11647.115,
          11768.513,
          11892.726,
          12016.436,
          12148.344,
          12338.193,
          12530.801,
          12679.465,
          12826.632,
          12971.157,
          13114.668,
          13258.084,
          13402.306,
          13544.883,
          13688.431,
          13831.583,
          13972.351,
          14112.049,
          14251.809,
          14393.795,
          14530.891,
          14667.003,
          14802.827,
          14939.243,
          15087.591,
          15283.699,
          15428.64,
          15612.183,
          15801.636,
          16097.051,
          16326.05,
          16543.053,
          16742.732,
          16942.582,
          17151.192,
          17308.622,
          17461.014,
          17613.833,
          17761.632,
          17906.803,
          18050.574,
          18194.211,
          18338.407,
          18484.2,
          18629.704,
          18773.553,
          18921.495,
          19127.8,
          19323.517,
          19522.526,
          19820.139,
          20078.346,
          20292.46,
          20493.982,
          20698.794
         ],
         "xaxis": "x",
         "y": [
          1.7620000000000005,
          3.899000000000001,
          4.771000000000015,
          -9.825999999999993,
          -10.266999999999996,
          -7.75,
          -3.1030000000000086,
          -2.483000000000004,
          -1.671999999999997,
          -0.4480000000000075,
          -1.2370000000000232,
          -0.5579999999999927,
          -0.42900000000000205,
          -0.19900000000001228,
          -0.44700000000000273,
          -0.4449999999999932,
          -0.21399999999999864,
          4.452000000000027,
          9.66700000000003,
          16.249000000000052,
          21.18100000000007,
          25.119000000000085,
          29.1220000000001,
          7.594000000000136,
          1.0150000000001569,
          -42.01999999999984,
          -21.421999999999855,
          44.87500000000014,
          23.261000000000138,
          -21.93099999999987,
          -16.681999999999874,
          -11.702999999999875,
          -3.513999999999882,
          0.45300000000011664,
          9.260000000000133,
          14.165000000000134,
          23.740000000000137,
          61.959000000000145,
          58.79900000000015,
          57.75500000000015,
          60.78200000000015,
          63.07000000000015,
          66.33400000000015,
          66.50300000000016,
          180.94000000000014,
          81.63200000000015,
          82.87600000000015,
          83.44000000000014,
          86.67000000000014,
          87.73400000000014,
          121.30200000000015,
          213.28900000000016,
          93.22700000000016,
          96.00300000000017,
          98.42400000000016,
          98.60600000000017,
          98.03600000000017,
          102.61400000000017,
          102.93600000000018,
          101.13200000000018,
          101.51900000000018,
          103.79800000000017,
          109.31700000000016,
          112.04800000000016,
          112.29100000000017,
          112.92200000000017,
          112.63000000000017,
          111.25800000000017,
          113.65800000000017,
          115.35900000000017,
          117.43500000000017,
          123.08700000000016,
          122.43200000000016,
          129.32600000000014,
          125.90500000000014,
          125.11400000000015,
          126.77700000000014,
          127.49400000000014,
          128.59100000000012,
          130.83100000000013,
          132.62100000000012,
          143.8210000000001,
          201.5950000000001,
          196.93700000000013,
          198.18100000000013,
          200.45800000000014,
          202.69000000000014,
          203.88600000000014,
          202.03400000000013,
          206.76400000000015,
          210.98100000000014,
          213.41600000000014,
          218.22100000000012,
          220.5110000000001,
          225.2420000000001,
          227.07100000000008,
          233.14400000000006,
          234.12200000000007,
          236.00100000000006,
          236.37100000000007,
          234.76100000000005,
          252.37800000000007,
          306.8310000000001,
          259.3020000000001,
          301.5470000000001,
          336.9320000000001,
          335.5580000000001,
          259.69000000000005,
          247.14100000000005,
          231.75700000000006,
          222.66500000000005,
          228.36300000000006,
          171.93800000000007,
          179.92500000000007,
          191.70500000000007,
          199.82500000000007,
          205.81300000000007,
          210.47800000000007,
          213.98900000000006,
          219.10800000000006,
          225.00400000000008,
          230.56400000000008,
          236.29800000000006,
          246.28200000000007,
          308.2920000000001,
          315.50700000000006,
          339.4530000000001,
          346.16300000000007,
          283.5330000000001,
          237.80900000000005,
          229.23500000000004,
          229.46400000000006
         ],
         "yaxis": "y"
        },
        {
         "hoverlabel": {
          "namelength": 0
         },
         "hovertemplate": "NUMBER=8<br>ELAPSED_S=%{x}<br>cumvalue=%{y}",
         "legendgroup": "NUMBER=8",
         "line": {
          "color": "#00cc96",
          "dash": "solid"
         },
         "mode": "lines",
         "name": "NUMBER=8",
         "showlegend": true,
         "type": "scatter",
         "x": [
          121.977,
          240.033,
          373.937,
          571.515,
          715.593,
          858.344,
          1002.322,
          1150.153,
          1297.461,
          1449.431,
          1692.219,
          1948.823,
          2177.311,
          2384.675,
          2578.25,
          2767.262,
          2966.594,
          3105.663,
          3242.839,
          3378.67,
          3513.984,
          3650.406,
          3805.493,
          4077.136,
          4332.562,
          4560.133,
          4725.199,
          4886.931,
          5061.846,
          5246.938,
          5375.616,
          5500.808,
          5621.886,
          5744.634,
          5865.312,
          5983.953,
          6104.657,
          6225.898,
          6348.922,
          6471.187,
          6591.295,
          6710.36,
          6829.665,
          6950.634,
          7148.263,
          7403.738,
          7522.942,
          7643.398,
          7762.108,
          7881.028,
          8000.438,
          8211.628,
          8454.907,
          8573.986,
          8692.921,
          8813.905,
          8935.044,
          9054.909,
          9178.39,
          9299.813,
          9419.253,
          9538.147,
          9657.82,
          9778.281,
          9899.203,
          10018.532,
          10138.801,
          10259.628,
          10378.336,
          10497.354,
          10623.13,
          10796.989,
          10917.418,
          11037.038,
          11159.852,
          11280.589,
          11399.556,
          11519.621,
          11639.922,
          11761.895,
          11883.815,
          12004.523,
          12136.598,
          12333.864,
          12481.284,
          12626.174,
          12768.467,
          12910.782,
          13056.05,
          13195.542,
          13333.902,
          13475.015,
          13613.362,
          13751.84,
          13886.807,
          14024.738,
          14160.651,
          14296.769,
          14431.002,
          14566.456,
          14704.482,
          14835.213,
          14976.868,
          15169.338,
          15310.636,
          15464.704,
          15761.493,
          16066.36,
          16295.912,
          16510.975,
          16719.917,
          16922.829,
          17136.684,
          17281.089,
          17422.128,
          17561.807,
          17700.99,
          17840.096,
          17980.222,
          18119.299,
          18259.196,
          18399.14,
          18537.255,
          18675.213,
          18819.508,
          19008.01,
          19183.073,
          19473.976,
          19794.813,
          20054.651,
          20264.747,
          20469.33,
          20681.101
         ],
         "xaxis": "x",
         "y": [
          0,
          0,
          0,
          0,
          0,
          0,
          0,
          0,
          0,
          0,
          0,
          0,
          0,
          0,
          0,
          0,
          0,
          0,
          0,
          0,
          0,
          0,
          0,
          0,
          0,
          0,
          0,
          0,
          0,
          0,
          0,
          0,
          0,
          0,
          0,
          0,
          0,
          0,
          0,
          0,
          0,
          0,
          0,
          0,
          0,
          0,
          0,
          0,
          0,
          0,
          0,
          0,
          0,
          0,
          0,
          0,
          0,
          0,
          0,
          0,
          0,
          0,
          0,
          0,
          0,
          0,
          0,
          0,
          0,
          0,
          0,
          0,
          0,
          0,
          0,
          0,
          0,
          0,
          0,
          0,
          0,
          0,
          0,
          0,
          0,
          0,
          0,
          0,
          0,
          0,
          0,
          0,
          0,
          0,
          0,
          0,
          0,
          0,
          0,
          0,
          0,
          0,
          0,
          0,
          0,
          0,
          0,
          0,
          0,
          0,
          0,
          0,
          0,
          0,
          0,
          0,
          0,
          0,
          0,
          0,
          0,
          0,
          0,
          0,
          0,
          0,
          0,
          0,
          0,
          0,
          0,
          0,
          0
         ],
         "yaxis": "y"
        }
       ],
       "layout": {
        "height": 600,
        "legend": {
         "tracegroupgap": 0
        },
        "margin": {
         "t": 60
        },
        "template": {
         "data": {
          "bar": [
           {
            "error_x": {
             "color": "#2a3f5f"
            },
            "error_y": {
             "color": "#2a3f5f"
            },
            "marker": {
             "line": {
              "color": "#E5ECF6",
              "width": 0.5
             }
            },
            "type": "bar"
           }
          ],
          "barpolar": [
           {
            "marker": {
             "line": {
              "color": "#E5ECF6",
              "width": 0.5
             }
            },
            "type": "barpolar"
           }
          ],
          "carpet": [
           {
            "aaxis": {
             "endlinecolor": "#2a3f5f",
             "gridcolor": "white",
             "linecolor": "white",
             "minorgridcolor": "white",
             "startlinecolor": "#2a3f5f"
            },
            "baxis": {
             "endlinecolor": "#2a3f5f",
             "gridcolor": "white",
             "linecolor": "white",
             "minorgridcolor": "white",
             "startlinecolor": "#2a3f5f"
            },
            "type": "carpet"
           }
          ],
          "choropleth": [
           {
            "colorbar": {
             "outlinewidth": 0,
             "ticks": ""
            },
            "type": "choropleth"
           }
          ],
          "contour": [
           {
            "colorbar": {
             "outlinewidth": 0,
             "ticks": ""
            },
            "colorscale": [
             [
              0,
              "#0d0887"
             ],
             [
              0.1111111111111111,
              "#46039f"
             ],
             [
              0.2222222222222222,
              "#7201a8"
             ],
             [
              0.3333333333333333,
              "#9c179e"
             ],
             [
              0.4444444444444444,
              "#bd3786"
             ],
             [
              0.5555555555555556,
              "#d8576b"
             ],
             [
              0.6666666666666666,
              "#ed7953"
             ],
             [
              0.7777777777777778,
              "#fb9f3a"
             ],
             [
              0.8888888888888888,
              "#fdca26"
             ],
             [
              1,
              "#f0f921"
             ]
            ],
            "type": "contour"
           }
          ],
          "contourcarpet": [
           {
            "colorbar": {
             "outlinewidth": 0,
             "ticks": ""
            },
            "type": "contourcarpet"
           }
          ],
          "heatmap": [
           {
            "colorbar": {
             "outlinewidth": 0,
             "ticks": ""
            },
            "colorscale": [
             [
              0,
              "#0d0887"
             ],
             [
              0.1111111111111111,
              "#46039f"
             ],
             [
              0.2222222222222222,
              "#7201a8"
             ],
             [
              0.3333333333333333,
              "#9c179e"
             ],
             [
              0.4444444444444444,
              "#bd3786"
             ],
             [
              0.5555555555555556,
              "#d8576b"
             ],
             [
              0.6666666666666666,
              "#ed7953"
             ],
             [
              0.7777777777777778,
              "#fb9f3a"
             ],
             [
              0.8888888888888888,
              "#fdca26"
             ],
             [
              1,
              "#f0f921"
             ]
            ],
            "type": "heatmap"
           }
          ],
          "heatmapgl": [
           {
            "colorbar": {
             "outlinewidth": 0,
             "ticks": ""
            },
            "colorscale": [
             [
              0,
              "#0d0887"
             ],
             [
              0.1111111111111111,
              "#46039f"
             ],
             [
              0.2222222222222222,
              "#7201a8"
             ],
             [
              0.3333333333333333,
              "#9c179e"
             ],
             [
              0.4444444444444444,
              "#bd3786"
             ],
             [
              0.5555555555555556,
              "#d8576b"
             ],
             [
              0.6666666666666666,
              "#ed7953"
             ],
             [
              0.7777777777777778,
              "#fb9f3a"
             ],
             [
              0.8888888888888888,
              "#fdca26"
             ],
             [
              1,
              "#f0f921"
             ]
            ],
            "type": "heatmapgl"
           }
          ],
          "histogram": [
           {
            "marker": {
             "colorbar": {
              "outlinewidth": 0,
              "ticks": ""
             }
            },
            "type": "histogram"
           }
          ],
          "histogram2d": [
           {
            "colorbar": {
             "outlinewidth": 0,
             "ticks": ""
            },
            "colorscale": [
             [
              0,
              "#0d0887"
             ],
             [
              0.1111111111111111,
              "#46039f"
             ],
             [
              0.2222222222222222,
              "#7201a8"
             ],
             [
              0.3333333333333333,
              "#9c179e"
             ],
             [
              0.4444444444444444,
              "#bd3786"
             ],
             [
              0.5555555555555556,
              "#d8576b"
             ],
             [
              0.6666666666666666,
              "#ed7953"
             ],
             [
              0.7777777777777778,
              "#fb9f3a"
             ],
             [
              0.8888888888888888,
              "#fdca26"
             ],
             [
              1,
              "#f0f921"
             ]
            ],
            "type": "histogram2d"
           }
          ],
          "histogram2dcontour": [
           {
            "colorbar": {
             "outlinewidth": 0,
             "ticks": ""
            },
            "colorscale": [
             [
              0,
              "#0d0887"
             ],
             [
              0.1111111111111111,
              "#46039f"
             ],
             [
              0.2222222222222222,
              "#7201a8"
             ],
             [
              0.3333333333333333,
              "#9c179e"
             ],
             [
              0.4444444444444444,
              "#bd3786"
             ],
             [
              0.5555555555555556,
              "#d8576b"
             ],
             [
              0.6666666666666666,
              "#ed7953"
             ],
             [
              0.7777777777777778,
              "#fb9f3a"
             ],
             [
              0.8888888888888888,
              "#fdca26"
             ],
             [
              1,
              "#f0f921"
             ]
            ],
            "type": "histogram2dcontour"
           }
          ],
          "mesh3d": [
           {
            "colorbar": {
             "outlinewidth": 0,
             "ticks": ""
            },
            "type": "mesh3d"
           }
          ],
          "parcoords": [
           {
            "line": {
             "colorbar": {
              "outlinewidth": 0,
              "ticks": ""
             }
            },
            "type": "parcoords"
           }
          ],
          "scatter": [
           {
            "marker": {
             "colorbar": {
              "outlinewidth": 0,
              "ticks": ""
             }
            },
            "type": "scatter"
           }
          ],
          "scatter3d": [
           {
            "line": {
             "colorbar": {
              "outlinewidth": 0,
              "ticks": ""
             }
            },
            "marker": {
             "colorbar": {
              "outlinewidth": 0,
              "ticks": ""
             }
            },
            "type": "scatter3d"
           }
          ],
          "scattercarpet": [
           {
            "marker": {
             "colorbar": {
              "outlinewidth": 0,
              "ticks": ""
             }
            },
            "type": "scattercarpet"
           }
          ],
          "scattergeo": [
           {
            "marker": {
             "colorbar": {
              "outlinewidth": 0,
              "ticks": ""
             }
            },
            "type": "scattergeo"
           }
          ],
          "scattergl": [
           {
            "marker": {
             "colorbar": {
              "outlinewidth": 0,
              "ticks": ""
             }
            },
            "type": "scattergl"
           }
          ],
          "scattermapbox": [
           {
            "marker": {
             "colorbar": {
              "outlinewidth": 0,
              "ticks": ""
             }
            },
            "type": "scattermapbox"
           }
          ],
          "scatterpolar": [
           {
            "marker": {
             "colorbar": {
              "outlinewidth": 0,
              "ticks": ""
             }
            },
            "type": "scatterpolar"
           }
          ],
          "scatterpolargl": [
           {
            "marker": {
             "colorbar": {
              "outlinewidth": 0,
              "ticks": ""
             }
            },
            "type": "scatterpolargl"
           }
          ],
          "scatterternary": [
           {
            "marker": {
             "colorbar": {
              "outlinewidth": 0,
              "ticks": ""
             }
            },
            "type": "scatterternary"
           }
          ],
          "surface": [
           {
            "colorbar": {
             "outlinewidth": 0,
             "ticks": ""
            },
            "colorscale": [
             [
              0,
              "#0d0887"
             ],
             [
              0.1111111111111111,
              "#46039f"
             ],
             [
              0.2222222222222222,
              "#7201a8"
             ],
             [
              0.3333333333333333,
              "#9c179e"
             ],
             [
              0.4444444444444444,
              "#bd3786"
             ],
             [
              0.5555555555555556,
              "#d8576b"
             ],
             [
              0.6666666666666666,
              "#ed7953"
             ],
             [
              0.7777777777777778,
              "#fb9f3a"
             ],
             [
              0.8888888888888888,
              "#fdca26"
             ],
             [
              1,
              "#f0f921"
             ]
            ],
            "type": "surface"
           }
          ],
          "table": [
           {
            "cells": {
             "fill": {
              "color": "#EBF0F8"
             },
             "line": {
              "color": "white"
             }
            },
            "header": {
             "fill": {
              "color": "#C8D4E3"
             },
             "line": {
              "color": "white"
             }
            },
            "type": "table"
           }
          ]
         },
         "layout": {
          "annotationdefaults": {
           "arrowcolor": "#2a3f5f",
           "arrowhead": 0,
           "arrowwidth": 1
          },
          "colorscale": {
           "diverging": [
            [
             0,
             "#8e0152"
            ],
            [
             0.1,
             "#c51b7d"
            ],
            [
             0.2,
             "#de77ae"
            ],
            [
             0.3,
             "#f1b6da"
            ],
            [
             0.4,
             "#fde0ef"
            ],
            [
             0.5,
             "#f7f7f7"
            ],
            [
             0.6,
             "#e6f5d0"
            ],
            [
             0.7,
             "#b8e186"
            ],
            [
             0.8,
             "#7fbc41"
            ],
            [
             0.9,
             "#4d9221"
            ],
            [
             1,
             "#276419"
            ]
           ],
           "sequential": [
            [
             0,
             "#0d0887"
            ],
            [
             0.1111111111111111,
             "#46039f"
            ],
            [
             0.2222222222222222,
             "#7201a8"
            ],
            [
             0.3333333333333333,
             "#9c179e"
            ],
            [
             0.4444444444444444,
             "#bd3786"
            ],
            [
             0.5555555555555556,
             "#d8576b"
            ],
            [
             0.6666666666666666,
             "#ed7953"
            ],
            [
             0.7777777777777778,
             "#fb9f3a"
            ],
            [
             0.8888888888888888,
             "#fdca26"
            ],
            [
             1,
             "#f0f921"
            ]
           ],
           "sequentialminus": [
            [
             0,
             "#0d0887"
            ],
            [
             0.1111111111111111,
             "#46039f"
            ],
            [
             0.2222222222222222,
             "#7201a8"
            ],
            [
             0.3333333333333333,
             "#9c179e"
            ],
            [
             0.4444444444444444,
             "#bd3786"
            ],
            [
             0.5555555555555556,
             "#d8576b"
            ],
            [
             0.6666666666666666,
             "#ed7953"
            ],
            [
             0.7777777777777778,
             "#fb9f3a"
            ],
            [
             0.8888888888888888,
             "#fdca26"
            ],
            [
             1,
             "#f0f921"
            ]
           ]
          },
          "colorway": [
           "#636efa",
           "#EF553B",
           "#00cc96",
           "#ab63fa",
           "#FFA15A",
           "#19d3f3",
           "#FF6692",
           "#B6E880",
           "#FF97FF",
           "#FECB52"
          ],
          "font": {
           "color": "#2a3f5f"
          },
          "geo": {
           "bgcolor": "white",
           "lakecolor": "white",
           "landcolor": "#E5ECF6",
           "showlakes": true,
           "showland": true,
           "subunitcolor": "white"
          },
          "hoverlabel": {
           "align": "left"
          },
          "hovermode": "closest",
          "mapbox": {
           "style": "light"
          },
          "paper_bgcolor": "white",
          "plot_bgcolor": "#E5ECF6",
          "polar": {
           "angularaxis": {
            "gridcolor": "white",
            "linecolor": "white",
            "ticks": ""
           },
           "bgcolor": "#E5ECF6",
           "radialaxis": {
            "gridcolor": "white",
            "linecolor": "white",
            "ticks": ""
           }
          },
          "scene": {
           "xaxis": {
            "backgroundcolor": "#E5ECF6",
            "gridcolor": "white",
            "gridwidth": 2,
            "linecolor": "white",
            "showbackground": true,
            "ticks": "",
            "zerolinecolor": "white"
           },
           "yaxis": {
            "backgroundcolor": "#E5ECF6",
            "gridcolor": "white",
            "gridwidth": 2,
            "linecolor": "white",
            "showbackground": true,
            "ticks": "",
            "zerolinecolor": "white"
           },
           "zaxis": {
            "backgroundcolor": "#E5ECF6",
            "gridcolor": "white",
            "gridwidth": 2,
            "linecolor": "white",
            "showbackground": true,
            "ticks": "",
            "zerolinecolor": "white"
           }
          },
          "shapedefaults": {
           "line": {
            "color": "#2a3f5f"
           }
          },
          "ternary": {
           "aaxis": {
            "gridcolor": "white",
            "linecolor": "white",
            "ticks": ""
           },
           "baxis": {
            "gridcolor": "white",
            "linecolor": "white",
            "ticks": ""
           },
           "bgcolor": "#E5ECF6",
           "caxis": {
            "gridcolor": "white",
            "linecolor": "white",
            "ticks": ""
           }
          },
          "title": {
           "x": 0.05
          },
          "xaxis": {
           "automargin": true,
           "gridcolor": "white",
           "linecolor": "white",
           "ticks": "",
           "zerolinecolor": "white",
           "zerolinewidth": 2
          },
          "yaxis": {
           "automargin": true,
           "gridcolor": "white",
           "linecolor": "white",
           "ticks": "",
           "zerolinecolor": "white",
           "zerolinewidth": 2
          }
         }
        },
        "xaxis": {
         "anchor": "y",
         "domain": [
          0,
          0.98
         ],
         "title": {
          "text": "ELAPSED_S"
         }
        },
        "yaxis": {
         "anchor": "x",
         "domain": [
          0,
          1
         ],
         "title": {
          "text": "cumvalue"
         }
        }
       }
      },
      "text/html": [
       "<div>\n",
       "        \n",
       "        \n",
       "            <div id=\"b74cbf44-8064-460d-8d6a-1f1bd2c512c5\" class=\"plotly-graph-div\" style=\"height:600px; width:100%;\"></div>\n",
       "            <script type=\"text/javascript\">\n",
       "                require([\"plotly\"], function(Plotly) {\n",
       "                    window.PLOTLYENV=window.PLOTLYENV || {};\n",
       "                    \n",
       "                if (document.getElementById(\"b74cbf44-8064-460d-8d6a-1f1bd2c512c5\")) {\n",
       "                    Plotly.newPlot(\n",
       "                        'b74cbf44-8064-460d-8d6a-1f1bd2c512c5',\n",
       "                        [{\"hoverlabel\": {\"namelength\": 0}, \"hovertemplate\": \"NUMBER=11<br>ELAPSED_S=%{x}<br>cumvalue=%{y}\", \"legendgroup\": \"NUMBER=11\", \"line\": {\"color\": \"#636efa\", \"dash\": \"solid\"}, \"mode\": \"lines\", \"name\": \"NUMBER=11\", \"showlegend\": true, \"type\": \"scatter\", \"x\": [125.631, 246.074, 374.76, 537.948, 722.748, 868.205, 1014.43, 1162.841, 1310.928, 1456.665, 1696.208, 1950.099, 2179.908, 2386.778, 2580.375, 2768.934, 2967.498, 3111.108, 3252.956, 3392.962, 3531.235, 3669.596, 3833.948, 4083.679, 4330.824, 4514.326, 4700.327, 4914.294, 5060.019, 5193.792, 5321.965, 5450.523, 5579.557, 5710.136, 5846.157, 6003.441, 6123.983, 6245.847, 6365.612, 6495.93, 6618.52, 6742.447, 6861.921, 6985.336, 7232.793, 7448.597, 7572.015, 7693.763, 7813.605, 7935.382, 8063.414, 8367.219, 8508.962, 8630.014, 8752.244, 8874.255, 8995.062, 9117.667, 9240.905, 9366.448, 9492.14, 9613.161, 9733.424, 9859.521, 10039.379, 10162.6, 10285.627, 10407.568, 10531.319, 10652.607, 10775.561, 10898.609, 11025.73, 11148.072, 11270.579, 11393.889, 11522.969, 11660.282, 11782.722, 11905.35, 12028.108, 12162.04, 12363.18, 12506.633, 12648.185, 12791.248, 12934.384, 13076.86, 13219.717, 13362.764, 13504.738, 13644.968, 13790.95, 13934.116, 14076.693, 14218.585, 14358.607, 14497.262, 14635.778, 14780.793, 14972.927, 15114.815, 15257.794, 15401.059, 15576.846, 15789.328, 16091.999, 16322.546, 16539.698, 16739.09, 16939.199, 17149.6, 17312.59, 17463.705, 17614.736, 17763.892, 17910.761, 18055.184, 18201.93, 18344.623, 18487.112, 18641.538, 18848.532, 19000.529, 19177.776, 19372.482, 19579.165, 19832.627, 20093.863, 20305.901, 20506.93, 20705.35], \"xaxis\": \"x\", \"y\": [3.6539999999999964, 6.040999999999997, 0.8230000000000075, -33.56700000000001, 7.155000000000001, 9.86099999999999, 12.107999999999976, 12.687999999999988, 13.466999999999985, 7.2339999999999804, 3.988999999999976, 1.275999999999982, 2.59699999999998, 2.10299999999998, 2.125, 1.671999999999997, 0.9039999999999964, 5.445000000000022, 10.117000000000047, 14.292000000000058, 17.25100000000006, 19.190000000000055, 28.45500000000007, 6.543000000000092, -1.7379999999998859, -45.806999999999874, -24.871999999999872, 27.36300000000014, -1.826999999999856, -53.14599999999987, -53.65099999999987, -50.28499999999987, -42.32899999999988, -34.49799999999988, -19.154999999999887, 19.4880000000001, 19.326000000000107, 19.94900000000011, 16.69000000000011, 24.743000000000123, 27.225000000000122, 32.08700000000013, 32.25600000000013, 34.70200000000014, 84.53000000000014, 44.85900000000015, 49.073000000000164, 50.365000000000165, 51.49700000000017, 54.35400000000017, 62.976000000000184, 155.59100000000018, 54.05500000000018, 56.02800000000019, 59.32300000000019, 60.35000000000019, 60.0180000000002, 62.75800000000021, 62.515000000000214, 66.63500000000022, 72.88700000000021, 75.01400000000021, 75.60400000000021, 81.24000000000021, 140.17600000000022, 144.0680000000002, 146.8260000000002, 147.9400000000002, 152.9830000000002, 155.2530000000002, 152.4310000000002, 101.6200000000002, 108.3120000000002, 111.03400000000019, 110.7270000000002, 113.30000000000021, 123.41300000000022, 140.66100000000023, 142.80000000000024, 143.45500000000024, 144.29300000000023, 157.51700000000022, 226.58200000000022, 172.76900000000023, 166.90100000000024, 165.07400000000024, 165.91700000000023, 166.07800000000023, 163.66700000000023, 167.22200000000024, 170.8360000000002, 169.9530000000002, 177.5880000000002, 182.27600000000018, 189.88600000000017, 193.84700000000015, 197.95600000000013, 200.49300000000014, 204.77600000000012, 214.3370000000001, 268.44500000000005, 279.6020000000001, 280.9260000000001, 231.7210000000001, 266.2100000000001, 324.6240000000001, 330.5060000000001, 256.18600000000004, 243.78600000000003, 228.11500000000004, 219.28200000000004, 226.77100000000004, 175.90600000000006, 182.61600000000007, 192.6080000000001, 202.0850000000001, 209.7710000000001, 215.0880000000001, 221.7080000000001, 225.32400000000013, 227.91600000000014, 242.39800000000014, 311.27700000000016, 325.31600000000014, 358.26800000000014, 364.4720000000001, 396.0920000000001, 358.65100000000007, 299.05000000000007, 251.25000000000006, 242.18300000000005, 236.02000000000004], \"yaxis\": \"y\"}, {\"hoverlabel\": {\"namelength\": 0}, \"hovertemplate\": \"NUMBER=3<br>ELAPSED_S=%{x}<br>cumvalue=%{y}\", \"legendgroup\": \"NUMBER=3\", \"line\": {\"color\": \"#EF553B\", \"dash\": \"solid\"}, \"mode\": \"lines\", \"name\": \"NUMBER=3\", \"showlegend\": true, \"type\": \"scatter\", \"x\": [123.739, 243.932, 378.708, 561.689, 705.326, 850.594, 999.219, 1147.67, 1295.789, 1448.983, 1690.982, 1948.265, 2176.882, 2384.476, 2577.803, 2766.817, 2966.38, 3110.115, 3252.506, 3394.919, 3535.165, 3675.525, 3834.615, 4084.73, 4333.577, 4518.113, 4703.777, 4931.806, 5085.107, 5225.007, 5358.934, 5489.105, 5618.372, 5745.087, 5874.572, 5998.118, 6128.397, 6287.857, 6407.721, 6528.942, 6652.077, 6773.43, 6895.999, 7017.137, 7329.203, 7485.37, 7605.818, 7726.838, 7848.778, 7968.762, 8121.74, 8424.917, 8548.134, 8669.989, 8791.345, 8912.511, 9033.08, 9157.523, 9281.326, 9400.945, 9520.772, 9641.945, 9767.137, 9890.329, 10011.494, 10131.454, 10251.431, 10370.886, 10491.994, 10612.713, 10740.565, 10920.076, 11039.85, 11166.364, 11285.757, 11405.703, 11526.333, 11647.115, 11768.513, 11892.726, 12016.436, 12148.344, 12338.193, 12530.801, 12679.465, 12826.632, 12971.157, 13114.668, 13258.084, 13402.306, 13544.883, 13688.431, 13831.583, 13972.351, 14112.049, 14251.809, 14393.795, 14530.891, 14667.003, 14802.827, 14939.243, 15087.591, 15283.699, 15428.64, 15612.183, 15801.636, 16097.051, 16326.05, 16543.053, 16742.732, 16942.582, 17151.192, 17308.622, 17461.014, 17613.833, 17761.632, 17906.803, 18050.574, 18194.211, 18338.407, 18484.2, 18629.704, 18773.553, 18921.495, 19127.8, 19323.517, 19522.526, 19820.139, 20078.346, 20292.46, 20493.982, 20698.794], \"xaxis\": \"x\", \"y\": [1.7620000000000005, 3.899000000000001, 4.771000000000015, -9.825999999999993, -10.266999999999996, -7.75, -3.1030000000000086, -2.483000000000004, -1.671999999999997, -0.4480000000000075, -1.2370000000000232, -0.5579999999999927, -0.42900000000000205, -0.19900000000001228, -0.44700000000000273, -0.4449999999999932, -0.21399999999999864, 4.452000000000027, 9.66700000000003, 16.249000000000052, 21.18100000000007, 25.119000000000085, 29.1220000000001, 7.594000000000136, 1.0150000000001569, -42.01999999999984, -21.421999999999855, 44.87500000000014, 23.261000000000138, -21.93099999999987, -16.681999999999874, -11.702999999999875, -3.513999999999882, 0.45300000000011664, 9.260000000000133, 14.165000000000134, 23.740000000000137, 61.959000000000145, 58.79900000000015, 57.75500000000015, 60.78200000000015, 63.07000000000015, 66.33400000000015, 66.50300000000016, 180.94000000000014, 81.63200000000015, 82.87600000000015, 83.44000000000014, 86.67000000000014, 87.73400000000014, 121.30200000000015, 213.28900000000016, 93.22700000000016, 96.00300000000017, 98.42400000000016, 98.60600000000017, 98.03600000000017, 102.61400000000017, 102.93600000000018, 101.13200000000018, 101.51900000000018, 103.79800000000017, 109.31700000000016, 112.04800000000016, 112.29100000000017, 112.92200000000017, 112.63000000000017, 111.25800000000017, 113.65800000000017, 115.35900000000017, 117.43500000000017, 123.08700000000016, 122.43200000000016, 129.32600000000014, 125.90500000000014, 125.11400000000015, 126.77700000000014, 127.49400000000014, 128.59100000000012, 130.83100000000013, 132.62100000000012, 143.8210000000001, 201.5950000000001, 196.93700000000013, 198.18100000000013, 200.45800000000014, 202.69000000000014, 203.88600000000014, 202.03400000000013, 206.76400000000015, 210.98100000000014, 213.41600000000014, 218.22100000000012, 220.5110000000001, 225.2420000000001, 227.07100000000008, 233.14400000000006, 234.12200000000007, 236.00100000000006, 236.37100000000007, 234.76100000000005, 252.37800000000007, 306.8310000000001, 259.3020000000001, 301.5470000000001, 336.9320000000001, 335.5580000000001, 259.69000000000005, 247.14100000000005, 231.75700000000006, 222.66500000000005, 228.36300000000006, 171.93800000000007, 179.92500000000007, 191.70500000000007, 199.82500000000007, 205.81300000000007, 210.47800000000007, 213.98900000000006, 219.10800000000006, 225.00400000000008, 230.56400000000008, 236.29800000000006, 246.28200000000007, 308.2920000000001, 315.50700000000006, 339.4530000000001, 346.16300000000007, 283.5330000000001, 237.80900000000005, 229.23500000000004, 229.46400000000006], \"yaxis\": \"y\"}, {\"hoverlabel\": {\"namelength\": 0}, \"hovertemplate\": \"NUMBER=8<br>ELAPSED_S=%{x}<br>cumvalue=%{y}\", \"legendgroup\": \"NUMBER=8\", \"line\": {\"color\": \"#00cc96\", \"dash\": \"solid\"}, \"mode\": \"lines\", \"name\": \"NUMBER=8\", \"showlegend\": true, \"type\": \"scatter\", \"x\": [121.977, 240.033, 373.937, 571.515, 715.593, 858.344, 1002.322, 1150.153, 1297.461, 1449.431, 1692.219, 1948.823, 2177.311, 2384.675, 2578.25, 2767.262, 2966.594, 3105.663, 3242.839, 3378.67, 3513.984, 3650.406, 3805.493, 4077.136, 4332.562, 4560.133, 4725.199, 4886.931, 5061.846, 5246.938, 5375.616, 5500.808, 5621.886, 5744.634, 5865.312, 5983.953, 6104.657, 6225.898, 6348.922, 6471.187, 6591.295, 6710.36, 6829.665, 6950.634, 7148.263, 7403.738, 7522.942, 7643.398, 7762.108, 7881.028, 8000.438, 8211.628, 8454.907, 8573.986, 8692.921, 8813.905, 8935.044, 9054.909, 9178.39, 9299.813, 9419.253, 9538.147, 9657.82, 9778.281, 9899.203, 10018.532, 10138.801, 10259.628, 10378.336, 10497.354, 10623.13, 10796.989, 10917.418, 11037.038, 11159.852, 11280.589, 11399.556, 11519.621, 11639.922, 11761.895, 11883.815, 12004.523, 12136.598, 12333.864, 12481.284, 12626.174, 12768.467, 12910.782, 13056.05, 13195.542, 13333.902, 13475.015, 13613.362, 13751.84, 13886.807, 14024.738, 14160.651, 14296.769, 14431.002, 14566.456, 14704.482, 14835.213, 14976.868, 15169.338, 15310.636, 15464.704, 15761.493, 16066.36, 16295.912, 16510.975, 16719.917, 16922.829, 17136.684, 17281.089, 17422.128, 17561.807, 17700.99, 17840.096, 17980.222, 18119.299, 18259.196, 18399.14, 18537.255, 18675.213, 18819.508, 19008.01, 19183.073, 19473.976, 19794.813, 20054.651, 20264.747, 20469.33, 20681.101], \"xaxis\": \"x\", \"y\": [0.0, 0.0, 0.0, 0.0, 0.0, 0.0, 0.0, 0.0, 0.0, 0.0, 0.0, 0.0, 0.0, 0.0, 0.0, 0.0, 0.0, 0.0, 0.0, 0.0, 0.0, 0.0, 0.0, 0.0, 0.0, 0.0, 0.0, 0.0, 0.0, 0.0, 0.0, 0.0, 0.0, 0.0, 0.0, 0.0, 0.0, 0.0, 0.0, 0.0, 0.0, 0.0, 0.0, 0.0, 0.0, 0.0, 0.0, 0.0, 0.0, 0.0, 0.0, 0.0, 0.0, 0.0, 0.0, 0.0, 0.0, 0.0, 0.0, 0.0, 0.0, 0.0, 0.0, 0.0, 0.0, 0.0, 0.0, 0.0, 0.0, 0.0, 0.0, 0.0, 0.0, 0.0, 0.0, 0.0, 0.0, 0.0, 0.0, 0.0, 0.0, 0.0, 0.0, 0.0, 0.0, 0.0, 0.0, 0.0, 0.0, 0.0, 0.0, 0.0, 0.0, 0.0, 0.0, 0.0, 0.0, 0.0, 0.0, 0.0, 0.0, 0.0, 0.0, 0.0, 0.0, 0.0, 0.0, 0.0, 0.0, 0.0, 0.0, 0.0, 0.0, 0.0, 0.0, 0.0, 0.0, 0.0, 0.0, 0.0, 0.0, 0.0, 0.0, 0.0, 0.0, 0.0, 0.0, 0.0, 0.0, 0.0, 0.0, 0.0, 0.0], \"yaxis\": \"y\"}],\n",
       "                        {\"height\": 600, \"legend\": {\"tracegroupgap\": 0}, \"margin\": {\"t\": 60}, \"template\": {\"data\": {\"bar\": [{\"error_x\": {\"color\": \"#2a3f5f\"}, \"error_y\": {\"color\": \"#2a3f5f\"}, \"marker\": {\"line\": {\"color\": \"#E5ECF6\", \"width\": 0.5}}, \"type\": \"bar\"}], \"barpolar\": [{\"marker\": {\"line\": {\"color\": \"#E5ECF6\", \"width\": 0.5}}, \"type\": \"barpolar\"}], \"carpet\": [{\"aaxis\": {\"endlinecolor\": \"#2a3f5f\", \"gridcolor\": \"white\", \"linecolor\": \"white\", \"minorgridcolor\": \"white\", \"startlinecolor\": \"#2a3f5f\"}, \"baxis\": {\"endlinecolor\": \"#2a3f5f\", \"gridcolor\": \"white\", \"linecolor\": \"white\", \"minorgridcolor\": \"white\", \"startlinecolor\": \"#2a3f5f\"}, \"type\": \"carpet\"}], \"choropleth\": [{\"colorbar\": {\"outlinewidth\": 0, \"ticks\": \"\"}, \"type\": \"choropleth\"}], \"contour\": [{\"colorbar\": {\"outlinewidth\": 0, \"ticks\": \"\"}, \"colorscale\": [[0.0, \"#0d0887\"], [0.1111111111111111, \"#46039f\"], [0.2222222222222222, \"#7201a8\"], [0.3333333333333333, \"#9c179e\"], [0.4444444444444444, \"#bd3786\"], [0.5555555555555556, \"#d8576b\"], [0.6666666666666666, \"#ed7953\"], [0.7777777777777778, \"#fb9f3a\"], [0.8888888888888888, \"#fdca26\"], [1.0, \"#f0f921\"]], \"type\": \"contour\"}], \"contourcarpet\": [{\"colorbar\": {\"outlinewidth\": 0, \"ticks\": \"\"}, \"type\": \"contourcarpet\"}], \"heatmap\": [{\"colorbar\": {\"outlinewidth\": 0, \"ticks\": \"\"}, \"colorscale\": [[0.0, \"#0d0887\"], [0.1111111111111111, \"#46039f\"], [0.2222222222222222, \"#7201a8\"], [0.3333333333333333, \"#9c179e\"], [0.4444444444444444, \"#bd3786\"], [0.5555555555555556, \"#d8576b\"], [0.6666666666666666, \"#ed7953\"], [0.7777777777777778, \"#fb9f3a\"], [0.8888888888888888, \"#fdca26\"], [1.0, \"#f0f921\"]], \"type\": \"heatmap\"}], \"heatmapgl\": [{\"colorbar\": {\"outlinewidth\": 0, \"ticks\": \"\"}, \"colorscale\": [[0.0, \"#0d0887\"], [0.1111111111111111, \"#46039f\"], [0.2222222222222222, \"#7201a8\"], [0.3333333333333333, \"#9c179e\"], [0.4444444444444444, \"#bd3786\"], [0.5555555555555556, \"#d8576b\"], [0.6666666666666666, \"#ed7953\"], [0.7777777777777778, \"#fb9f3a\"], [0.8888888888888888, \"#fdca26\"], [1.0, \"#f0f921\"]], \"type\": \"heatmapgl\"}], \"histogram\": [{\"marker\": {\"colorbar\": {\"outlinewidth\": 0, \"ticks\": \"\"}}, \"type\": \"histogram\"}], \"histogram2d\": [{\"colorbar\": {\"outlinewidth\": 0, \"ticks\": \"\"}, \"colorscale\": [[0.0, \"#0d0887\"], [0.1111111111111111, \"#46039f\"], [0.2222222222222222, \"#7201a8\"], [0.3333333333333333, \"#9c179e\"], [0.4444444444444444, \"#bd3786\"], [0.5555555555555556, \"#d8576b\"], [0.6666666666666666, \"#ed7953\"], [0.7777777777777778, \"#fb9f3a\"], [0.8888888888888888, \"#fdca26\"], [1.0, \"#f0f921\"]], \"type\": \"histogram2d\"}], \"histogram2dcontour\": [{\"colorbar\": {\"outlinewidth\": 0, \"ticks\": \"\"}, \"colorscale\": [[0.0, \"#0d0887\"], [0.1111111111111111, \"#46039f\"], [0.2222222222222222, \"#7201a8\"], [0.3333333333333333, \"#9c179e\"], [0.4444444444444444, \"#bd3786\"], [0.5555555555555556, \"#d8576b\"], [0.6666666666666666, \"#ed7953\"], [0.7777777777777778, \"#fb9f3a\"], [0.8888888888888888, \"#fdca26\"], [1.0, \"#f0f921\"]], \"type\": \"histogram2dcontour\"}], \"mesh3d\": [{\"colorbar\": {\"outlinewidth\": 0, \"ticks\": \"\"}, \"type\": \"mesh3d\"}], \"parcoords\": [{\"line\": {\"colorbar\": {\"outlinewidth\": 0, \"ticks\": \"\"}}, \"type\": \"parcoords\"}], \"scatter\": [{\"marker\": {\"colorbar\": {\"outlinewidth\": 0, \"ticks\": \"\"}}, \"type\": \"scatter\"}], \"scatter3d\": [{\"line\": {\"colorbar\": {\"outlinewidth\": 0, \"ticks\": \"\"}}, \"marker\": {\"colorbar\": {\"outlinewidth\": 0, \"ticks\": \"\"}}, \"type\": \"scatter3d\"}], \"scattercarpet\": [{\"marker\": {\"colorbar\": {\"outlinewidth\": 0, \"ticks\": \"\"}}, \"type\": \"scattercarpet\"}], \"scattergeo\": [{\"marker\": {\"colorbar\": {\"outlinewidth\": 0, \"ticks\": \"\"}}, \"type\": \"scattergeo\"}], \"scattergl\": [{\"marker\": {\"colorbar\": {\"outlinewidth\": 0, \"ticks\": \"\"}}, \"type\": \"scattergl\"}], \"scattermapbox\": [{\"marker\": {\"colorbar\": {\"outlinewidth\": 0, \"ticks\": \"\"}}, \"type\": \"scattermapbox\"}], \"scatterpolar\": [{\"marker\": {\"colorbar\": {\"outlinewidth\": 0, \"ticks\": \"\"}}, \"type\": \"scatterpolar\"}], \"scatterpolargl\": [{\"marker\": {\"colorbar\": {\"outlinewidth\": 0, \"ticks\": \"\"}}, \"type\": \"scatterpolargl\"}], \"scatterternary\": [{\"marker\": {\"colorbar\": {\"outlinewidth\": 0, \"ticks\": \"\"}}, \"type\": \"scatterternary\"}], \"surface\": [{\"colorbar\": {\"outlinewidth\": 0, \"ticks\": \"\"}, \"colorscale\": [[0.0, \"#0d0887\"], [0.1111111111111111, \"#46039f\"], [0.2222222222222222, \"#7201a8\"], [0.3333333333333333, \"#9c179e\"], [0.4444444444444444, \"#bd3786\"], [0.5555555555555556, \"#d8576b\"], [0.6666666666666666, \"#ed7953\"], [0.7777777777777778, \"#fb9f3a\"], [0.8888888888888888, \"#fdca26\"], [1.0, \"#f0f921\"]], \"type\": \"surface\"}], \"table\": [{\"cells\": {\"fill\": {\"color\": \"#EBF0F8\"}, \"line\": {\"color\": \"white\"}}, \"header\": {\"fill\": {\"color\": \"#C8D4E3\"}, \"line\": {\"color\": \"white\"}}, \"type\": \"table\"}]}, \"layout\": {\"annotationdefaults\": {\"arrowcolor\": \"#2a3f5f\", \"arrowhead\": 0, \"arrowwidth\": 1}, \"colorscale\": {\"diverging\": [[0, \"#8e0152\"], [0.1, \"#c51b7d\"], [0.2, \"#de77ae\"], [0.3, \"#f1b6da\"], [0.4, \"#fde0ef\"], [0.5, \"#f7f7f7\"], [0.6, \"#e6f5d0\"], [0.7, \"#b8e186\"], [0.8, \"#7fbc41\"], [0.9, \"#4d9221\"], [1, \"#276419\"]], \"sequential\": [[0.0, \"#0d0887\"], [0.1111111111111111, \"#46039f\"], [0.2222222222222222, \"#7201a8\"], [0.3333333333333333, \"#9c179e\"], [0.4444444444444444, \"#bd3786\"], [0.5555555555555556, \"#d8576b\"], [0.6666666666666666, \"#ed7953\"], [0.7777777777777778, \"#fb9f3a\"], [0.8888888888888888, \"#fdca26\"], [1.0, \"#f0f921\"]], \"sequentialminus\": [[0.0, \"#0d0887\"], [0.1111111111111111, \"#46039f\"], [0.2222222222222222, \"#7201a8\"], [0.3333333333333333, \"#9c179e\"], [0.4444444444444444, \"#bd3786\"], [0.5555555555555556, \"#d8576b\"], [0.6666666666666666, \"#ed7953\"], [0.7777777777777778, \"#fb9f3a\"], [0.8888888888888888, \"#fdca26\"], [1.0, \"#f0f921\"]]}, \"colorway\": [\"#636efa\", \"#EF553B\", \"#00cc96\", \"#ab63fa\", \"#FFA15A\", \"#19d3f3\", \"#FF6692\", \"#B6E880\", \"#FF97FF\", \"#FECB52\"], \"font\": {\"color\": \"#2a3f5f\"}, \"geo\": {\"bgcolor\": \"white\", \"lakecolor\": \"white\", \"landcolor\": \"#E5ECF6\", \"showlakes\": true, \"showland\": true, \"subunitcolor\": \"white\"}, \"hoverlabel\": {\"align\": \"left\"}, \"hovermode\": \"closest\", \"mapbox\": {\"style\": \"light\"}, \"paper_bgcolor\": \"white\", \"plot_bgcolor\": \"#E5ECF6\", \"polar\": {\"angularaxis\": {\"gridcolor\": \"white\", \"linecolor\": \"white\", \"ticks\": \"\"}, \"bgcolor\": \"#E5ECF6\", \"radialaxis\": {\"gridcolor\": \"white\", \"linecolor\": \"white\", \"ticks\": \"\"}}, \"scene\": {\"xaxis\": {\"backgroundcolor\": \"#E5ECF6\", \"gridcolor\": \"white\", \"gridwidth\": 2, \"linecolor\": \"white\", \"showbackground\": true, \"ticks\": \"\", \"zerolinecolor\": \"white\"}, \"yaxis\": {\"backgroundcolor\": \"#E5ECF6\", \"gridcolor\": \"white\", \"gridwidth\": 2, \"linecolor\": \"white\", \"showbackground\": true, \"ticks\": \"\", \"zerolinecolor\": \"white\"}, \"zaxis\": {\"backgroundcolor\": \"#E5ECF6\", \"gridcolor\": \"white\", \"gridwidth\": 2, \"linecolor\": \"white\", \"showbackground\": true, \"ticks\": \"\", \"zerolinecolor\": \"white\"}}, \"shapedefaults\": {\"line\": {\"color\": \"#2a3f5f\"}}, \"ternary\": {\"aaxis\": {\"gridcolor\": \"white\", \"linecolor\": \"white\", \"ticks\": \"\"}, \"baxis\": {\"gridcolor\": \"white\", \"linecolor\": \"white\", \"ticks\": \"\"}, \"bgcolor\": \"#E5ECF6\", \"caxis\": {\"gridcolor\": \"white\", \"linecolor\": \"white\", \"ticks\": \"\"}}, \"title\": {\"x\": 0.05}, \"xaxis\": {\"automargin\": true, \"gridcolor\": \"white\", \"linecolor\": \"white\", \"ticks\": \"\", \"zerolinecolor\": \"white\", \"zerolinewidth\": 2}, \"yaxis\": {\"automargin\": true, \"gridcolor\": \"white\", \"linecolor\": \"white\", \"ticks\": \"\", \"zerolinecolor\": \"white\", \"zerolinewidth\": 2}}}, \"xaxis\": {\"anchor\": \"y\", \"domain\": [0.0, 0.98], \"title\": {\"text\": \"ELAPSED_S\"}}, \"yaxis\": {\"anchor\": \"x\", \"domain\": [0.0, 1.0], \"title\": {\"text\": \"cumvalue\"}}},\n",
       "                        {\"responsive\": true}\n",
       "                    ).then(function(){\n",
       "                            \n",
       "var gd = document.getElementById('b74cbf44-8064-460d-8d6a-1f1bd2c512c5');\n",
       "var x = new MutationObserver(function (mutations, observer) {{\n",
       "        var display = window.getComputedStyle(gd).display;\n",
       "        if (!display || display === 'none') {{\n",
       "            console.log([gd, 'removed!']);\n",
       "            Plotly.purge(gd);\n",
       "            observer.disconnect();\n",
       "        }}\n",
       "}});\n",
       "\n",
       "// Listen for the removal of the full notebook cells\n",
       "var notebookContainer = gd.closest('#notebook-container');\n",
       "if (notebookContainer) {{\n",
       "    x.observe(notebookContainer, {childList: true});\n",
       "}}\n",
       "\n",
       "// Listen for the clearing of the current output cell\n",
       "var outputEl = gd.closest('.output');\n",
       "if (outputEl) {{\n",
       "    x.observe(outputEl, {childList: true});\n",
       "}}\n",
       "\n",
       "                        })\n",
       "                };\n",
       "                });\n",
       "            </script>\n",
       "        </div>"
      ]
     },
     "metadata": {},
     "output_type": "display_data"
    }
   ],
   "source": [
    "fig = px.line(tmp[tmp['NUMBER'].isin(['11','3','8'])],\n",
    "              x=\"ELAPSED_S\", y=\"cumvalue\", color='NUMBER')\n",
    "fig.show()"
   ]
  },
  {
   "cell_type": "markdown",
   "metadata": {},
   "source": [
    "One thing we notice is that the pace table and charts are cluttered by the inlap and outlap times...\n",
    "\n",
    "It may be better to try to neutralise those (for each car including the rebased car )and deal with a pit analysis more specifically elsewhere, such as by comparing inlaps and outlap times,and perhaps also making comparisons relative to flying lap just before the inlap and just after the outlap."
   ]
  },
  {
   "cell_type": "markdown",
   "metadata": {},
   "source": [
    "### Generating a pit time neutralistion mask\n",
    "\n",
    "The *pandas* [`DataFrame.mask()`](https://pandas.pydata.org/pandas-docs/stable/reference/api/pandas.DataFrame.mask.html) method lets us replace values in a dataframe if the corresponding mask element is true.\n",
    "\n",
    "This means we can find the delta times on each lap and then neutralise the ones that are associated either with the inlap or outlap of the rebase car, or the inlap or outlap of each other car.\n",
    "\n",
    "*Bear in mind that in general deltas measured relative to `LAP_NUMBER` may be recorded at very different elapsed race times, although  when comparing cars that are directly racing each other, they are likely to be on the same lap, or thereabouts, on any given lead lap.*\n",
    "\n",
    "The resulting \"masked\" delta times table will not give a true summary of all the delta times, and the accumulated delta time will be incorrect, but we will get a cleaner view of the pace in the intervening periods."
   ]
  },
  {
   "cell_type": "code",
   "execution_count": 230,
   "metadata": {},
   "outputs": [
    {
     "data": {
      "text/html": [
       "<div>\n",
       "<style scoped>\n",
       "    .dataframe tbody tr th:only-of-type {\n",
       "        vertical-align: middle;\n",
       "    }\n",
       "\n",
       "    .dataframe tbody tr th {\n",
       "        vertical-align: top;\n",
       "    }\n",
       "\n",
       "    .dataframe thead th {\n",
       "        text-align: right;\n",
       "    }\n",
       "</style>\n",
       "<table border=\"1\" class=\"dataframe\">\n",
       "  <thead>\n",
       "    <tr style=\"text-align: right;\">\n",
       "      <th>LAP_NUMBER</th>\n",
       "      <th>1</th>\n",
       "      <th>2</th>\n",
       "      <th>3</th>\n",
       "      <th>4</th>\n",
       "      <th>5</th>\n",
       "      <th>6</th>\n",
       "      <th>7</th>\n",
       "      <th>8</th>\n",
       "      <th>9</th>\n",
       "      <th>10</th>\n",
       "      <th>...</th>\n",
       "      <th>124</th>\n",
       "      <th>125</th>\n",
       "      <th>126</th>\n",
       "      <th>127</th>\n",
       "      <th>128</th>\n",
       "      <th>129</th>\n",
       "      <th>130</th>\n",
       "      <th>131</th>\n",
       "      <th>132</th>\n",
       "      <th>133</th>\n",
       "    </tr>\n",
       "    <tr>\n",
       "      <th>NUMBER</th>\n",
       "      <th></th>\n",
       "      <th></th>\n",
       "      <th></th>\n",
       "      <th></th>\n",
       "      <th></th>\n",
       "      <th></th>\n",
       "      <th></th>\n",
       "      <th></th>\n",
       "      <th></th>\n",
       "      <th></th>\n",
       "      <th></th>\n",
       "      <th></th>\n",
       "      <th></th>\n",
       "      <th></th>\n",
       "      <th></th>\n",
       "      <th></th>\n",
       "      <th></th>\n",
       "      <th></th>\n",
       "      <th></th>\n",
       "      <th></th>\n",
       "      <th></th>\n",
       "    </tr>\n",
       "  </thead>\n",
       "  <tbody>\n",
       "    <tr>\n",
       "      <th>1</th>\n",
       "      <td>False</td>\n",
       "      <td>False</td>\n",
       "      <td>True</td>\n",
       "      <td>True</td>\n",
       "      <td>False</td>\n",
       "      <td>False</td>\n",
       "      <td>False</td>\n",
       "      <td>False</td>\n",
       "      <td>False</td>\n",
       "      <td>False</td>\n",
       "      <td>...</td>\n",
       "      <td>False</td>\n",
       "      <td>False</td>\n",
       "      <td>False</td>\n",
       "      <td>False</td>\n",
       "      <td>False</td>\n",
       "      <td>False</td>\n",
       "      <td>False</td>\n",
       "      <td>False</td>\n",
       "      <td>False</td>\n",
       "      <td>False</td>\n",
       "    </tr>\n",
       "    <tr>\n",
       "      <th>11</th>\n",
       "      <td>False</td>\n",
       "      <td>False</td>\n",
       "      <td>False</td>\n",
       "      <td>True</td>\n",
       "      <td>True</td>\n",
       "      <td>False</td>\n",
       "      <td>False</td>\n",
       "      <td>False</td>\n",
       "      <td>False</td>\n",
       "      <td>False</td>\n",
       "      <td>...</td>\n",
       "      <td>False</td>\n",
       "      <td>False</td>\n",
       "      <td>False</td>\n",
       "      <td>False</td>\n",
       "      <td>False</td>\n",
       "      <td>False</td>\n",
       "      <td>False</td>\n",
       "      <td>False</td>\n",
       "      <td>False</td>\n",
       "      <td>False</td>\n",
       "    </tr>\n",
       "    <tr>\n",
       "      <th>17</th>\n",
       "      <td>False</td>\n",
       "      <td>False</td>\n",
       "      <td>False</td>\n",
       "      <td>True</td>\n",
       "      <td>True</td>\n",
       "      <td>False</td>\n",
       "      <td>False</td>\n",
       "      <td>False</td>\n",
       "      <td>False</td>\n",
       "      <td>False</td>\n",
       "      <td>...</td>\n",
       "      <td>False</td>\n",
       "      <td>False</td>\n",
       "      <td>False</td>\n",
       "      <td>False</td>\n",
       "      <td>False</td>\n",
       "      <td>False</td>\n",
       "      <td>False</td>\n",
       "      <td>False</td>\n",
       "      <td>False</td>\n",
       "      <td>False</td>\n",
       "    </tr>\n",
       "    <tr>\n",
       "      <th>26</th>\n",
       "      <td>False</td>\n",
       "      <td>False</td>\n",
       "      <td>True</td>\n",
       "      <td>True</td>\n",
       "      <td>False</td>\n",
       "      <td>False</td>\n",
       "      <td>False</td>\n",
       "      <td>False</td>\n",
       "      <td>False</td>\n",
       "      <td>False</td>\n",
       "      <td>...</td>\n",
       "      <td>False</td>\n",
       "      <td>False</td>\n",
       "      <td>False</td>\n",
       "      <td>False</td>\n",
       "      <td>False</td>\n",
       "      <td>False</td>\n",
       "      <td>False</td>\n",
       "      <td>False</td>\n",
       "      <td>False</td>\n",
       "      <td>False</td>\n",
       "    </tr>\n",
       "    <tr>\n",
       "      <th>28</th>\n",
       "      <td>False</td>\n",
       "      <td>False</td>\n",
       "      <td>True</td>\n",
       "      <td>True</td>\n",
       "      <td>False</td>\n",
       "      <td>False</td>\n",
       "      <td>False</td>\n",
       "      <td>False</td>\n",
       "      <td>False</td>\n",
       "      <td>False</td>\n",
       "      <td>...</td>\n",
       "      <td>False</td>\n",
       "      <td>False</td>\n",
       "      <td>False</td>\n",
       "      <td>False</td>\n",
       "      <td>False</td>\n",
       "      <td>False</td>\n",
       "      <td>False</td>\n",
       "      <td>False</td>\n",
       "      <td>False</td>\n",
       "      <td>False</td>\n",
       "    </tr>\n",
       "  </tbody>\n",
       "</table>\n",
       "<p>5 rows × 133 columns</p>\n",
       "</div>"
      ],
      "text/plain": [
       "LAP_NUMBER    1      2      3     4      5      6      7      8      9    \\\n",
       "NUMBER                                                                     \n",
       "1           False  False   True  True  False  False  False  False  False   \n",
       "11          False  False  False  True   True  False  False  False  False   \n",
       "17          False  False  False  True   True  False  False  False  False   \n",
       "26          False  False   True  True  False  False  False  False  False   \n",
       "28          False  False   True  True  False  False  False  False  False   \n",
       "\n",
       "LAP_NUMBER    10   ...    124    125    126    127    128    129    130  \\\n",
       "NUMBER             ...                                                    \n",
       "1           False  ...  False  False  False  False  False  False  False   \n",
       "11          False  ...  False  False  False  False  False  False  False   \n",
       "17          False  ...  False  False  False  False  False  False  False   \n",
       "26          False  ...  False  False  False  False  False  False  False   \n",
       "28          False  ...  False  False  False  False  False  False  False   \n",
       "\n",
       "LAP_NUMBER    131    132    133  \n",
       "NUMBER                           \n",
       "1           False  False  False  \n",
       "11          False  False  False  \n",
       "17          False  False  False  \n",
       "26          False  False  False  \n",
       "28          False  False  False  \n",
       "\n",
       "[5 rows x 133 columns]"
      ]
     },
     "execution_count": 230,
     "metadata": {},
     "output_type": "execute_result"
    }
   ],
   "source": [
    "#laptimes.pivot(index='NUMBER',columns='LAP_NUMBER', values='PIT_TIME_S')\n",
    "laptimes['INLAP'] = (laptimes['CROSSING_FINISH_LINE_IN_PIT'] == 'B')\n",
    "laptimes['OUTLAP'] = ~laptimes['PIT_TIME'].isnull()\n",
    "\n",
    "laptimes['PITMASK'] = laptimes['INLAP'] | laptimes['OUTLAP']\n",
    "\n",
    "#Go defensive making sure we have no NA values\n",
    "pitmask = laptimes.pivot(index='NUMBER', columns='LAP_NUMBER', values='PITMASK').fillna(False)\n",
    "pitmask.head()"
   ]
  },
  {
   "cell_type": "code",
   "execution_count": 284,
   "metadata": {},
   "outputs": [
    {
     "data": {
      "text/html": [
       "<div>\n",
       "<style scoped>\n",
       "    .dataframe tbody tr th:only-of-type {\n",
       "        vertical-align: middle;\n",
       "    }\n",
       "\n",
       "    .dataframe tbody tr th {\n",
       "        vertical-align: top;\n",
       "    }\n",
       "\n",
       "    .dataframe thead th {\n",
       "        text-align: right;\n",
       "    }\n",
       "</style>\n",
       "<table border=\"1\" class=\"dataframe\">\n",
       "  <thead>\n",
       "    <tr style=\"text-align: right;\">\n",
       "      <th>LAP_NUMBER</th>\n",
       "      <th>1</th>\n",
       "      <th>2</th>\n",
       "      <th>3</th>\n",
       "      <th>4</th>\n",
       "      <th>5</th>\n",
       "      <th>6</th>\n",
       "      <th>7</th>\n",
       "      <th>8</th>\n",
       "      <th>9</th>\n",
       "      <th>10</th>\n",
       "      <th>...</th>\n",
       "      <th>124</th>\n",
       "      <th>125</th>\n",
       "      <th>126</th>\n",
       "      <th>127</th>\n",
       "      <th>128</th>\n",
       "      <th>129</th>\n",
       "      <th>130</th>\n",
       "      <th>131</th>\n",
       "      <th>132</th>\n",
       "      <th>133</th>\n",
       "    </tr>\n",
       "    <tr>\n",
       "      <th>NUMBER</th>\n",
       "      <th></th>\n",
       "      <th></th>\n",
       "      <th></th>\n",
       "      <th></th>\n",
       "      <th></th>\n",
       "      <th></th>\n",
       "      <th></th>\n",
       "      <th></th>\n",
       "      <th></th>\n",
       "      <th></th>\n",
       "      <th></th>\n",
       "      <th></th>\n",
       "      <th></th>\n",
       "      <th></th>\n",
       "      <th></th>\n",
       "      <th></th>\n",
       "      <th></th>\n",
       "      <th></th>\n",
       "      <th></th>\n",
       "      <th></th>\n",
       "      <th></th>\n",
       "    </tr>\n",
       "  </thead>\n",
       "  <tbody>\n",
       "    <tr>\n",
       "      <th>1</th>\n",
       "      <td>4.372</td>\n",
       "      <td>2.361</td>\n",
       "      <td>0.0</td>\n",
       "      <td>0.0</td>\n",
       "      <td>5.685</td>\n",
       "      <td>3.643</td>\n",
       "      <td>4.113</td>\n",
       "      <td>3.952</td>\n",
       "      <td>3.698</td>\n",
       "      <td>11.731</td>\n",
       "      <td>...</td>\n",
       "      <td>42.057</td>\n",
       "      <td>0.0</td>\n",
       "      <td>0.0</td>\n",
       "      <td>84.862</td>\n",
       "      <td>-80.073</td>\n",
       "      <td>-115.998</td>\n",
       "      <td>-46.946</td>\n",
       "      <td>NaN</td>\n",
       "      <td>NaN</td>\n",
       "      <td>NaN</td>\n",
       "    </tr>\n",
       "    <tr>\n",
       "      <th>11</th>\n",
       "      <td>3.654</td>\n",
       "      <td>2.387</td>\n",
       "      <td>-0.0</td>\n",
       "      <td>0.0</td>\n",
       "      <td>0.000</td>\n",
       "      <td>2.706</td>\n",
       "      <td>2.247</td>\n",
       "      <td>0.580</td>\n",
       "      <td>0.779</td>\n",
       "      <td>-6.233</td>\n",
       "      <td>...</td>\n",
       "      <td>14.039</td>\n",
       "      <td>0.0</td>\n",
       "      <td>0.0</td>\n",
       "      <td>31.620</td>\n",
       "      <td>-37.441</td>\n",
       "      <td>-59.601</td>\n",
       "      <td>-47.800</td>\n",
       "      <td>-9.067</td>\n",
       "      <td>-6.163</td>\n",
       "      <td>NaN</td>\n",
       "    </tr>\n",
       "    <tr>\n",
       "      <th>17</th>\n",
       "      <td>1.282</td>\n",
       "      <td>2.157</td>\n",
       "      <td>-0.0</td>\n",
       "      <td>0.0</td>\n",
       "      <td>0.000</td>\n",
       "      <td>4.289</td>\n",
       "      <td>3.719</td>\n",
       "      <td>1.460</td>\n",
       "      <td>3.561</td>\n",
       "      <td>10.756</td>\n",
       "      <td>...</td>\n",
       "      <td>13.925</td>\n",
       "      <td>0.0</td>\n",
       "      <td>0.0</td>\n",
       "      <td>97.281</td>\n",
       "      <td>-30.620</td>\n",
       "      <td>-107.970</td>\n",
       "      <td>-59.274</td>\n",
       "      <td>-7.974</td>\n",
       "      <td>NaN</td>\n",
       "      <td>NaN</td>\n",
       "    </tr>\n",
       "    <tr>\n",
       "      <th>26</th>\n",
       "      <td>8.227</td>\n",
       "      <td>6.972</td>\n",
       "      <td>0.0</td>\n",
       "      <td>0.0</td>\n",
       "      <td>4.812</td>\n",
       "      <td>5.457</td>\n",
       "      <td>5.744</td>\n",
       "      <td>1.153</td>\n",
       "      <td>5.188</td>\n",
       "      <td>6.336</td>\n",
       "      <td>...</td>\n",
       "      <td>66.999</td>\n",
       "      <td>0.0</td>\n",
       "      <td>0.0</td>\n",
       "      <td>37.932</td>\n",
       "      <td>-90.136</td>\n",
       "      <td>-118.294</td>\n",
       "      <td>NaN</td>\n",
       "      <td>NaN</td>\n",
       "      <td>NaN</td>\n",
       "      <td>NaN</td>\n",
       "    </tr>\n",
       "    <tr>\n",
       "      <th>28</th>\n",
       "      <td>10.864</td>\n",
       "      <td>9.560</td>\n",
       "      <td>0.0</td>\n",
       "      <td>0.0</td>\n",
       "      <td>3.764</td>\n",
       "      <td>6.165</td>\n",
       "      <td>5.963</td>\n",
       "      <td>0.701</td>\n",
       "      <td>2.509</td>\n",
       "      <td>7.228</td>\n",
       "      <td>...</td>\n",
       "      <td>62.199</td>\n",
       "      <td>0.0</td>\n",
       "      <td>-0.0</td>\n",
       "      <td>13.932</td>\n",
       "      <td>-97.131</td>\n",
       "      <td>NaN</td>\n",
       "      <td>NaN</td>\n",
       "      <td>NaN</td>\n",
       "      <td>NaN</td>\n",
       "      <td>NaN</td>\n",
       "    </tr>\n",
       "  </tbody>\n",
       "</table>\n",
       "<p>5 rows × 133 columns</p>\n",
       "</div>"
      ],
      "text/plain": [
       "LAP_NUMBER     1      2    3    4      5      6      7      8      9    \\\n",
       "NUMBER                                                                   \n",
       "1            4.372  2.361  0.0  0.0  5.685  3.643  4.113  3.952  3.698   \n",
       "11           3.654  2.387 -0.0  0.0  0.000  2.706  2.247  0.580  0.779   \n",
       "17           1.282  2.157 -0.0  0.0  0.000  4.289  3.719  1.460  3.561   \n",
       "26           8.227  6.972  0.0  0.0  4.812  5.457  5.744  1.153  5.188   \n",
       "28          10.864  9.560  0.0  0.0  3.764  6.165  5.963  0.701  2.509   \n",
       "\n",
       "LAP_NUMBER     10   ...     124  125  126     127     128      129     130  \\\n",
       "NUMBER              ...                                                      \n",
       "1           11.731  ...  42.057  0.0  0.0  84.862 -80.073 -115.998 -46.946   \n",
       "11          -6.233  ...  14.039  0.0  0.0  31.620 -37.441  -59.601 -47.800   \n",
       "17          10.756  ...  13.925  0.0  0.0  97.281 -30.620 -107.970 -59.274   \n",
       "26           6.336  ...  66.999  0.0  0.0  37.932 -90.136 -118.294     NaN   \n",
       "28           7.228  ...  62.199  0.0 -0.0  13.932 -97.131      NaN     NaN   \n",
       "\n",
       "LAP_NUMBER    131    132  133  \n",
       "NUMBER                         \n",
       "1             NaN    NaN  NaN  \n",
       "11         -9.067 -6.163  NaN  \n",
       "17         -7.974    NaN  NaN  \n",
       "26            NaN    NaN  NaN  \n",
       "28            NaN    NaN  NaN  \n",
       "\n",
       "[5 rows x 133 columns]"
      ]
     },
     "execution_count": 284,
     "metadata": {},
     "output_type": "execute_result"
    }
   ],
   "source": [
    "#Mask the times for each car's inlaps and outlaps\n",
    "masked_pace = pace.mask(pitmask, 0)\n",
    "#We also need to and each row with the inlaps and outlaps for the rebased row\n",
    "#pitmask.loc[rebase].T gives the mask for the rebase row\n",
    "masked_pace = masked_pace.mul(~pitmask.loc[rebase], axis=1 )\n",
    "masked_pace.head()"
   ]
  },
  {
   "cell_type": "markdown",
   "metadata": {},
   "source": [
    "We can also blank the times by setting masked values to NA:"
   ]
  },
  {
   "cell_type": "code",
   "execution_count": 299,
   "metadata": {},
   "outputs": [
    {
     "data": {
      "text/html": [
       "<div>\n",
       "<style scoped>\n",
       "    .dataframe tbody tr th:only-of-type {\n",
       "        vertical-align: middle;\n",
       "    }\n",
       "\n",
       "    .dataframe tbody tr th {\n",
       "        vertical-align: top;\n",
       "    }\n",
       "\n",
       "    .dataframe thead th {\n",
       "        text-align: right;\n",
       "    }\n",
       "</style>\n",
       "<table border=\"1\" class=\"dataframe\">\n",
       "  <thead>\n",
       "    <tr style=\"text-align: right;\">\n",
       "      <th>LAP_NUMBER</th>\n",
       "      <th>1</th>\n",
       "      <th>2</th>\n",
       "      <th>3</th>\n",
       "      <th>4</th>\n",
       "      <th>5</th>\n",
       "      <th>6</th>\n",
       "      <th>7</th>\n",
       "      <th>8</th>\n",
       "      <th>9</th>\n",
       "      <th>10</th>\n",
       "      <th>...</th>\n",
       "      <th>124</th>\n",
       "      <th>125</th>\n",
       "      <th>126</th>\n",
       "      <th>127</th>\n",
       "      <th>128</th>\n",
       "      <th>129</th>\n",
       "      <th>130</th>\n",
       "      <th>131</th>\n",
       "      <th>132</th>\n",
       "      <th>133</th>\n",
       "    </tr>\n",
       "    <tr>\n",
       "      <th>NUMBER</th>\n",
       "      <th></th>\n",
       "      <th></th>\n",
       "      <th></th>\n",
       "      <th></th>\n",
       "      <th></th>\n",
       "      <th></th>\n",
       "      <th></th>\n",
       "      <th></th>\n",
       "      <th></th>\n",
       "      <th></th>\n",
       "      <th></th>\n",
       "      <th></th>\n",
       "      <th></th>\n",
       "      <th></th>\n",
       "      <th></th>\n",
       "      <th></th>\n",
       "      <th></th>\n",
       "      <th></th>\n",
       "      <th></th>\n",
       "      <th></th>\n",
       "      <th></th>\n",
       "    </tr>\n",
       "  </thead>\n",
       "  <tbody>\n",
       "    <tr>\n",
       "      <th>1</th>\n",
       "      <td>4.372</td>\n",
       "      <td>2.361</td>\n",
       "      <td>NaN</td>\n",
       "      <td>NaN</td>\n",
       "      <td>5.685</td>\n",
       "      <td>3.643</td>\n",
       "      <td>4.113</td>\n",
       "      <td>3.952</td>\n",
       "      <td>3.698</td>\n",
       "      <td>11.731</td>\n",
       "      <td>...</td>\n",
       "      <td>42.057</td>\n",
       "      <td>NaN</td>\n",
       "      <td>NaN</td>\n",
       "      <td>84.862</td>\n",
       "      <td>-80.073</td>\n",
       "      <td>-115.998</td>\n",
       "      <td>-46.946</td>\n",
       "      <td>NaN</td>\n",
       "      <td>NaN</td>\n",
       "      <td>NaN</td>\n",
       "    </tr>\n",
       "    <tr>\n",
       "      <th>11</th>\n",
       "      <td>3.654</td>\n",
       "      <td>2.387</td>\n",
       "      <td>NaN</td>\n",
       "      <td>NaN</td>\n",
       "      <td>NaN</td>\n",
       "      <td>2.706</td>\n",
       "      <td>2.247</td>\n",
       "      <td>0.580</td>\n",
       "      <td>0.779</td>\n",
       "      <td>-6.233</td>\n",
       "      <td>...</td>\n",
       "      <td>14.039</td>\n",
       "      <td>NaN</td>\n",
       "      <td>NaN</td>\n",
       "      <td>31.620</td>\n",
       "      <td>-37.441</td>\n",
       "      <td>-59.601</td>\n",
       "      <td>-47.800</td>\n",
       "      <td>-9.067</td>\n",
       "      <td>-6.163</td>\n",
       "      <td>NaN</td>\n",
       "    </tr>\n",
       "    <tr>\n",
       "      <th>17</th>\n",
       "      <td>1.282</td>\n",
       "      <td>2.157</td>\n",
       "      <td>NaN</td>\n",
       "      <td>NaN</td>\n",
       "      <td>NaN</td>\n",
       "      <td>4.289</td>\n",
       "      <td>3.719</td>\n",
       "      <td>1.460</td>\n",
       "      <td>3.561</td>\n",
       "      <td>10.756</td>\n",
       "      <td>...</td>\n",
       "      <td>13.925</td>\n",
       "      <td>NaN</td>\n",
       "      <td>NaN</td>\n",
       "      <td>97.281</td>\n",
       "      <td>-30.620</td>\n",
       "      <td>-107.970</td>\n",
       "      <td>-59.274</td>\n",
       "      <td>-7.974</td>\n",
       "      <td>NaN</td>\n",
       "      <td>NaN</td>\n",
       "    </tr>\n",
       "    <tr>\n",
       "      <th>26</th>\n",
       "      <td>8.227</td>\n",
       "      <td>6.972</td>\n",
       "      <td>NaN</td>\n",
       "      <td>NaN</td>\n",
       "      <td>4.812</td>\n",
       "      <td>5.457</td>\n",
       "      <td>5.744</td>\n",
       "      <td>1.153</td>\n",
       "      <td>5.188</td>\n",
       "      <td>6.336</td>\n",
       "      <td>...</td>\n",
       "      <td>66.999</td>\n",
       "      <td>NaN</td>\n",
       "      <td>NaN</td>\n",
       "      <td>37.932</td>\n",
       "      <td>-90.136</td>\n",
       "      <td>-118.294</td>\n",
       "      <td>NaN</td>\n",
       "      <td>NaN</td>\n",
       "      <td>NaN</td>\n",
       "      <td>NaN</td>\n",
       "    </tr>\n",
       "    <tr>\n",
       "      <th>28</th>\n",
       "      <td>10.864</td>\n",
       "      <td>9.560</td>\n",
       "      <td>NaN</td>\n",
       "      <td>NaN</td>\n",
       "      <td>3.764</td>\n",
       "      <td>6.165</td>\n",
       "      <td>5.963</td>\n",
       "      <td>0.701</td>\n",
       "      <td>2.509</td>\n",
       "      <td>7.228</td>\n",
       "      <td>...</td>\n",
       "      <td>62.199</td>\n",
       "      <td>NaN</td>\n",
       "      <td>NaN</td>\n",
       "      <td>13.932</td>\n",
       "      <td>-97.131</td>\n",
       "      <td>NaN</td>\n",
       "      <td>NaN</td>\n",
       "      <td>NaN</td>\n",
       "      <td>NaN</td>\n",
       "      <td>NaN</td>\n",
       "    </tr>\n",
       "  </tbody>\n",
       "</table>\n",
       "<p>5 rows × 133 columns</p>\n",
       "</div>"
      ],
      "text/plain": [
       "LAP_NUMBER     1      2    3    4      5      6      7      8      9    \\\n",
       "NUMBER                                                                   \n",
       "1            4.372  2.361  NaN  NaN  5.685  3.643  4.113  3.952  3.698   \n",
       "11           3.654  2.387  NaN  NaN    NaN  2.706  2.247  0.580  0.779   \n",
       "17           1.282  2.157  NaN  NaN    NaN  4.289  3.719  1.460  3.561   \n",
       "26           8.227  6.972  NaN  NaN  4.812  5.457  5.744  1.153  5.188   \n",
       "28          10.864  9.560  NaN  NaN  3.764  6.165  5.963  0.701  2.509   \n",
       "\n",
       "LAP_NUMBER     10   ...     124  125  126     127     128      129     130  \\\n",
       "NUMBER              ...                                                      \n",
       "1           11.731  ...  42.057  NaN  NaN  84.862 -80.073 -115.998 -46.946   \n",
       "11          -6.233  ...  14.039  NaN  NaN  31.620 -37.441  -59.601 -47.800   \n",
       "17          10.756  ...  13.925  NaN  NaN  97.281 -30.620 -107.970 -59.274   \n",
       "26           6.336  ...  66.999  NaN  NaN  37.932 -90.136 -118.294     NaN   \n",
       "28           7.228  ...  62.199  NaN  NaN  13.932 -97.131      NaN     NaN   \n",
       "\n",
       "LAP_NUMBER    131    132  133  \n",
       "NUMBER                         \n",
       "1             NaN    NaN  NaN  \n",
       "11         -9.067 -6.163  NaN  \n",
       "17         -7.974    NaN  NaN  \n",
       "26            NaN    NaN  NaN  \n",
       "28            NaN    NaN  NaN  \n",
       "\n",
       "[5 rows x 133 columns]"
      ]
     },
     "execution_count": 299,
     "metadata": {},
     "output_type": "execute_result"
    }
   ],
   "source": [
    "from numpy import NaN\n",
    "masked_pace = pace.mask(pitmask, NaN)\n",
    "#We also need to and each row with the inlaps and outlaps for the rebased row\n",
    "#pitmask.loc[rebase].T gives the mask for the rebase row\n",
    "masked_pace = masked_pace.mul(pitmask.loc[rebase].map({True:NaN,False:1}), axis=1 )\n",
    "masked_pace.head()"
   ]
  },
  {
   "cell_type": "markdown",
   "metadata": {},
   "source": [
    "The NA values introduce breaks in the plotted lines:"
   ]
  },
  {
   "cell_type": "code",
   "execution_count": 300,
   "metadata": {},
   "outputs": [
    {
     "data": {
      "image/png": "[encoded data removed]",
      "text/plain": [
       "<Figure size 432x288 with 1 Axes>"
      ]
     },
     "metadata": {
      "needs_background": "light"
     },
     "output_type": "display_data"
    }
   ],
   "source": [
    "masked_pace.T[['8','3','11']].plot();"
   ]
  },
  {
   "cell_type": "markdown",
   "metadata": {},
   "source": [
    "Using the accumulated deltas we see the breaks more clearly, altough it should be recalled that these are introduced when *either* the rebased car *or* the reported on car goes through the pits."
   ]
  },
  {
   "cell_type": "code",
   "execution_count": 301,
   "metadata": {},
   "outputs": [
    {
     "data": {
      "image/png": "[encoded data removed]",
      "text/plain": [
       "<Figure size 432x288 with 1 Axes>"
      ]
     },
     "metadata": {
      "needs_background": "light"
     },
     "output_type": "display_data"
    }
   ],
   "source": [
    "ax = masked_pace.T[['8','3','11']].cumsum().plot();\n",
    "inpitlaps.plot.scatter(x='LAP_NUMBER',y='y', ax=ax);"
   ]
  },
  {
   "cell_type": "code",
   "execution_count": 283,
   "metadata": {},
   "outputs": [
    {
     "data": {
      "text/plain": [
       "NUMBER\n",
       "8     520.523\n",
       "3     512.932\n",
       "11    499.722\n",
       "Name: PIT_TIME_S, dtype: float64"
      ]
     },
     "execution_count": 283,
     "metadata": {},
     "output_type": "execute_result"
    }
   ],
   "source": [
    "laptimes.groupby('NUMBER')['PIT_TIME_S'].sum()[['8','3','11']]"
   ]
  },
  {
   "cell_type": "markdown",
   "metadata": {},
   "source": [
    "## Neutralising Accumulated Pit Times\n",
    "\n",
    "The gaps in the pit stop neutralised pace charts represent a loss of information.\n",
    "\n",
    "If we want to concentrate on *pace* rather than on time lost through being spent in the pits, for each car we could provide a naive dummy estimate of the inlap and outlap pace by setting them each to:\n",
    "\n",
    "`((inlap_time + outlap_time) - pitstop_time) / 2`.\n",
    "\n",
    "However, we note that we also have access to sector times, so we might be able to make a better estimate based using sector times and a proportionate subtraction of the pit stop time from the inlap and outlap times.\n",
    "\n",
    "To start working towards this, it might make sense to start pulling out pit data specifically."
   ]
  },
  {
   "cell_type": "code",
   "execution_count": 338,
   "metadata": {},
   "outputs": [
    {
     "data": {
      "text/html": [
       "<div>\n",
       "<style scoped>\n",
       "    .dataframe tbody tr th:only-of-type {\n",
       "        vertical-align: middle;\n",
       "    }\n",
       "\n",
       "    .dataframe tbody tr th {\n",
       "        vertical-align: top;\n",
       "    }\n",
       "\n",
       "    .dataframe thead th {\n",
       "        text-align: right;\n",
       "    }\n",
       "</style>\n",
       "<table border=\"1\" class=\"dataframe\">\n",
       "  <thead>\n",
       "    <tr style=\"text-align: right;\">\n",
       "      <th></th>\n",
       "      <th>NUMBER</th>\n",
       "      <th>DRIVER_NUMBER</th>\n",
       "      <th>LAP_NUMBER</th>\n",
       "      <th>LAP_TIME</th>\n",
       "      <th>LAP_IMPROVEMENT</th>\n",
       "      <th>CROSSING_FINISH_LINE_IN_PIT</th>\n",
       "      <th>S1</th>\n",
       "      <th>S1_IMPROVEMENT</th>\n",
       "      <th>S2</th>\n",
       "      <th>S2_IMPROVEMENT</th>\n",
       "      <th>...</th>\n",
       "      <th>LAP_TIME_S</th>\n",
       "      <th>ELAPSED_S</th>\n",
       "      <th>PIT_TIME_S</th>\n",
       "      <th>POS</th>\n",
       "      <th>leader</th>\n",
       "      <th>LEAD_LAP_NUMBER</th>\n",
       "      <th>INLAP</th>\n",
       "      <th>OUTLAP</th>\n",
       "      <th>PITMASK</th>\n",
       "      <th>LAP_TYPE</th>\n",
       "    </tr>\n",
       "  </thead>\n",
       "  <tbody>\n",
       "    <tr>\n",
       "      <th>3988</th>\n",
       "      <td>97</td>\n",
       "      <td>2</td>\n",
       "      <td>2</td>\n",
       "      <td>2:23.253</td>\n",
       "      <td>0</td>\n",
       "      <td>B</td>\n",
       "      <td>39.232</td>\n",
       "      <td>0</td>\n",
       "      <td>1:02.685</td>\n",
       "      <td>0</td>\n",
       "      <td>...</td>\n",
       "      <td>143.253</td>\n",
       "      <td>287.748</td>\n",
       "      <td>NaN</td>\n",
       "      <td>24.0</td>\n",
       "      <td>False</td>\n",
       "      <td>2</td>\n",
       "      <td>True</td>\n",
       "      <td>False</td>\n",
       "      <td>True</td>\n",
       "      <td>INLAP</td>\n",
       "    </tr>\n",
       "    <tr>\n",
       "      <th>3864</th>\n",
       "      <td>95</td>\n",
       "      <td>2</td>\n",
       "      <td>2</td>\n",
       "      <td>2:23.401</td>\n",
       "      <td>0</td>\n",
       "      <td>B</td>\n",
       "      <td>38.885</td>\n",
       "      <td>0</td>\n",
       "      <td>1:03.277</td>\n",
       "      <td>0</td>\n",
       "      <td>...</td>\n",
       "      <td>143.401</td>\n",
       "      <td>289.380</td>\n",
       "      <td>NaN</td>\n",
       "      <td>26.0</td>\n",
       "      <td>False</td>\n",
       "      <td>2</td>\n",
       "      <td>True</td>\n",
       "      <td>False</td>\n",
       "      <td>True</td>\n",
       "      <td>INLAP</td>\n",
       "    </tr>\n",
       "    <tr>\n",
       "      <th>3258</th>\n",
       "      <td>86</td>\n",
       "      <td>1</td>\n",
       "      <td>2</td>\n",
       "      <td>2:33.997</td>\n",
       "      <td>0</td>\n",
       "      <td>B</td>\n",
       "      <td>42.113</td>\n",
       "      <td>0</td>\n",
       "      <td>1:06.298</td>\n",
       "      <td>0</td>\n",
       "      <td>...</td>\n",
       "      <td>153.997</td>\n",
       "      <td>315.518</td>\n",
       "      <td>NaN</td>\n",
       "      <td>34.0</td>\n",
       "      <td>False</td>\n",
       "      <td>2</td>\n",
       "      <td>True</td>\n",
       "      <td>False</td>\n",
       "      <td>True</td>\n",
       "      <td>INLAP</td>\n",
       "    </tr>\n",
       "    <tr>\n",
       "      <th>2383</th>\n",
       "      <td>7</td>\n",
       "      <td>1</td>\n",
       "      <td>3</td>\n",
       "      <td>2:14.361</td>\n",
       "      <td>0</td>\n",
       "      <td>B</td>\n",
       "      <td>36.637</td>\n",
       "      <td>0</td>\n",
       "      <td>57.067</td>\n",
       "      <td>0</td>\n",
       "      <td>...</td>\n",
       "      <td>134.361</td>\n",
       "      <td>372.899</td>\n",
       "      <td>NaN</td>\n",
       "      <td>1.0</td>\n",
       "      <td>True</td>\n",
       "      <td>3</td>\n",
       "      <td>True</td>\n",
       "      <td>False</td>\n",
       "      <td>True</td>\n",
       "      <td>INLAP</td>\n",
       "    </tr>\n",
       "    <tr>\n",
       "      <th>2878</th>\n",
       "      <td>8</td>\n",
       "      <td>1</td>\n",
       "      <td>3</td>\n",
       "      <td>2:13.904</td>\n",
       "      <td>0</td>\n",
       "      <td>B</td>\n",
       "      <td>36.357</td>\n",
       "      <td>0</td>\n",
       "      <td>56.361</td>\n",
       "      <td>0</td>\n",
       "      <td>...</td>\n",
       "      <td>133.904</td>\n",
       "      <td>373.937</td>\n",
       "      <td>NaN</td>\n",
       "      <td>3.0</td>\n",
       "      <td>False</td>\n",
       "      <td>3</td>\n",
       "      <td>True</td>\n",
       "      <td>False</td>\n",
       "      <td>True</td>\n",
       "      <td>INLAP</td>\n",
       "    </tr>\n",
       "  </tbody>\n",
       "</table>\n",
       "<p>5 rows × 35 columns</p>\n",
       "</div>"
      ],
      "text/plain": [
       "     NUMBER DRIVER_NUMBER  LAP_NUMBER  LAP_TIME  LAP_IMPROVEMENT  \\\n",
       "3988     97             2           2  2:23.253                0   \n",
       "3864     95             2           2  2:23.401                0   \n",
       "3258     86             1           2  2:33.997                0   \n",
       "2383      7             1           3  2:14.361                0   \n",
       "2878      8             1           3  2:13.904                0   \n",
       "\n",
       "     CROSSING_FINISH_LINE_IN_PIT      S1  S1_IMPROVEMENT        S2  \\\n",
       "3988                           B  39.232               0  1:02.685   \n",
       "3864                           B  38.885               0  1:03.277   \n",
       "3258                           B  42.113               0  1:06.298   \n",
       "2383                           B  36.637               0    57.067   \n",
       "2878                           B  36.357               0    56.361   \n",
       "\n",
       "      S2_IMPROVEMENT  ... LAP_TIME_S  ELAPSED_S  PIT_TIME_S   POS leader  \\\n",
       "3988               0  ...    143.253    287.748         NaN  24.0  False   \n",
       "3864               0  ...    143.401    289.380         NaN  26.0  False   \n",
       "3258               0  ...    153.997    315.518         NaN  34.0  False   \n",
       "2383               0  ...    134.361    372.899         NaN   1.0   True   \n",
       "2878               0  ...    133.904    373.937         NaN   3.0  False   \n",
       "\n",
       "     LEAD_LAP_NUMBER INLAP OUTLAP  PITMASK LAP_TYPE  \n",
       "3988               2  True  False     True    INLAP  \n",
       "3864               2  True  False     True    INLAP  \n",
       "3258               2  True  False     True    INLAP  \n",
       "2383               3  True  False     True    INLAP  \n",
       "2878               3  True  False     True    INLAP  \n",
       "\n",
       "[5 rows x 35 columns]"
      ]
     },
     "execution_count": 338,
     "metadata": {},
     "output_type": "execute_result"
    }
   ],
   "source": [
    "pit_data = laptimes[laptimes['INLAP'] | laptimes['OUTLAP']][:]\n",
    "pit_data['LAP_TYPE'] = pit_data['INLAP'].map({True:'INLAP', False:'OUTLAP'})\n",
    "pit_data.head()"
   ]
  },
  {
   "cell_type": "markdown",
   "metadata": {},
   "source": [
    "As a basis for comparison, let's see what the sector times were for the fastest 5 laps of the race:"
   ]
  },
  {
   "cell_type": "code",
   "execution_count": 342,
   "metadata": {},
   "outputs": [
    {
     "data": {
      "text/html": [
       "<div>\n",
       "<style scoped>\n",
       "    .dataframe tbody tr th:only-of-type {\n",
       "        vertical-align: middle;\n",
       "    }\n",
       "\n",
       "    .dataframe tbody tr th {\n",
       "        vertical-align: top;\n",
       "    }\n",
       "\n",
       "    .dataframe thead th {\n",
       "        text-align: right;\n",
       "    }\n",
       "</style>\n",
       "<table border=\"1\" class=\"dataframe\">\n",
       "  <thead>\n",
       "    <tr style=\"text-align: right;\">\n",
       "      <th></th>\n",
       "      <th>NUMBER</th>\n",
       "      <th>S1</th>\n",
       "      <th>S2</th>\n",
       "      <th>S3</th>\n",
       "      <th>PIT_TIME_S</th>\n",
       "      <th>LAP_TIME_S</th>\n",
       "      <th>LAP_NUMBER</th>\n",
       "    </tr>\n",
       "  </thead>\n",
       "  <tbody>\n",
       "    <tr>\n",
       "      <th>2419</th>\n",
       "      <td>7</td>\n",
       "      <td>32.780</td>\n",
       "      <td>55.068</td>\n",
       "      <td>29.546</td>\n",
       "      <td>NaN</td>\n",
       "      <td>117.394</td>\n",
       "      <td>39</td>\n",
       "    </tr>\n",
       "    <tr>\n",
       "      <th>2428</th>\n",
       "      <td>7</td>\n",
       "      <td>32.905</td>\n",
       "      <td>54.863</td>\n",
       "      <td>29.626</td>\n",
       "      <td>NaN</td>\n",
       "      <td>117.394</td>\n",
       "      <td>48</td>\n",
       "    </tr>\n",
       "    <tr>\n",
       "      <th>2431</th>\n",
       "      <td>7</td>\n",
       "      <td>32.772</td>\n",
       "      <td>54.787</td>\n",
       "      <td>29.977</td>\n",
       "      <td>NaN</td>\n",
       "      <td>117.536</td>\n",
       "      <td>51</td>\n",
       "    </tr>\n",
       "    <tr>\n",
       "      <th>2444</th>\n",
       "      <td>7</td>\n",
       "      <td>32.754</td>\n",
       "      <td>55.459</td>\n",
       "      <td>29.757</td>\n",
       "      <td>NaN</td>\n",
       "      <td>117.970</td>\n",
       "      <td>64</td>\n",
       "    </tr>\n",
       "    <tr>\n",
       "      <th>2877</th>\n",
       "      <td>8</td>\n",
       "      <td>33.205</td>\n",
       "      <td>55.215</td>\n",
       "      <td>29.636</td>\n",
       "      <td>NaN</td>\n",
       "      <td>118.056</td>\n",
       "      <td>2</td>\n",
       "    </tr>\n",
       "  </tbody>\n",
       "</table>\n",
       "</div>"
      ],
      "text/plain": [
       "     NUMBER      S1      S2      S3  PIT_TIME_S  LAP_TIME_S  LAP_NUMBER\n",
       "2419      7  32.780  55.068  29.546         NaN     117.394          39\n",
       "2428      7  32.905  54.863  29.626         NaN     117.394          48\n",
       "2431      7  32.772  54.787  29.977         NaN     117.536          51\n",
       "2444      7  32.754  55.459  29.757         NaN     117.970          64\n",
       "2877      8  33.205  55.215  29.636         NaN     118.056           2"
      ]
     },
     "execution_count": 342,
     "metadata": {},
     "output_type": "execute_result"
    }
   ],
   "source": [
    "pit_sector_cols = ['NUMBER','S1','S2','S3','PIT_TIME_S','LAP_TIME_S', 'LAP_NUMBER']\n",
    "\n",
    "laptimes.sort_values('LAP_TIME_S').head()[pit_sector_cols]"
   ]
  },
  {
   "cell_type": "markdown",
   "metadata": {},
   "source": [
    "We can inspect the inlap and outlap sector times for a specific car to get a feel for how they behave:"
   ]
  },
  {
   "cell_type": "code",
   "execution_count": 343,
   "metadata": {},
   "outputs": [
    {
     "data": {
      "text/html": [
       "<div>\n",
       "<style scoped>\n",
       "    .dataframe tbody tr th:only-of-type {\n",
       "        vertical-align: middle;\n",
       "    }\n",
       "\n",
       "    .dataframe tbody tr th {\n",
       "        vertical-align: top;\n",
       "    }\n",
       "\n",
       "    .dataframe thead th {\n",
       "        text-align: right;\n",
       "    }\n",
       "</style>\n",
       "<table border=\"1\" class=\"dataframe\">\n",
       "  <thead>\n",
       "    <tr style=\"text-align: right;\">\n",
       "      <th></th>\n",
       "      <th>NUMBER</th>\n",
       "      <th>S1</th>\n",
       "      <th>S2</th>\n",
       "      <th>S3</th>\n",
       "      <th>PIT_TIME_S</th>\n",
       "      <th>LAP_TIME_S</th>\n",
       "      <th>LAP_NUMBER</th>\n",
       "      <th>LAP_TYPE</th>\n",
       "    </tr>\n",
       "  </thead>\n",
       "  <tbody>\n",
       "    <tr>\n",
       "      <th>2878</th>\n",
       "      <td>8</td>\n",
       "      <td>36.357</td>\n",
       "      <td>56.361</td>\n",
       "      <td>41.186</td>\n",
       "      <td>NaN</td>\n",
       "      <td>133.904</td>\n",
       "      <td>3</td>\n",
       "      <td>INLAP</td>\n",
       "    </tr>\n",
       "    <tr>\n",
       "      <th>2879</th>\n",
       "      <td>8</td>\n",
       "      <td>1:33.311</td>\n",
       "      <td>1:08.769</td>\n",
       "      <td>35.498</td>\n",
       "      <td>66.025</td>\n",
       "      <td>197.578</td>\n",
       "      <td>4</td>\n",
       "      <td>OUTLAP</td>\n",
       "    </tr>\n",
       "    <tr>\n",
       "      <th>2900</th>\n",
       "      <td>8</td>\n",
       "      <td>1:29.029</td>\n",
       "      <td>1:53.144</td>\n",
       "      <td>53.253</td>\n",
       "      <td>NaN</td>\n",
       "      <td>255.426</td>\n",
       "      <td>25</td>\n",
       "      <td>INLAP</td>\n",
       "    </tr>\n",
       "    <tr>\n",
       "      <th>2901</th>\n",
       "      <td>8</td>\n",
       "      <td>1:41.104</td>\n",
       "      <td>1:22.021</td>\n",
       "      <td>44.446</td>\n",
       "      <td>69.309</td>\n",
       "      <td>227.571</td>\n",
       "      <td>26</td>\n",
       "      <td>OUTLAP</td>\n",
       "    </tr>\n",
       "    <tr>\n",
       "      <th>2904</th>\n",
       "      <td>8</td>\n",
       "      <td>46.120</td>\n",
       "      <td>1:17.370</td>\n",
       "      <td>51.425</td>\n",
       "      <td>NaN</td>\n",
       "      <td>174.915</td>\n",
       "      <td>29</td>\n",
       "      <td>INLAP</td>\n",
       "    </tr>\n",
       "    <tr>\n",
       "      <th>2905</th>\n",
       "      <td>8</td>\n",
       "      <td>1:23.945</td>\n",
       "      <td>1:08.644</td>\n",
       "      <td>32.503</td>\n",
       "      <td>56.874</td>\n",
       "      <td>185.092</td>\n",
       "      <td>30</td>\n",
       "      <td>OUTLAP</td>\n",
       "    </tr>\n",
       "    <tr>\n",
       "      <th>2920</th>\n",
       "      <td>8</td>\n",
       "      <td>32.953</td>\n",
       "      <td>1:16.012</td>\n",
       "      <td>1:28.664</td>\n",
       "      <td>NaN</td>\n",
       "      <td>197.629</td>\n",
       "      <td>45</td>\n",
       "      <td>INLAP</td>\n",
       "    </tr>\n",
       "    <tr>\n",
       "      <th>2921</th>\n",
       "      <td>8</td>\n",
       "      <td>2:10.213</td>\n",
       "      <td>1:35.438</td>\n",
       "      <td>29.824</td>\n",
       "      <td>51.207</td>\n",
       "      <td>255.475</td>\n",
       "      <td>46</td>\n",
       "      <td>OUTLAP</td>\n",
       "    </tr>\n",
       "    <tr>\n",
       "      <th>2927</th>\n",
       "      <td>8</td>\n",
       "      <td>32.893</td>\n",
       "      <td>1:29.749</td>\n",
       "      <td>1:28.548</td>\n",
       "      <td>NaN</td>\n",
       "      <td>211.190</td>\n",
       "      <td>52</td>\n",
       "      <td>INLAP</td>\n",
       "    </tr>\n",
       "    <tr>\n",
       "      <th>2928</th>\n",
       "      <td>8</td>\n",
       "      <td>1:57.732</td>\n",
       "      <td>1:35.051</td>\n",
       "      <td>30.496</td>\n",
       "      <td>38.731</td>\n",
       "      <td>243.279</td>\n",
       "      <td>53</td>\n",
       "      <td>OUTLAP</td>\n",
       "    </tr>\n",
       "    <tr>\n",
       "      <th>2946</th>\n",
       "      <td>8</td>\n",
       "      <td>32.868</td>\n",
       "      <td>56.152</td>\n",
       "      <td>36.756</td>\n",
       "      <td>NaN</td>\n",
       "      <td>125.776</td>\n",
       "      <td>71</td>\n",
       "      <td>INLAP</td>\n",
       "    </tr>\n",
       "    <tr>\n",
       "      <th>2947</th>\n",
       "      <td>8</td>\n",
       "      <td>1:28.343</td>\n",
       "      <td>55.808</td>\n",
       "      <td>29.708</td>\n",
       "      <td>65.105</td>\n",
       "      <td>173.859</td>\n",
       "      <td>72</td>\n",
       "      <td>OUTLAP</td>\n",
       "    </tr>\n",
       "    <tr>\n",
       "      <th>2958</th>\n",
       "      <td>8</td>\n",
       "      <td>34.833</td>\n",
       "      <td>57.508</td>\n",
       "      <td>39.734</td>\n",
       "      <td>NaN</td>\n",
       "      <td>132.075</td>\n",
       "      <td>83</td>\n",
       "      <td>INLAP</td>\n",
       "    </tr>\n",
       "    <tr>\n",
       "      <th>2959</th>\n",
       "      <td>8</td>\n",
       "      <td>1:26.053</td>\n",
       "      <td>1:14.590</td>\n",
       "      <td>36.623</td>\n",
       "      <td>58.136</td>\n",
       "      <td>197.266</td>\n",
       "      <td>84</td>\n",
       "      <td>OUTLAP</td>\n",
       "    </tr>\n",
       "    <tr>\n",
       "      <th>2978</th>\n",
       "      <td>8</td>\n",
       "      <td>35.521</td>\n",
       "      <td>1:04.588</td>\n",
       "      <td>41.546</td>\n",
       "      <td>NaN</td>\n",
       "      <td>141.655</td>\n",
       "      <td>103</td>\n",
       "      <td>INLAP</td>\n",
       "    </tr>\n",
       "    <tr>\n",
       "      <th>2979</th>\n",
       "      <td>8</td>\n",
       "      <td>1:24.862</td>\n",
       "      <td>1:12.517</td>\n",
       "      <td>35.091</td>\n",
       "      <td>58.013</td>\n",
       "      <td>192.470</td>\n",
       "      <td>104</td>\n",
       "      <td>OUTLAP</td>\n",
       "    </tr>\n",
       "    <tr>\n",
       "      <th>3000</th>\n",
       "      <td>8</td>\n",
       "      <td>35.750</td>\n",
       "      <td>1:07.513</td>\n",
       "      <td>41.032</td>\n",
       "      <td>NaN</td>\n",
       "      <td>144.295</td>\n",
       "      <td>125</td>\n",
       "      <td>INLAP</td>\n",
       "    </tr>\n",
       "    <tr>\n",
       "      <th>3001</th>\n",
       "      <td>8</td>\n",
       "      <td>1:23.144</td>\n",
       "      <td>1:10.429</td>\n",
       "      <td>34.929</td>\n",
       "      <td>57.123</td>\n",
       "      <td>188.502</td>\n",
       "      <td>126</td>\n",
       "      <td>OUTLAP</td>\n",
       "    </tr>\n",
       "  </tbody>\n",
       "</table>\n",
       "</div>"
      ],
      "text/plain": [
       "     NUMBER        S1        S2        S3  PIT_TIME_S  LAP_TIME_S  LAP_NUMBER  \\\n",
       "2878      8    36.357    56.361    41.186         NaN     133.904           3   \n",
       "2879      8  1:33.311  1:08.769    35.498      66.025     197.578           4   \n",
       "2900      8  1:29.029  1:53.144    53.253         NaN     255.426          25   \n",
       "2901      8  1:41.104  1:22.021    44.446      69.309     227.571          26   \n",
       "2904      8    46.120  1:17.370    51.425         NaN     174.915          29   \n",
       "2905      8  1:23.945  1:08.644    32.503      56.874     185.092          30   \n",
       "2920      8    32.953  1:16.012  1:28.664         NaN     197.629          45   \n",
       "2921      8  2:10.213  1:35.438    29.824      51.207     255.475          46   \n",
       "2927      8    32.893  1:29.749  1:28.548         NaN     211.190          52   \n",
       "2928      8  1:57.732  1:35.051    30.496      38.731     243.279          53   \n",
       "2946      8    32.868    56.152    36.756         NaN     125.776          71   \n",
       "2947      8  1:28.343    55.808    29.708      65.105     173.859          72   \n",
       "2958      8    34.833    57.508    39.734         NaN     132.075          83   \n",
       "2959      8  1:26.053  1:14.590    36.623      58.136     197.266          84   \n",
       "2978      8    35.521  1:04.588    41.546         NaN     141.655         103   \n",
       "2979      8  1:24.862  1:12.517    35.091      58.013     192.470         104   \n",
       "3000      8    35.750  1:07.513    41.032         NaN     144.295         125   \n",
       "3001      8  1:23.144  1:10.429    34.929      57.123     188.502         126   \n",
       "\n",
       "     LAP_TYPE  \n",
       "2878    INLAP  \n",
       "2879   OUTLAP  \n",
       "2900    INLAP  \n",
       "2901   OUTLAP  \n",
       "2904    INLAP  \n",
       "2905   OUTLAP  \n",
       "2920    INLAP  \n",
       "2921   OUTLAP  \n",
       "2927    INLAP  \n",
       "2928   OUTLAP  \n",
       "2946    INLAP  \n",
       "2947   OUTLAP  \n",
       "2958    INLAP  \n",
       "2959   OUTLAP  \n",
       "2978    INLAP  \n",
       "2979   OUTLAP  \n",
       "3000    INLAP  \n",
       "3001   OUTLAP  "
      ]
     },
     "execution_count": 343,
     "metadata": {},
     "output_type": "execute_result"
    }
   ],
   "source": [
    "pit_sector_cols.append('LAP_TYPE')\n",
    "\n",
    "pit_data[pit_data['NUMBER'].isin(['8'])][pit_sector_cols].sort_values(['NUMBER','LAP_NUMBER'])"
   ]
  },
  {
   "cell_type": "code",
   "execution_count": 346,
   "metadata": {},
   "outputs": [
    {
     "data": {
      "text/html": [
       "<div>\n",
       "<style scoped>\n",
       "    .dataframe tbody tr th:only-of-type {\n",
       "        vertical-align: middle;\n",
       "    }\n",
       "\n",
       "    .dataframe tbody tr th {\n",
       "        vertical-align: top;\n",
       "    }\n",
       "\n",
       "    .dataframe thead th {\n",
       "        text-align: right;\n",
       "    }\n",
       "</style>\n",
       "<table border=\"1\" class=\"dataframe\">\n",
       "  <thead>\n",
       "    <tr style=\"text-align: right;\">\n",
       "      <th></th>\n",
       "      <th>LAP_TYPE</th>\n",
       "      <th>variable</th>\n",
       "      <th>value</th>\n",
       "    </tr>\n",
       "  </thead>\n",
       "  <tbody>\n",
       "    <tr>\n",
       "      <th>0</th>\n",
       "      <td>INLAP</td>\n",
       "      <td>S1</td>\n",
       "      <td>39.232</td>\n",
       "    </tr>\n",
       "    <tr>\n",
       "      <th>1</th>\n",
       "      <td>INLAP</td>\n",
       "      <td>S1</td>\n",
       "      <td>38.885</td>\n",
       "    </tr>\n",
       "    <tr>\n",
       "      <th>2</th>\n",
       "      <td>INLAP</td>\n",
       "      <td>S1</td>\n",
       "      <td>42.113</td>\n",
       "    </tr>\n",
       "    <tr>\n",
       "      <th>3</th>\n",
       "      <td>INLAP</td>\n",
       "      <td>S1</td>\n",
       "      <td>36.637</td>\n",
       "    </tr>\n",
       "    <tr>\n",
       "      <th>4</th>\n",
       "      <td>INLAP</td>\n",
       "      <td>S1</td>\n",
       "      <td>36.357</td>\n",
       "    </tr>\n",
       "  </tbody>\n",
       "</table>\n",
       "</div>"
      ],
      "text/plain": [
       "  LAP_TYPE variable   value\n",
       "0    INLAP       S1  39.232\n",
       "1    INLAP       S1  38.885\n",
       "2    INLAP       S1  42.113\n",
       "3    INLAP       S1  36.637\n",
       "4    INLAP       S1  36.357"
      ]
     },
     "execution_count": 346,
     "metadata": {},
     "output_type": "execute_result"
    }
   ],
   "source": [
    "pit_data[['LAP_TYPE','S1','S2','S3']].melt(id_vars='LAP_TYPE').head()"
   ]
  },
  {
   "cell_type": "markdown",
   "metadata": {},
   "source": [
    "How does the distribution of times on the inlap compare with the fastest lap sector times?\n",
    "\n",
    "We might expect at least the third sector time to show an elevated time due to pit loss and perhaps an element of the pit stop time."
   ]
  },
  {
   "cell_type": "code",
   "execution_count": 350,
   "metadata": {},
   "outputs": [
    {
     "data": {
      "application/vnd.plotly.v1+json": {
       "config": {
        "plotlyServerURL": "https://plot.ly"
       },
       "data": [
        {
         "alignmentgroup": "True",
         "hoverlabel": {
          "namelength": 0
         },
         "hovertemplate": "variable=%{x}<br>value=%{y}",
         "legendgroup": "",
         "marker": {
          "color": "#636efa"
         },
         "name": "",
         "notched": false,
         "offsetgroup": "",
         "orientation": "v",
         "showlegend": false,
         "type": "box",
         "x": [
          "S1",
          "S1",
          "S1",
          "S1",
          "S1",
          "S1",
          "S1",
          "S1",
          "S1",
          "S1",
          "S1",
          "S1",
          "S1",
          "S1",
          "S1",
          "S1",
          "S1",
          "S1",
          "S1",
          "S1",
          "S1",
          "S1",
          "S1",
          "S1",
          "S1",
          "S1",
          "S1",
          "S1",
          "S1",
          "S1",
          "S1",
          "S1",
          "S1",
          "S1",
          "S1",
          "S1",
          "S1",
          "S1",
          "S1",
          "S1",
          "S1",
          "S1",
          "S1",
          "S1",
          "S1",
          "S1",
          "S1",
          "S1",
          "S1",
          "S1",
          "S1",
          "S1",
          "S1",
          "S1",
          "S1",
          "S1",
          "S1",
          "S1",
          "S1",
          "S1",
          "S1",
          "S1",
          "S1",
          "S1",
          "S1",
          "S1",
          "S1",
          "S1",
          "S1",
          "S1",
          "S1",
          "S1",
          "S1",
          "S1",
          "S1",
          "S1",
          "S1",
          "S1",
          "S1",
          "S1",
          "S1",
          "S1",
          "S1",
          "S1",
          "S1",
          "S1",
          "S1",
          "S1",
          "S1",
          "S1",
          "S1",
          "S1",
          "S1",
          "S1",
          "S1",
          "S1",
          "S1",
          "S1",
          "S1",
          "S1",
          "S1",
          "S1",
          "S1",
          "S1",
          "S1",
          "S1",
          "S1",
          "S1",
          "S1",
          "S1",
          "S1",
          "S1",
          "S1",
          "S1",
          "S1",
          "S1",
          "S1",
          "S1",
          "S1",
          "S1",
          "S1",
          "S1",
          "S1",
          "S1",
          "S1",
          "S1",
          "S1",
          "S1",
          "S1",
          "S1",
          "S1",
          "S1",
          "S1",
          "S1",
          "S1",
          "S1",
          "S1",
          "S1",
          "S1",
          "S1",
          "S1",
          "S1",
          "S1",
          "S1",
          "S1",
          "S1",
          "S1",
          "S1",
          "S1",
          "S1",
          "S1",
          "S1",
          "S1",
          "S1",
          "S1",
          "S1",
          "S1",
          "S1",
          "S1",
          "S1",
          "S1",
          "S1",
          "S1",
          "S1",
          "S1",
          "S1",
          "S1",
          "S1",
          "S1",
          "S1",
          "S1",
          "S1",
          "S1",
          "S1",
          "S1",
          "S1",
          "S1",
          "S1",
          "S1",
          "S1",
          "S1",
          "S1",
          "S1",
          "S1",
          "S1",
          "S1",
          "S1",
          "S1",
          "S1",
          "S1",
          "S1",
          "S1",
          "S1",
          "S1",
          "S1",
          "S1",
          "S1",
          "S1",
          "S1",
          "S1",
          "S1",
          "S1",
          "S1",
          "S1",
          "S1",
          "S1",
          "S1",
          "S1",
          "S1",
          "S1",
          "S1",
          "S1",
          "S1",
          "S1",
          "S1",
          "S1",
          "S1",
          "S1",
          "S1",
          "S1",
          "S1",
          "S1",
          "S1",
          "S1",
          "S1",
          "S1",
          "S1",
          "S1",
          "S1",
          "S1",
          "S1",
          "S1",
          "S1",
          "S1",
          "S1",
          "S1",
          "S1",
          "S1",
          "S1",
          "S1",
          "S1",
          "S1",
          "S1",
          "S1",
          "S1",
          "S1",
          "S1",
          "S1",
          "S1",
          "S1",
          "S1",
          "S1",
          "S1",
          "S1",
          "S1",
          "S1",
          "S1",
          "S1",
          "S1",
          "S1",
          "S1",
          "S1",
          "S1",
          "S1",
          "S1",
          "S1",
          "S1",
          "S1",
          "S1",
          "S1",
          "S1",
          "S1",
          "S1",
          "S1",
          "S1",
          "S1",
          "S1",
          "S1",
          "S2",
          "S2",
          "S2",
          "S2",
          "S2",
          "S2",
          "S2",
          "S2",
          "S2",
          "S2",
          "S2",
          "S2",
          "S2",
          "S2",
          "S2",
          "S2",
          "S2",
          "S2",
          "S2",
          "S2",
          "S2",
          "S2",
          "S2",
          "S2",
          "S2",
          "S2",
          "S2",
          "S2",
          "S2",
          "S2",
          "S2",
          "S2",
          "S2",
          "S2",
          "S2",
          "S2",
          "S2",
          "S2",
          "S2",
          "S2",
          "S2",
          "S2",
          "S2",
          "S2",
          "S2",
          "S2",
          "S2",
          "S2",
          "S2",
          "S2",
          "S2",
          "S2",
          "S2",
          "S2",
          "S2",
          "S2",
          "S2",
          "S2",
          "S2",
          "S2",
          "S2",
          "S2",
          "S2",
          "S2",
          "S2",
          "S2",
          "S2",
          "S2",
          "S2",
          "S2",
          "S2",
          "S2",
          "S2",
          "S2",
          "S2",
          "S2",
          "S2",
          "S2",
          "S2",
          "S2",
          "S2",
          "S2",
          "S2",
          "S2",
          "S2",
          "S2",
          "S2",
          "S2",
          "S2",
          "S2",
          "S2",
          "S2",
          "S2",
          "S2",
          "S2",
          "S2",
          "S2",
          "S2",
          "S2",
          "S2",
          "S2",
          "S2",
          "S2",
          "S2",
          "S2",
          "S2",
          "S2",
          "S2",
          "S2",
          "S2",
          "S2",
          "S2",
          "S2",
          "S2",
          "S2",
          "S2",
          "S2",
          "S2",
          "S2",
          "S2",
          "S2",
          "S2",
          "S2",
          "S2",
          "S2",
          "S2",
          "S2",
          "S2",
          "S2",
          "S2",
          "S2",
          "S2",
          "S2",
          "S2",
          "S2",
          "S2",
          "S2",
          "S2",
          "S2",
          "S2",
          "S2",
          "S2",
          "S2",
          "S2",
          "S2",
          "S2",
          "S2",
          "S2",
          "S2",
          "S2",
          "S2",
          "S2",
          "S2",
          "S2",
          "S2",
          "S2",
          "S2",
          "S2",
          "S2",
          "S2",
          "S2",
          "S2",
          "S2",
          "S2",
          "S2",
          "S2",
          "S2",
          "S2",
          "S2",
          "S2",
          "S2",
          "S2",
          "S2",
          "S2",
          "S2",
          "S2",
          "S2",
          "S2",
          "S2",
          "S2",
          "S2",
          "S2",
          "S2",
          "S2",
          "S2",
          "S2",
          "S2",
          "S2",
          "S2",
          "S2",
          "S2",
          "S2",
          "S2",
          "S2",
          "S2",
          "S2",
          "S2",
          "S2",
          "S2",
          "S2",
          "S2",
          "S2",
          "S2",
          "S2",
          "S2",
          "S2",
          "S2",
          "S2",
          "S2",
          "S2",
          "S2",
          "S2",
          "S2",
          "S2",
          "S2",
          "S2",
          "S2",
          "S2",
          "S2",
          "S2",
          "S2",
          "S2",
          "S2",
          "S2",
          "S2",
          "S2",
          "S2",
          "S2",
          "S2",
          "S2",
          "S2",
          "S2",
          "S2",
          "S2",
          "S2",
          "S2",
          "S2",
          "S2",
          "S2",
          "S2",
          "S2",
          "S2",
          "S2",
          "S2",
          "S2",
          "S2",
          "S2",
          "S2",
          "S2",
          "S2",
          "S2",
          "S2",
          "S2",
          "S2",
          "S2",
          "S2",
          "S2",
          "S2",
          "S2",
          "S2",
          "S2",
          "S2",
          "S2",
          "S2",
          "S2",
          "S2",
          "S2",
          "S2",
          "S2",
          "S2",
          "S2",
          "S2",
          "S2",
          "S2",
          "S2",
          "S2",
          "S2",
          "S2",
          "S3",
          "S3",
          "S3",
          "S3",
          "S3",
          "S3",
          "S3",
          "S3",
          "S3",
          "S3",
          "S3",
          "S3",
          "S3",
          "S3",
          "S3",
          "S3",
          "S3",
          "S3",
          "S3",
          "S3",
          "S3",
          "S3",
          "S3",
          "S3",
          "S3",
          "S3",
          "S3",
          "S3",
          "S3",
          "S3",
          "S3",
          "S3",
          "S3",
          "S3",
          "S3",
          "S3",
          "S3",
          "S3",
          "S3",
          "S3",
          "S3",
          "S3",
          "S3",
          "S3",
          "S3",
          "S3",
          "S3",
          "S3",
          "S3",
          "S3",
          "S3",
          "S3",
          "S3",
          "S3",
          "S3",
          "S3",
          "S3",
          "S3",
          "S3",
          "S3",
          "S3",
          "S3",
          "S3",
          "S3",
          "S3",
          "S3",
          "S3",
          "S3",
          "S3",
          "S3",
          "S3",
          "S3",
          "S3",
          "S3",
          "S3",
          "S3",
          "S3",
          "S3",
          "S3",
          "S3",
          "S3",
          "S3",
          "S3",
          "S3",
          "S3",
          "S3",
          "S3",
          "S3",
          "S3",
          "S3",
          "S3",
          "S3",
          "S3",
          "S3",
          "S3",
          "S3",
          "S3",
          "S3",
          "S3",
          "S3",
          "S3",
          "S3",
          "S3",
          "S3",
          "S3",
          "S3",
          "S3",
          "S3",
          "S3",
          "S3",
          "S3",
          "S3",
          "S3",
          "S3",
          "S3",
          "S3",
          "S3",
          "S3",
          "S3",
          "S3",
          "S3",
          "S3",
          "S3",
          "S3",
          "S3",
          "S3",
          "S3",
          "S3",
          "S3",
          "S3",
          "S3",
          "S3",
          "S3",
          "S3",
          "S3",
          "S3",
          "S3",
          "S3",
          "S3",
          "S3",
          "S3",
          "S3",
          "S3",
          "S3",
          "S3",
          "S3",
          "S3",
          "S3",
          "S3",
          "S3",
          "S3",
          "S3",
          "S3",
          "S3",
          "S3",
          "S3",
          "S3",
          "S3",
          "S3",
          "S3",
          "S3",
          "S3",
          "S3",
          "S3",
          "S3",
          "S3",
          "S3",
          "S3",
          "S3",
          "S3",
          "S3",
          "S3",
          "S3",
          "S3",
          "S3",
          "S3",
          "S3",
          "S3",
          "S3",
          "S3",
          "S3",
          "S3",
          "S3",
          "S3",
          "S3",
          "S3",
          "S3",
          "S3",
          "S3",
          "S3",
          "S3",
          "S3",
          "S3",
          "S3",
          "S3",
          "S3",
          "S3",
          "S3",
          "S3",
          "S3",
          "S3",
          "S3",
          "S3",
          "S3",
          "S3",
          "S3",
          "S3",
          "S3",
          "S3",
          "S3",
          "S3",
          "S3",
          "S3",
          "S3",
          "S3",
          "S3",
          "S3",
          "S3",
          "S3",
          "S3",
          "S3",
          "S3",
          "S3",
          "S3",
          "S3",
          "S3",
          "S3",
          "S3",
          "S3",
          "S3",
          "S3",
          "S3",
          "S3",
          "S3",
          "S3",
          "S3",
          "S3",
          "S3",
          "S3",
          "S3",
          "S3",
          "S3",
          "S3",
          "S3",
          "S3",
          "S3",
          "S3",
          "S3",
          "S3",
          "S3",
          "S3",
          "S3",
          "S3",
          "S3",
          "S3",
          "S3",
          "S3",
          "S3",
          "S3",
          "S3",
          "S3",
          "S3",
          "S3",
          "S3",
          "S3",
          "S3",
          "S3",
          "S3",
          "S3",
          "S3",
          "S3",
          "S3",
          "S3",
          "S3",
          "S3",
          "S3",
          "S3",
          "S3"
         ],
         "x0": " ",
         "xaxis": "x",
         "y": [
          "39.232",
          "38.885",
          "42.113",
          "36.637",
          "36.357",
          "38.522",
          "40.012",
          "39.164",
          "40.244",
          "40.152",
          "40.061",
          "40.466",
          "41.134",
          "41.859",
          "45.550",
          "45.140",
          "45.658",
          "44.667",
          "45.880",
          "45.538",
          "46.006",
          "45.431",
          "46.150",
          "46.940",
          "47.116",
          "47.915",
          "46.977",
          "44.034",
          "43.613",
          "43.425",
          "45.179",
          "46.942",
          "48.911",
          "49.160",
          "46.451",
          "1:08.404",
          "1:12.000",
          "1:11.924",
          "1:02.768",
          "58.856",
          "57.233",
          "52.531",
          "39.730",
          "42.639",
          "1:49.105",
          "1:29.029",
          "1:01.889",
          "50.222",
          "52.266",
          "51.441",
          "53.526",
          "53.655",
          "52.578",
          "48.401",
          "47.029",
          "46.158",
          "46.836",
          "46.729",
          "46.490",
          "46.232",
          "45.176",
          "45.820",
          "45.341",
          "45.527",
          "45.241",
          "44.947",
          "43.561",
          "43.607",
          "43.198",
          "43.238",
          "1:24.172",
          "43.802",
          "44.090",
          "52.065",
          "43.250",
          "43.173",
          "43.362",
          "1:12.236",
          "1:39.333",
          "46.120",
          "38.646",
          "41.305",
          "45.128",
          "43.978",
          "36.977",
          "37.704",
          "36.637",
          "37.336",
          "34.822",
          "35.134",
          "41.068",
          "40.695",
          "41.523",
          "35.789",
          "39.689",
          "33.402",
          "36.841",
          "34.182",
          "39.298",
          "38.958",
          "38.791",
          "39.190",
          "35.980",
          "39.035",
          "39.060",
          "38.771",
          "39.103",
          "35.472",
          "32.953",
          "39.886",
          "39.599",
          "37.051",
          "36.037",
          "44.264",
          "1:12.795",
          "1:35.661",
          "1:42.111",
          "42.374",
          "36.288",
          "40.542",
          "39.075",
          "38.867",
          "32.707",
          "35.594",
          "39.002",
          "34.158",
          "2:53.814",
          "32.893",
          "36.526",
          "1:29.268",
          "41.493",
          "35.764",
          "34.283",
          "36.096",
          "35.946",
          "3:35.382",
          "35.670",
          "36.097",
          "35.905",
          "34.467",
          "44.899",
          "36.141",
          "34.281",
          "32.868",
          "39.542",
          "34.618",
          "39.970",
          "36.463",
          "40.147",
          "36.349",
          "38.957",
          "39.128",
          "39.478",
          "39.993",
          "38.881",
          "39.222",
          "39.157",
          "38.996",
          "39.603",
          "40.511",
          "40.943",
          "35.544",
          "40.661",
          "35.166",
          "39.169",
          "39.580",
          "38.779",
          "39.142",
          "35.798",
          "34.833",
          "35.288",
          "35.176",
          "39.793",
          "39.824",
          "39.964",
          "40.814",
          "41.682",
          "47.031",
          "42.633",
          "51.895",
          "40.874",
          "40.403",
          "43.661",
          "44.783",
          "42.393",
          "45.125",
          "44.031",
          "43.205",
          "40.342",
          "43.491",
          "47.654",
          "48.434",
          "47.460",
          "47.023",
          "44.417",
          "44.652",
          "46.714",
          "46.712",
          "47.606",
          "47.775",
          "47.399",
          "48.262",
          "50.157",
          "40.656",
          "43.541",
          "42.857",
          "43.039",
          "42.807",
          "42.539",
          "38.312",
          "37.400",
          "37.661",
          "38.736",
          "35.521",
          "42.035",
          "39.595",
          "43.068",
          "35.643",
          "41.278",
          "39.029",
          "41.387",
          "39.349",
          "41.416",
          "44.225",
          "41.436",
          "45.723",
          "38.866",
          "45.098",
          "44.241",
          "47.362",
          "43.309",
          "44.760",
          "46.435",
          "42.667",
          "44.156",
          "40.037",
          "59.956",
          "1:02.681",
          "1:02.711",
          "1:09.867",
          "50.806",
          "51.101",
          "54.649",
          "55.285",
          "55.331",
          "1:00.162",
          "57.600",
          "46.924",
          "45.040",
          "43.470",
          "46.652",
          "41.990",
          "43.848",
          "39.180",
          "38.298",
          "39.725",
          "38.667",
          "38.927",
          "35.750",
          "41.978",
          "38.193",
          "43.020",
          "43.489",
          "40.853",
          "36.616",
          "42.556",
          "43.559",
          "43.316",
          "43.828",
          "40.768",
          "56.651",
          "50.660",
          "55.610",
          "1:04.800",
          "1:05.673",
          "1:02.743",
          "1:00.195",
          "1:05.367",
          "1:02.685",
          "1:03.277",
          "1:06.298",
          "57.067",
          "56.361",
          "55.715",
          "55.696",
          "57.786",
          "57.206",
          "57.900",
          "58.515",
          "59.490",
          "58.879",
          "1:04.500",
          "1:05.870",
          "1:06.333",
          "1:05.386",
          "1:06.589",
          "1:06.255",
          "1:06.912",
          "1:09.093",
          "1:08.260",
          "1:11.666",
          "1:11.916",
          "1:12.734",
          "1:12.537",
          "1:10.741",
          "1:13.072",
          "1:12.563",
          "1:14.681",
          "1:15.963",
          "1:23.992",
          "1:26.888",
          "1:27.168",
          "1:20.830",
          "1:28.191",
          "1:27.182",
          "1:24.374",
          "1:23.780",
          "1:20.116",
          "1:24.957",
          "1:25.505",
          "1:10.675",
          "1:14.595",
          "1:40.115",
          "1:53.144",
          "1:13.990",
          "1:23.177",
          "1:22.602",
          "1:22.895",
          "1:20.718",
          "1:20.193",
          "1:21.262",
          "1:21.472",
          "1:20.816",
          "1:20.457",
          "1:19.763",
          "1:19.839",
          "1:20.013",
          "1:19.656",
          "1:19.431",
          "1:18.943",
          "1:19.140",
          "1:18.942",
          "1:18.867",
          "1:19.240",
          "1:18.617",
          "1:18.488",
          "1:17.590",
          "1:18.078",
          "1:10.349",
          "1:14.742",
          "1:14.687",
          "1:21.467",
          "1:13.510",
          "1:12.990",
          "1:13.235",
          "1:11.244",
          "1:19.932",
          "1:17.370",
          "1:04.159",
          "1:09.546",
          "1:13.834",
          "1:15.570",
          "1:01.821",
          "1:00.681",
          "59.301",
          "1:04.223",
          "56.660",
          "59.540",
          "1:08.429",
          "1:08.490",
          "1:05.202",
          "57.631",
          "1:05.819",
          "55.979",
          "1:00.112",
          "57.026",
          "1:03.800",
          "1:03.561",
          "1:03.536",
          "1:02.842",
          "59.125",
          "1:03.459",
          "1:02.872",
          "1:02.995",
          "1:12.651",
          "1:07.911",
          "1:16.012",
          "1:52.240",
          "1:51.747",
          "2:01.552",
          "2:03.075",
          "2:07.762",
          "2:08.911",
          "2:07.174",
          "2:08.337",
          "11:37.235",
          "59.780",
          "1:08.615",
          "1:36.758",
          "1:03.945",
          "55.695",
          "56.515",
          "1:02.720",
          "54.972",
          "1:00.677",
          "1:29.749",
          "2:04.624",
          "2:07.146",
          "1:08.951",
          "1:07.447",
          "54.477",
          "56.939",
          "1:00.552",
          "1:06.788",
          "56.336",
          "57.975",
          "57.359",
          "54.359",
          "1:05.037",
          "59.841",
          "56.023",
          "56.152",
          "1:03.998",
          "55.202",
          "1:04.146",
          "59.769",
          "1:05.957",
          "1:00.932",
          "1:02.956",
          "1:03.643",
          "1:04.472",
          "1:04.785",
          "1:03.125",
          "1:03.873",
          "1:03.373",
          "1:04.547",
          "1:03.941",
          "1:06.124",
          "1:06.222",
          "57.970",
          "1:05.126",
          "56.311",
          "1:04.623",
          "1:03.199",
          "1:03.637",
          "1:03.578",
          "59.613",
          "57.508",
          "57.915",
          "57.321",
          "1:03.606",
          "1:03.150",
          "1:03.980",
          "1:05.431",
          "1:07.086",
          "1:07.937",
          "1:08.090",
          "1:07.992",
          "1:07.460",
          "1:04.132",
          "1:11.343",
          "1:11.937",
          "1:10.712",
          "1:10.404",
          "1:10.525",
          "1:11.443",
          "1:11.560",
          "1:10.528",
          "1:23.890",
          "1:24.220",
          "1:24.167",
          "1:26.598",
          "1:16.139",
          "1:19.830",
          "1:24.938",
          "1:24.432",
          "1:25.868",
          "1:24.320",
          "1:20.728",
          "1:26.860",
          "1:33.371",
          "1:12.484",
          "1:14.806",
          "1:15.630",
          "1:14.363",
          "1:14.239",
          "1:15.465",
          "1:04.773",
          "1:05.599",
          "1:01.666",
          "1:08.222",
          "1:04.588",
          "1:11.121",
          "1:14.898",
          "1:16.618",
          "1:05.120",
          "1:07.507",
          "1:10.846",
          "1:14.565",
          "1:05.444",
          "1:15.122",
          "1:20.516",
          "1:12.335",
          "1:13.711",
          "1:07.091",
          "1:15.626",
          "1:18.283",
          "1:25.562",
          "1:17.244",
          "1:20.611",
          "1:25.176",
          "1:15.418",
          "1:18.536",
          "1:12.068",
          "1:38.547",
          "1:33.906",
          "1:33.742",
          "1:33.229",
          "1:31.027",
          "1:30.826",
          "1:35.202",
          "1:34.785",
          "1:27.503",
          "1:25.347",
          "1:28.498",
          "1:26.542",
          "1:21.011",
          "1:16.365",
          "1:24.339",
          "1:14.200",
          "1:15.158",
          "1:12.139",
          "1:10.443",
          "1:12.916",
          "1:09.854",
          "1:09.680",
          "1:07.513",
          "1:12.311",
          "1:08.080",
          "1:13.782",
          "1:14.683",
          "1:12.211",
          "1:09.832",
          "1:13.252",
          "1:15.405",
          "1:15.261",
          "1:17.284",
          "1:13.256",
          "2:01.794",
          "1:29.070",
          "1:31.589",
          "1:32.170",
          "1:33.873",
          "1:33.892",
          "1:33.154",
          "1:33.750",
          "41.336",
          "41.239",
          "45.586",
          "40.657",
          "41.186",
          "40.539",
          "41.570",
          "40.428",
          "42.037",
          "41.648",
          "42.248",
          "42.966",
          "42.738",
          "48.977",
          "47.153",
          "46.911",
          "48.801",
          "47.385",
          "47.760",
          "47.490",
          "48.613",
          "49.761",
          "49.626",
          "50.700",
          "54.049",
          "56.113",
          "1:26.843",
          "45.806",
          "47.012",
          "46.890",
          "47.846",
          "52.425",
          "53.747",
          "54.178",
          "47.430",
          "1:01.027",
          "58.682",
          "58.810",
          "57.562",
          "58.333",
          "1:57.828",
          "58.239",
          "43.879",
          "45.635",
          "1:00.943",
          "53.253",
          "49.830",
          "52.602",
          "50.796",
          "50.345",
          "49.693",
          "50.140",
          "48.489",
          "47.790",
          "47.739",
          "50.761",
          "50.771",
          "51.069",
          "51.309",
          "50.573",
          "50.960",
          "50.464",
          "50.544",
          "50.469",
          "50.615",
          "50.622",
          "50.607",
          "51.056",
          "50.791",
          "50.007",
          "47.040",
          "47.407",
          "46.969",
          "50.390",
          "51.213",
          "46.715",
          "48.697",
          "45.091",
          "46.385",
          "51.425",
          "41.079",
          "43.681",
          "1:21.491",
          "48.437",
          "39.810",
          "39.021",
          "40.083",
          "40.566",
          "38.797",
          "38.108",
          "44.972",
          "43.398",
          "42.061",
          "38.865",
          "43.293",
          "36.033",
          "42.746",
          "39.079",
          "42.472",
          "43.215",
          "43.314",
          "53.229",
          "1:07.266",
          "1:07.934",
          "1:18.690",
          "1:22.041",
          "1:28.146",
          "1:29.138",
          "1:28.664",
          "1:29.972",
          "1:29.472",
          "1:29.053",
          "1:28.345",
          "1:30.090",
          "1:29.069",
          "1:29.231",
          "1:30.443",
          "50.062",
          "40.004",
          "51.527",
          "1:04.632",
          "41.365",
          "36.608",
          "41.596",
          "56.141",
          "1:03.848",
          "1:26.891",
          "1:28.548",
          "1:32.265",
          "1:28.754",
          "1:32.507",
          "43.030",
          "37.337",
          "39.005",
          "39.490",
          "45.466",
          "39.001",
          "39.356",
          "38.974",
          "37.048",
          "42.360",
          "39.044",
          "37.972",
          "36.756",
          "41.539",
          "38.032",
          "42.673",
          "39.607",
          "42.696",
          "40.245",
          "41.424",
          "41.388",
          "42.162",
          "43.262",
          "41.461",
          "41.114",
          "40.867",
          "42.117",
          "41.821",
          "43.332",
          "43.702",
          "40.368",
          "44.050",
          "37.603",
          "41.530",
          "42.235",
          "40.999",
          "41.664",
          "38.415",
          "39.734",
          "41.796",
          "41.435",
          "46.400",
          "46.990",
          "46.836",
          "47.415",
          "49.565",
          "50.539",
          "53.123",
          "50.096",
          "50.272",
          "48.373",
          "53.131",
          "51.027",
          "53.441",
          "51.035",
          "53.522",
          "55.165",
          "52.715",
          "53.524",
          "58.697",
          "52.966",
          "53.725",
          "56.228",
          "47.852",
          "49.656",
          "53.303",
          "52.482",
          "52.414",
          "53.329",
          "1:49.640",
          "53.681",
          "55.183",
          "43.989",
          "46.065",
          "46.646",
          "46.715",
          "45.224",
          "45.359",
          "41.930",
          "40.725",
          "41.416",
          "43.788",
          "41.546",
          "49.617",
          "46.378",
          "47.381",
          "42.231",
          "47.201",
          "43.706",
          "46.624",
          "43.555",
          "46.782",
          "1:28.976",
          "45.977",
          "49.896",
          "41.857",
          "48.106",
          "47.653",
          "53.236",
          "50.132",
          "49.128",
          "50.639",
          "45.678",
          "46.787",
          "46.360",
          "1:02.983",
          "1:06.204",
          "1:05.554",
          "58.825",
          "55.127",
          "55.531",
          "1:01.645",
          "1:01.333",
          "1:02.855",
          "59.477",
          "1:01.423",
          "53.783",
          "49.057",
          "46.210",
          "51.551",
          "45.207",
          "47.040",
          "44.480",
          "45.685",
          "42.774",
          "43.771",
          "42.378",
          "41.032",
          "45.843",
          "41.669",
          "45.607",
          "49.498",
          "44.486",
          "44.259",
          "45.183",
          "47.393",
          "47.542",
          "50.015",
          "46.090",
          "1:34.655",
          "1:16.183",
          "1:00.934",
          "1:02.218",
          "1:01.189",
          "1:02.652",
          "1:05.678",
          "1:40.836"
         ],
         "y0": " ",
         "yaxis": "y"
        }
       ],
       "layout": {
        "boxmode": "group",
        "height": 600,
        "legend": {
         "tracegroupgap": 0
        },
        "margin": {
         "t": 60
        },
        "template": {
         "data": {
          "bar": [
           {
            "error_x": {
             "color": "#2a3f5f"
            },
            "error_y": {
             "color": "#2a3f5f"
            },
            "marker": {
             "line": {
              "color": "#E5ECF6",
              "width": 0.5
             }
            },
            "type": "bar"
           }
          ],
          "barpolar": [
           {
            "marker": {
             "line": {
              "color": "#E5ECF6",
              "width": 0.5
             }
            },
            "type": "barpolar"
           }
          ],
          "carpet": [
           {
            "aaxis": {
             "endlinecolor": "#2a3f5f",
             "gridcolor": "white",
             "linecolor": "white",
             "minorgridcolor": "white",
             "startlinecolor": "#2a3f5f"
            },
            "baxis": {
             "endlinecolor": "#2a3f5f",
             "gridcolor": "white",
             "linecolor": "white",
             "minorgridcolor": "white",
             "startlinecolor": "#2a3f5f"
            },
            "type": "carpet"
           }
          ],
          "choropleth": [
           {
            "colorbar": {
             "outlinewidth": 0,
             "ticks": ""
            },
            "type": "choropleth"
           }
          ],
          "contour": [
           {
            "colorbar": {
             "outlinewidth": 0,
             "ticks": ""
            },
            "colorscale": [
             [
              0,
              "#0d0887"
             ],
             [
              0.1111111111111111,
              "#46039f"
             ],
             [
              0.2222222222222222,
              "#7201a8"
             ],
             [
              0.3333333333333333,
              "#9c179e"
             ],
             [
              0.4444444444444444,
              "#bd3786"
             ],
             [
              0.5555555555555556,
              "#d8576b"
             ],
             [
              0.6666666666666666,
              "#ed7953"
             ],
             [
              0.7777777777777778,
              "#fb9f3a"
             ],
             [
              0.8888888888888888,
              "#fdca26"
             ],
             [
              1,
              "#f0f921"
             ]
            ],
            "type": "contour"
           }
          ],
          "contourcarpet": [
           {
            "colorbar": {
             "outlinewidth": 0,
             "ticks": ""
            },
            "type": "contourcarpet"
           }
          ],
          "heatmap": [
           {
            "colorbar": {
             "outlinewidth": 0,
             "ticks": ""
            },
            "colorscale": [
             [
              0,
              "#0d0887"
             ],
             [
              0.1111111111111111,
              "#46039f"
             ],
             [
              0.2222222222222222,
              "#7201a8"
             ],
             [
              0.3333333333333333,
              "#9c179e"
             ],
             [
              0.4444444444444444,
              "#bd3786"
             ],
             [
              0.5555555555555556,
              "#d8576b"
             ],
             [
              0.6666666666666666,
              "#ed7953"
             ],
             [
              0.7777777777777778,
              "#fb9f3a"
             ],
             [
              0.8888888888888888,
              "#fdca26"
             ],
             [
              1,
              "#f0f921"
             ]
            ],
            "type": "heatmap"
           }
          ],
          "heatmapgl": [
           {
            "colorbar": {
             "outlinewidth": 0,
             "ticks": ""
            },
            "colorscale": [
             [
              0,
              "#0d0887"
             ],
             [
              0.1111111111111111,
              "#46039f"
             ],
             [
              0.2222222222222222,
              "#7201a8"
             ],
             [
              0.3333333333333333,
              "#9c179e"
             ],
             [
              0.4444444444444444,
              "#bd3786"
             ],
             [
              0.5555555555555556,
              "#d8576b"
             ],
             [
              0.6666666666666666,
              "#ed7953"
             ],
             [
              0.7777777777777778,
              "#fb9f3a"
             ],
             [
              0.8888888888888888,
              "#fdca26"
             ],
             [
              1,
              "#f0f921"
             ]
            ],
            "type": "heatmapgl"
           }
          ],
          "histogram": [
           {
            "marker": {
             "colorbar": {
              "outlinewidth": 0,
              "ticks": ""
             }
            },
            "type": "histogram"
           }
          ],
          "histogram2d": [
           {
            "colorbar": {
             "outlinewidth": 0,
             "ticks": ""
            },
            "colorscale": [
             [
              0,
              "#0d0887"
             ],
             [
              0.1111111111111111,
              "#46039f"
             ],
             [
              0.2222222222222222,
              "#7201a8"
             ],
             [
              0.3333333333333333,
              "#9c179e"
             ],
             [
              0.4444444444444444,
              "#bd3786"
             ],
             [
              0.5555555555555556,
              "#d8576b"
             ],
             [
              0.6666666666666666,
              "#ed7953"
             ],
             [
              0.7777777777777778,
              "#fb9f3a"
             ],
             [
              0.8888888888888888,
              "#fdca26"
             ],
             [
              1,
              "#f0f921"
             ]
            ],
            "type": "histogram2d"
           }
          ],
          "histogram2dcontour": [
           {
            "colorbar": {
             "outlinewidth": 0,
             "ticks": ""
            },
            "colorscale": [
             [
              0,
              "#0d0887"
             ],
             [
              0.1111111111111111,
              "#46039f"
             ],
             [
              0.2222222222222222,
              "#7201a8"
             ],
             [
              0.3333333333333333,
              "#9c179e"
             ],
             [
              0.4444444444444444,
              "#bd3786"
             ],
             [
              0.5555555555555556,
              "#d8576b"
             ],
             [
              0.6666666666666666,
              "#ed7953"
             ],
             [
              0.7777777777777778,
              "#fb9f3a"
             ],
             [
              0.8888888888888888,
              "#fdca26"
             ],
             [
              1,
              "#f0f921"
             ]
            ],
            "type": "histogram2dcontour"
           }
          ],
          "mesh3d": [
           {
            "colorbar": {
             "outlinewidth": 0,
             "ticks": ""
            },
            "type": "mesh3d"
           }
          ],
          "parcoords": [
           {
            "line": {
             "colorbar": {
              "outlinewidth": 0,
              "ticks": ""
             }
            },
            "type": "parcoords"
           }
          ],
          "scatter": [
           {
            "marker": {
             "colorbar": {
              "outlinewidth": 0,
              "ticks": ""
             }
            },
            "type": "scatter"
           }
          ],
          "scatter3d": [
           {
            "line": {
             "colorbar": {
              "outlinewidth": 0,
              "ticks": ""
             }
            },
            "marker": {
             "colorbar": {
              "outlinewidth": 0,
              "ticks": ""
             }
            },
            "type": "scatter3d"
           }
          ],
          "scattercarpet": [
           {
            "marker": {
             "colorbar": {
              "outlinewidth": 0,
              "ticks": ""
             }
            },
            "type": "scattercarpet"
           }
          ],
          "scattergeo": [
           {
            "marker": {
             "colorbar": {
              "outlinewidth": 0,
              "ticks": ""
             }
            },
            "type": "scattergeo"
           }
          ],
          "scattergl": [
           {
            "marker": {
             "colorbar": {
              "outlinewidth": 0,
              "ticks": ""
             }
            },
            "type": "scattergl"
           }
          ],
          "scattermapbox": [
           {
            "marker": {
             "colorbar": {
              "outlinewidth": 0,
              "ticks": ""
             }
            },
            "type": "scattermapbox"
           }
          ],
          "scatterpolar": [
           {
            "marker": {
             "colorbar": {
              "outlinewidth": 0,
              "ticks": ""
             }
            },
            "type": "scatterpolar"
           }
          ],
          "scatterpolargl": [
           {
            "marker": {
             "colorbar": {
              "outlinewidth": 0,
              "ticks": ""
             }
            },
            "type": "scatterpolargl"
           }
          ],
          "scatterternary": [
           {
            "marker": {
             "colorbar": {
              "outlinewidth": 0,
              "ticks": ""
             }
            },
            "type": "scatterternary"
           }
          ],
          "surface": [
           {
            "colorbar": {
             "outlinewidth": 0,
             "ticks": ""
            },
            "colorscale": [
             [
              0,
              "#0d0887"
             ],
             [
              0.1111111111111111,
              "#46039f"
             ],
             [
              0.2222222222222222,
              "#7201a8"
             ],
             [
              0.3333333333333333,
              "#9c179e"
             ],
             [
              0.4444444444444444,
              "#bd3786"
             ],
             [
              0.5555555555555556,
              "#d8576b"
             ],
             [
              0.6666666666666666,
              "#ed7953"
             ],
             [
              0.7777777777777778,
              "#fb9f3a"
             ],
             [
              0.8888888888888888,
              "#fdca26"
             ],
             [
              1,
              "#f0f921"
             ]
            ],
            "type": "surface"
           }
          ],
          "table": [
           {
            "cells": {
             "fill": {
              "color": "#EBF0F8"
             },
             "line": {
              "color": "white"
             }
            },
            "header": {
             "fill": {
              "color": "#C8D4E3"
             },
             "line": {
              "color": "white"
             }
            },
            "type": "table"
           }
          ]
         },
         "layout": {
          "annotationdefaults": {
           "arrowcolor": "#2a3f5f",
           "arrowhead": 0,
           "arrowwidth": 1
          },
          "colorscale": {
           "diverging": [
            [
             0,
             "#8e0152"
            ],
            [
             0.1,
             "#c51b7d"
            ],
            [
             0.2,
             "#de77ae"
            ],
            [
             0.3,
             "#f1b6da"
            ],
            [
             0.4,
             "#fde0ef"
            ],
            [
             0.5,
             "#f7f7f7"
            ],
            [
             0.6,
             "#e6f5d0"
            ],
            [
             0.7,
             "#b8e186"
            ],
            [
             0.8,
             "#7fbc41"
            ],
            [
             0.9,
             "#4d9221"
            ],
            [
             1,
             "#276419"
            ]
           ],
           "sequential": [
            [
             0,
             "#0d0887"
            ],
            [
             0.1111111111111111,
             "#46039f"
            ],
            [
             0.2222222222222222,
             "#7201a8"
            ],
            [
             0.3333333333333333,
             "#9c179e"
            ],
            [
             0.4444444444444444,
             "#bd3786"
            ],
            [
             0.5555555555555556,
             "#d8576b"
            ],
            [
             0.6666666666666666,
             "#ed7953"
            ],
            [
             0.7777777777777778,
             "#fb9f3a"
            ],
            [
             0.8888888888888888,
             "#fdca26"
            ],
            [
             1,
             "#f0f921"
            ]
           ],
           "sequentialminus": [
            [
             0,
             "#0d0887"
            ],
            [
             0.1111111111111111,
             "#46039f"
            ],
            [
             0.2222222222222222,
             "#7201a8"
            ],
            [
             0.3333333333333333,
             "#9c179e"
            ],
            [
             0.4444444444444444,
             "#bd3786"
            ],
            [
             0.5555555555555556,
             "#d8576b"
            ],
            [
             0.6666666666666666,
             "#ed7953"
            ],
            [
             0.7777777777777778,
             "#fb9f3a"
            ],
            [
             0.8888888888888888,
             "#fdca26"
            ],
            [
             1,
             "#f0f921"
            ]
           ]
          },
          "colorway": [
           "#636efa",
           "#EF553B",
           "#00cc96",
           "#ab63fa",
           "#FFA15A",
           "#19d3f3",
           "#FF6692",
           "#B6E880",
           "#FF97FF",
           "#FECB52"
          ],
          "font": {
           "color": "#2a3f5f"
          },
          "geo": {
           "bgcolor": "white",
           "lakecolor": "white",
           "landcolor": "#E5ECF6",
           "showlakes": true,
           "showland": true,
           "subunitcolor": "white"
          },
          "hoverlabel": {
           "align": "left"
          },
          "hovermode": "closest",
          "mapbox": {
           "style": "light"
          },
          "paper_bgcolor": "white",
          "plot_bgcolor": "#E5ECF6",
          "polar": {
           "angularaxis": {
            "gridcolor": "white",
            "linecolor": "white",
            "ticks": ""
           },
           "bgcolor": "#E5ECF6",
           "radialaxis": {
            "gridcolor": "white",
            "linecolor": "white",
            "ticks": ""
           }
          },
          "scene": {
           "xaxis": {
            "backgroundcolor": "#E5ECF6",
            "gridcolor": "white",
            "gridwidth": 2,
            "linecolor": "white",
            "showbackground": true,
            "ticks": "",
            "zerolinecolor": "white"
           },
           "yaxis": {
            "backgroundcolor": "#E5ECF6",
            "gridcolor": "white",
            "gridwidth": 2,
            "linecolor": "white",
            "showbackground": true,
            "ticks": "",
            "zerolinecolor": "white"
           },
           "zaxis": {
            "backgroundcolor": "#E5ECF6",
            "gridcolor": "white",
            "gridwidth": 2,
            "linecolor": "white",
            "showbackground": true,
            "ticks": "",
            "zerolinecolor": "white"
           }
          },
          "shapedefaults": {
           "line": {
            "color": "#2a3f5f"
           }
          },
          "ternary": {
           "aaxis": {
            "gridcolor": "white",
            "linecolor": "white",
            "ticks": ""
           },
           "baxis": {
            "gridcolor": "white",
            "linecolor": "white",
            "ticks": ""
           },
           "bgcolor": "#E5ECF6",
           "caxis": {
            "gridcolor": "white",
            "linecolor": "white",
            "ticks": ""
           }
          },
          "title": {
           "x": 0.05
          },
          "xaxis": {
           "automargin": true,
           "gridcolor": "white",
           "linecolor": "white",
           "ticks": "",
           "zerolinecolor": "white",
           "zerolinewidth": 2
          },
          "yaxis": {
           "automargin": true,
           "gridcolor": "white",
           "linecolor": "white",
           "ticks": "",
           "zerolinecolor": "white",
           "zerolinewidth": 2
          }
         }
        },
        "xaxis": {
         "anchor": "y",
         "domain": [
          0,
          0.98
         ],
         "title": {
          "text": "variable"
         }
        },
        "yaxis": {
         "anchor": "x",
         "domain": [
          0,
          1
         ],
         "title": {
          "text": "value"
         }
        }
       }
      },
      "text/html": [
       "<div>\n",
       "        \n",
       "        \n",
       "            <div id=\"500ec05b-3fa4-44af-bdaa-15cb68e1e70c\" class=\"plotly-graph-div\" style=\"height:600px; width:100%;\"></div>\n",
       "            <script type=\"text/javascript\">\n",
       "                require([\"plotly\"], function(Plotly) {\n",
       "                    window.PLOTLYENV=window.PLOTLYENV || {};\n",
       "                    \n",
       "                if (document.getElementById(\"500ec05b-3fa4-44af-bdaa-15cb68e1e70c\")) {\n",
       "                    Plotly.newPlot(\n",
       "                        '500ec05b-3fa4-44af-bdaa-15cb68e1e70c',\n",
       "                        [{\"alignmentgroup\": \"True\", \"hoverlabel\": {\"namelength\": 0}, \"hovertemplate\": \"variable=%{x}<br>value=%{y}\", \"legendgroup\": \"\", \"marker\": {\"color\": \"#636efa\"}, \"name\": \"\", \"notched\": false, \"offsetgroup\": \"\", \"orientation\": \"v\", \"showlegend\": false, \"type\": \"box\", \"x\": [\"S1\", \"S1\", \"S1\", \"S1\", \"S1\", \"S1\", \"S1\", \"S1\", \"S1\", \"S1\", \"S1\", \"S1\", \"S1\", \"S1\", \"S1\", \"S1\", \"S1\", \"S1\", \"S1\", \"S1\", \"S1\", \"S1\", \"S1\", \"S1\", \"S1\", \"S1\", \"S1\", \"S1\", \"S1\", \"S1\", \"S1\", \"S1\", \"S1\", \"S1\", \"S1\", \"S1\", \"S1\", \"S1\", \"S1\", \"S1\", \"S1\", \"S1\", \"S1\", \"S1\", \"S1\", \"S1\", \"S1\", \"S1\", \"S1\", \"S1\", \"S1\", \"S1\", \"S1\", \"S1\", \"S1\", \"S1\", \"S1\", \"S1\", \"S1\", \"S1\", \"S1\", \"S1\", \"S1\", \"S1\", \"S1\", \"S1\", \"S1\", \"S1\", \"S1\", \"S1\", \"S1\", \"S1\", \"S1\", \"S1\", \"S1\", \"S1\", \"S1\", \"S1\", \"S1\", \"S1\", \"S1\", \"S1\", \"S1\", \"S1\", \"S1\", \"S1\", \"S1\", \"S1\", \"S1\", \"S1\", \"S1\", \"S1\", \"S1\", \"S1\", \"S1\", \"S1\", \"S1\", \"S1\", \"S1\", \"S1\", \"S1\", \"S1\", \"S1\", \"S1\", \"S1\", \"S1\", \"S1\", \"S1\", \"S1\", \"S1\", \"S1\", \"S1\", \"S1\", \"S1\", \"S1\", \"S1\", \"S1\", \"S1\", \"S1\", \"S1\", \"S1\", \"S1\", \"S1\", \"S1\", \"S1\", \"S1\", \"S1\", \"S1\", \"S1\", \"S1\", \"S1\", \"S1\", \"S1\", \"S1\", \"S1\", \"S1\", \"S1\", \"S1\", \"S1\", \"S1\", \"S1\", \"S1\", \"S1\", \"S1\", \"S1\", \"S1\", \"S1\", \"S1\", \"S1\", \"S1\", \"S1\", \"S1\", \"S1\", \"S1\", \"S1\", \"S1\", \"S1\", \"S1\", \"S1\", \"S1\", \"S1\", \"S1\", \"S1\", \"S1\", \"S1\", \"S1\", \"S1\", \"S1\", \"S1\", \"S1\", \"S1\", \"S1\", \"S1\", \"S1\", \"S1\", \"S1\", \"S1\", \"S1\", \"S1\", \"S1\", \"S1\", \"S1\", \"S1\", \"S1\", \"S1\", \"S1\", \"S1\", \"S1\", \"S1\", \"S1\", \"S1\", \"S1\", \"S1\", \"S1\", \"S1\", \"S1\", \"S1\", \"S1\", \"S1\", \"S1\", \"S1\", \"S1\", \"S1\", \"S1\", \"S1\", \"S1\", \"S1\", \"S1\", \"S1\", \"S1\", \"S1\", \"S1\", \"S1\", \"S1\", \"S1\", \"S1\", \"S1\", \"S1\", \"S1\", \"S1\", \"S1\", \"S1\", \"S1\", \"S1\", \"S1\", \"S1\", \"S1\", \"S1\", \"S1\", \"S1\", \"S1\", \"S1\", \"S1\", \"S1\", \"S1\", \"S1\", \"S1\", \"S1\", \"S1\", \"S1\", \"S1\", \"S1\", \"S1\", \"S1\", \"S1\", \"S1\", \"S1\", \"S1\", \"S1\", \"S1\", \"S1\", \"S1\", \"S1\", \"S1\", \"S1\", \"S1\", \"S1\", \"S1\", \"S1\", \"S1\", \"S1\", \"S1\", \"S1\", \"S1\", \"S1\", \"S1\", \"S1\", \"S1\", \"S1\", \"S1\", \"S1\", \"S1\", \"S1\", \"S1\", \"S1\", \"S1\", \"S1\", \"S1\", \"S2\", \"S2\", \"S2\", \"S2\", \"S2\", \"S2\", \"S2\", \"S2\", \"S2\", \"S2\", \"S2\", \"S2\", \"S2\", \"S2\", \"S2\", \"S2\", \"S2\", \"S2\", \"S2\", \"S2\", \"S2\", \"S2\", \"S2\", \"S2\", \"S2\", \"S2\", \"S2\", \"S2\", \"S2\", \"S2\", \"S2\", \"S2\", \"S2\", \"S2\", \"S2\", \"S2\", \"S2\", \"S2\", \"S2\", \"S2\", \"S2\", \"S2\", \"S2\", \"S2\", \"S2\", \"S2\", \"S2\", \"S2\", \"S2\", \"S2\", \"S2\", \"S2\", \"S2\", \"S2\", \"S2\", \"S2\", \"S2\", \"S2\", \"S2\", \"S2\", \"S2\", \"S2\", \"S2\", \"S2\", \"S2\", \"S2\", \"S2\", \"S2\", \"S2\", \"S2\", \"S2\", \"S2\", \"S2\", \"S2\", \"S2\", \"S2\", \"S2\", \"S2\", \"S2\", \"S2\", \"S2\", \"S2\", \"S2\", \"S2\", \"S2\", \"S2\", \"S2\", \"S2\", \"S2\", \"S2\", \"S2\", \"S2\", \"S2\", \"S2\", \"S2\", \"S2\", \"S2\", \"S2\", \"S2\", \"S2\", \"S2\", \"S2\", \"S2\", \"S2\", \"S2\", \"S2\", \"S2\", \"S2\", \"S2\", \"S2\", \"S2\", \"S2\", \"S2\", \"S2\", \"S2\", \"S2\", \"S2\", \"S2\", \"S2\", \"S2\", \"S2\", \"S2\", \"S2\", \"S2\", \"S2\", \"S2\", \"S2\", \"S2\", \"S2\", \"S2\", \"S2\", \"S2\", \"S2\", \"S2\", \"S2\", \"S2\", \"S2\", \"S2\", \"S2\", \"S2\", \"S2\", \"S2\", \"S2\", \"S2\", \"S2\", \"S2\", \"S2\", \"S2\", \"S2\", \"S2\", \"S2\", \"S2\", \"S2\", \"S2\", \"S2\", \"S2\", \"S2\", \"S2\", \"S2\", \"S2\", \"S2\", \"S2\", \"S2\", \"S2\", \"S2\", \"S2\", \"S2\", \"S2\", \"S2\", \"S2\", \"S2\", \"S2\", \"S2\", \"S2\", \"S2\", \"S2\", \"S2\", \"S2\", \"S2\", \"S2\", \"S2\", \"S2\", \"S2\", \"S2\", \"S2\", \"S2\", \"S2\", \"S2\", \"S2\", \"S2\", \"S2\", \"S2\", \"S2\", \"S2\", \"S2\", \"S2\", \"S2\", \"S2\", \"S2\", \"S2\", \"S2\", \"S2\", \"S2\", \"S2\", \"S2\", \"S2\", \"S2\", \"S2\", \"S2\", \"S2\", \"S2\", \"S2\", \"S2\", \"S2\", \"S2\", \"S2\", \"S2\", \"S2\", \"S2\", \"S2\", \"S2\", \"S2\", \"S2\", \"S2\", \"S2\", \"S2\", \"S2\", \"S2\", \"S2\", \"S2\", \"S2\", \"S2\", \"S2\", \"S2\", \"S2\", \"S2\", \"S2\", \"S2\", \"S2\", \"S2\", \"S2\", \"S2\", \"S2\", \"S2\", \"S2\", \"S2\", \"S2\", \"S2\", \"S2\", \"S2\", \"S2\", \"S2\", \"S2\", \"S2\", \"S2\", \"S2\", \"S2\", \"S2\", \"S2\", \"S2\", \"S2\", \"S2\", \"S2\", \"S2\", \"S2\", \"S2\", \"S2\", \"S2\", \"S2\", \"S2\", \"S2\", \"S2\", \"S2\", \"S2\", \"S2\", \"S2\", \"S2\", \"S2\", \"S3\", \"S3\", \"S3\", \"S3\", \"S3\", \"S3\", \"S3\", \"S3\", \"S3\", \"S3\", \"S3\", \"S3\", \"S3\", \"S3\", \"S3\", \"S3\", \"S3\", \"S3\", \"S3\", \"S3\", \"S3\", \"S3\", \"S3\", \"S3\", \"S3\", \"S3\", \"S3\", \"S3\", \"S3\", \"S3\", \"S3\", \"S3\", \"S3\", \"S3\", \"S3\", \"S3\", \"S3\", \"S3\", \"S3\", \"S3\", \"S3\", \"S3\", \"S3\", \"S3\", \"S3\", \"S3\", \"S3\", \"S3\", \"S3\", \"S3\", \"S3\", \"S3\", \"S3\", \"S3\", \"S3\", \"S3\", \"S3\", \"S3\", \"S3\", \"S3\", \"S3\", \"S3\", \"S3\", \"S3\", \"S3\", \"S3\", \"S3\", \"S3\", \"S3\", \"S3\", \"S3\", \"S3\", \"S3\", \"S3\", \"S3\", \"S3\", \"S3\", \"S3\", \"S3\", \"S3\", \"S3\", \"S3\", \"S3\", \"S3\", \"S3\", \"S3\", \"S3\", \"S3\", \"S3\", \"S3\", \"S3\", \"S3\", \"S3\", \"S3\", \"S3\", \"S3\", \"S3\", \"S3\", \"S3\", \"S3\", \"S3\", \"S3\", \"S3\", \"S3\", \"S3\", \"S3\", \"S3\", \"S3\", \"S3\", \"S3\", \"S3\", \"S3\", \"S3\", \"S3\", \"S3\", \"S3\", \"S3\", \"S3\", \"S3\", \"S3\", \"S3\", \"S3\", \"S3\", \"S3\", \"S3\", \"S3\", \"S3\", \"S3\", \"S3\", \"S3\", \"S3\", \"S3\", \"S3\", \"S3\", \"S3\", \"S3\", \"S3\", \"S3\", \"S3\", \"S3\", \"S3\", \"S3\", \"S3\", \"S3\", \"S3\", \"S3\", \"S3\", \"S3\", \"S3\", \"S3\", \"S3\", \"S3\", \"S3\", \"S3\", \"S3\", \"S3\", \"S3\", \"S3\", \"S3\", \"S3\", \"S3\", \"S3\", \"S3\", \"S3\", \"S3\", \"S3\", \"S3\", \"S3\", \"S3\", \"S3\", \"S3\", \"S3\", \"S3\", \"S3\", \"S3\", \"S3\", \"S3\", \"S3\", \"S3\", \"S3\", \"S3\", \"S3\", \"S3\", \"S3\", \"S3\", \"S3\", \"S3\", \"S3\", \"S3\", \"S3\", \"S3\", \"S3\", \"S3\", \"S3\", \"S3\", \"S3\", \"S3\", \"S3\", \"S3\", \"S3\", \"S3\", \"S3\", \"S3\", \"S3\", \"S3\", \"S3\", \"S3\", \"S3\", \"S3\", \"S3\", \"S3\", \"S3\", \"S3\", \"S3\", \"S3\", \"S3\", \"S3\", \"S3\", \"S3\", \"S3\", \"S3\", \"S3\", \"S3\", \"S3\", \"S3\", \"S3\", \"S3\", \"S3\", \"S3\", \"S3\", \"S3\", \"S3\", \"S3\", \"S3\", \"S3\", \"S3\", \"S3\", \"S3\", \"S3\", \"S3\", \"S3\", \"S3\", \"S3\", \"S3\", \"S3\", \"S3\", \"S3\", \"S3\", \"S3\", \"S3\", \"S3\", \"S3\", \"S3\", \"S3\", \"S3\", \"S3\", \"S3\", \"S3\", \"S3\", \"S3\", \"S3\", \"S3\", \"S3\", \"S3\", \"S3\", \"S3\", \"S3\", \"S3\", \"S3\", \"S3\", \"S3\", \"S3\", \"S3\", \"S3\", \"S3\", \"S3\", \"S3\", \"S3\"], \"x0\": \" \", \"xaxis\": \"x\", \"y\": [\"39.232\", \"38.885\", \"42.113\", \"36.637\", \"36.357\", \"38.522\", \"40.012\", \"39.164\", \"40.244\", \"40.152\", \"40.061\", \"40.466\", \"41.134\", \"41.859\", \"45.550\", \"45.140\", \"45.658\", \"44.667\", \"45.880\", \"45.538\", \"46.006\", \"45.431\", \"46.150\", \"46.940\", \"47.116\", \"47.915\", \"46.977\", \"44.034\", \"43.613\", \"43.425\", \"45.179\", \"46.942\", \"48.911\", \"49.160\", \"46.451\", \"1:08.404\", \"1:12.000\", \"1:11.924\", \"1:02.768\", \"58.856\", \"57.233\", \"52.531\", \"39.730\", \"42.639\", \"1:49.105\", \"1:29.029\", \"1:01.889\", \"50.222\", \"52.266\", \"51.441\", \"53.526\", \"53.655\", \"52.578\", \"48.401\", \"47.029\", \"46.158\", \"46.836\", \"46.729\", \"46.490\", \"46.232\", \"45.176\", \"45.820\", \"45.341\", \"45.527\", \"45.241\", \"44.947\", \"43.561\", \"43.607\", \"43.198\", \"43.238\", \"1:24.172\", \"43.802\", \"44.090\", \"52.065\", \"43.250\", \"43.173\", \"43.362\", \"1:12.236\", \"1:39.333\", \"46.120\", \"38.646\", \"41.305\", \"45.128\", \"43.978\", \"36.977\", \"37.704\", \"36.637\", \"37.336\", \"34.822\", \"35.134\", \"41.068\", \"40.695\", \"41.523\", \"35.789\", \"39.689\", \"33.402\", \"36.841\", \"34.182\", \"39.298\", \"38.958\", \"38.791\", \"39.190\", \"35.980\", \"39.035\", \"39.060\", \"38.771\", \"39.103\", \"35.472\", \"32.953\", \"39.886\", \"39.599\", \"37.051\", \"36.037\", \"44.264\", \"1:12.795\", \"1:35.661\", \"1:42.111\", \"42.374\", \"36.288\", \"40.542\", \"39.075\", \"38.867\", \"32.707\", \"35.594\", \"39.002\", \"34.158\", \"2:53.814\", \"32.893\", \"36.526\", \"1:29.268\", \"41.493\", \"35.764\", \"34.283\", \"36.096\", \"35.946\", \"3:35.382\", \"35.670\", \"36.097\", \"35.905\", \"34.467\", \"44.899\", \"36.141\", \"34.281\", \"32.868\", \"39.542\", \"34.618\", \"39.970\", \"36.463\", \"40.147\", \"36.349\", \"38.957\", \"39.128\", \"39.478\", \"39.993\", \"38.881\", \"39.222\", \"39.157\", \"38.996\", \"39.603\", \"40.511\", \"40.943\", \"35.544\", \"40.661\", \"35.166\", \"39.169\", \"39.580\", \"38.779\", \"39.142\", \"35.798\", \"34.833\", \"35.288\", \"35.176\", \"39.793\", \"39.824\", \"39.964\", \"40.814\", \"41.682\", \"47.031\", \"42.633\", \"51.895\", \"40.874\", \"40.403\", \"43.661\", \"44.783\", \"42.393\", \"45.125\", \"44.031\", \"43.205\", \"40.342\", \"43.491\", \"47.654\", \"48.434\", \"47.460\", \"47.023\", \"44.417\", \"44.652\", \"46.714\", \"46.712\", \"47.606\", \"47.775\", \"47.399\", \"48.262\", \"50.157\", \"40.656\", \"43.541\", \"42.857\", \"43.039\", \"42.807\", \"42.539\", \"38.312\", \"37.400\", \"37.661\", \"38.736\", \"35.521\", \"42.035\", \"39.595\", \"43.068\", \"35.643\", \"41.278\", \"39.029\", \"41.387\", \"39.349\", \"41.416\", \"44.225\", \"41.436\", \"45.723\", \"38.866\", \"45.098\", \"44.241\", \"47.362\", \"43.309\", \"44.760\", \"46.435\", \"42.667\", \"44.156\", \"40.037\", \"59.956\", \"1:02.681\", \"1:02.711\", \"1:09.867\", \"50.806\", \"51.101\", \"54.649\", \"55.285\", \"55.331\", \"1:00.162\", \"57.600\", \"46.924\", \"45.040\", \"43.470\", \"46.652\", \"41.990\", \"43.848\", \"39.180\", \"38.298\", \"39.725\", \"38.667\", \"38.927\", \"35.750\", \"41.978\", \"38.193\", \"43.020\", \"43.489\", \"40.853\", \"36.616\", \"42.556\", \"43.559\", \"43.316\", \"43.828\", \"40.768\", \"56.651\", \"50.660\", \"55.610\", \"1:04.800\", \"1:05.673\", \"1:02.743\", \"1:00.195\", \"1:05.367\", \"1:02.685\", \"1:03.277\", \"1:06.298\", \"57.067\", \"56.361\", \"55.715\", \"55.696\", \"57.786\", \"57.206\", \"57.900\", \"58.515\", \"59.490\", \"58.879\", \"1:04.500\", \"1:05.870\", \"1:06.333\", \"1:05.386\", \"1:06.589\", \"1:06.255\", \"1:06.912\", \"1:09.093\", \"1:08.260\", \"1:11.666\", \"1:11.916\", \"1:12.734\", \"1:12.537\", \"1:10.741\", \"1:13.072\", \"1:12.563\", \"1:14.681\", \"1:15.963\", \"1:23.992\", \"1:26.888\", \"1:27.168\", \"1:20.830\", \"1:28.191\", \"1:27.182\", \"1:24.374\", \"1:23.780\", \"1:20.116\", \"1:24.957\", \"1:25.505\", \"1:10.675\", \"1:14.595\", \"1:40.115\", \"1:53.144\", \"1:13.990\", \"1:23.177\", \"1:22.602\", \"1:22.895\", \"1:20.718\", \"1:20.193\", \"1:21.262\", \"1:21.472\", \"1:20.816\", \"1:20.457\", \"1:19.763\", \"1:19.839\", \"1:20.013\", \"1:19.656\", \"1:19.431\", \"1:18.943\", \"1:19.140\", \"1:18.942\", \"1:18.867\", \"1:19.240\", \"1:18.617\", \"1:18.488\", \"1:17.590\", \"1:18.078\", \"1:10.349\", \"1:14.742\", \"1:14.687\", \"1:21.467\", \"1:13.510\", \"1:12.990\", \"1:13.235\", \"1:11.244\", \"1:19.932\", \"1:17.370\", \"1:04.159\", \"1:09.546\", \"1:13.834\", \"1:15.570\", \"1:01.821\", \"1:00.681\", \"59.301\", \"1:04.223\", \"56.660\", \"59.540\", \"1:08.429\", \"1:08.490\", \"1:05.202\", \"57.631\", \"1:05.819\", \"55.979\", \"1:00.112\", \"57.026\", \"1:03.800\", \"1:03.561\", \"1:03.536\", \"1:02.842\", \"59.125\", \"1:03.459\", \"1:02.872\", \"1:02.995\", \"1:12.651\", \"1:07.911\", \"1:16.012\", \"1:52.240\", \"1:51.747\", \"2:01.552\", \"2:03.075\", \"2:07.762\", \"2:08.911\", \"2:07.174\", \"2:08.337\", \"11:37.235\", \"59.780\", \"1:08.615\", \"1:36.758\", \"1:03.945\", \"55.695\", \"56.515\", \"1:02.720\", \"54.972\", \"1:00.677\", \"1:29.749\", \"2:04.624\", \"2:07.146\", \"1:08.951\", \"1:07.447\", \"54.477\", \"56.939\", \"1:00.552\", \"1:06.788\", \"56.336\", \"57.975\", \"57.359\", \"54.359\", \"1:05.037\", \"59.841\", \"56.023\", \"56.152\", \"1:03.998\", \"55.202\", \"1:04.146\", \"59.769\", \"1:05.957\", \"1:00.932\", \"1:02.956\", \"1:03.643\", \"1:04.472\", \"1:04.785\", \"1:03.125\", \"1:03.873\", \"1:03.373\", \"1:04.547\", \"1:03.941\", \"1:06.124\", \"1:06.222\", \"57.970\", \"1:05.126\", \"56.311\", \"1:04.623\", \"1:03.199\", \"1:03.637\", \"1:03.578\", \"59.613\", \"57.508\", \"57.915\", \"57.321\", \"1:03.606\", \"1:03.150\", \"1:03.980\", \"1:05.431\", \"1:07.086\", \"1:07.937\", \"1:08.090\", \"1:07.992\", \"1:07.460\", \"1:04.132\", \"1:11.343\", \"1:11.937\", \"1:10.712\", \"1:10.404\", \"1:10.525\", \"1:11.443\", \"1:11.560\", \"1:10.528\", \"1:23.890\", \"1:24.220\", \"1:24.167\", \"1:26.598\", \"1:16.139\", \"1:19.830\", \"1:24.938\", \"1:24.432\", \"1:25.868\", \"1:24.320\", \"1:20.728\", \"1:26.860\", \"1:33.371\", \"1:12.484\", \"1:14.806\", \"1:15.630\", \"1:14.363\", \"1:14.239\", \"1:15.465\", \"1:04.773\", \"1:05.599\", \"1:01.666\", \"1:08.222\", \"1:04.588\", \"1:11.121\", \"1:14.898\", \"1:16.618\", \"1:05.120\", \"1:07.507\", \"1:10.846\", \"1:14.565\", \"1:05.444\", \"1:15.122\", \"1:20.516\", \"1:12.335\", \"1:13.711\", \"1:07.091\", \"1:15.626\", \"1:18.283\", \"1:25.562\", \"1:17.244\", \"1:20.611\", \"1:25.176\", \"1:15.418\", \"1:18.536\", \"1:12.068\", \"1:38.547\", \"1:33.906\", \"1:33.742\", \"1:33.229\", \"1:31.027\", \"1:30.826\", \"1:35.202\", \"1:34.785\", \"1:27.503\", \"1:25.347\", \"1:28.498\", \"1:26.542\", \"1:21.011\", \"1:16.365\", \"1:24.339\", \"1:14.200\", \"1:15.158\", \"1:12.139\", \"1:10.443\", \"1:12.916\", \"1:09.854\", \"1:09.680\", \"1:07.513\", \"1:12.311\", \"1:08.080\", \"1:13.782\", \"1:14.683\", \"1:12.211\", \"1:09.832\", \"1:13.252\", \"1:15.405\", \"1:15.261\", \"1:17.284\", \"1:13.256\", \"2:01.794\", \"1:29.070\", \"1:31.589\", \"1:32.170\", \"1:33.873\", \"1:33.892\", \"1:33.154\", \"1:33.750\", \"41.336\", \"41.239\", \"45.586\", \"40.657\", \"41.186\", \"40.539\", \"41.570\", \"40.428\", \"42.037\", \"41.648\", \"42.248\", \"42.966\", \"42.738\", \"48.977\", \"47.153\", \"46.911\", \"48.801\", \"47.385\", \"47.760\", \"47.490\", \"48.613\", \"49.761\", \"49.626\", \"50.700\", \"54.049\", \"56.113\", \"1:26.843\", \"45.806\", \"47.012\", \"46.890\", \"47.846\", \"52.425\", \"53.747\", \"54.178\", \"47.430\", \"1:01.027\", \"58.682\", \"58.810\", \"57.562\", \"58.333\", \"1:57.828\", \"58.239\", \"43.879\", \"45.635\", \"1:00.943\", \"53.253\", \"49.830\", \"52.602\", \"50.796\", \"50.345\", \"49.693\", \"50.140\", \"48.489\", \"47.790\", \"47.739\", \"50.761\", \"50.771\", \"51.069\", \"51.309\", \"50.573\", \"50.960\", \"50.464\", \"50.544\", \"50.469\", \"50.615\", \"50.622\", \"50.607\", \"51.056\", \"50.791\", \"50.007\", \"47.040\", \"47.407\", \"46.969\", \"50.390\", \"51.213\", \"46.715\", \"48.697\", \"45.091\", \"46.385\", \"51.425\", \"41.079\", \"43.681\", \"1:21.491\", \"48.437\", \"39.810\", \"39.021\", \"40.083\", \"40.566\", \"38.797\", \"38.108\", \"44.972\", \"43.398\", \"42.061\", \"38.865\", \"43.293\", \"36.033\", \"42.746\", \"39.079\", \"42.472\", \"43.215\", \"43.314\", \"53.229\", \"1:07.266\", \"1:07.934\", \"1:18.690\", \"1:22.041\", \"1:28.146\", \"1:29.138\", \"1:28.664\", \"1:29.972\", \"1:29.472\", \"1:29.053\", \"1:28.345\", \"1:30.090\", \"1:29.069\", \"1:29.231\", \"1:30.443\", \"50.062\", \"40.004\", \"51.527\", \"1:04.632\", \"41.365\", \"36.608\", \"41.596\", \"56.141\", \"1:03.848\", \"1:26.891\", \"1:28.548\", \"1:32.265\", \"1:28.754\", \"1:32.507\", \"43.030\", \"37.337\", \"39.005\", \"39.490\", \"45.466\", \"39.001\", \"39.356\", \"38.974\", \"37.048\", \"42.360\", \"39.044\", \"37.972\", \"36.756\", \"41.539\", \"38.032\", \"42.673\", \"39.607\", \"42.696\", \"40.245\", \"41.424\", \"41.388\", \"42.162\", \"43.262\", \"41.461\", \"41.114\", \"40.867\", \"42.117\", \"41.821\", \"43.332\", \"43.702\", \"40.368\", \"44.050\", \"37.603\", \"41.530\", \"42.235\", \"40.999\", \"41.664\", \"38.415\", \"39.734\", \"41.796\", \"41.435\", \"46.400\", \"46.990\", \"46.836\", \"47.415\", \"49.565\", \"50.539\", \"53.123\", \"50.096\", \"50.272\", \"48.373\", \"53.131\", \"51.027\", \"53.441\", \"51.035\", \"53.522\", \"55.165\", \"52.715\", \"53.524\", \"58.697\", \"52.966\", \"53.725\", \"56.228\", \"47.852\", \"49.656\", \"53.303\", \"52.482\", \"52.414\", \"53.329\", \"1:49.640\", \"53.681\", \"55.183\", \"43.989\", \"46.065\", \"46.646\", \"46.715\", \"45.224\", \"45.359\", \"41.930\", \"40.725\", \"41.416\", \"43.788\", \"41.546\", \"49.617\", \"46.378\", \"47.381\", \"42.231\", \"47.201\", \"43.706\", \"46.624\", \"43.555\", \"46.782\", \"1:28.976\", \"45.977\", \"49.896\", \"41.857\", \"48.106\", \"47.653\", \"53.236\", \"50.132\", \"49.128\", \"50.639\", \"45.678\", \"46.787\", \"46.360\", \"1:02.983\", \"1:06.204\", \"1:05.554\", \"58.825\", \"55.127\", \"55.531\", \"1:01.645\", \"1:01.333\", \"1:02.855\", \"59.477\", \"1:01.423\", \"53.783\", \"49.057\", \"46.210\", \"51.551\", \"45.207\", \"47.040\", \"44.480\", \"45.685\", \"42.774\", \"43.771\", \"42.378\", \"41.032\", \"45.843\", \"41.669\", \"45.607\", \"49.498\", \"44.486\", \"44.259\", \"45.183\", \"47.393\", \"47.542\", \"50.015\", \"46.090\", \"1:34.655\", \"1:16.183\", \"1:00.934\", \"1:02.218\", \"1:01.189\", \"1:02.652\", \"1:05.678\", \"1:40.836\"], \"y0\": \" \", \"yaxis\": \"y\"}],\n",
       "                        {\"boxmode\": \"group\", \"height\": 600, \"legend\": {\"tracegroupgap\": 0}, \"margin\": {\"t\": 60}, \"template\": {\"data\": {\"bar\": [{\"error_x\": {\"color\": \"#2a3f5f\"}, \"error_y\": {\"color\": \"#2a3f5f\"}, \"marker\": {\"line\": {\"color\": \"#E5ECF6\", \"width\": 0.5}}, \"type\": \"bar\"}], \"barpolar\": [{\"marker\": {\"line\": {\"color\": \"#E5ECF6\", \"width\": 0.5}}, \"type\": \"barpolar\"}], \"carpet\": [{\"aaxis\": {\"endlinecolor\": \"#2a3f5f\", \"gridcolor\": \"white\", \"linecolor\": \"white\", \"minorgridcolor\": \"white\", \"startlinecolor\": \"#2a3f5f\"}, \"baxis\": {\"endlinecolor\": \"#2a3f5f\", \"gridcolor\": \"white\", \"linecolor\": \"white\", \"minorgridcolor\": \"white\", \"startlinecolor\": \"#2a3f5f\"}, \"type\": \"carpet\"}], \"choropleth\": [{\"colorbar\": {\"outlinewidth\": 0, \"ticks\": \"\"}, \"type\": \"choropleth\"}], \"contour\": [{\"colorbar\": {\"outlinewidth\": 0, \"ticks\": \"\"}, \"colorscale\": [[0.0, \"#0d0887\"], [0.1111111111111111, \"#46039f\"], [0.2222222222222222, \"#7201a8\"], [0.3333333333333333, \"#9c179e\"], [0.4444444444444444, \"#bd3786\"], [0.5555555555555556, \"#d8576b\"], [0.6666666666666666, \"#ed7953\"], [0.7777777777777778, \"#fb9f3a\"], [0.8888888888888888, \"#fdca26\"], [1.0, \"#f0f921\"]], \"type\": \"contour\"}], \"contourcarpet\": [{\"colorbar\": {\"outlinewidth\": 0, \"ticks\": \"\"}, \"type\": \"contourcarpet\"}], \"heatmap\": [{\"colorbar\": {\"outlinewidth\": 0, \"ticks\": \"\"}, \"colorscale\": [[0.0, \"#0d0887\"], [0.1111111111111111, \"#46039f\"], [0.2222222222222222, \"#7201a8\"], [0.3333333333333333, \"#9c179e\"], [0.4444444444444444, \"#bd3786\"], [0.5555555555555556, \"#d8576b\"], [0.6666666666666666, \"#ed7953\"], [0.7777777777777778, \"#fb9f3a\"], [0.8888888888888888, \"#fdca26\"], [1.0, \"#f0f921\"]], \"type\": \"heatmap\"}], \"heatmapgl\": [{\"colorbar\": {\"outlinewidth\": 0, \"ticks\": \"\"}, \"colorscale\": [[0.0, \"#0d0887\"], [0.1111111111111111, \"#46039f\"], [0.2222222222222222, \"#7201a8\"], [0.3333333333333333, \"#9c179e\"], [0.4444444444444444, \"#bd3786\"], [0.5555555555555556, \"#d8576b\"], [0.6666666666666666, \"#ed7953\"], [0.7777777777777778, \"#fb9f3a\"], [0.8888888888888888, \"#fdca26\"], [1.0, \"#f0f921\"]], \"type\": \"heatmapgl\"}], \"histogram\": [{\"marker\": {\"colorbar\": {\"outlinewidth\": 0, \"ticks\": \"\"}}, \"type\": \"histogram\"}], \"histogram2d\": [{\"colorbar\": {\"outlinewidth\": 0, \"ticks\": \"\"}, \"colorscale\": [[0.0, \"#0d0887\"], [0.1111111111111111, \"#46039f\"], [0.2222222222222222, \"#7201a8\"], [0.3333333333333333, \"#9c179e\"], [0.4444444444444444, \"#bd3786\"], [0.5555555555555556, \"#d8576b\"], [0.6666666666666666, \"#ed7953\"], [0.7777777777777778, \"#fb9f3a\"], [0.8888888888888888, \"#fdca26\"], [1.0, \"#f0f921\"]], \"type\": \"histogram2d\"}], \"histogram2dcontour\": [{\"colorbar\": {\"outlinewidth\": 0, \"ticks\": \"\"}, \"colorscale\": [[0.0, \"#0d0887\"], [0.1111111111111111, \"#46039f\"], [0.2222222222222222, \"#7201a8\"], [0.3333333333333333, \"#9c179e\"], [0.4444444444444444, \"#bd3786\"], [0.5555555555555556, \"#d8576b\"], [0.6666666666666666, \"#ed7953\"], [0.7777777777777778, \"#fb9f3a\"], [0.8888888888888888, \"#fdca26\"], [1.0, \"#f0f921\"]], \"type\": \"histogram2dcontour\"}], \"mesh3d\": [{\"colorbar\": {\"outlinewidth\": 0, \"ticks\": \"\"}, \"type\": \"mesh3d\"}], \"parcoords\": [{\"line\": {\"colorbar\": {\"outlinewidth\": 0, \"ticks\": \"\"}}, \"type\": \"parcoords\"}], \"scatter\": [{\"marker\": {\"colorbar\": {\"outlinewidth\": 0, \"ticks\": \"\"}}, \"type\": \"scatter\"}], \"scatter3d\": [{\"line\": {\"colorbar\": {\"outlinewidth\": 0, \"ticks\": \"\"}}, \"marker\": {\"colorbar\": {\"outlinewidth\": 0, \"ticks\": \"\"}}, \"type\": \"scatter3d\"}], \"scattercarpet\": [{\"marker\": {\"colorbar\": {\"outlinewidth\": 0, \"ticks\": \"\"}}, \"type\": \"scattercarpet\"}], \"scattergeo\": [{\"marker\": {\"colorbar\": {\"outlinewidth\": 0, \"ticks\": \"\"}}, \"type\": \"scattergeo\"}], \"scattergl\": [{\"marker\": {\"colorbar\": {\"outlinewidth\": 0, \"ticks\": \"\"}}, \"type\": \"scattergl\"}], \"scattermapbox\": [{\"marker\": {\"colorbar\": {\"outlinewidth\": 0, \"ticks\": \"\"}}, \"type\": \"scattermapbox\"}], \"scatterpolar\": [{\"marker\": {\"colorbar\": {\"outlinewidth\": 0, \"ticks\": \"\"}}, \"type\": \"scatterpolar\"}], \"scatterpolargl\": [{\"marker\": {\"colorbar\": {\"outlinewidth\": 0, \"ticks\": \"\"}}, \"type\": \"scatterpolargl\"}], \"scatterternary\": [{\"marker\": {\"colorbar\": {\"outlinewidth\": 0, \"ticks\": \"\"}}, \"type\": \"scatterternary\"}], \"surface\": [{\"colorbar\": {\"outlinewidth\": 0, \"ticks\": \"\"}, \"colorscale\": [[0.0, \"#0d0887\"], [0.1111111111111111, \"#46039f\"], [0.2222222222222222, \"#7201a8\"], [0.3333333333333333, \"#9c179e\"], [0.4444444444444444, \"#bd3786\"], [0.5555555555555556, \"#d8576b\"], [0.6666666666666666, \"#ed7953\"], [0.7777777777777778, \"#fb9f3a\"], [0.8888888888888888, \"#fdca26\"], [1.0, \"#f0f921\"]], \"type\": \"surface\"}], \"table\": [{\"cells\": {\"fill\": {\"color\": \"#EBF0F8\"}, \"line\": {\"color\": \"white\"}}, \"header\": {\"fill\": {\"color\": \"#C8D4E3\"}, \"line\": {\"color\": \"white\"}}, \"type\": \"table\"}]}, \"layout\": {\"annotationdefaults\": {\"arrowcolor\": \"#2a3f5f\", \"arrowhead\": 0, \"arrowwidth\": 1}, \"colorscale\": {\"diverging\": [[0, \"#8e0152\"], [0.1, \"#c51b7d\"], [0.2, \"#de77ae\"], [0.3, \"#f1b6da\"], [0.4, \"#fde0ef\"], [0.5, \"#f7f7f7\"], [0.6, \"#e6f5d0\"], [0.7, \"#b8e186\"], [0.8, \"#7fbc41\"], [0.9, \"#4d9221\"], [1, \"#276419\"]], \"sequential\": [[0.0, \"#0d0887\"], [0.1111111111111111, \"#46039f\"], [0.2222222222222222, \"#7201a8\"], [0.3333333333333333, \"#9c179e\"], [0.4444444444444444, \"#bd3786\"], [0.5555555555555556, \"#d8576b\"], [0.6666666666666666, \"#ed7953\"], [0.7777777777777778, \"#fb9f3a\"], [0.8888888888888888, \"#fdca26\"], [1.0, \"#f0f921\"]], \"sequentialminus\": [[0.0, \"#0d0887\"], [0.1111111111111111, \"#46039f\"], [0.2222222222222222, \"#7201a8\"], [0.3333333333333333, \"#9c179e\"], [0.4444444444444444, \"#bd3786\"], [0.5555555555555556, \"#d8576b\"], [0.6666666666666666, \"#ed7953\"], [0.7777777777777778, \"#fb9f3a\"], [0.8888888888888888, \"#fdca26\"], [1.0, \"#f0f921\"]]}, \"colorway\": [\"#636efa\", \"#EF553B\", \"#00cc96\", \"#ab63fa\", \"#FFA15A\", \"#19d3f3\", \"#FF6692\", \"#B6E880\", \"#FF97FF\", \"#FECB52\"], \"font\": {\"color\": \"#2a3f5f\"}, \"geo\": {\"bgcolor\": \"white\", \"lakecolor\": \"white\", \"landcolor\": \"#E5ECF6\", \"showlakes\": true, \"showland\": true, \"subunitcolor\": \"white\"}, \"hoverlabel\": {\"align\": \"left\"}, \"hovermode\": \"closest\", \"mapbox\": {\"style\": \"light\"}, \"paper_bgcolor\": \"white\", \"plot_bgcolor\": \"#E5ECF6\", \"polar\": {\"angularaxis\": {\"gridcolor\": \"white\", \"linecolor\": \"white\", \"ticks\": \"\"}, \"bgcolor\": \"#E5ECF6\", \"radialaxis\": {\"gridcolor\": \"white\", \"linecolor\": \"white\", \"ticks\": \"\"}}, \"scene\": {\"xaxis\": {\"backgroundcolor\": \"#E5ECF6\", \"gridcolor\": \"white\", \"gridwidth\": 2, \"linecolor\": \"white\", \"showbackground\": true, \"ticks\": \"\", \"zerolinecolor\": \"white\"}, \"yaxis\": {\"backgroundcolor\": \"#E5ECF6\", \"gridcolor\": \"white\", \"gridwidth\": 2, \"linecolor\": \"white\", \"showbackground\": true, \"ticks\": \"\", \"zerolinecolor\": \"white\"}, \"zaxis\": {\"backgroundcolor\": \"#E5ECF6\", \"gridcolor\": \"white\", \"gridwidth\": 2, \"linecolor\": \"white\", \"showbackground\": true, \"ticks\": \"\", \"zerolinecolor\": \"white\"}}, \"shapedefaults\": {\"line\": {\"color\": \"#2a3f5f\"}}, \"ternary\": {\"aaxis\": {\"gridcolor\": \"white\", \"linecolor\": \"white\", \"ticks\": \"\"}, \"baxis\": {\"gridcolor\": \"white\", \"linecolor\": \"white\", \"ticks\": \"\"}, \"bgcolor\": \"#E5ECF6\", \"caxis\": {\"gridcolor\": \"white\", \"linecolor\": \"white\", \"ticks\": \"\"}}, \"title\": {\"x\": 0.05}, \"xaxis\": {\"automargin\": true, \"gridcolor\": \"white\", \"linecolor\": \"white\", \"ticks\": \"\", \"zerolinecolor\": \"white\", \"zerolinewidth\": 2}, \"yaxis\": {\"automargin\": true, \"gridcolor\": \"white\", \"linecolor\": \"white\", \"ticks\": \"\", \"zerolinecolor\": \"white\", \"zerolinewidth\": 2}}}, \"xaxis\": {\"anchor\": \"y\", \"domain\": [0.0, 0.98], \"title\": {\"text\": \"variable\"}}, \"yaxis\": {\"anchor\": \"x\", \"domain\": [0.0, 1.0], \"title\": {\"text\": \"value\"}}},\n",
       "                        {\"responsive\": true}\n",
       "                    ).then(function(){\n",
       "                            \n",
       "var gd = document.getElementById('500ec05b-3fa4-44af-bdaa-15cb68e1e70c');\n",
       "var x = new MutationObserver(function (mutations, observer) {{\n",
       "        var display = window.getComputedStyle(gd).display;\n",
       "        if (!display || display === 'none') {{\n",
       "            console.log([gd, 'removed!']);\n",
       "            Plotly.purge(gd);\n",
       "            observer.disconnect();\n",
       "        }}\n",
       "}});\n",
       "\n",
       "// Listen for the removal of the full notebook cells\n",
       "var notebookContainer = gd.closest('#notebook-container');\n",
       "if (notebookContainer) {{\n",
       "    x.observe(notebookContainer, {childList: true});\n",
       "}}\n",
       "\n",
       "// Listen for the clearing of the current output cell\n",
       "var outputEl = gd.closest('.output');\n",
       "if (outputEl) {{\n",
       "    x.observe(outputEl, {childList: true});\n",
       "}}\n",
       "\n",
       "                        })\n",
       "                };\n",
       "                });\n",
       "            </script>\n",
       "        </div>"
      ]
     },
     "metadata": {},
     "output_type": "display_data"
    }
   ],
   "source": [
    "import plotly.express as px\n",
    "fig = px.box(pit_data[pit_data['LAP_TYPE']=='INLAP'][['LAP_TYPE','S1','S2','S3']].melt(id_vars='LAP_TYPE'),\n",
    "             x=\"variable\", y=\"value\")\n",
    "fig.show()"
   ]
  },
  {
   "cell_type": "markdown",
   "metadata": {},
   "source": [
    "How about the distribution on the outlap? We'd expect at least the first sector to have an elevated first sector time for a several reasons:\n",
    "\n",
    "- it is likely to include a pit stop time and pit lane exit loss time;\n",
    "- it make take time for the tyres to get up to speed."
   ]
  },
  {
   "cell_type": "code",
   "execution_count": 351,
   "metadata": {},
   "outputs": [
    {
     "data": {
      "application/vnd.plotly.v1+json": {
       "config": {
        "plotlyServerURL": "https://plot.ly"
       },
       "data": [
        {
         "alignmentgroup": "True",
         "hoverlabel": {
          "namelength": 0
         },
         "hovertemplate": "variable=%{x}<br>value=%{y}",
         "legendgroup": "",
         "marker": {
          "color": "#636efa"
         },
         "name": "",
         "notched": false,
         "offsetgroup": "",
         "orientation": "v",
         "showlegend": false,
         "type": "box",
         "x": [
          "S1",
          "S1",
          "S1",
          "S1",
          "S1",
          "S1",
          "S1",
          "S1",
          "S1",
          "S1",
          "S1",
          "S1",
          "S1",
          "S1",
          "S1",
          "S1",
          "S1",
          "S1",
          "S1",
          "S1",
          "S1",
          "S1",
          "S1",
          "S1",
          "S1",
          "S1",
          "S1",
          "S1",
          "S1",
          "S1",
          "S1",
          "S1",
          "S1",
          "S1",
          "S1",
          "S1",
          "S1",
          "S1",
          "S1",
          "S1",
          "S1",
          "S1",
          "S1",
          "S1",
          "S1",
          "S1",
          "S1",
          "S1",
          "S1",
          "S1",
          "S1",
          "S1",
          "S1",
          "S1",
          "S1",
          "S1",
          "S1",
          "S1",
          "S1",
          "S1",
          "S1",
          "S1",
          "S1",
          "S1",
          "S1",
          "S1",
          "S1",
          "S1",
          "S1",
          "S1",
          "S1",
          "S1",
          "S1",
          "S1",
          "S1",
          "S1",
          "S1",
          "S1",
          "S1",
          "S1",
          "S1",
          "S1",
          "S1",
          "S1",
          "S1",
          "S1",
          "S1",
          "S1",
          "S1",
          "S1",
          "S1",
          "S1",
          "S1",
          "S1",
          "S1",
          "S1",
          "S1",
          "S1",
          "S1",
          "S1",
          "S1",
          "S1",
          "S1",
          "S1",
          "S1",
          "S1",
          "S1",
          "S1",
          "S1",
          "S1",
          "S1",
          "S1",
          "S1",
          "S1",
          "S1",
          "S1",
          "S1",
          "S1",
          "S1",
          "S1",
          "S1",
          "S1",
          "S1",
          "S1",
          "S1",
          "S1",
          "S1",
          "S1",
          "S1",
          "S1",
          "S1",
          "S1",
          "S1",
          "S1",
          "S1",
          "S1",
          "S1",
          "S1",
          "S1",
          "S1",
          "S1",
          "S1",
          "S1",
          "S1",
          "S1",
          "S1",
          "S1",
          "S1",
          "S1",
          "S1",
          "S1",
          "S1",
          "S1",
          "S1",
          "S1",
          "S1",
          "S1",
          "S1",
          "S1",
          "S1",
          "S1",
          "S1",
          "S1",
          "S1",
          "S1",
          "S1",
          "S1",
          "S1",
          "S1",
          "S1",
          "S1",
          "S1",
          "S1",
          "S1",
          "S1",
          "S1",
          "S1",
          "S1",
          "S1",
          "S1",
          "S1",
          "S1",
          "S1",
          "S1",
          "S1",
          "S1",
          "S1",
          "S1",
          "S1",
          "S1",
          "S1",
          "S1",
          "S1",
          "S1",
          "S1",
          "S1",
          "S1",
          "S1",
          "S1",
          "S1",
          "S1",
          "S1",
          "S1",
          "S1",
          "S1",
          "S1",
          "S1",
          "S1",
          "S1",
          "S1",
          "S1",
          "S1",
          "S1",
          "S1",
          "S1",
          "S1",
          "S1",
          "S1",
          "S1",
          "S1",
          "S1",
          "S1",
          "S1",
          "S1",
          "S1",
          "S1",
          "S1",
          "S1",
          "S1",
          "S1",
          "S1",
          "S1",
          "S1",
          "S1",
          "S1",
          "S1",
          "S1",
          "S1",
          "S1",
          "S1",
          "S1",
          "S1",
          "S1",
          "S1",
          "S1",
          "S1",
          "S1",
          "S1",
          "S1",
          "S1",
          "S1",
          "S1",
          "S1",
          "S1",
          "S1",
          "S1",
          "S1",
          "S1",
          "S1",
          "S1",
          "S1",
          "S1",
          "S1",
          "S1",
          "S1",
          "S1",
          "S1",
          "S1",
          "S1",
          "S1",
          "S1",
          "S1",
          "S1",
          "S2",
          "S2",
          "S2",
          "S2",
          "S2",
          "S2",
          "S2",
          "S2",
          "S2",
          "S2",
          "S2",
          "S2",
          "S2",
          "S2",
          "S2",
          "S2",
          "S2",
          "S2",
          "S2",
          "S2",
          "S2",
          "S2",
          "S2",
          "S2",
          "S2",
          "S2",
          "S2",
          "S2",
          "S2",
          "S2",
          "S2",
          "S2",
          "S2",
          "S2",
          "S2",
          "S2",
          "S2",
          "S2",
          "S2",
          "S2",
          "S2",
          "S2",
          "S2",
          "S2",
          "S2",
          "S2",
          "S2",
          "S2",
          "S2",
          "S2",
          "S2",
          "S2",
          "S2",
          "S2",
          "S2",
          "S2",
          "S2",
          "S2",
          "S2",
          "S2",
          "S2",
          "S2",
          "S2",
          "S2",
          "S2",
          "S2",
          "S2",
          "S2",
          "S2",
          "S2",
          "S2",
          "S2",
          "S2",
          "S2",
          "S2",
          "S2",
          "S2",
          "S2",
          "S2",
          "S2",
          "S2",
          "S2",
          "S2",
          "S2",
          "S2",
          "S2",
          "S2",
          "S2",
          "S2",
          "S2",
          "S2",
          "S2",
          "S2",
          "S2",
          "S2",
          "S2",
          "S2",
          "S2",
          "S2",
          "S2",
          "S2",
          "S2",
          "S2",
          "S2",
          "S2",
          "S2",
          "S2",
          "S2",
          "S2",
          "S2",
          "S2",
          "S2",
          "S2",
          "S2",
          "S2",
          "S2",
          "S2",
          "S2",
          "S2",
          "S2",
          "S2",
          "S2",
          "S2",
          "S2",
          "S2",
          "S2",
          "S2",
          "S2",
          "S2",
          "S2",
          "S2",
          "S2",
          "S2",
          "S2",
          "S2",
          "S2",
          "S2",
          "S2",
          "S2",
          "S2",
          "S2",
          "S2",
          "S2",
          "S2",
          "S2",
          "S2",
          "S2",
          "S2",
          "S2",
          "S2",
          "S2",
          "S2",
          "S2",
          "S2",
          "S2",
          "S2",
          "S2",
          "S2",
          "S2",
          "S2",
          "S2",
          "S2",
          "S2",
          "S2",
          "S2",
          "S2",
          "S2",
          "S2",
          "S2",
          "S2",
          "S2",
          "S2",
          "S2",
          "S2",
          "S2",
          "S2",
          "S2",
          "S2",
          "S2",
          "S2",
          "S2",
          "S2",
          "S2",
          "S2",
          "S2",
          "S2",
          "S2",
          "S2",
          "S2",
          "S2",
          "S2",
          "S2",
          "S2",
          "S2",
          "S2",
          "S2",
          "S2",
          "S2",
          "S2",
          "S2",
          "S2",
          "S2",
          "S2",
          "S2",
          "S2",
          "S2",
          "S2",
          "S2",
          "S2",
          "S2",
          "S2",
          "S2",
          "S2",
          "S2",
          "S2",
          "S2",
          "S2",
          "S2",
          "S2",
          "S2",
          "S2",
          "S2",
          "S2",
          "S2",
          "S2",
          "S2",
          "S2",
          "S2",
          "S2",
          "S2",
          "S2",
          "S2",
          "S2",
          "S2",
          "S2",
          "S2",
          "S2",
          "S2",
          "S2",
          "S2",
          "S2",
          "S2",
          "S2",
          "S2",
          "S2",
          "S2",
          "S2",
          "S2",
          "S2",
          "S2",
          "S2",
          "S2",
          "S2",
          "S2",
          "S2",
          "S2",
          "S2",
          "S2",
          "S2",
          "S2",
          "S2",
          "S2",
          "S2",
          "S2",
          "S2",
          "S2",
          "S2",
          "S2",
          "S2",
          "S2",
          "S2",
          "S2",
          "S2",
          "S3",
          "S3",
          "S3",
          "S3",
          "S3",
          "S3",
          "S3",
          "S3",
          "S3",
          "S3",
          "S3",
          "S3",
          "S3",
          "S3",
          "S3",
          "S3",
          "S3",
          "S3",
          "S3",
          "S3",
          "S3",
          "S3",
          "S3",
          "S3",
          "S3",
          "S3",
          "S3",
          "S3",
          "S3",
          "S3",
          "S3",
          "S3",
          "S3",
          "S3",
          "S3",
          "S3",
          "S3",
          "S3",
          "S3",
          "S3",
          "S3",
          "S3",
          "S3",
          "S3",
          "S3",
          "S3",
          "S3",
          "S3",
          "S3",
          "S3",
          "S3",
          "S3",
          "S3",
          "S3",
          "S3",
          "S3",
          "S3",
          "S3",
          "S3",
          "S3",
          "S3",
          "S3",
          "S3",
          "S3",
          "S3",
          "S3",
          "S3",
          "S3",
          "S3",
          "S3",
          "S3",
          "S3",
          "S3",
          "S3",
          "S3",
          "S3",
          "S3",
          "S3",
          "S3",
          "S3",
          "S3",
          "S3",
          "S3",
          "S3",
          "S3",
          "S3",
          "S3",
          "S3",
          "S3",
          "S3",
          "S3",
          "S3",
          "S3",
          "S3",
          "S3",
          "S3",
          "S3",
          "S3",
          "S3",
          "S3",
          "S3",
          "S3",
          "S3",
          "S3",
          "S3",
          "S3",
          "S3",
          "S3",
          "S3",
          "S3",
          "S3",
          "S3",
          "S3",
          "S3",
          "S3",
          "S3",
          "S3",
          "S3",
          "S3",
          "S3",
          "S3",
          "S3",
          "S3",
          "S3",
          "S3",
          "S3",
          "S3",
          "S3",
          "S3",
          "S3",
          "S3",
          "S3",
          "S3",
          "S3",
          "S3",
          "S3",
          "S3",
          "S3",
          "S3",
          "S3",
          "S3",
          "S3",
          "S3",
          "S3",
          "S3",
          "S3",
          "S3",
          "S3",
          "S3",
          "S3",
          "S3",
          "S3",
          "S3",
          "S3",
          "S3",
          "S3",
          "S3",
          "S3",
          "S3",
          "S3",
          "S3",
          "S3",
          "S3",
          "S3",
          "S3",
          "S3",
          "S3",
          "S3",
          "S3",
          "S3",
          "S3",
          "S3",
          "S3",
          "S3",
          "S3",
          "S3",
          "S3",
          "S3",
          "S3",
          "S3",
          "S3",
          "S3",
          "S3",
          "S3",
          "S3",
          "S3",
          "S3",
          "S3",
          "S3",
          "S3",
          "S3",
          "S3",
          "S3",
          "S3",
          "S3",
          "S3",
          "S3",
          "S3",
          "S3",
          "S3",
          "S3",
          "S3",
          "S3",
          "S3",
          "S3",
          "S3",
          "S3",
          "S3",
          "S3",
          "S3",
          "S3",
          "S3",
          "S3",
          "S3",
          "S3",
          "S3",
          "S3",
          "S3",
          "S3",
          "S3",
          "S3",
          "S3",
          "S3",
          "S3",
          "S3",
          "S3",
          "S3",
          "S3",
          "S3",
          "S3",
          "S3",
          "S3",
          "S3",
          "S3",
          "S3",
          "S3",
          "S3",
          "S3",
          "S3",
          "S3",
          "S3",
          "S3",
          "S3",
          "S3",
          "S3",
          "S3",
          "S3",
          "S3",
          "S3",
          "S3",
          "S3",
          "S3",
          "S3",
          "S3",
          "S3",
          "S3",
          "S3",
          "S3",
          "S3",
          "S3",
          "S3",
          "S3",
          "S3",
          "S3",
          "S3",
          "S3",
          "S3",
          "S3",
          "S3",
          "S3",
          "S3",
          "S3",
          "S3"
         ],
         "x0": " ",
         "xaxis": "x",
         "y": [
          "1:18.890",
          "1:26.087",
          "1:15.549",
          "1:19.634",
          "2:15.258",
          "1:15.371",
          "1:33.311",
          "1:26.938",
          "1:20.196",
          "1:16.400",
          "1:29.232",
          "1:50.025",
          "1:50.444",
          "1:24.592",
          "1:18.164",
          "1:17.530",
          "1:22.402",
          "1:27.915",
          "1:33.475",
          "1:41.451",
          "1:21.943",
          "1:25.307",
          "1:18.492",
          "1:23.052",
          "1:23.058",
          "59.056",
          "1:26.068",
          "1:17.436",
          "1:23.430",
          "1:18.022",
          "1:24.638",
          "1:17.486",
          "1:18.553",
          "1:52.890",
          "1:16.260",
          "1:23.884",
          "1:21.176",
          "1:21.951",
          "1:25.849",
          "1:17.304",
          "1:10.484",
          "1:27.947",
          "1:44.077",
          "53.715",
          "1:41.104",
          "1:18.934",
          "1:29.195",
          "1:26.637",
          "1:43.665",
          "1:24.428",
          "1:25.560",
          "1:39.211",
          "1:41.748",
          "1:31.398",
          "1:33.389",
          "1:46.234",
          "1:50.477",
          "1:52.862",
          "1:48.653",
          "1:37.588",
          "1:43.023",
          "1:47.274",
          "1:45.524",
          "1:47.510",
          "1:47.387",
          "1:53.543",
          "2:01.379",
          "1:24.587",
          "1:35.073",
          "1:25.423",
          "1:31.307",
          "1:41.597",
          "1:39.647",
          "1:42.457",
          "1:28.265",
          "1:23.945",
          "1:10.980",
          "2:54.994",
          "59.636",
          "1:16.067",
          "1:23.679",
          "1:25.944",
          "1:11.204",
          "1:28.162",
          "1:12.206",
          "1:14.367",
          "1:28.188",
          "1:25.057",
          "3:05.985",
          "2:12.351",
          "2:09.728",
          "2:28.739",
          "2:15.421",
          "2:22.432",
          "2:31.552",
          "2:20.480",
          "2:54.816",
          "2:15.045",
          "2:16.223",
          "2:09.607",
          "2:30.848",
          "2:11.567",
          "2:10.213",
          "2:09.212",
          "2:21.285",
          "2:14.434",
          "2:01.157",
          "2:19.995",
          "2:05.988",
          "2:00.071",
          "1:27.609",
          "1:09.262",
          "1:35.039",
          "1:30.562",
          "2:05.939",
          "1:58.084",
          "2:17.498",
          "2:13.502",
          "2:04.755",
          "2:18.088",
          "2:18.161",
          "1:57.732",
          "2:08.793",
          "7:38.393",
          "1:07.011",
          "1:16:28.761",
          "55.466",
          "1:29.454",
          "1:21.807",
          "1:23.383",
          "1:23.263",
          "1:28.207",
          "1:20.973",
          "1:22.334",
          "1:26.177",
          "1:30.445",
          "1:28.343",
          "1:48.107",
          "1:43.918",
          "1:32.207",
          "11:50.839",
          "1:41.462",
          "1:28.666",
          "1:40.079",
          "1:29.129",
          "1:31.292",
          "1:30.523",
          "1:43.091",
          "1:31.079",
          "1:42.016",
          "1:31.461",
          "1:32.390",
          "1:38.347",
          "1:35.538",
          "1:46.855",
          "2:09.445",
          "48.425",
          "47.429",
          "1:38.966",
          "51.549",
          "1:31.568",
          "1:31.428",
          "1:31.165",
          "49.791",
          "1:26.053",
          "1:24.454",
          "1:33.592",
          "1:24.649",
          "1:14.725",
          "1:19.816",
          "1:19.065",
          "1:20.430",
          "1:20.794",
          "1:23.412",
          "1:27.403",
          "1:39.887",
          "1:35.562",
          "1:36.173",
          "1:13.705",
          "1:25.449",
          "1:25.463",
          "1:38.331",
          "1:35.472",
          "1:45.620",
          "1:39.975",
          "1:14.467",
          "57.474",
          "1:20.422",
          "1:18.157",
          "1:24.950",
          "1:24.290",
          "1:17.042",
          "1:20.615",
          "1:25.353",
          "1:26.810",
          "1:30.307",
          "2:51.563",
          "1:17.560",
          "1:33.923",
          "1:17.551",
          "1:21.749",
          "1:19.787",
          "1:18.817",
          "1:21.927",
          "1:32.458",
          "1:37.207",
          "1:22.528",
          "1:27.306",
          "1:24.862",
          "1:24.725",
          "1:28.470",
          "1:24.700",
          "1:20.147",
          "1:27.877",
          "2:14.812",
          "1:30.336",
          "58.084",
          "1:35.114",
          "1:18.662",
          "1:34.702",
          "1:29.864",
          "1:58.202",
          "1:16.517",
          "1:31.130",
          "1:27.676",
          "1:18.901",
          "1:15.200",
          "3:50.035",
          "1:44.568",
          "1:53.978",
          "2:00.336",
          "1:42.261",
          "1:42.382",
          "1:48.549",
          "1:44.124",
          "1:53.146",
          "1:57.587",
          "1:33.752",
          "1:37.854",
          "1:37.890",
          "1:51.517",
          "1:33.308",
          "1:23.935",
          "4:19.759",
          "1:17.973",
          "1:22.300",
          "1:23.544",
          "1:22.308",
          "1:24.278",
          "1:36.046",
          "1:26.544",
          "1:34.646",
          "1:35.107",
          "1:23.144",
          "1:19.858",
          "1:32.208",
          "1:45.568",
          "1:30.598",
          "1:26.088",
          "1:28.122",
          "1:10.357",
          "1:29.311",
          "1:46.512",
          "1:57.462",
          "1:51.837",
          "1:37.405",
          "1:49.589",
          "1:44.022",
          "1:24.478",
          "1:06.748",
          "1:44.401",
          "1:43.008",
          "1:59.385",
          "1:08.460",
          "1:08.447",
          "1:09.746",
          "1:07.994",
          "1:18.570",
          "1:07.925",
          "1:08.769",
          "1:07.045",
          "1:10.068",
          "1:10.815",
          "1:11.566",
          "1:13.206",
          "1:10.255",
          "1:16.215",
          "1:14.517",
          "1:14.539",
          "1:14.086",
          "1:17.322",
          "1:15.923",
          "1:15.243",
          "1:21.134",
          "1:16.777",
          "1:18.072",
          "1:22.463",
          "1:16.039",
          "1:16.525",
          "1:18.110",
          "1:10.607",
          "1:11.767",
          "1:11.940",
          "1:17.325",
          "1:19.215",
          "1:15.373",
          "1:21.302",
          "1:19.574",
          "1:17.653",
          "1:21.632",
          "1:17.984",
          "1:17.003",
          "1:14.289",
          "1:29.854",
          "1:23.448",
          "1:11.666",
          "1:13.432",
          "1:22.021",
          "1:16.183",
          "1:16.166",
          "1:12.087",
          "1:11.610",
          "1:19.195",
          "1:19.469",
          "1:18.409",
          "1:18.158",
          "1:20.227",
          "1:19.553",
          "1:19.264",
          "1:16.476",
          "1:16.008",
          "1:15.676",
          "1:27.819",
          "1:27.295",
          "1:24.591",
          "1:20.571",
          "1:23.253",
          "1:23.187",
          "1:23.390",
          "1:25.029",
          "1:22.935",
          "1:24.650",
          "1:10.783",
          "1:15.265",
          "1:21.656",
          "1:21.086",
          "1:20.719",
          "1:07.389",
          "1:08.644",
          "1:06.096",
          "1:03.099",
          "1:15.462",
          "1:16.761",
          "1:05.572",
          "1:00.199",
          "55.109",
          "1:01.832",
          "56.225",
          "55.806",
          "1:04.324",
          "1:04.730",
          "2:05.292",
          "2:08.432",
          "2:06.638",
          "2:08.330",
          "2:07.912",
          "2:07.825",
          "2:09.008",
          "2:07.169",
          "2:08.150",
          "2:08.173",
          "2:07.575",
          "2:07.624",
          "2:08.968",
          "2:04.880",
          "1:35.438",
          "1:52.575",
          "1:43.179",
          "1:10.528",
          "1:02.097",
          "1:09.882",
          "1:02.805",
          "1:05.137",
          "59.695",
          "55.711",
          "58.099",
          "1:07.645",
          "2:06.990",
          "2:07.634",
          "2:07.388",
          "2:08.541",
          "2:07.362",
          "2:07.913",
          "1:58.794",
          "1:35.051",
          "1:03.974",
          "1:09.759",
          "1:05.542",
          "1:05.649",
          "1:04.700",
          "58.326",
          "57.977",
          "58.506",
          "1:02.837",
          "1:00.739",
          "59.439",
          "57.205",
          "56.586",
          "57.403",
          "55.808",
          "55.751",
          "1:06.299",
          "56.201",
          "56.075",
          "1:02.305",
          "59.583",
          "1:04.365",
          "58.264",
          "1:03.295",
          "1:02.827",
          "1:03.827",
          "1:02.437",
          "1:07.952",
          "1:02.644",
          "1:02.541",
          "1:02.708",
          "1:03.066",
          "1:03.141",
          "1:02.776",
          "57.086",
          "57.290",
          "1:02.852",
          "1:03.236",
          "1:06.501",
          "1:03.629",
          "1:02.504",
          "58.360",
          "1:14.590",
          "1:09.992",
          "1:09.891",
          "1:13.072",
          "1:13.904",
          "1:13.320",
          "1:14.937",
          "1:13.392",
          "1:16.215",
          "1:13.026",
          "1:16.963",
          "1:13.036",
          "1:15.467",
          "1:17.058",
          "1:11.724",
          "1:14.207",
          "1:18.222",
          "1:16.183",
          "1:18.127",
          "1:15.578",
          "1:16.104",
          "1:14.918",
          "1:13.046",
          "1:14.189",
          "1:13.575",
          "1:15.049",
          "1:11.892",
          "1:12.784",
          "1:16.566",
          "1:16.355",
          "1:14.430",
          "1:16.717",
          "1:17.005",
          "1:14.669",
          "1:24.500",
          "1:23.447",
          "1:24.996",
          "1:30.361",
          "1:23.905",
          "1:24.564",
          "1:03.472",
          "1:06.662",
          "1:09.399",
          "1:09.160",
          "1:12.517",
          "1:09.478",
          "1:11.570",
          "1:13.266",
          "1:15.679",
          "1:11.485",
          "1:16.686",
          "1:09.718",
          "1:16.561",
          "1:13.814",
          "1:12.595",
          "1:14.151",
          "1:12.005",
          "1:14.780",
          "1:15.307",
          "1:13.658",
          "1:14.346",
          "1:14.058",
          "1:12.789",
          "1:17.422",
          "1:26.615",
          "1:27.589",
          "2:09.855",
          "1:24.876",
          "1:22.140",
          "1:20.650",
          "1:17.971",
          "1:27.823",
          "1:26.745",
          "1:22.478",
          "1:20.918",
          "1:18.515",
          "1:29.290",
          "1:18.429",
          "1:14.948",
          "1:19.851",
          "1:14.123",
          "1:22.298",
          "1:15.881",
          "1:13.125",
          "1:11.910",
          "1:12.886",
          "1:11.960",
          "1:11.308",
          "1:14.362",
          "1:10.429",
          "1:14.619",
          "1:14.326",
          "1:20.573",
          "1:20.677",
          "1:15.700",
          "1:20.268",
          "1:18.420",
          "1:27.293",
          "1:34.671",
          "1:32.691",
          "2:16.598",
          "2:05.152",
          "1:38.890",
          "2:26.451",
          "1:30.140",
          "1:25.831",
          "1:24.427",
          "1:25.330",
          "1:23.000",
          "38.754",
          "39.127",
          "35.894",
          "35.353",
          "41.459",
          "36.660",
          "35.498",
          "36.111",
          "37.023",
          "37.004",
          "35.938",
          "40.063",
          "38.299",
          "42.342",
          "39.494",
          "39.462",
          "39.465",
          "40.097",
          "40.643",
          "39.742",
          "41.964",
          "41.642",
          "42.165",
          "42.495",
          "41.846",
          "41.343",
          "41.701",
          "36.757",
          "36.737",
          "37.836",
          "38.453",
          "41.138",
          "39.470",
          "41.691",
          "44.788",
          "42.944",
          "43.046",
          "40.930",
          "40.858",
          "48.888",
          "49.553",
          "41.578",
          "37.082",
          "44.937",
          "44.446",
          "36.414",
          "35.891",
          "37.464",
          "38.692",
          "38.983",
          "38.873",
          "38.840",
          "39.116",
          "38.647",
          "38.826",
          "39.143",
          "39.255",
          "39.159",
          "39.298",
          "39.589",
          "39.713",
          "39.650",
          "40.202",
          "40.088",
          "39.869",
          "39.933",
          "41.574",
          "40.580",
          "40.571",
          "34.173",
          "36.330",
          "39.434",
          "38.933",
          "39.669",
          "33.526",
          "32.503",
          "35.670",
          "32.235",
          "39.762",
          "39.734",
          "33.693",
          "32.144",
          "30.971",
          "34.384",
          "31.029",
          "32.104",
          "35.583",
          "35.773",
          "1:25.604",
          "1:20.674",
          "1:12.515",
          "1:17.689",
          "1:10.734",
          "1:05.759",
          "1:02.955",
          "55.600",
          "45.128",
          "47.308",
          "47.012",
          "37.351",
          "1:38.686",
          "38.710",
          "29.824",
          "36.695",
          "33.492",
          "36.299",
          "32.550",
          "36.362",
          "33.904",
          "35.129",
          "32.887",
          "31.194",
          "31.284",
          "36.577",
          "1:22.814",
          "1:21.434",
          "1:16.350",
          "1:12.753",
          "51.060",
          "56.531",
          "34.174",
          "30.496",
          "34.213",
          "36.258",
          "36.187",
          "36.486",
          "35.867",
          "32.078",
          "32.919",
          "32.596",
          "33.383",
          "33.983",
          "32.899",
          "31.835",
          "31.456",
          "32.339",
          "29.708",
          "30.789",
          "35.972",
          "31.103",
          "29.738",
          "35.245",
          "33.073",
          "35.862",
          "32.346",
          "35.432",
          "34.856",
          "35.432",
          "34.997",
          "35.788",
          "34.665",
          "34.931",
          "34.779",
          "35.712",
          "35.145",
          "34.879",
          "32.339",
          "32.594",
          "34.994",
          "35.834",
          "36.544",
          "35.097",
          "34.919",
          "37.133",
          "36.623",
          "39.329",
          "37.657",
          "39.303",
          "39.371",
          "39.189",
          "39.861",
          "40.079",
          "39.325",
          "39.526",
          "40.481",
          "38.130",
          "41.231",
          "40.826",
          "35.012",
          "37.984",
          "41.250",
          "38.948",
          "44.067",
          "39.772",
          "39.677",
          "39.704",
          "39.951",
          "37.997",
          "38.338",
          "39.472",
          "37.455",
          "38.625",
          "39.731",
          "39.820",
          "39.292",
          "40.818",
          "39.799",
          "40.045",
          "39.231",
          "40.147",
          "40.566",
          "42.426",
          "38.963",
          "39.105",
          "36.204",
          "35.904",
          "37.939",
          "37.545",
          "35.091",
          "34.509",
          "37.089",
          "40.590",
          "39.838",
          "37.431",
          "40.064",
          "36.054",
          "40.800",
          "39.069",
          "39.146",
          "37.652",
          "35.691",
          "40.879",
          "40.451",
          "39.415",
          "38.163",
          "39.725",
          "39.789",
          "48.831",
          "48.187",
          "47.521",
          "1:18.647",
          "45.253",
          "44.481",
          "42.755",
          "41.619",
          "44.183",
          "44.252",
          "46.896",
          "46.169",
          "40.726",
          "46.701",
          "46.382",
          "39.763",
          "41.048",
          "39.487",
          "41.652",
          "39.510",
          "39.920",
          "37.658",
          "38.062",
          "37.608",
          "36.676",
          "37.936",
          "34.929",
          "39.562",
          "39.771",
          "59.703",
          "59.420",
          "53.724",
          "52.453",
          "45.206",
          "48.229",
          "53.671",
          "52.689",
          "1:04.810",
          "1:29.923",
          "1:32.370",
          "1:25.263",
          "50.044",
          "46.157",
          "44.592",
          "43.584",
          "43.075"
         ],
         "y0": " ",
         "yaxis": "y"
        }
       ],
       "layout": {
        "boxmode": "group",
        "height": 600,
        "legend": {
         "tracegroupgap": 0
        },
        "margin": {
         "t": 60
        },
        "template": {
         "data": {
          "bar": [
           {
            "error_x": {
             "color": "#2a3f5f"
            },
            "error_y": {
             "color": "#2a3f5f"
            },
            "marker": {
             "line": {
              "color": "#E5ECF6",
              "width": 0.5
             }
            },
            "type": "bar"
           }
          ],
          "barpolar": [
           {
            "marker": {
             "line": {
              "color": "#E5ECF6",
              "width": 0.5
             }
            },
            "type": "barpolar"
           }
          ],
          "carpet": [
           {
            "aaxis": {
             "endlinecolor": "#2a3f5f",
             "gridcolor": "white",
             "linecolor": "white",
             "minorgridcolor": "white",
             "startlinecolor": "#2a3f5f"
            },
            "baxis": {
             "endlinecolor": "#2a3f5f",
             "gridcolor": "white",
             "linecolor": "white",
             "minorgridcolor": "white",
             "startlinecolor": "#2a3f5f"
            },
            "type": "carpet"
           }
          ],
          "choropleth": [
           {
            "colorbar": {
             "outlinewidth": 0,
             "ticks": ""
            },
            "type": "choropleth"
           }
          ],
          "contour": [
           {
            "colorbar": {
             "outlinewidth": 0,
             "ticks": ""
            },
            "colorscale": [
             [
              0,
              "#0d0887"
             ],
             [
              0.1111111111111111,
              "#46039f"
             ],
             [
              0.2222222222222222,
              "#7201a8"
             ],
             [
              0.3333333333333333,
              "#9c179e"
             ],
             [
              0.4444444444444444,
              "#bd3786"
             ],
             [
              0.5555555555555556,
              "#d8576b"
             ],
             [
              0.6666666666666666,
              "#ed7953"
             ],
             [
              0.7777777777777778,
              "#fb9f3a"
             ],
             [
              0.8888888888888888,
              "#fdca26"
             ],
             [
              1,
              "#f0f921"
             ]
            ],
            "type": "contour"
           }
          ],
          "contourcarpet": [
           {
            "colorbar": {
             "outlinewidth": 0,
             "ticks": ""
            },
            "type": "contourcarpet"
           }
          ],
          "heatmap": [
           {
            "colorbar": {
             "outlinewidth": 0,
             "ticks": ""
            },
            "colorscale": [
             [
              0,
              "#0d0887"
             ],
             [
              0.1111111111111111,
              "#46039f"
             ],
             [
              0.2222222222222222,
              "#7201a8"
             ],
             [
              0.3333333333333333,
              "#9c179e"
             ],
             [
              0.4444444444444444,
              "#bd3786"
             ],
             [
              0.5555555555555556,
              "#d8576b"
             ],
             [
              0.6666666666666666,
              "#ed7953"
             ],
             [
              0.7777777777777778,
              "#fb9f3a"
             ],
             [
              0.8888888888888888,
              "#fdca26"
             ],
             [
              1,
              "#f0f921"
             ]
            ],
            "type": "heatmap"
           }
          ],
          "heatmapgl": [
           {
            "colorbar": {
             "outlinewidth": 0,
             "ticks": ""
            },
            "colorscale": [
             [
              0,
              "#0d0887"
             ],
             [
              0.1111111111111111,
              "#46039f"
             ],
             [
              0.2222222222222222,
              "#7201a8"
             ],
             [
              0.3333333333333333,
              "#9c179e"
             ],
             [
              0.4444444444444444,
              "#bd3786"
             ],
             [
              0.5555555555555556,
              "#d8576b"
             ],
             [
              0.6666666666666666,
              "#ed7953"
             ],
             [
              0.7777777777777778,
              "#fb9f3a"
             ],
             [
              0.8888888888888888,
              "#fdca26"
             ],
             [
              1,
              "#f0f921"
             ]
            ],
            "type": "heatmapgl"
           }
          ],
          "histogram": [
           {
            "marker": {
             "colorbar": {
              "outlinewidth": 0,
              "ticks": ""
             }
            },
            "type": "histogram"
           }
          ],
          "histogram2d": [
           {
            "colorbar": {
             "outlinewidth": 0,
             "ticks": ""
            },
            "colorscale": [
             [
              0,
              "#0d0887"
             ],
             [
              0.1111111111111111,
              "#46039f"
             ],
             [
              0.2222222222222222,
              "#7201a8"
             ],
             [
              0.3333333333333333,
              "#9c179e"
             ],
             [
              0.4444444444444444,
              "#bd3786"
             ],
             [
              0.5555555555555556,
              "#d8576b"
             ],
             [
              0.6666666666666666,
              "#ed7953"
             ],
             [
              0.7777777777777778,
              "#fb9f3a"
             ],
             [
              0.8888888888888888,
              "#fdca26"
             ],
             [
              1,
              "#f0f921"
             ]
            ],
            "type": "histogram2d"
           }
          ],
          "histogram2dcontour": [
           {
            "colorbar": {
             "outlinewidth": 0,
             "ticks": ""
            },
            "colorscale": [
             [
              0,
              "#0d0887"
             ],
             [
              0.1111111111111111,
              "#46039f"
             ],
             [
              0.2222222222222222,
              "#7201a8"
             ],
             [
              0.3333333333333333,
              "#9c179e"
             ],
             [
              0.4444444444444444,
              "#bd3786"
             ],
             [
              0.5555555555555556,
              "#d8576b"
             ],
             [
              0.6666666666666666,
              "#ed7953"
             ],
             [
              0.7777777777777778,
              "#fb9f3a"
             ],
             [
              0.8888888888888888,
              "#fdca26"
             ],
             [
              1,
              "#f0f921"
             ]
            ],
            "type": "histogram2dcontour"
           }
          ],
          "mesh3d": [
           {
            "colorbar": {
             "outlinewidth": 0,
             "ticks": ""
            },
            "type": "mesh3d"
           }
          ],
          "parcoords": [
           {
            "line": {
             "colorbar": {
              "outlinewidth": 0,
              "ticks": ""
             }
            },
            "type": "parcoords"
           }
          ],
          "scatter": [
           {
            "marker": {
             "colorbar": {
              "outlinewidth": 0,
              "ticks": ""
             }
            },
            "type": "scatter"
           }
          ],
          "scatter3d": [
           {
            "line": {
             "colorbar": {
              "outlinewidth": 0,
              "ticks": ""
             }
            },
            "marker": {
             "colorbar": {
              "outlinewidth": 0,
              "ticks": ""
             }
            },
            "type": "scatter3d"
           }
          ],
          "scattercarpet": [
           {
            "marker": {
             "colorbar": {
              "outlinewidth": 0,
              "ticks": ""
             }
            },
            "type": "scattercarpet"
           }
          ],
          "scattergeo": [
           {
            "marker": {
             "colorbar": {
              "outlinewidth": 0,
              "ticks": ""
             }
            },
            "type": "scattergeo"
           }
          ],
          "scattergl": [
           {
            "marker": {
             "colorbar": {
              "outlinewidth": 0,
              "ticks": ""
             }
            },
            "type": "scattergl"
           }
          ],
          "scattermapbox": [
           {
            "marker": {
             "colorbar": {
              "outlinewidth": 0,
              "ticks": ""
             }
            },
            "type": "scattermapbox"
           }
          ],
          "scatterpolar": [
           {
            "marker": {
             "colorbar": {
              "outlinewidth": 0,
              "ticks": ""
             }
            },
            "type": "scatterpolar"
           }
          ],
          "scatterpolargl": [
           {
            "marker": {
             "colorbar": {
              "outlinewidth": 0,
              "ticks": ""
             }
            },
            "type": "scatterpolargl"
           }
          ],
          "scatterternary": [
           {
            "marker": {
             "colorbar": {
              "outlinewidth": 0,
              "ticks": ""
             }
            },
            "type": "scatterternary"
           }
          ],
          "surface": [
           {
            "colorbar": {
             "outlinewidth": 0,
             "ticks": ""
            },
            "colorscale": [
             [
              0,
              "#0d0887"
             ],
             [
              0.1111111111111111,
              "#46039f"
             ],
             [
              0.2222222222222222,
              "#7201a8"
             ],
             [
              0.3333333333333333,
              "#9c179e"
             ],
             [
              0.4444444444444444,
              "#bd3786"
             ],
             [
              0.5555555555555556,
              "#d8576b"
             ],
             [
              0.6666666666666666,
              "#ed7953"
             ],
             [
              0.7777777777777778,
              "#fb9f3a"
             ],
             [
              0.8888888888888888,
              "#fdca26"
             ],
             [
              1,
              "#f0f921"
             ]
            ],
            "type": "surface"
           }
          ],
          "table": [
           {
            "cells": {
             "fill": {
              "color": "#EBF0F8"
             },
             "line": {
              "color": "white"
             }
            },
            "header": {
             "fill": {
              "color": "#C8D4E3"
             },
             "line": {
              "color": "white"
             }
            },
            "type": "table"
           }
          ]
         },
         "layout": {
          "annotationdefaults": {
           "arrowcolor": "#2a3f5f",
           "arrowhead": 0,
           "arrowwidth": 1
          },
          "colorscale": {
           "diverging": [
            [
             0,
             "#8e0152"
            ],
            [
             0.1,
             "#c51b7d"
            ],
            [
             0.2,
             "#de77ae"
            ],
            [
             0.3,
             "#f1b6da"
            ],
            [
             0.4,
             "#fde0ef"
            ],
            [
             0.5,
             "#f7f7f7"
            ],
            [
             0.6,
             "#e6f5d0"
            ],
            [
             0.7,
             "#b8e186"
            ],
            [
             0.8,
             "#7fbc41"
            ],
            [
             0.9,
             "#4d9221"
            ],
            [
             1,
             "#276419"
            ]
           ],
           "sequential": [
            [
             0,
             "#0d0887"
            ],
            [
             0.1111111111111111,
             "#46039f"
            ],
            [
             0.2222222222222222,
             "#7201a8"
            ],
            [
             0.3333333333333333,
             "#9c179e"
            ],
            [
             0.4444444444444444,
             "#bd3786"
            ],
            [
             0.5555555555555556,
             "#d8576b"
            ],
            [
             0.6666666666666666,
             "#ed7953"
            ],
            [
             0.7777777777777778,
             "#fb9f3a"
            ],
            [
             0.8888888888888888,
             "#fdca26"
            ],
            [
             1,
             "#f0f921"
            ]
           ],
           "sequentialminus": [
            [
             0,
             "#0d0887"
            ],
            [
             0.1111111111111111,
             "#46039f"
            ],
            [
             0.2222222222222222,
             "#7201a8"
            ],
            [
             0.3333333333333333,
             "#9c179e"
            ],
            [
             0.4444444444444444,
             "#bd3786"
            ],
            [
             0.5555555555555556,
             "#d8576b"
            ],
            [
             0.6666666666666666,
             "#ed7953"
            ],
            [
             0.7777777777777778,
             "#fb9f3a"
            ],
            [
             0.8888888888888888,
             "#fdca26"
            ],
            [
             1,
             "#f0f921"
            ]
           ]
          },
          "colorway": [
           "#636efa",
           "#EF553B",
           "#00cc96",
           "#ab63fa",
           "#FFA15A",
           "#19d3f3",
           "#FF6692",
           "#B6E880",
           "#FF97FF",
           "#FECB52"
          ],
          "font": {
           "color": "#2a3f5f"
          },
          "geo": {
           "bgcolor": "white",
           "lakecolor": "white",
           "landcolor": "#E5ECF6",
           "showlakes": true,
           "showland": true,
           "subunitcolor": "white"
          },
          "hoverlabel": {
           "align": "left"
          },
          "hovermode": "closest",
          "mapbox": {
           "style": "light"
          },
          "paper_bgcolor": "white",
          "plot_bgcolor": "#E5ECF6",
          "polar": {
           "angularaxis": {
            "gridcolor": "white",
            "linecolor": "white",
            "ticks": ""
           },
           "bgcolor": "#E5ECF6",
           "radialaxis": {
            "gridcolor": "white",
            "linecolor": "white",
            "ticks": ""
           }
          },
          "scene": {
           "xaxis": {
            "backgroundcolor": "#E5ECF6",
            "gridcolor": "white",
            "gridwidth": 2,
            "linecolor": "white",
            "showbackground": true,
            "ticks": "",
            "zerolinecolor": "white"
           },
           "yaxis": {
            "backgroundcolor": "#E5ECF6",
            "gridcolor": "white",
            "gridwidth": 2,
            "linecolor": "white",
            "showbackground": true,
            "ticks": "",
            "zerolinecolor": "white"
           },
           "zaxis": {
            "backgroundcolor": "#E5ECF6",
            "gridcolor": "white",
            "gridwidth": 2,
            "linecolor": "white",
            "showbackground": true,
            "ticks": "",
            "zerolinecolor": "white"
           }
          },
          "shapedefaults": {
           "line": {
            "color": "#2a3f5f"
           }
          },
          "ternary": {
           "aaxis": {
            "gridcolor": "white",
            "linecolor": "white",
            "ticks": ""
           },
           "baxis": {
            "gridcolor": "white",
            "linecolor": "white",
            "ticks": ""
           },
           "bgcolor": "#E5ECF6",
           "caxis": {
            "gridcolor": "white",
            "linecolor": "white",
            "ticks": ""
           }
          },
          "title": {
           "x": 0.05
          },
          "xaxis": {
           "automargin": true,
           "gridcolor": "white",
           "linecolor": "white",
           "ticks": "",
           "zerolinecolor": "white",
           "zerolinewidth": 2
          },
          "yaxis": {
           "automargin": true,
           "gridcolor": "white",
           "linecolor": "white",
           "ticks": "",
           "zerolinecolor": "white",
           "zerolinewidth": 2
          }
         }
        },
        "xaxis": {
         "anchor": "y",
         "domain": [
          0,
          0.98
         ],
         "title": {
          "text": "variable"
         }
        },
        "yaxis": {
         "anchor": "x",
         "domain": [
          0,
          1
         ],
         "title": {
          "text": "value"
         }
        }
       }
      },
      "text/html": [
       "<div>\n",
       "        \n",
       "        \n",
       "            <div id=\"c089d624-6a62-4a5c-a909-ca54420e630c\" class=\"plotly-graph-div\" style=\"height:600px; width:100%;\"></div>\n",
       "            <script type=\"text/javascript\">\n",
       "                require([\"plotly\"], function(Plotly) {\n",
       "                    window.PLOTLYENV=window.PLOTLYENV || {};\n",
       "                    \n",
       "                if (document.getElementById(\"c089d624-6a62-4a5c-a909-ca54420e630c\")) {\n",
       "                    Plotly.newPlot(\n",
       "                        'c089d624-6a62-4a5c-a909-ca54420e630c',\n",
       "                        [{\"alignmentgroup\": \"True\", \"hoverlabel\": {\"namelength\": 0}, \"hovertemplate\": \"variable=%{x}<br>value=%{y}\", \"legendgroup\": \"\", \"marker\": {\"color\": \"#636efa\"}, \"name\": \"\", \"notched\": false, \"offsetgroup\": \"\", \"orientation\": \"v\", \"showlegend\": false, \"type\": \"box\", \"x\": [\"S1\", \"S1\", \"S1\", \"S1\", \"S1\", \"S1\", \"S1\", \"S1\", \"S1\", \"S1\", \"S1\", \"S1\", \"S1\", \"S1\", \"S1\", \"S1\", \"S1\", \"S1\", \"S1\", \"S1\", \"S1\", \"S1\", \"S1\", \"S1\", \"S1\", \"S1\", \"S1\", \"S1\", \"S1\", \"S1\", \"S1\", \"S1\", \"S1\", \"S1\", \"S1\", \"S1\", \"S1\", \"S1\", \"S1\", \"S1\", \"S1\", \"S1\", \"S1\", \"S1\", \"S1\", \"S1\", \"S1\", \"S1\", \"S1\", \"S1\", \"S1\", \"S1\", \"S1\", \"S1\", \"S1\", \"S1\", \"S1\", \"S1\", \"S1\", \"S1\", \"S1\", \"S1\", \"S1\", \"S1\", \"S1\", \"S1\", \"S1\", \"S1\", \"S1\", \"S1\", \"S1\", \"S1\", \"S1\", \"S1\", \"S1\", \"S1\", \"S1\", \"S1\", \"S1\", \"S1\", \"S1\", \"S1\", \"S1\", \"S1\", \"S1\", \"S1\", \"S1\", \"S1\", \"S1\", \"S1\", \"S1\", \"S1\", \"S1\", \"S1\", \"S1\", \"S1\", \"S1\", \"S1\", \"S1\", \"S1\", \"S1\", \"S1\", \"S1\", \"S1\", \"S1\", \"S1\", \"S1\", \"S1\", \"S1\", \"S1\", \"S1\", \"S1\", \"S1\", \"S1\", \"S1\", \"S1\", \"S1\", \"S1\", \"S1\", \"S1\", \"S1\", \"S1\", \"S1\", \"S1\", \"S1\", \"S1\", \"S1\", \"S1\", \"S1\", \"S1\", \"S1\", \"S1\", \"S1\", \"S1\", \"S1\", \"S1\", \"S1\", \"S1\", \"S1\", \"S1\", \"S1\", \"S1\", \"S1\", \"S1\", \"S1\", \"S1\", \"S1\", \"S1\", \"S1\", \"S1\", \"S1\", \"S1\", \"S1\", \"S1\", \"S1\", \"S1\", \"S1\", \"S1\", \"S1\", \"S1\", \"S1\", \"S1\", \"S1\", \"S1\", \"S1\", \"S1\", \"S1\", \"S1\", \"S1\", \"S1\", \"S1\", \"S1\", \"S1\", \"S1\", \"S1\", \"S1\", \"S1\", \"S1\", \"S1\", \"S1\", \"S1\", \"S1\", \"S1\", \"S1\", \"S1\", \"S1\", \"S1\", \"S1\", \"S1\", \"S1\", \"S1\", \"S1\", \"S1\", \"S1\", \"S1\", \"S1\", \"S1\", \"S1\", \"S1\", \"S1\", \"S1\", \"S1\", \"S1\", \"S1\", \"S1\", \"S1\", \"S1\", \"S1\", \"S1\", \"S1\", \"S1\", \"S1\", \"S1\", \"S1\", \"S1\", \"S1\", \"S1\", \"S1\", \"S1\", \"S1\", \"S1\", \"S1\", \"S1\", \"S1\", \"S1\", \"S1\", \"S1\", \"S1\", \"S1\", \"S1\", \"S1\", \"S1\", \"S1\", \"S1\", \"S1\", \"S1\", \"S1\", \"S1\", \"S1\", \"S1\", \"S1\", \"S1\", \"S1\", \"S1\", \"S1\", \"S1\", \"S1\", \"S1\", \"S1\", \"S1\", \"S1\", \"S1\", \"S1\", \"S1\", \"S1\", \"S1\", \"S1\", \"S1\", \"S1\", \"S1\", \"S1\", \"S1\", \"S1\", \"S1\", \"S1\", \"S1\", \"S1\", \"S1\", \"S1\", \"S1\", \"S1\", \"S1\", \"S1\", \"S2\", \"S2\", \"S2\", \"S2\", \"S2\", \"S2\", \"S2\", \"S2\", \"S2\", \"S2\", \"S2\", \"S2\", \"S2\", \"S2\", \"S2\", \"S2\", \"S2\", \"S2\", \"S2\", \"S2\", \"S2\", \"S2\", \"S2\", \"S2\", \"S2\", \"S2\", \"S2\", \"S2\", \"S2\", \"S2\", \"S2\", \"S2\", \"S2\", \"S2\", \"S2\", \"S2\", \"S2\", \"S2\", \"S2\", \"S2\", \"S2\", \"S2\", \"S2\", \"S2\", \"S2\", \"S2\", \"S2\", \"S2\", \"S2\", \"S2\", \"S2\", \"S2\", \"S2\", \"S2\", \"S2\", \"S2\", \"S2\", \"S2\", \"S2\", \"S2\", \"S2\", \"S2\", \"S2\", \"S2\", \"S2\", \"S2\", \"S2\", \"S2\", \"S2\", \"S2\", \"S2\", \"S2\", \"S2\", \"S2\", \"S2\", \"S2\", \"S2\", \"S2\", \"S2\", \"S2\", \"S2\", \"S2\", \"S2\", \"S2\", \"S2\", \"S2\", \"S2\", \"S2\", \"S2\", \"S2\", \"S2\", \"S2\", \"S2\", \"S2\", \"S2\", \"S2\", \"S2\", \"S2\", \"S2\", \"S2\", \"S2\", \"S2\", \"S2\", \"S2\", \"S2\", \"S2\", \"S2\", \"S2\", \"S2\", \"S2\", \"S2\", \"S2\", \"S2\", \"S2\", \"S2\", \"S2\", \"S2\", \"S2\", \"S2\", \"S2\", \"S2\", \"S2\", \"S2\", \"S2\", \"S2\", \"S2\", \"S2\", \"S2\", \"S2\", \"S2\", \"S2\", \"S2\", \"S2\", \"S2\", \"S2\", \"S2\", \"S2\", \"S2\", \"S2\", \"S2\", \"S2\", \"S2\", \"S2\", \"S2\", \"S2\", \"S2\", \"S2\", \"S2\", \"S2\", \"S2\", \"S2\", \"S2\", \"S2\", \"S2\", \"S2\", \"S2\", \"S2\", \"S2\", \"S2\", \"S2\", \"S2\", \"S2\", \"S2\", \"S2\", \"S2\", \"S2\", \"S2\", \"S2\", \"S2\", \"S2\", \"S2\", \"S2\", \"S2\", \"S2\", \"S2\", \"S2\", \"S2\", \"S2\", \"S2\", \"S2\", \"S2\", \"S2\", \"S2\", \"S2\", \"S2\", \"S2\", \"S2\", \"S2\", \"S2\", \"S2\", \"S2\", \"S2\", \"S2\", \"S2\", \"S2\", \"S2\", \"S2\", \"S2\", \"S2\", \"S2\", \"S2\", \"S2\", \"S2\", \"S2\", \"S2\", \"S2\", \"S2\", \"S2\", \"S2\", \"S2\", \"S2\", \"S2\", \"S2\", \"S2\", \"S2\", \"S2\", \"S2\", \"S2\", \"S2\", \"S2\", \"S2\", \"S2\", \"S2\", \"S2\", \"S2\", \"S2\", \"S2\", \"S2\", \"S2\", \"S2\", \"S2\", \"S2\", \"S2\", \"S2\", \"S2\", \"S2\", \"S2\", \"S2\", \"S2\", \"S2\", \"S2\", \"S2\", \"S2\", \"S2\", \"S2\", \"S2\", \"S2\", \"S2\", \"S2\", \"S2\", \"S2\", \"S2\", \"S2\", \"S2\", \"S2\", \"S2\", \"S2\", \"S2\", \"S2\", \"S2\", \"S2\", \"S2\", \"S2\", \"S2\", \"S2\", \"S2\", \"S2\", \"S2\", \"S2\", \"S2\", \"S2\", \"S2\", \"S2\", \"S3\", \"S3\", \"S3\", \"S3\", \"S3\", \"S3\", \"S3\", \"S3\", \"S3\", \"S3\", \"S3\", \"S3\", \"S3\", \"S3\", \"S3\", \"S3\", \"S3\", \"S3\", \"S3\", \"S3\", \"S3\", \"S3\", \"S3\", \"S3\", \"S3\", \"S3\", \"S3\", \"S3\", \"S3\", \"S3\", \"S3\", \"S3\", \"S3\", \"S3\", \"S3\", \"S3\", \"S3\", \"S3\", \"S3\", \"S3\", \"S3\", \"S3\", \"S3\", \"S3\", \"S3\", \"S3\", \"S3\", \"S3\", \"S3\", \"S3\", \"S3\", \"S3\", \"S3\", \"S3\", \"S3\", \"S3\", \"S3\", \"S3\", \"S3\", \"S3\", \"S3\", \"S3\", \"S3\", \"S3\", \"S3\", \"S3\", \"S3\", \"S3\", \"S3\", \"S3\", \"S3\", \"S3\", \"S3\", \"S3\", \"S3\", \"S3\", \"S3\", \"S3\", \"S3\", \"S3\", \"S3\", \"S3\", \"S3\", \"S3\", \"S3\", \"S3\", \"S3\", \"S3\", \"S3\", \"S3\", \"S3\", \"S3\", \"S3\", \"S3\", \"S3\", \"S3\", \"S3\", \"S3\", \"S3\", \"S3\", \"S3\", \"S3\", \"S3\", \"S3\", \"S3\", \"S3\", \"S3\", \"S3\", \"S3\", \"S3\", \"S3\", \"S3\", \"S3\", \"S3\", \"S3\", \"S3\", \"S3\", \"S3\", \"S3\", \"S3\", \"S3\", \"S3\", \"S3\", \"S3\", \"S3\", \"S3\", \"S3\", \"S3\", \"S3\", \"S3\", \"S3\", \"S3\", \"S3\", \"S3\", \"S3\", \"S3\", \"S3\", \"S3\", \"S3\", \"S3\", \"S3\", \"S3\", \"S3\", \"S3\", \"S3\", \"S3\", \"S3\", \"S3\", \"S3\", \"S3\", \"S3\", \"S3\", \"S3\", \"S3\", \"S3\", \"S3\", \"S3\", \"S3\", \"S3\", \"S3\", \"S3\", \"S3\", \"S3\", \"S3\", \"S3\", \"S3\", \"S3\", \"S3\", \"S3\", \"S3\", \"S3\", \"S3\", \"S3\", \"S3\", \"S3\", \"S3\", \"S3\", \"S3\", \"S3\", \"S3\", \"S3\", \"S3\", \"S3\", \"S3\", \"S3\", \"S3\", \"S3\", \"S3\", \"S3\", \"S3\", \"S3\", \"S3\", \"S3\", \"S3\", \"S3\", \"S3\", \"S3\", \"S3\", \"S3\", \"S3\", \"S3\", \"S3\", \"S3\", \"S3\", \"S3\", \"S3\", \"S3\", \"S3\", \"S3\", \"S3\", \"S3\", \"S3\", \"S3\", \"S3\", \"S3\", \"S3\", \"S3\", \"S3\", \"S3\", \"S3\", \"S3\", \"S3\", \"S3\", \"S3\", \"S3\", \"S3\", \"S3\", \"S3\", \"S3\", \"S3\", \"S3\", \"S3\", \"S3\", \"S3\", \"S3\", \"S3\", \"S3\", \"S3\", \"S3\", \"S3\", \"S3\", \"S3\", \"S3\", \"S3\", \"S3\", \"S3\", \"S3\", \"S3\", \"S3\", \"S3\", \"S3\", \"S3\", \"S3\", \"S3\", \"S3\", \"S3\", \"S3\", \"S3\", \"S3\", \"S3\", \"S3\", \"S3\", \"S3\", \"S3\", \"S3\", \"S3\", \"S3\", \"S3\", \"S3\", \"S3\", \"S3\", \"S3\", \"S3\"], \"x0\": \" \", \"xaxis\": \"x\", \"y\": [\"1:18.890\", \"1:26.087\", \"1:15.549\", \"1:19.634\", \"2:15.258\", \"1:15.371\", \"1:33.311\", \"1:26.938\", \"1:20.196\", \"1:16.400\", \"1:29.232\", \"1:50.025\", \"1:50.444\", \"1:24.592\", \"1:18.164\", \"1:17.530\", \"1:22.402\", \"1:27.915\", \"1:33.475\", \"1:41.451\", \"1:21.943\", \"1:25.307\", \"1:18.492\", \"1:23.052\", \"1:23.058\", \"59.056\", \"1:26.068\", \"1:17.436\", \"1:23.430\", \"1:18.022\", \"1:24.638\", \"1:17.486\", \"1:18.553\", \"1:52.890\", \"1:16.260\", \"1:23.884\", \"1:21.176\", \"1:21.951\", \"1:25.849\", \"1:17.304\", \"1:10.484\", \"1:27.947\", \"1:44.077\", \"53.715\", \"1:41.104\", \"1:18.934\", \"1:29.195\", \"1:26.637\", \"1:43.665\", \"1:24.428\", \"1:25.560\", \"1:39.211\", \"1:41.748\", \"1:31.398\", \"1:33.389\", \"1:46.234\", \"1:50.477\", \"1:52.862\", \"1:48.653\", \"1:37.588\", \"1:43.023\", \"1:47.274\", \"1:45.524\", \"1:47.510\", \"1:47.387\", \"1:53.543\", \"2:01.379\", \"1:24.587\", \"1:35.073\", \"1:25.423\", \"1:31.307\", \"1:41.597\", \"1:39.647\", \"1:42.457\", \"1:28.265\", \"1:23.945\", \"1:10.980\", \"2:54.994\", \"59.636\", \"1:16.067\", \"1:23.679\", \"1:25.944\", \"1:11.204\", \"1:28.162\", \"1:12.206\", \"1:14.367\", \"1:28.188\", \"1:25.057\", \"3:05.985\", \"2:12.351\", \"2:09.728\", \"2:28.739\", \"2:15.421\", \"2:22.432\", \"2:31.552\", \"2:20.480\", \"2:54.816\", \"2:15.045\", \"2:16.223\", \"2:09.607\", \"2:30.848\", \"2:11.567\", \"2:10.213\", \"2:09.212\", \"2:21.285\", \"2:14.434\", \"2:01.157\", \"2:19.995\", \"2:05.988\", \"2:00.071\", \"1:27.609\", \"1:09.262\", \"1:35.039\", \"1:30.562\", \"2:05.939\", \"1:58.084\", \"2:17.498\", \"2:13.502\", \"2:04.755\", \"2:18.088\", \"2:18.161\", \"1:57.732\", \"2:08.793\", \"7:38.393\", \"1:07.011\", \"1:16:28.761\", \"55.466\", \"1:29.454\", \"1:21.807\", \"1:23.383\", \"1:23.263\", \"1:28.207\", \"1:20.973\", \"1:22.334\", \"1:26.177\", \"1:30.445\", \"1:28.343\", \"1:48.107\", \"1:43.918\", \"1:32.207\", \"11:50.839\", \"1:41.462\", \"1:28.666\", \"1:40.079\", \"1:29.129\", \"1:31.292\", \"1:30.523\", \"1:43.091\", \"1:31.079\", \"1:42.016\", \"1:31.461\", \"1:32.390\", \"1:38.347\", \"1:35.538\", \"1:46.855\", \"2:09.445\", \"48.425\", \"47.429\", \"1:38.966\", \"51.549\", \"1:31.568\", \"1:31.428\", \"1:31.165\", \"49.791\", \"1:26.053\", \"1:24.454\", \"1:33.592\", \"1:24.649\", \"1:14.725\", \"1:19.816\", \"1:19.065\", \"1:20.430\", \"1:20.794\", \"1:23.412\", \"1:27.403\", \"1:39.887\", \"1:35.562\", \"1:36.173\", \"1:13.705\", \"1:25.449\", \"1:25.463\", \"1:38.331\", \"1:35.472\", \"1:45.620\", \"1:39.975\", \"1:14.467\", \"57.474\", \"1:20.422\", \"1:18.157\", \"1:24.950\", \"1:24.290\", \"1:17.042\", \"1:20.615\", \"1:25.353\", \"1:26.810\", \"1:30.307\", \"2:51.563\", \"1:17.560\", \"1:33.923\", \"1:17.551\", \"1:21.749\", \"1:19.787\", \"1:18.817\", \"1:21.927\", \"1:32.458\", \"1:37.207\", \"1:22.528\", \"1:27.306\", \"1:24.862\", \"1:24.725\", \"1:28.470\", \"1:24.700\", \"1:20.147\", \"1:27.877\", \"2:14.812\", \"1:30.336\", \"58.084\", \"1:35.114\", \"1:18.662\", \"1:34.702\", \"1:29.864\", \"1:58.202\", \"1:16.517\", \"1:31.130\", \"1:27.676\", \"1:18.901\", \"1:15.200\", \"3:50.035\", \"1:44.568\", \"1:53.978\", \"2:00.336\", \"1:42.261\", \"1:42.382\", \"1:48.549\", \"1:44.124\", \"1:53.146\", \"1:57.587\", \"1:33.752\", \"1:37.854\", \"1:37.890\", \"1:51.517\", \"1:33.308\", \"1:23.935\", \"4:19.759\", \"1:17.973\", \"1:22.300\", \"1:23.544\", \"1:22.308\", \"1:24.278\", \"1:36.046\", \"1:26.544\", \"1:34.646\", \"1:35.107\", \"1:23.144\", \"1:19.858\", \"1:32.208\", \"1:45.568\", \"1:30.598\", \"1:26.088\", \"1:28.122\", \"1:10.357\", \"1:29.311\", \"1:46.512\", \"1:57.462\", \"1:51.837\", \"1:37.405\", \"1:49.589\", \"1:44.022\", \"1:24.478\", \"1:06.748\", \"1:44.401\", \"1:43.008\", \"1:59.385\", \"1:08.460\", \"1:08.447\", \"1:09.746\", \"1:07.994\", \"1:18.570\", \"1:07.925\", \"1:08.769\", \"1:07.045\", \"1:10.068\", \"1:10.815\", \"1:11.566\", \"1:13.206\", \"1:10.255\", \"1:16.215\", \"1:14.517\", \"1:14.539\", \"1:14.086\", \"1:17.322\", \"1:15.923\", \"1:15.243\", \"1:21.134\", \"1:16.777\", \"1:18.072\", \"1:22.463\", \"1:16.039\", \"1:16.525\", \"1:18.110\", \"1:10.607\", \"1:11.767\", \"1:11.940\", \"1:17.325\", \"1:19.215\", \"1:15.373\", \"1:21.302\", \"1:19.574\", \"1:17.653\", \"1:21.632\", \"1:17.984\", \"1:17.003\", \"1:14.289\", \"1:29.854\", \"1:23.448\", \"1:11.666\", \"1:13.432\", \"1:22.021\", \"1:16.183\", \"1:16.166\", \"1:12.087\", \"1:11.610\", \"1:19.195\", \"1:19.469\", \"1:18.409\", \"1:18.158\", \"1:20.227\", \"1:19.553\", \"1:19.264\", \"1:16.476\", \"1:16.008\", \"1:15.676\", \"1:27.819\", \"1:27.295\", \"1:24.591\", \"1:20.571\", \"1:23.253\", \"1:23.187\", \"1:23.390\", \"1:25.029\", \"1:22.935\", \"1:24.650\", \"1:10.783\", \"1:15.265\", \"1:21.656\", \"1:21.086\", \"1:20.719\", \"1:07.389\", \"1:08.644\", \"1:06.096\", \"1:03.099\", \"1:15.462\", \"1:16.761\", \"1:05.572\", \"1:00.199\", \"55.109\", \"1:01.832\", \"56.225\", \"55.806\", \"1:04.324\", \"1:04.730\", \"2:05.292\", \"2:08.432\", \"2:06.638\", \"2:08.330\", \"2:07.912\", \"2:07.825\", \"2:09.008\", \"2:07.169\", \"2:08.150\", \"2:08.173\", \"2:07.575\", \"2:07.624\", \"2:08.968\", \"2:04.880\", \"1:35.438\", \"1:52.575\", \"1:43.179\", \"1:10.528\", \"1:02.097\", \"1:09.882\", \"1:02.805\", \"1:05.137\", \"59.695\", \"55.711\", \"58.099\", \"1:07.645\", \"2:06.990\", \"2:07.634\", \"2:07.388\", \"2:08.541\", \"2:07.362\", \"2:07.913\", \"1:58.794\", \"1:35.051\", \"1:03.974\", \"1:09.759\", \"1:05.542\", \"1:05.649\", \"1:04.700\", \"58.326\", \"57.977\", \"58.506\", \"1:02.837\", \"1:00.739\", \"59.439\", \"57.205\", \"56.586\", \"57.403\", \"55.808\", \"55.751\", \"1:06.299\", \"56.201\", \"56.075\", \"1:02.305\", \"59.583\", \"1:04.365\", \"58.264\", \"1:03.295\", \"1:02.827\", \"1:03.827\", \"1:02.437\", \"1:07.952\", \"1:02.644\", \"1:02.541\", \"1:02.708\", \"1:03.066\", \"1:03.141\", \"1:02.776\", \"57.086\", \"57.290\", \"1:02.852\", \"1:03.236\", \"1:06.501\", \"1:03.629\", \"1:02.504\", \"58.360\", \"1:14.590\", \"1:09.992\", \"1:09.891\", \"1:13.072\", \"1:13.904\", \"1:13.320\", \"1:14.937\", \"1:13.392\", \"1:16.215\", \"1:13.026\", \"1:16.963\", \"1:13.036\", \"1:15.467\", \"1:17.058\", \"1:11.724\", \"1:14.207\", \"1:18.222\", \"1:16.183\", \"1:18.127\", \"1:15.578\", \"1:16.104\", \"1:14.918\", \"1:13.046\", \"1:14.189\", \"1:13.575\", \"1:15.049\", \"1:11.892\", \"1:12.784\", \"1:16.566\", \"1:16.355\", \"1:14.430\", \"1:16.717\", \"1:17.005\", \"1:14.669\", \"1:24.500\", \"1:23.447\", \"1:24.996\", \"1:30.361\", \"1:23.905\", \"1:24.564\", \"1:03.472\", \"1:06.662\", \"1:09.399\", \"1:09.160\", \"1:12.517\", \"1:09.478\", \"1:11.570\", \"1:13.266\", \"1:15.679\", \"1:11.485\", \"1:16.686\", \"1:09.718\", \"1:16.561\", \"1:13.814\", \"1:12.595\", \"1:14.151\", \"1:12.005\", \"1:14.780\", \"1:15.307\", \"1:13.658\", \"1:14.346\", \"1:14.058\", \"1:12.789\", \"1:17.422\", \"1:26.615\", \"1:27.589\", \"2:09.855\", \"1:24.876\", \"1:22.140\", \"1:20.650\", \"1:17.971\", \"1:27.823\", \"1:26.745\", \"1:22.478\", \"1:20.918\", \"1:18.515\", \"1:29.290\", \"1:18.429\", \"1:14.948\", \"1:19.851\", \"1:14.123\", \"1:22.298\", \"1:15.881\", \"1:13.125\", \"1:11.910\", \"1:12.886\", \"1:11.960\", \"1:11.308\", \"1:14.362\", \"1:10.429\", \"1:14.619\", \"1:14.326\", \"1:20.573\", \"1:20.677\", \"1:15.700\", \"1:20.268\", \"1:18.420\", \"1:27.293\", \"1:34.671\", \"1:32.691\", \"2:16.598\", \"2:05.152\", \"1:38.890\", \"2:26.451\", \"1:30.140\", \"1:25.831\", \"1:24.427\", \"1:25.330\", \"1:23.000\", \"38.754\", \"39.127\", \"35.894\", \"35.353\", \"41.459\", \"36.660\", \"35.498\", \"36.111\", \"37.023\", \"37.004\", \"35.938\", \"40.063\", \"38.299\", \"42.342\", \"39.494\", \"39.462\", \"39.465\", \"40.097\", \"40.643\", \"39.742\", \"41.964\", \"41.642\", \"42.165\", \"42.495\", \"41.846\", \"41.343\", \"41.701\", \"36.757\", \"36.737\", \"37.836\", \"38.453\", \"41.138\", \"39.470\", \"41.691\", \"44.788\", \"42.944\", \"43.046\", \"40.930\", \"40.858\", \"48.888\", \"49.553\", \"41.578\", \"37.082\", \"44.937\", \"44.446\", \"36.414\", \"35.891\", \"37.464\", \"38.692\", \"38.983\", \"38.873\", \"38.840\", \"39.116\", \"38.647\", \"38.826\", \"39.143\", \"39.255\", \"39.159\", \"39.298\", \"39.589\", \"39.713\", \"39.650\", \"40.202\", \"40.088\", \"39.869\", \"39.933\", \"41.574\", \"40.580\", \"40.571\", \"34.173\", \"36.330\", \"39.434\", \"38.933\", \"39.669\", \"33.526\", \"32.503\", \"35.670\", \"32.235\", \"39.762\", \"39.734\", \"33.693\", \"32.144\", \"30.971\", \"34.384\", \"31.029\", \"32.104\", \"35.583\", \"35.773\", \"1:25.604\", \"1:20.674\", \"1:12.515\", \"1:17.689\", \"1:10.734\", \"1:05.759\", \"1:02.955\", \"55.600\", \"45.128\", \"47.308\", \"47.012\", \"37.351\", \"1:38.686\", \"38.710\", \"29.824\", \"36.695\", \"33.492\", \"36.299\", \"32.550\", \"36.362\", \"33.904\", \"35.129\", \"32.887\", \"31.194\", \"31.284\", \"36.577\", \"1:22.814\", \"1:21.434\", \"1:16.350\", \"1:12.753\", \"51.060\", \"56.531\", \"34.174\", \"30.496\", \"34.213\", \"36.258\", \"36.187\", \"36.486\", \"35.867\", \"32.078\", \"32.919\", \"32.596\", \"33.383\", \"33.983\", \"32.899\", \"31.835\", \"31.456\", \"32.339\", \"29.708\", \"30.789\", \"35.972\", \"31.103\", \"29.738\", \"35.245\", \"33.073\", \"35.862\", \"32.346\", \"35.432\", \"34.856\", \"35.432\", \"34.997\", \"35.788\", \"34.665\", \"34.931\", \"34.779\", \"35.712\", \"35.145\", \"34.879\", \"32.339\", \"32.594\", \"34.994\", \"35.834\", \"36.544\", \"35.097\", \"34.919\", \"37.133\", \"36.623\", \"39.329\", \"37.657\", \"39.303\", \"39.371\", \"39.189\", \"39.861\", \"40.079\", \"39.325\", \"39.526\", \"40.481\", \"38.130\", \"41.231\", \"40.826\", \"35.012\", \"37.984\", \"41.250\", \"38.948\", \"44.067\", \"39.772\", \"39.677\", \"39.704\", \"39.951\", \"37.997\", \"38.338\", \"39.472\", \"37.455\", \"38.625\", \"39.731\", \"39.820\", \"39.292\", \"40.818\", \"39.799\", \"40.045\", \"39.231\", \"40.147\", \"40.566\", \"42.426\", \"38.963\", \"39.105\", \"36.204\", \"35.904\", \"37.939\", \"37.545\", \"35.091\", \"34.509\", \"37.089\", \"40.590\", \"39.838\", \"37.431\", \"40.064\", \"36.054\", \"40.800\", \"39.069\", \"39.146\", \"37.652\", \"35.691\", \"40.879\", \"40.451\", \"39.415\", \"38.163\", \"39.725\", \"39.789\", \"48.831\", \"48.187\", \"47.521\", \"1:18.647\", \"45.253\", \"44.481\", \"42.755\", \"41.619\", \"44.183\", \"44.252\", \"46.896\", \"46.169\", \"40.726\", \"46.701\", \"46.382\", \"39.763\", \"41.048\", \"39.487\", \"41.652\", \"39.510\", \"39.920\", \"37.658\", \"38.062\", \"37.608\", \"36.676\", \"37.936\", \"34.929\", \"39.562\", \"39.771\", \"59.703\", \"59.420\", \"53.724\", \"52.453\", \"45.206\", \"48.229\", \"53.671\", \"52.689\", \"1:04.810\", \"1:29.923\", \"1:32.370\", \"1:25.263\", \"50.044\", \"46.157\", \"44.592\", \"43.584\", \"43.075\"], \"y0\": \" \", \"yaxis\": \"y\"}],\n",
       "                        {\"boxmode\": \"group\", \"height\": 600, \"legend\": {\"tracegroupgap\": 0}, \"margin\": {\"t\": 60}, \"template\": {\"data\": {\"bar\": [{\"error_x\": {\"color\": \"#2a3f5f\"}, \"error_y\": {\"color\": \"#2a3f5f\"}, \"marker\": {\"line\": {\"color\": \"#E5ECF6\", \"width\": 0.5}}, \"type\": \"bar\"}], \"barpolar\": [{\"marker\": {\"line\": {\"color\": \"#E5ECF6\", \"width\": 0.5}}, \"type\": \"barpolar\"}], \"carpet\": [{\"aaxis\": {\"endlinecolor\": \"#2a3f5f\", \"gridcolor\": \"white\", \"linecolor\": \"white\", \"minorgridcolor\": \"white\", \"startlinecolor\": \"#2a3f5f\"}, \"baxis\": {\"endlinecolor\": \"#2a3f5f\", \"gridcolor\": \"white\", \"linecolor\": \"white\", \"minorgridcolor\": \"white\", \"startlinecolor\": \"#2a3f5f\"}, \"type\": \"carpet\"}], \"choropleth\": [{\"colorbar\": {\"outlinewidth\": 0, \"ticks\": \"\"}, \"type\": \"choropleth\"}], \"contour\": [{\"colorbar\": {\"outlinewidth\": 0, \"ticks\": \"\"}, \"colorscale\": [[0.0, \"#0d0887\"], [0.1111111111111111, \"#46039f\"], [0.2222222222222222, \"#7201a8\"], [0.3333333333333333, \"#9c179e\"], [0.4444444444444444, \"#bd3786\"], [0.5555555555555556, \"#d8576b\"], [0.6666666666666666, \"#ed7953\"], [0.7777777777777778, \"#fb9f3a\"], [0.8888888888888888, \"#fdca26\"], [1.0, \"#f0f921\"]], \"type\": \"contour\"}], \"contourcarpet\": [{\"colorbar\": {\"outlinewidth\": 0, \"ticks\": \"\"}, \"type\": \"contourcarpet\"}], \"heatmap\": [{\"colorbar\": {\"outlinewidth\": 0, \"ticks\": \"\"}, \"colorscale\": [[0.0, \"#0d0887\"], [0.1111111111111111, \"#46039f\"], [0.2222222222222222, \"#7201a8\"], [0.3333333333333333, \"#9c179e\"], [0.4444444444444444, \"#bd3786\"], [0.5555555555555556, \"#d8576b\"], [0.6666666666666666, \"#ed7953\"], [0.7777777777777778, \"#fb9f3a\"], [0.8888888888888888, \"#fdca26\"], [1.0, \"#f0f921\"]], \"type\": \"heatmap\"}], \"heatmapgl\": [{\"colorbar\": {\"outlinewidth\": 0, \"ticks\": \"\"}, \"colorscale\": [[0.0, \"#0d0887\"], [0.1111111111111111, \"#46039f\"], [0.2222222222222222, \"#7201a8\"], [0.3333333333333333, \"#9c179e\"], [0.4444444444444444, \"#bd3786\"], [0.5555555555555556, \"#d8576b\"], [0.6666666666666666, \"#ed7953\"], [0.7777777777777778, \"#fb9f3a\"], [0.8888888888888888, \"#fdca26\"], [1.0, \"#f0f921\"]], \"type\": \"heatmapgl\"}], \"histogram\": [{\"marker\": {\"colorbar\": {\"outlinewidth\": 0, \"ticks\": \"\"}}, \"type\": \"histogram\"}], \"histogram2d\": [{\"colorbar\": {\"outlinewidth\": 0, \"ticks\": \"\"}, \"colorscale\": [[0.0, \"#0d0887\"], [0.1111111111111111, \"#46039f\"], [0.2222222222222222, \"#7201a8\"], [0.3333333333333333, \"#9c179e\"], [0.4444444444444444, \"#bd3786\"], [0.5555555555555556, \"#d8576b\"], [0.6666666666666666, \"#ed7953\"], [0.7777777777777778, \"#fb9f3a\"], [0.8888888888888888, \"#fdca26\"], [1.0, \"#f0f921\"]], \"type\": \"histogram2d\"}], \"histogram2dcontour\": [{\"colorbar\": {\"outlinewidth\": 0, \"ticks\": \"\"}, \"colorscale\": [[0.0, \"#0d0887\"], [0.1111111111111111, \"#46039f\"], [0.2222222222222222, \"#7201a8\"], [0.3333333333333333, \"#9c179e\"], [0.4444444444444444, \"#bd3786\"], [0.5555555555555556, \"#d8576b\"], [0.6666666666666666, \"#ed7953\"], [0.7777777777777778, \"#fb9f3a\"], [0.8888888888888888, \"#fdca26\"], [1.0, \"#f0f921\"]], \"type\": \"histogram2dcontour\"}], \"mesh3d\": [{\"colorbar\": {\"outlinewidth\": 0, \"ticks\": \"\"}, \"type\": \"mesh3d\"}], \"parcoords\": [{\"line\": {\"colorbar\": {\"outlinewidth\": 0, \"ticks\": \"\"}}, \"type\": \"parcoords\"}], \"scatter\": [{\"marker\": {\"colorbar\": {\"outlinewidth\": 0, \"ticks\": \"\"}}, \"type\": \"scatter\"}], \"scatter3d\": [{\"line\": {\"colorbar\": {\"outlinewidth\": 0, \"ticks\": \"\"}}, \"marker\": {\"colorbar\": {\"outlinewidth\": 0, \"ticks\": \"\"}}, \"type\": \"scatter3d\"}], \"scattercarpet\": [{\"marker\": {\"colorbar\": {\"outlinewidth\": 0, \"ticks\": \"\"}}, \"type\": \"scattercarpet\"}], \"scattergeo\": [{\"marker\": {\"colorbar\": {\"outlinewidth\": 0, \"ticks\": \"\"}}, \"type\": \"scattergeo\"}], \"scattergl\": [{\"marker\": {\"colorbar\": {\"outlinewidth\": 0, \"ticks\": \"\"}}, \"type\": \"scattergl\"}], \"scattermapbox\": [{\"marker\": {\"colorbar\": {\"outlinewidth\": 0, \"ticks\": \"\"}}, \"type\": \"scattermapbox\"}], \"scatterpolar\": [{\"marker\": {\"colorbar\": {\"outlinewidth\": 0, \"ticks\": \"\"}}, \"type\": \"scatterpolar\"}], \"scatterpolargl\": [{\"marker\": {\"colorbar\": {\"outlinewidth\": 0, \"ticks\": \"\"}}, \"type\": \"scatterpolargl\"}], \"scatterternary\": [{\"marker\": {\"colorbar\": {\"outlinewidth\": 0, \"ticks\": \"\"}}, \"type\": \"scatterternary\"}], \"surface\": [{\"colorbar\": {\"outlinewidth\": 0, \"ticks\": \"\"}, \"colorscale\": [[0.0, \"#0d0887\"], [0.1111111111111111, \"#46039f\"], [0.2222222222222222, \"#7201a8\"], [0.3333333333333333, \"#9c179e\"], [0.4444444444444444, \"#bd3786\"], [0.5555555555555556, \"#d8576b\"], [0.6666666666666666, \"#ed7953\"], [0.7777777777777778, \"#fb9f3a\"], [0.8888888888888888, \"#fdca26\"], [1.0, \"#f0f921\"]], \"type\": \"surface\"}], \"table\": [{\"cells\": {\"fill\": {\"color\": \"#EBF0F8\"}, \"line\": {\"color\": \"white\"}}, \"header\": {\"fill\": {\"color\": \"#C8D4E3\"}, \"line\": {\"color\": \"white\"}}, \"type\": \"table\"}]}, \"layout\": {\"annotationdefaults\": {\"arrowcolor\": \"#2a3f5f\", \"arrowhead\": 0, \"arrowwidth\": 1}, \"colorscale\": {\"diverging\": [[0, \"#8e0152\"], [0.1, \"#c51b7d\"], [0.2, \"#de77ae\"], [0.3, \"#f1b6da\"], [0.4, \"#fde0ef\"], [0.5, \"#f7f7f7\"], [0.6, \"#e6f5d0\"], [0.7, \"#b8e186\"], [0.8, \"#7fbc41\"], [0.9, \"#4d9221\"], [1, \"#276419\"]], \"sequential\": [[0.0, \"#0d0887\"], [0.1111111111111111, \"#46039f\"], [0.2222222222222222, \"#7201a8\"], [0.3333333333333333, \"#9c179e\"], [0.4444444444444444, \"#bd3786\"], [0.5555555555555556, \"#d8576b\"], [0.6666666666666666, \"#ed7953\"], [0.7777777777777778, \"#fb9f3a\"], [0.8888888888888888, \"#fdca26\"], [1.0, \"#f0f921\"]], \"sequentialminus\": [[0.0, \"#0d0887\"], [0.1111111111111111, \"#46039f\"], [0.2222222222222222, \"#7201a8\"], [0.3333333333333333, \"#9c179e\"], [0.4444444444444444, \"#bd3786\"], [0.5555555555555556, \"#d8576b\"], [0.6666666666666666, \"#ed7953\"], [0.7777777777777778, \"#fb9f3a\"], [0.8888888888888888, \"#fdca26\"], [1.0, \"#f0f921\"]]}, \"colorway\": [\"#636efa\", \"#EF553B\", \"#00cc96\", \"#ab63fa\", \"#FFA15A\", \"#19d3f3\", \"#FF6692\", \"#B6E880\", \"#FF97FF\", \"#FECB52\"], \"font\": {\"color\": \"#2a3f5f\"}, \"geo\": {\"bgcolor\": \"white\", \"lakecolor\": \"white\", \"landcolor\": \"#E5ECF6\", \"showlakes\": true, \"showland\": true, \"subunitcolor\": \"white\"}, \"hoverlabel\": {\"align\": \"left\"}, \"hovermode\": \"closest\", \"mapbox\": {\"style\": \"light\"}, \"paper_bgcolor\": \"white\", \"plot_bgcolor\": \"#E5ECF6\", \"polar\": {\"angularaxis\": {\"gridcolor\": \"white\", \"linecolor\": \"white\", \"ticks\": \"\"}, \"bgcolor\": \"#E5ECF6\", \"radialaxis\": {\"gridcolor\": \"white\", \"linecolor\": \"white\", \"ticks\": \"\"}}, \"scene\": {\"xaxis\": {\"backgroundcolor\": \"#E5ECF6\", \"gridcolor\": \"white\", \"gridwidth\": 2, \"linecolor\": \"white\", \"showbackground\": true, \"ticks\": \"\", \"zerolinecolor\": \"white\"}, \"yaxis\": {\"backgroundcolor\": \"#E5ECF6\", \"gridcolor\": \"white\", \"gridwidth\": 2, \"linecolor\": \"white\", \"showbackground\": true, \"ticks\": \"\", \"zerolinecolor\": \"white\"}, \"zaxis\": {\"backgroundcolor\": \"#E5ECF6\", \"gridcolor\": \"white\", \"gridwidth\": 2, \"linecolor\": \"white\", \"showbackground\": true, \"ticks\": \"\", \"zerolinecolor\": \"white\"}}, \"shapedefaults\": {\"line\": {\"color\": \"#2a3f5f\"}}, \"ternary\": {\"aaxis\": {\"gridcolor\": \"white\", \"linecolor\": \"white\", \"ticks\": \"\"}, \"baxis\": {\"gridcolor\": \"white\", \"linecolor\": \"white\", \"ticks\": \"\"}, \"bgcolor\": \"#E5ECF6\", \"caxis\": {\"gridcolor\": \"white\", \"linecolor\": \"white\", \"ticks\": \"\"}}, \"title\": {\"x\": 0.05}, \"xaxis\": {\"automargin\": true, \"gridcolor\": \"white\", \"linecolor\": \"white\", \"ticks\": \"\", \"zerolinecolor\": \"white\", \"zerolinewidth\": 2}, \"yaxis\": {\"automargin\": true, \"gridcolor\": \"white\", \"linecolor\": \"white\", \"ticks\": \"\", \"zerolinecolor\": \"white\", \"zerolinewidth\": 2}}}, \"xaxis\": {\"anchor\": \"y\", \"domain\": [0.0, 0.98], \"title\": {\"text\": \"variable\"}}, \"yaxis\": {\"anchor\": \"x\", \"domain\": [0.0, 1.0], \"title\": {\"text\": \"value\"}}},\n",
       "                        {\"responsive\": true}\n",
       "                    ).then(function(){\n",
       "                            \n",
       "var gd = document.getElementById('c089d624-6a62-4a5c-a909-ca54420e630c');\n",
       "var x = new MutationObserver(function (mutations, observer) {{\n",
       "        var display = window.getComputedStyle(gd).display;\n",
       "        if (!display || display === 'none') {{\n",
       "            console.log([gd, 'removed!']);\n",
       "            Plotly.purge(gd);\n",
       "            observer.disconnect();\n",
       "        }}\n",
       "}});\n",
       "\n",
       "// Listen for the removal of the full notebook cells\n",
       "var notebookContainer = gd.closest('#notebook-container');\n",
       "if (notebookContainer) {{\n",
       "    x.observe(notebookContainer, {childList: true});\n",
       "}}\n",
       "\n",
       "// Listen for the clearing of the current output cell\n",
       "var outputEl = gd.closest('.output');\n",
       "if (outputEl) {{\n",
       "    x.observe(outputEl, {childList: true});\n",
       "}}\n",
       "\n",
       "                        })\n",
       "                };\n",
       "                });\n",
       "            </script>\n",
       "        </div>"
      ]
     },
     "metadata": {},
     "output_type": "display_data"
    }
   ],
   "source": [
    "fig = px.box(pit_data[pit_data['LAP_TYPE']=='OUTLAP'][['LAP_TYPE','S1','S2','S3']].melt(id_vars='LAP_TYPE'),\n",
    "             x=\"variable\", y=\"value\")\n",
    "fig.show()"
   ]
  },
  {
   "cell_type": "markdown",
   "metadata": {},
   "source": [
    "For comparison, what are the sector time distributions for the 50 fastest laps, bearing in mind that the pit event distributions are from all cars and the 50 fastest lap distributions are likely from a more limited range of cars?"
   ]
  },
  {
   "cell_type": "code",
   "execution_count": 354,
   "metadata": {},
   "outputs": [
    {
     "data": {
      "application/vnd.plotly.v1+json": {
       "config": {
        "plotlyServerURL": "https://plot.ly"
       },
       "data": [
        {
         "alignmentgroup": "True",
         "hoverlabel": {
          "namelength": 0
         },
         "hovertemplate": "variable=%{x}<br>value=%{y}",
         "legendgroup": "",
         "marker": {
          "color": "#636efa"
         },
         "name": "",
         "notched": false,
         "offsetgroup": "",
         "orientation": "v",
         "showlegend": false,
         "type": "box",
         "x": [
          "S1",
          "S1",
          "S1",
          "S1",
          "S1",
          "S1",
          "S1",
          "S1",
          "S1",
          "S1",
          "S1",
          "S1",
          "S1",
          "S1",
          "S1",
          "S1",
          "S1",
          "S1",
          "S1",
          "S1",
          "S1",
          "S1",
          "S1",
          "S1",
          "S1",
          "S1",
          "S1",
          "S1",
          "S1",
          "S1",
          "S1",
          "S1",
          "S1",
          "S1",
          "S1",
          "S1",
          "S1",
          "S1",
          "S1",
          "S1",
          "S1",
          "S1",
          "S1",
          "S1",
          "S1",
          "S1",
          "S1",
          "S1",
          "S1",
          "S1",
          "S2",
          "S2",
          "S2",
          "S2",
          "S2",
          "S2",
          "S2",
          "S2",
          "S2",
          "S2",
          "S2",
          "S2",
          "S2",
          "S2",
          "S2",
          "S2",
          "S2",
          "S2",
          "S2",
          "S2",
          "S2",
          "S2",
          "S2",
          "S2",
          "S2",
          "S2",
          "S2",
          "S2",
          "S2",
          "S2",
          "S2",
          "S2",
          "S2",
          "S2",
          "S2",
          "S2",
          "S2",
          "S2",
          "S2",
          "S2",
          "S2",
          "S2",
          "S2",
          "S2",
          "S2",
          "S2",
          "S2",
          "S2",
          "S2",
          "S2",
          "S3",
          "S3",
          "S3",
          "S3",
          "S3",
          "S3",
          "S3",
          "S3",
          "S3",
          "S3",
          "S3",
          "S3",
          "S3",
          "S3",
          "S3",
          "S3",
          "S3",
          "S3",
          "S3",
          "S3",
          "S3",
          "S3",
          "S3",
          "S3",
          "S3",
          "S3",
          "S3",
          "S3",
          "S3",
          "S3",
          "S3",
          "S3",
          "S3",
          "S3",
          "S3",
          "S3",
          "S3",
          "S3",
          "S3",
          "S3",
          "S3",
          "S3",
          "S3",
          "S3",
          "S3",
          "S3",
          "S3",
          "S3",
          "S3",
          "S3"
         ],
         "x0": " ",
         "xaxis": "x",
         "y": [
          "32.780",
          "32.905",
          "32.772",
          "32.754",
          "33.205",
          "32.814",
          "32.766",
          "33.871",
          "32.671",
          "32.974",
          "33.613",
          "32.802",
          "32.971",
          "34.263",
          "32.971",
          "32.709",
          "33.055",
          "32.984",
          "34.232",
          "32.882",
          "33.088",
          "33.110",
          "33.095",
          "33.281",
          "34.394",
          "33.163",
          "34.353",
          "32.837",
          "33.084",
          "32.341",
          "32.919",
          "33.029",
          "33.025",
          "33.064",
          "34.276",
          "33.522",
          "33.398",
          "34.358",
          "34.251",
          "32.941",
          "34.214",
          "33.244",
          "34.357",
          "33.026",
          "33.058",
          "34.055",
          "32.521",
          "34.383",
          "34.315",
          "32.832",
          "55.068",
          "54.863",
          "54.787",
          "55.459",
          "55.215",
          "55.537",
          "55.498",
          "54.741",
          "54.913",
          "55.597",
          "55.228",
          "55.581",
          "55.762",
          "53.223",
          "55.955",
          "55.807",
          "55.766",
          "55.539",
          "53.767",
          "56.103",
          "56.104",
          "55.920",
          "55.166",
          "55.669",
          "53.881",
          "55.766",
          "53.797",
          "56.233",
          "56.022",
          "56.924",
          "56.008",
          "56.014",
          "56.460",
          "56.137",
          "53.873",
          "55.916",
          "55.679",
          "54.044",
          "53.953",
          "56.327",
          "55.357",
          "56.079",
          "54.043",
          "55.764",
          "56.492",
          "56.114",
          "56.679",
          "54.051",
          "53.870",
          "56.173",
          "29.546",
          "29.626",
          "29.977",
          "29.757",
          "29.636",
          "29.819",
          "29.983",
          "29.694",
          "30.730",
          "29.763",
          "29.542",
          "30.038",
          "29.803",
          "31.061",
          "29.715",
          "30.127",
          "29.887",
          "30.187",
          "30.751",
          "29.784",
          "29.700",
          "29.864",
          "30.659",
          "29.985",
          "30.662",
          "30.038",
          "30.836",
          "29.924",
          "29.912",
          "29.776",
          "30.138",
          "30.036",
          "29.610",
          "29.929",
          "31.015",
          "29.764",
          "30.127",
          "30.874",
          "31.074",
          "30.037",
          "29.757",
          "30.006",
          "30.993",
          "30.620",
          "29.890",
          "29.274",
          "30.245",
          "31.021",
          "31.289",
          "30.474"
         ],
         "y0": " ",
         "yaxis": "y"
        }
       ],
       "layout": {
        "boxmode": "group",
        "height": 600,
        "legend": {
         "tracegroupgap": 0
        },
        "margin": {
         "t": 60
        },
        "template": {
         "data": {
          "bar": [
           {
            "error_x": {
             "color": "#2a3f5f"
            },
            "error_y": {
             "color": "#2a3f5f"
            },
            "marker": {
             "line": {
              "color": "#E5ECF6",
              "width": 0.5
             }
            },
            "type": "bar"
           }
          ],
          "barpolar": [
           {
            "marker": {
             "line": {
              "color": "#E5ECF6",
              "width": 0.5
             }
            },
            "type": "barpolar"
           }
          ],
          "carpet": [
           {
            "aaxis": {
             "endlinecolor": "#2a3f5f",
             "gridcolor": "white",
             "linecolor": "white",
             "minorgridcolor": "white",
             "startlinecolor": "#2a3f5f"
            },
            "baxis": {
             "endlinecolor": "#2a3f5f",
             "gridcolor": "white",
             "linecolor": "white",
             "minorgridcolor": "white",
             "startlinecolor": "#2a3f5f"
            },
            "type": "carpet"
           }
          ],
          "choropleth": [
           {
            "colorbar": {
             "outlinewidth": 0,
             "ticks": ""
            },
            "type": "choropleth"
           }
          ],
          "contour": [
           {
            "colorbar": {
             "outlinewidth": 0,
             "ticks": ""
            },
            "colorscale": [
             [
              0,
              "#0d0887"
             ],
             [
              0.1111111111111111,
              "#46039f"
             ],
             [
              0.2222222222222222,
              "#7201a8"
             ],
             [
              0.3333333333333333,
              "#9c179e"
             ],
             [
              0.4444444444444444,
              "#bd3786"
             ],
             [
              0.5555555555555556,
              "#d8576b"
             ],
             [
              0.6666666666666666,
              "#ed7953"
             ],
             [
              0.7777777777777778,
              "#fb9f3a"
             ],
             [
              0.8888888888888888,
              "#fdca26"
             ],
             [
              1,
              "#f0f921"
             ]
            ],
            "type": "contour"
           }
          ],
          "contourcarpet": [
           {
            "colorbar": {
             "outlinewidth": 0,
             "ticks": ""
            },
            "type": "contourcarpet"
           }
          ],
          "heatmap": [
           {
            "colorbar": {
             "outlinewidth": 0,
             "ticks": ""
            },
            "colorscale": [
             [
              0,
              "#0d0887"
             ],
             [
              0.1111111111111111,
              "#46039f"
             ],
             [
              0.2222222222222222,
              "#7201a8"
             ],
             [
              0.3333333333333333,
              "#9c179e"
             ],
             [
              0.4444444444444444,
              "#bd3786"
             ],
             [
              0.5555555555555556,
              "#d8576b"
             ],
             [
              0.6666666666666666,
              "#ed7953"
             ],
             [
              0.7777777777777778,
              "#fb9f3a"
             ],
             [
              0.8888888888888888,
              "#fdca26"
             ],
             [
              1,
              "#f0f921"
             ]
            ],
            "type": "heatmap"
           }
          ],
          "heatmapgl": [
           {
            "colorbar": {
             "outlinewidth": 0,
             "ticks": ""
            },
            "colorscale": [
             [
              0,
              "#0d0887"
             ],
             [
              0.1111111111111111,
              "#46039f"
             ],
             [
              0.2222222222222222,
              "#7201a8"
             ],
             [
              0.3333333333333333,
              "#9c179e"
             ],
             [
              0.4444444444444444,
              "#bd3786"
             ],
             [
              0.5555555555555556,
              "#d8576b"
             ],
             [
              0.6666666666666666,
              "#ed7953"
             ],
             [
              0.7777777777777778,
              "#fb9f3a"
             ],
             [
              0.8888888888888888,
              "#fdca26"
             ],
             [
              1,
              "#f0f921"
             ]
            ],
            "type": "heatmapgl"
           }
          ],
          "histogram": [
           {
            "marker": {
             "colorbar": {
              "outlinewidth": 0,
              "ticks": ""
             }
            },
            "type": "histogram"
           }
          ],
          "histogram2d": [
           {
            "colorbar": {
             "outlinewidth": 0,
             "ticks": ""
            },
            "colorscale": [
             [
              0,
              "#0d0887"
             ],
             [
              0.1111111111111111,
              "#46039f"
             ],
             [
              0.2222222222222222,
              "#7201a8"
             ],
             [
              0.3333333333333333,
              "#9c179e"
             ],
             [
              0.4444444444444444,
              "#bd3786"
             ],
             [
              0.5555555555555556,
              "#d8576b"
             ],
             [
              0.6666666666666666,
              "#ed7953"
             ],
             [
              0.7777777777777778,
              "#fb9f3a"
             ],
             [
              0.8888888888888888,
              "#fdca26"
             ],
             [
              1,
              "#f0f921"
             ]
            ],
            "type": "histogram2d"
           }
          ],
          "histogram2dcontour": [
           {
            "colorbar": {
             "outlinewidth": 0,
             "ticks": ""
            },
            "colorscale": [
             [
              0,
              "#0d0887"
             ],
             [
              0.1111111111111111,
              "#46039f"
             ],
             [
              0.2222222222222222,
              "#7201a8"
             ],
             [
              0.3333333333333333,
              "#9c179e"
             ],
             [
              0.4444444444444444,
              "#bd3786"
             ],
             [
              0.5555555555555556,
              "#d8576b"
             ],
             [
              0.6666666666666666,
              "#ed7953"
             ],
             [
              0.7777777777777778,
              "#fb9f3a"
             ],
             [
              0.8888888888888888,
              "#fdca26"
             ],
             [
              1,
              "#f0f921"
             ]
            ],
            "type": "histogram2dcontour"
           }
          ],
          "mesh3d": [
           {
            "colorbar": {
             "outlinewidth": 0,
             "ticks": ""
            },
            "type": "mesh3d"
           }
          ],
          "parcoords": [
           {
            "line": {
             "colorbar": {
              "outlinewidth": 0,
              "ticks": ""
             }
            },
            "type": "parcoords"
           }
          ],
          "scatter": [
           {
            "marker": {
             "colorbar": {
              "outlinewidth": 0,
              "ticks": ""
             }
            },
            "type": "scatter"
           }
          ],
          "scatter3d": [
           {
            "line": {
             "colorbar": {
              "outlinewidth": 0,
              "ticks": ""
             }
            },
            "marker": {
             "colorbar": {
              "outlinewidth": 0,
              "ticks": ""
             }
            },
            "type": "scatter3d"
           }
          ],
          "scattercarpet": [
           {
            "marker": {
             "colorbar": {
              "outlinewidth": 0,
              "ticks": ""
             }
            },
            "type": "scattercarpet"
           }
          ],
          "scattergeo": [
           {
            "marker": {
             "colorbar": {
              "outlinewidth": 0,
              "ticks": ""
             }
            },
            "type": "scattergeo"
           }
          ],
          "scattergl": [
           {
            "marker": {
             "colorbar": {
              "outlinewidth": 0,
              "ticks": ""
             }
            },
            "type": "scattergl"
           }
          ],
          "scattermapbox": [
           {
            "marker": {
             "colorbar": {
              "outlinewidth": 0,
              "ticks": ""
             }
            },
            "type": "scattermapbox"
           }
          ],
          "scatterpolar": [
           {
            "marker": {
             "colorbar": {
              "outlinewidth": 0,
              "ticks": ""
             }
            },
            "type": "scatterpolar"
           }
          ],
          "scatterpolargl": [
           {
            "marker": {
             "colorbar": {
              "outlinewidth": 0,
              "ticks": ""
             }
            },
            "type": "scatterpolargl"
           }
          ],
          "scatterternary": [
           {
            "marker": {
             "colorbar": {
              "outlinewidth": 0,
              "ticks": ""
             }
            },
            "type": "scatterternary"
           }
          ],
          "surface": [
           {
            "colorbar": {
             "outlinewidth": 0,
             "ticks": ""
            },
            "colorscale": [
             [
              0,
              "#0d0887"
             ],
             [
              0.1111111111111111,
              "#46039f"
             ],
             [
              0.2222222222222222,
              "#7201a8"
             ],
             [
              0.3333333333333333,
              "#9c179e"
             ],
             [
              0.4444444444444444,
              "#bd3786"
             ],
             [
              0.5555555555555556,
              "#d8576b"
             ],
             [
              0.6666666666666666,
              "#ed7953"
             ],
             [
              0.7777777777777778,
              "#fb9f3a"
             ],
             [
              0.8888888888888888,
              "#fdca26"
             ],
             [
              1,
              "#f0f921"
             ]
            ],
            "type": "surface"
           }
          ],
          "table": [
           {
            "cells": {
             "fill": {
              "color": "#EBF0F8"
             },
             "line": {
              "color": "white"
             }
            },
            "header": {
             "fill": {
              "color": "#C8D4E3"
             },
             "line": {
              "color": "white"
             }
            },
            "type": "table"
           }
          ]
         },
         "layout": {
          "annotationdefaults": {
           "arrowcolor": "#2a3f5f",
           "arrowhead": 0,
           "arrowwidth": 1
          },
          "colorscale": {
           "diverging": [
            [
             0,
             "#8e0152"
            ],
            [
             0.1,
             "#c51b7d"
            ],
            [
             0.2,
             "#de77ae"
            ],
            [
             0.3,
             "#f1b6da"
            ],
            [
             0.4,
             "#fde0ef"
            ],
            [
             0.5,
             "#f7f7f7"
            ],
            [
             0.6,
             "#e6f5d0"
            ],
            [
             0.7,
             "#b8e186"
            ],
            [
             0.8,
             "#7fbc41"
            ],
            [
             0.9,
             "#4d9221"
            ],
            [
             1,
             "#276419"
            ]
           ],
           "sequential": [
            [
             0,
             "#0d0887"
            ],
            [
             0.1111111111111111,
             "#46039f"
            ],
            [
             0.2222222222222222,
             "#7201a8"
            ],
            [
             0.3333333333333333,
             "#9c179e"
            ],
            [
             0.4444444444444444,
             "#bd3786"
            ],
            [
             0.5555555555555556,
             "#d8576b"
            ],
            [
             0.6666666666666666,
             "#ed7953"
            ],
            [
             0.7777777777777778,
             "#fb9f3a"
            ],
            [
             0.8888888888888888,
             "#fdca26"
            ],
            [
             1,
             "#f0f921"
            ]
           ],
           "sequentialminus": [
            [
             0,
             "#0d0887"
            ],
            [
             0.1111111111111111,
             "#46039f"
            ],
            [
             0.2222222222222222,
             "#7201a8"
            ],
            [
             0.3333333333333333,
             "#9c179e"
            ],
            [
             0.4444444444444444,
             "#bd3786"
            ],
            [
             0.5555555555555556,
             "#d8576b"
            ],
            [
             0.6666666666666666,
             "#ed7953"
            ],
            [
             0.7777777777777778,
             "#fb9f3a"
            ],
            [
             0.8888888888888888,
             "#fdca26"
            ],
            [
             1,
             "#f0f921"
            ]
           ]
          },
          "colorway": [
           "#636efa",
           "#EF553B",
           "#00cc96",
           "#ab63fa",
           "#FFA15A",
           "#19d3f3",
           "#FF6692",
           "#B6E880",
           "#FF97FF",
           "#FECB52"
          ],
          "font": {
           "color": "#2a3f5f"
          },
          "geo": {
           "bgcolor": "white",
           "lakecolor": "white",
           "landcolor": "#E5ECF6",
           "showlakes": true,
           "showland": true,
           "subunitcolor": "white"
          },
          "hoverlabel": {
           "align": "left"
          },
          "hovermode": "closest",
          "mapbox": {
           "style": "light"
          },
          "paper_bgcolor": "white",
          "plot_bgcolor": "#E5ECF6",
          "polar": {
           "angularaxis": {
            "gridcolor": "white",
            "linecolor": "white",
            "ticks": ""
           },
           "bgcolor": "#E5ECF6",
           "radialaxis": {
            "gridcolor": "white",
            "linecolor": "white",
            "ticks": ""
           }
          },
          "scene": {
           "xaxis": {
            "backgroundcolor": "#E5ECF6",
            "gridcolor": "white",
            "gridwidth": 2,
            "linecolor": "white",
            "showbackground": true,
            "ticks": "",
            "zerolinecolor": "white"
           },
           "yaxis": {
            "backgroundcolor": "#E5ECF6",
            "gridcolor": "white",
            "gridwidth": 2,
            "linecolor": "white",
            "showbackground": true,
            "ticks": "",
            "zerolinecolor": "white"
           },
           "zaxis": {
            "backgroundcolor": "#E5ECF6",
            "gridcolor": "white",
            "gridwidth": 2,
            "linecolor": "white",
            "showbackground": true,
            "ticks": "",
            "zerolinecolor": "white"
           }
          },
          "shapedefaults": {
           "line": {
            "color": "#2a3f5f"
           }
          },
          "ternary": {
           "aaxis": {
            "gridcolor": "white",
            "linecolor": "white",
            "ticks": ""
           },
           "baxis": {
            "gridcolor": "white",
            "linecolor": "white",
            "ticks": ""
           },
           "bgcolor": "#E5ECF6",
           "caxis": {
            "gridcolor": "white",
            "linecolor": "white",
            "ticks": ""
           }
          },
          "title": {
           "x": 0.05
          },
          "xaxis": {
           "automargin": true,
           "gridcolor": "white",
           "linecolor": "white",
           "ticks": "",
           "zerolinecolor": "white",
           "zerolinewidth": 2
          },
          "yaxis": {
           "automargin": true,
           "gridcolor": "white",
           "linecolor": "white",
           "ticks": "",
           "zerolinecolor": "white",
           "zerolinewidth": 2
          }
         }
        },
        "xaxis": {
         "anchor": "y",
         "domain": [
          0,
          0.98
         ],
         "title": {
          "text": "variable"
         }
        },
        "yaxis": {
         "anchor": "x",
         "domain": [
          0,
          1
         ],
         "title": {
          "text": "value"
         }
        }
       }
      },
      "text/html": [
       "<div>\n",
       "        \n",
       "        \n",
       "            <div id=\"6ecc48c7-933f-4735-8157-c58832b13afc\" class=\"plotly-graph-div\" style=\"height:600px; width:100%;\"></div>\n",
       "            <script type=\"text/javascript\">\n",
       "                require([\"plotly\"], function(Plotly) {\n",
       "                    window.PLOTLYENV=window.PLOTLYENV || {};\n",
       "                    \n",
       "                if (document.getElementById(\"6ecc48c7-933f-4735-8157-c58832b13afc\")) {\n",
       "                    Plotly.newPlot(\n",
       "                        '6ecc48c7-933f-4735-8157-c58832b13afc',\n",
       "                        [{\"alignmentgroup\": \"True\", \"hoverlabel\": {\"namelength\": 0}, \"hovertemplate\": \"variable=%{x}<br>value=%{y}\", \"legendgroup\": \"\", \"marker\": {\"color\": \"#636efa\"}, \"name\": \"\", \"notched\": false, \"offsetgroup\": \"\", \"orientation\": \"v\", \"showlegend\": false, \"type\": \"box\", \"x\": [\"S1\", \"S1\", \"S1\", \"S1\", \"S1\", \"S1\", \"S1\", \"S1\", \"S1\", \"S1\", \"S1\", \"S1\", \"S1\", \"S1\", \"S1\", \"S1\", \"S1\", \"S1\", \"S1\", \"S1\", \"S1\", \"S1\", \"S1\", \"S1\", \"S1\", \"S1\", \"S1\", \"S1\", \"S1\", \"S1\", \"S1\", \"S1\", \"S1\", \"S1\", \"S1\", \"S1\", \"S1\", \"S1\", \"S1\", \"S1\", \"S1\", \"S1\", \"S1\", \"S1\", \"S1\", \"S1\", \"S1\", \"S1\", \"S1\", \"S1\", \"S2\", \"S2\", \"S2\", \"S2\", \"S2\", \"S2\", \"S2\", \"S2\", \"S2\", \"S2\", \"S2\", \"S2\", \"S2\", \"S2\", \"S2\", \"S2\", \"S2\", \"S2\", \"S2\", \"S2\", \"S2\", \"S2\", \"S2\", \"S2\", \"S2\", \"S2\", \"S2\", \"S2\", \"S2\", \"S2\", \"S2\", \"S2\", \"S2\", \"S2\", \"S2\", \"S2\", \"S2\", \"S2\", \"S2\", \"S2\", \"S2\", \"S2\", \"S2\", \"S2\", \"S2\", \"S2\", \"S2\", \"S2\", \"S2\", \"S2\", \"S3\", \"S3\", \"S3\", \"S3\", \"S3\", \"S3\", \"S3\", \"S3\", \"S3\", \"S3\", \"S3\", \"S3\", \"S3\", \"S3\", \"S3\", \"S3\", \"S3\", \"S3\", \"S3\", \"S3\", \"S3\", \"S3\", \"S3\", \"S3\", \"S3\", \"S3\", \"S3\", \"S3\", \"S3\", \"S3\", \"S3\", \"S3\", \"S3\", \"S3\", \"S3\", \"S3\", \"S3\", \"S3\", \"S3\", \"S3\", \"S3\", \"S3\", \"S3\", \"S3\", \"S3\", \"S3\", \"S3\", \"S3\", \"S3\", \"S3\"], \"x0\": \" \", \"xaxis\": \"x\", \"y\": [\"32.780\", \"32.905\", \"32.772\", \"32.754\", \"33.205\", \"32.814\", \"32.766\", \"33.871\", \"32.671\", \"32.974\", \"33.613\", \"32.802\", \"32.971\", \"34.263\", \"32.971\", \"32.709\", \"33.055\", \"32.984\", \"34.232\", \"32.882\", \"33.088\", \"33.110\", \"33.095\", \"33.281\", \"34.394\", \"33.163\", \"34.353\", \"32.837\", \"33.084\", \"32.341\", \"32.919\", \"33.029\", \"33.025\", \"33.064\", \"34.276\", \"33.522\", \"33.398\", \"34.358\", \"34.251\", \"32.941\", \"34.214\", \"33.244\", \"34.357\", \"33.026\", \"33.058\", \"34.055\", \"32.521\", \"34.383\", \"34.315\", \"32.832\", \"55.068\", \"54.863\", \"54.787\", \"55.459\", \"55.215\", \"55.537\", \"55.498\", \"54.741\", \"54.913\", \"55.597\", \"55.228\", \"55.581\", \"55.762\", \"53.223\", \"55.955\", \"55.807\", \"55.766\", \"55.539\", \"53.767\", \"56.103\", \"56.104\", \"55.920\", \"55.166\", \"55.669\", \"53.881\", \"55.766\", \"53.797\", \"56.233\", \"56.022\", \"56.924\", \"56.008\", \"56.014\", \"56.460\", \"56.137\", \"53.873\", \"55.916\", \"55.679\", \"54.044\", \"53.953\", \"56.327\", \"55.357\", \"56.079\", \"54.043\", \"55.764\", \"56.492\", \"56.114\", \"56.679\", \"54.051\", \"53.870\", \"56.173\", \"29.546\", \"29.626\", \"29.977\", \"29.757\", \"29.636\", \"29.819\", \"29.983\", \"29.694\", \"30.730\", \"29.763\", \"29.542\", \"30.038\", \"29.803\", \"31.061\", \"29.715\", \"30.127\", \"29.887\", \"30.187\", \"30.751\", \"29.784\", \"29.700\", \"29.864\", \"30.659\", \"29.985\", \"30.662\", \"30.038\", \"30.836\", \"29.924\", \"29.912\", \"29.776\", \"30.138\", \"30.036\", \"29.610\", \"29.929\", \"31.015\", \"29.764\", \"30.127\", \"30.874\", \"31.074\", \"30.037\", \"29.757\", \"30.006\", \"30.993\", \"30.620\", \"29.890\", \"29.274\", \"30.245\", \"31.021\", \"31.289\", \"30.474\"], \"y0\": \" \", \"yaxis\": \"y\"}],\n",
       "                        {\"boxmode\": \"group\", \"height\": 600, \"legend\": {\"tracegroupgap\": 0}, \"margin\": {\"t\": 60}, \"template\": {\"data\": {\"bar\": [{\"error_x\": {\"color\": \"#2a3f5f\"}, \"error_y\": {\"color\": \"#2a3f5f\"}, \"marker\": {\"line\": {\"color\": \"#E5ECF6\", \"width\": 0.5}}, \"type\": \"bar\"}], \"barpolar\": [{\"marker\": {\"line\": {\"color\": \"#E5ECF6\", \"width\": 0.5}}, \"type\": \"barpolar\"}], \"carpet\": [{\"aaxis\": {\"endlinecolor\": \"#2a3f5f\", \"gridcolor\": \"white\", \"linecolor\": \"white\", \"minorgridcolor\": \"white\", \"startlinecolor\": \"#2a3f5f\"}, \"baxis\": {\"endlinecolor\": \"#2a3f5f\", \"gridcolor\": \"white\", \"linecolor\": \"white\", \"minorgridcolor\": \"white\", \"startlinecolor\": \"#2a3f5f\"}, \"type\": \"carpet\"}], \"choropleth\": [{\"colorbar\": {\"outlinewidth\": 0, \"ticks\": \"\"}, \"type\": \"choropleth\"}], \"contour\": [{\"colorbar\": {\"outlinewidth\": 0, \"ticks\": \"\"}, \"colorscale\": [[0.0, \"#0d0887\"], [0.1111111111111111, \"#46039f\"], [0.2222222222222222, \"#7201a8\"], [0.3333333333333333, \"#9c179e\"], [0.4444444444444444, \"#bd3786\"], [0.5555555555555556, \"#d8576b\"], [0.6666666666666666, \"#ed7953\"], [0.7777777777777778, \"#fb9f3a\"], [0.8888888888888888, \"#fdca26\"], [1.0, \"#f0f921\"]], \"type\": \"contour\"}], \"contourcarpet\": [{\"colorbar\": {\"outlinewidth\": 0, \"ticks\": \"\"}, \"type\": \"contourcarpet\"}], \"heatmap\": [{\"colorbar\": {\"outlinewidth\": 0, \"ticks\": \"\"}, \"colorscale\": [[0.0, \"#0d0887\"], [0.1111111111111111, \"#46039f\"], [0.2222222222222222, \"#7201a8\"], [0.3333333333333333, \"#9c179e\"], [0.4444444444444444, \"#bd3786\"], [0.5555555555555556, \"#d8576b\"], [0.6666666666666666, \"#ed7953\"], [0.7777777777777778, \"#fb9f3a\"], [0.8888888888888888, \"#fdca26\"], [1.0, \"#f0f921\"]], \"type\": \"heatmap\"}], \"heatmapgl\": [{\"colorbar\": {\"outlinewidth\": 0, \"ticks\": \"\"}, \"colorscale\": [[0.0, \"#0d0887\"], [0.1111111111111111, \"#46039f\"], [0.2222222222222222, \"#7201a8\"], [0.3333333333333333, \"#9c179e\"], [0.4444444444444444, \"#bd3786\"], [0.5555555555555556, \"#d8576b\"], [0.6666666666666666, \"#ed7953\"], [0.7777777777777778, \"#fb9f3a\"], [0.8888888888888888, \"#fdca26\"], [1.0, \"#f0f921\"]], \"type\": \"heatmapgl\"}], \"histogram\": [{\"marker\": {\"colorbar\": {\"outlinewidth\": 0, \"ticks\": \"\"}}, \"type\": \"histogram\"}], \"histogram2d\": [{\"colorbar\": {\"outlinewidth\": 0, \"ticks\": \"\"}, \"colorscale\": [[0.0, \"#0d0887\"], [0.1111111111111111, \"#46039f\"], [0.2222222222222222, \"#7201a8\"], [0.3333333333333333, \"#9c179e\"], [0.4444444444444444, \"#bd3786\"], [0.5555555555555556, \"#d8576b\"], [0.6666666666666666, \"#ed7953\"], [0.7777777777777778, \"#fb9f3a\"], [0.8888888888888888, \"#fdca26\"], [1.0, \"#f0f921\"]], \"type\": \"histogram2d\"}], \"histogram2dcontour\": [{\"colorbar\": {\"outlinewidth\": 0, \"ticks\": \"\"}, \"colorscale\": [[0.0, \"#0d0887\"], [0.1111111111111111, \"#46039f\"], [0.2222222222222222, \"#7201a8\"], [0.3333333333333333, \"#9c179e\"], [0.4444444444444444, \"#bd3786\"], [0.5555555555555556, \"#d8576b\"], [0.6666666666666666, \"#ed7953\"], [0.7777777777777778, \"#fb9f3a\"], [0.8888888888888888, \"#fdca26\"], [1.0, \"#f0f921\"]], \"type\": \"histogram2dcontour\"}], \"mesh3d\": [{\"colorbar\": {\"outlinewidth\": 0, \"ticks\": \"\"}, \"type\": \"mesh3d\"}], \"parcoords\": [{\"line\": {\"colorbar\": {\"outlinewidth\": 0, \"ticks\": \"\"}}, \"type\": \"parcoords\"}], \"scatter\": [{\"marker\": {\"colorbar\": {\"outlinewidth\": 0, \"ticks\": \"\"}}, \"type\": \"scatter\"}], \"scatter3d\": [{\"line\": {\"colorbar\": {\"outlinewidth\": 0, \"ticks\": \"\"}}, \"marker\": {\"colorbar\": {\"outlinewidth\": 0, \"ticks\": \"\"}}, \"type\": \"scatter3d\"}], \"scattercarpet\": [{\"marker\": {\"colorbar\": {\"outlinewidth\": 0, \"ticks\": \"\"}}, \"type\": \"scattercarpet\"}], \"scattergeo\": [{\"marker\": {\"colorbar\": {\"outlinewidth\": 0, \"ticks\": \"\"}}, \"type\": \"scattergeo\"}], \"scattergl\": [{\"marker\": {\"colorbar\": {\"outlinewidth\": 0, \"ticks\": \"\"}}, \"type\": \"scattergl\"}], \"scattermapbox\": [{\"marker\": {\"colorbar\": {\"outlinewidth\": 0, \"ticks\": \"\"}}, \"type\": \"scattermapbox\"}], \"scatterpolar\": [{\"marker\": {\"colorbar\": {\"outlinewidth\": 0, \"ticks\": \"\"}}, \"type\": \"scatterpolar\"}], \"scatterpolargl\": [{\"marker\": {\"colorbar\": {\"outlinewidth\": 0, \"ticks\": \"\"}}, \"type\": \"scatterpolargl\"}], \"scatterternary\": [{\"marker\": {\"colorbar\": {\"outlinewidth\": 0, \"ticks\": \"\"}}, \"type\": \"scatterternary\"}], \"surface\": [{\"colorbar\": {\"outlinewidth\": 0, \"ticks\": \"\"}, \"colorscale\": [[0.0, \"#0d0887\"], [0.1111111111111111, \"#46039f\"], [0.2222222222222222, \"#7201a8\"], [0.3333333333333333, \"#9c179e\"], [0.4444444444444444, \"#bd3786\"], [0.5555555555555556, \"#d8576b\"], [0.6666666666666666, \"#ed7953\"], [0.7777777777777778, \"#fb9f3a\"], [0.8888888888888888, \"#fdca26\"], [1.0, \"#f0f921\"]], \"type\": \"surface\"}], \"table\": [{\"cells\": {\"fill\": {\"color\": \"#EBF0F8\"}, \"line\": {\"color\": \"white\"}}, \"header\": {\"fill\": {\"color\": \"#C8D4E3\"}, \"line\": {\"color\": \"white\"}}, \"type\": \"table\"}]}, \"layout\": {\"annotationdefaults\": {\"arrowcolor\": \"#2a3f5f\", \"arrowhead\": 0, \"arrowwidth\": 1}, \"colorscale\": {\"diverging\": [[0, \"#8e0152\"], [0.1, \"#c51b7d\"], [0.2, \"#de77ae\"], [0.3, \"#f1b6da\"], [0.4, \"#fde0ef\"], [0.5, \"#f7f7f7\"], [0.6, \"#e6f5d0\"], [0.7, \"#b8e186\"], [0.8, \"#7fbc41\"], [0.9, \"#4d9221\"], [1, \"#276419\"]], \"sequential\": [[0.0, \"#0d0887\"], [0.1111111111111111, \"#46039f\"], [0.2222222222222222, \"#7201a8\"], [0.3333333333333333, \"#9c179e\"], [0.4444444444444444, \"#bd3786\"], [0.5555555555555556, \"#d8576b\"], [0.6666666666666666, \"#ed7953\"], [0.7777777777777778, \"#fb9f3a\"], [0.8888888888888888, \"#fdca26\"], [1.0, \"#f0f921\"]], \"sequentialminus\": [[0.0, \"#0d0887\"], [0.1111111111111111, \"#46039f\"], [0.2222222222222222, \"#7201a8\"], [0.3333333333333333, \"#9c179e\"], [0.4444444444444444, \"#bd3786\"], [0.5555555555555556, \"#d8576b\"], [0.6666666666666666, \"#ed7953\"], [0.7777777777777778, \"#fb9f3a\"], [0.8888888888888888, \"#fdca26\"], [1.0, \"#f0f921\"]]}, \"colorway\": [\"#636efa\", \"#EF553B\", \"#00cc96\", \"#ab63fa\", \"#FFA15A\", \"#19d3f3\", \"#FF6692\", \"#B6E880\", \"#FF97FF\", \"#FECB52\"], \"font\": {\"color\": \"#2a3f5f\"}, \"geo\": {\"bgcolor\": \"white\", \"lakecolor\": \"white\", \"landcolor\": \"#E5ECF6\", \"showlakes\": true, \"showland\": true, \"subunitcolor\": \"white\"}, \"hoverlabel\": {\"align\": \"left\"}, \"hovermode\": \"closest\", \"mapbox\": {\"style\": \"light\"}, \"paper_bgcolor\": \"white\", \"plot_bgcolor\": \"#E5ECF6\", \"polar\": {\"angularaxis\": {\"gridcolor\": \"white\", \"linecolor\": \"white\", \"ticks\": \"\"}, \"bgcolor\": \"#E5ECF6\", \"radialaxis\": {\"gridcolor\": \"white\", \"linecolor\": \"white\", \"ticks\": \"\"}}, \"scene\": {\"xaxis\": {\"backgroundcolor\": \"#E5ECF6\", \"gridcolor\": \"white\", \"gridwidth\": 2, \"linecolor\": \"white\", \"showbackground\": true, \"ticks\": \"\", \"zerolinecolor\": \"white\"}, \"yaxis\": {\"backgroundcolor\": \"#E5ECF6\", \"gridcolor\": \"white\", \"gridwidth\": 2, \"linecolor\": \"white\", \"showbackground\": true, \"ticks\": \"\", \"zerolinecolor\": \"white\"}, \"zaxis\": {\"backgroundcolor\": \"#E5ECF6\", \"gridcolor\": \"white\", \"gridwidth\": 2, \"linecolor\": \"white\", \"showbackground\": true, \"ticks\": \"\", \"zerolinecolor\": \"white\"}}, \"shapedefaults\": {\"line\": {\"color\": \"#2a3f5f\"}}, \"ternary\": {\"aaxis\": {\"gridcolor\": \"white\", \"linecolor\": \"white\", \"ticks\": \"\"}, \"baxis\": {\"gridcolor\": \"white\", \"linecolor\": \"white\", \"ticks\": \"\"}, \"bgcolor\": \"#E5ECF6\", \"caxis\": {\"gridcolor\": \"white\", \"linecolor\": \"white\", \"ticks\": \"\"}}, \"title\": {\"x\": 0.05}, \"xaxis\": {\"automargin\": true, \"gridcolor\": \"white\", \"linecolor\": \"white\", \"ticks\": \"\", \"zerolinecolor\": \"white\", \"zerolinewidth\": 2}, \"yaxis\": {\"automargin\": true, \"gridcolor\": \"white\", \"linecolor\": \"white\", \"ticks\": \"\", \"zerolinecolor\": \"white\", \"zerolinewidth\": 2}}}, \"xaxis\": {\"anchor\": \"y\", \"domain\": [0.0, 0.98], \"title\": {\"text\": \"variable\"}}, \"yaxis\": {\"anchor\": \"x\", \"domain\": [0.0, 1.0], \"title\": {\"text\": \"value\"}}},\n",
       "                        {\"responsive\": true}\n",
       "                    ).then(function(){\n",
       "                            \n",
       "var gd = document.getElementById('6ecc48c7-933f-4735-8157-c58832b13afc');\n",
       "var x = new MutationObserver(function (mutations, observer) {{\n",
       "        var display = window.getComputedStyle(gd).display;\n",
       "        if (!display || display === 'none') {{\n",
       "            console.log([gd, 'removed!']);\n",
       "            Plotly.purge(gd);\n",
       "            observer.disconnect();\n",
       "        }}\n",
       "}});\n",
       "\n",
       "// Listen for the removal of the full notebook cells\n",
       "var notebookContainer = gd.closest('#notebook-container');\n",
       "if (notebookContainer) {{\n",
       "    x.observe(notebookContainer, {childList: true});\n",
       "}}\n",
       "\n",
       "// Listen for the clearing of the current output cell\n",
       "var outputEl = gd.closest('.output');\n",
       "if (outputEl) {{\n",
       "    x.observe(outputEl, {childList: true});\n",
       "}}\n",
       "\n",
       "                        })\n",
       "                };\n",
       "                });\n",
       "            </script>\n",
       "        </div>"
      ]
     },
     "metadata": {},
     "output_type": "display_data"
    }
   ],
   "source": [
    "fig = px.box(laptimes.sort_values('LAP_TIME_S').head(50)[['S1','S2','S3']].melt(),\n",
    "             x=\"variable\", y=\"value\")\n",
    "fig.show()"
   ]
  },
  {
   "cell_type": "code",
   "execution_count": 382,
   "metadata": {},
   "outputs": [
    {
     "data": {
      "text/plain": [
       "array(['7', '8', '17', '1', '3', '11'], dtype=object)"
      ]
     },
     "execution_count": 382,
     "metadata": {},
     "output_type": "execute_result"
    }
   ],
   "source": [
    "#Which cars produced the 50 fastest laps?\n",
    "laptimes.sort_values('LAP_TIME_S').head(50)['NUMBER'].unique()"
   ]
  },
  {
   "cell_type": "markdown",
   "metadata": {},
   "source": [
    "A better comparison would be to have the box plots side by side for inlap, outlap, and flying lap:"
   ]
  },
  {
   "cell_type": "code",
   "execution_count": null,
   "metadata": {},
   "outputs": [],
   "source": []
  }
 ],
 "metadata": {
  "kernelspec": {
   "display_name": "Python 3",
   "language": "python",
   "name": "python3"
  },
  "language_info": {
   "codemirror_mode": {
    "name": "ipython",
    "version": 3
   },
   "file_extension": ".py",
   "mimetype": "text/x-python",
   "name": "python",
   "nbconvert_exporter": "python",
   "pygments_lexer": "ipython3",
   "version": "3.7.3"
  }
 },
 "nbformat": 4,
 "nbformat_minor": 2
}
