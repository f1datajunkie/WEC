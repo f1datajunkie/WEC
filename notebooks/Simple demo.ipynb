{
 "cells": [
  {
   "cell_type": "markdown",
   "metadata": {},
   "source": [
    "# Simple Demo - Reviewing WEC Laptime Data\n",
    "\n",
    "For many forms of motorsport, timing data in the form of laptime data is often made available at the end of the race. This data can be used by fans and sports data journalists alike, as well as teams and drivers, for getting a *post hoc* insight into what actuall went on in a race.\n",
    "\n",
    "*Live laptime data is also typically provided via live timing screens, from which data feeds may be available to teams, although not, typically, to the public. (Data from timing screens can still be scraped unofficially, though...) Having access to laptime history during a race can be useful for reviewing how a race is evolving, plotting strategy, and even predicting likely future race events, such as overtaking possibilities or pit stops due to degrading laptimes.*\n",
    "\n",
    "This notebook provides a basic demonstration of how to download and analyse [FIA World Endurance Championship (WEC) data from Al Kamel Systems](http://fiawec.alkamelsystems.com), getting a feel for what the data can tell us and how we might encourage it to reveal some of the stories it undoubtedly contains.\n",
    "\n",
    "Timing info available as PDF, eg [here](https://assets.lemans.org/explorer/pdf/courses/2019/24-heures-du-mans/classification/race/24-heures-du-mans-2019-classification-after-24h.pdf).\n",
    "\n",
    "CSV data from Al Kamel using links of form:\n",
    "\n",
    "`http://fiawec.alkamelsystems.com/Results/08_2018-2019/07_SPA%20FRANCORCHAMPS/267_FIA%20WEC/201905041330_Race/Hour%206/23_Analysis_Race_Hour%206.CSV`\n",
    "\n",
    "\n",
    "*Links don't seem to appear on e.g. [classification data](http://fiawec.alkamelsystems.com/)? So where else might they be found?*"
   ]
  },
  {
   "cell_type": "markdown",
   "metadata": {},
   "source": [
    "## Setup\n",
    "\n",
    "Although Python code often \"just runs\", there are a couple of things we can do to help improve our workflow, such as configuring the notebook to work in a particular wat, loading in Pythin programming packages that we can call on, and putting resources into specific locations."
   ]
  },
  {
   "cell_type": "code",
   "execution_count": 1,
   "metadata": {},
   "outputs": [],
   "source": [
    "#Enable inline plots\n",
    "%matplotlib inline\n",
    "\n",
    "# pandas is a python package for working with tabular datasets\n",
    "import pandas as pd"
   ]
  },
  {
   "cell_type": "code",
   "execution_count": 73,
   "metadata": {},
   "outputs": [],
   "source": [
    "# Add the parent dir to the import path\n",
    "# This lets us load files in from child directories of the parent directory\n",
    "# that this notebook is in.\n",
    "import sys\n",
    "sys.path.append(\"../py\")\n",
    "\n",
    "#Import contents of the utils.py package in the ../py directory\n",
    "from utils import *"
   ]
  },
  {
   "cell_type": "markdown",
   "metadata": {},
   "source": [
    "## Downloading Data\n",
    "\n",
    "If we know the URL of an online hosted data file, we can download data directly from it.\n",
    "\n",
    "Let's create a variable, `url`, that takes the value of the URL for an Al Kamel Systems timing data CSV file:"
   ]
  },
  {
   "cell_type": "code",
   "execution_count": 8,
   "metadata": {},
   "outputs": [],
   "source": [
    "#Download URL for timing data in CSV format\n",
    "url = 'http://fiawec.alkamelsystems.com/Results/08_2018-2019/07_SPA%20FRANCORCHAMPS/267_FIA%20WEC/201905041330_Race/Hour%206/23_Analysis_Race_Hour%206.CSV'\n"
   ]
  },
  {
   "cell_type": "markdown",
   "metadata": {},
   "source": [
    "Download the data into a *pandas* dataframe, dropping any empty columns (`.dropna(how='all', axis=1)`) and then previewing the first few rows (`.head()`):"
   ]
  },
  {
   "cell_type": "code",
   "execution_count": null,
   "metadata": {},
   "outputs": [],
   "source": [
    "# Create a pandas dataframe from data loaded in directly from a web address\n",
    "# dropping any empty columns...\n",
    "laptimes = pd.read_csv(url, sep=';').dropna(how='all', axis=1)\n",
    "# ...and then previewing the first few lines of the dataset\n",
    "laptimes.head()"
   ]
  },
  {
   "cell_type": "markdown",
   "metadata": {},
   "source": [
    "We can save the raw data to a local CSV file so we can access it locally at a future time.\n",
    "\n",
    "For convenience, we can create the filename that we save the file as from the URL by splitting the URL string on each '/' and selecting the last element:"
   ]
  },
  {
   "cell_type": "code",
   "execution_count": 71,
   "metadata": {},
   "outputs": [
    {
     "data": {
      "text/plain": [
       "'23_Analysis_Race_Hour%206.CSV'"
      ]
     },
     "execution_count": 71,
     "metadata": {},
     "output_type": "execute_result"
    }
   ],
   "source": [
    "# The .split() operator returns a list\n",
    "# The [-1] indexer selects the last item in the list\n",
    "outfile_name = url.split('/')[-1]\n",
    "outfile_name"
   ]
  },
  {
   "cell_type": "markdown",
   "metadata": {},
   "source": [
    "If we want to replace the `%20` encoded value for a *space* character with an *actual* space, we can \"unquote\" it:"
   ]
  },
  {
   "cell_type": "code",
   "execution_count": 72,
   "metadata": {},
   "outputs": [
    {
     "data": {
      "text/plain": [
       "'23_Analysis_Race_Hour 6.CSV'"
      ]
     },
     "execution_count": 72,
     "metadata": {},
     "output_type": "execute_result"
    }
   ],
   "source": [
    "from urllib.parse import unquote\n",
    "\n",
    "outfile_name = unquote(outfile_name)\n",
    "outfile_name"
   ]
  },
  {
   "cell_type": "markdown",
   "metadata": {},
   "source": [
    "Now let's save the data into the sibling directory `data` as a file with that filename:"
   ]
  },
  {
   "cell_type": "code",
   "execution_count": null,
   "metadata": {},
   "outputs": [],
   "source": [
    "# The .. path says \"use the parent directory\n",
    "# So ../data says: use the data directory in the parent directory\n",
    "laptimes.to_csv('../data/{}'.format(outfile_name)"
   ]
  },
  {
   "cell_type": "markdown",
   "metadata": {},
   "source": [
    "If we have saved the data into a file, we can also load the data back in to a data from the file rather than having to download it again from its online location.\n",
    "\n",
    "*Uncomment the following code to load the data back in from the local file.*"
   ]
  },
  {
   "cell_type": "code",
   "execution_count": 17,
   "metadata": {},
   "outputs": [],
   "source": [
    "#Load data from local file\n",
    "#laptimes = pd.read_csv('23_Analysis_Race_Hour 6.csv', sep=';').dropna(how='all', axis=1)\n",
    "#laptimes.head()"
   ]
  },
  {
   "cell_type": "markdown",
   "metadata": {},
   "source": [
    "It often makes sense to tidy a data set to make it more useable.\n",
    "\n",
    "For example we often find that column names may include leading or trailing whitespace in the original datafile, which can make them hard to refer to, so we can rename the columns with any such whitespace stripped out."
   ]
  },
  {
   "cell_type": "code",
   "execution_count": null,
   "metadata": {},
   "outputs": [],
   "source": [
    "# Clean the column names of any leading / trailing whitespace\n",
    "# The [X for Y in Z] construction is know as a \"list comprehension\"\n",
    "# It creates a list of values (\"[]\") \n",
    "# by iterating through (\"for Y in\") another list of values (\"Z\")\n",
    "# and generates new list values, \"X\", from each original list value \"Y\"\n",
    "laptimes.columns = [c.strip() for c in laptimes.columns]"
   ]
  },
  {
   "cell_type": "markdown",
   "metadata": {},
   "source": [
    "The car and driver numbers are represented in the dataframe as numerical `int`, which is to say, *integer*, values. However, it is safer to cast this `str`, or *string* values so we don't accidentally perform numerical calculations on them, such as adding them together or finding the \"average\" value of them..."
   ]
  },
  {
   "cell_type": "code",
   "execution_count": 19,
   "metadata": {},
   "outputs": [
    {
     "data": {
      "text/html": [
       "<div>\n",
       "<style scoped>\n",
       "    .dataframe tbody tr th:only-of-type {\n",
       "        vertical-align: middle;\n",
       "    }\n",
       "\n",
       "    .dataframe tbody tr th {\n",
       "        vertical-align: top;\n",
       "    }\n",
       "\n",
       "    .dataframe thead th {\n",
       "        text-align: right;\n",
       "    }\n",
       "</style>\n",
       "<table border=\"1\" class=\"dataframe\">\n",
       "  <thead>\n",
       "    <tr style=\"text-align: right;\">\n",
       "      <th></th>\n",
       "      <th>NUMBER</th>\n",
       "      <th>DRIVER_NUMBER</th>\n",
       "      <th>LAP_NUMBER</th>\n",
       "      <th>LAP_TIME</th>\n",
       "      <th>LAP_IMPROVEMENT</th>\n",
       "      <th>CROSSING_FINISH_LINE_IN_PIT</th>\n",
       "      <th>S1</th>\n",
       "      <th>S1_IMPROVEMENT</th>\n",
       "      <th>S2</th>\n",
       "      <th>S2_IMPROVEMENT</th>\n",
       "      <th>...</th>\n",
       "      <th>S1_LARGE</th>\n",
       "      <th>S2_LARGE</th>\n",
       "      <th>S3_LARGE</th>\n",
       "      <th>TOP_SPEED</th>\n",
       "      <th>DRIVER_NAME</th>\n",
       "      <th>PIT_TIME</th>\n",
       "      <th>CLASS</th>\n",
       "      <th>GROUP</th>\n",
       "      <th>TEAM</th>\n",
       "      <th>MANUFACTURER</th>\n",
       "    </tr>\n",
       "  </thead>\n",
       "  <tbody>\n",
       "    <tr>\n",
       "      <th>0</th>\n",
       "      <td>1</td>\n",
       "      <td>1</td>\n",
       "      <td>1</td>\n",
       "      <td>2:06.349</td>\n",
       "      <td>0</td>\n",
       "      <td>NaN</td>\n",
       "      <td>37.900</td>\n",
       "      <td>0</td>\n",
       "      <td>57.533</td>\n",
       "      <td>0</td>\n",
       "      <td>...</td>\n",
       "      <td>0:37.900</td>\n",
       "      <td>0:57.533</td>\n",
       "      <td>0:30.916</td>\n",
       "      <td>289.0</td>\n",
       "      <td>Neel JANI</td>\n",
       "      <td>NaN</td>\n",
       "      <td>LMP1</td>\n",
       "      <td>NaN</td>\n",
       "      <td>Rebellion Racing</td>\n",
       "      <td>Rebellion</td>\n",
       "    </tr>\n",
       "    <tr>\n",
       "      <th>1</th>\n",
       "      <td>1</td>\n",
       "      <td>1</td>\n",
       "      <td>2</td>\n",
       "      <td>2:00.417</td>\n",
       "      <td>0</td>\n",
       "      <td>NaN</td>\n",
       "      <td>34.830</td>\n",
       "      <td>0</td>\n",
       "      <td>54.824</td>\n",
       "      <td>0</td>\n",
       "      <td>...</td>\n",
       "      <td>0:34.830</td>\n",
       "      <td>0:54.824</td>\n",
       "      <td>0:30.763</td>\n",
       "      <td>302.7</td>\n",
       "      <td>Neel JANI</td>\n",
       "      <td>NaN</td>\n",
       "      <td>LMP1</td>\n",
       "      <td>NaN</td>\n",
       "      <td>Rebellion Racing</td>\n",
       "      <td>Rebellion</td>\n",
       "    </tr>\n",
       "    <tr>\n",
       "      <th>2</th>\n",
       "      <td>1</td>\n",
       "      <td>1</td>\n",
       "      <td>3</td>\n",
       "      <td>2:17.278</td>\n",
       "      <td>0</td>\n",
       "      <td>B</td>\n",
       "      <td>40.012</td>\n",
       "      <td>0</td>\n",
       "      <td>55.696</td>\n",
       "      <td>0</td>\n",
       "      <td>...</td>\n",
       "      <td>0:40.012</td>\n",
       "      <td>0:55.696</td>\n",
       "      <td>0:41.570</td>\n",
       "      <td>289.0</td>\n",
       "      <td>Neel JANI</td>\n",
       "      <td>NaN</td>\n",
       "      <td>LMP1</td>\n",
       "      <td>NaN</td>\n",
       "      <td>Rebellion Racing</td>\n",
       "      <td>Rebellion</td>\n",
       "    </tr>\n",
       "    <tr>\n",
       "      <th>3</th>\n",
       "      <td>1</td>\n",
       "      <td>1</td>\n",
       "      <td>4</td>\n",
       "      <td>3:10.094</td>\n",
       "      <td>0</td>\n",
       "      <td>NaN</td>\n",
       "      <td>1:26.938</td>\n",
       "      <td>0</td>\n",
       "      <td>1:07.045</td>\n",
       "      <td>0</td>\n",
       "      <td>...</td>\n",
       "      <td>1:26.938</td>\n",
       "      <td>1:07.045</td>\n",
       "      <td>0:36.111</td>\n",
       "      <td>262.4</td>\n",
       "      <td>Neel JANI</td>\n",
       "      <td>0:00:58.509</td>\n",
       "      <td>LMP1</td>\n",
       "      <td>NaN</td>\n",
       "      <td>Rebellion Racing</td>\n",
       "      <td>Rebellion</td>\n",
       "    </tr>\n",
       "    <tr>\n",
       "      <th>4</th>\n",
       "      <td>1</td>\n",
       "      <td>1</td>\n",
       "      <td>5</td>\n",
       "      <td>2:29.763</td>\n",
       "      <td>0</td>\n",
       "      <td>NaN</td>\n",
       "      <td>41.205</td>\n",
       "      <td>0</td>\n",
       "      <td>1:11.517</td>\n",
       "      <td>0</td>\n",
       "      <td>...</td>\n",
       "      <td>0:41.205</td>\n",
       "      <td>1:11.517</td>\n",
       "      <td>0:37.041</td>\n",
       "      <td>259.2</td>\n",
       "      <td>Neel JANI</td>\n",
       "      <td>NaN</td>\n",
       "      <td>LMP1</td>\n",
       "      <td>NaN</td>\n",
       "      <td>Rebellion Racing</td>\n",
       "      <td>Rebellion</td>\n",
       "    </tr>\n",
       "  </tbody>\n",
       "</table>\n",
       "<p>5 rows × 25 columns</p>\n",
       "</div>"
      ],
      "text/plain": [
       "  NUMBER DRIVER_NUMBER  LAP_NUMBER  LAP_TIME  LAP_IMPROVEMENT  \\\n",
       "0      1             1           1  2:06.349                0   \n",
       "1      1             1           2  2:00.417                0   \n",
       "2      1             1           3  2:17.278                0   \n",
       "3      1             1           4  3:10.094                0   \n",
       "4      1             1           5  2:29.763                0   \n",
       "\n",
       "  CROSSING_FINISH_LINE_IN_PIT        S1  S1_IMPROVEMENT        S2  \\\n",
       "0                         NaN    37.900               0    57.533   \n",
       "1                         NaN    34.830               0    54.824   \n",
       "2                           B    40.012               0    55.696   \n",
       "3                         NaN  1:26.938               0  1:07.045   \n",
       "4                         NaN    41.205               0  1:11.517   \n",
       "\n",
       "   S2_IMPROVEMENT  ...  S1_LARGE  S2_LARGE  S3_LARGE TOP_SPEED DRIVER_NAME  \\\n",
       "0               0  ...  0:37.900  0:57.533  0:30.916     289.0   Neel JANI   \n",
       "1               0  ...  0:34.830  0:54.824  0:30.763     302.7   Neel JANI   \n",
       "2               0  ...  0:40.012  0:55.696  0:41.570     289.0   Neel JANI   \n",
       "3               0  ...  1:26.938  1:07.045  0:36.111     262.4   Neel JANI   \n",
       "4               0  ...  0:41.205  1:11.517  0:37.041     259.2   Neel JANI   \n",
       "\n",
       "      PIT_TIME CLASS GROUP              TEAM MANUFACTURER  \n",
       "0          NaN  LMP1   NaN  Rebellion Racing    Rebellion  \n",
       "1          NaN  LMP1   NaN  Rebellion Racing    Rebellion  \n",
       "2          NaN  LMP1   NaN  Rebellion Racing    Rebellion  \n",
       "3  0:00:58.509  LMP1   NaN  Rebellion Racing    Rebellion  \n",
       "4          NaN  LMP1   NaN  Rebellion Racing    Rebellion  \n",
       "\n",
       "[5 rows x 25 columns]"
      ]
     },
     "execution_count": 19,
     "metadata": {},
     "output_type": "execute_result"
    }
   ],
   "source": [
    "#Tidy the data a little... car and driver number are not numbers\n",
    "laptimes[['NUMBER','DRIVER_NUMBER']] = laptimes[['NUMBER','DRIVER_NUMBER']].astype(str)\n",
    "\n",
    "laptimes.head()"
   ]
  },
  {
   "cell_type": "code",
   "execution_count": 20,
   "metadata": {},
   "outputs": [
    {
     "data": {
      "text/plain": [
       "Index(['NUMBER', 'DRIVER_NUMBER', 'LAP_NUMBER', 'LAP_TIME', 'LAP_IMPROVEMENT',\n",
       "       'CROSSING_FINISH_LINE_IN_PIT', 'S1', 'S1_IMPROVEMENT', 'S2',\n",
       "       'S2_IMPROVEMENT', 'S3', 'S3_IMPROVEMENT', 'KPH', 'ELAPSED', 'HOUR',\n",
       "       'S1_LARGE', 'S2_LARGE', 'S3_LARGE', 'TOP_SPEED', 'DRIVER_NAME',\n",
       "       'PIT_TIME', 'CLASS', 'GROUP', 'TEAM', 'MANUFACTURER'],\n",
       "      dtype='object')"
      ]
     },
     "execution_count": 20,
     "metadata": {},
     "output_type": "execute_result"
    }
   ],
   "source": [
    "# Review the column headings\n",
    "laptimes.columns"
   ]
  },
  {
   "cell_type": "markdown",
   "metadata": {},
   "source": [
    "The `DRIVER_NUMBER` is relative to a car. It may be convenient to also have a unique driver number, `CAR_DRIVER`, which we can construct from the `NUMBER` and `DRIVER_NUMER` columns:"
   ]
  },
  {
   "cell_type": "code",
   "execution_count": 21,
   "metadata": {},
   "outputs": [
    {
     "data": {
      "text/html": [
       "<div>\n",
       "<style scoped>\n",
       "    .dataframe tbody tr th:only-of-type {\n",
       "        vertical-align: middle;\n",
       "    }\n",
       "\n",
       "    .dataframe tbody tr th {\n",
       "        vertical-align: top;\n",
       "    }\n",
       "\n",
       "    .dataframe thead th {\n",
       "        text-align: right;\n",
       "    }\n",
       "</style>\n",
       "<table border=\"1\" class=\"dataframe\">\n",
       "  <thead>\n",
       "    <tr style=\"text-align: right;\">\n",
       "      <th></th>\n",
       "      <th>NUMBER</th>\n",
       "      <th>DRIVER_NUMBER</th>\n",
       "      <th>CAR_DRIVER</th>\n",
       "    </tr>\n",
       "  </thead>\n",
       "  <tbody>\n",
       "    <tr>\n",
       "      <th>0</th>\n",
       "      <td>1</td>\n",
       "      <td>1</td>\n",
       "      <td>1_1</td>\n",
       "    </tr>\n",
       "    <tr>\n",
       "      <th>1</th>\n",
       "      <td>1</td>\n",
       "      <td>1</td>\n",
       "      <td>1_1</td>\n",
       "    </tr>\n",
       "    <tr>\n",
       "      <th>2</th>\n",
       "      <td>1</td>\n",
       "      <td>1</td>\n",
       "      <td>1_1</td>\n",
       "    </tr>\n",
       "    <tr>\n",
       "      <th>3</th>\n",
       "      <td>1</td>\n",
       "      <td>1</td>\n",
       "      <td>1_1</td>\n",
       "    </tr>\n",
       "    <tr>\n",
       "      <th>4</th>\n",
       "      <td>1</td>\n",
       "      <td>1</td>\n",
       "      <td>1_1</td>\n",
       "    </tr>\n",
       "  </tbody>\n",
       "</table>\n",
       "</div>"
      ],
      "text/plain": [
       "  NUMBER DRIVER_NUMBER CAR_DRIVER\n",
       "0      1             1        1_1\n",
       "1      1             1        1_1\n",
       "2      1             1        1_1\n",
       "3      1             1        1_1\n",
       "4      1             1        1_1"
      ]
     },
     "execution_count": 21,
     "metadata": {},
     "output_type": "execute_result"
    }
   ],
   "source": [
    "laptimes['CAR_DRIVER'] = laptimes['NUMBER'] + '_' + laptimes['DRIVER_NUMBER']\n",
    "laptimes[['NUMBER','DRIVER_NUMBER','CAR_DRIVER']].head()"
   ]
  },
  {
   "cell_type": "markdown",
   "metadata": {},
   "source": [
    "## Quick demo laptime chart\n",
    "\n",
    "The *pandas* package provides a handy `.plot()` method that allows us to plot charts directly from a dataframe. For example, we might want to plot lap time against lap number for each car.\n",
    "\n",
    "In the original dataframe, lap times are given in the form `minute:second` (for example, `2:06.349`). To plot the laptimes, we need to convert this to a more convenient numeric form, such as the laptime given as a number of seconds.\n",
    "\n",
    "The `utils` module we loaded in earlier contains a `getTime()` function that can perform this conversion for us. We can use a dataframe `.apply()` method to to apply that function to each value in the original `LAP_TIME` column and assign it to a new `LAP_TIME_S` column, before previewing a selection of the data frame where we select out those two columns, `LAP_TIME` and `LAP_TIME_S`:"
   ]
  },
  {
   "cell_type": "code",
   "execution_count": 22,
   "metadata": {},
   "outputs": [
    {
     "data": {
      "text/html": [
       "<div>\n",
       "<style scoped>\n",
       "    .dataframe tbody tr th:only-of-type {\n",
       "        vertical-align: middle;\n",
       "    }\n",
       "\n",
       "    .dataframe tbody tr th {\n",
       "        vertical-align: top;\n",
       "    }\n",
       "\n",
       "    .dataframe thead th {\n",
       "        text-align: right;\n",
       "    }\n",
       "</style>\n",
       "<table border=\"1\" class=\"dataframe\">\n",
       "  <thead>\n",
       "    <tr style=\"text-align: right;\">\n",
       "      <th></th>\n",
       "      <th>LAP_TIME</th>\n",
       "      <th>LAP_TIME_S</th>\n",
       "    </tr>\n",
       "  </thead>\n",
       "  <tbody>\n",
       "    <tr>\n",
       "      <th>0</th>\n",
       "      <td>2:06.349</td>\n",
       "      <td>126.349</td>\n",
       "    </tr>\n",
       "    <tr>\n",
       "      <th>1</th>\n",
       "      <td>2:00.417</td>\n",
       "      <td>120.417</td>\n",
       "    </tr>\n",
       "    <tr>\n",
       "      <th>2</th>\n",
       "      <td>2:17.278</td>\n",
       "      <td>137.278</td>\n",
       "    </tr>\n",
       "    <tr>\n",
       "      <th>3</th>\n",
       "      <td>3:10.094</td>\n",
       "      <td>190.094</td>\n",
       "    </tr>\n",
       "    <tr>\n",
       "      <th>4</th>\n",
       "      <td>2:29.763</td>\n",
       "      <td>149.763</td>\n",
       "    </tr>\n",
       "  </tbody>\n",
       "</table>\n",
       "</div>"
      ],
      "text/plain": [
       "   LAP_TIME  LAP_TIME_S\n",
       "0  2:06.349     126.349\n",
       "1  2:00.417     120.417\n",
       "2  2:17.278     137.278\n",
       "3  3:10.094     190.094\n",
       "4  2:29.763     149.763"
      ]
     },
     "execution_count": 22,
     "metadata": {},
     "output_type": "execute_result"
    }
   ],
   "source": [
    "laptimes['LAP_TIME_S'] = laptimes['LAP_TIME'].apply(getTime)\n",
    "laptimes[['LAP_TIME','LAP_TIME_S']].head()"
   ]
  },
  {
   "cell_type": "markdown",
   "metadata": {},
   "source": [
    "As well as selecting out *columns* of a data frame, we can also select out rows. For example, we can select out the laptimes for car `1` using the following construction:"
   ]
  },
  {
   "cell_type": "code",
   "execution_count": 74,
   "metadata": {},
   "outputs": [
    {
     "data": {
      "text/html": [
       "<div>\n",
       "<style scoped>\n",
       "    .dataframe tbody tr th:only-of-type {\n",
       "        vertical-align: middle;\n",
       "    }\n",
       "\n",
       "    .dataframe tbody tr th {\n",
       "        vertical-align: top;\n",
       "    }\n",
       "\n",
       "    .dataframe thead th {\n",
       "        text-align: right;\n",
       "    }\n",
       "</style>\n",
       "<table border=\"1\" class=\"dataframe\">\n",
       "  <thead>\n",
       "    <tr style=\"text-align: right;\">\n",
       "      <th></th>\n",
       "      <th>NUMBER</th>\n",
       "      <th>DRIVER_NUMBER</th>\n",
       "      <th>LAP_NUMBER</th>\n",
       "      <th>LAP_TIME</th>\n",
       "      <th>LAP_IMPROVEMENT</th>\n",
       "      <th>CROSSING_FINISH_LINE_IN_PIT</th>\n",
       "      <th>S1</th>\n",
       "      <th>S1_IMPROVEMENT</th>\n",
       "      <th>S2</th>\n",
       "      <th>S2_IMPROVEMENT</th>\n",
       "      <th>...</th>\n",
       "      <th>CLASS</th>\n",
       "      <th>GROUP</th>\n",
       "      <th>TEAM</th>\n",
       "      <th>MANUFACTURER</th>\n",
       "      <th>CAR_DRIVER</th>\n",
       "      <th>LAP_TIME_S</th>\n",
       "      <th>INLAP</th>\n",
       "      <th>OUTLAP</th>\n",
       "      <th>driverchange</th>\n",
       "      <th>DRIVER_SESSION</th>\n",
       "    </tr>\n",
       "  </thead>\n",
       "  <tbody>\n",
       "    <tr>\n",
       "      <th>0</th>\n",
       "      <td>1</td>\n",
       "      <td>1</td>\n",
       "      <td>1</td>\n",
       "      <td>2:06.349</td>\n",
       "      <td>0</td>\n",
       "      <td>NaN</td>\n",
       "      <td>37.900</td>\n",
       "      <td>0</td>\n",
       "      <td>57.533</td>\n",
       "      <td>0</td>\n",
       "      <td>...</td>\n",
       "      <td>LMP1</td>\n",
       "      <td>NaN</td>\n",
       "      <td>Rebellion Racing</td>\n",
       "      <td>Rebellion</td>\n",
       "      <td>1_1</td>\n",
       "      <td>126.349</td>\n",
       "      <td>False</td>\n",
       "      <td>True</td>\n",
       "      <td>True</td>\n",
       "      <td>1</td>\n",
       "    </tr>\n",
       "    <tr>\n",
       "      <th>1</th>\n",
       "      <td>1</td>\n",
       "      <td>1</td>\n",
       "      <td>2</td>\n",
       "      <td>2:00.417</td>\n",
       "      <td>0</td>\n",
       "      <td>NaN</td>\n",
       "      <td>34.830</td>\n",
       "      <td>0</td>\n",
       "      <td>54.824</td>\n",
       "      <td>0</td>\n",
       "      <td>...</td>\n",
       "      <td>LMP1</td>\n",
       "      <td>NaN</td>\n",
       "      <td>Rebellion Racing</td>\n",
       "      <td>Rebellion</td>\n",
       "      <td>1_1</td>\n",
       "      <td>120.417</td>\n",
       "      <td>False</td>\n",
       "      <td>False</td>\n",
       "      <td>False</td>\n",
       "      <td>1</td>\n",
       "    </tr>\n",
       "    <tr>\n",
       "      <th>2</th>\n",
       "      <td>1</td>\n",
       "      <td>1</td>\n",
       "      <td>3</td>\n",
       "      <td>2:17.278</td>\n",
       "      <td>0</td>\n",
       "      <td>B</td>\n",
       "      <td>40.012</td>\n",
       "      <td>0</td>\n",
       "      <td>55.696</td>\n",
       "      <td>0</td>\n",
       "      <td>...</td>\n",
       "      <td>LMP1</td>\n",
       "      <td>NaN</td>\n",
       "      <td>Rebellion Racing</td>\n",
       "      <td>Rebellion</td>\n",
       "      <td>1_1</td>\n",
       "      <td>137.278</td>\n",
       "      <td>True</td>\n",
       "      <td>False</td>\n",
       "      <td>False</td>\n",
       "      <td>1</td>\n",
       "    </tr>\n",
       "    <tr>\n",
       "      <th>3</th>\n",
       "      <td>1</td>\n",
       "      <td>1</td>\n",
       "      <td>4</td>\n",
       "      <td>3:10.094</td>\n",
       "      <td>0</td>\n",
       "      <td>NaN</td>\n",
       "      <td>1:26.938</td>\n",
       "      <td>0</td>\n",
       "      <td>1:07.045</td>\n",
       "      <td>0</td>\n",
       "      <td>...</td>\n",
       "      <td>LMP1</td>\n",
       "      <td>NaN</td>\n",
       "      <td>Rebellion Racing</td>\n",
       "      <td>Rebellion</td>\n",
       "      <td>1_1</td>\n",
       "      <td>190.094</td>\n",
       "      <td>False</td>\n",
       "      <td>True</td>\n",
       "      <td>False</td>\n",
       "      <td>1</td>\n",
       "    </tr>\n",
       "    <tr>\n",
       "      <th>4</th>\n",
       "      <td>1</td>\n",
       "      <td>1</td>\n",
       "      <td>5</td>\n",
       "      <td>2:29.763</td>\n",
       "      <td>0</td>\n",
       "      <td>NaN</td>\n",
       "      <td>41.205</td>\n",
       "      <td>0</td>\n",
       "      <td>1:11.517</td>\n",
       "      <td>0</td>\n",
       "      <td>...</td>\n",
       "      <td>LMP1</td>\n",
       "      <td>NaN</td>\n",
       "      <td>Rebellion Racing</td>\n",
       "      <td>Rebellion</td>\n",
       "      <td>1_1</td>\n",
       "      <td>149.763</td>\n",
       "      <td>False</td>\n",
       "      <td>False</td>\n",
       "      <td>False</td>\n",
       "      <td>1</td>\n",
       "    </tr>\n",
       "  </tbody>\n",
       "</table>\n",
       "<p>5 rows × 31 columns</p>\n",
       "</div>"
      ],
      "text/plain": [
       "  NUMBER DRIVER_NUMBER  LAP_NUMBER  LAP_TIME  LAP_IMPROVEMENT  \\\n",
       "0      1             1           1  2:06.349                0   \n",
       "1      1             1           2  2:00.417                0   \n",
       "2      1             1           3  2:17.278                0   \n",
       "3      1             1           4  3:10.094                0   \n",
       "4      1             1           5  2:29.763                0   \n",
       "\n",
       "  CROSSING_FINISH_LINE_IN_PIT        S1  S1_IMPROVEMENT        S2  \\\n",
       "0                         NaN    37.900               0    57.533   \n",
       "1                         NaN    34.830               0    54.824   \n",
       "2                           B    40.012               0    55.696   \n",
       "3                         NaN  1:26.938               0  1:07.045   \n",
       "4                         NaN    41.205               0  1:11.517   \n",
       "\n",
       "   S2_IMPROVEMENT  ... CLASS  GROUP              TEAM MANUFACTURER CAR_DRIVER  \\\n",
       "0               0  ...  LMP1    NaN  Rebellion Racing    Rebellion        1_1   \n",
       "1               0  ...  LMP1    NaN  Rebellion Racing    Rebellion        1_1   \n",
       "2               0  ...  LMP1    NaN  Rebellion Racing    Rebellion        1_1   \n",
       "3               0  ...  LMP1    NaN  Rebellion Racing    Rebellion        1_1   \n",
       "4               0  ...  LMP1    NaN  Rebellion Racing    Rebellion        1_1   \n",
       "\n",
       "  LAP_TIME_S  INLAP OUTLAP  driverchange DRIVER_SESSION  \n",
       "0    126.349  False   True          True              1  \n",
       "1    120.417  False  False         False              1  \n",
       "2    137.278   True  False         False              1  \n",
       "3    190.094  False   True         False              1  \n",
       "4    149.763  False  False         False              1  \n",
       "\n",
       "[5 rows x 31 columns]"
      ]
     },
     "execution_count": 74,
     "metadata": {},
     "output_type": "execute_result"
    }
   ],
   "source": [
    "laptimes[laptimes['NUMBER']=='1'].head()"
   ]
  },
  {
   "cell_type": "markdown",
   "metadata": {},
   "source": [
    "Let's start with a plot that allows us to select a particular car number and plot the laptimes associated with it:"
   ]
  },
  {
   "cell_type": "code",
   "execution_count": 36,
   "metadata": {},
   "outputs": [
    {
     "data": {
      "image/png": "[encoded data removed]",
      "text/plain": [
       "<Figure size 432x288 with 1 Axes>"
      ]
     },
     "metadata": {
      "needs_background": "light"
     },
     "output_type": "display_data"
    }
   ],
   "source": [
    "laptimes[laptimes['NUMBER']=='1'].plot(x='LAP_NUMBER',y='LAP_TIME_S');"
   ]
  },
  {
   "cell_type": "markdown",
   "metadata": {},
   "source": [
    "We can easily create a function for that decorated with the *ipywidgets* `interact` function to create a set of widget that allows us to select a particular car and plot the laptimes associated with it:"
   ]
  },
  {
   "cell_type": "code",
   "execution_count": 23,
   "metadata": {},
   "outputs": [
    {
     "data": {
      "application/vnd.jupyter.widget-view+json": {
       "model_id": "84c227af58bb48a28b0e54fd9f2fb505",
       "version_major": 2,
       "version_minor": 0
      },
      "text/plain": [
       "interactive(children=(Dropdown(description='number', options=('1', '11', '17', '26', '28', '29', '3', '31', '3…"
      ]
     },
     "metadata": {},
     "output_type": "display_data"
    }
   ],
   "source": [
    "from ipywidgets import interact\n",
    "\n",
    "@interact(number=laptimes['NUMBER'].unique().tolist(),)\n",
    "def plotLapByNumber(number):\n",
    "    laptimes[laptimes['NUMBER']==number].plot(x='LAP_NUMBER',y='LAP_TIME_S')"
   ]
  },
  {
   "cell_type": "markdown",
   "metadata": {},
   "source": [
    "We can also highlight which laps were driven by which driver by splitting the data for a particular car out over several columns, one for each driver, and then potting each driver column using a separate colour.\n",
    "\n",
    "The table is reshaped using the *pandas* `pivot()` method, setting the lap number as the *index* of the pivoted dataframe and splitting the `LAP_TIME_S` *values* out over several new *columns* that identify each `DRIVER_NUMBER`:"
   ]
  },
  {
   "cell_type": "code",
   "execution_count": 27,
   "metadata": {},
   "outputs": [
    {
     "data": {
      "text/html": [
       "<div>\n",
       "<style scoped>\n",
       "    .dataframe tbody tr th:only-of-type {\n",
       "        vertical-align: middle;\n",
       "    }\n",
       "\n",
       "    .dataframe tbody tr th {\n",
       "        vertical-align: top;\n",
       "    }\n",
       "\n",
       "    .dataframe thead th {\n",
       "        text-align: right;\n",
       "    }\n",
       "</style>\n",
       "<table border=\"1\" class=\"dataframe\">\n",
       "  <thead>\n",
       "    <tr style=\"text-align: right;\">\n",
       "      <th>DRIVER_NUMBER</th>\n",
       "      <th>1</th>\n",
       "      <th>2</th>\n",
       "      <th>3</th>\n",
       "    </tr>\n",
       "    <tr>\n",
       "      <th>LAP_NUMBER</th>\n",
       "      <th></th>\n",
       "      <th></th>\n",
       "      <th></th>\n",
       "    </tr>\n",
       "  </thead>\n",
       "  <tbody>\n",
       "    <tr>\n",
       "      <th>1</th>\n",
       "      <td>126.349</td>\n",
       "      <td>NaN</td>\n",
       "      <td>NaN</td>\n",
       "    </tr>\n",
       "    <tr>\n",
       "      <th>2</th>\n",
       "      <td>120.417</td>\n",
       "      <td>NaN</td>\n",
       "      <td>NaN</td>\n",
       "    </tr>\n",
       "    <tr>\n",
       "      <th>3</th>\n",
       "      <td>137.278</td>\n",
       "      <td>NaN</td>\n",
       "      <td>NaN</td>\n",
       "    </tr>\n",
       "    <tr>\n",
       "      <th>4</th>\n",
       "      <td>190.094</td>\n",
       "      <td>NaN</td>\n",
       "      <td>NaN</td>\n",
       "    </tr>\n",
       "    <tr>\n",
       "      <th>5</th>\n",
       "      <td>149.763</td>\n",
       "      <td>NaN</td>\n",
       "      <td>NaN</td>\n",
       "    </tr>\n",
       "  </tbody>\n",
       "</table>\n",
       "</div>"
      ],
      "text/plain": [
       "DRIVER_NUMBER        1   2   3\n",
       "LAP_NUMBER                    \n",
       "1              126.349 NaN NaN\n",
       "2              120.417 NaN NaN\n",
       "3              137.278 NaN NaN\n",
       "4              190.094 NaN NaN\n",
       "5              149.763 NaN NaN"
      ]
     },
     "execution_count": 27,
     "metadata": {},
     "output_type": "execute_result"
    }
   ],
   "source": [
    "laptimes[laptimes['NUMBER']=='1'].pivot(index='LAP_NUMBER',\n",
    "                                        columns='DRIVER_NUMBER',\n",
    "                                        values='LAP_TIME_S').head()"
   ]
  },
  {
   "cell_type": "markdown",
   "metadata": {},
   "source": [
    "The `.plot()` command will, by default, plot the values in each column of a dataframe as a separate line against the corresponding index values:"
   ]
  },
  {
   "cell_type": "code",
   "execution_count": 24,
   "metadata": {},
   "outputs": [
    {
     "data": {
      "application/vnd.jupyter.widget-view+json": {
       "model_id": "a5e89670d2024501b44be4b80fc3ff4b",
       "version_major": 2,
       "version_minor": 0
      },
      "text/plain": [
       "interactive(children=(Dropdown(description='number', options=('1', '11', '17', '26', '28', '29', '3', '31', '3…"
      ]
     },
     "metadata": {},
     "output_type": "display_data"
    }
   ],
   "source": [
    "@interact(number=laptimes['NUMBER'].unique().tolist(),)\n",
    "def plotLapByNumberDriver(number):\n",
    "    # We can pivot long to wide on driver number,\n",
    "    # then plot all cols against the lapnumber index\n",
    "    laptimes[laptimes['NUMBER']==number].pivot(index='LAP_NUMBER',\n",
    "                                               columns='DRIVER_NUMBER',\n",
    "                                               values='LAP_TIME_S').plot()\n"
   ]
  },
  {
   "cell_type": "markdown",
   "metadata": {},
   "source": [
    "We can also add annotations to the chart. For example, we might want to identify laps on which the car pitted so that we can disambiguate slow laps caused by an on-track incident, for example, from laps where the driver went through the pit lane.\n",
    "\n",
    "By inspection of the original table, we note that there are two columns that provide relevant information: the `CROSSING_FINISH_LINE_IN_PIT` column takes the value 'B' for laps where the car crosses the finish line in the pit, a null value otherwise;  and the `PIT_TIME` column takes a value on laps where the car exits the pit lane at the start of a lap, null otherwise.\n",
    "\n",
    "*(In general, depending on the timing marker, lap times for laps where the car crossed the finish line in the pit may or may not include the pit stop time.)*"
   ]
  },
  {
   "cell_type": "code",
   "execution_count": 45,
   "metadata": {},
   "outputs": [
    {
     "data": {
      "application/vnd.jupyter.widget-view+json": {
       "model_id": "d26aea1338d040f0b073eb40b7b20417",
       "version_major": 2,
       "version_minor": 0
      },
      "text/plain": [
       "interactive(children=(Dropdown(description='number', options=('1', '11', '17', '26', '28', '29', '3', '31', '3…"
      ]
     },
     "metadata": {},
     "output_type": "display_data"
    }
   ],
   "source": [
    "@interact(number=laptimes['NUMBER'].unique().tolist(),\n",
    "          pitentrylap=True)\n",
    "def plotLapByNumberDriverWithPit(number, pitentrylap):\n",
    "    # We can pivot long to wide on driver number,\n",
    "    # then plot all cols against the lapnumber index\n",
    "    #Grap the matplotli axes so we can overplot onto them\n",
    "    ax = laptimes[laptimes['NUMBER']==number].pivot(index='LAP_NUMBER',\n",
    "                                                    columns='DRIVER_NUMBER',\n",
    "                                                    values='LAP_TIME_S').plot()\n",
    "    # Also add in pit laps\n",
    "    # Filter rows that identify both the car\n",
    "    # and the laps on which the car crossed the finish line in the pit\n",
    "    pitcondition = (laptimes['CROSSING_FINISH_LINE_IN_PIT']=='B') if pitentrylap \\\n",
    "                    else ~(laptimes['PIT_TIME'].isnull())\n",
    "    inpitlaps = laptimes[(laptimes['NUMBER']==number) & (pitcondition) ]\n",
    "    # Plot a marker for each of those rows\n",
    "    inpitlaps.plot.scatter(x='LAP_NUMBER',y='LAP_TIME_S', ax=ax)\n",
    "    "
   ]
  },
  {
   "cell_type": "markdown",
   "metadata": {},
   "source": [
    "### Inlaps and Outlaps\n",
    "\n",
    "We can use the pit information to create a convenience column with Boolean values that indicate whether a lap was in in-lap or not (that is, whether lap was completed in the pit lane).\n",
    "\n",
    "We can also shift this column to create a column that contains an outlap flag. We can decide whether the set the initial (first lap) value to be an outlap (`True`) or not.\n",
    "\n",
    "*Alternatively, we could  set the outlap as laps where there is a non-null value for the pit stop time. This would have a `False` value for the first lap.*"
   ]
  },
  {
   "cell_type": "code",
   "execution_count": 57,
   "metadata": {},
   "outputs": [
    {
     "data": {
      "text/html": [
       "<div>\n",
       "<style scoped>\n",
       "    .dataframe tbody tr th:only-of-type {\n",
       "        vertical-align: middle;\n",
       "    }\n",
       "\n",
       "    .dataframe tbody tr th {\n",
       "        vertical-align: top;\n",
       "    }\n",
       "\n",
       "    .dataframe thead th {\n",
       "        text-align: right;\n",
       "    }\n",
       "</style>\n",
       "<table border=\"1\" class=\"dataframe\">\n",
       "  <thead>\n",
       "    <tr style=\"text-align: right;\">\n",
       "      <th></th>\n",
       "      <th>DRIVER_NUMBER</th>\n",
       "      <th>INLAP</th>\n",
       "      <th>OUTLAP</th>\n",
       "    </tr>\n",
       "  </thead>\n",
       "  <tbody>\n",
       "    <tr>\n",
       "      <th>0</th>\n",
       "      <td>1</td>\n",
       "      <td>False</td>\n",
       "      <td>True</td>\n",
       "    </tr>\n",
       "    <tr>\n",
       "      <th>1</th>\n",
       "      <td>1</td>\n",
       "      <td>False</td>\n",
       "      <td>False</td>\n",
       "    </tr>\n",
       "    <tr>\n",
       "      <th>2</th>\n",
       "      <td>1</td>\n",
       "      <td>True</td>\n",
       "      <td>False</td>\n",
       "    </tr>\n",
       "    <tr>\n",
       "      <th>3</th>\n",
       "      <td>1</td>\n",
       "      <td>False</td>\n",
       "      <td>True</td>\n",
       "    </tr>\n",
       "    <tr>\n",
       "      <th>4</th>\n",
       "      <td>1</td>\n",
       "      <td>False</td>\n",
       "      <td>False</td>\n",
       "    </tr>\n",
       "  </tbody>\n",
       "</table>\n",
       "</div>"
      ],
      "text/plain": [
       "  DRIVER_NUMBER  INLAP  OUTLAP\n",
       "0             1  False    True\n",
       "1             1  False   False\n",
       "2             1   True   False\n",
       "3             1  False    True\n",
       "4             1  False   False"
      ]
     },
     "execution_count": 57,
     "metadata": {},
     "output_type": "execute_result"
    }
   ],
   "source": [
    "#Create a flag to identify when we enter the pit, aka an INLAP\n",
    "laptimes['INLAP'] = (laptimes['CROSSING_FINISH_LINE_IN_PIT'] == 'B')\n",
    "\n",
    "#Make no assumptions about table order - so sort by lap number\n",
    "laptimes = laptimes.sort_values(['NUMBER','LAP_NUMBER'])\n",
    "\n",
    "# Identify a new stint for each car by shifting the pitting / INLAP flag within car tables\n",
    "laptimes['OUTLAP'] = laptimes.groupby('NUMBER')['INLAP'].shift(fill_value=True)\n",
    "\n",
    "#Alternatively, we could define the outlap by laps where there is a non-null pit time\n",
    "#laptimes['OUTLAP'] = ~laptimes['PIT_TIME'].isnull()\n",
    "\n",
    "laptimes[['DRIVER_NUMBER', 'INLAP','OUTLAP']].head()"
   ]
  },
  {
   "cell_type": "markdown",
   "metadata": {},
   "source": [
    "## Stint Detection\n",
    "\n",
    "Looking at the chart of laptimes vs driver number, we see that each car is on track for several distinct contiguous lap periods, which we might describe as \"stints\".\n",
    "\n",
    "We can identify several simple heuristics for identifying different sorts of stint:\n",
    "\n",
    "- *driver session*: session equates to continuous period in car irrespective of whether or not the car pits;\n",
    "- *car stint*: laps covered between each pit event; note that in the case of a drive through penalty, this will be counted as a pit event becuase the car passed through the pits, even if the car did not stop; the same is true of stop and go penalties where the car does stop but no work may be carried out on it;\n",
    "- *driver stint*: relative to pit stops; that is, a driver stint is a period bewteen pit stops for a particular driver; this may be renumbered for each session?"
   ]
  },
  {
   "cell_type": "markdown",
   "metadata": {},
   "source": [
    "#### Driver Session"
   ]
  },
  {
   "cell_type": "markdown",
   "metadata": {},
   "source": [
    "We can identify laps where there was a driver change within a particular car by testing whether or not the driver is the same within a car across consecutive laps, setting an appropriate default value for the first lap of the race."
   ]
  },
  {
   "cell_type": "code",
   "execution_count": 59,
   "metadata": {},
   "outputs": [],
   "source": [
    "#Also set overall lap = 1 to be a driver change\n",
    "laptimes['driverchange'] = (~laptimes['DRIVER_NUMBER'].eq(laptimes['DRIVER_NUMBER'].shift())) | (laptimes['LAP_NUMBER']==1)"
   ]
  },
  {
   "cell_type": "markdown",
   "metadata": {},
   "source": [
    "A driver session is then a count for each driver of the number driver change laps they have been associated with. The *pandas* `cumsum()` method provides a *cumulative sum* operator that can be applied to the values of a column. When the column is typed as a set of Boolean values, `True` values count `1` and `False` values count `0`: "
   ]
  },
  {
   "cell_type": "code",
   "execution_count": 63,
   "metadata": {},
   "outputs": [
    {
     "data": {
      "text/html": [
       "<div>\n",
       "<style scoped>\n",
       "    .dataframe tbody tr th:only-of-type {\n",
       "        vertical-align: middle;\n",
       "    }\n",
       "\n",
       "    .dataframe tbody tr th {\n",
       "        vertical-align: top;\n",
       "    }\n",
       "\n",
       "    .dataframe thead th {\n",
       "        text-align: right;\n",
       "    }\n",
       "</style>\n",
       "<table border=\"1\" class=\"dataframe\">\n",
       "  <thead>\n",
       "    <tr style=\"text-align: right;\">\n",
       "      <th></th>\n",
       "      <th>booleans</th>\n",
       "    </tr>\n",
       "  </thead>\n",
       "  <tbody>\n",
       "    <tr>\n",
       "      <th>0</th>\n",
       "      <td>0</td>\n",
       "    </tr>\n",
       "    <tr>\n",
       "      <th>1</th>\n",
       "      <td>1</td>\n",
       "    </tr>\n",
       "    <tr>\n",
       "      <th>2</th>\n",
       "      <td>1</td>\n",
       "    </tr>\n",
       "    <tr>\n",
       "      <th>3</th>\n",
       "      <td>1</td>\n",
       "    </tr>\n",
       "    <tr>\n",
       "      <th>4</th>\n",
       "      <td>2</td>\n",
       "    </tr>\n",
       "    <tr>\n",
       "      <th>5</th>\n",
       "      <td>2</td>\n",
       "    </tr>\n",
       "  </tbody>\n",
       "</table>\n",
       "</div>"
      ],
      "text/plain": [
       "   booleans\n",
       "0         0\n",
       "1         1\n",
       "2         1\n",
       "3         1\n",
       "4         2\n",
       "5         2"
      ]
     },
     "execution_count": 63,
     "metadata": {},
     "output_type": "execute_result"
    }
   ],
   "source": [
    "pd.DataFrame({'booleans':[False, True, False, False, True, False]}).cumsum()"
   ]
  },
  {
   "cell_type": "markdown",
   "metadata": {},
   "source": [
    "If we group the rows in the dataframe by driver — that is, generating separate groups of rows that contain the laptimes associated with a single driver — and then apply a `cumsum()` over the `driverchange` column within each group, we get a a numeric count of the number of sessions each driver has had."
   ]
  },
  {
   "cell_type": "markdown",
   "metadata": {},
   "source": [
    "The *pandas* `groupby()` method can be used to access groups of rows based on one or more column values. For example, we can group rows by the car and driver and then pull out just the rows associated with one group using the `get_group()` method:"
   ]
  },
  {
   "cell_type": "code",
   "execution_count": 68,
   "metadata": {},
   "outputs": [
    {
     "data": {
      "text/html": [
       "<div>\n",
       "<style scoped>\n",
       "    .dataframe tbody tr th:only-of-type {\n",
       "        vertical-align: middle;\n",
       "    }\n",
       "\n",
       "    .dataframe tbody tr th {\n",
       "        vertical-align: top;\n",
       "    }\n",
       "\n",
       "    .dataframe thead th {\n",
       "        text-align: right;\n",
       "    }\n",
       "</style>\n",
       "<table border=\"1\" class=\"dataframe\">\n",
       "  <thead>\n",
       "    <tr style=\"text-align: right;\">\n",
       "      <th></th>\n",
       "      <th>NUMBER</th>\n",
       "      <th>DRIVER_NUMBER</th>\n",
       "      <th>LAP_NUMBER</th>\n",
       "      <th>LAP_TIME</th>\n",
       "      <th>LAP_IMPROVEMENT</th>\n",
       "      <th>CROSSING_FINISH_LINE_IN_PIT</th>\n",
       "      <th>S1</th>\n",
       "      <th>S1_IMPROVEMENT</th>\n",
       "      <th>S2</th>\n",
       "      <th>S2_IMPROVEMENT</th>\n",
       "      <th>...</th>\n",
       "      <th>CLASS</th>\n",
       "      <th>GROUP</th>\n",
       "      <th>TEAM</th>\n",
       "      <th>MANUFACTURER</th>\n",
       "      <th>CAR_DRIVER</th>\n",
       "      <th>LAP_TIME_S</th>\n",
       "      <th>INLAP</th>\n",
       "      <th>OUTLAP</th>\n",
       "      <th>driverchange</th>\n",
       "      <th>DRIVER_SESSION</th>\n",
       "    </tr>\n",
       "  </thead>\n",
       "  <tbody>\n",
       "    <tr>\n",
       "      <th>0</th>\n",
       "      <td>1</td>\n",
       "      <td>1</td>\n",
       "      <td>1</td>\n",
       "      <td>2:06.349</td>\n",
       "      <td>0</td>\n",
       "      <td>NaN</td>\n",
       "      <td>37.900</td>\n",
       "      <td>0</td>\n",
       "      <td>57.533</td>\n",
       "      <td>0</td>\n",
       "      <td>...</td>\n",
       "      <td>LMP1</td>\n",
       "      <td>NaN</td>\n",
       "      <td>Rebellion Racing</td>\n",
       "      <td>Rebellion</td>\n",
       "      <td>1_1</td>\n",
       "      <td>126.349</td>\n",
       "      <td>False</td>\n",
       "      <td>True</td>\n",
       "      <td>True</td>\n",
       "      <td>1</td>\n",
       "    </tr>\n",
       "    <tr>\n",
       "      <th>1</th>\n",
       "      <td>1</td>\n",
       "      <td>1</td>\n",
       "      <td>2</td>\n",
       "      <td>2:00.417</td>\n",
       "      <td>0</td>\n",
       "      <td>NaN</td>\n",
       "      <td>34.830</td>\n",
       "      <td>0</td>\n",
       "      <td>54.824</td>\n",
       "      <td>0</td>\n",
       "      <td>...</td>\n",
       "      <td>LMP1</td>\n",
       "      <td>NaN</td>\n",
       "      <td>Rebellion Racing</td>\n",
       "      <td>Rebellion</td>\n",
       "      <td>1_1</td>\n",
       "      <td>120.417</td>\n",
       "      <td>False</td>\n",
       "      <td>False</td>\n",
       "      <td>False</td>\n",
       "      <td>1</td>\n",
       "    </tr>\n",
       "    <tr>\n",
       "      <th>2</th>\n",
       "      <td>1</td>\n",
       "      <td>1</td>\n",
       "      <td>3</td>\n",
       "      <td>2:17.278</td>\n",
       "      <td>0</td>\n",
       "      <td>B</td>\n",
       "      <td>40.012</td>\n",
       "      <td>0</td>\n",
       "      <td>55.696</td>\n",
       "      <td>0</td>\n",
       "      <td>...</td>\n",
       "      <td>LMP1</td>\n",
       "      <td>NaN</td>\n",
       "      <td>Rebellion Racing</td>\n",
       "      <td>Rebellion</td>\n",
       "      <td>1_1</td>\n",
       "      <td>137.278</td>\n",
       "      <td>True</td>\n",
       "      <td>False</td>\n",
       "      <td>False</td>\n",
       "      <td>1</td>\n",
       "    </tr>\n",
       "    <tr>\n",
       "      <th>3</th>\n",
       "      <td>1</td>\n",
       "      <td>1</td>\n",
       "      <td>4</td>\n",
       "      <td>3:10.094</td>\n",
       "      <td>0</td>\n",
       "      <td>NaN</td>\n",
       "      <td>1:26.938</td>\n",
       "      <td>0</td>\n",
       "      <td>1:07.045</td>\n",
       "      <td>0</td>\n",
       "      <td>...</td>\n",
       "      <td>LMP1</td>\n",
       "      <td>NaN</td>\n",
       "      <td>Rebellion Racing</td>\n",
       "      <td>Rebellion</td>\n",
       "      <td>1_1</td>\n",
       "      <td>190.094</td>\n",
       "      <td>False</td>\n",
       "      <td>True</td>\n",
       "      <td>False</td>\n",
       "      <td>1</td>\n",
       "    </tr>\n",
       "    <tr>\n",
       "      <th>4</th>\n",
       "      <td>1</td>\n",
       "      <td>1</td>\n",
       "      <td>5</td>\n",
       "      <td>2:29.763</td>\n",
       "      <td>0</td>\n",
       "      <td>NaN</td>\n",
       "      <td>41.205</td>\n",
       "      <td>0</td>\n",
       "      <td>1:11.517</td>\n",
       "      <td>0</td>\n",
       "      <td>...</td>\n",
       "      <td>LMP1</td>\n",
       "      <td>NaN</td>\n",
       "      <td>Rebellion Racing</td>\n",
       "      <td>Rebellion</td>\n",
       "      <td>1_1</td>\n",
       "      <td>149.763</td>\n",
       "      <td>False</td>\n",
       "      <td>False</td>\n",
       "      <td>False</td>\n",
       "      <td>1</td>\n",
       "    </tr>\n",
       "  </tbody>\n",
       "</table>\n",
       "<p>5 rows × 31 columns</p>\n",
       "</div>"
      ],
      "text/plain": [
       "  NUMBER DRIVER_NUMBER  LAP_NUMBER  LAP_TIME  LAP_IMPROVEMENT  \\\n",
       "0      1             1           1  2:06.349                0   \n",
       "1      1             1           2  2:00.417                0   \n",
       "2      1             1           3  2:17.278                0   \n",
       "3      1             1           4  3:10.094                0   \n",
       "4      1             1           5  2:29.763                0   \n",
       "\n",
       "  CROSSING_FINISH_LINE_IN_PIT        S1  S1_IMPROVEMENT        S2  \\\n",
       "0                         NaN    37.900               0    57.533   \n",
       "1                         NaN    34.830               0    54.824   \n",
       "2                           B    40.012               0    55.696   \n",
       "3                         NaN  1:26.938               0  1:07.045   \n",
       "4                         NaN    41.205               0  1:11.517   \n",
       "\n",
       "   S2_IMPROVEMENT  ... CLASS  GROUP              TEAM MANUFACTURER CAR_DRIVER  \\\n",
       "0               0  ...  LMP1    NaN  Rebellion Racing    Rebellion        1_1   \n",
       "1               0  ...  LMP1    NaN  Rebellion Racing    Rebellion        1_1   \n",
       "2               0  ...  LMP1    NaN  Rebellion Racing    Rebellion        1_1   \n",
       "3               0  ...  LMP1    NaN  Rebellion Racing    Rebellion        1_1   \n",
       "4               0  ...  LMP1    NaN  Rebellion Racing    Rebellion        1_1   \n",
       "\n",
       "  LAP_TIME_S  INLAP OUTLAP  driverchange DRIVER_SESSION  \n",
       "0    126.349  False   True          True              1  \n",
       "1    120.417  False  False         False              1  \n",
       "2    137.278   True  False         False              1  \n",
       "3    190.094  False   True         False              1  \n",
       "4    149.763  False  False         False              1  \n",
       "\n",
       "[5 rows x 31 columns]"
      ]
     },
     "execution_count": 68,
     "metadata": {},
     "output_type": "execute_result"
    }
   ],
   "source": [
    "car_num = '1'\n",
    "driver_num = '1'\n",
    "\n",
    "laptimes.groupby(['NUMBER', 'DRIVER_NUMBER']).get_group( (car_num, driver_num) ).head()"
   ]
  },
  {
   "cell_type": "markdown",
   "metadata": {},
   "source": [
    "When applying the `cumsum()` operator to a `groupby()` object, it will be automatically applied to the set of rows associated with each separate group:"
   ]
  },
  {
   "cell_type": "code",
   "execution_count": 60,
   "metadata": {},
   "outputs": [
    {
     "data": {
      "text/html": [
       "<div>\n",
       "<style scoped>\n",
       "    .dataframe tbody tr th:only-of-type {\n",
       "        vertical-align: middle;\n",
       "    }\n",
       "\n",
       "    .dataframe tbody tr th {\n",
       "        vertical-align: top;\n",
       "    }\n",
       "\n",
       "    .dataframe thead th {\n",
       "        text-align: right;\n",
       "    }\n",
       "</style>\n",
       "<table border=\"1\" class=\"dataframe\">\n",
       "  <thead>\n",
       "    <tr style=\"text-align: right;\">\n",
       "      <th></th>\n",
       "      <th>DRIVER_NUMBER</th>\n",
       "      <th>driverchange</th>\n",
       "      <th>DRIVER_SESSION</th>\n",
       "      <th>LAP_NUMBER</th>\n",
       "    </tr>\n",
       "  </thead>\n",
       "  <tbody>\n",
       "    <tr>\n",
       "      <th>42</th>\n",
       "      <td>1</td>\n",
       "      <td>False</td>\n",
       "      <td>1</td>\n",
       "      <td>43</td>\n",
       "    </tr>\n",
       "    <tr>\n",
       "      <th>43</th>\n",
       "      <td>1</td>\n",
       "      <td>False</td>\n",
       "      <td>1</td>\n",
       "      <td>44</td>\n",
       "    </tr>\n",
       "    <tr>\n",
       "      <th>44</th>\n",
       "      <td>1</td>\n",
       "      <td>False</td>\n",
       "      <td>1</td>\n",
       "      <td>45</td>\n",
       "    </tr>\n",
       "    <tr>\n",
       "      <th>45</th>\n",
       "      <td>2</td>\n",
       "      <td>True</td>\n",
       "      <td>1</td>\n",
       "      <td>46</td>\n",
       "    </tr>\n",
       "    <tr>\n",
       "      <th>46</th>\n",
       "      <td>2</td>\n",
       "      <td>False</td>\n",
       "      <td>1</td>\n",
       "      <td>47</td>\n",
       "    </tr>\n",
       "    <tr>\n",
       "      <th>47</th>\n",
       "      <td>2</td>\n",
       "      <td>False</td>\n",
       "      <td>1</td>\n",
       "      <td>48</td>\n",
       "    </tr>\n",
       "  </tbody>\n",
       "</table>\n",
       "</div>"
      ],
      "text/plain": [
       "   DRIVER_NUMBER  driverchange  DRIVER_SESSION  LAP_NUMBER\n",
       "42             1         False               1          43\n",
       "43             1         False               1          44\n",
       "44             1         False               1          45\n",
       "45             2          True               1          46\n",
       "46             2         False               1          47\n",
       "47             2         False               1          48"
      ]
     },
     "execution_count": 60,
     "metadata": {},
     "output_type": "execute_result"
    }
   ],
   "source": [
    "laptimes['DRIVER_SESSION'] = laptimes.groupby(['NUMBER', 'DRIVER_NUMBER'])['driverchange'].cumsum().astype(int)\n",
    "\n",
    "#Preview\n",
    "laptimes[['DRIVER_NUMBER', 'driverchange','DRIVER_SESSION','LAP_NUMBER']][42:48]"
   ]
  },
  {
   "cell_type": "markdown",
   "metadata": {},
   "source": [
    "#### Car Stint\n",
    "\n",
    "If we define a *car stint* as a period in between pit events, irrespective of driver, we can calculate it by simply by counting the number of pit event flags associated with the car."
   ]
  },
  {
   "cell_type": "code",
   "execution_count": 79,
   "metadata": {},
   "outputs": [
    {
     "data": {
      "text/html": [
       "<div>\n",
       "<style scoped>\n",
       "    .dataframe tbody tr th:only-of-type {\n",
       "        vertical-align: middle;\n",
       "    }\n",
       "\n",
       "    .dataframe tbody tr th {\n",
       "        vertical-align: top;\n",
       "    }\n",
       "\n",
       "    .dataframe thead th {\n",
       "        text-align: right;\n",
       "    }\n",
       "</style>\n",
       "<table border=\"1\" class=\"dataframe\">\n",
       "  <thead>\n",
       "    <tr style=\"text-align: right;\">\n",
       "      <th></th>\n",
       "      <th>CROSSING_FINISH_LINE_IN_PIT</th>\n",
       "      <th>INLAP</th>\n",
       "      <th>OUTLAP</th>\n",
       "      <th>CAR_STINT</th>\n",
       "    </tr>\n",
       "  </thead>\n",
       "  <tbody>\n",
       "    <tr>\n",
       "      <th>0</th>\n",
       "      <td>NaN</td>\n",
       "      <td>False</td>\n",
       "      <td>True</td>\n",
       "      <td>1</td>\n",
       "    </tr>\n",
       "    <tr>\n",
       "      <th>1</th>\n",
       "      <td>NaN</td>\n",
       "      <td>False</td>\n",
       "      <td>False</td>\n",
       "      <td>1</td>\n",
       "    </tr>\n",
       "    <tr>\n",
       "      <th>2</th>\n",
       "      <td>B</td>\n",
       "      <td>True</td>\n",
       "      <td>False</td>\n",
       "      <td>1</td>\n",
       "    </tr>\n",
       "    <tr>\n",
       "      <th>3</th>\n",
       "      <td>NaN</td>\n",
       "      <td>False</td>\n",
       "      <td>True</td>\n",
       "      <td>2</td>\n",
       "    </tr>\n",
       "    <tr>\n",
       "      <th>4</th>\n",
       "      <td>NaN</td>\n",
       "      <td>False</td>\n",
       "      <td>False</td>\n",
       "      <td>2</td>\n",
       "    </tr>\n",
       "  </tbody>\n",
       "</table>\n",
       "</div>"
      ],
      "text/plain": [
       "  CROSSING_FINISH_LINE_IN_PIT  INLAP  OUTLAP  CAR_STINT\n",
       "0                         NaN  False    True          1\n",
       "1                         NaN  False   False          1\n",
       "2                           B   True   False          1\n",
       "3                         NaN  False    True          2\n",
       "4                         NaN  False   False          2"
      ]
     },
     "execution_count": 79,
     "metadata": {},
     "output_type": "execute_result"
    }
   ],
   "source": [
    "#Create a counter for each pit stop - the pit flag is entering pit at end of stint\n",
    "#  so a new stint applies on the lap after a pit\n",
    "#Find the car stint based on count of pit stops\n",
    "laptimes['CAR_STINT'] = laptimes.groupby('NUMBER')['OUTLAP'].cumsum().astype(int)\n",
    "\n",
    "laptimes[['CROSSING_FINISH_LINE_IN_PIT', 'INLAP', 'OUTLAP', 'CAR_STINT']].head()"
   ]
  },
  {
   "cell_type": "markdown",
   "metadata": {},
   "source": [
    "#### Driver Stint"
   ]
  },
  {
   "cell_type": "code",
   "execution_count": 80,
   "metadata": {},
   "outputs": [
    {
     "data": {
      "text/html": [
       "<div>\n",
       "<style scoped>\n",
       "    .dataframe tbody tr th:only-of-type {\n",
       "        vertical-align: middle;\n",
       "    }\n",
       "\n",
       "    .dataframe tbody tr th {\n",
       "        vertical-align: top;\n",
       "    }\n",
       "\n",
       "    .dataframe thead th {\n",
       "        text-align: right;\n",
       "    }\n",
       "</style>\n",
       "<table border=\"1\" class=\"dataframe\">\n",
       "  <thead>\n",
       "    <tr style=\"text-align: right;\">\n",
       "      <th></th>\n",
       "      <th>CAR_DRIVER</th>\n",
       "      <th>CROSSING_FINISH_LINE_IN_PIT</th>\n",
       "      <th>INLAP</th>\n",
       "      <th>CAR_STINT</th>\n",
       "      <th>DRIVER_STINT</th>\n",
       "      <th>CAR_DRIVER_STINT</th>\n",
       "    </tr>\n",
       "  </thead>\n",
       "  <tbody>\n",
       "    <tr>\n",
       "      <th>4212</th>\n",
       "      <td>98_2</td>\n",
       "      <td>NaN</td>\n",
       "      <td>False</td>\n",
       "      <td>7</td>\n",
       "      <td>1</td>\n",
       "      <td>98_2_1</td>\n",
       "    </tr>\n",
       "    <tr>\n",
       "      <th>4213</th>\n",
       "      <td>98_2</td>\n",
       "      <td>NaN</td>\n",
       "      <td>False</td>\n",
       "      <td>7</td>\n",
       "      <td>1</td>\n",
       "      <td>98_2_1</td>\n",
       "    </tr>\n",
       "    <tr>\n",
       "      <th>4214</th>\n",
       "      <td>98_2</td>\n",
       "      <td>NaN</td>\n",
       "      <td>False</td>\n",
       "      <td>7</td>\n",
       "      <td>1</td>\n",
       "      <td>98_2_1</td>\n",
       "    </tr>\n",
       "    <tr>\n",
       "      <th>4215</th>\n",
       "      <td>98_2</td>\n",
       "      <td>NaN</td>\n",
       "      <td>False</td>\n",
       "      <td>7</td>\n",
       "      <td>1</td>\n",
       "      <td>98_2_1</td>\n",
       "    </tr>\n",
       "    <tr>\n",
       "      <th>4216</th>\n",
       "      <td>98_2</td>\n",
       "      <td>NaN</td>\n",
       "      <td>False</td>\n",
       "      <td>7</td>\n",
       "      <td>1</td>\n",
       "      <td>98_2_1</td>\n",
       "    </tr>\n",
       "    <tr>\n",
       "      <th>4217</th>\n",
       "      <td>98_2</td>\n",
       "      <td>B</td>\n",
       "      <td>True</td>\n",
       "      <td>7</td>\n",
       "      <td>1</td>\n",
       "      <td>98_2_1</td>\n",
       "    </tr>\n",
       "    <tr>\n",
       "      <th>4218</th>\n",
       "      <td>98_2</td>\n",
       "      <td>NaN</td>\n",
       "      <td>False</td>\n",
       "      <td>8</td>\n",
       "      <td>2</td>\n",
       "      <td>98_2_2</td>\n",
       "    </tr>\n",
       "    <tr>\n",
       "      <th>4219</th>\n",
       "      <td>98_2</td>\n",
       "      <td>NaN</td>\n",
       "      <td>False</td>\n",
       "      <td>8</td>\n",
       "      <td>2</td>\n",
       "      <td>98_2_2</td>\n",
       "    </tr>\n",
       "    <tr>\n",
       "      <th>4220</th>\n",
       "      <td>98_2</td>\n",
       "      <td>NaN</td>\n",
       "      <td>False</td>\n",
       "      <td>8</td>\n",
       "      <td>2</td>\n",
       "      <td>98_2_2</td>\n",
       "    </tr>\n",
       "    <tr>\n",
       "      <th>4221</th>\n",
       "      <td>98_2</td>\n",
       "      <td>NaN</td>\n",
       "      <td>False</td>\n",
       "      <td>8</td>\n",
       "      <td>2</td>\n",
       "      <td>98_2_2</td>\n",
       "    </tr>\n",
       "  </tbody>\n",
       "</table>\n",
       "</div>"
      ],
      "text/plain": [
       "     CAR_DRIVER CROSSING_FINISH_LINE_IN_PIT  INLAP  CAR_STINT  DRIVER_STINT  \\\n",
       "4212       98_2                         NaN  False          7             1   \n",
       "4213       98_2                         NaN  False          7             1   \n",
       "4214       98_2                         NaN  False          7             1   \n",
       "4215       98_2                         NaN  False          7             1   \n",
       "4216       98_2                         NaN  False          7             1   \n",
       "4217       98_2                           B   True          7             1   \n",
       "4218       98_2                         NaN  False          8             2   \n",
       "4219       98_2                         NaN  False          8             2   \n",
       "4220       98_2                         NaN  False          8             2   \n",
       "4221       98_2                         NaN  False          8             2   \n",
       "\n",
       "     CAR_DRIVER_STINT  \n",
       "4212           98_2_1  \n",
       "4213           98_2_1  \n",
       "4214           98_2_1  \n",
       "4215           98_2_1  \n",
       "4216           98_2_1  \n",
       "4217           98_2_1  \n",
       "4218           98_2_2  \n",
       "4219           98_2_2  \n",
       "4220           98_2_2  \n",
       "4221           98_2_2  "
      ]
     },
     "execution_count": 80,
     "metadata": {},
     "output_type": "execute_result"
    }
   ],
   "source": [
    "#Driver stint - a cumulative count for each driver of their stints\n",
    "laptimes['DRIVER_STINT'] = laptimes.groupby('CAR_DRIVER')['OUTLAP'].cumsum().astype(int)\n",
    "\n",
    "#Let's also derive another identifier - CAR_DRIVER_STINT\n",
    "laptimes['CAR_DRIVER_STINT'] = laptimes['CAR_DRIVER'] + '_' + laptimes['DRIVER_STINT'].astype(str)\n",
    "\n",
    "laptimes[['CAR_DRIVER', 'CROSSING_FINISH_LINE_IN_PIT', 'INLAP','CAR_STINT', 'DRIVER_STINT', 'CAR_DRIVER_STINT']].tail(20).head(10)\n"
   ]
  },
  {
   "cell_type": "code",
   "execution_count": 81,
   "metadata": {},
   "outputs": [
    {
     "data": {
      "text/html": [
       "<div>\n",
       "<style scoped>\n",
       "    .dataframe tbody tr th:only-of-type {\n",
       "        vertical-align: middle;\n",
       "    }\n",
       "\n",
       "    .dataframe tbody tr th {\n",
       "        vertical-align: top;\n",
       "    }\n",
       "\n",
       "    .dataframe thead th {\n",
       "        text-align: right;\n",
       "    }\n",
       "</style>\n",
       "<table border=\"1\" class=\"dataframe\">\n",
       "  <thead>\n",
       "    <tr style=\"text-align: right;\">\n",
       "      <th></th>\n",
       "      <th>CAR_DRIVER</th>\n",
       "      <th>CROSSING_FINISH_LINE_IN_PIT</th>\n",
       "      <th>INLAP</th>\n",
       "      <th>CAR_STINT</th>\n",
       "      <th>DRIVER_STINT</th>\n",
       "      <th>CAR_DRIVER_STINT</th>\n",
       "      <th>DRIVER_SESSION_STINT</th>\n",
       "    </tr>\n",
       "  </thead>\n",
       "  <tbody>\n",
       "    <tr>\n",
       "      <th>0</th>\n",
       "      <td>1_1</td>\n",
       "      <td>NaN</td>\n",
       "      <td>False</td>\n",
       "      <td>1</td>\n",
       "      <td>1</td>\n",
       "      <td>1_1_1</td>\n",
       "      <td>1</td>\n",
       "    </tr>\n",
       "    <tr>\n",
       "      <th>1</th>\n",
       "      <td>1_1</td>\n",
       "      <td>NaN</td>\n",
       "      <td>False</td>\n",
       "      <td>1</td>\n",
       "      <td>1</td>\n",
       "      <td>1_1_1</td>\n",
       "      <td>1</td>\n",
       "    </tr>\n",
       "    <tr>\n",
       "      <th>2</th>\n",
       "      <td>1_1</td>\n",
       "      <td>B</td>\n",
       "      <td>True</td>\n",
       "      <td>1</td>\n",
       "      <td>1</td>\n",
       "      <td>1_1_1</td>\n",
       "      <td>1</td>\n",
       "    </tr>\n",
       "    <tr>\n",
       "      <th>3</th>\n",
       "      <td>1_1</td>\n",
       "      <td>NaN</td>\n",
       "      <td>False</td>\n",
       "      <td>2</td>\n",
       "      <td>2</td>\n",
       "      <td>1_1_2</td>\n",
       "      <td>2</td>\n",
       "    </tr>\n",
       "    <tr>\n",
       "      <th>4</th>\n",
       "      <td>1_1</td>\n",
       "      <td>NaN</td>\n",
       "      <td>False</td>\n",
       "      <td>2</td>\n",
       "      <td>2</td>\n",
       "      <td>1_1_2</td>\n",
       "      <td>2</td>\n",
       "    </tr>\n",
       "  </tbody>\n",
       "</table>\n",
       "</div>"
      ],
      "text/plain": [
       "  CAR_DRIVER CROSSING_FINISH_LINE_IN_PIT  INLAP  CAR_STINT  DRIVER_STINT  \\\n",
       "0        1_1                         NaN  False          1             1   \n",
       "1        1_1                         NaN  False          1             1   \n",
       "2        1_1                           B   True          1             1   \n",
       "3        1_1                         NaN  False          2             2   \n",
       "4        1_1                         NaN  False          2             2   \n",
       "\n",
       "  CAR_DRIVER_STINT  DRIVER_SESSION_STINT  \n",
       "0            1_1_1                     1  \n",
       "1            1_1_1                     1  \n",
       "2            1_1_1                     1  \n",
       "3            1_1_2                     2  \n",
       "4            1_1_2                     2  "
      ]
     },
     "execution_count": 81,
     "metadata": {},
     "output_type": "execute_result"
    }
   ],
   "source": [
    "#Driver session stint - a count for each driver of their stints within a particular driving session\n",
    "laptimes['DRIVER_SESSION_STINT'] = laptimes.groupby(['CAR_DRIVER','DRIVER_SESSION'])['OUTLAP'].cumsum().astype(int)\n",
    "laptimes[['CAR_DRIVER', 'CROSSING_FINISH_LINE_IN_PIT', 'INLAP','CAR_STINT', 'DRIVER_STINT', 'CAR_DRIVER_STINT', 'DRIVER_SESSION_STINT']].head()\n"
   ]
  },
  {
   "cell_type": "markdown",
   "metadata": {},
   "source": [
    "## Lap Counts Within Stints\n",
    "\n",
    "It may be convenient to keep track of lap counts within stints."
   ]
  },
  {
   "cell_type": "code",
   "execution_count": 82,
   "metadata": {},
   "outputs": [
    {
     "data": {
      "text/html": [
       "<div>\n",
       "<style scoped>\n",
       "    .dataframe tbody tr th:only-of-type {\n",
       "        vertical-align: middle;\n",
       "    }\n",
       "\n",
       "    .dataframe tbody tr th {\n",
       "        vertical-align: top;\n",
       "    }\n",
       "\n",
       "    .dataframe thead th {\n",
       "        text-align: right;\n",
       "    }\n",
       "</style>\n",
       "<table border=\"1\" class=\"dataframe\">\n",
       "  <thead>\n",
       "    <tr style=\"text-align: right;\">\n",
       "      <th></th>\n",
       "      <th>LAPS_CAR_STINT</th>\n",
       "      <th>LAPS_DRIVER</th>\n",
       "      <th>LAPS_DRIVER_SESSION</th>\n",
       "      <th>LAPS_DRIVER_STINT</th>\n",
       "    </tr>\n",
       "  </thead>\n",
       "  <tbody>\n",
       "    <tr>\n",
       "      <th>4227</th>\n",
       "      <td>10</td>\n",
       "      <td>16</td>\n",
       "      <td>16</td>\n",
       "      <td>10</td>\n",
       "    </tr>\n",
       "    <tr>\n",
       "      <th>4228</th>\n",
       "      <td>11</td>\n",
       "      <td>17</td>\n",
       "      <td>17</td>\n",
       "      <td>11</td>\n",
       "    </tr>\n",
       "    <tr>\n",
       "      <th>4229</th>\n",
       "      <td>12</td>\n",
       "      <td>18</td>\n",
       "      <td>18</td>\n",
       "      <td>12</td>\n",
       "    </tr>\n",
       "    <tr>\n",
       "      <th>4230</th>\n",
       "      <td>13</td>\n",
       "      <td>19</td>\n",
       "      <td>19</td>\n",
       "      <td>13</td>\n",
       "    </tr>\n",
       "    <tr>\n",
       "      <th>4231</th>\n",
       "      <td>14</td>\n",
       "      <td>20</td>\n",
       "      <td>20</td>\n",
       "      <td>14</td>\n",
       "    </tr>\n",
       "  </tbody>\n",
       "</table>\n",
       "</div>"
      ],
      "text/plain": [
       "      LAPS_CAR_STINT  LAPS_DRIVER  LAPS_DRIVER_SESSION  LAPS_DRIVER_STINT\n",
       "4227              10           16                   16                 10\n",
       "4228              11           17                   17                 11\n",
       "4229              12           18                   18                 12\n",
       "4230              13           19                   19                 13\n",
       "4231              14           20                   20                 14"
      ]
     },
     "execution_count": 82,
     "metadata": {},
     "output_type": "execute_result"
    }
   ],
   "source": [
    "# lap count by car stint - that is, between each pit stop\n",
    "laptimes['LAPS_CAR_STINT'] = laptimes.groupby(['NUMBER','CAR_STINT']).cumcount()+1\n",
    "\n",
    "#lap count by driver\n",
    "laptimes['LAPS_DRIVER'] = laptimes.groupby('CAR_DRIVER').cumcount()+1\n",
    "\n",
    "#lap count by driver session\n",
    "laptimes['LAPS_DRIVER_SESSION'] = laptimes.groupby(['CAR_DRIVER','DRIVER_SESSION']).cumcount()+1\n",
    "\n",
    "#lap count by driver stint\n",
    "laptimes['LAPS_DRIVER_STINT'] = laptimes.groupby(['CAR_DRIVER','DRIVER_STINT']).cumcount()+1\n",
    "\n",
    "laptimes[['LAPS_CAR_STINT', 'LAPS_DRIVER', 'LAPS_DRIVER_SESSION', 'LAPS_DRIVER_STINT']].tail()"
   ]
  },
  {
   "cell_type": "markdown",
   "metadata": {},
   "source": [
    "## Basic Individual Driver Reports\n",
    "\n",
    "Using those additional columns, we should be able to start creating reports by driver by facetting on individual drivers.\n",
    "\n",
    "(Note: it might be interesting to do some datasette demos with particular facets, which make it easy to select teams, drivers, etc.)"
   ]
  },
  {
   "cell_type": "code",
   "execution_count": 83,
   "metadata": {},
   "outputs": [
    {
     "ename": "ModuleNotFoundError",
     "evalue": "No module named 'qgrid'",
     "output_type": "error",
     "traceback": [
      "\u001b[0;31m---------------------------------------------------------------------------\u001b[0m",
      "\u001b[0;31mModuleNotFoundError\u001b[0m                       Traceback (most recent call last)",
      "\u001b[0;32m<ipython-input-83-d23db8de4a7c>\u001b[0m in \u001b[0;36m<module>\u001b[0;34m()\u001b[0m\n\u001b[0;32m----> 1\u001b[0;31m \u001b[0;32mimport\u001b[0m \u001b[0mqgrid\u001b[0m\u001b[0;34m\u001b[0m\u001b[0;34m\u001b[0m\u001b[0m\n\u001b[0m\u001b[1;32m      2\u001b[0m qgrid.show_grid(laptimes[['LAP_NUMBER', 'NUMBER', 'CAR_DRIVER',  'INLAP', 'CAR_STINT', \n\u001b[1;32m      3\u001b[0m                           'CAR_DRIVER_STINT', 'DRIVER_STINT', 'DRIVER_SESSION', 'DRIVER_SESSION_STINT']])\n",
      "\u001b[0;31mModuleNotFoundError\u001b[0m: No module named 'qgrid'"
     ]
    }
   ],
   "source": [
    "import qgrid\n",
    "qgrid.show_grid(laptimes[['LAP_NUMBER', 'NUMBER', 'CAR_DRIVER',  'INLAP', 'CAR_STINT', \n",
    "                          'CAR_DRIVER_STINT', 'DRIVER_STINT', 'DRIVER_SESSION', 'DRIVER_SESSION_STINT']])"
   ]
  },
  {
   "cell_type": "markdown",
   "metadata": {},
   "source": [
    "## Simple Stint Reports\n",
    "\n",
    "Using the various stint details, we can pull together a simple set of widgets to allow us to explore times by car / driver."
   ]
  },
  {
   "cell_type": "code",
   "execution_count": 84,
   "metadata": {},
   "outputs": [],
   "source": [
    "import ipywidgets as widgets\n",
    "from ipywidgets import interact"
   ]
  },
  {
   "cell_type": "code",
   "execution_count": 85,
   "metadata": {},
   "outputs": [
    {
     "data": {
      "application/vnd.jupyter.widget-view+json": {
       "model_id": "66dd1104b31d40fdbea889abafe791d9",
       "version_major": 2,
       "version_minor": 0
      },
      "text/plain": [
       "interactive(children=(Dropdown(description='Car:', options=('1', '11', '17', '26', '28', '29', '3', '31', '36'…"
      ]
     },
     "metadata": {},
     "output_type": "display_data"
    }
   ],
   "source": [
    "cars = widgets.Dropdown(\n",
    "    options=laptimes['NUMBER'].unique(), # value='1',\n",
    "    description='Car:', disabled=False )\n",
    "\n",
    "drivers = widgets.Dropdown(\n",
    "    options=laptimes[laptimes['NUMBER']==cars.value]['CAR_DRIVER'].unique(),\n",
    "    description='Driver:', disabled=False)\n",
    "\n",
    "driversessions = widgets.Dropdown(\n",
    "    options=laptimes[laptimes['CAR_DRIVER']==drivers.value]['DRIVER_SESSION'].unique(),\n",
    "    description='Session:', disabled=False)\n",
    "\n",
    "driverstints = widgets.Dropdown(\n",
    "    options=laptimes[laptimes['DRIVER_SESSION']==driversessions.value]['DRIVER_SESSION_STINT'].unique(),\n",
    "    description='Stint:', disabled=False)\n",
    "\n",
    "def update_drivers(*args):\n",
    "    driverlist = laptimes[laptimes['NUMBER']==cars.value]['CAR_DRIVER'].unique()\n",
    "    drivers.options = driverlist\n",
    "    \n",
    "def update_driver_session(*args):\n",
    "    driversessionlist = laptimes[(laptimes['CAR_DRIVER']==drivers.value)]['DRIVER_SESSION'].unique()\n",
    "    driversessions.options = driversessionlist\n",
    "    \n",
    "def update_driver_stint(*args):\n",
    "    driverstintlist = laptimes[(laptimes['CAR_DRIVER']==drivers.value) &\n",
    "                               (laptimes['DRIVER_SESSION']==driversessions.value)]['DRIVER_SESSION_STINT'].unique()\n",
    "    driverstints.options = driverstintlist\n",
    "    \n",
    "cars.observe(update_drivers, 'value')\n",
    "drivers.observe(update_driver_session,'value')\n",
    "driversessions.observe(update_driver_stint,'value')\n",
    "\n",
    "def laptime_table(car, driver, driversession, driverstint):\n",
    "    #just basic for now...\n",
    "    display(laptimes[(laptimes['CAR_DRIVER']==driver) &\n",
    "                     (laptimes['DRIVER_SESSION']==driversession) &\n",
    "                     (laptimes['DRIVER_SESSION_STINT']==driverstint) ][['CAR_DRIVER', 'DRIVER_SESSION',\n",
    "                                                         'DRIVER_STINT', 'DRIVER_SESSION_STINT',\n",
    "                                                         'LAP_NUMBER','LAP_TIME', 'LAP_TIME_S']])\n",
    "    \n",
    "interact(laptime_table, car=cars, driver=drivers, driversession=driversessions, driverstint=driverstints);\n"
   ]
  },
  {
   "cell_type": "code",
   "execution_count": 86,
   "metadata": {},
   "outputs": [
    {
     "data": {
      "application/vnd.jupyter.widget-view+json": {
       "model_id": "858eef5f729c4ef0ae436ffed9c5228a",
       "version_major": 2,
       "version_minor": 0
      },
      "text/plain": [
       "interactive(children=(Dropdown(description='Car:', options=('1', '11', '17', '26', '28', '29', '3', '31', '36'…"
      ]
     },
     "metadata": {},
     "output_type": "display_data"
    }
   ],
   "source": [
    "def laptime_chart(car, driver, driversession, driverstint):\n",
    "    tmp_df = laptimes[(laptimes['CAR_DRIVER']==driver) &\n",
    "                     (laptimes['DRIVER_SESSION']==driversession) &\n",
    "                     (laptimes['DRIVER_SESSION_STINT']==driverstint) ][['CAR_DRIVER', 'DRIVER_SESSION',\n",
    "                                                         'DRIVER_STINT', 'DRIVER_SESSION_STINT',\n",
    "                                                         'LAP_NUMBER','LAP_TIME', 'LAP_TIME_S']]['LAP_TIME_S'].reset_index(drop=True)\n",
    "    if not tmp_df.empty:\n",
    "        tmp_df.plot()\n",
    "        \n",
    "interact(laptime_chart, car=cars, driver=drivers, driversession=driversessions, driverstint=driverstints);\n"
   ]
  },
  {
   "cell_type": "code",
   "execution_count": 87,
   "metadata": {},
   "outputs": [
    {
     "data": {
      "application/vnd.jupyter.widget-view+json": {
       "model_id": "98c62e2a7128438a88b6693bfae7df3c",
       "version_major": 2,
       "version_minor": 0
      },
      "text/plain": [
       "interactive(children=(Dropdown(description='Car:', options=('1', '11', '17', '26', '28', '29', '3', '31', '36'…"
      ]
     },
     "metadata": {},
     "output_type": "display_data"
    }
   ],
   "source": [
    "#Also add check boxes to suppress inlap and outlap?\n",
    "inlaps = widgets.Checkbox( value=True, description='Inlap',\n",
    "                           disabled=False )\n",
    "\n",
    "outlaps = widgets.Checkbox( value=True, description='Outlap',\n",
    "                           disabled=False )\n",
    "\n",
    "\n",
    "#Plot laptimes by stint for a specified driver\n",
    "def laptime_charts(car, driver, driversession, inlap, outlap):\n",
    "    tmp_df = laptimes\n",
    "    \n",
    "    if not inlap:\n",
    "        tmp_df = tmp_df[~tmp_df['INLAP']]\n",
    "    if not outlap:\n",
    "        tmp_df = tmp_df[~tmp_df['OUTLAP']]\n",
    "        \n",
    "    tmp_df = tmp_df[(tmp_df['CAR_DRIVER']==driver) &\n",
    "                     (tmp_df['DRIVER_SESSION']==driversession) ].pivot(index='LAPS_DRIVER_STINT',\n",
    "                                                                       columns='DRIVER_SESSION_STINT', \n",
    "                                                                       values='LAP_TIME_S').reset_index(drop=True)\n",
    "    \n",
    "    if not tmp_df.empty:\n",
    "        tmp_df.plot()\n",
    "\n",
    "\n",
    "\n",
    "interact(laptime_charts, car=cars, driver=drivers, driversession=driversessions, inlap=inlaps, outlap=outlaps);\n",
    "\n"
   ]
  },
  {
   "cell_type": "markdown",
   "metadata": {},
   "source": [
    "## Simple Model\n",
    "\n",
    "An example of creating a simple model using some explicitly pulled out data."
   ]
  },
  {
   "cell_type": "code",
   "execution_count": 88,
   "metadata": {},
   "outputs": [
    {
     "data": {
      "text/plain": [
       "1966    161.049\n",
       "1967    157.612\n",
       "1968    155.005\n",
       "1969    153.755\n",
       "1970    153.441\n",
       "1971    153.001\n",
       "1972    154.286\n",
       "1973    153.666\n",
       "1974    153.946\n",
       "1975    153.746\n",
       "1976    153.142\n",
       "1977    153.546\n",
       "1978    153.825\n",
       "1979    154.792\n",
       "1980    152.768\n",
       "1981    153.556\n",
       "1982    157.151\n",
       "1983    159.646\n",
       "1984    157.560\n",
       "1985    172.857\n",
       "1986    215.284\n",
       "1987    300.466\n",
       "1988    231.624\n",
       "Name: LAP_TIME_S, dtype: float64"
      ]
     },
     "execution_count": 88,
     "metadata": {},
     "output_type": "execute_result"
    }
   ],
   "source": [
    "def sample_laptimes(df, driver,driversession,driversessionstint=None, inlap=False, outlap=False):\n",
    "    df = df[(df['CAR_DRIVER']==driver) & (df['DRIVER_SESSION']== driversession)]\n",
    "    if not inlap:\n",
    "        df = df[~df['INLAP']]\n",
    "    if not outlap:\n",
    "        df = df[~df['OUTLAP']]\n",
    "        \n",
    "    if driversessionstint:\n",
    "        return df[df['DRIVER_SESSION_STINT']==driversessionstint]['LAP_TIME_S']\n",
    "    \n",
    "    return df.pivot(index='LAPS_DRIVER_STINT',\n",
    "                    columns='DRIVER_SESSION_STINT',\n",
    "                    values='LAP_TIME_S').reset_index(drop=True)\n",
    "\n",
    "sample_laptimes(laptimes,'56_1', 1, 2)"
   ]
  },
  {
   "cell_type": "markdown",
   "metadata": {},
   "source": [
    "### Some Simple Linear Models\n",
    "\n",
    "Fitted without explanation... we should only accept models that appear to fit, i.e. that have a low error..."
   ]
  },
  {
   "cell_type": "code",
   "execution_count": 89,
   "metadata": {},
   "outputs": [
    {
     "name": "stderr",
     "output_type": "stream",
     "text": [
      "/usr/local/lib/python3.7/site-packages/scipy/stats/stats.py:1713: FutureWarning: Using a non-tuple sequence for multidimensional indexing is deprecated; use `arr[tuple(seq)]` instead of `arr[seq]`. In the future this will be interpreted as an array index, `arr[np.array(seq)]`, which will result either in an error or a different result.\n",
      "  return np.add.reduce(sorted[indexer] * weights, axis=axis) / sumval\n"
     ]
    },
    {
     "data": {
      "image/png": "[encoded data removed]",
      "text/plain": [
       "<Figure size 360x360 with 1 Axes>"
      ]
     },
     "metadata": {
      "needs_background": "light"
     },
     "output_type": "display_data"
    }
   ],
   "source": [
    "import seaborn as sns\n",
    "\n",
    "sns.lmplot(x='index', y='LAP_TIME_S', data=sample_laptimes(laptimes,'56_1', 1, 2).reset_index());\n"
   ]
  },
  {
   "cell_type": "markdown",
   "metadata": {},
   "source": [
    "We can also increase the order of the fit line (the `ci` parameter toggles the confidence bounds display):"
   ]
  },
  {
   "cell_type": "code",
   "execution_count": 90,
   "metadata": {},
   "outputs": [
    {
     "data": {
      "image/png": "[encoded data removed]",
      "text/plain": [
       "<Figure size 360x360 with 1 Axes>"
      ]
     },
     "metadata": {
      "needs_background": "light"
     },
     "output_type": "display_data"
    }
   ],
   "source": [
    "sns.lmplot(x='index', y='LAP_TIME_S', data=sample_laptimes(laptimes,'56_1', 1, 2).reset_index(),\n",
    "           order = 2, ci=None);\n"
   ]
  },
  {
   "cell_type": "code",
   "execution_count": 91,
   "metadata": {},
   "outputs": [
    {
     "name": "stdout",
     "output_type": "stream",
     "text": [
      "                            OLS Regression Results                            \n",
      "==============================================================================\n",
      "Dep. Variable:             LAP_TIME_S   R-squared:                       0.324\n",
      "Model:                            OLS   Adj. R-squared:                  0.291\n",
      "Method:                 Least Squares   F-statistic:                     10.05\n",
      "Date:                Sat, 10 Aug 2019   Prob (F-statistic):            0.00462\n",
      "Time:                        14:07:23   Log-Likelihood:                -109.49\n",
      "No. Observations:                  23   AIC:                             223.0\n",
      "Df Residuals:                      21   BIC:                             225.2\n",
      "Df Model:                           1                                         \n",
      "Covariance Type:            nonrobust                                         \n",
      "==============================================================================\n",
      "                 coef    std err          t      P>|t|      [0.025      0.975]\n",
      "------------------------------------------------------------------------------\n",
      "const        135.6617     11.942     11.360      0.000     110.827     160.497\n",
      "x1             2.9467      0.930      3.169      0.005       1.013       4.880\n",
      "==============================================================================\n",
      "Omnibus:                       24.104   Durbin-Watson:                   0.754\n",
      "Prob(Omnibus):                  0.000   Jarque-Bera (JB):               38.952\n",
      "Skew:                           1.993   Prob(JB):                     3.48e-09\n",
      "Kurtosis:                       7.976   Cond. No.                         25.0\n",
      "==============================================================================\n",
      "\n",
      "Warnings:\n",
      "[1] Standard Errors assume that the covariance matrix of the errors is correctly specified.\n"
     ]
    }
   ],
   "source": [
    "#Simple model\n",
    "import statsmodels.api as sm\n",
    "\n",
    "\n",
    "Y = sample_laptimes(laptimes,'56_1', 1, 2).reset_index(drop=True)\n",
    "X = Y.index.values\n",
    "X = sm.add_constant(X)\n",
    "\n",
    "model = sm.OLS(Y, X).fit()\n",
    "predictions = model.predict(X) \n",
    "\n",
    "print_model = model.summary()\n",
    "print(print_model)"
   ]
  },
  {
   "cell_type": "code",
   "execution_count": 92,
   "metadata": {},
   "outputs": [
    {
     "data": {
      "image/png": "[encoded data removed]",
      "text/plain": [
       "<Figure size 432x288 with 1 Axes>"
      ]
     },
     "metadata": {
      "needs_background": "light"
     },
     "output_type": "display_data"
    }
   ],
   "source": [
    "p = model.params\n",
    "\n",
    "ax = pd.DataFrame(Y).reset_index().plot(kind='scatter', x='index', y='LAP_TIME_S')\n",
    "ax.plot(X, p.const + p.x1 * X);"
   ]
  },
  {
   "cell_type": "code",
   "execution_count": 93,
   "metadata": {},
   "outputs": [
    {
     "data": {
      "image/png": "[encoded data removed]",
      "text/plain": [
       "<Figure size 432x288 with 1 Axes>"
      ]
     },
     "metadata": {
      "needs_background": "light"
     },
     "output_type": "display_data"
    }
   ],
   "source": [
    "import matplotlib.pyplot as plt\n",
    "\n",
    "# scatter-plot data\n",
    "fig, ax = plt.subplots()\n",
    "fig = sm.graphics.plot_fit(model, 0, ax=ax)"
   ]
  },
  {
   "cell_type": "markdown",
   "metadata": {},
   "source": [
    "## Simple Position Calculations\n",
    "\n",
    "Some simple demonstrations of calculating position data.\n",
    "\n",
    "Naively, calculate position based on lap number and accumulated time (there may be complications based on whether the lead car records a laptime from pit entry...)."
   ]
  },
  {
   "cell_type": "code",
   "execution_count": 94,
   "metadata": {},
   "outputs": [
    {
     "data": {
      "text/html": [
       "<div>\n",
       "<style scoped>\n",
       "    .dataframe tbody tr th:only-of-type {\n",
       "        vertical-align: middle;\n",
       "    }\n",
       "\n",
       "    .dataframe tbody tr th {\n",
       "        vertical-align: top;\n",
       "    }\n",
       "\n",
       "    .dataframe thead th {\n",
       "        text-align: right;\n",
       "    }\n",
       "</style>\n",
       "<table border=\"1\" class=\"dataframe\">\n",
       "  <thead>\n",
       "    <tr style=\"text-align: right;\">\n",
       "      <th></th>\n",
       "      <th>ELAPSED</th>\n",
       "      <th>ELAPSED_S</th>\n",
       "      <th>CHECK_ELAPSED_S</th>\n",
       "    </tr>\n",
       "  </thead>\n",
       "  <tbody>\n",
       "    <tr>\n",
       "      <th>4227</th>\n",
       "      <td>5:30:09.132</td>\n",
       "      <td>19809.132</td>\n",
       "      <td>19809.132</td>\n",
       "    </tr>\n",
       "    <tr>\n",
       "      <th>4228</th>\n",
       "      <td>5:34:28.852</td>\n",
       "      <td>20068.852</td>\n",
       "      <td>20068.852</td>\n",
       "    </tr>\n",
       "    <tr>\n",
       "      <th>4229</th>\n",
       "      <td>5:38:03.099</td>\n",
       "      <td>20283.099</td>\n",
       "      <td>20283.099</td>\n",
       "    </tr>\n",
       "    <tr>\n",
       "      <th>4230</th>\n",
       "      <td>5:41:23.769</td>\n",
       "      <td>20483.769</td>\n",
       "      <td>20483.769</td>\n",
       "    </tr>\n",
       "    <tr>\n",
       "      <th>4231</th>\n",
       "      <td>5:44:49.972</td>\n",
       "      <td>20689.972</td>\n",
       "      <td>20689.972</td>\n",
       "    </tr>\n",
       "  </tbody>\n",
       "</table>\n",
       "</div>"
      ],
      "text/plain": [
       "          ELAPSED  ELAPSED_S  CHECK_ELAPSED_S\n",
       "4227  5:30:09.132  19809.132        19809.132\n",
       "4228  5:34:28.852  20068.852        20068.852\n",
       "4229  5:38:03.099  20283.099        20283.099\n",
       "4230  5:41:23.769  20483.769        20483.769\n",
       "4231  5:44:49.972  20689.972        20689.972"
      ]
     },
     "execution_count": 94,
     "metadata": {},
     "output_type": "execute_result"
    }
   ],
   "source": [
    "#Find accumulated time in seconds\n",
    "laptimes['ELAPSED_S']=laptimes['ELAPSED'].apply(getTime)\n",
    "\n",
    "\n",
    "#Check\n",
    "laptimes['CHECK_ELAPSED_S'] = laptimes.groupby('NUMBER')['LAP_TIME_S'].cumsum()\n",
    "\n",
    "laptimes[['ELAPSED','ELAPSED_S','CHECK_ELAPSED_S']].tail()"
   ]
  },
  {
   "cell_type": "markdown",
   "metadata": {},
   "source": [
    "We can use the position to identify the leader on each lap and from that a count of leadlap number for each car:"
   ]
  },
  {
   "cell_type": "code",
   "execution_count": 95,
   "metadata": {},
   "outputs": [
    {
     "data": {
      "text/html": [
       "<div>\n",
       "<style scoped>\n",
       "    .dataframe tbody tr th:only-of-type {\n",
       "        vertical-align: middle;\n",
       "    }\n",
       "\n",
       "    .dataframe tbody tr th {\n",
       "        vertical-align: top;\n",
       "    }\n",
       "\n",
       "    .dataframe thead th {\n",
       "        text-align: right;\n",
       "    }\n",
       "</style>\n",
       "<table border=\"1\" class=\"dataframe\">\n",
       "  <thead>\n",
       "    <tr style=\"text-align: right;\">\n",
       "      <th></th>\n",
       "      <th>LAP_NUMBER</th>\n",
       "      <th>LEAD_LAP_NUMBER</th>\n",
       "    </tr>\n",
       "  </thead>\n",
       "  <tbody>\n",
       "    <tr>\n",
       "      <th>2629</th>\n",
       "      <td>120</td>\n",
       "      <td>133</td>\n",
       "    </tr>\n",
       "    <tr>\n",
       "      <th>1293</th>\n",
       "      <td>127</td>\n",
       "      <td>133</td>\n",
       "    </tr>\n",
       "    <tr>\n",
       "      <th>1517</th>\n",
       "      <td>95</td>\n",
       "      <td>133</td>\n",
       "    </tr>\n",
       "    <tr>\n",
       "      <th>3377</th>\n",
       "      <td>121</td>\n",
       "      <td>133</td>\n",
       "    </tr>\n",
       "    <tr>\n",
       "      <th>1643</th>\n",
       "      <td>126</td>\n",
       "      <td>133</td>\n",
       "    </tr>\n",
       "  </tbody>\n",
       "</table>\n",
       "</div>"
      ],
      "text/plain": [
       "      LAP_NUMBER  LEAD_LAP_NUMBER\n",
       "2629         120              133\n",
       "1293         127              133\n",
       "1517          95              133\n",
       "3377         121              133\n",
       "1643         126              133"
      ]
     },
     "execution_count": 95,
     "metadata": {},
     "output_type": "execute_result"
    }
   ],
   "source": [
    "#Find position based on accumulated laptime\n",
    "laptimes = laptimes.sort_values('ELAPSED_S')\n",
    "laptimes['POS'] = laptimes.groupby('LAP_NUMBER')['ELAPSED_S'].rank()\n",
    "\n",
    "#Find leader naively\n",
    "laptimes['leader'] = laptimes['POS']==1\n",
    "\n",
    "#Find lead lap number\n",
    "laptimes['LEAD_LAP_NUMBER'] = laptimes['leader'].cumsum()\n",
    "\n",
    "laptimes[['LAP_NUMBER','LEAD_LAP_NUMBER']].tail()"
   ]
  },
  {
   "cell_type": "markdown",
   "metadata": {},
   "source": [
    "## Simple Position Chart - Top 10 At End\n",
    "\n",
    "Find last lap number, then get top 10 on that lap."
   ]
  },
  {
   "cell_type": "code",
   "execution_count": 96,
   "metadata": {},
   "outputs": [
    {
     "data": {
      "text/plain": [
       "133"
      ]
     },
     "execution_count": 96,
     "metadata": {},
     "output_type": "execute_result"
    }
   ],
   "source": [
    "LAST_LAP = laptimes['LEAD_LAP_NUMBER'].max()\n",
    "LAST_LAP"
   ]
  },
  {
   "cell_type": "code",
   "execution_count": 97,
   "metadata": {},
   "outputs": [
    {
     "data": {
      "text/html": [
       "<div>\n",
       "<style scoped>\n",
       "    .dataframe tbody tr th:only-of-type {\n",
       "        vertical-align: middle;\n",
       "    }\n",
       "\n",
       "    .dataframe tbody tr th {\n",
       "        vertical-align: top;\n",
       "    }\n",
       "\n",
       "    .dataframe thead th {\n",
       "        text-align: right;\n",
       "    }\n",
       "</style>\n",
       "<table border=\"1\" class=\"dataframe\">\n",
       "  <thead>\n",
       "    <tr style=\"text-align: right;\">\n",
       "      <th></th>\n",
       "      <th>NUMBER</th>\n",
       "      <th>TEAM</th>\n",
       "      <th>DRIVER_NAME</th>\n",
       "      <th>CLASS</th>\n",
       "      <th>LAP_NUMBER</th>\n",
       "      <th>ELAPSED</th>\n",
       "    </tr>\n",
       "  </thead>\n",
       "  <tbody>\n",
       "    <tr>\n",
       "      <th>1</th>\n",
       "      <td>8</td>\n",
       "      <td>Toyota Gazoo Racing</td>\n",
       "      <td>Fernando ALONSO</td>\n",
       "      <td>LMP1</td>\n",
       "      <td>133</td>\n",
       "      <td>5:44:41.101</td>\n",
       "    </tr>\n",
       "    <tr>\n",
       "      <th>2</th>\n",
       "      <td>3</td>\n",
       "      <td>Rebellion Racing</td>\n",
       "      <td>Thomas LAURENT</td>\n",
       "      <td>LMP1</td>\n",
       "      <td>132</td>\n",
       "      <td>5:44:58.794</td>\n",
       "    </tr>\n",
       "    <tr>\n",
       "      <th>3</th>\n",
       "      <td>11</td>\n",
       "      <td>SMP Racing</td>\n",
       "      <td>Mikhail ALESHIN</td>\n",
       "      <td>LMP1</td>\n",
       "      <td>132</td>\n",
       "      <td>5:45:05.350</td>\n",
       "    </tr>\n",
       "    <tr>\n",
       "      <th>4</th>\n",
       "      <td>17</td>\n",
       "      <td>SMP Racing</td>\n",
       "      <td>Sergey SIROTKIN</td>\n",
       "      <td>LMP1</td>\n",
       "      <td>131</td>\n",
       "      <td>5:45:01.895</td>\n",
       "    </tr>\n",
       "    <tr>\n",
       "      <th>5</th>\n",
       "      <td>1</td>\n",
       "      <td>Rebellion Racing</td>\n",
       "      <td>Bruno SENNA</td>\n",
       "      <td>LMP1</td>\n",
       "      <td>130</td>\n",
       "      <td>5:44:44.193</td>\n",
       "    </tr>\n",
       "    <tr>\n",
       "      <th>6</th>\n",
       "      <td>7</td>\n",
       "      <td>Toyota Gazoo Racing</td>\n",
       "      <td>Kamui KOBAYASHI</td>\n",
       "      <td>LMP1</td>\n",
       "      <td>129</td>\n",
       "      <td>5:44:45.682</td>\n",
       "    </tr>\n",
       "    <tr>\n",
       "      <th>7</th>\n",
       "      <td>31</td>\n",
       "      <td>DragonSpeed</td>\n",
       "      <td>Pastor MALDONADO</td>\n",
       "      <td>LMP2</td>\n",
       "      <td>129</td>\n",
       "      <td>5:44:55.919</td>\n",
       "    </tr>\n",
       "    <tr>\n",
       "      <th>8</th>\n",
       "      <td>26</td>\n",
       "      <td>G-Drive Racing</td>\n",
       "      <td>Jean-Eric VERGNE</td>\n",
       "      <td>LMP2</td>\n",
       "      <td>129</td>\n",
       "      <td>5:44:59.874</td>\n",
       "    </tr>\n",
       "    <tr>\n",
       "      <th>9</th>\n",
       "      <td>36</td>\n",
       "      <td>Signatech Alpine Matmut</td>\n",
       "      <td>Nicolas LAPIERRE</td>\n",
       "      <td>LMP2</td>\n",
       "      <td>129</td>\n",
       "      <td>5:45:00.351</td>\n",
       "    </tr>\n",
       "    <tr>\n",
       "      <th>10</th>\n",
       "      <td>38</td>\n",
       "      <td>Jackie Chan DC Racing</td>\n",
       "      <td>Gabriel AUBRY</td>\n",
       "      <td>LMP2</td>\n",
       "      <td>129</td>\n",
       "      <td>5:45:04.546</td>\n",
       "    </tr>\n",
       "  </tbody>\n",
       "</table>\n",
       "</div>"
      ],
      "text/plain": [
       "   NUMBER                     TEAM       DRIVER_NAME CLASS  LAP_NUMBER  \\\n",
       "1       8      Toyota Gazoo Racing   Fernando ALONSO  LMP1         133   \n",
       "2       3         Rebellion Racing    Thomas LAURENT  LMP1         132   \n",
       "3      11               SMP Racing   Mikhail ALESHIN  LMP1         132   \n",
       "4      17               SMP Racing   Sergey SIROTKIN  LMP1         131   \n",
       "5       1         Rebellion Racing       Bruno SENNA  LMP1         130   \n",
       "6       7      Toyota Gazoo Racing   Kamui KOBAYASHI  LMP1         129   \n",
       "7      31              DragonSpeed  Pastor MALDONADO  LMP2         129   \n",
       "8      26           G-Drive Racing  Jean-Eric VERGNE  LMP2         129   \n",
       "9      36  Signatech Alpine Matmut  Nicolas LAPIERRE  LMP2         129   \n",
       "10     38    Jackie Chan DC Racing     Gabriel AUBRY  LMP2         129   \n",
       "\n",
       "        ELAPSED  \n",
       "1   5:44:41.101  \n",
       "2   5:44:58.794  \n",
       "3   5:45:05.350  \n",
       "4   5:45:01.895  \n",
       "5   5:44:44.193  \n",
       "6   5:44:45.682  \n",
       "7   5:44:55.919  \n",
       "8   5:44:59.874  \n",
       "9   5:45:00.351  \n",
       "10  5:45:04.546  "
      ]
     },
     "execution_count": 97,
     "metadata": {},
     "output_type": "execute_result"
    }
   ],
   "source": [
    "#Find top 10 at end\n",
    "cols = ['NUMBER','TEAM', 'DRIVER_NAME', 'CLASS','LAP_NUMBER','ELAPSED']\n",
    "top10 = laptimes[laptimes['LEAD_LAP_NUMBER']==LAST_LAP].sort_values(['LEAD_LAP_NUMBER', 'POS'])[cols].head(10).reset_index(drop=True)\n",
    "top10.index += 1\n",
    "top10"
   ]
  },
  {
   "cell_type": "code",
   "execution_count": null,
   "metadata": {},
   "outputs": [],
   "source": []
  }
 ],
 "metadata": {
  "jupytext": {
   "text_representation": {
    "extension": ".md",
    "format_name": "markdown",
    "format_version": "1.1",
    "jupytext_version": "1.1.7"
   }
  },
  "kernelspec": {
   "display_name": "Python 3",
   "language": "python",
   "name": "python3"
  }
 },
 "nbformat": 4,
 "nbformat_minor": 2
}
