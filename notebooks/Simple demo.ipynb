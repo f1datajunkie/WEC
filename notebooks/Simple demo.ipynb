{
 "cells": [
  {
   "cell_type": "markdown",
   "metadata": {},
   "source": [
    "# Simple Demo\n",
    "\n",
    "Timing info available as PDF, eg [here](https://assets.lemans.org/explorer/pdf/courses/2019/24-heures-du-mans/classification/race/24-heures-du-mans-2019-classification-after-24h.pdf).\n",
    "\n",
    "CSV data from Al Kamel using links of form:\n",
    "\n",
    "`http://fiawec.alkamelsystems.com/Results/08_2018-2019/07_SPA%20FRANCORCHAMPS/267_FIA%20WEC/201905041330_Race/Hour%206/23_Analysis_Race_Hour%206.CSV`\n",
    "\n",
    "\n",
    "*Links don't seem to appear on e.g. [classification data](http://fiawec.alkamelsystems.com/)? So where else might they be found?*"
   ]
  },
  {
   "cell_type": "code",
   "execution_count": 1,
   "metadata": {},
   "outputs": [],
   "source": [
    "%matplotlib inline\n",
    "import pandas as pd"
   ]
  },
  {
   "cell_type": "code",
   "execution_count": 2,
   "metadata": {},
   "outputs": [],
   "source": [
    "#Add the parent dir to the import path\n",
    "import sys\n",
    "sys.path.append(\"..\")\n",
    "\n",
    "#Import contents of the utils.py package in the parent directory\n",
    "from utils import *"
   ]
  },
  {
   "cell_type": "code",
   "execution_count": 3,
   "metadata": {},
   "outputs": [],
   "source": [
    "url = 'http://fiawec.alkamelsystems.com/Results/08_2018-2019/07_SPA%20FRANCORCHAMPS/267_FIA%20WEC/201905041330_Race/Hour%206/23_Analysis_Race_Hour%206.CSV'"
   ]
  },
  {
   "cell_type": "code",
   "execution_count": 4,
   "metadata": {},
   "outputs": [
    {
     "data": {
      "text/html": [
       "<div>\n",
       "<style scoped>\n",
       "    .dataframe tbody tr th:only-of-type {\n",
       "        vertical-align: middle;\n",
       "    }\n",
       "\n",
       "    .dataframe tbody tr th {\n",
       "        vertical-align: top;\n",
       "    }\n",
       "\n",
       "    .dataframe thead th {\n",
       "        text-align: right;\n",
       "    }\n",
       "</style>\n",
       "<table border=\"1\" class=\"dataframe\">\n",
       "  <thead>\n",
       "    <tr style=\"text-align: right;\">\n",
       "      <th></th>\n",
       "      <th>NUMBER</th>\n",
       "      <th>DRIVER_NUMBER</th>\n",
       "      <th>LAP_NUMBER</th>\n",
       "      <th>LAP_TIME</th>\n",
       "      <th>LAP_IMPROVEMENT</th>\n",
       "      <th>CROSSING_FINISH_LINE_IN_PIT</th>\n",
       "      <th>S1</th>\n",
       "      <th>S1_IMPROVEMENT</th>\n",
       "      <th>S2</th>\n",
       "      <th>S2_IMPROVEMENT</th>\n",
       "      <th>...</th>\n",
       "      <th>S1_LARGE</th>\n",
       "      <th>S2_LARGE</th>\n",
       "      <th>S3_LARGE</th>\n",
       "      <th>TOP_SPEED</th>\n",
       "      <th>DRIVER_NAME</th>\n",
       "      <th>PIT_TIME</th>\n",
       "      <th>CLASS</th>\n",
       "      <th>GROUP</th>\n",
       "      <th>TEAM</th>\n",
       "      <th>MANUFACTURER</th>\n",
       "    </tr>\n",
       "  </thead>\n",
       "  <tbody>\n",
       "    <tr>\n",
       "      <th>0</th>\n",
       "      <td>1</td>\n",
       "      <td>1</td>\n",
       "      <td>1</td>\n",
       "      <td>2:06.349</td>\n",
       "      <td>0</td>\n",
       "      <td>NaN</td>\n",
       "      <td>37.900</td>\n",
       "      <td>0</td>\n",
       "      <td>57.533</td>\n",
       "      <td>0</td>\n",
       "      <td>...</td>\n",
       "      <td>0:37.900</td>\n",
       "      <td>0:57.533</td>\n",
       "      <td>0:30.916</td>\n",
       "      <td>289.0</td>\n",
       "      <td>Neel JANI</td>\n",
       "      <td>NaN</td>\n",
       "      <td>LMP1</td>\n",
       "      <td>NaN</td>\n",
       "      <td>Rebellion Racing</td>\n",
       "      <td>Rebellion</td>\n",
       "    </tr>\n",
       "    <tr>\n",
       "      <th>1</th>\n",
       "      <td>1</td>\n",
       "      <td>1</td>\n",
       "      <td>2</td>\n",
       "      <td>2:00.417</td>\n",
       "      <td>0</td>\n",
       "      <td>NaN</td>\n",
       "      <td>34.830</td>\n",
       "      <td>0</td>\n",
       "      <td>54.824</td>\n",
       "      <td>0</td>\n",
       "      <td>...</td>\n",
       "      <td>0:34.830</td>\n",
       "      <td>0:54.824</td>\n",
       "      <td>0:30.763</td>\n",
       "      <td>302.7</td>\n",
       "      <td>Neel JANI</td>\n",
       "      <td>NaN</td>\n",
       "      <td>LMP1</td>\n",
       "      <td>NaN</td>\n",
       "      <td>Rebellion Racing</td>\n",
       "      <td>Rebellion</td>\n",
       "    </tr>\n",
       "    <tr>\n",
       "      <th>2</th>\n",
       "      <td>1</td>\n",
       "      <td>1</td>\n",
       "      <td>3</td>\n",
       "      <td>2:17.278</td>\n",
       "      <td>0</td>\n",
       "      <td>B</td>\n",
       "      <td>40.012</td>\n",
       "      <td>0</td>\n",
       "      <td>55.696</td>\n",
       "      <td>0</td>\n",
       "      <td>...</td>\n",
       "      <td>0:40.012</td>\n",
       "      <td>0:55.696</td>\n",
       "      <td>0:41.570</td>\n",
       "      <td>289.0</td>\n",
       "      <td>Neel JANI</td>\n",
       "      <td>NaN</td>\n",
       "      <td>LMP1</td>\n",
       "      <td>NaN</td>\n",
       "      <td>Rebellion Racing</td>\n",
       "      <td>Rebellion</td>\n",
       "    </tr>\n",
       "    <tr>\n",
       "      <th>3</th>\n",
       "      <td>1</td>\n",
       "      <td>1</td>\n",
       "      <td>4</td>\n",
       "      <td>3:10.094</td>\n",
       "      <td>0</td>\n",
       "      <td>NaN</td>\n",
       "      <td>1:26.938</td>\n",
       "      <td>0</td>\n",
       "      <td>1:07.045</td>\n",
       "      <td>0</td>\n",
       "      <td>...</td>\n",
       "      <td>1:26.938</td>\n",
       "      <td>1:07.045</td>\n",
       "      <td>0:36.111</td>\n",
       "      <td>262.4</td>\n",
       "      <td>Neel JANI</td>\n",
       "      <td>0:00:58.509</td>\n",
       "      <td>LMP1</td>\n",
       "      <td>NaN</td>\n",
       "      <td>Rebellion Racing</td>\n",
       "      <td>Rebellion</td>\n",
       "    </tr>\n",
       "    <tr>\n",
       "      <th>4</th>\n",
       "      <td>1</td>\n",
       "      <td>1</td>\n",
       "      <td>5</td>\n",
       "      <td>2:29.763</td>\n",
       "      <td>0</td>\n",
       "      <td>NaN</td>\n",
       "      <td>41.205</td>\n",
       "      <td>0</td>\n",
       "      <td>1:11.517</td>\n",
       "      <td>0</td>\n",
       "      <td>...</td>\n",
       "      <td>0:41.205</td>\n",
       "      <td>1:11.517</td>\n",
       "      <td>0:37.041</td>\n",
       "      <td>259.2</td>\n",
       "      <td>Neel JANI</td>\n",
       "      <td>NaN</td>\n",
       "      <td>LMP1</td>\n",
       "      <td>NaN</td>\n",
       "      <td>Rebellion Racing</td>\n",
       "      <td>Rebellion</td>\n",
       "    </tr>\n",
       "  </tbody>\n",
       "</table>\n",
       "<p>5 rows × 25 columns</p>\n",
       "</div>"
      ],
      "text/plain": [
       "   NUMBER  DRIVER_NUMBER  LAP_NUMBER  LAP_TIME  LAP_IMPROVEMENT  \\\n",
       "0       1              1           1  2:06.349                0   \n",
       "1       1              1           2  2:00.417                0   \n",
       "2       1              1           3  2:17.278                0   \n",
       "3       1              1           4  3:10.094                0   \n",
       "4       1              1           5  2:29.763                0   \n",
       "\n",
       "  CROSSING_FINISH_LINE_IN_PIT        S1  S1_IMPROVEMENT        S2  \\\n",
       "0                         NaN    37.900               0    57.533   \n",
       "1                         NaN    34.830               0    54.824   \n",
       "2                           B    40.012               0    55.696   \n",
       "3                         NaN  1:26.938               0  1:07.045   \n",
       "4                         NaN    41.205               0  1:11.517   \n",
       "\n",
       "   S2_IMPROVEMENT  ...  S1_LARGE  S2_LARGE  S3_LARGE TOP_SPEED DRIVER_NAME  \\\n",
       "0               0  ...  0:37.900  0:57.533  0:30.916     289.0   Neel JANI   \n",
       "1               0  ...  0:34.830  0:54.824  0:30.763     302.7   Neel JANI   \n",
       "2               0  ...  0:40.012  0:55.696  0:41.570     289.0   Neel JANI   \n",
       "3               0  ...  1:26.938  1:07.045  0:36.111     262.4   Neel JANI   \n",
       "4               0  ...  0:41.205  1:11.517  0:37.041     259.2   Neel JANI   \n",
       "\n",
       "      PIT_TIME CLASS GROUP              TEAM MANUFACTURER  \n",
       "0          NaN  LMP1   NaN  Rebellion Racing    Rebellion  \n",
       "1          NaN  LMP1   NaN  Rebellion Racing    Rebellion  \n",
       "2          NaN  LMP1   NaN  Rebellion Racing    Rebellion  \n",
       "3  0:00:58.509  LMP1   NaN  Rebellion Racing    Rebellion  \n",
       "4          NaN  LMP1   NaN  Rebellion Racing    Rebellion  \n",
       "\n",
       "[5 rows x 25 columns]"
      ]
     },
     "execution_count": 4,
     "metadata": {},
     "output_type": "execute_result"
    }
   ],
   "source": [
    "laptimes = pd.read_csv(url, sep=';').dropna(how='all', axis=1)\n",
    "laptimes.columns = [c.strip() for c in laptimes.columns]\n",
    "laptimes.head()"
   ]
  },
  {
   "cell_type": "code",
   "execution_count": 5,
   "metadata": {},
   "outputs": [
    {
     "data": {
      "text/plain": [
       "Index(['NUMBER', 'DRIVER_NUMBER', 'LAP_NUMBER', 'LAP_TIME', 'LAP_IMPROVEMENT',\n",
       "       'CROSSING_FINISH_LINE_IN_PIT', 'S1', 'S1_IMPROVEMENT', 'S2',\n",
       "       'S2_IMPROVEMENT', 'S3', 'S3_IMPROVEMENT', 'KPH', 'ELAPSED', 'HOUR',\n",
       "       'S1_LARGE', 'S2_LARGE', 'S3_LARGE', 'TOP_SPEED', 'DRIVER_NAME',\n",
       "       'PIT_TIME', 'CLASS', 'GROUP', 'TEAM', 'MANUFACTURER'],\n",
       "      dtype='object')"
      ]
     },
     "execution_count": 5,
     "metadata": {},
     "output_type": "execute_result"
    }
   ],
   "source": [
    "laptimes.columns"
   ]
  },
  {
   "cell_type": "code",
   "execution_count": 6,
   "metadata": {},
   "outputs": [
    {
     "data": {
      "text/html": [
       "<div>\n",
       "<style scoped>\n",
       "    .dataframe tbody tr th:only-of-type {\n",
       "        vertical-align: middle;\n",
       "    }\n",
       "\n",
       "    .dataframe tbody tr th {\n",
       "        vertical-align: top;\n",
       "    }\n",
       "\n",
       "    .dataframe thead th {\n",
       "        text-align: right;\n",
       "    }\n",
       "</style>\n",
       "<table border=\"1\" class=\"dataframe\">\n",
       "  <thead>\n",
       "    <tr style=\"text-align: right;\">\n",
       "      <th></th>\n",
       "      <th>LAP_TIME</th>\n",
       "      <th>LAP_TIME_S</th>\n",
       "    </tr>\n",
       "  </thead>\n",
       "  <tbody>\n",
       "    <tr>\n",
       "      <th>0</th>\n",
       "      <td>2:06.349</td>\n",
       "      <td>126.349</td>\n",
       "    </tr>\n",
       "    <tr>\n",
       "      <th>1</th>\n",
       "      <td>2:00.417</td>\n",
       "      <td>120.417</td>\n",
       "    </tr>\n",
       "    <tr>\n",
       "      <th>2</th>\n",
       "      <td>2:17.278</td>\n",
       "      <td>137.278</td>\n",
       "    </tr>\n",
       "    <tr>\n",
       "      <th>3</th>\n",
       "      <td>3:10.094</td>\n",
       "      <td>190.094</td>\n",
       "    </tr>\n",
       "    <tr>\n",
       "      <th>4</th>\n",
       "      <td>2:29.763</td>\n",
       "      <td>149.763</td>\n",
       "    </tr>\n",
       "  </tbody>\n",
       "</table>\n",
       "</div>"
      ],
      "text/plain": [
       "   LAP_TIME  LAP_TIME_S\n",
       "0  2:06.349     126.349\n",
       "1  2:00.417     120.417\n",
       "2  2:17.278     137.278\n",
       "3  3:10.094     190.094\n",
       "4  2:29.763     149.763"
      ]
     },
     "execution_count": 6,
     "metadata": {},
     "output_type": "execute_result"
    }
   ],
   "source": [
    "laptimes['LAP_TIME_S'] = laptimes['LAP_TIME'].apply(getTime)\n",
    "laptimes[['LAP_TIME','LAP_TIME_S']].head()"
   ]
  },
  {
   "cell_type": "code",
   "execution_count": 7,
   "metadata": {},
   "outputs": [
    {
     "data": {
      "application/vnd.jupyter.widget-view+json": {
       "model_id": "78d152381b9043af8f3dd3b4afc28a7c",
       "version_major": 2,
       "version_minor": 0
      },
      "text/plain": [
       "interactive(children=(Dropdown(description='number', options=(1, 11, 17, 26, 28, 29, 3, 31, 36, 37, 38, 4, 50,…"
      ]
     },
     "metadata": {},
     "output_type": "display_data"
    }
   ],
   "source": [
    "from ipywidgets import interact\n",
    "\n",
    "\n",
    "@interact(number=laptimes['NUMBER'].unique().tolist(),)\n",
    "def plotLapByNumber(number):\n",
    "    laptimes[laptimes['NUMBER']==number].plot(x='LAP_NUMBER',y='LAP_TIME_S')"
   ]
  },
  {
   "cell_type": "code",
   "execution_count": 8,
   "metadata": {},
   "outputs": [
    {
     "data": {
      "application/vnd.jupyter.widget-view+json": {
       "model_id": "a4058aaa1ac941b690766b5f9f9e5f80",
       "version_major": 2,
       "version_minor": 0
      },
      "text/plain": [
       "interactive(children=(Dropdown(description='number', options=(1, 11, 17, 26, 28, 29, 3, 31, 36, 37, 38, 4, 50,…"
      ]
     },
     "metadata": {},
     "output_type": "display_data"
    }
   ],
   "source": [
    "@interact(number=laptimes['NUMBER'].unique().tolist(),)\n",
    "def plotLapByNumberDriver(number):\n",
    "    # We can pivot long to wide on driver number, then plot all cols against the lapnumber index\n",
    "    laptimes[laptimes['NUMBER']==number].pivot(index='LAP_NUMBER',columns='DRIVER_NUMBER', values='LAP_TIME_S').plot()\n"
   ]
  },
  {
   "cell_type": "code",
   "execution_count": 9,
   "metadata": {},
   "outputs": [
    {
     "data": {
      "application/vnd.jupyter.widget-view+json": {
       "model_id": "feeac0aa750546d3bd36c54e9aa2606e",
       "version_major": 2,
       "version_minor": 0
      },
      "text/plain": [
       "interactive(children=(Dropdown(description='number', options=(1, 11, 17, 26, 28, 29, 3, 31, 36, 37, 38, 4, 50,…"
      ]
     },
     "metadata": {},
     "output_type": "display_data"
    }
   ],
   "source": [
    "@interact(number=laptimes['NUMBER'].unique().tolist(),)\n",
    "def plotLapByNumberDriverWithPit(number):\n",
    "    # We can pivot long to wide on driver number, then plot all cols against the lapnumber index\n",
    "    #Grap the matplotli axes so we can overplot onto them\n",
    "    ax = laptimes[laptimes['NUMBER']==number].pivot(index='LAP_NUMBER',columns='DRIVER_NUMBER', values='LAP_TIME_S').plot()\n",
    "    #Also add in pit laps\n",
    "    laptimes[(laptimes['NUMBER']==number) & (laptimes['CROSSING_FINISH_LINE_IN_PIT']=='B')].plot.scatter(x='LAP_NUMBER',y='LAP_TIME_S', ax=ax)\n",
    "    "
   ]
  },
  {
   "cell_type": "code",
   "execution_count": null,
   "metadata": {},
   "outputs": [],
   "source": []
  }
 ],
 "metadata": {
  "kernelspec": {
   "display_name": "Python 3",
   "language": "python",
   "name": "python3"
  },
  "language_info": {
   "codemirror_mode": {
    "name": "ipython",
    "version": 3
   },
   "file_extension": ".py",
   "mimetype": "text/x-python",
   "name": "python",
   "nbconvert_exporter": "python",
   "pygments_lexer": "ipython3",
   "version": "3.7.3"
  }
 },
 "nbformat": 4,
 "nbformat_minor": 2
}
