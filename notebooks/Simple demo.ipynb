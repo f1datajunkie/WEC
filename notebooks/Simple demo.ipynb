{
 "cells": [
  {
   "cell_type": "markdown",
   "metadata": {},
   "source": [
    "# Simple Demo - Reviewing WEC Laptime Data\n",
    "\n",
    "For many forms of motorsport, timing data in the form of laptime data is often made available at the end of the race. This data can be used by fans and sports data journalists alike, as well as teams and drivers, for getting a *post hoc* insight into what actuall went on in a race.\n",
    "\n",
    "*Live laptime data is also typically provided via live timing screens, from which data feeds may be available to teams, although not, typically, to the public. (Data from timing screens can still be scraped unofficially, though...) Having access to laptime history during a race can be useful for reviewing how a race is evolving, plotting strategy, and even predicting likely future race events, such as overtaking possibilities or pit stops due to degrading laptimes.*\n",
    "\n",
    "This notebook provides a basic demonstration of how to download and analyse [FIA World Endurance Championship (WEC) data from Al Kamel Systems](http://fiawec.alkamelsystems.com), getting a feel for what the data can tell us and how we might encourage it to reveal some of the stories it undoubtedly contains.\n",
    "\n",
    "Timing info available as PDF, eg [here](https://assets.lemans.org/explorer/pdf/courses/2019/24-heures-du-mans/classification/race/24-heures-du-mans-2019-classification-after-24h.pdf).\n",
    "\n",
    "CSV data from Al Kamel using links of form:\n",
    "\n",
    "`http://fiawec.alkamelsystems.com/Results/08_2018-2019/07_SPA%20FRANCORCHAMPS/267_FIA%20WEC/201905041330_Race/Hour%206/23_Analysis_Race_Hour%206.CSV`\n",
    "\n",
    "\n",
    "*Links don't seem to appear on e.g. [classification data](http://fiawec.alkamelsystems.com/)? So where else might they be found?*"
   ]
  },
  {
   "cell_type": "markdown",
   "metadata": {},
   "source": [
    "## Setup\n",
    "\n",
    "Although Python code often \"just runs\", there are a couple of things we can do to help improve our workflow, such as configuring the notebook to work in a particular wat, loading in Pythin programming packages that we can call on, and putting resources into specific locations."
   ]
  },
  {
   "cell_type": "code",
   "execution_count": 1,
   "metadata": {},
   "outputs": [
    {
     "name": "stderr",
     "output_type": "stream",
     "text": [
      "Matplotlib is building the font cache using fc-list. This may take a moment.\n"
     ]
    }
   ],
   "source": [
    "#Enable inline plots\n",
    "%matplotlib inline\n",
    "\n",
    "# pandas is a python package for working with tabular datasets\n",
    "import pandas as pd"
   ]
  },
  {
   "cell_type": "code",
   "execution_count": 2,
   "metadata": {},
   "outputs": [],
   "source": [
    "# Add the parent dir to the import path\n",
    "# This lets us load files in from child directories of the parent directory\n",
    "# that this notebook is in.\n",
    "import sys\n",
    "sys.path.append(\"../py\")\n",
    "\n",
    "#Import contents of the utils.py package in the ../py directory\n",
    "from utils import *"
   ]
  },
  {
   "cell_type": "markdown",
   "metadata": {},
   "source": [
    "## Downloading Data\n",
    "\n",
    "If we know the URL of an online hosted data file, we can download data directly from it.\n",
    "\n",
    "Let's create a variable, `url`, that takes the value of the URL for an Al Kamel Systems timing data CSV file:"
   ]
  },
  {
   "cell_type": "code",
   "execution_count": 3,
   "metadata": {},
   "outputs": [],
   "source": [
    "#Download URL for timing data in CSV format\n",
    "url = 'http://fiawec.alkamelsystems.com/Results/08_2018-2019/07_SPA%20FRANCORCHAMPS/267_FIA%20WEC/201905041330_Race/Hour%206/23_Analysis_Race_Hour%206.CSV'\n"
   ]
  },
  {
   "cell_type": "markdown",
   "metadata": {},
   "source": [
    "Download the data into a *pandas* dataframe, dropping any empty columns (`.dropna(how='all', axis=1)`) and then previewing the first few rows (`.head()`):"
   ]
  },
  {
   "cell_type": "code",
   "execution_count": 4,
   "metadata": {},
   "outputs": [
    {
     "data": {
      "text/html": [
       "<div>\n",
       "<style scoped>\n",
       "    .dataframe tbody tr th:only-of-type {\n",
       "        vertical-align: middle;\n",
       "    }\n",
       "\n",
       "    .dataframe tbody tr th {\n",
       "        vertical-align: top;\n",
       "    }\n",
       "\n",
       "    .dataframe thead th {\n",
       "        text-align: right;\n",
       "    }\n",
       "</style>\n",
       "<table border=\"1\" class=\"dataframe\">\n",
       "  <thead>\n",
       "    <tr style=\"text-align: right;\">\n",
       "      <th></th>\n",
       "      <th>NUMBER</th>\n",
       "      <th>DRIVER_NUMBER</th>\n",
       "      <th>LAP_NUMBER</th>\n",
       "      <th>LAP_TIME</th>\n",
       "      <th>LAP_IMPROVEMENT</th>\n",
       "      <th>CROSSING_FINISH_LINE_IN_PIT</th>\n",
       "      <th>S1</th>\n",
       "      <th>S1_IMPROVEMENT</th>\n",
       "      <th>S2</th>\n",
       "      <th>S2_IMPROVEMENT</th>\n",
       "      <th>...</th>\n",
       "      <th>S1_LARGE</th>\n",
       "      <th>S2_LARGE</th>\n",
       "      <th>S3_LARGE</th>\n",
       "      <th>TOP_SPEED</th>\n",
       "      <th>DRIVER_NAME</th>\n",
       "      <th>PIT_TIME</th>\n",
       "      <th>CLASS</th>\n",
       "      <th>GROUP</th>\n",
       "      <th>TEAM</th>\n",
       "      <th>MANUFACTURER</th>\n",
       "    </tr>\n",
       "  </thead>\n",
       "  <tbody>\n",
       "    <tr>\n",
       "      <th>0</th>\n",
       "      <td>1</td>\n",
       "      <td>1</td>\n",
       "      <td>1</td>\n",
       "      <td>2:06.349</td>\n",
       "      <td>0</td>\n",
       "      <td>NaN</td>\n",
       "      <td>37.900</td>\n",
       "      <td>0</td>\n",
       "      <td>57.533</td>\n",
       "      <td>0</td>\n",
       "      <td>...</td>\n",
       "      <td>0:37.900</td>\n",
       "      <td>0:57.533</td>\n",
       "      <td>0:30.916</td>\n",
       "      <td>289.0</td>\n",
       "      <td>Neel JANI</td>\n",
       "      <td>NaN</td>\n",
       "      <td>LMP1</td>\n",
       "      <td>NaN</td>\n",
       "      <td>Rebellion Racing</td>\n",
       "      <td>Rebellion</td>\n",
       "    </tr>\n",
       "    <tr>\n",
       "      <th>1</th>\n",
       "      <td>1</td>\n",
       "      <td>1</td>\n",
       "      <td>2</td>\n",
       "      <td>2:00.417</td>\n",
       "      <td>0</td>\n",
       "      <td>NaN</td>\n",
       "      <td>34.830</td>\n",
       "      <td>0</td>\n",
       "      <td>54.824</td>\n",
       "      <td>0</td>\n",
       "      <td>...</td>\n",
       "      <td>0:34.830</td>\n",
       "      <td>0:54.824</td>\n",
       "      <td>0:30.763</td>\n",
       "      <td>302.7</td>\n",
       "      <td>Neel JANI</td>\n",
       "      <td>NaN</td>\n",
       "      <td>LMP1</td>\n",
       "      <td>NaN</td>\n",
       "      <td>Rebellion Racing</td>\n",
       "      <td>Rebellion</td>\n",
       "    </tr>\n",
       "    <tr>\n",
       "      <th>2</th>\n",
       "      <td>1</td>\n",
       "      <td>1</td>\n",
       "      <td>3</td>\n",
       "      <td>2:17.278</td>\n",
       "      <td>0</td>\n",
       "      <td>B</td>\n",
       "      <td>40.012</td>\n",
       "      <td>0</td>\n",
       "      <td>55.696</td>\n",
       "      <td>0</td>\n",
       "      <td>...</td>\n",
       "      <td>0:40.012</td>\n",
       "      <td>0:55.696</td>\n",
       "      <td>0:41.570</td>\n",
       "      <td>289.0</td>\n",
       "      <td>Neel JANI</td>\n",
       "      <td>NaN</td>\n",
       "      <td>LMP1</td>\n",
       "      <td>NaN</td>\n",
       "      <td>Rebellion Racing</td>\n",
       "      <td>Rebellion</td>\n",
       "    </tr>\n",
       "    <tr>\n",
       "      <th>3</th>\n",
       "      <td>1</td>\n",
       "      <td>1</td>\n",
       "      <td>4</td>\n",
       "      <td>3:10.094</td>\n",
       "      <td>0</td>\n",
       "      <td>NaN</td>\n",
       "      <td>1:26.938</td>\n",
       "      <td>0</td>\n",
       "      <td>1:07.045</td>\n",
       "      <td>0</td>\n",
       "      <td>...</td>\n",
       "      <td>1:26.938</td>\n",
       "      <td>1:07.045</td>\n",
       "      <td>0:36.111</td>\n",
       "      <td>262.4</td>\n",
       "      <td>Neel JANI</td>\n",
       "      <td>0:00:58.509</td>\n",
       "      <td>LMP1</td>\n",
       "      <td>NaN</td>\n",
       "      <td>Rebellion Racing</td>\n",
       "      <td>Rebellion</td>\n",
       "    </tr>\n",
       "    <tr>\n",
       "      <th>4</th>\n",
       "      <td>1</td>\n",
       "      <td>1</td>\n",
       "      <td>5</td>\n",
       "      <td>2:29.763</td>\n",
       "      <td>0</td>\n",
       "      <td>NaN</td>\n",
       "      <td>41.205</td>\n",
       "      <td>0</td>\n",
       "      <td>1:11.517</td>\n",
       "      <td>0</td>\n",
       "      <td>...</td>\n",
       "      <td>0:41.205</td>\n",
       "      <td>1:11.517</td>\n",
       "      <td>0:37.041</td>\n",
       "      <td>259.2</td>\n",
       "      <td>Neel JANI</td>\n",
       "      <td>NaN</td>\n",
       "      <td>LMP1</td>\n",
       "      <td>NaN</td>\n",
       "      <td>Rebellion Racing</td>\n",
       "      <td>Rebellion</td>\n",
       "    </tr>\n",
       "  </tbody>\n",
       "</table>\n",
       "<p>5 rows × 25 columns</p>\n",
       "</div>"
      ],
      "text/plain": [
       "   NUMBER   DRIVER_NUMBER   LAP_NUMBER  LAP_TIME   LAP_IMPROVEMENT  \\\n",
       "0       1               1            1  2:06.349                 0   \n",
       "1       1               1            2  2:00.417                 0   \n",
       "2       1               1            3  2:17.278                 0   \n",
       "3       1               1            4  3:10.094                 0   \n",
       "4       1               1            5  2:29.763                 0   \n",
       "\n",
       "   CROSSING_FINISH_LINE_IN_PIT        S1   S1_IMPROVEMENT        S2  \\\n",
       "0                          NaN    37.900                0    57.533   \n",
       "1                          NaN    34.830                0    54.824   \n",
       "2                            B    40.012                0    55.696   \n",
       "3                          NaN  1:26.938                0  1:07.045   \n",
       "4                          NaN    41.205                0  1:11.517   \n",
       "\n",
       "    S2_IMPROVEMENT  ...  S1_LARGE  S2_LARGE  S3_LARGE TOP_SPEED DRIVER_NAME  \\\n",
       "0                0  ...  0:37.900  0:57.533  0:30.916     289.0   Neel JANI   \n",
       "1                0  ...  0:34.830  0:54.824  0:30.763     302.7   Neel JANI   \n",
       "2                0  ...  0:40.012  0:55.696  0:41.570     289.0   Neel JANI   \n",
       "3                0  ...  1:26.938  1:07.045  0:36.111     262.4   Neel JANI   \n",
       "4                0  ...  0:41.205  1:11.517  0:37.041     259.2   Neel JANI   \n",
       "\n",
       "      PIT_TIME CLASS GROUP              TEAM MANUFACTURER  \n",
       "0          NaN  LMP1   NaN  Rebellion Racing    Rebellion  \n",
       "1          NaN  LMP1   NaN  Rebellion Racing    Rebellion  \n",
       "2          NaN  LMP1   NaN  Rebellion Racing    Rebellion  \n",
       "3  0:00:58.509  LMP1   NaN  Rebellion Racing    Rebellion  \n",
       "4          NaN  LMP1   NaN  Rebellion Racing    Rebellion  \n",
       "\n",
       "[5 rows x 25 columns]"
      ]
     },
     "execution_count": 4,
     "metadata": {},
     "output_type": "execute_result"
    }
   ],
   "source": [
    "# Create a pandas dataframe from data loaded in directly from a web address\n",
    "# dropping any empty columns...\n",
    "laptimes = pd.read_csv(url, sep=';').dropna(how='all', axis=1)\n",
    "# ...and then previewing the first few lines of the dataset\n",
    "laptimes.head()"
   ]
  },
  {
   "cell_type": "markdown",
   "metadata": {},
   "source": [
    "We can save the raw data to a local CSV file so we can access it locally at a future time.\n",
    "\n",
    "For convenience, we can create the filename that we save the file as from the URL by splitting the URL string on each '/' and selecting the last element:"
   ]
  },
  {
   "cell_type": "code",
   "execution_count": 5,
   "metadata": {},
   "outputs": [
    {
     "data": {
      "text/plain": [
       "'23_Analysis_Race_Hour%206.CSV'"
      ]
     },
     "execution_count": 5,
     "metadata": {},
     "output_type": "execute_result"
    }
   ],
   "source": [
    "# The .split() operator returns a list\n",
    "# The [-1] indexer selects the last item in the list\n",
    "outfile_name = url.split('/')[-1]\n",
    "outfile_name"
   ]
  },
  {
   "cell_type": "markdown",
   "metadata": {},
   "source": [
    "If we want to replace the `%20` encoded value for a *space* character with an *actual* space, we can \"unquote\" it:"
   ]
  },
  {
   "cell_type": "code",
   "execution_count": 6,
   "metadata": {},
   "outputs": [
    {
     "data": {
      "text/plain": [
       "'23_Analysis_Race_Hour 6.CSV'"
      ]
     },
     "execution_count": 6,
     "metadata": {},
     "output_type": "execute_result"
    }
   ],
   "source": [
    "from urllib.parse import unquote\n",
    "\n",
    "outfile_name = unquote(outfile_name)\n",
    "outfile_name"
   ]
  },
  {
   "cell_type": "markdown",
   "metadata": {},
   "source": [
    "Now let's save the data into the sibling directory `data` as a file with that filename:"
   ]
  },
  {
   "cell_type": "code",
   "execution_count": 8,
   "metadata": {},
   "outputs": [],
   "source": [
    "# The .. path says \"use the parent directory\n",
    "# So ../data says: use the data directory in the parent directory\n",
    "laptimes.to_csv('../data/{}'.format(outfile_name))"
   ]
  },
  {
   "cell_type": "markdown",
   "metadata": {},
   "source": [
    "If we have saved the data into a file, we can also load the data back in to a data from the file rather than having to download it again from its online location.\n",
    "\n",
    "*Uncomment the following code to load the data back in from the local file.*"
   ]
  },
  {
   "cell_type": "code",
   "execution_count": 9,
   "metadata": {},
   "outputs": [],
   "source": [
    "#Load data from local file\n",
    "#laptimes = pd.read_csv('23_Analysis_Race_Hour 6.csv', sep=';').dropna(how='all', axis=1)\n",
    "#laptimes.head()"
   ]
  },
  {
   "cell_type": "markdown",
   "metadata": {},
   "source": [
    "It often makes sense to tidy a data set to make it more useable.\n",
    "\n",
    "For example we often find that column names may include leading or trailing whitespace in the original datafile, which can make them hard to refer to, so we can rename the columns with any such whitespace stripped out."
   ]
  },
  {
   "cell_type": "code",
   "execution_count": 10,
   "metadata": {},
   "outputs": [],
   "source": [
    "# Clean the column names of any leading / trailing whitespace\n",
    "# The [X for Y in Z] construction is know as a \"list comprehension\"\n",
    "# It creates a list of values (\"[]\") \n",
    "# by iterating through (\"for Y in\") another list of values (\"Z\")\n",
    "# and generates new list values, \"X\", from each original list value \"Y\"\n",
    "laptimes.columns = [c.strip() for c in laptimes.columns]"
   ]
  },
  {
   "cell_type": "markdown",
   "metadata": {},
   "source": [
    "The car and driver numbers are represented in the dataframe as numerical `int`, which is to say, *integer*, values. However, it is safer to cast this `str`, or *string* values so we don't accidentally perform numerical calculations on them, such as adding them together or finding the \"average\" value of them..."
   ]
  },
  {
   "cell_type": "code",
   "execution_count": 11,
   "metadata": {},
   "outputs": [
    {
     "data": {
      "text/html": [
       "<div>\n",
       "<style scoped>\n",
       "    .dataframe tbody tr th:only-of-type {\n",
       "        vertical-align: middle;\n",
       "    }\n",
       "\n",
       "    .dataframe tbody tr th {\n",
       "        vertical-align: top;\n",
       "    }\n",
       "\n",
       "    .dataframe thead th {\n",
       "        text-align: right;\n",
       "    }\n",
       "</style>\n",
       "<table border=\"1\" class=\"dataframe\">\n",
       "  <thead>\n",
       "    <tr style=\"text-align: right;\">\n",
       "      <th></th>\n",
       "      <th>NUMBER</th>\n",
       "      <th>DRIVER_NUMBER</th>\n",
       "      <th>LAP_NUMBER</th>\n",
       "      <th>LAP_TIME</th>\n",
       "      <th>LAP_IMPROVEMENT</th>\n",
       "      <th>CROSSING_FINISH_LINE_IN_PIT</th>\n",
       "      <th>S1</th>\n",
       "      <th>S1_IMPROVEMENT</th>\n",
       "      <th>S2</th>\n",
       "      <th>S2_IMPROVEMENT</th>\n",
       "      <th>...</th>\n",
       "      <th>S1_LARGE</th>\n",
       "      <th>S2_LARGE</th>\n",
       "      <th>S3_LARGE</th>\n",
       "      <th>TOP_SPEED</th>\n",
       "      <th>DRIVER_NAME</th>\n",
       "      <th>PIT_TIME</th>\n",
       "      <th>CLASS</th>\n",
       "      <th>GROUP</th>\n",
       "      <th>TEAM</th>\n",
       "      <th>MANUFACTURER</th>\n",
       "    </tr>\n",
       "  </thead>\n",
       "  <tbody>\n",
       "    <tr>\n",
       "      <th>0</th>\n",
       "      <td>1</td>\n",
       "      <td>1</td>\n",
       "      <td>1</td>\n",
       "      <td>2:06.349</td>\n",
       "      <td>0</td>\n",
       "      <td>NaN</td>\n",
       "      <td>37.900</td>\n",
       "      <td>0</td>\n",
       "      <td>57.533</td>\n",
       "      <td>0</td>\n",
       "      <td>...</td>\n",
       "      <td>0:37.900</td>\n",
       "      <td>0:57.533</td>\n",
       "      <td>0:30.916</td>\n",
       "      <td>289.0</td>\n",
       "      <td>Neel JANI</td>\n",
       "      <td>NaN</td>\n",
       "      <td>LMP1</td>\n",
       "      <td>NaN</td>\n",
       "      <td>Rebellion Racing</td>\n",
       "      <td>Rebellion</td>\n",
       "    </tr>\n",
       "    <tr>\n",
       "      <th>1</th>\n",
       "      <td>1</td>\n",
       "      <td>1</td>\n",
       "      <td>2</td>\n",
       "      <td>2:00.417</td>\n",
       "      <td>0</td>\n",
       "      <td>NaN</td>\n",
       "      <td>34.830</td>\n",
       "      <td>0</td>\n",
       "      <td>54.824</td>\n",
       "      <td>0</td>\n",
       "      <td>...</td>\n",
       "      <td>0:34.830</td>\n",
       "      <td>0:54.824</td>\n",
       "      <td>0:30.763</td>\n",
       "      <td>302.7</td>\n",
       "      <td>Neel JANI</td>\n",
       "      <td>NaN</td>\n",
       "      <td>LMP1</td>\n",
       "      <td>NaN</td>\n",
       "      <td>Rebellion Racing</td>\n",
       "      <td>Rebellion</td>\n",
       "    </tr>\n",
       "    <tr>\n",
       "      <th>2</th>\n",
       "      <td>1</td>\n",
       "      <td>1</td>\n",
       "      <td>3</td>\n",
       "      <td>2:17.278</td>\n",
       "      <td>0</td>\n",
       "      <td>B</td>\n",
       "      <td>40.012</td>\n",
       "      <td>0</td>\n",
       "      <td>55.696</td>\n",
       "      <td>0</td>\n",
       "      <td>...</td>\n",
       "      <td>0:40.012</td>\n",
       "      <td>0:55.696</td>\n",
       "      <td>0:41.570</td>\n",
       "      <td>289.0</td>\n",
       "      <td>Neel JANI</td>\n",
       "      <td>NaN</td>\n",
       "      <td>LMP1</td>\n",
       "      <td>NaN</td>\n",
       "      <td>Rebellion Racing</td>\n",
       "      <td>Rebellion</td>\n",
       "    </tr>\n",
       "    <tr>\n",
       "      <th>3</th>\n",
       "      <td>1</td>\n",
       "      <td>1</td>\n",
       "      <td>4</td>\n",
       "      <td>3:10.094</td>\n",
       "      <td>0</td>\n",
       "      <td>NaN</td>\n",
       "      <td>1:26.938</td>\n",
       "      <td>0</td>\n",
       "      <td>1:07.045</td>\n",
       "      <td>0</td>\n",
       "      <td>...</td>\n",
       "      <td>1:26.938</td>\n",
       "      <td>1:07.045</td>\n",
       "      <td>0:36.111</td>\n",
       "      <td>262.4</td>\n",
       "      <td>Neel JANI</td>\n",
       "      <td>0:00:58.509</td>\n",
       "      <td>LMP1</td>\n",
       "      <td>NaN</td>\n",
       "      <td>Rebellion Racing</td>\n",
       "      <td>Rebellion</td>\n",
       "    </tr>\n",
       "    <tr>\n",
       "      <th>4</th>\n",
       "      <td>1</td>\n",
       "      <td>1</td>\n",
       "      <td>5</td>\n",
       "      <td>2:29.763</td>\n",
       "      <td>0</td>\n",
       "      <td>NaN</td>\n",
       "      <td>41.205</td>\n",
       "      <td>0</td>\n",
       "      <td>1:11.517</td>\n",
       "      <td>0</td>\n",
       "      <td>...</td>\n",
       "      <td>0:41.205</td>\n",
       "      <td>1:11.517</td>\n",
       "      <td>0:37.041</td>\n",
       "      <td>259.2</td>\n",
       "      <td>Neel JANI</td>\n",
       "      <td>NaN</td>\n",
       "      <td>LMP1</td>\n",
       "      <td>NaN</td>\n",
       "      <td>Rebellion Racing</td>\n",
       "      <td>Rebellion</td>\n",
       "    </tr>\n",
       "  </tbody>\n",
       "</table>\n",
       "<p>5 rows × 25 columns</p>\n",
       "</div>"
      ],
      "text/plain": [
       "  NUMBER DRIVER_NUMBER  LAP_NUMBER  LAP_TIME  LAP_IMPROVEMENT  \\\n",
       "0      1             1           1  2:06.349                0   \n",
       "1      1             1           2  2:00.417                0   \n",
       "2      1             1           3  2:17.278                0   \n",
       "3      1             1           4  3:10.094                0   \n",
       "4      1             1           5  2:29.763                0   \n",
       "\n",
       "  CROSSING_FINISH_LINE_IN_PIT        S1  S1_IMPROVEMENT        S2  \\\n",
       "0                         NaN    37.900               0    57.533   \n",
       "1                         NaN    34.830               0    54.824   \n",
       "2                           B    40.012               0    55.696   \n",
       "3                         NaN  1:26.938               0  1:07.045   \n",
       "4                         NaN    41.205               0  1:11.517   \n",
       "\n",
       "   S2_IMPROVEMENT  ...  S1_LARGE  S2_LARGE  S3_LARGE TOP_SPEED DRIVER_NAME  \\\n",
       "0               0  ...  0:37.900  0:57.533  0:30.916     289.0   Neel JANI   \n",
       "1               0  ...  0:34.830  0:54.824  0:30.763     302.7   Neel JANI   \n",
       "2               0  ...  0:40.012  0:55.696  0:41.570     289.0   Neel JANI   \n",
       "3               0  ...  1:26.938  1:07.045  0:36.111     262.4   Neel JANI   \n",
       "4               0  ...  0:41.205  1:11.517  0:37.041     259.2   Neel JANI   \n",
       "\n",
       "      PIT_TIME CLASS GROUP              TEAM MANUFACTURER  \n",
       "0          NaN  LMP1   NaN  Rebellion Racing    Rebellion  \n",
       "1          NaN  LMP1   NaN  Rebellion Racing    Rebellion  \n",
       "2          NaN  LMP1   NaN  Rebellion Racing    Rebellion  \n",
       "3  0:00:58.509  LMP1   NaN  Rebellion Racing    Rebellion  \n",
       "4          NaN  LMP1   NaN  Rebellion Racing    Rebellion  \n",
       "\n",
       "[5 rows x 25 columns]"
      ]
     },
     "execution_count": 11,
     "metadata": {},
     "output_type": "execute_result"
    }
   ],
   "source": [
    "#Tidy the data a little... car and driver number are not numbers\n",
    "laptimes[['NUMBER','DRIVER_NUMBER']] = laptimes[['NUMBER','DRIVER_NUMBER']].astype(str)\n",
    "\n",
    "laptimes.head()"
   ]
  },
  {
   "cell_type": "code",
   "execution_count": 12,
   "metadata": {},
   "outputs": [
    {
     "data": {
      "text/plain": [
       "Index(['NUMBER', 'DRIVER_NUMBER', 'LAP_NUMBER', 'LAP_TIME', 'LAP_IMPROVEMENT',\n",
       "       'CROSSING_FINISH_LINE_IN_PIT', 'S1', 'S1_IMPROVEMENT', 'S2',\n",
       "       'S2_IMPROVEMENT', 'S3', 'S3_IMPROVEMENT', 'KPH', 'ELAPSED', 'HOUR',\n",
       "       'S1_LARGE', 'S2_LARGE', 'S3_LARGE', 'TOP_SPEED', 'DRIVER_NAME',\n",
       "       'PIT_TIME', 'CLASS', 'GROUP', 'TEAM', 'MANUFACTURER'],\n",
       "      dtype='object')"
      ]
     },
     "execution_count": 12,
     "metadata": {},
     "output_type": "execute_result"
    }
   ],
   "source": [
    "# Review the column headings\n",
    "laptimes.columns"
   ]
  },
  {
   "cell_type": "markdown",
   "metadata": {},
   "source": [
    "The `DRIVER_NUMBER` is relative to a car. It may be convenient to also have a unique driver number, `CAR_DRIVER`, which we can construct from the `NUMBER` and `DRIVER_NUMER` columns:"
   ]
  },
  {
   "cell_type": "code",
   "execution_count": 13,
   "metadata": {},
   "outputs": [
    {
     "data": {
      "text/html": [
       "<div>\n",
       "<style scoped>\n",
       "    .dataframe tbody tr th:only-of-type {\n",
       "        vertical-align: middle;\n",
       "    }\n",
       "\n",
       "    .dataframe tbody tr th {\n",
       "        vertical-align: top;\n",
       "    }\n",
       "\n",
       "    .dataframe thead th {\n",
       "        text-align: right;\n",
       "    }\n",
       "</style>\n",
       "<table border=\"1\" class=\"dataframe\">\n",
       "  <thead>\n",
       "    <tr style=\"text-align: right;\">\n",
       "      <th></th>\n",
       "      <th>NUMBER</th>\n",
       "      <th>DRIVER_NUMBER</th>\n",
       "      <th>CAR_DRIVER</th>\n",
       "    </tr>\n",
       "  </thead>\n",
       "  <tbody>\n",
       "    <tr>\n",
       "      <th>0</th>\n",
       "      <td>1</td>\n",
       "      <td>1</td>\n",
       "      <td>1_1</td>\n",
       "    </tr>\n",
       "    <tr>\n",
       "      <th>1</th>\n",
       "      <td>1</td>\n",
       "      <td>1</td>\n",
       "      <td>1_1</td>\n",
       "    </tr>\n",
       "    <tr>\n",
       "      <th>2</th>\n",
       "      <td>1</td>\n",
       "      <td>1</td>\n",
       "      <td>1_1</td>\n",
       "    </tr>\n",
       "    <tr>\n",
       "      <th>3</th>\n",
       "      <td>1</td>\n",
       "      <td>1</td>\n",
       "      <td>1_1</td>\n",
       "    </tr>\n",
       "    <tr>\n",
       "      <th>4</th>\n",
       "      <td>1</td>\n",
       "      <td>1</td>\n",
       "      <td>1_1</td>\n",
       "    </tr>\n",
       "  </tbody>\n",
       "</table>\n",
       "</div>"
      ],
      "text/plain": [
       "  NUMBER DRIVER_NUMBER CAR_DRIVER\n",
       "0      1             1        1_1\n",
       "1      1             1        1_1\n",
       "2      1             1        1_1\n",
       "3      1             1        1_1\n",
       "4      1             1        1_1"
      ]
     },
     "execution_count": 13,
     "metadata": {},
     "output_type": "execute_result"
    }
   ],
   "source": [
    "laptimes['CAR_DRIVER'] = laptimes['NUMBER'] + '_' + laptimes['DRIVER_NUMBER']\n",
    "laptimes[['NUMBER','DRIVER_NUMBER','CAR_DRIVER']].head()"
   ]
  },
  {
   "cell_type": "markdown",
   "metadata": {},
   "source": [
    "## Quick demo laptime chart\n",
    "\n",
    "The *pandas* package provides a handy `.plot()` method that allows us to plot charts directly from a dataframe. For example, we might want to plot lap time against lap number for each car.\n",
    "\n",
    "In the original dataframe, lap times are given in the form `minute:second` (for example, `2:06.349`). To plot the laptimes, we need to convert this to a more convenient numeric form, such as the laptime given as a number of seconds.\n",
    "\n",
    "The `utils` module we loaded in earlier contains a `getTime()` function that can perform this conversion for us. We can use a dataframe `.apply()` method to to apply that function to each value in the original `LAP_TIME` column and assign it to a new `LAP_TIME_S` column, before previewing a selection of the data frame where we select out those two columns, `LAP_TIME` and `LAP_TIME_S`:"
   ]
  },
  {
   "cell_type": "code",
   "execution_count": 14,
   "metadata": {},
   "outputs": [
    {
     "data": {
      "text/html": [
       "<div>\n",
       "<style scoped>\n",
       "    .dataframe tbody tr th:only-of-type {\n",
       "        vertical-align: middle;\n",
       "    }\n",
       "\n",
       "    .dataframe tbody tr th {\n",
       "        vertical-align: top;\n",
       "    }\n",
       "\n",
       "    .dataframe thead th {\n",
       "        text-align: right;\n",
       "    }\n",
       "</style>\n",
       "<table border=\"1\" class=\"dataframe\">\n",
       "  <thead>\n",
       "    <tr style=\"text-align: right;\">\n",
       "      <th></th>\n",
       "      <th>LAP_TIME</th>\n",
       "      <th>LAP_TIME_S</th>\n",
       "    </tr>\n",
       "  </thead>\n",
       "  <tbody>\n",
       "    <tr>\n",
       "      <th>0</th>\n",
       "      <td>2:06.349</td>\n",
       "      <td>126.349</td>\n",
       "    </tr>\n",
       "    <tr>\n",
       "      <th>1</th>\n",
       "      <td>2:00.417</td>\n",
       "      <td>120.417</td>\n",
       "    </tr>\n",
       "    <tr>\n",
       "      <th>2</th>\n",
       "      <td>2:17.278</td>\n",
       "      <td>137.278</td>\n",
       "    </tr>\n",
       "    <tr>\n",
       "      <th>3</th>\n",
       "      <td>3:10.094</td>\n",
       "      <td>190.094</td>\n",
       "    </tr>\n",
       "    <tr>\n",
       "      <th>4</th>\n",
       "      <td>2:29.763</td>\n",
       "      <td>149.763</td>\n",
       "    </tr>\n",
       "  </tbody>\n",
       "</table>\n",
       "</div>"
      ],
      "text/plain": [
       "   LAP_TIME  LAP_TIME_S\n",
       "0  2:06.349     126.349\n",
       "1  2:00.417     120.417\n",
       "2  2:17.278     137.278\n",
       "3  3:10.094     190.094\n",
       "4  2:29.763     149.763"
      ]
     },
     "execution_count": 14,
     "metadata": {},
     "output_type": "execute_result"
    }
   ],
   "source": [
    "laptimes['LAP_TIME_S'] = laptimes['LAP_TIME'].apply(getTime)\n",
    "laptimes[['LAP_TIME','LAP_TIME_S']].head()"
   ]
  },
  {
   "cell_type": "markdown",
   "metadata": {},
   "source": [
    "As well as selecting out *columns* of a data frame, we can also select out rows. For example, we can select out the laptimes for car `1` using the following construction:"
   ]
  },
  {
   "cell_type": "code",
   "execution_count": 15,
   "metadata": {},
   "outputs": [
    {
     "data": {
      "text/html": [
       "<div>\n",
       "<style scoped>\n",
       "    .dataframe tbody tr th:only-of-type {\n",
       "        vertical-align: middle;\n",
       "    }\n",
       "\n",
       "    .dataframe tbody tr th {\n",
       "        vertical-align: top;\n",
       "    }\n",
       "\n",
       "    .dataframe thead th {\n",
       "        text-align: right;\n",
       "    }\n",
       "</style>\n",
       "<table border=\"1\" class=\"dataframe\">\n",
       "  <thead>\n",
       "    <tr style=\"text-align: right;\">\n",
       "      <th></th>\n",
       "      <th>NUMBER</th>\n",
       "      <th>DRIVER_NUMBER</th>\n",
       "      <th>LAP_NUMBER</th>\n",
       "      <th>LAP_TIME</th>\n",
       "      <th>LAP_IMPROVEMENT</th>\n",
       "      <th>CROSSING_FINISH_LINE_IN_PIT</th>\n",
       "      <th>S1</th>\n",
       "      <th>S1_IMPROVEMENT</th>\n",
       "      <th>S2</th>\n",
       "      <th>S2_IMPROVEMENT</th>\n",
       "      <th>...</th>\n",
       "      <th>S3_LARGE</th>\n",
       "      <th>TOP_SPEED</th>\n",
       "      <th>DRIVER_NAME</th>\n",
       "      <th>PIT_TIME</th>\n",
       "      <th>CLASS</th>\n",
       "      <th>GROUP</th>\n",
       "      <th>TEAM</th>\n",
       "      <th>MANUFACTURER</th>\n",
       "      <th>CAR_DRIVER</th>\n",
       "      <th>LAP_TIME_S</th>\n",
       "    </tr>\n",
       "  </thead>\n",
       "  <tbody>\n",
       "    <tr>\n",
       "      <th>0</th>\n",
       "      <td>1</td>\n",
       "      <td>1</td>\n",
       "      <td>1</td>\n",
       "      <td>2:06.349</td>\n",
       "      <td>0</td>\n",
       "      <td>NaN</td>\n",
       "      <td>37.900</td>\n",
       "      <td>0</td>\n",
       "      <td>57.533</td>\n",
       "      <td>0</td>\n",
       "      <td>...</td>\n",
       "      <td>0:30.916</td>\n",
       "      <td>289.0</td>\n",
       "      <td>Neel JANI</td>\n",
       "      <td>NaN</td>\n",
       "      <td>LMP1</td>\n",
       "      <td>NaN</td>\n",
       "      <td>Rebellion Racing</td>\n",
       "      <td>Rebellion</td>\n",
       "      <td>1_1</td>\n",
       "      <td>126.349</td>\n",
       "    </tr>\n",
       "    <tr>\n",
       "      <th>1</th>\n",
       "      <td>1</td>\n",
       "      <td>1</td>\n",
       "      <td>2</td>\n",
       "      <td>2:00.417</td>\n",
       "      <td>0</td>\n",
       "      <td>NaN</td>\n",
       "      <td>34.830</td>\n",
       "      <td>0</td>\n",
       "      <td>54.824</td>\n",
       "      <td>0</td>\n",
       "      <td>...</td>\n",
       "      <td>0:30.763</td>\n",
       "      <td>302.7</td>\n",
       "      <td>Neel JANI</td>\n",
       "      <td>NaN</td>\n",
       "      <td>LMP1</td>\n",
       "      <td>NaN</td>\n",
       "      <td>Rebellion Racing</td>\n",
       "      <td>Rebellion</td>\n",
       "      <td>1_1</td>\n",
       "      <td>120.417</td>\n",
       "    </tr>\n",
       "    <tr>\n",
       "      <th>2</th>\n",
       "      <td>1</td>\n",
       "      <td>1</td>\n",
       "      <td>3</td>\n",
       "      <td>2:17.278</td>\n",
       "      <td>0</td>\n",
       "      <td>B</td>\n",
       "      <td>40.012</td>\n",
       "      <td>0</td>\n",
       "      <td>55.696</td>\n",
       "      <td>0</td>\n",
       "      <td>...</td>\n",
       "      <td>0:41.570</td>\n",
       "      <td>289.0</td>\n",
       "      <td>Neel JANI</td>\n",
       "      <td>NaN</td>\n",
       "      <td>LMP1</td>\n",
       "      <td>NaN</td>\n",
       "      <td>Rebellion Racing</td>\n",
       "      <td>Rebellion</td>\n",
       "      <td>1_1</td>\n",
       "      <td>137.278</td>\n",
       "    </tr>\n",
       "    <tr>\n",
       "      <th>3</th>\n",
       "      <td>1</td>\n",
       "      <td>1</td>\n",
       "      <td>4</td>\n",
       "      <td>3:10.094</td>\n",
       "      <td>0</td>\n",
       "      <td>NaN</td>\n",
       "      <td>1:26.938</td>\n",
       "      <td>0</td>\n",
       "      <td>1:07.045</td>\n",
       "      <td>0</td>\n",
       "      <td>...</td>\n",
       "      <td>0:36.111</td>\n",
       "      <td>262.4</td>\n",
       "      <td>Neel JANI</td>\n",
       "      <td>0:00:58.509</td>\n",
       "      <td>LMP1</td>\n",
       "      <td>NaN</td>\n",
       "      <td>Rebellion Racing</td>\n",
       "      <td>Rebellion</td>\n",
       "      <td>1_1</td>\n",
       "      <td>190.094</td>\n",
       "    </tr>\n",
       "    <tr>\n",
       "      <th>4</th>\n",
       "      <td>1</td>\n",
       "      <td>1</td>\n",
       "      <td>5</td>\n",
       "      <td>2:29.763</td>\n",
       "      <td>0</td>\n",
       "      <td>NaN</td>\n",
       "      <td>41.205</td>\n",
       "      <td>0</td>\n",
       "      <td>1:11.517</td>\n",
       "      <td>0</td>\n",
       "      <td>...</td>\n",
       "      <td>0:37.041</td>\n",
       "      <td>259.2</td>\n",
       "      <td>Neel JANI</td>\n",
       "      <td>NaN</td>\n",
       "      <td>LMP1</td>\n",
       "      <td>NaN</td>\n",
       "      <td>Rebellion Racing</td>\n",
       "      <td>Rebellion</td>\n",
       "      <td>1_1</td>\n",
       "      <td>149.763</td>\n",
       "    </tr>\n",
       "  </tbody>\n",
       "</table>\n",
       "<p>5 rows × 27 columns</p>\n",
       "</div>"
      ],
      "text/plain": [
       "  NUMBER DRIVER_NUMBER  LAP_NUMBER  LAP_TIME  LAP_IMPROVEMENT  \\\n",
       "0      1             1           1  2:06.349                0   \n",
       "1      1             1           2  2:00.417                0   \n",
       "2      1             1           3  2:17.278                0   \n",
       "3      1             1           4  3:10.094                0   \n",
       "4      1             1           5  2:29.763                0   \n",
       "\n",
       "  CROSSING_FINISH_LINE_IN_PIT        S1  S1_IMPROVEMENT        S2  \\\n",
       "0                         NaN    37.900               0    57.533   \n",
       "1                         NaN    34.830               0    54.824   \n",
       "2                           B    40.012               0    55.696   \n",
       "3                         NaN  1:26.938               0  1:07.045   \n",
       "4                         NaN    41.205               0  1:11.517   \n",
       "\n",
       "   S2_IMPROVEMENT  ...  S3_LARGE  TOP_SPEED  DRIVER_NAME     PIT_TIME CLASS  \\\n",
       "0               0  ...  0:30.916      289.0    Neel JANI          NaN  LMP1   \n",
       "1               0  ...  0:30.763      302.7    Neel JANI          NaN  LMP1   \n",
       "2               0  ...  0:41.570      289.0    Neel JANI          NaN  LMP1   \n",
       "3               0  ...  0:36.111      262.4    Neel JANI  0:00:58.509  LMP1   \n",
       "4               0  ...  0:37.041      259.2    Neel JANI          NaN  LMP1   \n",
       "\n",
       "  GROUP              TEAM MANUFACTURER  CAR_DRIVER LAP_TIME_S  \n",
       "0   NaN  Rebellion Racing    Rebellion         1_1    126.349  \n",
       "1   NaN  Rebellion Racing    Rebellion         1_1    120.417  \n",
       "2   NaN  Rebellion Racing    Rebellion         1_1    137.278  \n",
       "3   NaN  Rebellion Racing    Rebellion         1_1    190.094  \n",
       "4   NaN  Rebellion Racing    Rebellion         1_1    149.763  \n",
       "\n",
       "[5 rows x 27 columns]"
      ]
     },
     "execution_count": 15,
     "metadata": {},
     "output_type": "execute_result"
    }
   ],
   "source": [
    "laptimes[laptimes['NUMBER']=='1'].head()"
   ]
  },
  {
   "cell_type": "markdown",
   "metadata": {},
   "source": [
    "Let's start with a plot that allows us to select a particular car number and plot the laptimes associated with it:"
   ]
  },
  {
   "cell_type": "code",
   "execution_count": 16,
   "metadata": {},
   "outputs": [
    {
     "data": {
      "image/png": "[encoded data removed]",
      "text/plain": [
       "<Figure size 432x288 with 1 Axes>"
      ]
     },
     "metadata": {
      "needs_background": "light"
     },
     "output_type": "display_data"
    }
   ],
   "source": [
    "laptimes[laptimes['NUMBER']=='1'].plot(x='LAP_NUMBER',y='LAP_TIME_S');"
   ]
  },
  {
   "cell_type": "markdown",
   "metadata": {},
   "source": [
    "We can easily create a function for that decorated with the *ipywidgets* `interact` function to create a set of widget that allows us to select a particular car and plot the laptimes associated with it:"
   ]
  },
  {
   "cell_type": "code",
   "execution_count": 17,
   "metadata": {},
   "outputs": [
    {
     "data": {
      "application/vnd.jupyter.widget-view+json": {
       "model_id": "7d85d255c6f24381893884f1c77fd98d",
       "version_major": 2,
       "version_minor": 0
      },
      "text/plain": [
       "interactive(children=(Dropdown(description='number', options=('1', '11', '17', '26', '28', '29', '3', '31', '3…"
      ]
     },
     "metadata": {},
     "output_type": "display_data"
    }
   ],
   "source": [
    "from ipywidgets import interact\n",
    "\n",
    "@interact(number=laptimes['NUMBER'].unique().tolist(),)\n",
    "def plotLapByNumber(number):\n",
    "    laptimes[laptimes['NUMBER']==number].plot(x='LAP_NUMBER',y='LAP_TIME_S')"
   ]
  },
  {
   "cell_type": "markdown",
   "metadata": {},
   "source": [
    "We can also highlight which laps were driven by which driver by splitting the data for a particular car out over several columns, one for each driver, and then potting each driver column using a separate colour.\n",
    "\n",
    "The table is reshaped using the *pandas* `pivot()` method, setting the lap number as the *index* of the pivoted dataframe and splitting the `LAP_TIME_S` *values* out over several new *columns* that identify each `DRIVER_NUMBER`:"
   ]
  },
  {
   "cell_type": "code",
   "execution_count": 18,
   "metadata": {},
   "outputs": [
    {
     "data": {
      "text/html": [
       "<div>\n",
       "<style scoped>\n",
       "    .dataframe tbody tr th:only-of-type {\n",
       "        vertical-align: middle;\n",
       "    }\n",
       "\n",
       "    .dataframe tbody tr th {\n",
       "        vertical-align: top;\n",
       "    }\n",
       "\n",
       "    .dataframe thead th {\n",
       "        text-align: right;\n",
       "    }\n",
       "</style>\n",
       "<table border=\"1\" class=\"dataframe\">\n",
       "  <thead>\n",
       "    <tr style=\"text-align: right;\">\n",
       "      <th>DRIVER_NUMBER</th>\n",
       "      <th>1</th>\n",
       "      <th>2</th>\n",
       "      <th>3</th>\n",
       "    </tr>\n",
       "    <tr>\n",
       "      <th>LAP_NUMBER</th>\n",
       "      <th></th>\n",
       "      <th></th>\n",
       "      <th></th>\n",
       "    </tr>\n",
       "  </thead>\n",
       "  <tbody>\n",
       "    <tr>\n",
       "      <th>1</th>\n",
       "      <td>126.349</td>\n",
       "      <td>NaN</td>\n",
       "      <td>NaN</td>\n",
       "    </tr>\n",
       "    <tr>\n",
       "      <th>2</th>\n",
       "      <td>120.417</td>\n",
       "      <td>NaN</td>\n",
       "      <td>NaN</td>\n",
       "    </tr>\n",
       "    <tr>\n",
       "      <th>3</th>\n",
       "      <td>137.278</td>\n",
       "      <td>NaN</td>\n",
       "      <td>NaN</td>\n",
       "    </tr>\n",
       "    <tr>\n",
       "      <th>4</th>\n",
       "      <td>190.094</td>\n",
       "      <td>NaN</td>\n",
       "      <td>NaN</td>\n",
       "    </tr>\n",
       "    <tr>\n",
       "      <th>5</th>\n",
       "      <td>149.763</td>\n",
       "      <td>NaN</td>\n",
       "      <td>NaN</td>\n",
       "    </tr>\n",
       "  </tbody>\n",
       "</table>\n",
       "</div>"
      ],
      "text/plain": [
       "DRIVER_NUMBER        1   2   3\n",
       "LAP_NUMBER                    \n",
       "1              126.349 NaN NaN\n",
       "2              120.417 NaN NaN\n",
       "3              137.278 NaN NaN\n",
       "4              190.094 NaN NaN\n",
       "5              149.763 NaN NaN"
      ]
     },
     "execution_count": 18,
     "metadata": {},
     "output_type": "execute_result"
    }
   ],
   "source": [
    "laptimes[laptimes['NUMBER']=='1'].pivot(index='LAP_NUMBER',\n",
    "                                        columns='DRIVER_NUMBER',\n",
    "                                        values='LAP_TIME_S').head()"
   ]
  },
  {
   "cell_type": "markdown",
   "metadata": {},
   "source": [
    "The `.plot()` command will, by default, plot the values in each column of a dataframe as a separate line against the corresponding index values:"
   ]
  },
  {
   "cell_type": "code",
   "execution_count": 19,
   "metadata": {},
   "outputs": [
    {
     "data": {
      "application/vnd.jupyter.widget-view+json": {
       "model_id": "c25bb60851c346c7a86a69a81b5900fe",
       "version_major": 2,
       "version_minor": 0
      },
      "text/plain": [
       "interactive(children=(Dropdown(description='number', options=('1', '11', '17', '26', '28', '29', '3', '31', '3…"
      ]
     },
     "metadata": {},
     "output_type": "display_data"
    }
   ],
   "source": [
    "@interact(number=laptimes['NUMBER'].unique().tolist(),)\n",
    "def plotLapByNumberDriver(number):\n",
    "    # We can pivot long to wide on driver number,\n",
    "    # then plot all cols against the lapnumber index\n",
    "    laptimes[laptimes['NUMBER']==number].pivot(index='LAP_NUMBER',\n",
    "                                               columns='DRIVER_NUMBER',\n",
    "                                               values='LAP_TIME_S').plot()\n"
   ]
  },
  {
   "cell_type": "markdown",
   "metadata": {},
   "source": [
    "We can also add annotations to the chart. For example, we might want to identify laps on which the car pitted so that we can disambiguate slow laps caused by an on-track incident, for example, from laps where the driver went through the pit lane.\n",
    "\n",
    "By inspection of the original table, we note that there are two columns that provide relevant information: the `CROSSING_FINISH_LINE_IN_PIT` column takes the value 'B' for laps where the car crosses the finish line in the pit, a null value otherwise;  and the `PIT_TIME` column takes a value on laps where the car exits the pit lane at the start of a lap, null otherwise.\n",
    "\n",
    "*(In general, depending on the timing marker, lap times for laps where the car crossed the finish line in the pit may or may not include the pit stop time.)*"
   ]
  },
  {
   "cell_type": "code",
   "execution_count": 20,
   "metadata": {},
   "outputs": [
    {
     "data": {
      "application/vnd.jupyter.widget-view+json": {
       "model_id": "4a94f9bc9676449c97ff47647b732047",
       "version_major": 2,
       "version_minor": 0
      },
      "text/plain": [
       "interactive(children=(Dropdown(description='number', options=('1', '11', '17', '26', '28', '29', '3', '31', '3…"
      ]
     },
     "metadata": {},
     "output_type": "display_data"
    }
   ],
   "source": [
    "@interact(number=laptimes['NUMBER'].unique().tolist(),\n",
    "          pitentrylap=True)\n",
    "def plotLapByNumberDriverWithPit(number, pitentrylap):\n",
    "    # We can pivot long to wide on driver number,\n",
    "    # then plot all cols against the lapnumber index\n",
    "    #Grap the matplotli axes so we can overplot onto them\n",
    "    ax = laptimes[laptimes['NUMBER']==number].pivot(index='LAP_NUMBER',\n",
    "                                                    columns='DRIVER_NUMBER',\n",
    "                                                    values='LAP_TIME_S').plot()\n",
    "    # Also add in pit laps\n",
    "    # Filter rows that identify both the car\n",
    "    # and the laps on which the car crossed the finish line in the pit\n",
    "    pitcondition = (laptimes['CROSSING_FINISH_LINE_IN_PIT']=='B') if pitentrylap \\\n",
    "                    else ~(laptimes['PIT_TIME'].isnull())\n",
    "    inpitlaps = laptimes[(laptimes['NUMBER']==number) & (pitcondition) ]\n",
    "    # Plot a marker for each of those rows\n",
    "    inpitlaps.plot.scatter(x='LAP_NUMBER',y='LAP_TIME_S', ax=ax)\n",
    "    "
   ]
  },
  {
   "cell_type": "markdown",
   "metadata": {},
   "source": [
    "### Inlaps and Outlaps\n",
    "\n",
    "We can use the pit information to create a convenience column with Boolean values that indicate whether a lap was in in-lap or not (that is, whether lap was completed in the pit lane).\n",
    "\n",
    "We can also shift this column to create a column that contains an outlap flag. We can decide whether the set the initial (first lap) value to be an outlap (`True`) or not.\n",
    "\n",
    "*Alternatively, we could  set the outlap as laps where there is a non-null value for the pit stop time. This would have a `False` value for the first lap.*"
   ]
  },
  {
   "cell_type": "code",
   "execution_count": 21,
   "metadata": {},
   "outputs": [
    {
     "data": {
      "text/html": [
       "<div>\n",
       "<style scoped>\n",
       "    .dataframe tbody tr th:only-of-type {\n",
       "        vertical-align: middle;\n",
       "    }\n",
       "\n",
       "    .dataframe tbody tr th {\n",
       "        vertical-align: top;\n",
       "    }\n",
       "\n",
       "    .dataframe thead th {\n",
       "        text-align: right;\n",
       "    }\n",
       "</style>\n",
       "<table border=\"1\" class=\"dataframe\">\n",
       "  <thead>\n",
       "    <tr style=\"text-align: right;\">\n",
       "      <th></th>\n",
       "      <th>DRIVER_NUMBER</th>\n",
       "      <th>INLAP</th>\n",
       "      <th>OUTLAP</th>\n",
       "    </tr>\n",
       "  </thead>\n",
       "  <tbody>\n",
       "    <tr>\n",
       "      <th>0</th>\n",
       "      <td>1</td>\n",
       "      <td>False</td>\n",
       "      <td>True</td>\n",
       "    </tr>\n",
       "    <tr>\n",
       "      <th>1</th>\n",
       "      <td>1</td>\n",
       "      <td>False</td>\n",
       "      <td>False</td>\n",
       "    </tr>\n",
       "    <tr>\n",
       "      <th>2</th>\n",
       "      <td>1</td>\n",
       "      <td>True</td>\n",
       "      <td>False</td>\n",
       "    </tr>\n",
       "    <tr>\n",
       "      <th>3</th>\n",
       "      <td>1</td>\n",
       "      <td>False</td>\n",
       "      <td>True</td>\n",
       "    </tr>\n",
       "    <tr>\n",
       "      <th>4</th>\n",
       "      <td>1</td>\n",
       "      <td>False</td>\n",
       "      <td>False</td>\n",
       "    </tr>\n",
       "  </tbody>\n",
       "</table>\n",
       "</div>"
      ],
      "text/plain": [
       "  DRIVER_NUMBER  INLAP  OUTLAP\n",
       "0             1  False    True\n",
       "1             1  False   False\n",
       "2             1   True   False\n",
       "3             1  False    True\n",
       "4             1  False   False"
      ]
     },
     "execution_count": 21,
     "metadata": {},
     "output_type": "execute_result"
    }
   ],
   "source": [
    "#Create a flag to identify when we enter the pit, aka an INLAP\n",
    "laptimes['INLAP'] = (laptimes['CROSSING_FINISH_LINE_IN_PIT'] == 'B')\n",
    "\n",
    "#Make no assumptions about table order - so sort by lap number\n",
    "laptimes = laptimes.sort_values(['NUMBER','LAP_NUMBER'])\n",
    "\n",
    "# Identify a new stint for each car by shifting the pitting / INLAP flag within car tables\n",
    "laptimes['OUTLAP'] = laptimes.groupby('NUMBER')['INLAP'].shift(fill_value=True)\n",
    "\n",
    "#Alternatively, we could define the outlap by laps where there is a non-null pit time\n",
    "#laptimes['OUTLAP'] = ~laptimes['PIT_TIME'].isnull()\n",
    "\n",
    "laptimes[['DRIVER_NUMBER', 'INLAP','OUTLAP']].head()"
   ]
  },
  {
   "cell_type": "markdown",
   "metadata": {},
   "source": [
    "## Stint Detection\n",
    "\n",
    "Looking at the chart of laptimes vs driver number, we see that each car is on track for several distinct contiguous lap periods, which we might describe as \"stints\".\n",
    "\n",
    "We can identify several simple heuristics for identifying different sorts of stint:\n",
    "\n",
    "- *driver session*: session equates to continuous period in car irrespective of whether or not the car pits;\n",
    "- *car stint*: laps covered between each pit event; note that in the case of a drive through penalty, this will be counted as a pit event becuase the car passed through the pits, even if the car did not stop; the same is true of stop and go penalties where the car does stop but no work may be carried out on it;\n",
    "- *driver stint*: relative to pit stops; that is, a driver stint is a period bewteen pit stops for a particular driver; this may be renumbered for each session?"
   ]
  },
  {
   "cell_type": "markdown",
   "metadata": {},
   "source": [
    "#### Driver Session"
   ]
  },
  {
   "cell_type": "markdown",
   "metadata": {},
   "source": [
    "We can identify laps where there was a driver change within a particular car by testing whether or not the driver is the same within a car across consecutive laps, setting an appropriate default value for the first lap of the race."
   ]
  },
  {
   "cell_type": "code",
   "execution_count": 22,
   "metadata": {},
   "outputs": [],
   "source": [
    "#Also set overall lap = 1 to be a driver change\n",
    "laptimes['driverchange'] = (~laptimes['DRIVER_NUMBER'].eq(laptimes['DRIVER_NUMBER'].shift())) | (laptimes['LAP_NUMBER']==1)"
   ]
  },
  {
   "cell_type": "markdown",
   "metadata": {},
   "source": [
    "A driver session is then a count for each driver of the number driver change laps they have been associated with. The *pandas* `cumsum()` method provides a *cumulative sum* operator that can be applied to the values of a column. When the column is typed as a set of Boolean values, `True` values count `1` and `False` values count `0`: "
   ]
  },
  {
   "cell_type": "code",
   "execution_count": 23,
   "metadata": {},
   "outputs": [
    {
     "data": {
      "text/html": [
       "<div>\n",
       "<style scoped>\n",
       "    .dataframe tbody tr th:only-of-type {\n",
       "        vertical-align: middle;\n",
       "    }\n",
       "\n",
       "    .dataframe tbody tr th {\n",
       "        vertical-align: top;\n",
       "    }\n",
       "\n",
       "    .dataframe thead th {\n",
       "        text-align: right;\n",
       "    }\n",
       "</style>\n",
       "<table border=\"1\" class=\"dataframe\">\n",
       "  <thead>\n",
       "    <tr style=\"text-align: right;\">\n",
       "      <th></th>\n",
       "      <th>booleans</th>\n",
       "    </tr>\n",
       "  </thead>\n",
       "  <tbody>\n",
       "    <tr>\n",
       "      <th>0</th>\n",
       "      <td>0</td>\n",
       "    </tr>\n",
       "    <tr>\n",
       "      <th>1</th>\n",
       "      <td>1</td>\n",
       "    </tr>\n",
       "    <tr>\n",
       "      <th>2</th>\n",
       "      <td>1</td>\n",
       "    </tr>\n",
       "    <tr>\n",
       "      <th>3</th>\n",
       "      <td>1</td>\n",
       "    </tr>\n",
       "    <tr>\n",
       "      <th>4</th>\n",
       "      <td>2</td>\n",
       "    </tr>\n",
       "    <tr>\n",
       "      <th>5</th>\n",
       "      <td>2</td>\n",
       "    </tr>\n",
       "  </tbody>\n",
       "</table>\n",
       "</div>"
      ],
      "text/plain": [
       "   booleans\n",
       "0         0\n",
       "1         1\n",
       "2         1\n",
       "3         1\n",
       "4         2\n",
       "5         2"
      ]
     },
     "execution_count": 23,
     "metadata": {},
     "output_type": "execute_result"
    }
   ],
   "source": [
    "pd.DataFrame({'booleans':[False, True, False, False, True, False]}).cumsum()"
   ]
  },
  {
   "cell_type": "markdown",
   "metadata": {},
   "source": [
    "If we group the rows in the dataframe by driver — that is, generating separate groups of rows that contain the laptimes associated with a single driver — and then apply a `cumsum()` over the `driverchange` column within each group, we get a a numeric count of the number of sessions each driver has had."
   ]
  },
  {
   "cell_type": "markdown",
   "metadata": {},
   "source": [
    "The *pandas* `groupby()` method can be used to access groups of rows based on one or more column values. For example, we can group rows by the car and driver and then pull out just the rows associated with one group using the `get_group()` method:"
   ]
  },
  {
   "cell_type": "code",
   "execution_count": 24,
   "metadata": {},
   "outputs": [
    {
     "data": {
      "text/html": [
       "<div>\n",
       "<style scoped>\n",
       "    .dataframe tbody tr th:only-of-type {\n",
       "        vertical-align: middle;\n",
       "    }\n",
       "\n",
       "    .dataframe tbody tr th {\n",
       "        vertical-align: top;\n",
       "    }\n",
       "\n",
       "    .dataframe thead th {\n",
       "        text-align: right;\n",
       "    }\n",
       "</style>\n",
       "<table border=\"1\" class=\"dataframe\">\n",
       "  <thead>\n",
       "    <tr style=\"text-align: right;\">\n",
       "      <th></th>\n",
       "      <th>NUMBER</th>\n",
       "      <th>DRIVER_NUMBER</th>\n",
       "      <th>LAP_NUMBER</th>\n",
       "      <th>LAP_TIME</th>\n",
       "      <th>LAP_IMPROVEMENT</th>\n",
       "      <th>CROSSING_FINISH_LINE_IN_PIT</th>\n",
       "      <th>S1</th>\n",
       "      <th>S1_IMPROVEMENT</th>\n",
       "      <th>S2</th>\n",
       "      <th>S2_IMPROVEMENT</th>\n",
       "      <th>...</th>\n",
       "      <th>PIT_TIME</th>\n",
       "      <th>CLASS</th>\n",
       "      <th>GROUP</th>\n",
       "      <th>TEAM</th>\n",
       "      <th>MANUFACTURER</th>\n",
       "      <th>CAR_DRIVER</th>\n",
       "      <th>LAP_TIME_S</th>\n",
       "      <th>INLAP</th>\n",
       "      <th>OUTLAP</th>\n",
       "      <th>driverchange</th>\n",
       "    </tr>\n",
       "  </thead>\n",
       "  <tbody>\n",
       "    <tr>\n",
       "      <th>0</th>\n",
       "      <td>1</td>\n",
       "      <td>1</td>\n",
       "      <td>1</td>\n",
       "      <td>2:06.349</td>\n",
       "      <td>0</td>\n",
       "      <td>NaN</td>\n",
       "      <td>37.900</td>\n",
       "      <td>0</td>\n",
       "      <td>57.533</td>\n",
       "      <td>0</td>\n",
       "      <td>...</td>\n",
       "      <td>NaN</td>\n",
       "      <td>LMP1</td>\n",
       "      <td>NaN</td>\n",
       "      <td>Rebellion Racing</td>\n",
       "      <td>Rebellion</td>\n",
       "      <td>1_1</td>\n",
       "      <td>126.349</td>\n",
       "      <td>False</td>\n",
       "      <td>True</td>\n",
       "      <td>True</td>\n",
       "    </tr>\n",
       "    <tr>\n",
       "      <th>1</th>\n",
       "      <td>1</td>\n",
       "      <td>1</td>\n",
       "      <td>2</td>\n",
       "      <td>2:00.417</td>\n",
       "      <td>0</td>\n",
       "      <td>NaN</td>\n",
       "      <td>34.830</td>\n",
       "      <td>0</td>\n",
       "      <td>54.824</td>\n",
       "      <td>0</td>\n",
       "      <td>...</td>\n",
       "      <td>NaN</td>\n",
       "      <td>LMP1</td>\n",
       "      <td>NaN</td>\n",
       "      <td>Rebellion Racing</td>\n",
       "      <td>Rebellion</td>\n",
       "      <td>1_1</td>\n",
       "      <td>120.417</td>\n",
       "      <td>False</td>\n",
       "      <td>False</td>\n",
       "      <td>False</td>\n",
       "    </tr>\n",
       "    <tr>\n",
       "      <th>2</th>\n",
       "      <td>1</td>\n",
       "      <td>1</td>\n",
       "      <td>3</td>\n",
       "      <td>2:17.278</td>\n",
       "      <td>0</td>\n",
       "      <td>B</td>\n",
       "      <td>40.012</td>\n",
       "      <td>0</td>\n",
       "      <td>55.696</td>\n",
       "      <td>0</td>\n",
       "      <td>...</td>\n",
       "      <td>NaN</td>\n",
       "      <td>LMP1</td>\n",
       "      <td>NaN</td>\n",
       "      <td>Rebellion Racing</td>\n",
       "      <td>Rebellion</td>\n",
       "      <td>1_1</td>\n",
       "      <td>137.278</td>\n",
       "      <td>True</td>\n",
       "      <td>False</td>\n",
       "      <td>False</td>\n",
       "    </tr>\n",
       "    <tr>\n",
       "      <th>3</th>\n",
       "      <td>1</td>\n",
       "      <td>1</td>\n",
       "      <td>4</td>\n",
       "      <td>3:10.094</td>\n",
       "      <td>0</td>\n",
       "      <td>NaN</td>\n",
       "      <td>1:26.938</td>\n",
       "      <td>0</td>\n",
       "      <td>1:07.045</td>\n",
       "      <td>0</td>\n",
       "      <td>...</td>\n",
       "      <td>0:00:58.509</td>\n",
       "      <td>LMP1</td>\n",
       "      <td>NaN</td>\n",
       "      <td>Rebellion Racing</td>\n",
       "      <td>Rebellion</td>\n",
       "      <td>1_1</td>\n",
       "      <td>190.094</td>\n",
       "      <td>False</td>\n",
       "      <td>True</td>\n",
       "      <td>False</td>\n",
       "    </tr>\n",
       "    <tr>\n",
       "      <th>4</th>\n",
       "      <td>1</td>\n",
       "      <td>1</td>\n",
       "      <td>5</td>\n",
       "      <td>2:29.763</td>\n",
       "      <td>0</td>\n",
       "      <td>NaN</td>\n",
       "      <td>41.205</td>\n",
       "      <td>0</td>\n",
       "      <td>1:11.517</td>\n",
       "      <td>0</td>\n",
       "      <td>...</td>\n",
       "      <td>NaN</td>\n",
       "      <td>LMP1</td>\n",
       "      <td>NaN</td>\n",
       "      <td>Rebellion Racing</td>\n",
       "      <td>Rebellion</td>\n",
       "      <td>1_1</td>\n",
       "      <td>149.763</td>\n",
       "      <td>False</td>\n",
       "      <td>False</td>\n",
       "      <td>False</td>\n",
       "    </tr>\n",
       "  </tbody>\n",
       "</table>\n",
       "<p>5 rows × 30 columns</p>\n",
       "</div>"
      ],
      "text/plain": [
       "  NUMBER DRIVER_NUMBER  LAP_NUMBER  LAP_TIME  LAP_IMPROVEMENT  \\\n",
       "0      1             1           1  2:06.349                0   \n",
       "1      1             1           2  2:00.417                0   \n",
       "2      1             1           3  2:17.278                0   \n",
       "3      1             1           4  3:10.094                0   \n",
       "4      1             1           5  2:29.763                0   \n",
       "\n",
       "  CROSSING_FINISH_LINE_IN_PIT        S1  S1_IMPROVEMENT        S2  \\\n",
       "0                         NaN    37.900               0    57.533   \n",
       "1                         NaN    34.830               0    54.824   \n",
       "2                           B    40.012               0    55.696   \n",
       "3                         NaN  1:26.938               0  1:07.045   \n",
       "4                         NaN    41.205               0  1:11.517   \n",
       "\n",
       "   S2_IMPROVEMENT  ...     PIT_TIME  CLASS  GROUP              TEAM  \\\n",
       "0               0  ...          NaN   LMP1    NaN  Rebellion Racing   \n",
       "1               0  ...          NaN   LMP1    NaN  Rebellion Racing   \n",
       "2               0  ...          NaN   LMP1    NaN  Rebellion Racing   \n",
       "3               0  ...  0:00:58.509   LMP1    NaN  Rebellion Racing   \n",
       "4               0  ...          NaN   LMP1    NaN  Rebellion Racing   \n",
       "\n",
       "  MANUFACTURER CAR_DRIVER LAP_TIME_S  INLAP  OUTLAP driverchange  \n",
       "0    Rebellion        1_1    126.349  False    True         True  \n",
       "1    Rebellion        1_1    120.417  False   False        False  \n",
       "2    Rebellion        1_1    137.278   True   False        False  \n",
       "3    Rebellion        1_1    190.094  False    True        False  \n",
       "4    Rebellion        1_1    149.763  False   False        False  \n",
       "\n",
       "[5 rows x 30 columns]"
      ]
     },
     "execution_count": 24,
     "metadata": {},
     "output_type": "execute_result"
    }
   ],
   "source": [
    "car_num = '1'\n",
    "driver_num = '1'\n",
    "\n",
    "laptimes.groupby(['NUMBER', 'DRIVER_NUMBER']).get_group( (car_num, driver_num) ).head()"
   ]
  },
  {
   "cell_type": "markdown",
   "metadata": {},
   "source": [
    "When applying the `cumsum()` operator to a `groupby()` object, it will be automatically applied to the set of rows associated with each separate group:"
   ]
  },
  {
   "cell_type": "code",
   "execution_count": 25,
   "metadata": {},
   "outputs": [
    {
     "data": {
      "text/html": [
       "<div>\n",
       "<style scoped>\n",
       "    .dataframe tbody tr th:only-of-type {\n",
       "        vertical-align: middle;\n",
       "    }\n",
       "\n",
       "    .dataframe tbody tr th {\n",
       "        vertical-align: top;\n",
       "    }\n",
       "\n",
       "    .dataframe thead th {\n",
       "        text-align: right;\n",
       "    }\n",
       "</style>\n",
       "<table border=\"1\" class=\"dataframe\">\n",
       "  <thead>\n",
       "    <tr style=\"text-align: right;\">\n",
       "      <th></th>\n",
       "      <th>DRIVER_NUMBER</th>\n",
       "      <th>driverchange</th>\n",
       "      <th>DRIVER_SESSION</th>\n",
       "      <th>LAP_NUMBER</th>\n",
       "    </tr>\n",
       "  </thead>\n",
       "  <tbody>\n",
       "    <tr>\n",
       "      <th>42</th>\n",
       "      <td>1</td>\n",
       "      <td>False</td>\n",
       "      <td>1</td>\n",
       "      <td>43</td>\n",
       "    </tr>\n",
       "    <tr>\n",
       "      <th>43</th>\n",
       "      <td>1</td>\n",
       "      <td>False</td>\n",
       "      <td>1</td>\n",
       "      <td>44</td>\n",
       "    </tr>\n",
       "    <tr>\n",
       "      <th>44</th>\n",
       "      <td>1</td>\n",
       "      <td>False</td>\n",
       "      <td>1</td>\n",
       "      <td>45</td>\n",
       "    </tr>\n",
       "    <tr>\n",
       "      <th>45</th>\n",
       "      <td>2</td>\n",
       "      <td>True</td>\n",
       "      <td>1</td>\n",
       "      <td>46</td>\n",
       "    </tr>\n",
       "    <tr>\n",
       "      <th>46</th>\n",
       "      <td>2</td>\n",
       "      <td>False</td>\n",
       "      <td>1</td>\n",
       "      <td>47</td>\n",
       "    </tr>\n",
       "    <tr>\n",
       "      <th>47</th>\n",
       "      <td>2</td>\n",
       "      <td>False</td>\n",
       "      <td>1</td>\n",
       "      <td>48</td>\n",
       "    </tr>\n",
       "  </tbody>\n",
       "</table>\n",
       "</div>"
      ],
      "text/plain": [
       "   DRIVER_NUMBER  driverchange  DRIVER_SESSION  LAP_NUMBER\n",
       "42             1         False               1          43\n",
       "43             1         False               1          44\n",
       "44             1         False               1          45\n",
       "45             2          True               1          46\n",
       "46             2         False               1          47\n",
       "47             2         False               1          48"
      ]
     },
     "execution_count": 25,
     "metadata": {},
     "output_type": "execute_result"
    }
   ],
   "source": [
    "laptimes['DRIVER_SESSION'] = laptimes.groupby(['NUMBER', 'DRIVER_NUMBER'])['driverchange'].cumsum().astype(int)\n",
    "\n",
    "#Preview\n",
    "laptimes[['DRIVER_NUMBER', 'driverchange','DRIVER_SESSION','LAP_NUMBER']][42:48]"
   ]
  },
  {
   "cell_type": "markdown",
   "metadata": {},
   "source": [
    "#### Car Stint\n",
    "\n",
    "If we define a *car stint* as a period in between pit events, irrespective of driver, we can calculate it by simply by counting the number of pit event flags associated with the car."
   ]
  },
  {
   "cell_type": "code",
   "execution_count": 26,
   "metadata": {},
   "outputs": [
    {
     "data": {
      "text/html": [
       "<div>\n",
       "<style scoped>\n",
       "    .dataframe tbody tr th:only-of-type {\n",
       "        vertical-align: middle;\n",
       "    }\n",
       "\n",
       "    .dataframe tbody tr th {\n",
       "        vertical-align: top;\n",
       "    }\n",
       "\n",
       "    .dataframe thead th {\n",
       "        text-align: right;\n",
       "    }\n",
       "</style>\n",
       "<table border=\"1\" class=\"dataframe\">\n",
       "  <thead>\n",
       "    <tr style=\"text-align: right;\">\n",
       "      <th></th>\n",
       "      <th>CROSSING_FINISH_LINE_IN_PIT</th>\n",
       "      <th>INLAP</th>\n",
       "      <th>OUTLAP</th>\n",
       "      <th>CAR_STINT</th>\n",
       "    </tr>\n",
       "  </thead>\n",
       "  <tbody>\n",
       "    <tr>\n",
       "      <th>0</th>\n",
       "      <td>NaN</td>\n",
       "      <td>False</td>\n",
       "      <td>True</td>\n",
       "      <td>1</td>\n",
       "    </tr>\n",
       "    <tr>\n",
       "      <th>1</th>\n",
       "      <td>NaN</td>\n",
       "      <td>False</td>\n",
       "      <td>False</td>\n",
       "      <td>1</td>\n",
       "    </tr>\n",
       "    <tr>\n",
       "      <th>2</th>\n",
       "      <td>B</td>\n",
       "      <td>True</td>\n",
       "      <td>False</td>\n",
       "      <td>1</td>\n",
       "    </tr>\n",
       "    <tr>\n",
       "      <th>3</th>\n",
       "      <td>NaN</td>\n",
       "      <td>False</td>\n",
       "      <td>True</td>\n",
       "      <td>2</td>\n",
       "    </tr>\n",
       "    <tr>\n",
       "      <th>4</th>\n",
       "      <td>NaN</td>\n",
       "      <td>False</td>\n",
       "      <td>False</td>\n",
       "      <td>2</td>\n",
       "    </tr>\n",
       "  </tbody>\n",
       "</table>\n",
       "</div>"
      ],
      "text/plain": [
       "  CROSSING_FINISH_LINE_IN_PIT  INLAP  OUTLAP  CAR_STINT\n",
       "0                         NaN  False    True          1\n",
       "1                         NaN  False   False          1\n",
       "2                           B   True   False          1\n",
       "3                         NaN  False    True          2\n",
       "4                         NaN  False   False          2"
      ]
     },
     "execution_count": 26,
     "metadata": {},
     "output_type": "execute_result"
    }
   ],
   "source": [
    "#Create a counter for each pit stop - the pit flag is entering pit at end of stint\n",
    "#  so a new stint applies on the lap after a pit\n",
    "#Find the car stint based on count of pit stops\n",
    "laptimes['CAR_STINT'] = laptimes.groupby('NUMBER')['OUTLAP'].cumsum().astype(int)\n",
    "\n",
    "laptimes[['CROSSING_FINISH_LINE_IN_PIT', 'INLAP', 'OUTLAP', 'CAR_STINT']].head()"
   ]
  },
  {
   "cell_type": "markdown",
   "metadata": {},
   "source": [
    "#### Driver Stint\n",
    "\n",
    "Defining a *driver stint* as a stint between pit events for a particular driver, we can generate a *driver stint* number for each driver as a cumulative count of outlap flags associated with the driver.\n",
    "\n",
    "To provide a unique stint identifier, we can derive another column that identifies the car, driver and driver stint number:"
   ]
  },
  {
   "cell_type": "code",
   "execution_count": 27,
   "metadata": {},
   "outputs": [
    {
     "data": {
      "text/html": [
       "<div>\n",
       "<style scoped>\n",
       "    .dataframe tbody tr th:only-of-type {\n",
       "        vertical-align: middle;\n",
       "    }\n",
       "\n",
       "    .dataframe tbody tr th {\n",
       "        vertical-align: top;\n",
       "    }\n",
       "\n",
       "    .dataframe thead th {\n",
       "        text-align: right;\n",
       "    }\n",
       "</style>\n",
       "<table border=\"1\" class=\"dataframe\">\n",
       "  <thead>\n",
       "    <tr style=\"text-align: right;\">\n",
       "      <th></th>\n",
       "      <th>CAR_DRIVER</th>\n",
       "      <th>CROSSING_FINISH_LINE_IN_PIT</th>\n",
       "      <th>INLAP</th>\n",
       "      <th>CAR_STINT</th>\n",
       "      <th>DRIVER_STINT</th>\n",
       "      <th>CAR_DRIVER_STINT</th>\n",
       "    </tr>\n",
       "  </thead>\n",
       "  <tbody>\n",
       "    <tr>\n",
       "      <th>4212</th>\n",
       "      <td>98_2</td>\n",
       "      <td>NaN</td>\n",
       "      <td>False</td>\n",
       "      <td>7</td>\n",
       "      <td>1</td>\n",
       "      <td>98_2_1</td>\n",
       "    </tr>\n",
       "    <tr>\n",
       "      <th>4213</th>\n",
       "      <td>98_2</td>\n",
       "      <td>NaN</td>\n",
       "      <td>False</td>\n",
       "      <td>7</td>\n",
       "      <td>1</td>\n",
       "      <td>98_2_1</td>\n",
       "    </tr>\n",
       "    <tr>\n",
       "      <th>4214</th>\n",
       "      <td>98_2</td>\n",
       "      <td>NaN</td>\n",
       "      <td>False</td>\n",
       "      <td>7</td>\n",
       "      <td>1</td>\n",
       "      <td>98_2_1</td>\n",
       "    </tr>\n",
       "    <tr>\n",
       "      <th>4215</th>\n",
       "      <td>98_2</td>\n",
       "      <td>NaN</td>\n",
       "      <td>False</td>\n",
       "      <td>7</td>\n",
       "      <td>1</td>\n",
       "      <td>98_2_1</td>\n",
       "    </tr>\n",
       "    <tr>\n",
       "      <th>4216</th>\n",
       "      <td>98_2</td>\n",
       "      <td>NaN</td>\n",
       "      <td>False</td>\n",
       "      <td>7</td>\n",
       "      <td>1</td>\n",
       "      <td>98_2_1</td>\n",
       "    </tr>\n",
       "    <tr>\n",
       "      <th>4217</th>\n",
       "      <td>98_2</td>\n",
       "      <td>B</td>\n",
       "      <td>True</td>\n",
       "      <td>7</td>\n",
       "      <td>1</td>\n",
       "      <td>98_2_1</td>\n",
       "    </tr>\n",
       "    <tr>\n",
       "      <th>4218</th>\n",
       "      <td>98_2</td>\n",
       "      <td>NaN</td>\n",
       "      <td>False</td>\n",
       "      <td>8</td>\n",
       "      <td>2</td>\n",
       "      <td>98_2_2</td>\n",
       "    </tr>\n",
       "    <tr>\n",
       "      <th>4219</th>\n",
       "      <td>98_2</td>\n",
       "      <td>NaN</td>\n",
       "      <td>False</td>\n",
       "      <td>8</td>\n",
       "      <td>2</td>\n",
       "      <td>98_2_2</td>\n",
       "    </tr>\n",
       "    <tr>\n",
       "      <th>4220</th>\n",
       "      <td>98_2</td>\n",
       "      <td>NaN</td>\n",
       "      <td>False</td>\n",
       "      <td>8</td>\n",
       "      <td>2</td>\n",
       "      <td>98_2_2</td>\n",
       "    </tr>\n",
       "    <tr>\n",
       "      <th>4221</th>\n",
       "      <td>98_2</td>\n",
       "      <td>NaN</td>\n",
       "      <td>False</td>\n",
       "      <td>8</td>\n",
       "      <td>2</td>\n",
       "      <td>98_2_2</td>\n",
       "    </tr>\n",
       "  </tbody>\n",
       "</table>\n",
       "</div>"
      ],
      "text/plain": [
       "     CAR_DRIVER CROSSING_FINISH_LINE_IN_PIT  INLAP  CAR_STINT  DRIVER_STINT  \\\n",
       "4212       98_2                         NaN  False          7             1   \n",
       "4213       98_2                         NaN  False          7             1   \n",
       "4214       98_2                         NaN  False          7             1   \n",
       "4215       98_2                         NaN  False          7             1   \n",
       "4216       98_2                         NaN  False          7             1   \n",
       "4217       98_2                           B   True          7             1   \n",
       "4218       98_2                         NaN  False          8             2   \n",
       "4219       98_2                         NaN  False          8             2   \n",
       "4220       98_2                         NaN  False          8             2   \n",
       "4221       98_2                         NaN  False          8             2   \n",
       "\n",
       "     CAR_DRIVER_STINT  \n",
       "4212           98_2_1  \n",
       "4213           98_2_1  \n",
       "4214           98_2_1  \n",
       "4215           98_2_1  \n",
       "4216           98_2_1  \n",
       "4217           98_2_1  \n",
       "4218           98_2_2  \n",
       "4219           98_2_2  \n",
       "4220           98_2_2  \n",
       "4221           98_2_2  "
      ]
     },
     "execution_count": 27,
     "metadata": {},
     "output_type": "execute_result"
    }
   ],
   "source": [
    "#Driver stint - a cumulative count for each driver of their stints\n",
    "laptimes['DRIVER_STINT'] = laptimes.groupby('CAR_DRIVER')['OUTLAP'].cumsum().astype(int)\n",
    "\n",
    "#Let's also derive another identifier - CAR_DRIVER_STINT\n",
    "laptimes['CAR_DRIVER_STINT'] = laptimes['CAR_DRIVER'] + '_' + laptimes['DRIVER_STINT'].astype(str)\n",
    "\n",
    "laptimes[['CAR_DRIVER', 'CROSSING_FINISH_LINE_IN_PIT', 'INLAP',\n",
    "          'CAR_STINT', 'DRIVER_STINT', 'CAR_DRIVER_STINT']].tail(20).head(10)\n"
   ]
  },
  {
   "cell_type": "markdown",
   "metadata": {},
   "source": [
    "#### Driver Session Stint\n",
    "\n",
    "Where a driver pits within a driver session, we may want to identify the driver stints within a particular session. This can be calculated as a cumulative sum of outlap flags over driver sessions:"
   ]
  },
  {
   "cell_type": "code",
   "execution_count": 28,
   "metadata": {},
   "outputs": [
    {
     "data": {
      "text/html": [
       "<div>\n",
       "<style scoped>\n",
       "    .dataframe tbody tr th:only-of-type {\n",
       "        vertical-align: middle;\n",
       "    }\n",
       "\n",
       "    .dataframe tbody tr th {\n",
       "        vertical-align: top;\n",
       "    }\n",
       "\n",
       "    .dataframe thead th {\n",
       "        text-align: right;\n",
       "    }\n",
       "</style>\n",
       "<table border=\"1\" class=\"dataframe\">\n",
       "  <thead>\n",
       "    <tr style=\"text-align: right;\">\n",
       "      <th></th>\n",
       "      <th>CAR_DRIVER</th>\n",
       "      <th>CROSSING_FINISH_LINE_IN_PIT</th>\n",
       "      <th>INLAP</th>\n",
       "      <th>CAR_STINT</th>\n",
       "      <th>DRIVER_STINT</th>\n",
       "      <th>CAR_DRIVER_STINT</th>\n",
       "      <th>DRIVER_SESSION_STINT</th>\n",
       "    </tr>\n",
       "  </thead>\n",
       "  <tbody>\n",
       "    <tr>\n",
       "      <th>0</th>\n",
       "      <td>1_1</td>\n",
       "      <td>NaN</td>\n",
       "      <td>False</td>\n",
       "      <td>1</td>\n",
       "      <td>1</td>\n",
       "      <td>1_1_1</td>\n",
       "      <td>1</td>\n",
       "    </tr>\n",
       "    <tr>\n",
       "      <th>1</th>\n",
       "      <td>1_1</td>\n",
       "      <td>NaN</td>\n",
       "      <td>False</td>\n",
       "      <td>1</td>\n",
       "      <td>1</td>\n",
       "      <td>1_1_1</td>\n",
       "      <td>1</td>\n",
       "    </tr>\n",
       "    <tr>\n",
       "      <th>2</th>\n",
       "      <td>1_1</td>\n",
       "      <td>B</td>\n",
       "      <td>True</td>\n",
       "      <td>1</td>\n",
       "      <td>1</td>\n",
       "      <td>1_1_1</td>\n",
       "      <td>1</td>\n",
       "    </tr>\n",
       "    <tr>\n",
       "      <th>3</th>\n",
       "      <td>1_1</td>\n",
       "      <td>NaN</td>\n",
       "      <td>False</td>\n",
       "      <td>2</td>\n",
       "      <td>2</td>\n",
       "      <td>1_1_2</td>\n",
       "      <td>2</td>\n",
       "    </tr>\n",
       "    <tr>\n",
       "      <th>4</th>\n",
       "      <td>1_1</td>\n",
       "      <td>NaN</td>\n",
       "      <td>False</td>\n",
       "      <td>2</td>\n",
       "      <td>2</td>\n",
       "      <td>1_1_2</td>\n",
       "      <td>2</td>\n",
       "    </tr>\n",
       "  </tbody>\n",
       "</table>\n",
       "</div>"
      ],
      "text/plain": [
       "  CAR_DRIVER CROSSING_FINISH_LINE_IN_PIT  INLAP  CAR_STINT  DRIVER_STINT  \\\n",
       "0        1_1                         NaN  False          1             1   \n",
       "1        1_1                         NaN  False          1             1   \n",
       "2        1_1                           B   True          1             1   \n",
       "3        1_1                         NaN  False          2             2   \n",
       "4        1_1                         NaN  False          2             2   \n",
       "\n",
       "  CAR_DRIVER_STINT  DRIVER_SESSION_STINT  \n",
       "0            1_1_1                     1  \n",
       "1            1_1_1                     1  \n",
       "2            1_1_1                     1  \n",
       "3            1_1_2                     2  \n",
       "4            1_1_2                     2  "
      ]
     },
     "execution_count": 28,
     "metadata": {},
     "output_type": "execute_result"
    }
   ],
   "source": [
    "#Driver session stint - a count for each driver of their stints within a particular driving session\n",
    "laptimes['DRIVER_SESSION_STINT'] = laptimes.groupby(['CAR_DRIVER','DRIVER_SESSION'])['OUTLAP'].cumsum().astype(int)\n",
    "\n",
    "laptimes[['CAR_DRIVER', 'CROSSING_FINISH_LINE_IN_PIT',\n",
    "          'INLAP','CAR_STINT', 'DRIVER_STINT', 'CAR_DRIVER_STINT',\n",
    "          'DRIVER_SESSION_STINT']].head()\n"
   ]
  },
  {
   "cell_type": "markdown",
   "metadata": {},
   "source": [
    "## Lap Counts Within Stints\n",
    "\n",
    "It may be convenient to keep track of lap counts within each of the stint types already identified.\n",
    "\n",
    "We can do this by running cumulative counts on rows within specified row groupings.\n",
    "\n",
    "Lap counts we can easily tally include counts of:\n",
    "\n",
    "- *lap count by car stint*: the number of laps between each pit stop;\n",
    "- *lap count by driver*: the nunber of laps driven by each driver;\n",
    "- *lap count by driver session*: the number of laps driven within each driver session;\n",
    "- *lap count by driver stint*: the number of laps driven by a driver between consecutive pit stops;"
   ]
  },
  {
   "cell_type": "code",
   "execution_count": 29,
   "metadata": {},
   "outputs": [
    {
     "data": {
      "text/html": [
       "<div>\n",
       "<style scoped>\n",
       "    .dataframe tbody tr th:only-of-type {\n",
       "        vertical-align: middle;\n",
       "    }\n",
       "\n",
       "    .dataframe tbody tr th {\n",
       "        vertical-align: top;\n",
       "    }\n",
       "\n",
       "    .dataframe thead th {\n",
       "        text-align: right;\n",
       "    }\n",
       "</style>\n",
       "<table border=\"1\" class=\"dataframe\">\n",
       "  <thead>\n",
       "    <tr style=\"text-align: right;\">\n",
       "      <th></th>\n",
       "      <th>LAPS_CAR_STINT</th>\n",
       "      <th>LAPS_DRIVER</th>\n",
       "      <th>LAPS_DRIVER_SESSION</th>\n",
       "      <th>LAPS_DRIVER_STINT</th>\n",
       "    </tr>\n",
       "  </thead>\n",
       "  <tbody>\n",
       "    <tr>\n",
       "      <th>4227</th>\n",
       "      <td>10</td>\n",
       "      <td>16</td>\n",
       "      <td>16</td>\n",
       "      <td>10</td>\n",
       "    </tr>\n",
       "    <tr>\n",
       "      <th>4228</th>\n",
       "      <td>11</td>\n",
       "      <td>17</td>\n",
       "      <td>17</td>\n",
       "      <td>11</td>\n",
       "    </tr>\n",
       "    <tr>\n",
       "      <th>4229</th>\n",
       "      <td>12</td>\n",
       "      <td>18</td>\n",
       "      <td>18</td>\n",
       "      <td>12</td>\n",
       "    </tr>\n",
       "    <tr>\n",
       "      <th>4230</th>\n",
       "      <td>13</td>\n",
       "      <td>19</td>\n",
       "      <td>19</td>\n",
       "      <td>13</td>\n",
       "    </tr>\n",
       "    <tr>\n",
       "      <th>4231</th>\n",
       "      <td>14</td>\n",
       "      <td>20</td>\n",
       "      <td>20</td>\n",
       "      <td>14</td>\n",
       "    </tr>\n",
       "  </tbody>\n",
       "</table>\n",
       "</div>"
      ],
      "text/plain": [
       "      LAPS_CAR_STINT  LAPS_DRIVER  LAPS_DRIVER_SESSION  LAPS_DRIVER_STINT\n",
       "4227              10           16                   16                 10\n",
       "4228              11           17                   17                 11\n",
       "4229              12           18                   18                 12\n",
       "4230              13           19                   19                 13\n",
       "4231              14           20                   20                 14"
      ]
     },
     "execution_count": 29,
     "metadata": {},
     "output_type": "execute_result"
    }
   ],
   "source": [
    "# lap count by car stint - that is, between each pit stop\n",
    "laptimes['LAPS_CAR_STINT'] = laptimes.groupby(['NUMBER','CAR_STINT']).cumcount()+1\n",
    "\n",
    "#lap count by driver\n",
    "laptimes['LAPS_DRIVER'] = laptimes.groupby('CAR_DRIVER').cumcount()+1\n",
    "\n",
    "#lap count by driver session\n",
    "laptimes['LAPS_DRIVER_SESSION'] = laptimes.groupby(['CAR_DRIVER','DRIVER_SESSION']).cumcount()+1\n",
    "\n",
    "#lap count by driver stint\n",
    "laptimes['LAPS_DRIVER_STINT'] = laptimes.groupby(['CAR_DRIVER','DRIVER_STINT']).cumcount()+1\n",
    "\n",
    "laptimes[['LAPS_CAR_STINT', 'LAPS_DRIVER',\n",
    "          'LAPS_DRIVER_SESSION', 'LAPS_DRIVER_STINT']].tail()\n"
   ]
  },
  {
   "cell_type": "markdown",
   "metadata": {},
   "source": [
    "## Basic Individual Driver Reports\n",
    "\n",
    "Using the stint indentifier and stint lap counts, we should be able to start creating reports by driver by faceting on individual drivers.\n",
    "\n",
    "One way of exploring the data is to use an interactive table widget, such as the `qgrid` widget, that allows us to filter the rows displayed in an interactive table directly from an interactive table UI.\n",
    "\n",
    "*Note: it might also be interesting to do some datasette demos with particular facets, which make it easy to select teams, drivers, etc.*"
   ]
  },
  {
   "cell_type": "code",
   "execution_count": 30,
   "metadata": {},
   "outputs": [
    {
     "data": {
      "application/vnd.jupyter.widget-view+json": {
       "model_id": "7a4782f8e6ea4d47bcc253da2356e66e",
       "version_major": 2,
       "version_minor": 0
      },
      "text/plain": [
       "QgridWidget(grid_options={'fullWidthRows': True, 'syncColumnCellResize': True, 'forceFitColumns': True, 'defau…"
      ]
     },
     "metadata": {},
     "output_type": "display_data"
    }
   ],
   "source": [
    "#!pip3 install qgrid\n",
    "#!jupyter nbextension enable --py --sys-prefix qgrid\n",
    "import qgrid\n",
    "qgrid.show_grid(laptimes[['LAP_NUMBER', 'NUMBER', 'CAR_DRIVER',  'INLAP', 'CAR_STINT', \n",
    "                          'CAR_DRIVER_STINT', 'DRIVER_STINT', 'DRIVER_SESSION', 'DRIVER_SESSION_STINT']])"
   ]
  },
  {
   "cell_type": "markdown",
   "metadata": {},
   "source": [
    "## Simple Stint Reports\n",
    "\n",
    "Using the various stint details, we can pull together interactive dashboard style views that provide a simple set of widgets to allow us to explore times by car / driver."
   ]
  },
  {
   "cell_type": "code",
   "execution_count": 31,
   "metadata": {},
   "outputs": [],
   "source": [
    "import ipywidgets as widgets\n",
    "from ipywidgets import interact"
   ]
  },
  {
   "cell_type": "markdown",
   "metadata": {},
   "source": [
    "For example, we can .. TO DO"
   ]
  },
  {
   "cell_type": "code",
   "execution_count": 32,
   "metadata": {},
   "outputs": [
    {
     "data": {
      "application/vnd.jupyter.widget-view+json": {
       "model_id": "6987bc52ffd54e49b99bfac57d1faa5f",
       "version_major": 2,
       "version_minor": 0
      },
      "text/plain": [
       "interactive(children=(Dropdown(description='Car:', options=('1', '11', '17', '26', '28', '29', '3', '31', '36'…"
      ]
     },
     "metadata": {},
     "output_type": "display_data"
    }
   ],
   "source": [
    "cars = widgets.Dropdown(\n",
    "    options=laptimes['NUMBER'].unique(), # value='1',\n",
    "    description='Car:', disabled=False )\n",
    "\n",
    "drivers = widgets.Dropdown(\n",
    "    options=laptimes[laptimes['NUMBER']==cars.value]['CAR_DRIVER'].unique(),\n",
    "    description='Driver:', disabled=False)\n",
    "\n",
    "driversessions = widgets.Dropdown(\n",
    "    options=laptimes[laptimes['CAR_DRIVER']==drivers.value]['DRIVER_SESSION'].unique(),\n",
    "    description='Session:', disabled=False)\n",
    "\n",
    "driverstints = widgets.Dropdown(\n",
    "    options=laptimes[laptimes['DRIVER_SESSION']==driversessions.value]['DRIVER_SESSION_STINT'].unique(),\n",
    "    description='Stint:', disabled=False)\n",
    "\n",
    "def update_drivers(*args):\n",
    "    driverlist = laptimes[laptimes['NUMBER']==cars.value]['CAR_DRIVER'].unique()\n",
    "    drivers.options = driverlist\n",
    "    \n",
    "def update_driver_session(*args):\n",
    "    driversessionlist = laptimes[(laptimes['CAR_DRIVER']==drivers.value)]['DRIVER_SESSION'].unique()\n",
    "    driversessions.options = driversessionlist\n",
    "    \n",
    "def update_driver_stint(*args):\n",
    "    driverstintlist = laptimes[(laptimes['CAR_DRIVER']==drivers.value) &\n",
    "                               (laptimes['DRIVER_SESSION']==driversessions.value)]['DRIVER_SESSION_STINT'].unique()\n",
    "    driverstints.options = driverstintlist\n",
    "    \n",
    "cars.observe(update_drivers, 'value')\n",
    "drivers.observe(update_driver_session,'value')\n",
    "driversessions.observe(update_driver_stint,'value')\n",
    "\n",
    "def laptime_table(car, driver, driversession, driverstint):\n",
    "    #just basic for now...\n",
    "    display(laptimes[(laptimes['CAR_DRIVER']==driver) &\n",
    "                     (laptimes['DRIVER_SESSION']==driversession) &\n",
    "                     (laptimes['DRIVER_SESSION_STINT']==driverstint) ][['CAR_DRIVER', 'DRIVER_SESSION',\n",
    "                                                         'DRIVER_STINT', 'DRIVER_SESSION_STINT',\n",
    "                                                         'LAP_NUMBER','LAP_TIME', 'LAP_TIME_S']])\n",
    "    \n",
    "interact(laptime_table,\n",
    "         car=cars, driver=drivers,\n",
    "         driversession=driversessions, driverstint=driverstints);\n"
   ]
  },
  {
   "cell_type": "markdown",
   "metadata": {},
   "source": [
    "We can also plot a simple laptime charts over sets of laptimes, such as the laptimes associated with a particular driver's stint.\n",
    "\n",
    "*In and of themselves, without comparison to laptimes of other drivers at the same time within a race, these numbers are not necessarily very informative. However, these data manipulations may prove useful building blocks for generating rather more informative reports.*"
   ]
  },
  {
   "cell_type": "code",
   "execution_count": 33,
   "metadata": {},
   "outputs": [
    {
     "data": {
      "application/vnd.jupyter.widget-view+json": {
       "model_id": "a3592661c9ea48ddb824808d12d2536f",
       "version_major": 2,
       "version_minor": 0
      },
      "text/plain": [
       "interactive(children=(Dropdown(description='Car:', options=('1', '11', '17', '26', '28', '29', '3', '31', '36'…"
      ]
     },
     "metadata": {},
     "output_type": "display_data"
    }
   ],
   "source": [
    "def laptime_chart(car, driver, driversession, driverstint):\n",
    "    tmp_df = laptimes[(laptimes['CAR_DRIVER']==driver) &\n",
    "                     (laptimes['DRIVER_SESSION']==driversession) &\n",
    "                     (laptimes['DRIVER_SESSION_STINT']==driverstint) ][['CAR_DRIVER', 'DRIVER_SESSION',\n",
    "                                                         'DRIVER_STINT', 'DRIVER_SESSION_STINT',\n",
    "                                                         'LAP_NUMBER','LAP_TIME', 'LAP_TIME_S']]['LAP_TIME_S'].reset_index(drop=True)\n",
    "    if not tmp_df.empty:\n",
    "        tmp_df.plot()\n",
    "        \n",
    "interact(laptime_chart,\n",
    "         car=cars, driver=drivers,\n",
    "         driversession=driversessions, driverstint=driverstints);\n"
   ]
  },
  {
   "cell_type": "markdown",
   "metadata": {},
   "source": [
    "Slightly more useful perhaps, for a particular driver, we can compare the laptime evolution across all their driver sessions.\n",
    "\n",
    "We can optionally toggle the display of inlaps and outlaps which are likely to have laptimes that differ from flying lap laptimes. "
   ]
  },
  {
   "cell_type": "code",
   "execution_count": 34,
   "metadata": {},
   "outputs": [
    {
     "data": {
      "application/vnd.jupyter.widget-view+json": {
       "model_id": "fd79f0e08e8a43a4b42e0a86bd87e7c4",
       "version_major": 2,
       "version_minor": 0
      },
      "text/plain": [
       "interactive(children=(Dropdown(description='Car:', options=('1', '11', '17', '26', '28', '29', '3', '31', '36'…"
      ]
     },
     "metadata": {},
     "output_type": "display_data"
    }
   ],
   "source": [
    "#Also add check boxes to suppress inlap and outlap?\n",
    "inlaps = widgets.Checkbox( value=True, description='Inlap',\n",
    "                           disabled=False )\n",
    "\n",
    "outlaps = widgets.Checkbox( value=True, description='Outlap',\n",
    "                           disabled=False )\n",
    "\n",
    "\n",
    "#Plot laptimes by stint for a specified driver\n",
    "def laptime_charts(car, driver, driversession, inlap, outlap):\n",
    "    tmp_df = laptimes\n",
    "    \n",
    "    if not inlap:\n",
    "        tmp_df = tmp_df[~tmp_df['INLAP']]\n",
    "    if not outlap:\n",
    "        tmp_df = tmp_df[~tmp_df['OUTLAP']]\n",
    "        \n",
    "    tmp_df = tmp_df[(tmp_df['CAR_DRIVER']==driver) &\n",
    "                     (tmp_df['DRIVER_SESSION']==driversession) ].pivot(index='LAPS_DRIVER_STINT',\n",
    "                                                                       columns='DRIVER_SESSION_STINT', \n",
    "                                                                       values='LAP_TIME_S').reset_index(drop=True)\n",
    "    \n",
    "    if not tmp_df.empty:\n",
    "        tmp_df.plot()\n",
    "\n",
    "\n",
    "\n",
    "interact(laptime_charts,\n",
    "         car=cars, driver=drivers, driversession=driversessions,\n",
    "         inlap=inlaps, outlap=outlaps);\n",
    "\n"
   ]
  },
  {
   "cell_type": "markdown",
   "metadata": {},
   "source": [
    "## Simple Laptime Evolution Models\n",
    "\n",
    "Observation of laptime charts might reveal to us trends in laptime evolution that we can recognise by eye, such as periods where the laptime appears consistent or where the laptime appears to drop off at a consistent rate (that is, the laptime increases by the same amount each lap).\n",
    "\n",
    "If we can spot these trends *by eye*, can we also detect them using statistical analyses, and use numbers to characterise the patterns we see?\n",
    "\n",
    "An example of creating a simple model using some explicitly pulled out data."
   ]
  },
  {
   "cell_type": "code",
   "execution_count": 35,
   "metadata": {},
   "outputs": [
    {
     "data": {
      "text/plain": [
       "1966    161.049\n",
       "1967    157.612\n",
       "1968    155.005\n",
       "1969    153.755\n",
       "1970    153.441\n",
       "1971    153.001\n",
       "1972    154.286\n",
       "1973    153.666\n",
       "1974    153.946\n",
       "1975    153.746\n",
       "1976    153.142\n",
       "1977    153.546\n",
       "1978    153.825\n",
       "1979    154.792\n",
       "1980    152.768\n",
       "1981    153.556\n",
       "1982    157.151\n",
       "1983    159.646\n",
       "1984    157.560\n",
       "1985    172.857\n",
       "1986    215.284\n",
       "1987    300.466\n",
       "1988    231.624\n",
       "Name: LAP_TIME_S, dtype: float64"
      ]
     },
     "execution_count": 35,
     "metadata": {},
     "output_type": "execute_result"
    }
   ],
   "source": [
    "def sample_laptimes(df, driver,driversession,driversessionstint=None, inlap=False, outlap=False):\n",
    "    df = df[(df['CAR_DRIVER']==driver) & (df['DRIVER_SESSION']== driversession)]\n",
    "    if not inlap:\n",
    "        df = df[~df['INLAP']]\n",
    "    if not outlap:\n",
    "        df = df[~df['OUTLAP']]\n",
    "        \n",
    "    if driversessionstint:\n",
    "        return df[df['DRIVER_SESSION_STINT']==driversessionstint]['LAP_TIME_S']\n",
    "    \n",
    "    return df.pivot(index='LAPS_DRIVER_STINT',\n",
    "                    columns='DRIVER_SESSION_STINT',\n",
    "                    values='LAP_TIME_S').reset_index(drop=True)\n",
    "\n",
    "sample_laptimes(laptimes,'56_1', 1, 2)"
   ]
  },
  {
   "cell_type": "markdown",
   "metadata": {},
   "source": [
    "### Some Simple Linear Models\n",
    "\n",
    "The `seaborn` statistical charts package can extract and plot models directly from a provided dataset.\n",
    "\n",
    "For example, the `.lmplot()` (\"linear model plot\") accepts two data columns from a dataset and then renders the model, along wit an indication of confidence limits."
   ]
  },
  {
   "cell_type": "code",
   "execution_count": 36,
   "metadata": {},
   "outputs": [
    {
     "data": {
      "image/png": "[encoded data removed]",
      "text/plain": [
       "<Figure size 360x360 with 1 Axes>"
      ]
     },
     "metadata": {
      "needs_background": "light"
     },
     "output_type": "display_data"
    }
   ],
   "source": [
    "import seaborn as sns\n",
    "\n",
    "sns.lmplot(x='index', y='LAP_TIME_S',\n",
    "           data=sample_laptimes(laptimes,'56_1', 1, 2).reset_index());\n"
   ]
  },
  {
   "cell_type": "markdown",
   "metadata": {},
   "source": [
    "We can also increase the `order` of the fit line; the `ci` parameter toggles the confidence bounds display:"
   ]
  },
  {
   "cell_type": "code",
   "execution_count": 37,
   "metadata": {},
   "outputs": [
    {
     "data": {
      "image/png": "[encoded data removed]",
      "text/plain": [
       "<Figure size 360x360 with 1 Axes>"
      ]
     },
     "metadata": {
      "needs_background": "light"
     },
     "output_type": "display_data"
    }
   ],
   "source": [
    "sns.lmplot(x='index', y='LAP_TIME_S',\n",
    "           data=sample_laptimes(laptimes,'56_1', 1, 2).reset_index(),\n",
    "           order = 2, ci=None);\n"
   ]
  },
  {
   "cell_type": "markdown",
   "metadata": {},
   "source": [
    "### Obtaining Simple Linear Model Parameters\n",
    "\n",
    "Being able to plot linear models directly over a dataset is graphically useful, but what if we want ot get hold of the numerical model parameters?"
   ]
  },
  {
   "cell_type": "code",
   "execution_count": null,
   "metadata": {},
   "outputs": [],
   "source": [
    "#!pip3 install --upgrade statsmodels\n",
    "#Simple model\n",
    "import statsmodels.api as sm\n",
    "\n",
    "\n",
    "Y = sample_laptimes(laptimes,'56_1', 1, 2).reset_index(drop=True)\n",
    "X = Y.index.values\n",
    "X = sm.add_constant(X)\n",
    "\n",
    "model = sm.OLS(Y, X).fit()\n",
    "predictions = model.predict(X) \n",
    "\n",
    "print_model = model.summary()\n",
    "print(print_model)"
   ]
  },
  {
   "cell_type": "code",
   "execution_count": null,
   "metadata": {},
   "outputs": [],
   "source": [
    "p = model.params\n",
    "\n",
    "ax = pd.DataFrame(Y).reset_index().plot(kind='scatter', x='index', y='LAP_TIME_S')\n",
    "ax.plot(X, p.const + p.x1 * X);"
   ]
  },
  {
   "cell_type": "code",
   "execution_count": null,
   "metadata": {},
   "outputs": [],
   "source": [
    "import matplotlib.pyplot as plt\n",
    "\n",
    "# scatter-plot data\n",
    "fig, ax = plt.subplots()\n",
    "fig = sm.graphics.plot_fit(model, 0, ax=ax)"
   ]
  },
  {
   "cell_type": "markdown",
   "metadata": {},
   "source": [
    "### Piecewise Linear Models\n",
    "\n",
    "Sometimes we may be able to fit a dataset quite accurately using a simple first order linear model or second order model, but in other cases a more accurate fit may come from combining several first order linear models over different parts of the data, a so-called *piecewise linear model*.\n",
    "\n",
    "There are a couple of Python packages out there that provide support for this, including [`DataDog/piecewise`](https://github.com/DataDog/piecewise) and the more acticely maintained [*piecewise_linear_fit_py* (`pwlf`)](https://github.com/cjekel/piecewise_linear_fit_py) [[docs](https://jekel.me/piecewise_linear_fit_py/)].\n",
    "\n",
    "Let's explore the `pwlf` model by pulling out a couple of data columns used in the above charts:"
   ]
  },
  {
   "cell_type": "code",
   "execution_count": 80,
   "metadata": {},
   "outputs": [],
   "source": [
    "data = sample_laptimes(laptimes,'56_1', 1, 2).reset_index()\n",
    "x = data['index']\n",
    "y = data['LAP_TIME_S']"
   ]
  },
  {
   "cell_type": "markdown",
   "metadata": {},
   "source": [
    "We can create a model using a specified number of linear segments, in this case, 2. Optionally, we could provide an indication of where we want the breaks to fall along the x-axis, although by default the `.fit()` method will try to find the \"best fit\" break point(s). "
   ]
  },
  {
   "cell_type": "code",
   "execution_count": 82,
   "metadata": {},
   "outputs": [],
   "source": [
    "#!pip3 install --upgrade scipy\n",
    "#!pip3 install pwlf\n",
    "import pwlf\n",
    "import numpy as np\n",
    "\n",
    "pwlf_fit = pwlf.PiecewiseLinFit(x, y)\n",
    "# fit the data using two line segments\n",
    "pwlf_fit_2_segments = pwlf_fit.fit(2)"
   ]
  },
  {
   "cell_type": "markdown",
   "metadata": {},
   "source": [
    "We can view the model by plotting points predicted using the fitted model for given x-values over the range in the original data:"
   ]
  },
  {
   "cell_type": "code",
   "execution_count": 83,
   "metadata": {},
   "outputs": [
    {
     "data": {
      "image/png": "[encoded data removed]",
      "text/plain": [
       "<Figure size 432x288 with 1 Axes>"
      ]
     },
     "metadata": {
      "needs_background": "light"
     },
     "output_type": "display_data"
    }
   ],
   "source": [
    "import matplotlib.pyplot as plt\n",
    "\n",
    "# From the docs, generate a prediction\n",
    "xHat = np.linspace(min(x), max(x), num=10000)\n",
    "yHat = pwlf_fit.predict(xHat)\n",
    "\n",
    "# Plot the results\n",
    "plt.figure()\n",
    "plt.plot(x, y, 'o')\n",
    "plt.plot(xHat, yHat, '-')\n",
    "plt.show()"
   ]
  },
  {
   "cell_type": "markdown",
   "metadata": {},
   "source": [
    "We can also review the model parameters:"
   ]
  },
  {
   "cell_type": "code",
   "execution_count": 79,
   "metadata": {},
   "outputs": [
    {
     "data": {
      "text/plain": [
       "(array([-0.04954141, 27.57369258]),\n",
       " array([   252.70466964, -54545.79524728]),\n",
       " array([1966.        , 1983.78292549, 1988.        ]))"
      ]
     },
     "execution_count": 79,
     "metadata": {},
     "output_type": "execute_result"
    }
   ],
   "source": [
    "pwlf_fit.slopes, pwlf_fit.intercepts, pwlf_fit.fit_breaks"
   ]
  },
  {
   "cell_type": "markdown",
   "metadata": {},
   "source": [
    "## Simple Race Position Calculations\n",
    "\n",
    "Some simple demonstrations of calculating track position data.\n",
    "\n",
    "Naively, calculate position based on lap number and accumulated time (there may be complications based on whether the lead car records a laptime from pit entry...)."
   ]
  },
  {
   "cell_type": "code",
   "execution_count": null,
   "metadata": {},
   "outputs": [],
   "source": [
    "#Find accumulated time in seconds\n",
    "laptimes['ELAPSED_S']=laptimes['ELAPSED'].apply(getTime)\n",
    "\n",
    "\n",
    "#Check\n",
    "laptimes['CHECK_ELAPSED_S'] = laptimes.groupby('NUMBER')['LAP_TIME_S'].cumsum()\n",
    "\n",
    "laptimes[['ELAPSED','ELAPSED_S','CHECK_ELAPSED_S']].tail()"
   ]
  },
  {
   "cell_type": "markdown",
   "metadata": {},
   "source": [
    "We can use the position to identify the leader on each lap and from that a count of leadlap number for each car:"
   ]
  },
  {
   "cell_type": "code",
   "execution_count": null,
   "metadata": {},
   "outputs": [],
   "source": [
    "#Find position based on accumulated laptime\n",
    "laptimes = laptimes.sort_values('ELAPSED_S')\n",
    "laptimes['POS'] = laptimes.groupby('LAP_NUMBER')['ELAPSED_S'].rank()\n",
    "\n",
    "#Find leader naively\n",
    "laptimes['leader'] = laptimes['POS']==1\n",
    "\n",
    "#Find lead lap number\n",
    "laptimes['LEAD_LAP_NUMBER'] = laptimes['leader'].cumsum()\n",
    "\n",
    "laptimes[['LAP_NUMBER','LEAD_LAP_NUMBER']].tail()"
   ]
  },
  {
   "cell_type": "markdown",
   "metadata": {},
   "source": [
    "## Simple Race Position Chart - Top 10 At End\n",
    "\n",
    "Find last lap number, then get top 10 on that lap."
   ]
  },
  {
   "cell_type": "code",
   "execution_count": null,
   "metadata": {},
   "outputs": [],
   "source": [
    "LAST_LAP = laptimes['LEAD_LAP_NUMBER'].max()\n",
    "LAST_LAP"
   ]
  },
  {
   "cell_type": "code",
   "execution_count": null,
   "metadata": {},
   "outputs": [],
   "source": [
    "#Find top 10 at end\n",
    "cols = ['NUMBER','TEAM', 'DRIVER_NAME', 'CLASS','LAP_NUMBER','ELAPSED']\n",
    "top10 = laptimes[laptimes['LEAD_LAP_NUMBER']==LAST_LAP].sort_values(['LEAD_LAP_NUMBER', 'POS'])[cols].head(10).reset_index(drop=True)\n",
    "top10.index += 1\n",
    "top10"
   ]
  },
  {
   "cell_type": "code",
   "execution_count": null,
   "metadata": {},
   "outputs": [],
   "source": []
  }
 ],
 "metadata": {
  "kernelspec": {
   "display_name": "Python 3",
   "language": "python",
   "name": "python3"
  },
  "language_info": {
   "codemirror_mode": {
    "name": "ipython",
    "version": 3
   },
   "file_extension": ".py",
   "mimetype": "text/x-python",
   "name": "python",
   "nbconvert_exporter": "python",
   "pygments_lexer": "ipython3",
   "version": "3.7.3"
  }
 },
 "nbformat": 4,
 "nbformat_minor": 2
}
