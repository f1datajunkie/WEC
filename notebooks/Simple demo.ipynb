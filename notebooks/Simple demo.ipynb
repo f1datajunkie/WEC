{
 "cells": [
  {
   "cell_type": "markdown",
   "metadata": {},
   "source": [
    "# Simple Demo\n",
    "\n",
    "Timing info available as PDF, eg [here](https://assets.lemans.org/explorer/pdf/courses/2019/24-heures-du-mans/classification/race/24-heures-du-mans-2019-classification-after-24h.pdf).\n",
    "\n",
    "CSV data from Al Kamel using links of form:\n",
    "\n",
    "`http://fiawec.alkamelsystems.com/Results/08_2018-2019/07_SPA%20FRANCORCHAMPS/267_FIA%20WEC/201905041330_Race/Hour%206/23_Analysis_Race_Hour%206.CSV`\n",
    "\n",
    "\n",
    "*Links don't seem to appear on e.g. [classification data](http://fiawec.alkamelsystems.com/)? So where else might they be found?*"
   ]
  },
  {
   "cell_type": "code",
   "execution_count": 1,
   "metadata": {},
   "outputs": [],
   "source": [
    "%matplotlib inline\n",
    "import pandas as pd"
   ]
  },
  {
   "cell_type": "code",
   "execution_count": 2,
   "metadata": {},
   "outputs": [],
   "source": [
    "#Add the parent dir to the import path\n",
    "import sys\n",
    "sys.path.append(\"..\")\n",
    "\n",
    "#Import contents of the utils.py package in the parent directory\n",
    "from py.utils import *"
   ]
  },
  {
   "cell_type": "code",
   "execution_count": 3,
   "metadata": {},
   "outputs": [],
   "source": [
    "url = 'http://fiawec.alkamelsystems.com/Results/08_2018-2019/07_SPA%20FRANCORCHAMPS/267_FIA%20WEC/201905041330_Race/Hour%206/23_Analysis_Race_Hour%206.CSV'\n"
   ]
  },
  {
   "cell_type": "code",
   "execution_count": 4,
   "metadata": {},
   "outputs": [
    {
     "data": {
      "text/html": [
       "<div>\n",
       "<style scoped>\n",
       "    .dataframe tbody tr th:only-of-type {\n",
       "        vertical-align: middle;\n",
       "    }\n",
       "\n",
       "    .dataframe tbody tr th {\n",
       "        vertical-align: top;\n",
       "    }\n",
       "\n",
       "    .dataframe thead th {\n",
       "        text-align: right;\n",
       "    }\n",
       "</style>\n",
       "<table border=\"1\" class=\"dataframe\">\n",
       "  <thead>\n",
       "    <tr style=\"text-align: right;\">\n",
       "      <th></th>\n",
       "      <th>NUMBER</th>\n",
       "      <th>DRIVER_NUMBER</th>\n",
       "      <th>LAP_NUMBER</th>\n",
       "      <th>LAP_TIME</th>\n",
       "      <th>LAP_IMPROVEMENT</th>\n",
       "      <th>CROSSING_FINISH_LINE_IN_PIT</th>\n",
       "      <th>S1</th>\n",
       "      <th>S1_IMPROVEMENT</th>\n",
       "      <th>S2</th>\n",
       "      <th>S2_IMPROVEMENT</th>\n",
       "      <th>...</th>\n",
       "      <th>S1_LARGE</th>\n",
       "      <th>S2_LARGE</th>\n",
       "      <th>S3_LARGE</th>\n",
       "      <th>TOP_SPEED</th>\n",
       "      <th>DRIVER_NAME</th>\n",
       "      <th>PIT_TIME</th>\n",
       "      <th>CLASS</th>\n",
       "      <th>GROUP</th>\n",
       "      <th>TEAM</th>\n",
       "      <th>MANUFACTURER</th>\n",
       "    </tr>\n",
       "  </thead>\n",
       "  <tbody>\n",
       "    <tr>\n",
       "      <th>0</th>\n",
       "      <td>1</td>\n",
       "      <td>1</td>\n",
       "      <td>1</td>\n",
       "      <td>2:06.349</td>\n",
       "      <td>0</td>\n",
       "      <td>NaN</td>\n",
       "      <td>37.900</td>\n",
       "      <td>0</td>\n",
       "      <td>57.533</td>\n",
       "      <td>0</td>\n",
       "      <td>...</td>\n",
       "      <td>0:37.900</td>\n",
       "      <td>0:57.533</td>\n",
       "      <td>0:30.916</td>\n",
       "      <td>289.0</td>\n",
       "      <td>Neel JANI</td>\n",
       "      <td>NaN</td>\n",
       "      <td>LMP1</td>\n",
       "      <td>NaN</td>\n",
       "      <td>Rebellion Racing</td>\n",
       "      <td>Rebellion</td>\n",
       "    </tr>\n",
       "    <tr>\n",
       "      <th>1</th>\n",
       "      <td>1</td>\n",
       "      <td>1</td>\n",
       "      <td>2</td>\n",
       "      <td>2:00.417</td>\n",
       "      <td>0</td>\n",
       "      <td>NaN</td>\n",
       "      <td>34.830</td>\n",
       "      <td>0</td>\n",
       "      <td>54.824</td>\n",
       "      <td>0</td>\n",
       "      <td>...</td>\n",
       "      <td>0:34.830</td>\n",
       "      <td>0:54.824</td>\n",
       "      <td>0:30.763</td>\n",
       "      <td>302.7</td>\n",
       "      <td>Neel JANI</td>\n",
       "      <td>NaN</td>\n",
       "      <td>LMP1</td>\n",
       "      <td>NaN</td>\n",
       "      <td>Rebellion Racing</td>\n",
       "      <td>Rebellion</td>\n",
       "    </tr>\n",
       "    <tr>\n",
       "      <th>2</th>\n",
       "      <td>1</td>\n",
       "      <td>1</td>\n",
       "      <td>3</td>\n",
       "      <td>2:17.278</td>\n",
       "      <td>0</td>\n",
       "      <td>B</td>\n",
       "      <td>40.012</td>\n",
       "      <td>0</td>\n",
       "      <td>55.696</td>\n",
       "      <td>0</td>\n",
       "      <td>...</td>\n",
       "      <td>0:40.012</td>\n",
       "      <td>0:55.696</td>\n",
       "      <td>0:41.570</td>\n",
       "      <td>289.0</td>\n",
       "      <td>Neel JANI</td>\n",
       "      <td>NaN</td>\n",
       "      <td>LMP1</td>\n",
       "      <td>NaN</td>\n",
       "      <td>Rebellion Racing</td>\n",
       "      <td>Rebellion</td>\n",
       "    </tr>\n",
       "    <tr>\n",
       "      <th>3</th>\n",
       "      <td>1</td>\n",
       "      <td>1</td>\n",
       "      <td>4</td>\n",
       "      <td>3:10.094</td>\n",
       "      <td>0</td>\n",
       "      <td>NaN</td>\n",
       "      <td>1:26.938</td>\n",
       "      <td>0</td>\n",
       "      <td>1:07.045</td>\n",
       "      <td>0</td>\n",
       "      <td>...</td>\n",
       "      <td>1:26.938</td>\n",
       "      <td>1:07.045</td>\n",
       "      <td>0:36.111</td>\n",
       "      <td>262.4</td>\n",
       "      <td>Neel JANI</td>\n",
       "      <td>0:00:58.509</td>\n",
       "      <td>LMP1</td>\n",
       "      <td>NaN</td>\n",
       "      <td>Rebellion Racing</td>\n",
       "      <td>Rebellion</td>\n",
       "    </tr>\n",
       "    <tr>\n",
       "      <th>4</th>\n",
       "      <td>1</td>\n",
       "      <td>1</td>\n",
       "      <td>5</td>\n",
       "      <td>2:29.763</td>\n",
       "      <td>0</td>\n",
       "      <td>NaN</td>\n",
       "      <td>41.205</td>\n",
       "      <td>0</td>\n",
       "      <td>1:11.517</td>\n",
       "      <td>0</td>\n",
       "      <td>...</td>\n",
       "      <td>0:41.205</td>\n",
       "      <td>1:11.517</td>\n",
       "      <td>0:37.041</td>\n",
       "      <td>259.2</td>\n",
       "      <td>Neel JANI</td>\n",
       "      <td>NaN</td>\n",
       "      <td>LMP1</td>\n",
       "      <td>NaN</td>\n",
       "      <td>Rebellion Racing</td>\n",
       "      <td>Rebellion</td>\n",
       "    </tr>\n",
       "  </tbody>\n",
       "</table>\n",
       "<p>5 rows × 25 columns</p>\n",
       "</div>"
      ],
      "text/plain": [
       "  NUMBER DRIVER_NUMBER  LAP_NUMBER  LAP_TIME  LAP_IMPROVEMENT  \\\n",
       "0      1             1           1  2:06.349                0   \n",
       "1      1             1           2  2:00.417                0   \n",
       "2      1             1           3  2:17.278                0   \n",
       "3      1             1           4  3:10.094                0   \n",
       "4      1             1           5  2:29.763                0   \n",
       "\n",
       "  CROSSING_FINISH_LINE_IN_PIT        S1  S1_IMPROVEMENT        S2  \\\n",
       "0                         NaN    37.900               0    57.533   \n",
       "1                         NaN    34.830               0    54.824   \n",
       "2                           B    40.012               0    55.696   \n",
       "3                         NaN  1:26.938               0  1:07.045   \n",
       "4                         NaN    41.205               0  1:11.517   \n",
       "\n",
       "   S2_IMPROVEMENT  ...  S1_LARGE  S2_LARGE  S3_LARGE TOP_SPEED DRIVER_NAME  \\\n",
       "0               0  ...  0:37.900  0:57.533  0:30.916     289.0   Neel JANI   \n",
       "1               0  ...  0:34.830  0:54.824  0:30.763     302.7   Neel JANI   \n",
       "2               0  ...  0:40.012  0:55.696  0:41.570     289.0   Neel JANI   \n",
       "3               0  ...  1:26.938  1:07.045  0:36.111     262.4   Neel JANI   \n",
       "4               0  ...  0:41.205  1:11.517  0:37.041     259.2   Neel JANI   \n",
       "\n",
       "      PIT_TIME CLASS GROUP              TEAM MANUFACTURER  \n",
       "0          NaN  LMP1   NaN  Rebellion Racing    Rebellion  \n",
       "1          NaN  LMP1   NaN  Rebellion Racing    Rebellion  \n",
       "2          NaN  LMP1   NaN  Rebellion Racing    Rebellion  \n",
       "3  0:00:58.509  LMP1   NaN  Rebellion Racing    Rebellion  \n",
       "4          NaN  LMP1   NaN  Rebellion Racing    Rebellion  \n",
       "\n",
       "[5 rows x 25 columns]"
      ]
     },
     "execution_count": 4,
     "metadata": {},
     "output_type": "execute_result"
    }
   ],
   "source": [
    "laptimes = pd.read_csv(url, sep=';').dropna(how='all', axis=1)\n",
    "laptimes.columns = [c.strip() for c in laptimes.columns]\n",
    "\n",
    "#Tidy the data a little... car and driver number are not numbers\n",
    "laptimes[['NUMBER','DRIVER_NUMBER']] = laptimes[['NUMBER','DRIVER_NUMBER']].astype(str)\n",
    "\n",
    "laptimes.head()"
   ]
  },
  {
   "cell_type": "code",
   "execution_count": 5,
   "metadata": {},
   "outputs": [
    {
     "data": {
      "text/plain": [
       "Index(['NUMBER', 'DRIVER_NUMBER', 'LAP_NUMBER', 'LAP_TIME', 'LAP_IMPROVEMENT',\n",
       "       'CROSSING_FINISH_LINE_IN_PIT', 'S1', 'S1_IMPROVEMENT', 'S2',\n",
       "       'S2_IMPROVEMENT', 'S3', 'S3_IMPROVEMENT', 'KPH', 'ELAPSED', 'HOUR',\n",
       "       'S1_LARGE', 'S2_LARGE', 'S3_LARGE', 'TOP_SPEED', 'DRIVER_NAME',\n",
       "       'PIT_TIME', 'CLASS', 'GROUP', 'TEAM', 'MANUFACTURER'],\n",
       "      dtype='object')"
      ]
     },
     "execution_count": 5,
     "metadata": {},
     "output_type": "execute_result"
    }
   ],
   "source": [
    "laptimes.columns"
   ]
  },
  {
   "cell_type": "markdown",
   "metadata": {},
   "source": [
    "The `DRIVER_NUMBER` is relative to a car. It may be useful to also have a unique driver number, `CAR_DRIVER`:"
   ]
  },
  {
   "cell_type": "code",
   "execution_count": 6,
   "metadata": {},
   "outputs": [
    {
     "data": {
      "text/html": [
       "<div>\n",
       "<style scoped>\n",
       "    .dataframe tbody tr th:only-of-type {\n",
       "        vertical-align: middle;\n",
       "    }\n",
       "\n",
       "    .dataframe tbody tr th {\n",
       "        vertical-align: top;\n",
       "    }\n",
       "\n",
       "    .dataframe thead th {\n",
       "        text-align: right;\n",
       "    }\n",
       "</style>\n",
       "<table border=\"1\" class=\"dataframe\">\n",
       "  <thead>\n",
       "    <tr style=\"text-align: right;\">\n",
       "      <th></th>\n",
       "      <th>NUMBER</th>\n",
       "      <th>DRIVER_NUMBER</th>\n",
       "      <th>CAR_DRIVER</th>\n",
       "    </tr>\n",
       "  </thead>\n",
       "  <tbody>\n",
       "    <tr>\n",
       "      <th>0</th>\n",
       "      <td>1</td>\n",
       "      <td>1</td>\n",
       "      <td>1_1</td>\n",
       "    </tr>\n",
       "    <tr>\n",
       "      <th>1</th>\n",
       "      <td>1</td>\n",
       "      <td>1</td>\n",
       "      <td>1_1</td>\n",
       "    </tr>\n",
       "    <tr>\n",
       "      <th>2</th>\n",
       "      <td>1</td>\n",
       "      <td>1</td>\n",
       "      <td>1_1</td>\n",
       "    </tr>\n",
       "    <tr>\n",
       "      <th>3</th>\n",
       "      <td>1</td>\n",
       "      <td>1</td>\n",
       "      <td>1_1</td>\n",
       "    </tr>\n",
       "    <tr>\n",
       "      <th>4</th>\n",
       "      <td>1</td>\n",
       "      <td>1</td>\n",
       "      <td>1_1</td>\n",
       "    </tr>\n",
       "  </tbody>\n",
       "</table>\n",
       "</div>"
      ],
      "text/plain": [
       "  NUMBER DRIVER_NUMBER CAR_DRIVER\n",
       "0      1             1        1_1\n",
       "1      1             1        1_1\n",
       "2      1             1        1_1\n",
       "3      1             1        1_1\n",
       "4      1             1        1_1"
      ]
     },
     "execution_count": 6,
     "metadata": {},
     "output_type": "execute_result"
    }
   ],
   "source": [
    "laptimes['CAR_DRIVER'] = laptimes['NUMBER'] + '_' + laptimes['DRIVER_NUMBER']\n",
    "laptimes[['NUMBER','DRIVER_NUMBER','CAR_DRIVER']].head()"
   ]
  },
  {
   "cell_type": "markdown",
   "metadata": {},
   "source": [
    "## Quick demo chart\n",
    "\n",
    "Some simple plots to show how we can use widgets etc."
   ]
  },
  {
   "cell_type": "code",
   "execution_count": 7,
   "metadata": {},
   "outputs": [
    {
     "data": {
      "text/html": [
       "<div>\n",
       "<style scoped>\n",
       "    .dataframe tbody tr th:only-of-type {\n",
       "        vertical-align: middle;\n",
       "    }\n",
       "\n",
       "    .dataframe tbody tr th {\n",
       "        vertical-align: top;\n",
       "    }\n",
       "\n",
       "    .dataframe thead th {\n",
       "        text-align: right;\n",
       "    }\n",
       "</style>\n",
       "<table border=\"1\" class=\"dataframe\">\n",
       "  <thead>\n",
       "    <tr style=\"text-align: right;\">\n",
       "      <th></th>\n",
       "      <th>LAP_TIME</th>\n",
       "      <th>LAP_TIME_S</th>\n",
       "    </tr>\n",
       "  </thead>\n",
       "  <tbody>\n",
       "    <tr>\n",
       "      <th>0</th>\n",
       "      <td>2:06.349</td>\n",
       "      <td>126.349</td>\n",
       "    </tr>\n",
       "    <tr>\n",
       "      <th>1</th>\n",
       "      <td>2:00.417</td>\n",
       "      <td>120.417</td>\n",
       "    </tr>\n",
       "    <tr>\n",
       "      <th>2</th>\n",
       "      <td>2:17.278</td>\n",
       "      <td>137.278</td>\n",
       "    </tr>\n",
       "    <tr>\n",
       "      <th>3</th>\n",
       "      <td>3:10.094</td>\n",
       "      <td>190.094</td>\n",
       "    </tr>\n",
       "    <tr>\n",
       "      <th>4</th>\n",
       "      <td>2:29.763</td>\n",
       "      <td>149.763</td>\n",
       "    </tr>\n",
       "  </tbody>\n",
       "</table>\n",
       "</div>"
      ],
      "text/plain": [
       "   LAP_TIME  LAP_TIME_S\n",
       "0  2:06.349     126.349\n",
       "1  2:00.417     120.417\n",
       "2  2:17.278     137.278\n",
       "3  3:10.094     190.094\n",
       "4  2:29.763     149.763"
      ]
     },
     "execution_count": 7,
     "metadata": {},
     "output_type": "execute_result"
    }
   ],
   "source": [
    "laptimes['LAP_TIME_S'] = laptimes['LAP_TIME'].apply(getTime)\n",
    "laptimes[['LAP_TIME','LAP_TIME_S']].head()"
   ]
  },
  {
   "cell_type": "code",
   "execution_count": 8,
   "metadata": {},
   "outputs": [
    {
     "data": {
      "application/vnd.jupyter.widget-view+json": {
       "model_id": "b34a818404864dfe8dab64de06c471a6",
       "version_major": 2,
       "version_minor": 0
      },
      "text/plain": [
       "interactive(children=(Dropdown(description='number', options=('1', '11', '17', '26', '28', '29', '3', '31', '3…"
      ]
     },
     "metadata": {},
     "output_type": "display_data"
    }
   ],
   "source": [
    "from ipywidgets import interact\n",
    "\n",
    "\n",
    "@interact(number=laptimes['NUMBER'].unique().tolist(),)\n",
    "def plotLapByNumber(number):\n",
    "    laptimes[laptimes['NUMBER']==number].plot(x='LAP_NUMBER',y='LAP_TIME_S')"
   ]
  },
  {
   "cell_type": "code",
   "execution_count": 9,
   "metadata": {},
   "outputs": [
    {
     "data": {
      "application/vnd.jupyter.widget-view+json": {
       "model_id": "9133c56c560c4c28bd3ef7101cee57d8",
       "version_major": 2,
       "version_minor": 0
      },
      "text/plain": [
       "interactive(children=(Dropdown(description='number', options=('1', '11', '17', '26', '28', '29', '3', '31', '3…"
      ]
     },
     "metadata": {},
     "output_type": "display_data"
    }
   ],
   "source": [
    "@interact(number=laptimes['NUMBER'].unique().tolist(),)\n",
    "def plotLapByNumberDriver(number):\n",
    "    # We can pivot long to wide on driver number, then plot all cols against the lapnumber index\n",
    "    laptimes[laptimes['NUMBER']==number].pivot(index='LAP_NUMBER',columns='DRIVER_NUMBER', values='LAP_TIME_S').plot()\n"
   ]
  },
  {
   "cell_type": "code",
   "execution_count": 10,
   "metadata": {},
   "outputs": [
    {
     "data": {
      "application/vnd.jupyter.widget-view+json": {
       "model_id": "c5f9b3426eec473c811b8e92c91b4c37",
       "version_major": 2,
       "version_minor": 0
      },
      "text/plain": [
       "interactive(children=(Dropdown(description='number', options=('1', '11', '17', '26', '28', '29', '3', '31', '3…"
      ]
     },
     "metadata": {},
     "output_type": "display_data"
    }
   ],
   "source": [
    "@interact(number=laptimes['NUMBER'].unique().tolist(),)\n",
    "def plotLapByNumberDriverWithPit(number):\n",
    "    # We can pivot long to wide on driver number, then plot all cols against the lapnumber index\n",
    "    #Grap the matplotli axes so we can overplot onto them\n",
    "    ax = laptimes[laptimes['NUMBER']==number].pivot(index='LAP_NUMBER',columns='DRIVER_NUMBER', values='LAP_TIME_S').plot()\n",
    "    #Also add in pit laps\n",
    "    laptimes[(laptimes['NUMBER']==number) & (laptimes['CROSSING_FINISH_LINE_IN_PIT']=='B')].plot.scatter(x='LAP_NUMBER',y='LAP_TIME_S', ax=ax)\n",
    "    "
   ]
  },
  {
   "cell_type": "markdown",
   "metadata": {},
   "source": [
    "## Stint Detection\n",
    "\n",
    "Some simple heuristics for detecting stints:\n",
    "\n",
    "- car stint: between each pit stop;\n",
    "- driver session: session equates to continuous period in car;\n",
    "- driver stint: relative to pit stops; this may be renumbered for each session?"
   ]
  },
  {
   "cell_type": "code",
   "execution_count": 11,
   "metadata": {},
   "outputs": [
    {
     "data": {
      "text/html": [
       "<div>\n",
       "<style scoped>\n",
       "    .dataframe tbody tr th:only-of-type {\n",
       "        vertical-align: middle;\n",
       "    }\n",
       "\n",
       "    .dataframe tbody tr th {\n",
       "        vertical-align: top;\n",
       "    }\n",
       "\n",
       "    .dataframe thead th {\n",
       "        text-align: right;\n",
       "    }\n",
       "</style>\n",
       "<table border=\"1\" class=\"dataframe\">\n",
       "  <thead>\n",
       "    <tr style=\"text-align: right;\">\n",
       "      <th></th>\n",
       "      <th>DRIVER_NUMBER</th>\n",
       "      <th>INLAP</th>\n",
       "      <th>OUTLAP</th>\n",
       "    </tr>\n",
       "  </thead>\n",
       "  <tbody>\n",
       "    <tr>\n",
       "      <th>0</th>\n",
       "      <td>1</td>\n",
       "      <td>False</td>\n",
       "      <td>True</td>\n",
       "    </tr>\n",
       "    <tr>\n",
       "      <th>1</th>\n",
       "      <td>1</td>\n",
       "      <td>False</td>\n",
       "      <td>False</td>\n",
       "    </tr>\n",
       "    <tr>\n",
       "      <th>2</th>\n",
       "      <td>1</td>\n",
       "      <td>True</td>\n",
       "      <td>False</td>\n",
       "    </tr>\n",
       "    <tr>\n",
       "      <th>3</th>\n",
       "      <td>1</td>\n",
       "      <td>False</td>\n",
       "      <td>True</td>\n",
       "    </tr>\n",
       "    <tr>\n",
       "      <th>4</th>\n",
       "      <td>1</td>\n",
       "      <td>False</td>\n",
       "      <td>False</td>\n",
       "    </tr>\n",
       "  </tbody>\n",
       "</table>\n",
       "</div>"
      ],
      "text/plain": [
       "  DRIVER_NUMBER  INLAP  OUTLAP\n",
       "0             1  False    True\n",
       "1             1  False   False\n",
       "2             1   True   False\n",
       "3             1  False    True\n",
       "4             1  False   False"
      ]
     },
     "execution_count": 11,
     "metadata": {},
     "output_type": "execute_result"
    }
   ],
   "source": [
    "#Driver session\n",
    "\n",
    "#Create a flag to identify when we enter the pit, aka an INLAP\n",
    "laptimes['INLAP'] = laptimes['CROSSING_FINISH_LINE_IN_PIT'] == 'B'\n",
    "\n",
    "#Make no assumptions about table order - so sort by lap number\n",
    "laptimes = laptimes.sort_values(['NUMBER','LAP_NUMBER'])\n",
    "\n",
    "# Identify a new stint for each car by sifting the pitting / INLAP flag within car tables\n",
    "laptimes['OUTLAP'] = laptimes.groupby('NUMBER')['INLAP'].shift(fill_value=True)\n",
    "\n",
    "laptimes[['DRIVER_NUMBER', 'INLAP','OUTLAP']].head()"
   ]
  },
  {
   "cell_type": "code",
   "execution_count": 12,
   "metadata": {},
   "outputs": [
    {
     "data": {
      "text/html": [
       "<div>\n",
       "<style scoped>\n",
       "    .dataframe tbody tr th:only-of-type {\n",
       "        vertical-align: middle;\n",
       "    }\n",
       "\n",
       "    .dataframe tbody tr th {\n",
       "        vertical-align: top;\n",
       "    }\n",
       "\n",
       "    .dataframe thead th {\n",
       "        text-align: right;\n",
       "    }\n",
       "</style>\n",
       "<table border=\"1\" class=\"dataframe\">\n",
       "  <thead>\n",
       "    <tr style=\"text-align: right;\">\n",
       "      <th></th>\n",
       "      <th>DRIVER_NUMBER</th>\n",
       "      <th>driverchange</th>\n",
       "      <th>DRIVER_SESSION</th>\n",
       "      <th>LAP_NUMBER</th>\n",
       "    </tr>\n",
       "  </thead>\n",
       "  <tbody>\n",
       "    <tr>\n",
       "      <th>42</th>\n",
       "      <td>1</td>\n",
       "      <td>False</td>\n",
       "      <td>1</td>\n",
       "      <td>43</td>\n",
       "    </tr>\n",
       "    <tr>\n",
       "      <th>43</th>\n",
       "      <td>1</td>\n",
       "      <td>False</td>\n",
       "      <td>1</td>\n",
       "      <td>44</td>\n",
       "    </tr>\n",
       "    <tr>\n",
       "      <th>44</th>\n",
       "      <td>1</td>\n",
       "      <td>False</td>\n",
       "      <td>1</td>\n",
       "      <td>45</td>\n",
       "    </tr>\n",
       "    <tr>\n",
       "      <th>45</th>\n",
       "      <td>2</td>\n",
       "      <td>True</td>\n",
       "      <td>1</td>\n",
       "      <td>46</td>\n",
       "    </tr>\n",
       "    <tr>\n",
       "      <th>46</th>\n",
       "      <td>2</td>\n",
       "      <td>False</td>\n",
       "      <td>1</td>\n",
       "      <td>47</td>\n",
       "    </tr>\n",
       "    <tr>\n",
       "      <th>47</th>\n",
       "      <td>2</td>\n",
       "      <td>False</td>\n",
       "      <td>1</td>\n",
       "      <td>48</td>\n",
       "    </tr>\n",
       "  </tbody>\n",
       "</table>\n",
       "</div>"
      ],
      "text/plain": [
       "   DRIVER_NUMBER  driverchange  DRIVER_SESSION  LAP_NUMBER\n",
       "42             1         False               1          43\n",
       "43             1         False               1          44\n",
       "44             1         False               1          45\n",
       "45             2          True               1          46\n",
       "46             2         False               1          47\n",
       "47             2         False               1          48"
      ]
     },
     "execution_count": 12,
     "metadata": {},
     "output_type": "execute_result"
    }
   ],
   "source": [
    "#This is a count of the number of times a driver is in a vehicle after a pit who wasn't in it before\n",
    "#Also set overall lap = 1 to be a driver change\n",
    "laptimes['driverchange'] = (~laptimes['DRIVER_NUMBER'].eq(laptimes['DRIVER_NUMBER'].shift())) | (laptimes['LAP_NUMBER']==1)\n",
    "\n",
    "laptimes['DRIVER_SESSION'] = laptimes.groupby(['NUMBER', 'DRIVER_NUMBER'])['driverchange'].cumsum().astype(int)\n",
    "laptimes[['DRIVER_NUMBER', 'driverchange','DRIVER_SESSION','LAP_NUMBER']][42:48]"
   ]
  },
  {
   "cell_type": "code",
   "execution_count": 13,
   "metadata": {},
   "outputs": [
    {
     "data": {
      "text/html": [
       "<div>\n",
       "<style scoped>\n",
       "    .dataframe tbody tr th:only-of-type {\n",
       "        vertical-align: middle;\n",
       "    }\n",
       "\n",
       "    .dataframe tbody tr th {\n",
       "        vertical-align: top;\n",
       "    }\n",
       "\n",
       "    .dataframe thead th {\n",
       "        text-align: right;\n",
       "    }\n",
       "</style>\n",
       "<table border=\"1\" class=\"dataframe\">\n",
       "  <thead>\n",
       "    <tr style=\"text-align: right;\">\n",
       "      <th></th>\n",
       "      <th>CROSSING_FINISH_LINE_IN_PIT</th>\n",
       "      <th>INLAP</th>\n",
       "      <th>OUTLAP</th>\n",
       "      <th>CAR_STINT</th>\n",
       "    </tr>\n",
       "  </thead>\n",
       "  <tbody>\n",
       "    <tr>\n",
       "      <th>0</th>\n",
       "      <td>NaN</td>\n",
       "      <td>False</td>\n",
       "      <td>True</td>\n",
       "      <td>1</td>\n",
       "    </tr>\n",
       "    <tr>\n",
       "      <th>1</th>\n",
       "      <td>NaN</td>\n",
       "      <td>False</td>\n",
       "      <td>False</td>\n",
       "      <td>1</td>\n",
       "    </tr>\n",
       "    <tr>\n",
       "      <th>2</th>\n",
       "      <td>B</td>\n",
       "      <td>True</td>\n",
       "      <td>False</td>\n",
       "      <td>1</td>\n",
       "    </tr>\n",
       "    <tr>\n",
       "      <th>3</th>\n",
       "      <td>NaN</td>\n",
       "      <td>False</td>\n",
       "      <td>True</td>\n",
       "      <td>2</td>\n",
       "    </tr>\n",
       "    <tr>\n",
       "      <th>4</th>\n",
       "      <td>NaN</td>\n",
       "      <td>False</td>\n",
       "      <td>False</td>\n",
       "      <td>2</td>\n",
       "    </tr>\n",
       "  </tbody>\n",
       "</table>\n",
       "</div>"
      ],
      "text/plain": [
       "  CROSSING_FINISH_LINE_IN_PIT  INLAP  OUTLAP  CAR_STINT\n",
       "0                         NaN  False    True          1\n",
       "1                         NaN  False   False          1\n",
       "2                           B   True   False          1\n",
       "3                         NaN  False    True          2\n",
       "4                         NaN  False   False          2"
      ]
     },
     "execution_count": 13,
     "metadata": {},
     "output_type": "execute_result"
    }
   ],
   "source": [
    "# Car stint\n",
    "#Create a counter for each pit stop - the pit flag is entering pit at end of stint\n",
    "#  so a new stint applies on the lap after a pit\n",
    "#Find the car stint based on count of pit stops\n",
    "laptimes['CAR_STINT'] = laptimes.groupby('NUMBER')['OUTLAP'].cumsum().astype(int)\n",
    "\n",
    "laptimes[['CROSSING_FINISH_LINE_IN_PIT', 'INLAP', 'OUTLAP', 'CAR_STINT']].head()"
   ]
  },
  {
   "cell_type": "code",
   "execution_count": 14,
   "metadata": {},
   "outputs": [
    {
     "data": {
      "text/html": [
       "<div>\n",
       "<style scoped>\n",
       "    .dataframe tbody tr th:only-of-type {\n",
       "        vertical-align: middle;\n",
       "    }\n",
       "\n",
       "    .dataframe tbody tr th {\n",
       "        vertical-align: top;\n",
       "    }\n",
       "\n",
       "    .dataframe thead th {\n",
       "        text-align: right;\n",
       "    }\n",
       "</style>\n",
       "<table border=\"1\" class=\"dataframe\">\n",
       "  <thead>\n",
       "    <tr style=\"text-align: right;\">\n",
       "      <th></th>\n",
       "      <th>CAR_DRIVER</th>\n",
       "      <th>CROSSING_FINISH_LINE_IN_PIT</th>\n",
       "      <th>INLAP</th>\n",
       "      <th>CAR_STINT</th>\n",
       "      <th>DRIVER_STINT</th>\n",
       "      <th>CAR_DRIVER_STINT</th>\n",
       "    </tr>\n",
       "  </thead>\n",
       "  <tbody>\n",
       "    <tr>\n",
       "      <th>4212</th>\n",
       "      <td>98_2</td>\n",
       "      <td>NaN</td>\n",
       "      <td>False</td>\n",
       "      <td>7</td>\n",
       "      <td>1</td>\n",
       "      <td>98_2_1</td>\n",
       "    </tr>\n",
       "    <tr>\n",
       "      <th>4213</th>\n",
       "      <td>98_2</td>\n",
       "      <td>NaN</td>\n",
       "      <td>False</td>\n",
       "      <td>7</td>\n",
       "      <td>1</td>\n",
       "      <td>98_2_1</td>\n",
       "    </tr>\n",
       "    <tr>\n",
       "      <th>4214</th>\n",
       "      <td>98_2</td>\n",
       "      <td>NaN</td>\n",
       "      <td>False</td>\n",
       "      <td>7</td>\n",
       "      <td>1</td>\n",
       "      <td>98_2_1</td>\n",
       "    </tr>\n",
       "    <tr>\n",
       "      <th>4215</th>\n",
       "      <td>98_2</td>\n",
       "      <td>NaN</td>\n",
       "      <td>False</td>\n",
       "      <td>7</td>\n",
       "      <td>1</td>\n",
       "      <td>98_2_1</td>\n",
       "    </tr>\n",
       "    <tr>\n",
       "      <th>4216</th>\n",
       "      <td>98_2</td>\n",
       "      <td>NaN</td>\n",
       "      <td>False</td>\n",
       "      <td>7</td>\n",
       "      <td>1</td>\n",
       "      <td>98_2_1</td>\n",
       "    </tr>\n",
       "    <tr>\n",
       "      <th>4217</th>\n",
       "      <td>98_2</td>\n",
       "      <td>B</td>\n",
       "      <td>True</td>\n",
       "      <td>7</td>\n",
       "      <td>1</td>\n",
       "      <td>98_2_1</td>\n",
       "    </tr>\n",
       "    <tr>\n",
       "      <th>4218</th>\n",
       "      <td>98_2</td>\n",
       "      <td>NaN</td>\n",
       "      <td>False</td>\n",
       "      <td>8</td>\n",
       "      <td>2</td>\n",
       "      <td>98_2_2</td>\n",
       "    </tr>\n",
       "    <tr>\n",
       "      <th>4219</th>\n",
       "      <td>98_2</td>\n",
       "      <td>NaN</td>\n",
       "      <td>False</td>\n",
       "      <td>8</td>\n",
       "      <td>2</td>\n",
       "      <td>98_2_2</td>\n",
       "    </tr>\n",
       "    <tr>\n",
       "      <th>4220</th>\n",
       "      <td>98_2</td>\n",
       "      <td>NaN</td>\n",
       "      <td>False</td>\n",
       "      <td>8</td>\n",
       "      <td>2</td>\n",
       "      <td>98_2_2</td>\n",
       "    </tr>\n",
       "    <tr>\n",
       "      <th>4221</th>\n",
       "      <td>98_2</td>\n",
       "      <td>NaN</td>\n",
       "      <td>False</td>\n",
       "      <td>8</td>\n",
       "      <td>2</td>\n",
       "      <td>98_2_2</td>\n",
       "    </tr>\n",
       "  </tbody>\n",
       "</table>\n",
       "</div>"
      ],
      "text/plain": [
       "     CAR_DRIVER CROSSING_FINISH_LINE_IN_PIT  INLAP  CAR_STINT  DRIVER_STINT  \\\n",
       "4212       98_2                         NaN  False          7             1   \n",
       "4213       98_2                         NaN  False          7             1   \n",
       "4214       98_2                         NaN  False          7             1   \n",
       "4215       98_2                         NaN  False          7             1   \n",
       "4216       98_2                         NaN  False          7             1   \n",
       "4217       98_2                           B   True          7             1   \n",
       "4218       98_2                         NaN  False          8             2   \n",
       "4219       98_2                         NaN  False          8             2   \n",
       "4220       98_2                         NaN  False          8             2   \n",
       "4221       98_2                         NaN  False          8             2   \n",
       "\n",
       "     CAR_DRIVER_STINT  \n",
       "4212           98_2_1  \n",
       "4213           98_2_1  \n",
       "4214           98_2_1  \n",
       "4215           98_2_1  \n",
       "4216           98_2_1  \n",
       "4217           98_2_1  \n",
       "4218           98_2_2  \n",
       "4219           98_2_2  \n",
       "4220           98_2_2  \n",
       "4221           98_2_2  "
      ]
     },
     "execution_count": 14,
     "metadata": {},
     "output_type": "execute_result"
    }
   ],
   "source": [
    "#Driver stint - a cumulative count for each driver of their stints\n",
    "laptimes['DRIVER_STINT'] = laptimes.groupby('CAR_DRIVER')['OUTLAP'].cumsum().astype(int)\n",
    "\n",
    "#Let's also derive another identifier - CAR_DRIVER_STINT\n",
    "laptimes['CAR_DRIVER_STINT'] = laptimes['CAR_DRIVER'] + '_' + laptimes['DRIVER_STINT'].astype(str)\n",
    "\n",
    "laptimes[['CAR_DRIVER', 'CROSSING_FINISH_LINE_IN_PIT', 'INLAP','CAR_STINT', 'DRIVER_STINT', 'CAR_DRIVER_STINT']].tail(20).head(10)\n"
   ]
  },
  {
   "cell_type": "code",
   "execution_count": 15,
   "metadata": {},
   "outputs": [
    {
     "data": {
      "text/html": [
       "<div>\n",
       "<style scoped>\n",
       "    .dataframe tbody tr th:only-of-type {\n",
       "        vertical-align: middle;\n",
       "    }\n",
       "\n",
       "    .dataframe tbody tr th {\n",
       "        vertical-align: top;\n",
       "    }\n",
       "\n",
       "    .dataframe thead th {\n",
       "        text-align: right;\n",
       "    }\n",
       "</style>\n",
       "<table border=\"1\" class=\"dataframe\">\n",
       "  <thead>\n",
       "    <tr style=\"text-align: right;\">\n",
       "      <th></th>\n",
       "      <th>CAR_DRIVER</th>\n",
       "      <th>CROSSING_FINISH_LINE_IN_PIT</th>\n",
       "      <th>INLAP</th>\n",
       "      <th>CAR_STINT</th>\n",
       "      <th>DRIVER_STINT</th>\n",
       "      <th>CAR_DRIVER_STINT</th>\n",
       "      <th>DRIVER_SESSION_STINT</th>\n",
       "    </tr>\n",
       "  </thead>\n",
       "  <tbody>\n",
       "    <tr>\n",
       "      <th>0</th>\n",
       "      <td>1_1</td>\n",
       "      <td>NaN</td>\n",
       "      <td>False</td>\n",
       "      <td>1</td>\n",
       "      <td>1</td>\n",
       "      <td>1_1_1</td>\n",
       "      <td>1</td>\n",
       "    </tr>\n",
       "    <tr>\n",
       "      <th>1</th>\n",
       "      <td>1_1</td>\n",
       "      <td>NaN</td>\n",
       "      <td>False</td>\n",
       "      <td>1</td>\n",
       "      <td>1</td>\n",
       "      <td>1_1_1</td>\n",
       "      <td>1</td>\n",
       "    </tr>\n",
       "    <tr>\n",
       "      <th>2</th>\n",
       "      <td>1_1</td>\n",
       "      <td>B</td>\n",
       "      <td>True</td>\n",
       "      <td>1</td>\n",
       "      <td>1</td>\n",
       "      <td>1_1_1</td>\n",
       "      <td>1</td>\n",
       "    </tr>\n",
       "    <tr>\n",
       "      <th>3</th>\n",
       "      <td>1_1</td>\n",
       "      <td>NaN</td>\n",
       "      <td>False</td>\n",
       "      <td>2</td>\n",
       "      <td>2</td>\n",
       "      <td>1_1_2</td>\n",
       "      <td>2</td>\n",
       "    </tr>\n",
       "    <tr>\n",
       "      <th>4</th>\n",
       "      <td>1_1</td>\n",
       "      <td>NaN</td>\n",
       "      <td>False</td>\n",
       "      <td>2</td>\n",
       "      <td>2</td>\n",
       "      <td>1_1_2</td>\n",
       "      <td>2</td>\n",
       "    </tr>\n",
       "  </tbody>\n",
       "</table>\n",
       "</div>"
      ],
      "text/plain": [
       "  CAR_DRIVER CROSSING_FINISH_LINE_IN_PIT  INLAP  CAR_STINT  DRIVER_STINT  \\\n",
       "0        1_1                         NaN  False          1             1   \n",
       "1        1_1                         NaN  False          1             1   \n",
       "2        1_1                           B   True          1             1   \n",
       "3        1_1                         NaN  False          2             2   \n",
       "4        1_1                         NaN  False          2             2   \n",
       "\n",
       "  CAR_DRIVER_STINT  DRIVER_SESSION_STINT  \n",
       "0            1_1_1                     1  \n",
       "1            1_1_1                     1  \n",
       "2            1_1_1                     1  \n",
       "3            1_1_2                     2  \n",
       "4            1_1_2                     2  "
      ]
     },
     "execution_count": 15,
     "metadata": {},
     "output_type": "execute_result"
    }
   ],
   "source": [
    "#Driver session stint - a count for each driver of their stints within a particular driving session\n",
    "laptimes['DRIVER_SESSION_STINT'] = laptimes.groupby(['CAR_DRIVER','DRIVER_SESSION'])['OUTLAP'].cumsum().astype(int)\n",
    "laptimes[['CAR_DRIVER', 'CROSSING_FINISH_LINE_IN_PIT', 'INLAP','CAR_STINT', 'DRIVER_STINT', 'CAR_DRIVER_STINT', 'DRIVER_SESSION_STINT']].head()\n"
   ]
  },
  {
   "cell_type": "markdown",
   "metadata": {},
   "source": [
    "## Lap Counts Within Stints\n",
    "\n",
    "It may be convenient to keep track of lap counts within stints."
   ]
  },
  {
   "cell_type": "code",
   "execution_count": 16,
   "metadata": {},
   "outputs": [
    {
     "data": {
      "text/html": [
       "<div>\n",
       "<style scoped>\n",
       "    .dataframe tbody tr th:only-of-type {\n",
       "        vertical-align: middle;\n",
       "    }\n",
       "\n",
       "    .dataframe tbody tr th {\n",
       "        vertical-align: top;\n",
       "    }\n",
       "\n",
       "    .dataframe thead th {\n",
       "        text-align: right;\n",
       "    }\n",
       "</style>\n",
       "<table border=\"1\" class=\"dataframe\">\n",
       "  <thead>\n",
       "    <tr style=\"text-align: right;\">\n",
       "      <th></th>\n",
       "      <th>LAPS_CAR_STINT</th>\n",
       "      <th>LAPS_DRIVER</th>\n",
       "      <th>LAPS_DRIVER_SESSION</th>\n",
       "      <th>LAPS_DRIVER_STINT</th>\n",
       "    </tr>\n",
       "  </thead>\n",
       "  <tbody>\n",
       "    <tr>\n",
       "      <th>4227</th>\n",
       "      <td>10</td>\n",
       "      <td>16</td>\n",
       "      <td>16</td>\n",
       "      <td>10</td>\n",
       "    </tr>\n",
       "    <tr>\n",
       "      <th>4228</th>\n",
       "      <td>11</td>\n",
       "      <td>17</td>\n",
       "      <td>17</td>\n",
       "      <td>11</td>\n",
       "    </tr>\n",
       "    <tr>\n",
       "      <th>4229</th>\n",
       "      <td>12</td>\n",
       "      <td>18</td>\n",
       "      <td>18</td>\n",
       "      <td>12</td>\n",
       "    </tr>\n",
       "    <tr>\n",
       "      <th>4230</th>\n",
       "      <td>13</td>\n",
       "      <td>19</td>\n",
       "      <td>19</td>\n",
       "      <td>13</td>\n",
       "    </tr>\n",
       "    <tr>\n",
       "      <th>4231</th>\n",
       "      <td>14</td>\n",
       "      <td>20</td>\n",
       "      <td>20</td>\n",
       "      <td>14</td>\n",
       "    </tr>\n",
       "  </tbody>\n",
       "</table>\n",
       "</div>"
      ],
      "text/plain": [
       "      LAPS_CAR_STINT  LAPS_DRIVER  LAPS_DRIVER_SESSION  LAPS_DRIVER_STINT\n",
       "4227              10           16                   16                 10\n",
       "4228              11           17                   17                 11\n",
       "4229              12           18                   18                 12\n",
       "4230              13           19                   19                 13\n",
       "4231              14           20                   20                 14"
      ]
     },
     "execution_count": 16,
     "metadata": {},
     "output_type": "execute_result"
    }
   ],
   "source": [
    "# lap count by car stint - that is, between each pit stop\n",
    "laptimes['LAPS_CAR_STINT'] = laptimes.groupby(['NUMBER','CAR_STINT']).cumcount()+1\n",
    "\n",
    "#lap count by driver\n",
    "laptimes['LAPS_DRIVER'] = laptimes.groupby('CAR_DRIVER').cumcount()+1\n",
    "\n",
    "#lap count by driver session\n",
    "laptimes['LAPS_DRIVER_SESSION'] = laptimes.groupby(['CAR_DRIVER','DRIVER_SESSION']).cumcount()+1\n",
    "\n",
    "#lap count by driver stint\n",
    "laptimes['LAPS_DRIVER_STINT'] = laptimes.groupby(['CAR_DRIVER','DRIVER_STINT']).cumcount()+1\n",
    "\n",
    "laptimes[['LAPS_CAR_STINT', 'LAPS_DRIVER', 'LAPS_DRIVER_SESSION', 'LAPS_DRIVER_STINT']].tail()"
   ]
  },
  {
   "cell_type": "markdown",
   "metadata": {},
   "source": [
    "## Basic Individal Driver Reports\n",
    "\n",
    "Using those additional columns, we should be able to start creating reports by driver by facetting on individual drivers.\n",
    "\n",
    "(Note: it might be interesting to do some datasette demos with particular facets, which make it easy to select teams, drivers, etc.)"
   ]
  },
  {
   "cell_type": "code",
   "execution_count": 17,
   "metadata": {},
   "outputs": [
    {
     "data": {
      "application/vnd.jupyter.widget-view+json": {
       "model_id": "621ac4d639174fe1a6d7776245d8eff6",
       "version_major": 2,
       "version_minor": 0
      },
      "text/plain": [
       "QgridWidget(grid_options={'fullWidthRows': True, 'syncColumnCellResize': True, 'forceFitColumns': True, 'defau…"
      ]
     },
     "metadata": {},
     "output_type": "display_data"
    }
   ],
   "source": [
    "import qgrid\n",
    "qgrid.show_grid(laptimes[['LAP_NUMBER', 'NUMBER', 'CAR_DRIVER',  'INLAP', 'CAR_STINT', \n",
    "                          'CAR_DRIVER_STINT', 'DRIVER_STINT', 'DRIVER_SESSION', 'DRIVER_SESSION_STINT']])"
   ]
  },
  {
   "cell_type": "markdown",
   "metadata": {},
   "source": [
    "## Simple Stint Reports\n",
    "\n",
    "Using the various stint details, we can pull together a simple set of widgets to allow us to explore times by car / driver."
   ]
  },
  {
   "cell_type": "code",
   "execution_count": 18,
   "metadata": {},
   "outputs": [],
   "source": [
    "import ipywidgets as widgets\n",
    "from ipywidgets import interact"
   ]
  },
  {
   "cell_type": "code",
   "execution_count": 19,
   "metadata": {},
   "outputs": [
    {
     "data": {
      "application/vnd.jupyter.widget-view+json": {
       "model_id": "b271eb53ca774efe8d7f9fbedc14e913",
       "version_major": 2,
       "version_minor": 0
      },
      "text/plain": [
       "interactive(children=(Dropdown(description='Car:', options=('1', '11', '17', '26', '28', '29', '3', '31', '36'…"
      ]
     },
     "metadata": {},
     "output_type": "display_data"
    }
   ],
   "source": [
    "cars = widgets.Dropdown(\n",
    "    options=laptimes['NUMBER'].unique(), # value='1',\n",
    "    description='Car:', disabled=False )\n",
    "\n",
    "drivers = widgets.Dropdown(\n",
    "    options=laptimes[laptimes['NUMBER']==cars.value]['CAR_DRIVER'].unique(),\n",
    "    description='Driver:', disabled=False)\n",
    "\n",
    "driversessions = widgets.Dropdown(\n",
    "    options=laptimes[laptimes['CAR_DRIVER']==drivers.value]['DRIVER_SESSION'].unique(),\n",
    "    description='Session:', disabled=False)\n",
    "\n",
    "driverstints = widgets.Dropdown(\n",
    "    options=laptimes[laptimes['DRIVER_SESSION']==driversessions.value]['DRIVER_SESSION_STINT'].unique(),\n",
    "    description='Stint:', disabled=False)\n",
    "\n",
    "def update_drivers(*args):\n",
    "    driverlist = laptimes[laptimes['NUMBER']==cars.value]['CAR_DRIVER'].unique()\n",
    "    drivers.options = driverlist\n",
    "    \n",
    "def update_driver_session(*args):\n",
    "    driversessionlist = laptimes[(laptimes['CAR_DRIVER']==drivers.value)]['DRIVER_SESSION'].unique()\n",
    "    driversessions.options = driversessionlist\n",
    "    \n",
    "def update_driver_stint(*args):\n",
    "    driverstintlist = laptimes[(laptimes['CAR_DRIVER']==drivers.value) &\n",
    "                               (laptimes['DRIVER_SESSION']==driversessions.value)]['DRIVER_SESSION_STINT'].unique()\n",
    "    driverstints.options = driverstintlist\n",
    "    \n",
    "cars.observe(update_drivers, 'value')\n",
    "drivers.observe(update_driver_session,'value')\n",
    "driversessions.observe(update_driver_stint,'value')\n",
    "\n",
    "def laptime_table(car, driver, driversession, driverstint):\n",
    "    #just basic for now...\n",
    "    display(laptimes[(laptimes['CAR_DRIVER']==driver) &\n",
    "                     (laptimes['DRIVER_SESSION']==driversession) &\n",
    "                     (laptimes['DRIVER_SESSION_STINT']==driverstint) ][['CAR_DRIVER', 'DRIVER_SESSION',\n",
    "                                                         'DRIVER_STINT', 'DRIVER_SESSION_STINT',\n",
    "                                                         'LAP_NUMBER','LAP_TIME', 'LAP_TIME_S']])\n",
    "    \n",
    "interact(laptime_table, car=cars, driver=drivers, driversession=driversessions, driverstint=driverstints);\n"
   ]
  },
  {
   "cell_type": "code",
   "execution_count": 20,
   "metadata": {},
   "outputs": [
    {
     "data": {
      "application/vnd.jupyter.widget-view+json": {
       "model_id": "30579ce90fe34b57aea2528dea30b954",
       "version_major": 2,
       "version_minor": 0
      },
      "text/plain": [
       "interactive(children=(Dropdown(description='Car:', options=('1', '11', '17', '26', '28', '29', '3', '31', '36'…"
      ]
     },
     "metadata": {},
     "output_type": "display_data"
    }
   ],
   "source": [
    "def laptime_chart(car, driver, driversession, driverstint):\n",
    "    tmp_df = laptimes[(laptimes['CAR_DRIVER']==driver) &\n",
    "                     (laptimes['DRIVER_SESSION']==driversession) &\n",
    "                     (laptimes['DRIVER_SESSION_STINT']==driverstint) ][['CAR_DRIVER', 'DRIVER_SESSION',\n",
    "                                                         'DRIVER_STINT', 'DRIVER_SESSION_STINT',\n",
    "                                                         'LAP_NUMBER','LAP_TIME', 'LAP_TIME_S']]['LAP_TIME_S'].reset_index(drop=True)\n",
    "    if not tmp_df.empty:\n",
    "        tmp_df.plot()\n",
    "        \n",
    "interact(laptime_chart, car=cars, driver=drivers, driversession=driversessions, driverstint=driverstints);\n"
   ]
  },
  {
   "cell_type": "code",
   "execution_count": 21,
   "metadata": {},
   "outputs": [
    {
     "data": {
      "application/vnd.jupyter.widget-view+json": {
       "model_id": "26512cd6d3ba4cba8b3cb7503a27e1ad",
       "version_major": 2,
       "version_minor": 0
      },
      "text/plain": [
       "interactive(children=(Dropdown(description='Car:', options=('1', '11', '17', '26', '28', '29', '3', '31', '36'…"
      ]
     },
     "metadata": {},
     "output_type": "display_data"
    }
   ],
   "source": [
    "#Also add check boxes to suppress inlap and outlap?\n",
    "inlaps = widgets.Checkbox( value=True, description='Inlap',\n",
    "                           disabled=False )\n",
    "\n",
    "outlaps = widgets.Checkbox( value=True, description='Outlap',\n",
    "                           disabled=False )\n",
    "\n",
    "\n",
    "#Plot laptimes by stint for a specified driver\n",
    "def laptime_charts(car, driver, driversession, inlap, outlap):\n",
    "    tmp_df = laptimes\n",
    "    \n",
    "    if not inlap:\n",
    "        tmp_df = tmp_df[~tmp_df['INLAP']]\n",
    "    if not outlap:\n",
    "        tmp_df = tmp_df[~tmp_df['OUTLAP']]\n",
    "        \n",
    "    tmp_df = tmp_df[(tmp_df['CAR_DRIVER']==driver) &\n",
    "                     (tmp_df['DRIVER_SESSION']==driversession) ].pivot(index='LAPS_DRIVER_STINT',\n",
    "                                                                       columns='DRIVER_SESSION_STINT', \n",
    "                                                                       values='LAP_TIME_S').reset_index(drop=True)\n",
    "    \n",
    "    if not tmp_df.empty:\n",
    "        tmp_df.plot()\n",
    "\n",
    "\n",
    "\n",
    "interact(laptime_charts, car=cars, driver=drivers, driversession=driversessions, inlap=inlaps, outlap=outlaps);\n",
    "\n"
   ]
  },
  {
   "cell_type": "markdown",
   "metadata": {},
   "source": [
    "## Simple Model\n",
    "\n",
    "An example of creating a simple model using some explcitly pulled out data."
   ]
  },
  {
   "cell_type": "code",
   "execution_count": 22,
   "metadata": {},
   "outputs": [
    {
     "data": {
      "text/plain": [
       "1966    161.049\n",
       "1967    157.612\n",
       "1968    155.005\n",
       "1969    153.755\n",
       "1970    153.441\n",
       "1971    153.001\n",
       "1972    154.286\n",
       "1973    153.666\n",
       "1974    153.946\n",
       "1975    153.746\n",
       "1976    153.142\n",
       "1977    153.546\n",
       "1978    153.825\n",
       "1979    154.792\n",
       "1980    152.768\n",
       "1981    153.556\n",
       "1982    157.151\n",
       "1983    159.646\n",
       "1984    157.560\n",
       "1985    172.857\n",
       "1986    215.284\n",
       "1987    300.466\n",
       "1988    231.624\n",
       "Name: LAP_TIME_S, dtype: float64"
      ]
     },
     "execution_count": 22,
     "metadata": {},
     "output_type": "execute_result"
    }
   ],
   "source": [
    "def sample_laptimes(df, driver,driversession,driversessionstint=None, inlap=False, outlap=False):\n",
    "    df = df[(df['CAR_DRIVER']==driver) & (df['DRIVER_SESSION']== driversession)]\n",
    "    if not inlap:\n",
    "        df = df[~df['INLAP']]\n",
    "    if not outlap:\n",
    "        df = df[~df['OUTLAP']]\n",
    "        \n",
    "    if driversessionstint:\n",
    "        return df[df['DRIVER_SESSION_STINT']==driversessionstint]['LAP_TIME_S']\n",
    "    \n",
    "    return df.pivot(index='LAPS_DRIVER_STINT',\n",
    "                    columns='DRIVER_SESSION_STINT',\n",
    "                    values='LAP_TIME_S').reset_index(drop=True)\n",
    "\n",
    "sample_laptimes(laptimes,'56_1', 1, 2)"
   ]
  },
  {
   "cell_type": "markdown",
   "metadata": {},
   "source": [
    "### Some Simple Linear Models\n",
    "\n",
    "Fitted without explanation... we should only accept models that appear to fit, i.e. that have a low error..."
   ]
  },
  {
   "cell_type": "code",
   "execution_count": 23,
   "metadata": {},
   "outputs": [
    {
     "data": {
      "image/png": "[encoded data removed]",
      "text/plain": [
       "<Figure size 360x360 with 1 Axes>"
      ]
     },
     "metadata": {
      "needs_background": "light"
     },
     "output_type": "display_data"
    }
   ],
   "source": [
    "import seaborn as sns\n",
    "\n",
    "sns.lmplot(x='index', y='LAP_TIME_S', data=sample_laptimes(laptimes,'56_1', 1, 2).reset_index());\n"
   ]
  },
  {
   "cell_type": "markdown",
   "metadata": {},
   "source": [
    "We can also increase the order of the fit line (the `ci` parameter toggles the confidence bounds display):"
   ]
  },
  {
   "cell_type": "code",
   "execution_count": 24,
   "metadata": {},
   "outputs": [
    {
     "data": {
      "image/png": "[encoded data removed]",
      "text/plain": [
       "<Figure size 360x360 with 1 Axes>"
      ]
     },
     "metadata": {
      "needs_background": "light"
     },
     "output_type": "display_data"
    }
   ],
   "source": [
    "sns.lmplot(x='index', y='LAP_TIME_S', data=sample_laptimes(laptimes,'56_1', 1, 2).reset_index(),\n",
    "           order = 2, ci=None);\n"
   ]
  },
  {
   "cell_type": "code",
   "execution_count": 27,
   "metadata": {},
   "outputs": [
    {
     "name": "stdout",
     "output_type": "stream",
     "text": [
      "                            OLS Regression Results                            \n",
      "==============================================================================\n",
      "Dep. Variable:             LAP_TIME_S   R-squared:                       0.324\n",
      "Model:                            OLS   Adj. R-squared:                  0.291\n",
      "Method:                 Least Squares   F-statistic:                     10.05\n",
      "Date:                Fri, 05 Jul 2019   Prob (F-statistic):            0.00462\n",
      "Time:                        22:23:59   Log-Likelihood:                -109.49\n",
      "No. Observations:                  23   AIC:                             223.0\n",
      "Df Residuals:                      21   BIC:                             225.2\n",
      "Df Model:                           1                                         \n",
      "Covariance Type:            nonrobust                                         \n",
      "==============================================================================\n",
      "                 coef    std err          t      P>|t|      [0.025      0.975]\n",
      "------------------------------------------------------------------------------\n",
      "const        135.6617     11.942     11.360      0.000     110.827     160.497\n",
      "x1             2.9467      0.930      3.169      0.005       1.013       4.880\n",
      "==============================================================================\n",
      "Omnibus:                       24.104   Durbin-Watson:                   0.754\n",
      "Prob(Omnibus):                  0.000   Jarque-Bera (JB):               38.952\n",
      "Skew:                           1.993   Prob(JB):                     3.48e-09\n",
      "Kurtosis:                       7.976   Cond. No.                         25.0\n",
      "==============================================================================\n",
      "\n",
      "Warnings:\n",
      "[1] Standard Errors assume that the covariance matrix of the errors is correctly specified.\n"
     ]
    }
   ],
   "source": [
    "#Simple model\n",
    "import statsmodels.api as sm\n",
    "\n",
    "\n",
    "Y = sample_laptimes(laptimes,'56_1', 1, 2).reset_index(drop=True)\n",
    "X = Y.index.values\n",
    "X = sm.add_constant(X)\n",
    "\n",
    "model = sm.OLS(Y, X).fit()\n",
    "predictions = model.predict(X) \n",
    "\n",
    "print_model = model.summary()\n",
    "print(print_model)"
   ]
  },
  {
   "cell_type": "code",
   "execution_count": 28,
   "metadata": {},
   "outputs": [
    {
     "data": {
      "image/png": "[encoded data removed]",
      "text/plain": [
       "<Figure size 432x288 with 1 Axes>"
      ]
     },
     "metadata": {
      "needs_background": "light"
     },
     "output_type": "display_data"
    }
   ],
   "source": [
    "p = model.params\n",
    "\n",
    "ax = pd.DataFrame(Y).reset_index().plot(kind='scatter', x='index', y='LAP_TIME_S')\n",
    "ax.plot(X, p.const + p.x1 * X);"
   ]
  },
  {
   "cell_type": "code",
   "execution_count": 29,
   "metadata": {},
   "outputs": [
    {
     "data": {
      "image/png": "[encoded data removed]",
      "text/plain": [
       "<Figure size 432x288 with 1 Axes>"
      ]
     },
     "metadata": {
      "needs_background": "light"
     },
     "output_type": "display_data"
    }
   ],
   "source": [
    "import matplotlib.pyplot as plt\n",
    "\n",
    "# scatter-plot data\n",
    "fig, ax = plt.subplots()\n",
    "fig = sm.graphics.plot_fit(model, 0, ax=ax)"
   ]
  },
  {
   "cell_type": "markdown",
   "metadata": {},
   "source": [
    "## Simple Position Calculations\n",
    "\n",
    "Some simple demonstrations of calculating position data.\n",
    "\n",
    "Naively, calculate position based on lap number and accumulated time (there may be complications based on whether the lead car records a laptine from pit entry...)."
   ]
  },
  {
   "cell_type": "code",
   "execution_count": 30,
   "metadata": {},
   "outputs": [
    {
     "data": {
      "text/html": [
       "<div>\n",
       "<style scoped>\n",
       "    .dataframe tbody tr th:only-of-type {\n",
       "        vertical-align: middle;\n",
       "    }\n",
       "\n",
       "    .dataframe tbody tr th {\n",
       "        vertical-align: top;\n",
       "    }\n",
       "\n",
       "    .dataframe thead th {\n",
       "        text-align: right;\n",
       "    }\n",
       "</style>\n",
       "<table border=\"1\" class=\"dataframe\">\n",
       "  <thead>\n",
       "    <tr style=\"text-align: right;\">\n",
       "      <th></th>\n",
       "      <th>ELAPSED</th>\n",
       "      <th>ELAPSED_S</th>\n",
       "      <th>CHECK_ELAPSED_S</th>\n",
       "    </tr>\n",
       "  </thead>\n",
       "  <tbody>\n",
       "    <tr>\n",
       "      <th>4227</th>\n",
       "      <td>5:30:09.132</td>\n",
       "      <td>19809.132</td>\n",
       "      <td>19809.132</td>\n",
       "    </tr>\n",
       "    <tr>\n",
       "      <th>4228</th>\n",
       "      <td>5:34:28.852</td>\n",
       "      <td>20068.852</td>\n",
       "      <td>20068.852</td>\n",
       "    </tr>\n",
       "    <tr>\n",
       "      <th>4229</th>\n",
       "      <td>5:38:03.099</td>\n",
       "      <td>20283.099</td>\n",
       "      <td>20283.099</td>\n",
       "    </tr>\n",
       "    <tr>\n",
       "      <th>4230</th>\n",
       "      <td>5:41:23.769</td>\n",
       "      <td>20483.769</td>\n",
       "      <td>20483.769</td>\n",
       "    </tr>\n",
       "    <tr>\n",
       "      <th>4231</th>\n",
       "      <td>5:44:49.972</td>\n",
       "      <td>20689.972</td>\n",
       "      <td>20689.972</td>\n",
       "    </tr>\n",
       "  </tbody>\n",
       "</table>\n",
       "</div>"
      ],
      "text/plain": [
       "          ELAPSED  ELAPSED_S  CHECK_ELAPSED_S\n",
       "4227  5:30:09.132  19809.132        19809.132\n",
       "4228  5:34:28.852  20068.852        20068.852\n",
       "4229  5:38:03.099  20283.099        20283.099\n",
       "4230  5:41:23.769  20483.769        20483.769\n",
       "4231  5:44:49.972  20689.972        20689.972"
      ]
     },
     "execution_count": 30,
     "metadata": {},
     "output_type": "execute_result"
    }
   ],
   "source": [
    "#Find accumulated time in seconds\n",
    "laptimes['ELAPSED_S']=laptimes['ELAPSED'].apply(getTime)\n",
    "\n",
    "\n",
    "#Check\n",
    "laptimes['CHECK_ELAPSED_S'] = laptimes.groupby('NUMBER')['LAP_TIME_S'].cumsum()\n",
    "\n",
    "laptimes[['ELAPSED','ELAPSED_S','CHECK_ELAPSED_S']].tail()"
   ]
  },
  {
   "cell_type": "markdown",
   "metadata": {},
   "source": [
    "We can use the position to identify the leader on each lap and from that a count of leadlap number for each car:"
   ]
  },
  {
   "cell_type": "code",
   "execution_count": 31,
   "metadata": {},
   "outputs": [
    {
     "data": {
      "text/html": [
       "<div>\n",
       "<style scoped>\n",
       "    .dataframe tbody tr th:only-of-type {\n",
       "        vertical-align: middle;\n",
       "    }\n",
       "\n",
       "    .dataframe tbody tr th {\n",
       "        vertical-align: top;\n",
       "    }\n",
       "\n",
       "    .dataframe thead th {\n",
       "        text-align: right;\n",
       "    }\n",
       "</style>\n",
       "<table border=\"1\" class=\"dataframe\">\n",
       "  <thead>\n",
       "    <tr style=\"text-align: right;\">\n",
       "      <th></th>\n",
       "      <th>LAP_NUMBER</th>\n",
       "      <th>LEAD_LAP_NUMBER</th>\n",
       "    </tr>\n",
       "  </thead>\n",
       "  <tbody>\n",
       "    <tr>\n",
       "      <th>2629</th>\n",
       "      <td>120</td>\n",
       "      <td>133</td>\n",
       "    </tr>\n",
       "    <tr>\n",
       "      <th>1293</th>\n",
       "      <td>127</td>\n",
       "      <td>133</td>\n",
       "    </tr>\n",
       "    <tr>\n",
       "      <th>1517</th>\n",
       "      <td>95</td>\n",
       "      <td>133</td>\n",
       "    </tr>\n",
       "    <tr>\n",
       "      <th>3377</th>\n",
       "      <td>121</td>\n",
       "      <td>133</td>\n",
       "    </tr>\n",
       "    <tr>\n",
       "      <th>1643</th>\n",
       "      <td>126</td>\n",
       "      <td>133</td>\n",
       "    </tr>\n",
       "  </tbody>\n",
       "</table>\n",
       "</div>"
      ],
      "text/plain": [
       "      LAP_NUMBER  LEAD_LAP_NUMBER\n",
       "2629         120              133\n",
       "1293         127              133\n",
       "1517          95              133\n",
       "3377         121              133\n",
       "1643         126              133"
      ]
     },
     "execution_count": 31,
     "metadata": {},
     "output_type": "execute_result"
    }
   ],
   "source": [
    "#Find position based on accumulated laptime\n",
    "laptimes = laptimes.sort_values('ELAPSED_S')\n",
    "laptimes['POS'] = laptimes.groupby('LAP_NUMBER')['ELAPSED_S'].rank()\n",
    "\n",
    "#Find leader naively\n",
    "laptimes['leader'] = laptimes['POS']==1\n",
    "\n",
    "#Find lead lap number\n",
    "laptimes['LEAD_LAP_NUMBER'] = laptimes['leader'].cumsum()\n",
    "\n",
    "laptimes[['LAP_NUMBER','LEAD_LAP_NUMBER']].tail()"
   ]
  },
  {
   "cell_type": "markdown",
   "metadata": {},
   "source": [
    "## Simple Position Chart - Top 10 At End\n",
    "\n",
    "Find last lap number, then get top 10 on that lap."
   ]
  },
  {
   "cell_type": "code",
   "execution_count": 32,
   "metadata": {},
   "outputs": [
    {
     "data": {
      "text/plain": [
       "133"
      ]
     },
     "execution_count": 32,
     "metadata": {},
     "output_type": "execute_result"
    }
   ],
   "source": [
    "LAST_LAP = laptimes['LEAD_LAP_NUMBER'].max()\n",
    "LAST_LAP"
   ]
  },
  {
   "cell_type": "code",
   "execution_count": 33,
   "metadata": {},
   "outputs": [
    {
     "data": {
      "text/html": [
       "<div>\n",
       "<style scoped>\n",
       "    .dataframe tbody tr th:only-of-type {\n",
       "        vertical-align: middle;\n",
       "    }\n",
       "\n",
       "    .dataframe tbody tr th {\n",
       "        vertical-align: top;\n",
       "    }\n",
       "\n",
       "    .dataframe thead th {\n",
       "        text-align: right;\n",
       "    }\n",
       "</style>\n",
       "<table border=\"1\" class=\"dataframe\">\n",
       "  <thead>\n",
       "    <tr style=\"text-align: right;\">\n",
       "      <th></th>\n",
       "      <th>NUMBER</th>\n",
       "      <th>TEAM</th>\n",
       "      <th>DRIVER_NAME</th>\n",
       "      <th>CLASS</th>\n",
       "      <th>LAP_NUMBER</th>\n",
       "      <th>ELAPSED</th>\n",
       "    </tr>\n",
       "  </thead>\n",
       "  <tbody>\n",
       "    <tr>\n",
       "      <th>1</th>\n",
       "      <td>8</td>\n",
       "      <td>Toyota Gazoo Racing</td>\n",
       "      <td>Fernando ALONSO</td>\n",
       "      <td>LMP1</td>\n",
       "      <td>133</td>\n",
       "      <td>5:44:41.101</td>\n",
       "    </tr>\n",
       "    <tr>\n",
       "      <th>2</th>\n",
       "      <td>3</td>\n",
       "      <td>Rebellion Racing</td>\n",
       "      <td>Thomas LAURENT</td>\n",
       "      <td>LMP1</td>\n",
       "      <td>132</td>\n",
       "      <td>5:44:58.794</td>\n",
       "    </tr>\n",
       "    <tr>\n",
       "      <th>3</th>\n",
       "      <td>11</td>\n",
       "      <td>SMP Racing</td>\n",
       "      <td>Mikhail ALESHIN</td>\n",
       "      <td>LMP1</td>\n",
       "      <td>132</td>\n",
       "      <td>5:45:05.350</td>\n",
       "    </tr>\n",
       "    <tr>\n",
       "      <th>4</th>\n",
       "      <td>17</td>\n",
       "      <td>SMP Racing</td>\n",
       "      <td>Sergey SIROTKIN</td>\n",
       "      <td>LMP1</td>\n",
       "      <td>131</td>\n",
       "      <td>5:45:01.895</td>\n",
       "    </tr>\n",
       "    <tr>\n",
       "      <th>5</th>\n",
       "      <td>1</td>\n",
       "      <td>Rebellion Racing</td>\n",
       "      <td>Bruno SENNA</td>\n",
       "      <td>LMP1</td>\n",
       "      <td>130</td>\n",
       "      <td>5:44:44.193</td>\n",
       "    </tr>\n",
       "    <tr>\n",
       "      <th>6</th>\n",
       "      <td>7</td>\n",
       "      <td>Toyota Gazoo Racing</td>\n",
       "      <td>Kamui KOBAYASHI</td>\n",
       "      <td>LMP1</td>\n",
       "      <td>129</td>\n",
       "      <td>5:44:45.682</td>\n",
       "    </tr>\n",
       "    <tr>\n",
       "      <th>7</th>\n",
       "      <td>31</td>\n",
       "      <td>DragonSpeed</td>\n",
       "      <td>Pastor MALDONADO</td>\n",
       "      <td>LMP2</td>\n",
       "      <td>129</td>\n",
       "      <td>5:44:55.919</td>\n",
       "    </tr>\n",
       "    <tr>\n",
       "      <th>8</th>\n",
       "      <td>26</td>\n",
       "      <td>G-Drive Racing</td>\n",
       "      <td>Jean-Eric VERGNE</td>\n",
       "      <td>LMP2</td>\n",
       "      <td>129</td>\n",
       "      <td>5:44:59.874</td>\n",
       "    </tr>\n",
       "    <tr>\n",
       "      <th>9</th>\n",
       "      <td>36</td>\n",
       "      <td>Signatech Alpine Matmut</td>\n",
       "      <td>Nicolas LAPIERRE</td>\n",
       "      <td>LMP2</td>\n",
       "      <td>129</td>\n",
       "      <td>5:45:00.351</td>\n",
       "    </tr>\n",
       "    <tr>\n",
       "      <th>10</th>\n",
       "      <td>38</td>\n",
       "      <td>Jackie Chan DC Racing</td>\n",
       "      <td>Gabriel AUBRY</td>\n",
       "      <td>LMP2</td>\n",
       "      <td>129</td>\n",
       "      <td>5:45:04.546</td>\n",
       "    </tr>\n",
       "  </tbody>\n",
       "</table>\n",
       "</div>"
      ],
      "text/plain": [
       "   NUMBER                     TEAM       DRIVER_NAME CLASS  LAP_NUMBER  \\\n",
       "1       8      Toyota Gazoo Racing   Fernando ALONSO  LMP1         133   \n",
       "2       3         Rebellion Racing    Thomas LAURENT  LMP1         132   \n",
       "3      11               SMP Racing   Mikhail ALESHIN  LMP1         132   \n",
       "4      17               SMP Racing   Sergey SIROTKIN  LMP1         131   \n",
       "5       1         Rebellion Racing       Bruno SENNA  LMP1         130   \n",
       "6       7      Toyota Gazoo Racing   Kamui KOBAYASHI  LMP1         129   \n",
       "7      31              DragonSpeed  Pastor MALDONADO  LMP2         129   \n",
       "8      26           G-Drive Racing  Jean-Eric VERGNE  LMP2         129   \n",
       "9      36  Signatech Alpine Matmut  Nicolas LAPIERRE  LMP2         129   \n",
       "10     38    Jackie Chan DC Racing     Gabriel AUBRY  LMP2         129   \n",
       "\n",
       "        ELAPSED  \n",
       "1   5:44:41.101  \n",
       "2   5:44:58.794  \n",
       "3   5:45:05.350  \n",
       "4   5:45:01.895  \n",
       "5   5:44:44.193  \n",
       "6   5:44:45.682  \n",
       "7   5:44:55.919  \n",
       "8   5:44:59.874  \n",
       "9   5:45:00.351  \n",
       "10  5:45:04.546  "
      ]
     },
     "execution_count": 33,
     "metadata": {},
     "output_type": "execute_result"
    }
   ],
   "source": [
    "#Find top 10 at end\n",
    "cols = ['NUMBER','TEAM', 'DRIVER_NAME', 'CLASS','LAP_NUMBER','ELAPSED']\n",
    "top10 = laptimes[laptimes['LEAD_LAP_NUMBER']==LAST_LAP].sort_values(['LEAD_LAP_NUMBER', 'POS'])[cols].head(10).reset_index(drop=True)\n",
    "top10.index += 1\n",
    "top10"
   ]
  },
  {
   "cell_type": "code",
   "execution_count": null,
   "metadata": {},
   "outputs": [],
   "source": []
  }
 ],
 "metadata": {
  "kernelspec": {
   "display_name": "Python 3",
   "language": "python",
   "name": "python3"
  }
 },
 "nbformat": 4,
 "nbformat_minor": 2
}
